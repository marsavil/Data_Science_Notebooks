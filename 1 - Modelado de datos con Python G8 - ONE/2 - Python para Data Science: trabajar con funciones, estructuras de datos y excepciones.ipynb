{
  "cells": [
    {
      "cell_type": "markdown",
      "metadata": {
        "colab_type": "text",
        "id": "view-in-github"
      },
      "source": [
        "<a href=\"https://colab.research.google.com/github/marsavil/Data_Science_Notebooks/blob/main/Python%20para%20Data%20Science%3A%20trabajar%20con%20funciones%2C%20estructuras%20de%20datos%20y%20excepciones.ipynb\" target=\"_parent\"><img src=\"https://colab.research.google.com/assets/colab-badge.svg\" alt=\"Open In Colab\"/></a>"
      ]
    },
    {
      "cell_type": "markdown",
      "metadata": {
        "id": "AGc2Cf4cBwd7"
      },
      "source": [
        "# <font color=green> **PYTHON PARA DATA SCIENCE**\n",
        "---"
      ]
    },
    {
      "cell_type": "markdown",
      "metadata": {
        "id": "fH2br9y9CYZ8"
      },
      "source": [
        "## <font color=green> 1. BIBLIOTECAS\n",
        "---"
      ]
    },
    {
      "cell_type": "markdown",
      "metadata": {
        "id": "jjEKgfiuFzHz"
      },
      "source": [
        "## 1.1 Instalación e importación de bibliotecas\n",
        "\n",
        "En el lenguaje Python se utiliza bastante el concepto de bibliotecas como un conjunto de módulos y funciones útiles para el usuario. Estas favorecen la reducción del uso de códigos en el proyecto, manteniendo únicamente los recursos necesarios para la tarea que deseamos realizar."
      ]
    },
    {
      "cell_type": "markdown",
      "metadata": {
        "id": "JjpazCgqDRfZ"
      },
      "source": [
        "### Instalando una biblioteca"
      ]
    },
    {
      "cell_type": "markdown",
      "metadata": {
        "id": "_qnuIo7oIQYx"
      },
      "source": [
        "Para instalar o actualizar una biblioteca en Python, podemos acudir a `pip` que es un gestor de bibliotecas en Python."
      ]
    },
    {
      "cell_type": "markdown",
      "metadata": {
        "id": "IHTmQnlXInD1"
      },
      "source": [
        "Existe también PYPI que es un repositorio de bibliotecas Python que contiene las bibliotecas más utilizadas por la comunidad junto a su respectiva documentación.\n",
        "\n",
        "- PYPI ([https://pypi.org/](https://pypi.org/))"
      ]
    },
    {
      "cell_type": "code",
      "execution_count": 46,
      "metadata": {
        "colab": {
          "base_uri": "https://localhost:8080/"
        },
        "id": "Rv5sIo7NM5VS",
        "outputId": "6f8e46d5-e41c-47fc-c2e3-149a2caa4750"
      },
      "outputs": [],
      "source": [
        "#pip install matplotlib"
      ]
    },
    {
      "cell_type": "code",
      "execution_count": 47,
      "metadata": {
        "colab": {
          "base_uri": "https://localhost:8080/",
          "height": 35
        },
        "id": "REYsDRqHM6hN",
        "outputId": "a76f03e9-be1a-4c42-894d-5341245d11aa"
      },
      "outputs": [],
      "source": [
        "#matplotlib.__version__"
      ]
    },
    {
      "cell_type": "markdown",
      "metadata": {
        "id": "A76TbnDbDehe"
      },
      "source": [
        "### Importando una biblioteca"
      ]
    },
    {
      "cell_type": "code",
      "execution_count": 48,
      "metadata": {
        "id": "_xUxLlZFM728"
      },
      "outputs": [],
      "source": [
        "import matplotlib.pyplot as plt\n"
      ]
    },
    {
      "cell_type": "markdown",
      "metadata": {
        "id": "oMxkV9-6GXwH"
      },
      "source": [
        "## 1.2 Utilizando módulos/bibliotecas\n",
        "\n",
        "- Documentación de Python (https://docs.python.org/es/3/)"
      ]
    },
    {
      "cell_type": "markdown",
      "metadata": {
        "id": "W1MHaXB2Q7tT"
      },
      "source": [
        "#### Ejemplo 1: Vamos a probar la biblioteca Matplotlib para un ejemplo sobre el cálculo de los promedios de notas de los estudiantes de una clase.\n",
        "\n",
        "(https://matplotlib.org/stable/tutorials/introductory/pyplot.html)"
      ]
    },
    {
      "cell_type": "code",
      "execution_count": 49,
      "metadata": {
        "id": "hme-WlDYM-Od"
      },
      "outputs": [],
      "source": [
        "estudiantes = ['Juan', 'Maria', 'José', 'Claudia', 'Ana']\n",
        "notas = [8.0, 9.0, 10.0, 3.4, 6.0]"
      ]
    },
    {
      "cell_type": "code",
      "execution_count": 50,
      "metadata": {
        "colab": {
          "base_uri": "https://localhost:8080/",
          "height": 430
        },
        "id": "mv1h3vJsM-RK",
        "outputId": "eec89100-0540-438c-977f-c6c4d42e568c"
      },
      "outputs": [
        {
          "data": {
            "image/png": "[encoded data removed]",
            "text/plain": [
              "<Figure size 640x480 with 1 Axes>"
            ]
          },
          "metadata": {},
          "output_type": "display_data"
        }
      ],
      "source": [
        "plt.bar(estudiantes, notas)\n",
        "plt.show()"
      ]
    },
    {
      "cell_type": "markdown",
      "metadata": {
        "id": "5G6u4ZRYRIFZ"
      },
      "source": [
        "#### Ejemplo 2: Vamos a seleccionar aleatoriamente a un alumno para presentar su trabajo de ciencia de datos usando la biblioteca `random`.\n",
        "\n",
        "(https://docs.python.org/es/3/library/random.html)"
      ]
    },
    {
      "cell_type": "code",
      "execution_count": 51,
      "metadata": {
        "id": "Y4o2AvhWNBdM"
      },
      "outputs": [],
      "source": [
        "import random"
      ]
    },
    {
      "cell_type": "markdown",
      "metadata": {
        "id": "N-XJrnISGpTN"
      },
      "source": [
        "<font color=green>**Tip:**</font> Podrás notar a medida que avanzas en los ejercicios la importancia de acudir a la documentación para aprender cómo utilizar un método de algún módulo en el lenguaje Python.\n",
        "\n",
        "El método `help()`, por ejemplo, retorna una descripción sobre una variable, método o clase.\n",
        "\n",
        "https://docs.python.org/es/3/library/functions.html?#help"
      ]
    },
    {
      "cell_type": "code",
      "execution_count": 52,
      "metadata": {
        "id": "a2zJCXNUND9X"
      },
      "outputs": [],
      "source": [
        "from random import choice"
      ]
    },
    {
      "cell_type": "code",
      "execution_count": 53,
      "metadata": {
        "colab": {
          "base_uri": "https://localhost:8080/",
          "height": 35
        },
        "id": "2Yvr71PIND_r",
        "outputId": "174c72c5-9ab1-4afe-b6ec-39735cb0acf9"
      },
      "outputs": [
        {
          "data": {
            "text/plain": [
              "'Juan'"
            ]
          },
          "execution_count": 53,
          "metadata": {},
          "output_type": "execute_result"
        }
      ],
      "source": [
        "estudiante = choice(estudiantes)\n",
        "estudiante"
      ]
    },
    {
      "cell_type": "code",
      "execution_count": 54,
      "metadata": {
        "colab": {
          "base_uri": "https://localhost:8080/"
        },
        "id": "UFfZz4CxNGjU",
        "outputId": "851daa4f-d6ec-4538-93d7-553ff7bc4522"
      },
      "outputs": [
        {
          "name": "stdout",
          "output_type": "stream",
          "text": [
            "Help on method choice in module random:\n",
            "\n",
            "choice(seq) method of random.Random instance\n",
            "    Choose a random element from a non-empty sequence.\n",
            "\n"
          ]
        }
      ],
      "source": [
        "help(choice)"
      ]
    },
    {
      "cell_type": "markdown",
      "metadata": {
        "id": "z7Uwso_QzfkG"
      },
      "source": [
        "## Ejercicios"
      ]
    },
    {
      "cell_type": "markdown",
      "metadata": {
        "id": "VbEayLRdzj2C"
      },
      "source": [
        "Calentamiento\n",
        "\n",
        "1 - Escribe un código para instalar la versión 3.10.1 de la biblioteca matplotlib."
      ]
    },
    {
      "cell_type": "code",
      "execution_count": 55,
      "metadata": {
        "colab": {
          "base_uri": "https://localhost:8080/"
        },
        "id": "HucRieJFznBf",
        "outputId": "679b945c-b0b8-4108-8acc-80dcf6156490"
      },
      "outputs": [
        {
          "name": "stdout",
          "output_type": "stream",
          "text": [
            "Requirement already satisfied: matplotlib==3.10.1 in /home/griselda/Documentos/Repositorios/Data_Science_Notebooks/venv/lib/python3.10/site-packages (3.10.1)\n",
            "Requirement already satisfied: contourpy>=1.0.1 in /home/griselda/Documentos/Repositorios/Data_Science_Notebooks/venv/lib/python3.10/site-packages (from matplotlib==3.10.1) (1.3.2)\n",
            "Requirement already satisfied: pillow>=8 in /home/griselda/Documentos/Repositorios/Data_Science_Notebooks/venv/lib/python3.10/site-packages (from matplotlib==3.10.1) (11.3.0)\n",
            "Requirement already satisfied: kiwisolver>=1.3.1 in /home/griselda/Documentos/Repositorios/Data_Science_Notebooks/venv/lib/python3.10/site-packages (from matplotlib==3.10.1) (1.4.8)\n",
            "Requirement already satisfied: packaging>=20.0 in /home/griselda/Documentos/Repositorios/Data_Science_Notebooks/venv/lib/python3.10/site-packages (from matplotlib==3.10.1) (25.0)\n",
            "Requirement already satisfied: numpy>=1.23 in /home/griselda/Documentos/Repositorios/Data_Science_Notebooks/venv/lib/python3.10/site-packages (from matplotlib==3.10.1) (2.2.6)\n",
            "Requirement already satisfied: pyparsing>=2.3.1 in /home/griselda/Documentos/Repositorios/Data_Science_Notebooks/venv/lib/python3.10/site-packages (from matplotlib==3.10.1) (3.2.3)\n",
            "Requirement already satisfied: cycler>=0.10 in /home/griselda/Documentos/Repositorios/Data_Science_Notebooks/venv/lib/python3.10/site-packages (from matplotlib==3.10.1) (0.12.1)\n",
            "Requirement already satisfied: python-dateutil>=2.7 in /home/griselda/Documentos/Repositorios/Data_Science_Notebooks/venv/lib/python3.10/site-packages (from matplotlib==3.10.1) (2.9.0.post0)\n",
            "Requirement already satisfied: fonttools>=4.22.0 in /home/griselda/Documentos/Repositorios/Data_Science_Notebooks/venv/lib/python3.10/site-packages (from matplotlib==3.10.1) (4.58.5)\n",
            "Requirement already satisfied: six>=1.5 in /home/griselda/Documentos/Repositorios/Data_Science_Notebooks/venv/lib/python3.10/site-packages (from python-dateutil>=2.7->matplotlib==3.10.1) (1.17.0)\n"
          ]
        }
      ],
      "source": [
        "!pip install matplotlib==3.10.1"
      ]
    },
    {
      "cell_type": "markdown",
      "metadata": {
        "id": "fK1M5_J20dPW"
      },
      "source": [
        "2 - Escribe un código para importar la biblioteca numpy con el alias np."
      ]
    },
    {
      "cell_type": "code",
      "execution_count": 56,
      "metadata": {
        "id": "4gNfmcsY0e57"
      },
      "outputs": [],
      "source": [
        "import numpy as np"
      ]
    },
    {
      "cell_type": "markdown",
      "metadata": {
        "id": "kBRlsRrO1RFA"
      },
      "source": [
        "3 - Crea un programa que lea la siguiente lista de números y elija uno al azar."
      ]
    },
    {
      "cell_type": "code",
      "execution_count": 57,
      "metadata": {
        "colab": {
          "base_uri": "https://localhost:8080/"
        },
        "id": "N62g6Lq41S8i",
        "outputId": "8183e60f-7770-47c8-b0f0-1ac91829dae0"
      },
      "outputs": [
        {
          "data": {
            "text/plain": [
              "43"
            ]
          },
          "execution_count": 57,
          "metadata": {},
          "output_type": "execute_result"
        }
      ],
      "source": [
        "from random import choice\n",
        "lista = [8, 12, 54, 23, 43, 1, 90, 87, 105, 77]\n",
        "num = choice(lista)\n",
        "num"
      ]
    },
    {
      "cell_type": "markdown",
      "metadata": {
        "id": "auwMY-ww1xO1"
      },
      "source": [
        "4 - Crea un programa que genere aleatoriamente un número entero menor que 100."
      ]
    },
    {
      "cell_type": "code",
      "execution_count": 58,
      "metadata": {
        "colab": {
          "base_uri": "https://localhost:8080/"
        },
        "id": "_WtMDrr31yte",
        "outputId": "89285129-57ac-4d59-9ad2-08817997d593"
      },
      "outputs": [
        {
          "data": {
            "text/plain": [
              "60"
            ]
          },
          "execution_count": 58,
          "metadata": {},
          "output_type": "execute_result"
        }
      ],
      "source": [
        "num = random.randint(0, 100)\n",
        "num"
      ]
    },
    {
      "cell_type": "markdown",
      "metadata": {
        "id": "8O9d-Hag19AN"
      },
      "source": [
        "5 - Crea un programa que solicite a la persona usuaria ingresar dos números enteros y calcule la potencia del primer número elevado al segundo."
      ]
    },
    {
      "cell_type": "code",
      "execution_count": 59,
      "metadata": {
        "colab": {
          "base_uri": "https://localhost:8080/"
        },
        "id": "3AP2hzvD2Bsj",
        "outputId": "db2f5c68-b74f-4f80-acc4-175502ab3849"
      },
      "outputs": [
        {
          "name": "stdout",
          "output_type": "stream",
          "text": [
            "El resultado de elevar 10 a la 12° potencia es 1000000000000\n"
          ]
        }
      ],
      "source": [
        "try:\n",
        "  num1 = int(input(\"Ingresa un número entero: \"))\n",
        "  num2 = int (input(\"Ingresa un segunto número entero, el cual será la potencia del pregviamente solicitado: \"))\n",
        "  result = num1 ** num2\n",
        "  print(f'El resultado de elevar {num1} a la {num2}° potencia es {result}')\n",
        "except:\n",
        "  ValueError(\"Debe ingresar número enteros\")"
      ]
    },
    {
      "cell_type": "markdown",
      "metadata": {
        "id": "MR8jBvPP3TqC"
      },
      "source": [
        "Aplicando a proyectos\n",
        "\n",
        "6 - Se debe escribir un programa para sortear a un seguidor de una red social para ganar un premio. La lista de participantes está numerada y debemos elegir aleatoriamente un número según la cantidad de participantes. Pide a la persona usuaria que proporcione el número de participantes del sorteo y devuelve el número sorteado."
      ]
    },
    {
      "cell_type": "code",
      "execution_count": 60,
      "metadata": {
        "colab": {
          "base_uri": "https://localhost:8080/"
        },
        "id": "fz6fsAVf3vjb",
        "outputId": "1b7ab197-916f-4dba-a3a9-dbf280acf477"
      },
      "outputs": [
        {
          "name": "stdout",
          "output_type": "stream",
          "text": [
            "El número ganador es: 5\n"
          ]
        }
      ],
      "source": [
        "try:\n",
        "  num = int(input(\"Ingresa la cnatidad de participantes en el sorteo: \"))\n",
        "  participantes = list(range(1, num))\n",
        "  ganador = choice(participantes)\n",
        "  print(f'El número ganador es: {ganador}')\n",
        "except:\n",
        "  ValueError(\"Debe ingresar un número entero\")"
      ]
    },
    {
      "cell_type": "markdown",
      "metadata": {
        "id": "0f5wRljZ47z3"
      },
      "source": [
        "7 - Has recibido una solicitud para generar números de token para acceder a la aplicación de una empresa. El token debe ser par y variar de 1000 a 9998. Escribe un código que solicite el nombre de la persona usuaria y muestre un mensaje junto a este token generado aleatoriamente.\n",
        "\n",
        "print(f\"Hola, {nombre_usuario}, tu token de acceso es {token_generado} ¡Bienvenido/a!\")"
      ]
    },
    {
      "cell_type": "code",
      "execution_count": 61,
      "metadata": {
        "colab": {
          "base_uri": "https://localhost:8080/"
        },
        "id": "UUHxHnzC49Of",
        "outputId": "955f2f5b-a1c9-4ce5-9016-e58da1dfa301"
      },
      "outputs": [
        {
          "name": "stdout",
          "output_type": "stream",
          "text": [
            "Hola, m, tu token de acceso es 7430 ¡Bienvenido/a!\n"
          ]
        }
      ],
      "source": [
        "\n",
        "nombre = input(\"Ingresa tu nombre: \")\n",
        "token = random.randrange(1000, 9999, 2)\n",
        "print(f\"Hola, {nombre}, tu token de acceso es {token} ¡Bienvenido/a!\")\n"
      ]
    },
    {
      "cell_type": "markdown",
      "metadata": {
        "id": "w-uerkx95yWd"
      },
      "source": [
        "8 - Para diversificar y atraer nuevos clientes, una lanchonete creó un ítem misterioso en su menú llamado \"ensalada de frutas sorpresa\". En este ítem, se eligen aleatoriamente 3 frutas de una lista de 12 para componer la ensalada de frutas del cliente. Crea el código que realice esta selección aleatoria según la lista dada.\n",
        "\n",
        "frutas = [\"manzana\", \"banana\", \"uva\", \"pera\", \"mango\", \"coco\", \"sandia\", \"fresa\", \"naranja\", \"maracuya\", \"kiwi\", \"cereza\"]"
      ]
    },
    {
      "cell_type": "code",
      "execution_count": 62,
      "metadata": {
        "colab": {
          "base_uri": "https://localhost:8080/"
        },
        "id": "Rl9pi4Gx55YA",
        "outputId": "ae0930a9-232d-4301-f549-09ae1f173147"
      },
      "outputs": [
        {
          "name": "stdout",
          "output_type": "stream",
          "text": [
            "La ensalada de frutas misteriosa elegida contiene ['banana', 'maracuya', 'y', 'naranja']\n"
          ]
        }
      ],
      "source": [
        "from random import sample\n",
        "frutas = [\"manzana\", \"banana\", \"uva\", \"pera\", \"mango\", \"coco\", \"sandia\", \"fresa\", \"naranja\", \"maracuya\", \"kiwi\", \"cereza\"]\n",
        "\n",
        "fruta1, fruta2, fruta3 = sample(frutas, 3)\n",
        "ensalada_misterio = [fruta1, fruta2,\"y\", fruta3]\n",
        "\n",
        "print(f'La ensalada de frutas misteriosa elegida contiene {ensalada_misterio}')"
      ]
    },
    {
      "cell_type": "markdown",
      "metadata": {
        "id": "Wo2fHph_76HU"
      },
      "source": [
        "9 - Has recibido un desafío para calcular la raíz cuadrada de una lista de números, identificando cuáles resultan en un número entero. La lista es la siguiente:\n",
        "\n",
        "numeros = [2, 8, 15, 23, 91, 112, 256]"
      ]
    },
    {
      "cell_type": "code",
      "execution_count": 63,
      "metadata": {
        "colab": {
          "base_uri": "https://localhost:8080/"
        },
        "id": "IGYp9E297_Z4",
        "outputId": "44c1a9b8-2408-4e30-a4d7-09ff92c4c965"
      },
      "outputs": [
        {
          "name": "stdout",
          "output_type": "stream",
          "text": [
            "Estos son los números con raices enteras: {256: 16}\n"
          ]
        },
        {
          "data": {
            "text/plain": [
              "'\\nfrom math import sqrt\\n\\nnumeros = [2, 8, 15, 23, 91, 112, 256]\\nraices_enteras = {}\\n\\nfor num in numeros:\\n    raiz = sqrt(num)\\n    if raiz.is_integer():\\n        raices_enteras[num] = int(raiz)  # o float(raiz) si querés mantener el decimal \".0\"\\n\\nprint(f\\'Estos son los números con raíces enteras: {raices_enteras}\\')\\n'"
            ]
          },
          "execution_count": 63,
          "metadata": {},
          "output_type": "execute_result"
        }
      ],
      "source": [
        "from math import sqrt\n",
        "numeros = [2, 8, 15, 23, 91, 112, 256]\n",
        "raices = []\n",
        "raices_enteras = {}\n",
        "\n",
        "for num in numeros:\n",
        "  raiz = sqrt(num)\n",
        "  raices.append(raiz)\n",
        "\n",
        "for num, raiz in zip(numeros, raices):\n",
        "  if raiz.is_integer():\n",
        "    raices_enteras[num] = int(raiz)\n",
        "\n",
        "print(f'Estos son los números con raices enteras: {raices_enteras}')\n",
        "\n",
        "\n",
        "'''\n",
        "from math import sqrt\n",
        "\n",
        "numeros = [2, 8, 15, 23, 91, 112, 256]\n",
        "raices_enteras = {}\n",
        "\n",
        "for num in numeros:\n",
        "    raiz = sqrt(num)\n",
        "    if raiz.is_integer():\n",
        "        raices_enteras[num] = int(raiz)  # o float(raiz) si querés mantener el decimal \".0\"\n",
        "\n",
        "print(f'Estos son los números con raíces enteras: {raices_enteras}')\n",
        "'''"
      ]
    },
    {
      "cell_type": "markdown",
      "metadata": {
        "id": "h-U6GREBBHCG"
      },
      "source": [
        "10 - Haz un programa para una tienda que vende césped para jardines. Esta tienda trabaja con jardines circulares y el precio del metro cuadrado de césped es de R$ 25,00. Pide a la persona usuaria el radio del área circular y devuelve el valor en reales de cuánto tendrá que pagar."
      ]
    },
    {
      "cell_type": "code",
      "execution_count": 64,
      "metadata": {
        "colab": {
          "base_uri": "https://localhost:8080/"
        },
        "id": "R6VR8hqBBZg2",
        "outputId": "4c620124-be56-45fe-9634-ef91574729a2"
      },
      "outputs": [
        {
          "name": "stdout",
          "output_type": "stream",
          "text": [
            "El total a abornar por 10.18 m² es de $254.47\n"
          ]
        }
      ],
      "source": [
        "from math import pi\n",
        "\n",
        "unidad = \"m\\u00b2\"\n",
        "\n",
        "while True:\n",
        "  try:\n",
        "    valor_cesped = 25\n",
        "    entrada = input(\"Ingrese la medida exacta en metros del radio de su jardín circular: \")\n",
        "    radio = float(entrada)\n",
        "    superficie = pi * radio**2\n",
        "    costo = superficie * valor_cesped\n",
        "    print(f'El total a abornar por {superficie:.2f} {unidad} es de ${costo:.2f}')\n",
        "    break\n",
        "  except ValueError:\n",
        "    print(f'{entrada} no es un valor correcto. Vuelva a intentar')"
      ]
    },
    {
      "cell_type": "markdown",
      "metadata": {
        "id": "2hrSPmlcBwWS"
      },
      "source": [
        "## <font color=green> 2. FUNCIONES\n",
        "---"
      ]
    },
    {
      "cell_type": "markdown",
      "metadata": {
        "id": "gC4lHsW-DREY"
      },
      "source": [
        "En Python, las **funciones** son secuencias de instrucciones que ejecutan tareas específicas, permitiendo su reutilización en diferentes partes del código. Estas pueden recibir parámetros de entrada (que también los conocemos como *inputs*) y también retornar resultados."
      ]
    },
    {
      "cell_type": "markdown",
      "metadata": {
        "id": "Qr_h1_UNEzHZ"
      },
      "source": [
        "## 2.1 Built-in function (Función Incorporada)\n",
        "\n",
        "El interpretador de Python contiene una serie de funciones incorporadas que pueden ser invocadas es cualquier momento. Algunas que vamos a utilizar a lo largo de este curso son: `type()`, `print()`, `list()`, `zip()`, `sum()`, `map()`, etc.\n",
        "\n",
        "***Documentación:***\n",
        "https://docs.python.org/es/3/library/functions.html\n"
      ]
    },
    {
      "cell_type": "markdown",
      "metadata": {
        "id": "MMOJIW3TyLIB"
      },
      "source": [
        "#### **Situación 1:**\n",
        "\n",
        "La institución educativa para la cual nos encontramos trabajando compartió los datos de las notas de un estudiante para que pudiesemos calcular su promedio con una casilla decimal.\n",
        "\n",
        "Los datos recibidos corresponden a un diccionario cuyas llaves indican el trimestre en cuestión y sus valores corresponden a las notas de cada trimestre del estudiante en una respectiva materia."
      ]
    },
    {
      "cell_type": "code",
      "execution_count": 65,
      "metadata": {
        "id": "WQ-pCgdaMOlc"
      },
      "outputs": [],
      "source": [
        "notas = {'Primer trimestre': 8.6, 'Segundo trimestre': 9.3, 'Tercer trimestre': 7.5}"
      ]
    },
    {
      "cell_type": "code",
      "execution_count": 66,
      "metadata": {
        "colab": {
          "base_uri": "https://localhost:8080/"
        },
        "id": "GU-HvC-QMOoS",
        "outputId": "ec084bc6-28a0-47ad-d07d-1c4335ce0438"
      },
      "outputs": [
        {
          "data": {
            "text/plain": [
              "8.466666666666667"
            ]
          },
          "execution_count": 66,
          "metadata": {},
          "output_type": "execute_result"
        }
      ],
      "source": [
        "## version rookie\n",
        "suma = 0\n",
        "for n in notas.values():\n",
        "  suma += n\n",
        "\n",
        "promedio = suma / len(notas)\n",
        "promedio"
      ]
    },
    {
      "cell_type": "code",
      "execution_count": 67,
      "metadata": {
        "colab": {
          "base_uri": "https://localhost:8080/"
        },
        "id": "qKEyjY2bMOqj",
        "outputId": "48cf7e27-1f50-426e-825e-cca3c74ee586"
      },
      "outputs": [
        {
          "data": {
            "text/plain": [
              "8.466666666666667"
            ]
          },
          "execution_count": 67,
          "metadata": {},
          "output_type": "execute_result"
        }
      ],
      "source": [
        "promedio = sum(notas.values()) / len(notas)\n",
        "promedio"
      ]
    },
    {
      "cell_type": "markdown",
      "metadata": {
        "id": "JD2z3LW8312E"
      },
      "source": [
        "*Redondear el promedio usando round():*\n",
        "\n",
        "https://docs.python.org/es/3/library/functions.html#round"
      ]
    },
    {
      "cell_type": "code",
      "execution_count": 68,
      "metadata": {
        "id": "c7Cn5XFfMP5E"
      },
      "outputs": [],
      "source": [
        "promedio = round(sum(notas.values()) / len(notas),1)"
      ]
    },
    {
      "cell_type": "code",
      "execution_count": 69,
      "metadata": {
        "colab": {
          "base_uri": "https://localhost:8080/"
        },
        "id": "eVNPFr0pMRWl",
        "outputId": "628cc9ef-a492-42c2-abc1-f9f9cbe7f1bc"
      },
      "outputs": [
        {
          "data": {
            "text/plain": [
              "8.5"
            ]
          },
          "execution_count": 69,
          "metadata": {},
          "output_type": "execute_result"
        }
      ],
      "source": [
        "promedio"
      ]
    },
    {
      "cell_type": "markdown",
      "metadata": {
        "id": "NCUSezOJIdfy"
      },
      "source": [
        "## 2.2 Creando funciones"
      ]
    },
    {
      "cell_type": "markdown",
      "metadata": {
        "id": "QrTAXwghsg6s"
      },
      "source": [
        "Tras explorar las funciones incorporadas y aprender cómo utilizar algunas de ellas, es posible que tengas la necesidad de resolver un problema específico y estas no sean suficientes.\n",
        "\n",
        "Por este motivo, necesitaremos crear nuestras propias funciones, y aún más, si necesitamos aplicarlas en varias partes de nuestros códigos."
      ]
    },
    {
      "cell_type": "markdown",
      "metadata": {
        "id": "zxyXiX462A_X"
      },
      "source": [
        "### Funciones sin parámetros\n",
        "\n",
        "#### Formato estándar:\n",
        "\n",
        "```python\n",
        "def <nombre>():\n",
        "  <instrucciones>\n",
        "```"
      ]
    },
    {
      "cell_type": "code",
      "execution_count": 70,
      "metadata": {
        "id": "WgWoULpnMSrT"
      },
      "outputs": [],
      "source": [
        "def promedio():\n",
        "  calculo = (10 + 9 + 7)/3\n",
        "  print(calculo)"
      ]
    },
    {
      "cell_type": "code",
      "execution_count": 71,
      "metadata": {
        "colab": {
          "base_uri": "https://localhost:8080/"
        },
        "id": "VKfg0zkDMStp",
        "outputId": "4df605f6-e9f8-4b74-b444-01a33fff30ed"
      },
      "outputs": [
        {
          "name": "stdout",
          "output_type": "stream",
          "text": [
            "8.666666666666666\n"
          ]
        }
      ],
      "source": [
        "promedio()"
      ]
    },
    {
      "cell_type": "markdown",
      "metadata": {
        "id": "o9AR_DNDFKSD"
      },
      "source": [
        "### Funciones con parámetros\n",
        "\n",
        "#### Formato estándar:\n",
        "\n",
        "```python\n",
        "def <nombre>(<param_1>, <param_2>, ..., <param_n>):\n",
        "  <instrucciones>\n",
        "```"
      ]
    },
    {
      "cell_type": "code",
      "execution_count": 72,
      "metadata": {
        "id": "1QHJXCYsMUx3"
      },
      "outputs": [],
      "source": [
        "def promedio(nota1, nota2, nota3):\n",
        "  calculo = (nota1 + nota2 + nota3)/3\n",
        "  print(calculo)"
      ]
    },
    {
      "cell_type": "code",
      "execution_count": 73,
      "metadata": {
        "colab": {
          "base_uri": "https://localhost:8080/"
        },
        "id": "txkkIwheMU0n",
        "outputId": "071dba94-28ff-4715-f5c4-016174905b04"
      },
      "outputs": [
        {
          "name": "stdout",
          "output_type": "stream",
          "text": [
            "8.666666666666666\n"
          ]
        }
      ],
      "source": [
        "promedio(10, 9, 7)"
      ]
    },
    {
      "cell_type": "code",
      "execution_count": 74,
      "metadata": {
        "colab": {
          "base_uri": "https://localhost:8080/"
        },
        "id": "Pq88ApQEMWK9",
        "outputId": "c5093fc8-ffdd-4d9b-abb1-2489c06dbfea"
      },
      "outputs": [
        {
          "name": "stdout",
          "output_type": "stream",
          "text": [
            "8.666666666666666\n"
          ]
        },
        {
          "data": {
            "text/plain": [
              "NoneType"
            ]
          },
          "execution_count": 74,
          "metadata": {},
          "output_type": "execute_result"
        }
      ],
      "source": [
        "type(promedio(10, 9, 7))"
      ]
    },
    {
      "cell_type": "markdown",
      "metadata": {
        "id": "-Umx7n134suz"
      },
      "source": [
        "#### **Situación 2:**\n",
        "\n",
        "Recibimos una solicitud para crear una función que calcule el promedio de notas de un estudiante a partir de una lista; que permita alterar la cantidad de notas, y que no implique tener que modificar la función.\n",
        "\n",
        "Los datos recibidos, en esta ocasión, corresponden a una lista que contiene las notas de un mismo estudiante en una determinada materia.\n",
        "\n",
        "notas = 8.5, 9.0, 6.0, 10.0\n",
        "\n",
        "**¿Vamos a resolver este desafío?**\n",
        "\n",
        "Para facilitar nuestra comprensión del proceso, vamos a aplicar las notas de un único estudiante; sin embargo, puedes probar otros casos para practicar."
      ]
    },
    {
      "cell_type": "code",
      "execution_count": 75,
      "metadata": {
        "id": "U4MlTO9ucAKc"
      },
      "outputs": [],
      "source": [
        "notas = [8.5, 9.0, 6.0, 10.0]"
      ]
    },
    {
      "cell_type": "code",
      "execution_count": 76,
      "metadata": {
        "id": "ZrqyDBNFMYOK"
      },
      "outputs": [],
      "source": [
        "def promedio(lista_de_notas):\n",
        "  calculo = sum(lista_de_notas)/len(lista_de_notas)\n",
        "  print(calculo)"
      ]
    },
    {
      "cell_type": "code",
      "execution_count": 77,
      "metadata": {
        "colab": {
          "base_uri": "https://localhost:8080/"
        },
        "id": "wEkixagwMY2E",
        "outputId": "ef6d818d-3a37-4290-ebb2-01f97dc53b51"
      },
      "outputs": [
        {
          "name": "stdout",
          "output_type": "stream",
          "text": [
            "8.375\n"
          ]
        }
      ],
      "source": [
        "promedio(notas)"
      ]
    },
    {
      "cell_type": "code",
      "execution_count": 78,
      "metadata": {
        "colab": {
          "base_uri": "https://localhost:8080/"
        },
        "id": "60Gvxd9tMa5d",
        "outputId": "524471be-009c-4541-95e4-29f13f722abf"
      },
      "outputs": [
        {
          "name": "stdout",
          "output_type": "stream",
          "text": [
            "8.375\n"
          ]
        },
        {
          "data": {
            "text/plain": [
              "NoneType"
            ]
          },
          "execution_count": 78,
          "metadata": {},
          "output_type": "execute_result"
        }
      ],
      "source": [
        "type(promedio(notas))"
      ]
    },
    {
      "cell_type": "markdown",
      "metadata": {
        "id": "skMq7d0_xHND"
      },
      "source": [
        "<font color=red>**Atención!**</font>\n",
        "Cuando utilizamos funciones, necesitamos prestar atención a una propiedad llamada **Alcance de una función**. Esta propiedad determina dónde una variable puede ser utilizada dentro del código. Por ejemplo, una variable creada dentro de una función existirá únicamente dentro de esta función. O sea, cuando finaliza la ejecución de una función, la variable no estará disponible para el usuario en el resto del código."
      ]
    },
    {
      "cell_type": "code",
      "execution_count": 103,
      "metadata": {},
      "outputs": [
        {
          "ename": "NameError",
          "evalue": "name 'calculo' is not defined",
          "output_type": "error",
          "traceback": [
            "\u001b[0;31m---------------------------------------------------------------------------\u001b[0m",
            "\u001b[0;31mNameError\u001b[0m                                 Traceback (most recent call last)",
            "Cell \u001b[0;32mIn[103], line 1\u001b[0m\n\u001b[0;32m----> 1\u001b[0m \u001b[43mcalculo\u001b[49m\n",
            "\u001b[0;31mNameError\u001b[0m: name 'calculo' is not defined"
          ]
        }
      ],
      "source": [
        "calculo"
      ]
    },
    {
      "cell_type": "markdown",
      "metadata": {
        "id": "-oDFGKcA52kG"
      },
      "source": [
        "## 2.3 Funciones que retornan valores\n",
        "\n",
        "#### Formato estándar:\n",
        "\n",
        "```python\n",
        "def <nombre>(<param_1>, <param_2>, ..., <param_n>):\n",
        "  <instrucciones>\n",
        "  return resultado\n",
        "```"
      ]
    },
    {
      "cell_type": "markdown",
      "metadata": {
        "id": "DxvT_uItbQ-q"
      },
      "source": [
        "Retomando la actividad anterior, podemos retornar y guardar el valor del promedio de la siguiente forma:"
      ]
    },
    {
      "cell_type": "code",
      "execution_count": 79,
      "metadata": {
        "id": "GlWdnX7Ubgl3"
      },
      "outputs": [],
      "source": [
        "# Notas del estudiante\n",
        "notas = [8.5, 9.0, 6.0, 10.0]"
      ]
    },
    {
      "cell_type": "code",
      "execution_count": 80,
      "metadata": {
        "id": "JdMFsT9GMgI6"
      },
      "outputs": [],
      "source": [
        "def promedio(lista):\n",
        "  resultado = sum(lista)/len(lista)\n",
        "  return resultado"
      ]
    },
    {
      "cell_type": "code",
      "execution_count": 81,
      "metadata": {
        "colab": {
          "base_uri": "https://localhost:8080/"
        },
        "id": "p7AwNnTCMgLf",
        "outputId": "582212be-9440-45a5-f2c5-2fd11d94f257"
      },
      "outputs": [
        {
          "data": {
            "text/plain": [
              "8.375"
            ]
          },
          "execution_count": 81,
          "metadata": {},
          "output_type": "execute_result"
        }
      ],
      "source": [
        "promedio(notas)"
      ]
    },
    {
      "cell_type": "code",
      "execution_count": 82,
      "metadata": {
        "id": "35zC247QMgRP"
      },
      "outputs": [],
      "source": [
        "resultado = promedio(notas)"
      ]
    },
    {
      "cell_type": "code",
      "execution_count": 83,
      "metadata": {
        "colab": {
          "base_uri": "https://localhost:8080/"
        },
        "id": "TjmB8IWpMgV4",
        "outputId": "8a3e7f7f-ef37-41fd-d6b0-cadb0a99eb66"
      },
      "outputs": [
        {
          "data": {
            "text/plain": [
              "float"
            ]
          },
          "execution_count": 83,
          "metadata": {},
          "output_type": "execute_result"
        }
      ],
      "source": [
        "type(resultado)"
      ]
    },
    {
      "cell_type": "markdown",
      "metadata": {
        "id": "_awyOKOH8OOi"
      },
      "source": [
        "#### **Situación 3:**\n",
        "\n",
        "Recibimos una nueva solicitud. Debemos calcular el promedio de un estudiante a partir de una lista y retornar tanto el promedio como la situación del estudiante (\"Aprobado(a)\" si la nota es mayor o igual a 7.0, en caso contrario, será \"Reprobado(a)\").\n",
        "\n",
        "Además de ello, necesitamos exhibir un pequeño texto para indicar el promedio del estudiante y cuál es su situación. Los datos recibidos corresponden a una lista que contiene apenas las notas de un estudiante en una materia determinada.\n",
        "\n",
        "**¿Vamos a resolver este desafío?**\n",
        "\n",
        "Para facilitar nuestra comprensión del proceso, vamos a aplicar las notas de un único estudiante; sin embargo, puedes probar otros casos para practicar."
      ]
    },
    {
      "cell_type": "code",
      "execution_count": 84,
      "metadata": {
        "id": "3saGo2kDf0BY"
      },
      "outputs": [],
      "source": [
        "# Notas del estudiante\n",
        "notas = [8.5, 9.0, 6.0, 10.0]"
      ]
    },
    {
      "cell_type": "code",
      "execution_count": 85,
      "metadata": {
        "id": "unNLrdFjMjbv"
      },
      "outputs": [],
      "source": [
        "def boletin(lista):\n",
        "  resultado = sum(lista)/len(lista)\n",
        "  if resultado >= 7:\n",
        "    situacion = \"Aprobado(a)\"\n",
        "  else:\n",
        "    situacion = \"Reprobado(a)\"\n",
        "  return f'El/la estudiante obtuvo un puntaje de: {resultado} y su situación es {situacion}'"
      ]
    },
    {
      "cell_type": "code",
      "execution_count": 86,
      "metadata": {
        "colab": {
          "base_uri": "https://localhost:8080/",
          "height": 35
        },
        "id": "Rmvg4hNeMjeD",
        "outputId": "07101604-8a90-45a2-aea4-835e30d232e7"
      },
      "outputs": [
        {
          "data": {
            "text/plain": [
              "'El/la estudiante obtuvo un puntaje de: 8.375 y su situación es Aprobado(a)'"
            ]
          },
          "execution_count": 86,
          "metadata": {},
          "output_type": "execute_result"
        }
      ],
      "source": [
        "boletin(notas)"
      ]
    },
    {
      "cell_type": "code",
      "execution_count": 87,
      "metadata": {
        "id": "BdpOy3LnGYM0"
      },
      "outputs": [],
      "source": [
        "notas2 = [6.0, 7.0, 9.0, .5, 8.0]"
      ]
    },
    {
      "cell_type": "code",
      "execution_count": 88,
      "metadata": {
        "colab": {
          "base_uri": "https://localhost:8080/",
          "height": 35
        },
        "id": "jCYuFpmeMji6",
        "outputId": "1334d349-829b-44b3-c5ec-f11ff0ff98f5"
      },
      "outputs": [
        {
          "data": {
            "text/plain": [
              "'El/la estudiante obtuvo un puntaje de: 6.1 y su situación es Reprobado(a)'"
            ]
          },
          "execution_count": 88,
          "metadata": {},
          "output_type": "execute_result"
        }
      ],
      "source": [
        "boletin(notas2)"
      ]
    },
    {
      "cell_type": "markdown",
      "metadata": {
        "id": "hwYYRpkZMft5"
      },
      "source": [
        "## 2.4 Funciones lambda\n",
        "\n",
        "También se conocen como funciones anónimas, son funciones que no necesitan ser definidas, o sea, no poseen un nombre, y describen en una única fila los comandos que deseamos aplicar.\n",
        "\n",
        "https://docs.python.org/es/3/reference/expressions.html?#lambda\n",
        "\n",
        "#### Formato estándar:\n",
        "\n",
        "```python\n",
        "lambda <variable>: <expresion>\n",
        "```"
      ]
    },
    {
      "cell_type": "code",
      "execution_count": 89,
      "metadata": {
        "colab": {
          "base_uri": "https://localhost:8080/"
        },
        "id": "wcNxDJoPMmTJ",
        "outputId": "0bed5f84-9bbc-4063-a577-beb98286c0bf"
      },
      "outputs": [
        {
          "data": {
            "text/plain": [
              "8.5"
            ]
          },
          "execution_count": 89,
          "metadata": {},
          "output_type": "execute_result"
        }
      ],
      "source": [
        "nota = float(input(\"Digite una nota: \"))\n",
        "\n",
        "def cualitativa(nota):\n",
        "  return nota + 0.5\n",
        "\n",
        "cualitativa(nota)"
      ]
    },
    {
      "cell_type": "code",
      "execution_count": 104,
      "metadata": {
        "colab": {
          "base_uri": "https://localhost:8080/"
        },
        "id": "S-baAoaQMmVy",
        "outputId": "941a70fd-55e5-4102-e245-bc4d9d9d2df9"
      },
      "outputs": [
        {
          "data": {
            "text/plain": [
              "6.5"
            ]
          },
          "execution_count": 104,
          "metadata": {},
          "output_type": "execute_result"
        }
      ],
      "source": [
        "nota = float(input(\"Digite una nota: \"))\n",
        "\n",
        "cualitativa = lambda nota: nota + 0.5\n",
        "\n",
        "\n",
        "cualitativa(nota)"
      ]
    },
    {
      "cell_type": "markdown",
      "metadata": {
        "id": "AuRWyNXYgD_b"
      },
      "source": [
        "#### **Situación 4:**\n",
        "\n",
        "En esta nueva solicitud, necesitamos crear una calculadora simple para obtener el promedio ponderado de notas de una materia determinada. Vamos a pedir que el usuario introduzca 3 notas (N1, N2, N3) del estudiante y devuelva el promedio ponderado de este estudiante. Los pesos de las notas son de, respectivamente 3, 2 y 5.\n",
        "\n",
        "Necesitamos exhibir un pequeño texto para poder indicar el promedio del estudiante.\n",
        "**¿Vamos a resolver este desafío?**\n"
      ]
    },
    {
      "cell_type": "markdown",
      "metadata": {
        "id": "vdKk3DRBmtUE"
      },
      "source": [
        "**Resolviendo nuestro problema:**"
      ]
    },
    {
      "cell_type": "code",
      "execution_count": 91,
      "metadata": {
        "colab": {
          "base_uri": "https://localhost:8080/"
        },
        "id": "2XD3sTJxIKGU",
        "outputId": "725a6b4d-ea5a-457b-fbd0-d9cc84958160"
      },
      "outputs": [],
      "source": [
        "n1 = float(input(\"Digite la primera nota: \"))\n",
        "n2 = float(input(\"Digite la segunda nota: \"))\n",
        "n3 = float(input(\"Digite la tercera nota: \"))\n",
        "\n",
        "ponderado = lambda x,y,z: (x*3 + y*2 + z*5)/10 #10 representa la suma de los pesos\n",
        "\n",
        "ponderado(n1, n2, n3)\n",
        "\n",
        "nota_final = ponderado(n1, n2, n3)"
      ]
    },
    {
      "cell_type": "code",
      "execution_count": 92,
      "metadata": {
        "colab": {
          "base_uri": "https://localhost:8080/"
        },
        "id": "6YxEn9aiMnYJ",
        "outputId": "842a97a0-dd96-4bae-b80a-14cb6be2e6be"
      },
      "outputs": [
        {
          "name": "stdout",
          "output_type": "stream",
          "text": [
            "El promedio del/la estudiante es: 8.8\n"
          ]
        }
      ],
      "source": [
        "print(f'El promedio del/la estudiante es: {nota_final}')"
      ]
    },
    {
      "cell_type": "code",
      "execution_count": null,
      "metadata": {
        "id": "Ptn9gQaPMnaz"
      },
      "outputs": [],
      "source": []
    },
    {
      "cell_type": "markdown",
      "metadata": {
        "id": "1qk0gLdfFcbf"
      },
      "source": [
        "#### **Situación 5:**\n",
        "\n",
        "Ahora, debemos crear una pequeña función que permita dar una nota cualitativa (puntaje extra) a las notas del trimestre de los estudiantes del grupo que ganó el concurso de programación realizado en la institución. Cada estudiante recibirá el cualitativo de 0.5 añadido al promedio.\n",
        "\n",
        "Los datos recibidos corresponden a una lista que contiene las notas de algunos estudiantes y una variable con el cualitativo recibido.\n",
        "\n",
        "**¿Vamos a resolver este desafío?**\n",
        "\n",
        "Para facilitar nuestra comprensión del proceso, vamos a aplicar las notas de 5 estudiantes; sin embargo, puedes probar otros casos para practicar."
      ]
    },
    {
      "cell_type": "code",
      "execution_count": 96,
      "metadata": {
        "id": "RdoaWhuVI_OB"
      },
      "outputs": [],
      "source": [
        "# Notas del estudiante\n",
        "notas = [6.0, 7.0, 9.0, 5.5, 8.0]\n",
        "cualitativo = 0.5"
      ]
    },
    {
      "cell_type": "code",
      "execution_count": 97,
      "metadata": {
        "id": "PzDfbv-kMq2t"
      },
      "outputs": [],
      "source": [
        "notas_actualizadas = lambda x: x + cualitativo"
      ]
    },
    {
      "cell_type": "code",
      "execution_count": 98,
      "metadata": {
        "colab": {
          "base_uri": "https://localhost:8080/",
          "height": 193
        },
        "id": "3YDQ39wFMq5u",
        "outputId": "0d27c629-cd02-4a9a-f355-959dce661ca2"
      },
      "outputs": [
        {
          "ename": "TypeError",
          "evalue": "can only concatenate list (not \"float\") to list",
          "output_type": "error",
          "traceback": [
            "\u001b[0;31m---------------------------------------------------------------------------\u001b[0m",
            "\u001b[0;31mTypeError\u001b[0m                                 Traceback (most recent call last)",
            "Cell \u001b[0;32mIn[98], line 1\u001b[0m\n\u001b[0;32m----> 1\u001b[0m \u001b[43mnotas_actualizadas\u001b[49m\u001b[43m(\u001b[49m\u001b[43mnotas\u001b[49m\u001b[43m)\u001b[49m\n",
            "Cell \u001b[0;32mIn[97], line 1\u001b[0m, in \u001b[0;36m<lambda>\u001b[0;34m(x)\u001b[0m\n\u001b[0;32m----> 1\u001b[0m notas_actualizadas \u001b[38;5;241m=\u001b[39m \u001b[38;5;28;01mlambda\u001b[39;00m x: \u001b[43mx\u001b[49m\u001b[43m \u001b[49m\u001b[38;5;241;43m+\u001b[39;49m\u001b[43m \u001b[49m\u001b[43mcualitativo\u001b[49m\n",
            "\u001b[0;31mTypeError\u001b[0m: can only concatenate list (not \"float\") to list"
          ]
        }
      ],
      "source": [
        "notas_actualizadas(notas)"
      ]
    },
    {
      "cell_type": "markdown",
      "metadata": {
        "id": "9JMfAD9RLTTu"
      },
      "source": [
        "Este error sucede porque las funciones lambda no se pueden aplicar directamente a iterables. Para ello hay que mapear los valores"
      ]
    },
    {
      "cell_type": "markdown",
      "metadata": {
        "id": "SOK4BC4mmKbG"
      },
      "source": [
        "### Mapeando valores\n",
        "\n",
        "#### Formato estándar:\n",
        "\n",
        "```python\n",
        "map(<lambda function>, <iterador>)\n",
        "```"
      ]
    },
    {
      "cell_type": "code",
      "execution_count": 99,
      "metadata": {
        "id": "ZbfpvfWJMsjv"
      },
      "outputs": [],
      "source": [
        "notas_actualizadas_mapeado = map(lambda x: x + cualitativo, notas)"
      ]
    },
    {
      "cell_type": "code",
      "execution_count": 100,
      "metadata": {
        "colab": {
          "base_uri": "https://localhost:8080/"
        },
        "id": "TA-zGLJfMseA",
        "outputId": "80112e11-7a27-4940-ca9f-dc58e995ab5f"
      },
      "outputs": [
        {
          "data": {
            "text/plain": [
              "<map at 0x7ff33f69bb50>"
            ]
          },
          "execution_count": 100,
          "metadata": {},
          "output_type": "execute_result"
        }
      ],
      "source": [
        "notas_actualizadas_mapeado"
      ]
    },
    {
      "cell_type": "code",
      "execution_count": null,
      "metadata": {
        "colab": {
          "base_uri": "https://localhost:8080/"
        },
        "id": "PrAppvR6MuKm",
        "outputId": "19b23f4e-ddab-4677-ae84-ae94cf8cf9b9"
      },
      "outputs": [
        {
          "name": "stdout",
          "output_type": "stream",
          "text": [
            "Notas originales [6.0, 7.0, 9.0, 5.5, 8.0]\n",
            "Notas actualizadas [6.5, 7.5, 9.5, 6.0, 8.5]\n"
          ]
        }
      ],
      "source": [
        "\n",
        "notas_actualizadas_lista = list(notas_actualizadas_mapeado)\n",
        "# notas_actualizadas_lista = list(map(lambda x: x + cualitativo, notas))  #en un paso\n",
        "print(f'Notas originales {notas}')\n",
        "print(f'Notas actualizadas {notas_actualizadas_lista}')"
      ]
    },
    {
      "cell_type": "markdown",
      "metadata": {
        "id": "BhvIuijSQ8Yk"
      },
      "source": [
        "## Ejercicios"
      ]
    },
    {
      "cell_type": "markdown",
      "metadata": {
        "id": "eZP175vdRJtB"
      },
      "source": [
        "Calentamiento\n",
        "\n",
        "1 - Escribe un código que lee la lista siguiente y realiza:\n",
        "\n",
        "lista = [16, 14, 63, 65, 17, 99, 70, 11, 20, 48, 79, 32, 17, 89, 12, 25, 66]\n",
        "1. Leer el tamaño de la lista\n",
        "2. Leer el valor máximo y mínimo\n",
        "3. Calcular la suma de los valores de la lista\n",
        "4. Mostrar un mensaje al final: La lista tiene `tamano` números, donde el mayor\n",
        "es `mayor` y el menor es `menor`. La suma de los valores es `suma`."
      ]
    },
    {
      "cell_type": "code",
      "execution_count": null,
      "metadata": {
        "colab": {
          "base_uri": "https://localhost:8080/"
        },
        "id": "s7rYCjOMRkSr",
        "outputId": "9e8eeecb-b3f6-483c-cdb1-d5b0f1c34f8b"
      },
      "outputs": [
        {
          "name": "stdout",
          "output_type": "stream",
          "text": [
            "La lista tiene 17 números, donde el mayor es 99 y el menor es 11. La suma de los valores es 743.\n"
          ]
        }
      ],
      "source": [
        "lista = [16, 14, 63, 65, 17, 99, 70, 11, 20, 48, 79, 32, 17, 89, 12, 25, 66]\n",
        "tamanio = len(lista)\n",
        "maximo = max(lista)\n",
        "minimo = min(lista)\n",
        "suma = sum(lista)\n",
        "print(f'La lista tiene {tamanio} números, donde el mayor es {maximo} y el menor es {minimo}. La suma de los valores es {suma}.')"
      ]
    },
    {
      "cell_type": "markdown",
      "metadata": {
        "id": "i1ooOB5FSfPT"
      },
      "source": [
        "2 - Escribe una función que genere la tabla de multiplicar de un número entero del 1 al 10, según la elección del usuario. Como ejemplo, para el número 7, la tabla de multiplicar se debe mostrar en el siguiente formato:"
      ]
    },
    {
      "cell_type": "code",
      "execution_count": null,
      "metadata": {
        "colab": {
          "base_uri": "https://localhost:8080/"
        },
        "id": "GVpm5bKvTNYi",
        "outputId": "c8794ed0-d457-4843-d1dd-a3a78ff8fbb8"
      },
      "outputs": [
        {
          "name": "stdout",
          "output_type": "stream",
          "text": [
            "Ingrese un número entero del 1 al 9: 3\n",
            "\n",
            "Tabla de multiplicar del 3:\n",
            "3 x 0\t =\t 0\n",
            "3 x 1\t =\t 3\n",
            "3 x 2\t =\t 6\n",
            "3 x 3\t =\t 9\n",
            "3 x 4\t =\t 12\n",
            "3 x 5\t =\t 15\n",
            "3 x 6\t =\t 18\n",
            "3 x 7\t =\t 21\n",
            "3 x 8\t =\t 24\n",
            "3 x 9\t =\t 27\n",
            "3 x 10\t =\t 30\n"
          ]
        }
      ],
      "source": [
        "# Primera Versión\n",
        "# num = 0\n",
        "# while 0 <= num <= 9:\n",
        "#   try:\n",
        "#     num = int(input(\"Ingrese un número entero del 1 al 9: \"))\n",
        "#     if num > 9:\n",
        "#       print(\"⚠️ El número debe estar entre 1 y 9\")\n",
        "#       num = 0\n",
        "\n",
        "#     elif 0 < num <= 9:\n",
        "#       break\n",
        "#   except ValueError:\n",
        "#     print(\"⚠️ Entrada inválida. Por favor, ingrese un número válido.\\n\")\n",
        "\n",
        "# print(f'Tabla de multiplicar del {num}: ')\n",
        "# for i in range(0,11):\n",
        "#    print(f'{num} x {i}\\t =\\t {num*i}')\n",
        "\n",
        "# Segunda versión\n",
        "\n",
        "while True:\n",
        "  try:\n",
        "    num = int(input(\"Ingrese un número entero del 1 al 9: \"))\n",
        "    if 1 <= num <= 9:\n",
        "      break\n",
        "    else:\n",
        "      print(\"⚠️ El número debe estar entre 1 y 9.\")\n",
        "  except ValueError:\n",
        "    print(\"⚠️ Entrada inválida. Por favor, ingrese un número válido.\\n\")\n",
        "print(f'Tabla de multiplicar del {num}: ')\n",
        "for i in range(0,11):\n",
        "   print(f'{num} x {i}\\t =\\t {num*i}')\n",
        "\n",
        "# Como función declarada\n",
        "# def generar_tabla():\n",
        "#     while True:\n",
        "#         try:\n",
        "#             num = int(input(\"Ingrese un número entero del 1 al 9: \"))\n",
        "#             if 1 <= num <= 9:\n",
        "#                 break\n",
        "#             else:\n",
        "#                 print(\"⚠️ El número debe estar entre 1 y 9.\")\n",
        "#         except ValueError:\n",
        "#             print(\"⚠️ Entrada inválida. Por favor, ingrese un número válido.\\n\")\n",
        "\n",
        "#     print(f'\\nTabla de multiplicar del {num}:')\n",
        "#     for i in range(11):\n",
        "#         print(f'{num} x {i}\\t =\\t {num * i}')\n",
        "\n",
        "# # Llamada a la función\n",
        "# generar_tabla()\n"
      ]
    },
    {
      "cell_type": "markdown",
      "metadata": {
        "id": "j3pwG8z6TqXS"
      },
      "source": [
        "3 - Crea una función que lea la siguiente lista y devuelva una nueva lista con los múltiplos de 3:\n",
        "\n",
        "[97, 80, 94, 88, 80, 1, 16, 53, 62, 32, 24, 99]"
      ]
    },
    {
      "cell_type": "code",
      "execution_count": null,
      "metadata": {
        "colab": {
          "base_uri": "https://localhost:8080/"
        },
        "id": "w8NArqFTWUYC",
        "outputId": "347869bb-941f-4f1b-a670-49f39fbb3d4b"
      },
      "outputs": [
        {
          "name": "stdout",
          "output_type": "stream",
          "text": [
            "[24, 99]\n"
          ]
        }
      ],
      "source": [
        "nums = [97, 80, 94, 88, 80, 1, 16, 53, 62, 32, 24, 99]\n",
        "multiplos_3 = []\n",
        "\n",
        "for num in nums :\n",
        "  if num%3 == 0:\n",
        "    multiplos_3.append(num)\n",
        "\n",
        "print(multiplos_3)\n"
      ]
    },
    {
      "cell_type": "markdown",
      "metadata": {
        "id": "KaoQlBoBWz8b"
      },
      "source": [
        "4 - Crea una lista de los cuadrados de los números de la siguiente lista [1, 2, 3, 4, 5, 6, 7, 8, 9, 10]. Recuerda utilizar las funciones lambda y map() para calcular el cuadrado de cada elemento de la lista."
      ]
    },
    {
      "cell_type": "code",
      "execution_count": null,
      "metadata": {
        "colab": {
          "base_uri": "https://localhost:8080/"
        },
        "id": "FCAzvVrZW1Bg",
        "outputId": "af909c50-1633-4d6f-9b20-38c481ded406"
      },
      "outputs": [
        {
          "name": "stdout",
          "output_type": "stream",
          "text": [
            "[1, 4, 9, 16, 25, 36, 49, 64, 81, 100]\n"
          ]
        }
      ],
      "source": [
        "lista = [1, 2, 3, 4, 5, 6, 7, 8, 9, 10]\n",
        "cuadrados = list(map(lambda x: x**2, lista))\n",
        "print(cuadrados)"
      ]
    },
    {
      "cell_type": "markdown",
      "metadata": {
        "id": "KZnuZF5nXbA6"
      },
      "source": [
        "Aplicando a proyectos\n",
        "\n",
        "5 - Has sido contratado como científico(a) de datos de una asociación de skate. Para analizar las notas recibidas por los skaters en algunas competiciones a lo largo del año, necesitas crear un código que calcule la puntuación de los atletas. Para ello, tu código debe recibir 5 notas ingresadas por los jueces."
      ]
    },
    {
      "cell_type": "code",
      "execution_count": null,
      "metadata": {
        "colab": {
          "base_uri": "https://localhost:8080/"
        },
        "id": "1fl78qmyXsUa",
        "outputId": "31534e28-28ef-44d3-dfce-06ca08320a2f"
      },
      "outputs": [
        {
          "name": "stdout",
          "output_type": "stream",
          "text": [
            "Ingrese la nota del juez 1: 7.1\n",
            "Ingrese la nota del juez 2: 7.2\n",
            "Ingrese la nota del juez 3: 7.3\n",
            "Ingrese la nota del juez 4: 7.4\n",
            "Ingrese la nota del juez 5: 7.5\n",
            "la puntuación del skater es 7.3\n"
          ]
        }
      ],
      "source": [
        "try:\n",
        "  n1 = float(input(\"Ingrese la nota del juez 1: \"))\n",
        "  n2 = float(input(\"Ingrese la nota del juez 2: \"))\n",
        "  n3 = float(input(\"Ingrese la nota del juez 3: \"))\n",
        "  n4 = float(input(\"Ingrese la nota del juez 4: \"))\n",
        "  n5 = float(input(\"Ingrese la nota del juez 5: \"))\n",
        "\n",
        "  puntuacion = lambda x, y , z, a, b : (x + y + z + a + b)/5\n",
        "  print(f'la puntuación del skater es {(puntuacion(n1, n2, n3, n4, n5))}')\n",
        "  puntuacion\n",
        "\n",
        "\n",
        "except ValueError:\n",
        "  print(\"⚠️ Entrada inválida. Por favor, ingrese un número válido.\\n\")\n",
        "\n",
        "'''\n",
        "def calcular_puntuacion(notas):\n",
        "  return sum(notas) / len(notas)\n",
        "\n",
        "try:\n",
        "    notas = []\n",
        "    for i in range(1, 6):\n",
        "        nota = float(input(f\"Ingrese la nota del juez {i}: \"))\n",
        "        notas.append(nota)\n",
        "\n",
        "    puntuacion = calcular_puntuacion(notas)\n",
        "    print(f'La puntuación del skater es {puntuacion:.2f}')\n",
        "\n",
        "except ValueError:\n",
        "    print(\"⚠️ Entrada inválida. Por favor, ingrese un número válido.\\n\")\n",
        "\n",
        "'''"
      ]
    },
    {
      "cell_type": "markdown",
      "metadata": {
        "id": "_7eGRgmqc2iU"
      },
      "source": [
        "6 - Para cumplir con una demanda de una institución educativa para el análisis del rendimiento de sus estudiantes, necesitas crear una función que reciba una lista de 4 notas y devuelva:\n",
        "\n",
        "* mayor nota\n",
        "* media\n",
        "* menor nota\n",
        "* situación (Aprobado(a) o Reprobado(a))\n",
        "* Uso de la función\n",
        "* Mostrar: El estudiante obtuvo una media de `media`, con la mayor nota de `mayor` puntos y la menor nota de `menor` puntos y fue `situacion`.)"
      ]
    },
    {
      "cell_type": "code",
      "execution_count": null,
      "metadata": {
        "colab": {
          "base_uri": "https://localhost:8080/"
        },
        "id": "rOqhHoEkdQRz",
        "outputId": "9bf16884-b9ab-4cf6-936c-16c5b1c1f8d9"
      },
      "outputs": [
        {
          "name": "stdout",
          "output_type": "stream",
          "text": [
            "Ingrese la primer nota: 7\n",
            "Ingrese la segunda nota: 1\n",
            "Ingrese la tercer nota: 8\n",
            "Ingrese la cuarta nota: 6\n",
            "El estudiante obtuvo una media de 5.50, con la mayor nota de 8.0 puntos y la menor nota de 1.0 puntos y fue Reprobado(a).\n",
            "El estudiante obtuvo una media de 5.50, con la mayor nota de 8.0 puntos y la menor nota de 1.0 puntos y fue Reprobado(a).\n"
          ]
        }
      ],
      "source": [
        "def situacion_academica(notas):\n",
        "    mayor_nota = max(notas)\n",
        "    menor_nota = min(notas)\n",
        "    media = sum(notas) / len(notas)\n",
        "    situacion = \"Aprobado(a)\" if media >= 7 else \"Reprobado(a)\"\n",
        "    return f'El estudiante obtuvo una media de {media:.2f}, con la mayor nota de {mayor_nota} puntos y la menor nota de {menor_nota} puntos y fue {situacion}.'\n",
        "\n",
        "try:\n",
        "    n1 = float(input(\"Ingrese la primer nota: \"))\n",
        "    n2 = float(input(\"Ingrese la segunda nota: \"))\n",
        "    n3 = float(input(\"Ingrese la tercer nota: \"))\n",
        "    n4 = float(input(\"Ingrese la cuarta nota: \"))\n",
        "    notas = [n1, n2, n3, n4]\n",
        "    print(situacion_academica(notas))\n",
        "except ValueError:\n",
        "    print(\"⚠️ Entrada inválida. Por favor, ingrese un número válido.\\n\")\n",
        "\n",
        "print(situacion_academica(notas))"
      ]
    },
    {
      "cell_type": "markdown",
      "metadata": {
        "id": "QvGj6l8_g-D3"
      },
      "source": [
        "7 - Has recibido una demanda para tratar 2 listas con los nombres y apellidos de cada estudiante concatenándolos para presentar sus nombres completos en la forma Nombre Apellido. Las listas son:\n",
        "\n",
        "nombres = [\"juan\", \"MaRia\", \"JOSÉ\"]\n",
        "apellidos = [\"SILVA\", \"sosa\", \"Tavares\"]\n",
        "\n",
        "* Normalizar nombres y apellidos y crear una nueva lista con los nombres completos\n",
        "* Puedes apoyarte en la función map()"
      ]
    },
    {
      "cell_type": "code",
      "execution_count": null,
      "metadata": {
        "colab": {
          "base_uri": "https://localhost:8080/"
        },
        "id": "qiRypqgdhOZ5",
        "outputId": "1dab9eaa-d665-4d7d-bd1a-933c99098023"
      },
      "outputs": [
        {
          "name": "stdout",
          "output_type": "stream",
          "text": [
            "['Juan Silva', 'Maria Sosa', 'José Tavares']\n"
          ]
        }
      ],
      "source": [
        "# Mi primer versión\n",
        "\n",
        "# nombres = [\"juan\", \"MaRia\", \"JOSÉ\"]\n",
        "# apellidos = [\"SILVA\", \"sosa\", \"Tavares\"]\n",
        "\n",
        "# nombres_completos = []\n",
        "\n",
        "# for n, a in zip(nombres, apellidos):\n",
        "#   nombres_completos.append(f'{n.lower().capitalize()} {a.lower().capitalize()}')\n",
        "\n",
        "# print(nombres_completos)\n",
        "\n",
        "# Version con map()\n",
        "\n",
        "nombres = [\"juan\", \"MaRia\", \"JOSÉ\"]\n",
        "apellidos = [\"SILVA\", \"sosa\", \"Tavares\"]\n",
        "\n",
        "nombres_completos = list(map(lambda n_a: f'{n_a[0].lower().capitalize()} {n_a[1].lower().capitalize()}', zip(nombres, apellidos))) # zip junta las dos listas y crea tuplas con pares nombre y apellido, por eso n_a\n",
        "\n",
        "print(nombres_completos)\n"
      ]
    },
    {
      "cell_type": "markdown",
      "metadata": {
        "id": "J8ZP-CeIl8Xi"
      },
      "source": [
        "8 - Como científico de datos en un equipo de fútbol, necesitas implementar nuevas formas de recopilación de datos sobre el rendimiento de los jugadores y del equipo en su conjunto. Tu primera acción es crear una forma de calcular la puntuación del equipo en el campeonato nacional a partir de los datos de goles marcados y recibidos en cada juego.\n",
        "\n",
        "Escribe una función llamada calcula_puntos() que recibe como parámetros dos listas de números enteros, representando los goles marcados y recibidos por el equipo en cada partido del campeonato. La función debe devolver la puntuación del equipo y el rendimiento en porcentaje, teniendo en cuenta que la victoria vale 3 puntos, el empate 1 punto y la derrota 0 puntos.\n",
        "\n",
        "Nota: si la cantidad de goles marcados en un partido es mayor que los recibidos, el equipo ganó. En caso de ser igual, el equipo empató, y si es menor, el equipo perdió. Para calcular el rendimiento, debemos hacer la razón entre la puntuación del equipo y la puntuación máxima que podría recibir.\n",
        "\n",
        "Para la prueba, utiliza las siguientes listas de goles marcados y recibidos:\n",
        "\n",
        "goles_marcados = [2, 1, 3, 1, 0]\n",
        "goles_recibidos = [1, 2, 2, 1, 3]\n",
        "\n",
        " Texto probablemente mostrado:\n",
        "\n",
        "La puntuación del equipo fue `puntos` y su rendimiento fue `desempeno`%\""
      ]
    },
    {
      "cell_type": "code",
      "execution_count": null,
      "metadata": {
        "colab": {
          "base_uri": "https://localhost:8080/"
        },
        "id": "_bZ-EssDl_Ef",
        "outputId": "198fccc0-31a9-40b0-82a4-c165f21ad1ce"
      },
      "outputs": [
        {
          "name": "stdout",
          "output_type": "stream",
          "text": [
            "La puntuación del equipo fue de 7 puntos\n",
            "Su rendimiento fue 46.67%\n",
            "Ha marcado 7 goles y ha recibido 9 goles.\n",
            "Diferencia de goles -2\n"
          ]
        }
      ],
      "source": [
        "def calcula_puntos(marcados, recibidos):\n",
        "  puntos = 0\n",
        "\n",
        "  for i in range(len(marcados)):\n",
        "    if marcados[i] > recibidos[i]:\n",
        "      puntos +=3\n",
        "    elif marcados[i] == recibidos[i]:\n",
        "      puntos += 1\n",
        "\n",
        "  goles_a_favor = sum(marcados)\n",
        "  goles_en_contra = sum(recibidos)\n",
        "  diferencia_de_goles = goles_a_favor - goles_en_contra\n",
        "  puntos_en_juego = 3 * len(marcados)\n",
        "  desempeno = (puntos/puntos_en_juego)*100\n",
        "\n",
        "  return f'La puntuación del equipo fue de {puntos} puntos\\nSu rendimiento fue {desempeno:.2f}%\\nHa marcado {goles_a_favor} goles y ha recibido {goles_en_contra} goles.\\nDiferencia de goles {diferencia_de_goles}'\n",
        "\n",
        "\n",
        "\n",
        "\n",
        "goles_marcados = [2, 1, 3, 1, 0]\n",
        "goles_recibidos = [1, 2, 2, 1, 3]\n",
        "\n",
        "print(calcula_puntos(goles_marcados, goles_recibidos))"
      ]
    },
    {
      "cell_type": "markdown",
      "metadata": {
        "id": "Ikz8LNAYsQAZ"
      },
      "source": [
        "9 - Te han desafiado a crear un código que calcule los gastos de un viaje a una de las cuatro ciudades desde Recife, siendo ellas: Salvador, Fortaleza, Natal y Aracaju.\n",
        "\n",
        "El costo diario del hotel es de 150 reales en todas ellas y el consumo de gasolina en el viaje en coche es de 14 km/l, siendo que el precio de la gasolina es de 5 reales por litro. Los gastos con paseos y alimentación a realizar en cada una de ellas por día serían [200, 400, 250, 300], respectivamente.\n",
        "\n",
        "Sabiendo que las distancias entre Recife y cada una de las ciudades son aproximadamente [850, 800, 300, 550] km, crea tres funciones: la primera función calcula los gastos de hotel (gasto_hotel), la segunda calcula los gastos de gasolina (gasto_gasolina) y la tercera los gastos de paseo y alimentación (gasto_paseo).\n",
        "\n",
        "Para probar, simula un viaje de 3 días a Salvador desde Recife. Considera el viaje de ida y vuelta en coche.\n",
        "\n",
        "Texto probablemente mostrado:\n",
        "\n",
        "Con base en los gastos definidos, un viaje de [dias] días a [ciudad] desde\n",
        "Recife costaría [gastos] reales."
      ]
    },
    {
      "cell_type": "code",
      "execution_count": null,
      "metadata": {
        "colab": {
          "base_uri": "https://localhost:8080/"
        },
        "id": "rPk9hVritLKh",
        "outputId": "18934fa8-9454-4a4d-9e98-69b683dce2a8"
      },
      "outputs": [
        {
          "name": "stdout",
          "output_type": "stream",
          "text": [
            "Ingrese la cantidad de días del viaje: 3\n",
            "Ingrese la ciudad de destino: Salvador\n",
            "Con base en los gastos definidos, un viaje de 3 días a Salvador desde Recife costaría 1657.14 reales.\n"
          ]
        }
      ],
      "source": [
        "dias = int(input(\"Ingrese la cantidad de días del viaje: \"))\n",
        "destino = input(\"Ingrese la ciudad de destino: \")\n",
        "\n",
        "destinos = [\"Salvador\", \"Fortaleza\", \"Natal\", \"Aracaju\"]\n",
        "distancias = [850, 800, 300, 550]\n",
        "gastos_hotel = [150, 150, 150, 150]\n",
        "gastos_alimentacion = [200, 400, 250, 300]\n",
        "valor_combustible = 5\n",
        "combustible = []\n",
        "\n",
        "def gasto_hotel(dias, destino):\n",
        "  return dias * gastos_hotel[destinos.index(destino)]\n",
        "\n",
        "\n",
        "def gasto_gasolina(destino):\n",
        "  distancia_total = distancias[destinos.index(destino)] * 2\n",
        "  litros = distancia_total / 14\n",
        "  return litros * valor_combustible\n",
        "\n",
        "def gastos_estadia(dias,destino):\n",
        "  return gastos_alimentacion[destinos.index(destino)]*dias\n",
        "\n",
        "print(f'Con base en los gastos definidos, un viaje de {dias} días a {destino} desde Recife costaría {gasto_hotel(dias, destino) + gasto_gasolina(destino) + gastos_estadia(dias,destino):.2f} reales.')\n",
        "\n"
      ]
    },
    {
      "cell_type": "markdown",
      "metadata": {
        "id": "9sjnTimx0N1B"
      },
      "source": [
        "10 - Has comenzado una pasantía en una empresa que trabaja con procesamiento de lenguaje natural (NLP). Tu líder te solicitó que crees un fragmento de código que reciba una frase escrita por el usuario y filtre solo las palabras con un tamaño mayor o igual a 5, mostrándolas en una lista. Esta demanda se centra en el análisis del patrón de comportamiento de las personas al escribir palabras de esta cantidad de caracteres o más.\n",
        "\n",
        "Consejo: utiliza las funciones lambda y filter() para filtrar estas palabras. Recordando que la función integrada filter() recibe una función (en nuestro caso, una función lambda) y filtra un iterable según la función. Para tratar la frase, utiliza replace() para cambiar ',' '.', '!' y '?' por espacio.\n",
        "\n",
        "Utiliza la frase \"Aprender Python aquí en Alura es muy bueno\" para probar el código."
      ]
    },
    {
      "cell_type": "code",
      "execution_count": null,
      "metadata": {
        "colab": {
          "base_uri": "https://localhost:8080/"
        },
        "id": "cYhLUDtm06zN",
        "outputId": "3a95f93b-dcfc-4518-e382-bfd5cb0e3bb0"
      },
      "outputs": [
        {
          "name": "stdout",
          "output_type": "stream",
          "text": [
            "Ingresa una frase: Aprender Python aquí en Alura es muy bueno\n",
            "['Aprender', 'Python', 'Alura', 'bueno']\n"
          ]
        }
      ],
      "source": [
        "frase = input(\"Ingresa una frase: \")\n",
        "\n",
        "palabras = frase.replace(',', ' ').replace('.', ' ').replace('!', ' ').replace('?', ' ').split()\n",
        "\n",
        "palabras_filtradas = list(filter(lambda x: len(x) >= 5, palabras))\n",
        "\n",
        "print(palabras_filtradas)"
      ]
    },
    {
      "cell_type": "markdown",
      "metadata": {
        "id": "3or6MbnZDW_b"
      },
      "source": [
        "## 3.1 Estructuras anidadas\n",
        "\n",
        "Previamente, aprendimos a manipular las listas, tuplas y diccionarios para trabajar con una secuencia o colección de valores sean numéricos, categóricos, etc. En esta aula, vamos a profundizar en otra situación común para la persona científica de datos que es trabajar con estos tipos de estructuras anidadas, o sea, cuando, por ejemplo, tenemos listas dentro de una lista."
      ]
    },
    {
      "cell_type": "markdown",
      "metadata": {
        "id": "fddus1G9HqB3"
      },
      "source": [
        "### **Lista de listas**\n",
        "\n",
        "#### Formato estándar:\n",
        "\n",
        "```python\n",
        "[[a1, a2,...,an], [b1, b2,...,bn], ..., [n1, n2,...,nn]]\n",
        "```"
      ]
    },
    {
      "cell_type": "markdown",
      "metadata": {
        "id": "32K5LA11tFpz"
      },
      "source": [
        "#### **Situación 6:**\n",
        "\n",
        "Recibimos la demanda de transformar una lista con el nombre y las notas de tres trimestres de algunos estudiantes en una lista simple, con los nombres separados de las notas, y una lista de listas con las tres notas de cada estudiante separadas entre sí. Los datos recibidos corresponden a una lista con los nombres y las respectivas notas de cada estudiante.\n",
        "\n",
        "**¿Vamos a resolver este desafío?**\n",
        "\n",
        "Para facilitar nuestra comprensión del proceso, vamos a trabajar con un grupo de 5 estudiantes; sin embargo, puedes probar otros casos para practicar.\n"
      ]
    },
    {
      "cell_type": "code",
      "execution_count": null,
      "metadata": {
        "id": "jlEP-c2YthpB"
      },
      "outputs": [],
      "source": [
        "notas_grupo = ['Juan', 8.0, 9.0, 10.0, 'Maria', 9.0, 7.0, 6.0, 'José', 3.4, 7.0, 7.0, 'Claudia', 5.5, 6.6, 8.0, 'Ana', 6.0, 10.0, 9.5]"
      ]
    },
    {
      "cell_type": "code",
      "execution_count": null,
      "metadata": {
        "colab": {
          "base_uri": "https://localhost:8080/"
        },
        "id": "azR_cX-ILghB",
        "outputId": "c6cb65ea-ac1b-4905-863f-3c0aa88adc70"
      },
      "outputs": [
        {
          "name": "stdout",
          "output_type": "stream",
          "text": [
            "['Juan', 'Maria', 'José', 'Claudia', 'Ana']\n",
            "[8.0, 9.0, 10.0, 9.0, 7.0, 6.0, 3.4, 7.0, 7.0, 5.5, 6.6, 8.0, 6.0, 10.0, 9.5]\n"
          ]
        }
      ],
      "source": [
        "nombres = []\n",
        "notas = []\n",
        "\n",
        "for i in range(len(notas_grupo)):\n",
        "  if i % 4 == 0:\n",
        "    nombres.append(notas_grupo[i])\n",
        "  else:\n",
        "    notas.append(notas_grupo[i])\n",
        "\n",
        "print(nombres)\n",
        "print(notas)"
      ]
    },
    {
      "cell_type": "code",
      "execution_count": null,
      "metadata": {
        "colab": {
          "base_uri": "https://localhost:8080/"
        },
        "id": "GhfsJvs9LgjY",
        "outputId": "195ceb84-f683-4638-992a-38b05161225b"
      },
      "outputs": [
        {
          "name": "stdout",
          "output_type": "stream",
          "text": [
            "[[8.0, 9.0, 10.0], [9.0, 7.0, 6.0], [3.4, 7.0, 7.0], [5.5, 6.6, 8.0], [6.0, 10.0, 9.5]]\n"
          ]
        }
      ],
      "source": [
        "notas_separadas = []\n",
        "for i in range(0, len(notas), 3): # toma de grupo de tres\n",
        "  notas_separadas.append(notas[i:i+3]) # append([notas[i], notas[i+1], notas[i+2]])\n",
        "\n",
        "print(notas_separadas)"
      ]
    },
    {
      "cell_type": "markdown",
      "metadata": {
        "id": "SW0sVg68sK_z"
      },
      "source": [
        "### **Lista de tuplas**\n",
        "\n",
        "#### Formato estándar:\n",
        "\n",
        "```python\n",
        "[(a1, a2,...,an), (b1, b2,...,bn), ..., (n1, n2,...,nn)]\n",
        "```"
      ]
    },
    {
      "cell_type": "markdown",
      "metadata": {
        "id": "OId6jAZz5x2m"
      },
      "source": [
        "#### **Situación 7:**\n",
        "\n",
        "Necesitamos generar una lista de tuplas con los nombres de los estudiantes y el código ID de cada uno de ellos para la plataforma de análisis de datos. La creación del código consiste en concatenar la primera letra del nombre del estudiante con un número aleatorio de 0 a 999. Los datos recibidos corresponden a una lista con los nombres de cada estudiante.\n",
        "\n",
        "**¿Vamos a resolver este desafío?**\n",
        "\n",
        "Para facilitar nuestra comprensión del proceso, vamos a trabajar con un grupo de 5 estudiantes; sin embargo, puedes probar otros casos para practicar.\n"
      ]
    },
    {
      "cell_type": "code",
      "execution_count": null,
      "metadata": {
        "colab": {
          "base_uri": "https://localhost:8080/"
        },
        "id": "YA1zJ0G6LkTy",
        "outputId": "63f568af-175e-49c6-bf22-1b36017983e8"
      },
      "outputs": [
        {
          "data": {
            "text/plain": [
              "['Juan', 'Maria', 'José', 'Claudia', 'Ana']"
            ]
          },
          "execution_count": 7,
          "metadata": {},
          "output_type": "execute_result"
        }
      ],
      "source": [
        "nombres"
      ]
    },
    {
      "cell_type": "code",
      "execution_count": null,
      "metadata": {
        "id": "yBzPwhGiLkWa"
      },
      "outputs": [],
      "source": [
        "from random import randint\n",
        "\n",
        "def generate_id(nombre):\n",
        "  return nombre[0]+str(randint(0,999))"
      ]
    },
    {
      "cell_type": "code",
      "execution_count": null,
      "metadata": {
        "colab": {
          "base_uri": "https://localhost:8080/"
        },
        "id": "9qgGAjSyLndK",
        "outputId": "5e6b3844-0061-421a-cbc2-5bd917789044"
      },
      "outputs": [
        {
          "name": "stdout",
          "output_type": "stream",
          "text": [
            "[('Juan', 'J407'), ('Maria', 'M428'), ('José', 'J390'), ('Claudia', 'C870'), ('Ana', 'A236')]\n"
          ]
        }
      ],
      "source": [
        "ids_estudiantes = []\n",
        "\n",
        "for i in range(len(nombres)):\n",
        "  ids_estudiantes.append((nombres[i], generate_id(nombres[i])))\n",
        "\n",
        "print(ids_estudiantes)\n"
      ]
    },
    {
      "cell_type": "markdown",
      "metadata": {
        "id": "srHAov19QCdb"
      },
      "source": [
        "## 3.2 List comprehension\n",
        "\n",
        "Es una forma simple y concisa de crear una lista. Podemos aplicar condicionales y lazos para crear diversos tipos de listas a partir de patrones que deseamos para nuestra estructura de datos.\n",
        "\n",
        "https://docs.python.org/es/3/tutorial/datastructures.html?#list-comprehensions\n",
        "\n",
        "#### Formato estándar:\n",
        "\n",
        "```python\n",
        "[expresion for item in lista]\n",
        "```"
      ]
    },
    {
      "cell_type": "markdown",
      "metadata": {
        "id": "l4HW0gDqecgM"
      },
      "source": [
        "#### **Situación 8:**\n",
        "\n",
        "Recibimos la demanda de crear una lista con el promedio de los estudiantes de la lista de listas que creamos en la Situación 6, redondeando el promedio a una casilla decimal. Recordando que cada lista de la lista de listas contiene las tres notas de cada estudiante.\n",
        "\n",
        "**¿Vamos a resolver este desafío?**\n",
        "\n",
        "**Tip:** Utiliza el formato:\n",
        "```python\n",
        "[expresion for item in lista]\n",
        "```"
      ]
    },
    {
      "cell_type": "code",
      "execution_count": null,
      "metadata": {
        "id": "J_atQRQdlpNe"
      },
      "outputs": [],
      "source": [
        "def promedio(lista: list=[0]) -> float:\n",
        "  ''' Función para calcular el promedio de notas en una lista\n",
        "\n",
        "  lista: list, default [0]\n",
        "    Lista con las notas para calcular el promedio\n",
        "  return = calculo: float\n",
        "    Promedio calculado\n",
        "  '''\n",
        "\n",
        "  calculo = sum(lista) / len(lista)\n",
        "\n",
        "  return calculo"
      ]
    },
    {
      "cell_type": "code",
      "execution_count": null,
      "metadata": {
        "colab": {
          "base_uri": "https://localhost:8080/"
        },
        "id": "h7LeBrgnLAG6",
        "outputId": "6ee0dea9-2f00-4928-eb76-cf254774ef46"
      },
      "outputs": [
        {
          "data": {
            "text/plain": [
              "[9.0, 7.3, 5.8, 6.7, 8.5]"
            ]
          },
          "execution_count": 25,
          "metadata": {},
          "output_type": "execute_result"
        }
      ],
      "source": [
        "notas =[ [8.0, 9.0, 10.0], [9.0, 7.0, 6.0], [3.4, 7.0, 7.0], [5.5, 6.6, 8.0], [6.0, 10.0, 9.5]]\n",
        "promedios = [round(promedio(nota),1) for nota in notas]\n",
        "promedios\n"
      ]
    },
    {
      "cell_type": "code",
      "execution_count": null,
      "metadata": {
        "id": "3j8_H7e8LAJZ"
      },
      "outputs": [],
      "source": []
    },
    {
      "cell_type": "markdown",
      "metadata": {
        "id": "ApLjXlAdhJKd"
      },
      "source": [
        "#### **Situación 9:**\n",
        "\n",
        "Ahora, necesitamos utilizar los promedios calculados en el ejemplo anterior, y agruparlos con el nombre de los respectivos estudiantes. Esto será necesario para generar una lista que seleccione a aquellos estudiantes que posean un promedio final mayor o igual a 8 para concursar por una beca de estudios para el próximo año lectivo. Los datos recibidos corresponden a una lista de tuplas con los nombres y los códigos de los estudiantes junto a la lista de promedios calculados previamente.\n",
        "\n",
        "**Nota: El número de código será diferente cada vez que se ejecute la celda que los genera, por lo tanto, es completamente normal que estos códigos sean diferentes.**\n",
        "\n",
        "**¿Vamos a resolver este desafío?**\n",
        "\n",
        "Para facilitar nuestra comprensión del proceso vamos a trabajar con un grupo de 5 estudiantes.\n",
        "\n",
        "**Tip:** Utiliza el formato:\n",
        "\n",
        "```python\n",
        "[expresion for item in lista if condicion]\n",
        "```"
      ]
    },
    {
      "cell_type": "markdown",
      "metadata": {
        "id": "R6EbE8A7O8Q_"
      },
      "source": []
    },
    {
      "cell_type": "code",
      "execution_count": null,
      "metadata": {
        "colab": {
          "base_uri": "https://localhost:8080/"
        },
        "id": "QK-ubmmrLC7I",
        "outputId": "53ddaaf7-b027-4328-c973-35aed2146edc"
      },
      "outputs": [
        {
          "name": "stdout",
          "output_type": "stream",
          "text": [
            "[('Juan', 'J407'), ('Maria', 'M428'), ('José', 'J390'), ('Claudia', 'C870'), ('Ana', 'A236')]\n",
            "[9.0, 7.3, 5.8, 6.7, 8.5]\n"
          ]
        }
      ],
      "source": [
        "print(ids_estudiantes)\n",
        "print(promedios)"
      ]
    },
    {
      "cell_type": "code",
      "execution_count": null,
      "metadata": {
        "colab": {
          "base_uri": "https://localhost:8080/"
        },
        "id": "df1Q8GGELC9b",
        "outputId": "aedb6076-d6fa-4576-9718-db66326abfda"
      },
      "outputs": [
        {
          "data": {
            "text/plain": [
              "['Juan', 'Maria', 'José', 'Claudia', 'Ana']"
            ]
          },
          "execution_count": 39,
          "metadata": {},
          "output_type": "execute_result"
        }
      ],
      "source": [
        "nombres = [id[0] for id in ids_estudiantes]\n",
        "nombres"
      ]
    },
    {
      "cell_type": "markdown",
      "metadata": {
        "id": "U6KAABs7Dfpe"
      },
      "source": [
        "<font color=green>**Tip:**</font> Para lograr parear los promedios y\n",
        "los nombres fácilmente, podemos acudir a otra  built-in function: `zip()`\n",
        "\n",
        "Esta recibe uno o más iterables (lista, string, dict, etc.) y los retorna como un iterador de tuplas donde cada elemento de los iterables es pareado."
      ]
    },
    {
      "cell_type": "code",
      "execution_count": null,
      "metadata": {
        "colab": {
          "base_uri": "https://localhost:8080/"
        },
        "id": "841v92WvLEol",
        "outputId": "a57d1efc-380a-4e85-8426-fc523836e613"
      },
      "outputs": [
        {
          "data": {
            "text/plain": [
              "<zip at 0x7b442f221f40>"
            ]
          },
          "execution_count": 40,
          "metadata": {},
          "output_type": "execute_result"
        }
      ],
      "source": [
        "zip(nombres, promedios)"
      ]
    },
    {
      "cell_type": "code",
      "execution_count": null,
      "metadata": {
        "id": "U8b4G_2oLErp"
      },
      "outputs": [],
      "source": [
        "estudiantes = list(zip(nombres, promedios))"
      ]
    },
    {
      "cell_type": "code",
      "execution_count": null,
      "metadata": {
        "colab": {
          "base_uri": "https://localhost:8080/"
        },
        "id": "J4Y78mWHQGsp",
        "outputId": "852203c6-8490-45a6-9a30-0478836d533a"
      },
      "outputs": [
        {
          "data": {
            "text/plain": [
              "['Juan', 'Ana']"
            ]
          },
          "execution_count": 45,
          "metadata": {},
          "output_type": "execute_result"
        }
      ],
      "source": [
        "candidatos = [estudiante[0] for estudiante in estudiantes if estudiante[1] >= 8]\n",
        "candidatos"
      ]
    },
    {
      "cell_type": "markdown",
      "metadata": {
        "id": "9yzRDIB0fkeF"
      },
      "source": [
        "#### **Situación 10:**\n",
        "\n",
        "Recibimos dos demandas sobre este proyecto con las notas de los estudiantes:\n",
        "- Crear una lista de la situación de los estudiantes considerando los siguientes casos: Si su promedio es mayor o igual a 7, recibirá el valor \"Aprobado\" y en caso contrario recibirá el valor \"Reprobado\".\n",
        "- Generar una lista de listas con:\n",
        "  - Lista de tuplas con el nombre de los estudiantes y sus códigos\n",
        "  - Lista de listas con las notas de cada estudiante\n",
        "  - Lista con los promedios de cada estudiante\n",
        "  - Lista de la situación de los estudiantes de acuerdo con los promedios\n",
        "\n",
        "Los datos que utilizaremos son los mismos que generamos en las situaciones anteriores (`nombres`, `notas`, `promedios`).\n",
        "\n",
        "**¿Vamos a resolver este desafío?**\n",
        "\n",
        "Para avanzar en el proceso, vamos a dejar escritas las estructuras de datos que ya produjimos.\n",
        "\n",
        "**Tip:** Para la lista de las situaciones utiliza el formato:\n",
        "```python\n",
        "[resultado_if if condicion else resultado_else for item in lista]\n",
        "```"
      ]
    },
    {
      "cell_type": "code",
      "execution_count": null,
      "metadata": {
        "colab": {
          "base_uri": "https://localhost:8080/"
        },
        "id": "YGQIaCzkLGqd",
        "outputId": "597688e0-71ec-484f-a1ad-cb0ff6fc66c0"
      },
      "outputs": [
        {
          "data": {
            "text/plain": [
              "['Aprobado(a)', 'Aprobado(a)', 'Reprobado(a)', 'Reprobado(a)', 'Aprobado(a)']"
            ]
          },
          "execution_count": 50,
          "metadata": {},
          "output_type": "execute_result"
        }
      ],
      "source": [
        "situacion = ['Aprobado(a)' if promedio >= 7 else 'Reprobado(a)' for promedio in promedios]\n",
        "situacion"
      ]
    },
    {
      "cell_type": "markdown",
      "metadata": {
        "id": "0XsAi49IF9Ta"
      },
      "source": [
        "**Tip:** Para generar la lista de listas del enunciado podemos utilizar el siguiente formato:\n",
        "```python\n",
        "[expresion for item in lista de listas]\n",
        "```"
      ]
    },
    {
      "cell_type": "code",
      "execution_count": null,
      "metadata": {
        "colab": {
          "base_uri": "https://localhost:8080/"
        },
        "id": "1Dj6R1vTLIbI",
        "outputId": "b55d25ac-9ef1-4c51-d0ab-128fc3ae93ab"
      },
      "outputs": [
        {
          "data": {
            "text/plain": [
              "[[('Juan', 'J407'),\n",
              "  ('Maria', 'M428'),\n",
              "  ('José', 'J390'),\n",
              "  ('Claudia', 'C870'),\n",
              "  ('Ana', 'A236')],\n",
              " [[8.0, 9.0, 10.0],\n",
              "  [9.0, 7.0, 6.0],\n",
              "  [3.4, 7.0, 7.0],\n",
              "  [5.5, 6.6, 8.0],\n",
              "  [6.0, 10.0, 9.5]],\n",
              " [9.0, 7.3, 5.8, 6.7, 8.5],\n",
              " ['Aprobado(a)', 'Aprobado(a)', 'Reprobado(a)', 'Reprobado(a)', 'Aprobado(a)']]"
            ]
          },
          "execution_count": 53,
          "metadata": {},
          "output_type": "execute_result"
        }
      ],
      "source": [
        "registros = [x for x in [ids_estudiantes, notas, promedios, situacion]]\n",
        "registros"
      ]
    },
    {
      "cell_type": "markdown",
      "metadata": {
        "id": "4hkHEZGbGH7X"
      },
      "source": [
        "<font color=green>**Tip:**</font> Podemos acudir a la forma más simple de generación de lista de listas con el uso directo de los corchetes sin la necesidad de utilizar las expresiones y el lazo `for` que se emplea en la comprensión de listas."
      ]
    },
    {
      "cell_type": "code",
      "execution_count": null,
      "metadata": {
        "colab": {
          "base_uri": "https://localhost:8080/"
        },
        "id": "1tEtWzSoLKKg",
        "outputId": "5e630df0-a334-4756-c0ef-bfe13fea4a31"
      },
      "outputs": [
        {
          "data": {
            "text/plain": [
              "[[('Juan', 'J407'),\n",
              "  ('Maria', 'M428'),\n",
              "  ('José', 'J390'),\n",
              "  ('Claudia', 'C870'),\n",
              "  ('Ana', 'A236')],\n",
              " [[8.0, 9.0, 10.0],\n",
              "  [9.0, 7.0, 6.0],\n",
              "  [3.4, 7.0, 7.0],\n",
              "  [5.5, 6.6, 8.0],\n",
              "  [6.0, 10.0, 9.5]],\n",
              " [9.0, 7.3, 5.8, 6.7, 8.5],\n",
              " ['Aprobado(a)', 'Aprobado(a)', 'Reprobado(a)', 'Reprobado(a)', 'Aprobado(a)']]"
            ]
          },
          "execution_count": 55,
          "metadata": {},
          "output_type": "execute_result"
        }
      ],
      "source": [
        "registros2 = [ids_estudiantes, notas, promedios, situacion]\n",
        "registros2\n"
      ]
    },
    {
      "cell_type": "markdown",
      "metadata": {
        "id": "NmohhDl-QRpx"
      },
      "source": [
        "## 3.3 Dict comprehension\n",
        "\n",
        "Es una forma simple y concisa de crear o modificar un diccionario. Podemos aplicar condicionales y lazos para crear diversos tipos de diccionarios a partir de los patrones que buscamos para nuestra estructura de datos y con el soporte de iterables como listas o sets.\n",
        "\n",
        "https://peps.python.org/pep-0274/\n",
        "\n",
        "#### Formato estándar:\n",
        "\n",
        "```python\n",
        "{llave: valor for item in lista}\n",
        "```"
      ]
    },
    {
      "cell_type": "markdown",
      "metadata": {
        "id": "kGt8hQXOKeIt"
      },
      "source": [
        "#### **Situación 11:**\n",
        "\n",
        "Ahora, nuestra demanda consiste en generar un diccionario a partir de la lista de listas que creamos en la Situación 10 para entregar a la persona responsable por construir las tablas para el análisis de los datos.\n",
        "- Las llaves de nuestro diccionario serán las columnas identificando el tipo de dato\n",
        "- Los valores serán las listas con los datos correspondientes a aquella llave.\n",
        "\n",
        "**¿Vamos a resolver este desafío?**\n",
        "\n",
        "Para facilitar nuestra comprensión del proceso vamos a trabajar con un grupo de 5 estudiantes.\n",
        "\n",
        "**Tip:** Utiliza el formato\n",
        "\n",
        "```python\n",
        "{llave: valor for item in lista}\n",
        "```"
      ]
    },
    {
      "cell_type": "code",
      "execution_count": null,
      "metadata": {
        "id": "GuTwYw8NLNST"
      },
      "outputs": [],
      "source": [
        "lista_completa = [\n",
        "                  [('Juan', 'J407'), ('Maria', 'M428'), ('José', 'J390'), ('Claudia', 'C870'), ('Ana', 'A236')],\n",
        "                  [[8.0, 9.0, 10.0], [9.0, 7.0, 6.0], [3.4, 7.0, 7.0], [5.5, 6.6, 8.0], [6.0, 10.0, 9.5]],\n",
        "                  [9.0, 7.3, 5.8, 6.7, 8.5],\n",
        "                  ['Aprobado(a)', 'Aprobado(a)', 'Reprobado(a)', 'Reprobado(a)', 'Aprobado(a)']\n",
        "                  ]"
      ]
    },
    {
      "cell_type": "code",
      "execution_count": null,
      "metadata": {
        "colab": {
          "base_uri": "https://localhost:8080/"
        },
        "id": "Ka1JPCuvLP4x",
        "outputId": "400323b7-6a7d-4dcf-f570-80fe4c534c94"
      },
      "outputs": [
        {
          "data": {
            "text/plain": [
              "['Estudiante', 'Notas', 'Promedio Final', 'Situacion']"
            ]
          },
          "execution_count": 59,
          "metadata": {},
          "output_type": "execute_result"
        }
      ],
      "source": [
        "columnas = [\"Estudiante\", \"Notas\", \"Promedio Final\", \"Situacion\" ]\n",
        "columnas"
      ]
    },
    {
      "cell_type": "code",
      "execution_count": null,
      "metadata": {
        "colab": {
          "base_uri": "https://localhost:8080/"
        },
        "id": "4GhlzfLbLP8L",
        "outputId": "70ba6b01-2dfe-4db6-9158-4188f11edf4d"
      },
      "outputs": [
        {
          "data": {
            "text/plain": [
              "{'Estudiante': [('Juan', 'J407'),\n",
              "  ('Maria', 'M428'),\n",
              "  ('José', 'J390'),\n",
              "  ('Claudia', 'C870'),\n",
              "  ('Ana', 'A236')],\n",
              " 'Notas': [[8.0, 9.0, 10.0],\n",
              "  [9.0, 7.0, 6.0],\n",
              "  [3.4, 7.0, 7.0],\n",
              "  [5.5, 6.6, 8.0],\n",
              "  [6.0, 10.0, 9.5]],\n",
              " 'Promedio Final': [9.0, 7.3, 5.8, 6.7, 8.5],\n",
              " 'Situacion': ['Aprobado(a)',\n",
              "  'Aprobado(a)',\n",
              "  'Reprobado(a)',\n",
              "  'Reprobado(a)',\n",
              "  'Aprobado(a)']}"
            ]
          },
          "execution_count": 63,
          "metadata": {},
          "output_type": "execute_result"
        }
      ],
      "source": [
        "registro3 = {columnas[i]: lista_completa[i] for i in range (len(columnas))}\n",
        "registro3"
      ]
    },
    {
      "cell_type": "markdown",
      "metadata": {
        "id": "wsqD0Hncdt_T"
      },
      "source": [
        "## Ejercitación"
      ]
    },
    {
      "cell_type": "markdown",
      "metadata": {
        "id": "65Wi038dd3J7"
      },
      "source": [
        "1 - Crea un código para imprimir la suma de los elementos de cada una de las listas contenidas en la siguiente lista:\n",
        "\n",
        "lista_de_listas = [[4, 6, 5, 9], [1, 0, 7, 2], [3, 4, 1, 8]]"
      ]
    },
    {
      "cell_type": "code",
      "execution_count": null,
      "metadata": {
        "colab": {
          "base_uri": "https://localhost:8080/"
        },
        "id": "3LeIuF5Ud80s",
        "outputId": "f1e826fd-1f26-4eac-c82d-8bcc1c60ccab"
      },
      "outputs": [
        {
          "data": {
            "text/plain": [
              "[24, 10, 16]"
            ]
          },
          "execution_count": 67,
          "metadata": {},
          "output_type": "execute_result"
        }
      ],
      "source": [
        "lista_de_listas = [[4, 6, 5, 9], [1, 0, 7, 2], [3, 4, 1, 8]]\n",
        "\n",
        "sumas = [sum(lista) for lista in lista_de_listas]\n",
        "sumas"
      ]
    },
    {
      "cell_type": "markdown",
      "metadata": {
        "id": "ULqQls_ueR1V"
      },
      "source": [
        "2 - Crea un código para generar una lista que almacene el tercer elemento de cada tupla contenida en la siguiente lista de tuplas:\n",
        "\n",
        "lista_de_tuplas = [('Pedro', 1.74, 81), ('Júlia', 1.65, 67), ('Otávio', 1.81, 83)]"
      ]
    },
    {
      "cell_type": "code",
      "execution_count": null,
      "metadata": {
        "colab": {
          "base_uri": "https://localhost:8080/"
        },
        "id": "rUk36VvveVZp",
        "outputId": "51385b3e-88b6-443a-9093-d35ca06f2a15"
      },
      "outputs": [
        {
          "data": {
            "text/plain": [
              "[81, 67, 83]"
            ]
          },
          "execution_count": 68,
          "metadata": {},
          "output_type": "execute_result"
        }
      ],
      "source": [
        "lista_de_tuplas = [('Pedro', 1.74, 81), ('Júlia', 1.65, 67), ('Otávio', 1.81, 83)]\n",
        "\n",
        "lista = [tupla[2] for tupla in lista_de_tuplas]\n",
        "lista"
      ]
    },
    {
      "cell_type": "markdown",
      "metadata": {
        "id": "p6uuaZ4De279"
      },
      "source": [
        "3 - A partir de la lista: lista = ['Pedro', 'Júlia', 'Otávio', 'Eduardo'], crea un código para generar una lista de tuplas en la que cada tupla tenga el primer elemento como la posición del nombre en la lista original y el segundo elemento siendo el propio nombre."
      ]
    },
    {
      "cell_type": "code",
      "execution_count": null,
      "metadata": {
        "colab": {
          "base_uri": "https://localhost:8080/"
        },
        "id": "3HsvDY0Fe4US",
        "outputId": "9fd1c650-c046-434d-8895-b9a9defa7d3a"
      },
      "outputs": [
        {
          "data": {
            "text/plain": [
              "[(1, 'Pedro'), (2, 'Júlia'), (3, 'Otávio'), (4, 'Eduardo')]"
            ]
          },
          "execution_count": 75,
          "metadata": {},
          "output_type": "execute_result"
        }
      ],
      "source": [
        "lista = ['Pedro', 'Júlia', 'Otávio', 'Eduardo']\n",
        "\n",
        "posiciones = [ lista.index(nombre) +1 for nombre in lista]\n",
        "\n",
        "lista_de_tuplas = list(zip(posiciones, lista))\n",
        "lista_de_tuplas"
      ]
    },
    {
      "cell_type": "markdown",
      "metadata": {
        "id": "Fb7HJj0theEd"
      },
      "source": [
        "5 - Crea un diccionario usando la comprensión de diccionarios (dict comprehension) en el que las claves estén en la lista meses = ['Jan', 'Fev', 'Mar', 'Abr', 'Mai', 'Jun', 'Jul', 'Ago', 'Set', 'Out', 'Nov', 'Dez'] y los valores estén en gasto = [860, 490, 1010, 780, 900, 630, 590, 770, 620, 560, 840, 360]."
      ]
    },
    {
      "cell_type": "code",
      "execution_count": null,
      "metadata": {
        "colab": {
          "base_uri": "https://localhost:8080/"
        },
        "id": "Bg-yxuhoh1ni",
        "outputId": "ae29dc46-2a77-4f4a-8071-26a36858dffe"
      },
      "outputs": [
        {
          "name": "stdout",
          "output_type": "stream",
          "text": [
            "{'Jan': 860, 'Fev': 490, 'Mar': 1010, 'Abr': 780, 'Mai': 900, 'Jun': 630, 'Jul': 590, 'Ago': 770, 'Set': 620, 'Out': 560, 'Nov': 840, 'Dez': 360}\n",
            "{'Jan': 860, 'Fev': 490, 'Mar': 1010, 'Abr': 780, 'Mai': 900, 'Jun': 630, 'Jul': 590, 'Ago': 770, 'Set': 620, 'Out': 560, 'Nov': 840, 'Dez': 360}\n"
          ]
        }
      ],
      "source": [
        "meses = ['Jan', 'Fev', 'Mar', 'Abr', 'Mai', 'Jun', 'Jul', 'Ago', 'Set', 'Out', 'Nov', 'Dez']\n",
        "gasto = [860, 490, 1010, 780, 900, 630, 590, 770, 620, 560, 840, 360]\n",
        "\n",
        "gastos_anuales1 = {meses[i]: gasto[i] for i in range(len(meses))}\n",
        "\n",
        "gastos_anuales2 = {mes: valor for mes, valor in zip(meses, gasto)}\n",
        "\n",
        "print(gastos_anuales1)\n",
        "print(gastos_anuales2)"
      ]
    },
    {
      "cell_type": "markdown",
      "metadata": {
        "id": "mPrtcoZekKZk"
      },
      "source": [
        "6 - Una tienda tiene una base de datos con la información de venta de cada representante y de cada año y necesita filtrar solo los datos del año 2022 con ventas mayores a 6000. La tienda proporcionó una muestra con solo las columnas de los años y los valores de venta para que puedas ayudar a realizar la filtración de los datos a través de un código:\n",
        "\n",
        "ventas = [('2023', 4093), ('2021', 4320), ('2021', 5959), ('2022', 8883), ('2023', 9859), ('2022', 5141), ('2022', 7688), ('2022', 9544), ('2023', 4794), ('2021', 7178), ('2022', 3030), ('2021', 7471), ('2022', 4226), ('2022', 8190), ('2021', 9680), ('2022', 5616)]\n",
        "\n",
        "Crea una lista usando la comprensión de listas para filtrar los valores de 2022 que sean mayores a 6000."
      ]
    },
    {
      "cell_type": "code",
      "execution_count": null,
      "metadata": {
        "colab": {
          "base_uri": "https://localhost:8080/"
        },
        "id": "ZusagL0Ukhq4",
        "outputId": "2c21ea71-015e-4db0-f934-2cde4c251fd0"
      },
      "outputs": [
        {
          "data": {
            "text/plain": [
              "[('2022', 8883), ('2022', 7688), ('2022', 9544), ('2022', 8190)]"
            ]
          },
          "execution_count": 79,
          "metadata": {},
          "output_type": "execute_result"
        }
      ],
      "source": [
        "ventas = [('2023', 4093), ('2021', 4320), ('2021', 5959), ('2022', 8883), ('2023', 9859), ('2022', 5141), ('2022', 7688), ('2022', 9544), ('2023', 4794), ('2021', 7178), ('2022', 3030), ('2021', 7471), ('2022', 4226), ('2022', 8190), ('2021', 9680), ('2022', 5616)]\n",
        "\n",
        "filtro = [venta for venta in ventas if venta[0] == '2022' and venta[1] > 6000]\n",
        "filtro"
      ]
    },
    {
      "cell_type": "markdown",
      "metadata": {
        "id": "EyTqjW1imGQ7"
      },
      "source": [
        "7 - Una clínica analiza datos de pacientes y almacena el valor numérico de la glucosa en una base de datos y le gustaría etiquetar los datos de la siguiente manera:\n",
        "\n",
        "Glucosa igual o inferior a 70: 'Hipoglicemia'\n",
        "Glucosa entre 70 y 99: 'Normal'\n",
        "Glucosa entre 100 y 125: 'Alterada'\n",
        "Glucosa superior a 125: 'Diabetes'\n",
        "La clínica proporcionó parte de los valores y tu tarea es crear una lista de tuplas usando la comprensión de listas que contenga la etiqueta y el valor de la glucemia en cada tupla.\n",
        "\n",
        "glicemia = [129, 82, 60, 97, 101, 65, 62, 167, 87, 53, 58, 92, 66, 120, 109, 62, 86, 96, 103, 88, 155, 52, 89, 73]"
      ]
    },
    {
      "cell_type": "code",
      "execution_count": null,
      "metadata": {
        "colab": {
          "base_uri": "https://localhost:8080/"
        },
        "id": "EDUsIHcdopRD",
        "outputId": "73de59b8-187d-4b36-8717-0f82e34afc81"
      },
      "outputs": [
        {
          "data": {
            "text/plain": [
              "[('Diabetes', 129),\n",
              " ('Normal', 82),\n",
              " ('Hipoglicemia', 60),\n",
              " ('Normal', 97),\n",
              " ('Alterada', 101),\n",
              " ('Hipoglicemia', 65),\n",
              " ('Hipoglicemia', 62),\n",
              " ('Diabetes', 167),\n",
              " ('Normal', 87),\n",
              " ('Hipoglicemia', 53),\n",
              " ('Hipoglicemia', 58),\n",
              " ('Normal', 92),\n",
              " ('Hipoglicemia', 66),\n",
              " ('Alterada', 120),\n",
              " ('Alterada', 109),\n",
              " ('Hipoglicemia', 62),\n",
              " ('Normal', 86),\n",
              " ('Normal', 96),\n",
              " ('Alterada', 103),\n",
              " ('Normal', 88),\n",
              " ('Diabetes', 155),\n",
              " ('Hipoglicemia', 52),\n",
              " ('Normal', 89),\n",
              " ('Normal', 73)]"
            ]
          },
          "execution_count": 83,
          "metadata": {},
          "output_type": "execute_result"
        }
      ],
      "source": [
        "glicemia = [129, 82, 60, 97, 101, 65, 62, 167, 87, 53, 58, 92, 66, 120, 109, 62, 86, 96, 103, 88, 155, 52, 89, 73]\n",
        "estado = [\"Hipoglicemia\" if valor <= 70 else \"Normal\" if 71 <= valor <= 99  else \"Alterada\" if 100 <= valor <= 125 else \"Diabetes\" for valor  in glicemia]\n",
        "etiquetas = list(zip(estado, glicemia))\n",
        "etiquetas"
      ]
    },
    {
      "cell_type": "markdown",
      "metadata": {
        "id": "PPtr-6sen0zM"
      },
      "source": [
        "8 - Un comercio electrónico tiene información de id de venta, cantidad vendida y precio del producto divididos en las siguientes listas:\n",
        "\n",
        "id = [0, 1, 2, 3, 4, 5, 6, 7, 8, 9]\n",
        "\n",
        "cantidad = [15, 12, 1, 15, 2, 11, 2, 12, 2, 4]\n",
        "\n",
        "\n",
        "precio = [93.0, 102.0, 18.0, 41.0, 122.0, 14.0, 71.0, 48.0, 14.0, 144.0]\n",
        "\n",
        "La plataforma necesita estructurar estos datos en una tabla que contenga el valor total de la venta, que se obtiene multiplicando la cantidad por el precio unitario. Además, la tabla debe contener un encabezado indicando las columnas: 'id', 'cantidad', 'precio' y 'total'.\n",
        "\n",
        "Crea una lista de tuplas en la que cada tupla tenga id, cantidad, precio y valor total, siendo la primera tupla el encabezado de la tabla."
      ]
    },
    {
      "cell_type": "code",
      "execution_count": null,
      "metadata": {
        "colab": {
          "base_uri": "https://localhost:8080/"
        },
        "id": "KYp_on1ToVQd",
        "outputId": "367d1a7f-129c-4500-cc5f-68680bea2912"
      },
      "outputs": [
        {
          "data": {
            "text/plain": [
              "[('Id', 'Cantidad', 'Precio', 'Valor Total'),\n",
              " (0, 15, 93.0, 1395.0),\n",
              " (1, 12, 102.0, 1224.0),\n",
              " (2, 1, 18.0, 18.0),\n",
              " (3, 15, 41.0, 615.0),\n",
              " (4, 2, 122.0, 244.0),\n",
              " (5, 11, 14.0, 154.0),\n",
              " (6, 2, 71.0, 142.0),\n",
              " (7, 12, 48.0, 576.0),\n",
              " (8, 2, 14.0, 28.0),\n",
              " (9, 4, 144.0, 576.0)]"
            ]
          },
          "execution_count": 10,
          "metadata": {},
          "output_type": "execute_result"
        }
      ],
      "source": [
        "# id = [0, 1, 2, 3, 4, 5, 6, 7, 8, 9]\n",
        "# cantidad = [15, 12, 1, 15, 2, 11, 2, 12, 2, 4]\n",
        "# precio = [93.0, 102.0, 18.0, 41.0, 122.0, 14.0, 71.0, 48.0, 14.0, 144.0]\n",
        "# total = []\n",
        "# encabezados = (\"Id\", \"Cantidad\", \"Precio\", \"Valor Total\"  )\n",
        "\n",
        "# for i in range(len(cantidad)):\n",
        "#   total.append(cantidad[i]*precio[i])\n",
        "\n",
        "\n",
        "# valores = list(zip(id, cantidad, precio, total))\n",
        "# informe = [encabezados] + valores\n",
        "# informe\n",
        "\n",
        "\n",
        "id = [0, 1, 2, 3, 4, 5, 6, 7, 8, 9]\n",
        "cantidad = [15, 12, 1, 15, 2, 11, 2, 12, 2, 4]\n",
        "precio = [93.0, 102.0, 18.0, 41.0, 122.0, 14.0, 71.0, 48.0, 14.0, 144.0]\n",
        "\n",
        "encabezado = (\"Id\", \"Cantidad\", \"Precio\", \"Valor Total\")\n",
        "valores = [(i, c, p, c*p) for i, c, p in zip(id, cantidad, precio)]\n",
        "informe = [encabezado] + valores\n",
        "\n",
        "informe\n"
      ]
    },
    {
      "cell_type": "markdown",
      "metadata": {
        "id": "zTcTe81vsI3n"
      },
      "source": [
        "9 - Una empresa tiene sucursales distribuidas en los estados de la región Sudeste de Brasil. En una de las tablas de registro de las sucursales, hay una columna que contiene la información de a qué estado pertenece: estados =['CMX', 'OAX', 'PUE', 'PUE', 'CMX', 'PUE', 'OAX', 'OAX', 'OAX', 'CMX', 'CMX', 'PUE', 'OAX', 'CMX', 'VER', 'PUE', 'VER', 'CMX', 'PUE', 'CMX', 'OAX', 'CMX', 'PUE'].\n",
        "\n",
        "La empresa siempre está abriendo nuevas sucursales, por lo que la tabla está constantemente recibiendo nuevos registros y al gerente le gustaría tener la información actualizada de la cantidad de sucursales en cada estado.\n",
        "\n",
        "A partir de la columna con la información de los estados, crea un diccionario utilizando la comprensión de diccionarios (dict comprehension) con la clave siendo el nombre de un estado y el valor siendo la cantidad de veces que aparece el estado en la lista.\n",
        "\n",
        "Consejo: Puedes hacer un paso intermedio para generar una lista de listas en la que cada una de las listas tenga el nombre de solo un estado con valores repetidos."
      ]
    },
    {
      "cell_type": "code",
      "execution_count": null,
      "metadata": {
        "colab": {
          "base_uri": "https://localhost:8080/"
        },
        "id": "Jy6BxCQIsnbU",
        "outputId": "fb602f22-3070-43d0-f199-7b71c1281531"
      },
      "outputs": [
        {
          "data": {
            "text/plain": [
              "{'CMX': 8, 'OAX': 6, 'PUE': 7, 'VER': 2}"
            ]
          },
          "execution_count": 15,
          "metadata": {},
          "output_type": "execute_result"
        }
      ],
      "source": [
        "estados =['CMX', 'OAX', 'PUE', 'PUE', 'CMX', 'PUE', 'OAX', 'OAX', 'OAX', 'CMX', 'CMX', 'PUE', 'OAX', 'CMX', 'VER', 'PUE', 'VER', 'CMX', 'PUE', 'CMX', 'OAX', 'CMX', 'PUE']\n",
        "sucursales = [[estado, estados.count(estado)] for estado in set(estados)]\n",
        "dict_sucursales = {estado: cantidad for estado, cantidad in sucursales}\n",
        "dict_sucursales\n",
        "\n"
      ]
    },
    {
      "cell_type": "markdown",
      "metadata": {
        "id": "IlJ9KAMLwG4x"
      },
      "source": [
        "10 - En esa misma tabla de registro de sucursales, hay una columna con la información de la cantidad de personas empleadas y el gerente quisiera tener un agrupamiento de la suma de esas personas para cada estado. Las informaciones contenidas en la tabla son:\n",
        "\n",
        " empleados = [('CMX', 16), ('OAX', 8), ('PUE', 9), ('PUE', 6), ('CMX', 10), ('PUE', 4), ('OAX',9),  ('OAX', 7), ('OAX', 12), ('CMX', 7), ('CMX', 11), ('PUE',8), ('OAX',8), ('CMX',9), ('VER', 13), ('PUE', 5),  ('VER', 9), ('CMX', 12), ('PUE', 10), ('CMX', 7), ('OAX', 14), ('CMX', 10), ('PUE', 12)]\n",
        "\n",
        " A partir de la lista de tuplas, crea un diccionario en el que las claves son los nombres de los estados únicos y los valores son las listas con el número de empleados referentes al estado. También crea un diccionario en el que las claves son los nombres de los estados y los valores son la suma de empleados por estado."
      ]
    },
    {
      "cell_type": "code",
      "execution_count": null,
      "metadata": {
        "colab": {
          "base_uri": "https://localhost:8080/"
        },
        "id": "w2_LXl39wRiy",
        "outputId": "5b738e25-a768-4df6-8858-7e9d8f31fdf4"
      },
      "outputs": [
        {
          "name": "stdout",
          "output_type": "stream",
          "text": [
            "{'CMX': [16, 10, 7, 11, 9, 12, 7, 10], 'OAX': [8, 9, 7, 12, 8, 14], 'PUE': [9, 6, 4, 8, 5, 10, 12], 'VER': [13, 9]}\n",
            "{'CMX': 82, 'OAX': 58, 'PUE': 54, 'VER': 22}\n"
          ]
        }
      ],
      "source": [
        "empleados = [('CMX', 16), ('OAX', 8), ('PUE', 9), ('PUE', 6), ('CMX', 10), ('PUE', 4), ('OAX',9),  ('OAX', 7), ('OAX', 12), ('CMX', 7), ('CMX', 11), ('PUE',8), ('OAX',8), ('CMX',9), ('VER', 13), ('PUE', 5),  ('VER', 9), ('CMX', 12), ('PUE', 10), ('CMX', 7), ('OAX', 14), ('CMX', 10), ('PUE', 12)]\n",
        "empleados_sucursales = { estado: [empleados[i][1] if estado == empleados[i][0]  else  cantidad.append(estado[i][1])] in empleados for estado, cantidad in empleados}\n",
        "empleados_sucursales\n"
      ]
    },
    {
      "cell_type": "markdown",
      "metadata": {
        "id": "RxKC5WVoCYp3"
      },
      "source": [
        "## <font color=green> 4. LIDIANDO CON EXCEPCIONES\n",
        "---"
      ]
    },
    {
      "cell_type": "markdown",
      "metadata": {
        "id": "MzOZ_0M3CU1x"
      },
      "source": [
        "Hemos podido evidenciar hasta aquí la existencia de algunos errores y excepciones en la ejecución de algún comando. Como científico/a de datos o programador, necesitarás estar atento a estas situaciones para evitar bugs o problemas en tus códigos y análisis que puedan afectar la experiencia tanto del usuario como la eficiencia de su análisis.\n",
        "\n",
        "Existen básicamente dos formas distintas de errores: Los **errores de sintáxis** y las **excepciones**.\n",
        "\n",
        "Las excepciones son errores detectados durante la ejecución e interrumpen el flujo del programa cerrándolo en caso de que no sean tratadas.  \n",
        "\n",
        "Vamos a aprender a identificar y tratar algunas de las excepciones aquí, pero es siempre importante consultar la documentación para investigar y verificar cuáles se ajustan a sus proyectos.\n",
        "\n",
        "**Documentación sobre errores y excepciones:** https://docs.python.org/es/3/tutorial/errors.html"
      ]
    },
    {
      "cell_type": "markdown",
      "metadata": {
        "id": "x3E66krBST7K"
      },
      "source": [
        "## 4.1 Tratando las Excepciones\n",
        "\n",
        "El tratamiento de las excepciones contribuye a establecer un flujo alternativo para la ejecución del código evitando la interrupción de los procesos inesperadamente.\n",
        "\n",
        "Existe una serie de excepciones, y a partir del comportamiento que queremos, y de los errores que queremos tratar, es posible construir un camino para el usuario, o también, proveer más detalles sobre aquella excepción.\n",
        "\n",
        "- Jerarquía de las excepciones (https://docs.python.org/es/3/library/exceptions.html#exception-hierarchy)"
      ]
    },
    {
      "cell_type": "markdown",
      "metadata": {
        "id": "h9lj8Wfk__cl"
      },
      "source": [
        "### Try ... Except\n",
        "\n",
        "```python\n",
        "try:\n",
        "  # código que será ejecutado. En caso de que surja una excepción, para inmediatamente\n",
        "except <nombre_de_la_excepcion as e>:\n",
        "  # Si surje una excepción en el try, ejecuta este código, si no, salta esta etapa\n",
        "```"
      ]
    },
    {
      "cell_type": "markdown",
      "metadata": {
        "id": "miwzhPNdD8Ty"
      },
      "source": [
        "#### **Situación 12:**\n",
        "\n",
        "Creaste un código que lee un diccionario con las notas de los estudiantes y querías retornar la lista de notas de un estudiante.\n",
        "\n",
        "En caso que el/la estudiante no esté matriculado(a) en el grupo debemos tratar la excepción para presentar el mensaje \"Estudiante no matriculado(a) en el grupo\".\n",
        "\n",
        "Vamos a trabajar en este ejemplo con la excepción **Key Error** que interrumpirá el processo de este trecho de código.\n",
        "\n",
        "**¿Vamos a probar este primer tratamiento?**\n",
        "\n"
      ]
    },
    {
      "cell_type": "code",
      "execution_count": null,
      "metadata": {
        "id": "UvVbXY0XVm-f"
      },
      "outputs": [],
      "source": [
        "notas = {'Juan': [8.0, 9.0, 10.0], 'Maria': [9.0, 7.0, 6.0], 'José': [3.4, 7.0, 8.0], 'Claudia': [5.5, 6.6, 8.0],\n",
        "         'Ana': [6.0, 10.0, 9.5], 'Jorge': [5.5, 7.5, 9.0], 'Julia': [6.0, 8.0, 7.0], 'Pedro': [3.0, 4.0, 6.0]}"
      ]
    },
    {
      "cell_type": "code",
      "execution_count": null,
      "metadata": {
        "colab": {
          "base_uri": "https://localhost:8080/",
          "height": 193
        },
        "id": "rFBq02dbJtkF",
        "outputId": "ad7cfc25-2a81-4f6d-bcca-358455c57471"
      },
      "outputs": [
        {
          "name": "stdout",
          "output_type": "stream",
          "text": [
            "Ingresa un nombre de un alumnoMarcela\n"
          ]
        },
        {
          "ename": "KeyError",
          "evalue": "'Marcela'",
          "output_type": "error",
          "traceback": [
            "\u001b[0;31m---------------------------------------------------------------------------\u001b[0m",
            "\u001b[0;31mKeyError\u001b[0m                                  Traceback (most recent call last)",
            "\u001b[0;32m<ipython-input-8-530198aaedc2>\u001b[0m in \u001b[0;36m<cell line: 0>\u001b[0;34m()\u001b[0m\n\u001b[1;32m      1\u001b[0m \u001b[0mnombre\u001b[0m \u001b[0;34m=\u001b[0m \u001b[0minput\u001b[0m\u001b[0;34m(\u001b[0m\u001b[0;34m\"Ingresa un nombre de un alumno\"\u001b[0m\u001b[0;34m)\u001b[0m\u001b[0;34m\u001b[0m\u001b[0;34m\u001b[0m\u001b[0m\n\u001b[0;32m----> 2\u001b[0;31m \u001b[0mresultado\u001b[0m \u001b[0;34m=\u001b[0m \u001b[0mnotas\u001b[0m\u001b[0;34m[\u001b[0m\u001b[0mnombre\u001b[0m\u001b[0;34m]\u001b[0m\u001b[0;34m\u001b[0m\u001b[0;34m\u001b[0m\u001b[0m\n\u001b[0m\u001b[1;32m      3\u001b[0m \u001b[0mresultado\u001b[0m\u001b[0;34m\u001b[0m\u001b[0;34m\u001b[0m\u001b[0m\n",
            "\u001b[0;31mKeyError\u001b[0m: 'Marcela'"
          ]
        }
      ],
      "source": [
        "nombre = input(\"Ingresa un nombre de un/a alumno/a: \")\n",
        "resultado = notas[nombre]\n",
        "resultado"
      ]
    },
    {
      "cell_type": "code",
      "execution_count": null,
      "metadata": {
        "colab": {
          "base_uri": "https://localhost:8080/"
        },
        "id": "IZwxTL1EJvRl",
        "outputId": "8394dbf2-9509-421c-d232-8d85df022ad1"
      },
      "outputs": [
        {
          "name": "stdout",
          "output_type": "stream",
          "text": [
            "Ingresa un nombre de un/a alumno/aMarcela\n",
            "Estudiante no matriculado(a) en el grupo\n"
          ]
        }
      ],
      "source": [
        "try:\n",
        "  nombre = input(\"Ingresa un nombre de un/a alumno/a: \")\n",
        "  resultado = notas[nombre]\n",
        "  resultado\n",
        "except KeyError as e:\n",
        "  print(\"Estudiante no matriculado(a) en el grupo\")"
      ]
    },
    {
      "cell_type": "markdown",
      "metadata": {
        "id": "hKhKzgQoBHLb"
      },
      "source": [
        "### Agregando la cláusula Else\n",
        "\n",
        "```python\n",
        "try:\n",
        "  # código que será ejecutado. En caso de que surja una excepción, para inmediatamente\n",
        "except:\n",
        "  # Si surje una excepción en el try, ejecuta este código, si no, salta esta etapa\n",
        "else:\n",
        "  # Si no surjen excepciones, ejecuta esta parte del código\n",
        "```"
      ]
    },
    {
      "cell_type": "markdown",
      "metadata": {
        "id": "USN3SA2tMjL0"
      },
      "source": [
        "#### **Situación 13:**\n",
        "\n",
        "Creaste un código que lee un diccionario con las notas de los estudiantes y querías retornar la lista de notas de un estudiante.\n",
        "\n",
        "En caso de que el/la estudiante no esté matriculado(a) en la clase, debe aparecer el siguiente mensaje: \"Estudiante no matriculado(a) en el grupo\" y, si no surje la excepción, debemos exhibir la lista con las notas del(la) estudiante.\n",
        "\n",
        "Vamos a trabajar en este ejemplo con la excepción **Key Error** que interrumpirá el proceso de este trecho de código.\n",
        "\n",
        "**¿Vamos a probar este tratamiento?**\n"
      ]
    },
    {
      "cell_type": "code",
      "execution_count": null,
      "metadata": {
        "colab": {
          "base_uri": "https://localhost:8080/"
        },
        "id": "Qr_4-D3UJxcE",
        "outputId": "3dc9e849-9094-4f53-b4ad-677a9b0eb023"
      },
      "outputs": [
        {
          "name": "stdout",
          "output_type": "stream",
          "text": [
            "Ingresa un nombre de un/a alumno/aMaria\n",
            "Estas son las notas de Maria: [9.0, 7.0, 6.0]\n"
          ]
        }
      ],
      "source": [
        "try:\n",
        "  nombre = input(\"Ingresa un nombre de un/a alumno/a: \")\n",
        "  resultado = notas[nombre]\n",
        "  resultado\n",
        "except KeyError as e:\n",
        "  print(\"Estudiante no matriculado(a) en el grupo\")\n",
        "else:\n",
        "  print(f'Estas son las notas de {nombre}: {resultado}')"
      ]
    },
    {
      "cell_type": "code",
      "execution_count": null,
      "metadata": {
        "id": "uy2xPGXoJzXS"
      },
      "outputs": [],
      "source": []
    },
    {
      "cell_type": "markdown",
      "metadata": {
        "id": "Dw_efTlbBhll"
      },
      "source": [
        "### Añadiendo la cláusula finally\n",
        "\n",
        "```python\n",
        "try:\n",
        "  # código que será ejecutado. En caso de que surja una excepción, para inmediatamente\n",
        "except:\n",
        "  # Si surje una excepción en el try, ejecuta este código, si no, salta esta etapa\n",
        "else:\n",
        "  # Si no surjen excepciones, ejecuta esta parte del código\n",
        "finally:\n",
        "  # Ejecuta este trecho (con o sin excepción)\n",
        "```"
      ]
    },
    {
      "cell_type": "markdown",
      "metadata": {
        "id": "jGtFVx5GdnsS"
      },
      "source": [
        "#### **Situación 14:**\n",
        "\n",
        "Creaste un código que lee un diccionario con las notas de los estudiantes y querías retornar la lista de notas de un estudiante.\n",
        "\n",
        "En caso de que el/la estudiante no esté matriculado(a) en la clase, debe aparecer el siguiente mensaje: \"Estudiante no matriculado(a) en el grupo\" y, si no surje la excepción, debemos exhibir la lista con las notas del(la) estudiante. Un texto avisando que \"La consulta ha concluído.\" debe ser mostrado independientemente de si surgió o no alguna excepción.\n",
        "\n",
        "\n",
        "Vamos a trabajar en este ejemplo con la excepción **Key Error** que interrumpirá el proceso de este trecho del código.\n",
        "\n",
        "**¿Vamos a probar este tratamiento?**"
      ]
    },
    {
      "cell_type": "code",
      "execution_count": null,
      "metadata": {
        "colab": {
          "base_uri": "https://localhost:8080/"
        },
        "id": "PwdLYP_zJ04s",
        "outputId": "500a69da-4a2b-4864-b3b4-dd6686010593"
      },
      "outputs": [
        {
          "name": "stdout",
          "output_type": "stream",
          "text": [
            "Ingresa un nombre de un/a alumno/a: Juan\n",
            "Estas son las notas de Juan: [8.0, 9.0, 10.0]\n",
            "La consulta ha concluído.\n"
          ]
        }
      ],
      "source": [
        "try:\n",
        "  nombre = input(\"Ingresa un nombre de un/a alumno/a: \")\n",
        "  resultado = notas[nombre]\n",
        "  resultado\n",
        "except KeyError as e:\n",
        "  print(\"Estudiante no matriculado(a) en el grupo\")\n",
        "else:\n",
        "  print(f'Estas son las notas de {nombre}: {resultado}')\n",
        "finally:\n",
        "  print(\"La consulta ha concluído.\")"
      ]
    },
    {
      "cell_type": "markdown",
      "metadata": {
        "id": "HdjllLBpST_2"
      },
      "source": [
        "## 4.2 Raise\n",
        "\n",
        "Otra forma de trabajar con las excepciones en tu código, es generando tus propias excepciones para determinados comportamientos que deseas en tu código.\n",
        "\n",
        "Para ello, utilizamos la palabra clave `raise` junto al tipo de excepción que se desea mostrar y el mensaje que será exhibido.   "
      ]
    },
    {
      "cell_type": "markdown",
      "metadata": {
        "id": "_nIOnDQufv6Z"
      },
      "source": [
        "```python\n",
        "raise NombreDelError(\"Mensaje deseado.\")\n",
        "```"
      ]
    },
    {
      "cell_type": "markdown",
      "metadata": {
        "id": "xapeB2ivgB7R"
      },
      "source": [
        "#### **Situação 15:**\n",
        "\n",
        "Creaste una función para calcular el promedio de un estudiante en una determinada materia pasando en una lista las notas de este estudiante.\n",
        "\n",
        "Pretendes tratar 2 situaciones:\n",
        "\n",
        "- Si la lista posee un valor no numérico el cálculo de promedio no será ejecutado y un mensaje de \"No fue posible calcular el promedio del(la) estudiante. Solo se admiten valores numéricos!\" será exhibido.\n",
        "\n",
        "- En caso que la lista tenga más de 4 notas, surgirá una excepción del tipo **ValueError** informando que \"La lista no puede poseer más de 4 notas.\"\n",
        "\n",
        "Un texto avisando que \"La consulta ha concluído.\" debe ser mostrado independientemente de si surgió o no alguna excepción.\n",
        "\n",
        "**¿Vamos a resolver este desafío?**"
      ]
    },
    {
      "cell_type": "code",
      "execution_count": null,
      "metadata": {
        "id": "kKeFuHUfhSfa"
      },
      "outputs": [],
      "source": [
        "def promedio(lista: list=[0]) -> float:\n",
        "  ''' Función para calcular el promedio de notas en una lista\n",
        "\n",
        "  lista: list, default [0]\n",
        "    Lista con las notas para calcular el promedio\n",
        "  return = calculo: float\n",
        "    Promedio calculado\n",
        "  '''\n",
        "\n",
        "  calculo = sum(lista) / len(lista)\n",
        "\n",
        "  if len(lista) > 4:\n",
        "    raise ValueError(\"La lista no puede poseer más de 4 notas.\")\n",
        "\n",
        "  return calculo"
      ]
    },
    {
      "cell_type": "code",
      "execution_count": null,
      "metadata": {
        "colab": {
          "base_uri": "https://localhost:8080/",
          "height": 297
        },
        "id": "_ghW6hb9KBpU",
        "outputId": "68ee8528-cd02-4cf5-82db-9061b2d965b3"
      },
      "outputs": [
        {
          "ename": "ValueError",
          "evalue": "La lista no puede poseer más de 4 notas.",
          "output_type": "error",
          "traceback": [
            "\u001b[0;31m---------------------------------------------------------------------------\u001b[0m",
            "\u001b[0;31mValueError\u001b[0m                                Traceback (most recent call last)",
            "\u001b[0;32m<ipython-input-15-cf1e161c7100>\u001b[0m in \u001b[0;36m<cell line: 0>\u001b[0;34m()\u001b[0m\n\u001b[1;32m      1\u001b[0m \u001b[0mnotas\u001b[0m \u001b[0;34m=\u001b[0m \u001b[0;34m[\u001b[0m\u001b[0;36m6\u001b[0m\u001b[0;34m,\u001b[0m \u001b[0;36m7\u001b[0m\u001b[0;34m,\u001b[0m \u001b[0;36m8\u001b[0m\u001b[0;34m,\u001b[0m \u001b[0;36m9\u001b[0m\u001b[0;34m,\u001b[0m \u001b[0;36m10\u001b[0m\u001b[0;34m]\u001b[0m\u001b[0;34m\u001b[0m\u001b[0;34m\u001b[0m\u001b[0m\n\u001b[0;32m----> 2\u001b[0;31m \u001b[0mresultado\u001b[0m \u001b[0;34m=\u001b[0m \u001b[0mpromedio\u001b[0m\u001b[0;34m(\u001b[0m\u001b[0mnotas\u001b[0m\u001b[0;34m)\u001b[0m\u001b[0;34m\u001b[0m\u001b[0;34m\u001b[0m\u001b[0m\n\u001b[0m\u001b[1;32m      3\u001b[0m \u001b[0mresultado\u001b[0m\u001b[0;34m\u001b[0m\u001b[0;34m\u001b[0m\u001b[0m\n",
            "\u001b[0;32m<ipython-input-14-82e7d4bed787>\u001b[0m in \u001b[0;36mpromedio\u001b[0;34m(lista)\u001b[0m\n\u001b[1;32m     11\u001b[0m \u001b[0;34m\u001b[0m\u001b[0m\n\u001b[1;32m     12\u001b[0m   \u001b[0;32mif\u001b[0m \u001b[0mlen\u001b[0m\u001b[0;34m(\u001b[0m\u001b[0mlista\u001b[0m\u001b[0;34m)\u001b[0m \u001b[0;34m>\u001b[0m \u001b[0;36m4\u001b[0m\u001b[0;34m:\u001b[0m\u001b[0;34m\u001b[0m\u001b[0;34m\u001b[0m\u001b[0m\n\u001b[0;32m---> 13\u001b[0;31m     \u001b[0;32mraise\u001b[0m \u001b[0mValueError\u001b[0m\u001b[0;34m(\u001b[0m\u001b[0;34m\"La lista no puede poseer más de 4 notas.\"\u001b[0m\u001b[0;34m)\u001b[0m\u001b[0;34m\u001b[0m\u001b[0;34m\u001b[0m\u001b[0m\n\u001b[0m\u001b[1;32m     14\u001b[0m \u001b[0;34m\u001b[0m\u001b[0m\n\u001b[1;32m     15\u001b[0m   \u001b[0;32mreturn\u001b[0m \u001b[0mcalculo\u001b[0m\u001b[0;34m\u001b[0m\u001b[0;34m\u001b[0m\u001b[0m\n",
            "\u001b[0;31mValueError\u001b[0m: La lista no puede poseer más de 4 notas."
          ]
        }
      ],
      "source": [
        "notas = [6, 7, 8, 9, '1'0]\n",
        "resultado = promedio(notas)\n",
        "resultado"
      ]
    },
    {
      "cell_type": "code",
      "execution_count": null,
      "metadata": {
        "colab": {
          "base_uri": "https://localhost:8080/"
        },
        "id": "X2To8kJdKGFk",
        "outputId": "fcec2304-19be-4002-b13d-a4a52efa032e"
      },
      "outputs": [
        {
          "name": "stdout",
          "output_type": "stream",
          "text": [
            "La lista no puede poseer más de 4 notas.\n"
          ]
        }
      ],
      "source": [
        "try:\n",
        "  notas = [6, 7, 8, 9, 10]\n",
        "  resultado = promedio(notas)\n",
        "  resultado\n",
        "except ValueError as e:\n",
        "  print(e)"
      ]
    },
    {
      "cell_type": "code",
      "execution_count": null,
      "metadata": {
        "colab": {
          "base_uri": "https://localhost:8080/"
        },
        "id": "nrCsWqX6KGIA",
        "outputId": "3e1ea776-c557-4702-dda0-548ecee1f775"
      },
      "outputs": [
        {
          "name": "stdout",
          "output_type": "stream",
          "text": [
            "No fue posible calcular el promedio del(la) estudiante. Solo se admiten valores numéricos!\n",
            "La consulta ha concluído.\n"
          ]
        }
      ],
      "source": [
        "try:\n",
        "  notas = [6, 7, 8, 9, '10']\n",
        "  resultado = promedio(notas)\n",
        "  resultado\n",
        "except ValueError as e:\n",
        "  print(e)\n",
        "except TypeError:\n",
        "  print(\"No fue posible calcular el promedio del(la) estudiante. Solo se admiten valores numéricos!\")\n",
        "finally:\n",
        "  print(\"La consulta ha concluído.\")\n",
        "#"
      ]
    },
    {
      "cell_type": "markdown",
      "metadata": {
        "id": "0hWMgJGH4kES"
      },
      "source": [
        "## Ejercicios"
      ]
    },
    {
      "cell_type": "markdown",
      "metadata": {
        "id": "U9lZc-PW4qTO"
      },
      "source": [
        "Calentamiento\n",
        "\n",
        "1 - Haz un programa que solicite a la persona usuaria ingresar dos números decimales y calcular la división entre estos números. El código debe incluir un manejo de error, indicando el tipo de error que se generó si la división no es posible.\n",
        "\n",
        "Prueba el programa con el segundo valor numérico de la entrada igual a 0. También prueba usando caracteres textuales en la entrada para verificar los tipos de errores que ocurren."
      ]
    },
    {
      "cell_type": "code",
      "execution_count": null,
      "metadata": {
        "colab": {
          "base_uri": "https://localhost:8080/"
        },
        "id": "8vwjH6hl44zc",
        "outputId": "c2dd5a86-cac6-4352-d3cc-c8e4790e130d"
      },
      "outputs": [
        {
          "name": "stdout",
          "output_type": "stream",
          "text": [
            "Ingresa un número decimal: 12.3\n",
            "Ingresa otro número decimal: l\n",
            "No fue posible hacer la división. Solo se admiten valores numéricos.\n",
            "La consulta ha concluido.\n"
          ]
        }
      ],
      "source": [
        "try:\n",
        "    num1 = float(input(\"Ingresa un número decimal: \"))\n",
        "    num2 = float(input(\"Ingresa otro número decimal: \"))\n",
        "    resultado = num1 / num2\n",
        "\n",
        "except ValueError:\n",
        "    print(\"No fue posible hacer la división. Solo se admiten valores numéricos.\")\n",
        "except ZeroDivisionError:\n",
        "    print(\"No es posible dividir entre 0.\")\n",
        "else:\n",
        "    print(f\"El resultado de la división es: {resultado}\")\n",
        "finally:\n",
        "    print(\"La consulta ha concluido.\")\n"
      ]
    },
    {
      "cell_type": "markdown",
      "metadata": {
        "id": "Za4yeXst8Z_y"
      },
      "source": [
        "2 - Haz un programa que solicite a la persona usuaria ingresar un texto que será una clave a buscar en el siguiente diccionario: edades = {'Júlia': 16, 'Carol': 23, 'Alberto': 19, 'Roberta': 17}, almacenando el resultado del valor en una variable. El código debe incluir un manejo de error KeyError, imprimiendo la información 'Nombre no encontrado' en caso de error, e imprimir el valor si no ocurre ninguno.\n",
        "\n",
        "Prueba el programa con un nombre presente en una de las claves del diccionario y con uno que no esté en el diccionario para verificar el mensaje de error."
      ]
    },
    {
      "cell_type": "code",
      "execution_count": null,
      "metadata": {
        "colab": {
          "base_uri": "https://localhost:8080/"
        },
        "id": "Axg2LyV08lFd",
        "outputId": "9f163db3-f068-4db9-e867-1596d4e26c5c"
      },
      "outputs": [
        {
          "name": "stdout",
          "output_type": "stream",
          "text": [
            "ingresa un nombre: Júlia\n",
            "La edad de Júlia es 16\n",
            "Fin de la consulta\n"
          ]
        }
      ],
      "source": [
        "edades = {'Júlia': 16, 'Carol': 23, 'Alberto': 19, 'Roberta': 17}\n",
        "\n",
        "try:\n",
        "  nombre = input(\"ingresa un nombre: \")\n",
        "  resultado = edades[nombre]\n",
        "except KeyError:\n",
        "  print('Nombre no encontrado')\n",
        "else:\n",
        "  print(f\"La edad de {nombre} es {resultado}\")\n",
        "finally:\n",
        "  print(\"Fin de la consulta\")"
      ]
    },
    {
      "cell_type": "markdown",
      "metadata": {
        "id": "ppVEKNdy-Dio"
      },
      "source": [
        "3 - Crea una función que reciba una lista como parámetro y convierta todos los valores de la lista a flotantes. La función debe incluir un manejo de error indicando el tipo de error generado y devolver la lista si no ha ocurrido ningún error. Por último, debe tener la cláusula finally para imprimir el texto: 'Fin de la ejecución de la función'."
      ]
    },
    {
      "cell_type": "code",
      "execution_count": null,
      "metadata": {
        "colab": {
          "base_uri": "https://localhost:8080/"
        },
        "id": "i92b_vXp-P97",
        "outputId": "a66f211b-2990-4d79-f0a6-16495d294343"
      },
      "outputs": [
        {
          "name": "stdout",
          "output_type": "stream",
          "text": [
            "Error: abc no se puede convertir a decimal. (could not convert string to float: 'abc')\n",
            "Fin de la ejecución de la función\n"
          ]
        },
        {
          "data": {
            "text/plain": [
              "[]"
            ]
          },
          "execution_count": 58,
          "metadata": {},
          "output_type": "execute_result"
        }
      ],
      "source": [
        "def convertir_a_decimal(lista):\n",
        "    decimal = []\n",
        "    try:\n",
        "        for item in lista:\n",
        "            decimal.append(float(item))\n",
        "    except ValueError as e:\n",
        "        print(f\"Error: {item} no se puede convertir a decimal. ({e})\")\n",
        "        return []  # Devolvemos una lista vacía si hay error\n",
        "    else:\n",
        "        return decimal\n",
        "    finally:\n",
        "        print('Fin de la ejecución de la función')\n",
        "\n",
        "num = [\"abc\", 1, 2, 3, 4]\n",
        "lista_decimal = convertir_a_decimal(num)\n",
        "lista_decimal"
      ]
    },
    {
      "cell_type": "markdown",
      "metadata": {
        "id": "kdUcWk2BCfde"
      },
      "source": [
        "4 - Crea una función que reciba dos listas como parámetros y agrupe los elementos uno a uno de las listas, formando una lista de tuplas de 3 elementos. El primer y segundo elemento de la tupla son los valores en la posición i de las listas y el tercer elemento es la suma de los valores en la posición i de las listas.\n",
        "\n",
        "La función debe incluir un manejo de error indicando el tipo de error generado y devolver como resultado la lista de tuplas. Si las listas enviadas como parámetro tienen tamaños diferentes, la función debe devolver un IndexError con la frase: 'La cantidad de elementos en cada lista es diferente.'.\n",
        "\n",
        "Datos para probar la función:\n",
        "\n",
        "* Valores sin error:\n",
        "\n",
        "lista1 = [4, 6, 7, 9, 10]\n",
        "\n",
        "lista2 = [-4, 6, 8, 7, 9]\n",
        "\n",
        "* Listas con tamaños diferentes:\n",
        "\n",
        "lista1 = [4, 6, 7, 9, 10, 4]\n",
        "\n",
        "lista2 = [-4, 6, 8, 7, 9]\n",
        "\n",
        "* Listas con valores incoherentes:\n",
        "\n",
        "lista1 = [4, 6, 7, 9, 'A']\n",
        "\n",
        "lista2 = [-4, 'E', 8, 7, 9]"
      ]
    },
    {
      "cell_type": "code",
      "execution_count": null,
      "metadata": {
        "colab": {
          "base_uri": "https://localhost:8080/"
        },
        "id": "5mwokLZ1DpSu",
        "outputId": "7886a5e7-d14e-4f59-91a4-0d5660c37341"
      },
      "outputs": [
        {
          "name": "stdout",
          "output_type": "stream",
          "text": [
            "[(4, -4, 0), (6, 6, 12), (7, 8, 15), (9, 7, 16), (10, 9, 19)]\n"
          ]
        }
      ],
      "source": [
        "\n",
        "#Valores sin error:\n",
        "lista1 = [4, 6, 7, 9, 10]\n",
        "\n",
        "lista2 = [-4, 6, 8, 7, 9]\n",
        "\n",
        "#Listas con tamaños diferentes:\n",
        "# lista1 = [4, 6, 7, 9, 10, 4]\n",
        "\n",
        "# lista2 = [-4, 6, 8, 7, 9]\n",
        "\n",
        "#Listas con valores incoherentes:\n",
        "# lista1 = [4, 6, 7, 9, 'A']\n",
        "\n",
        "# lista2 = [-4, 'E', 8, 7, 9]\n",
        "\n",
        "\n",
        "def agrupar_listas(lista1, lista2):\n",
        "  suma = []\n",
        "  try:\n",
        "    if len(lista1) != len(lista2):\n",
        "      raise IndexError(\"La cantidad de elementos en cada lista difiere.\")\n",
        "    for i in range(len(lista1)):\n",
        "      suma.append((lista1[i] + lista2[i]))\n",
        "\n",
        "    lista_agrupada = list(zip(lista1, lista2, suma))\n",
        "\n",
        "  except IndexError as e:\n",
        "    print(f'La cantidad de elementos en cada lista es diferente. ({e})')\n",
        "    return []\n",
        "  except TypeError:\n",
        "    print(f\"No se puede operar entre número y cadenas\")\n",
        "    return []\n",
        "  else:\n",
        "    return lista_agrupada\n",
        "\n",
        "\n",
        "\n",
        "\n",
        "# def agrupar_listas(lista1, lista2):\n",
        "#   lista_agrupada = []\n",
        "#   try:\n",
        "#     if len(lista1) != len(lista2):\n",
        "#       raise IndexError(\"La cantidad de elementos en cada lista difiere.\")\n",
        "\n",
        "#     for i in range(len(lista1)):\n",
        "#       suma = lista1[i] + lista2[i]\n",
        "#       lista_agrupada.append((lista1[i], lista2[i], suma))\n",
        "\n",
        "#   except IndexError as e:\n",
        "#     print(f'La cantidad de elementos en cada lista es diferente. ({e})')\n",
        "#     return []\n",
        "#   except TypeError as e:\n",
        "#     print(f\"No se puede operar entre número y cadenas. ({e})\")\n",
        "#     return []\n",
        "#   else:\n",
        "#     return lista_agrupada\n",
        "\n",
        "\n",
        "# def agrupar_listas(lista1, lista2):\n",
        "#     lista_agrupada = []\n",
        "#     try:\n",
        "#         if len(lista1) != len(lista2):\n",
        "#             raise IndexError(\"La cantidad de elementos en cada lista difiere.\")\n",
        "\n",
        "#         for i, (a, b) in enumerate(zip(lista1, lista2)):\n",
        "#             suma = a + b\n",
        "#             lista_agrupada.append((a, b, suma))\n",
        "\n",
        "#     except IndexError as e:\n",
        "#         print(f'La cantidad de elementos en cada lista es diferente. ({e})')\n",
        "#         return []\n",
        "#     except TypeError as e:\n",
        "#         print(f\"No se puede operar entre número y cadenas. ({e})\")\n",
        "#         return []\n",
        "#     else:\n",
        "#         return lista_agrupada\n",
        "\n",
        "\n",
        "print(agrupar_listas(lista1, lista2))"
      ]
    },
    {
      "cell_type": "markdown",
      "metadata": {
        "id": "Iyyu1vyDI7LA"
      },
      "source": [
        "Aplicando a proyectos\n",
        "\n",
        "5 - Como desafío, se te ha asignado la tarea de desarrollar un código que contabiliza las puntuaciones de estudiantes de una institución educativa de acuerdo con sus respuestas en una prueba. Este código debe ser probado para un ejemplo de 3 estudiantes con una lista de listas en la que cada lista tiene las respuestas de 5 preguntas objetivas de cada estudiante. Cada pregunta vale un punto y las alternativas posibles son A, B, C o D.\n",
        "\n",
        "Si alguna alternativa en una de las pruebas no está entre las alternativas posibles, debes lanzar un ValueError con el mensaje \"La alternativa [alternativa] no es una opción de alternativa válida\". El cálculo de las 3 notas solo se realizará mediante las entradas con las alternativas A, B, C o D en todas las pruebas. Si no se lanza la excepción, se mostrará una lista con las notas en cada prueba.\n",
        "\n",
        "Datos para la prueba del código:\n",
        "\n",
        "Respuestas de la prueba:\n",
        "\n",
        "respuestas = ['D', 'A', 'B', 'C', 'A']\n",
        "\n",
        "A continuación, hay 2 listas de listas que puedes usar como prueba:\n",
        "\n",
        "Notas sin excepción:\n",
        "\n",
        "tests_sin_ex = [['D', 'A', 'B', 'C', 'A'], ['C', 'A', 'A', 'C', 'A'], ['D', 'B', 'A', 'C', 'A']]\n",
        "\n",
        "Notas con excepción:\n",
        "\n",
        "tests_con_ex = [['D', 'A', 'B', 'C', 'A'], ['C', 'A', 'A', 'E', 'A'], ['D', 'B', 'A', 'C', 'A']]"
      ]
    },
    {
      "cell_type": "code",
      "execution_count": null,
      "metadata": {
        "colab": {
          "base_uri": "https://localhost:8080/"
        },
        "id": "ganwRCMsK8C9",
        "outputId": "d00fc0c0-7ac7-4e3c-b7e9-13fef37842cf"
      },
      "outputs": [
        {
          "name": "stdout",
          "output_type": "stream",
          "text": [
            "La alternativa E no es una opción de alternativa válida.\n",
            "Fin de la corrección\n",
            "[]\n",
            "Fin de la corrección\n",
            "[5, 3, 3]\n"
          ]
        }
      ],
      "source": [
        "respuestas = ['D', 'A', 'B', 'C', 'A']\n",
        "tests_sin_ex = [['D', 'A', 'B', 'C', 'A'], ['C', 'A', 'A', 'C', 'A'], ['D', 'B', 'A', 'C', 'A']]\n",
        "tests_con_ex = [['D', 'A', 'B', 'C', 'A'], ['C', 'A', 'A', 'E', 'A'], ['D', 'B', 'A', 'C', 'A']]\n",
        "\n",
        "def puntuar_examen(lista, respuestas):\n",
        "    notas = []\n",
        "    try:\n",
        "        for examen in lista:\n",
        "            if len(examen) != len(respuestas):\n",
        "                raise ValueError(\"La cantidad de respuestas no coincide con la cantidad de preguntas.\")\n",
        "\n",
        "            puntaje = 0\n",
        "            for i in range(len(respuestas)):\n",
        "                respuesta = examen[i]\n",
        "                if respuesta not in ['A', 'B', 'C', 'D']:\n",
        "                    raise ValueError(f\"La alternativa {respuesta} no es una opción de alternativa válida.\")\n",
        "                if respuesta == respuestas[i]:\n",
        "                    puntaje += 1\n",
        "            notas.append(puntaje)\n",
        "\n",
        "    except ValueError as e:\n",
        "        print(e)\n",
        "        return []\n",
        "    else:\n",
        "        return notas\n",
        "    finally:\n",
        "        print(\"Fin de la corrección\")\n",
        "\n",
        "print(puntuar_examen(tests_con_ex, respuestas))\n",
        "print(puntuar_examen(tests_sin_ex, respuestas))"
      ]
    },
    {
      "cell_type": "markdown",
      "metadata": {
        "id": "rwjctDSCaifH"
      },
      "source": [
        "6 - Estás trabajando con procesamiento de lenguaje natural (NLP) y, en esta ocasión, tu líder te pidió que crees un fragmento de código que reciba una lista con las palabras separadas de una frase generada por ChatGPT.\n",
        "\n",
        "Necesitas crear una función que evalúe cada palabra de este texto y verifique si el tratamiento para quitar los símbolos de puntuación (',', '.', '!' y '?') se realizó. De lo contrario, se lanzará una excepción del tipo ValueError señalando el primer caso en que se detectó el uso de una puntuación a través de la frase \"El texto presenta puntuaciones en la palabra \"[palabra]\"\". Esta solicitud se centra en el análisis del patrón de frases generadas por la inteligencia artificial.\n",
        "\n",
        "Datos para probar el código:\n",
        "\n",
        "Lista tratada:\n",
        "\n",
        "lista_tratada = ['Python', 'es', 'un', 'lenguaje', 'de', 'programación', 'poderoso', 'versátil',\n",
        "                  'y', 'fácil', 'de', 'aprender', 'utilizado', 'en', 'diversos', 'campos', 'desde',\n",
        "                  'análisis', 'de', 'datos', 'hasta', 'inteligencia', 'artificial']\n",
        "\n",
        "Lista no tratada:\n",
        "\n",
        "lista_no_tratada = ['Python', 'es', 'un', 'lenguaje', 'de', 'programación', 'poderoso,', 'versátil',\n",
        "                  'y', 'fácil,', 'de', 'aprender', 'utilizado', 'en', 'diversos', 'campos,', 'desde',\n",
        "                  'análisis', 'de', 'datos', 'hasta', 'inteligencia', 'artificial!']"
      ]
    },
    {
      "cell_type": "code",
      "execution_count": null,
      "metadata": {
        "colab": {
          "base_uri": "https://localhost:8080/"
        },
        "id": "kgscC0y6bRvI",
        "outputId": "311ca262-32d4-44d7-8098-f49e992f9a8a"
      },
      "outputs": [
        {
          "name": "stdout",
          "output_type": "stream",
          "text": [
            "El texto ha sido tratado correctamente\n",
            "El texto presenta puntuaciones en la palabra artificial!\n",
            "[]\n"
          ]
        }
      ],
      "source": [
        "lista_tratada = ['Python', 'es', 'un', 'lenguaje', 'de', 'programación', 'poderoso', 'versátil', 'y', 'fácil', 'de', 'aprender', 'utilizado', 'en', 'diversos', 'campos', 'desde', 'análisis', 'de', 'datos', 'hasta', 'inteligencia', 'artificial']\n",
        "\n",
        "lista_no_tratada = ['Python', 'es', 'un', 'lenguaje', 'de', 'programación', 'poderoso', 'versátil', 'y', 'fácil', 'de', 'aprender', 'utilizado', 'en', 'diversos', 'campos', 'desde', 'análisis', 'de', 'datos', 'hasta', 'inteligencia', 'artificial!']\n",
        "\n",
        "def procesamiento_lenguaje(lista):\n",
        "\n",
        "  signos = [',', '.', '!', '?']\n",
        "  try:\n",
        "    for palabra in lista:\n",
        "      if any(s in palabra for s in signos):\n",
        "        raise ValueError(f'El texto presenta puntuaciones en la palabra {palabra}')\n",
        "  except ValueError as e:\n",
        "    print(e)\n",
        "    return []\n",
        "  else:\n",
        "    return \"El texto ha sido tratado correctamente\"\n",
        "\n",
        "print(procesamiento_lenguaje(lista_tratada))\n",
        "print(procesamiento_lenguaje(lista_no_tratada))"
      ]
    }
  ],
  "metadata": {
    "colab": {
      "include_colab_link": true,
      "provenance": [],
      "toc_visible": true
    },
    "kernelspec": {
      "display_name": "venv",
      "language": "python",
      "name": "python3"
    },
    "language_info": {
      "codemirror_mode": {
        "name": "ipython",
        "version": 3
      },
      "file_extension": ".py",
      "mimetype": "text/x-python",
      "name": "python",
      "nbconvert_exporter": "python",
      "pygments_lexer": "ipython3",
      "version": "3.10.12"
    }
  },
  "nbformat": 4,
  "nbformat_minor": 0
}
