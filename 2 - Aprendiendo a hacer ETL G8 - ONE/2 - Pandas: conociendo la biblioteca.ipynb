{
  "cells": [
    {
      "cell_type": "markdown",
      "metadata": {
        "colab_type": "text",
        "id": "view-in-github"
      },
      "source": [
        "<a href=\"https://colab.research.google.com/github/marsavil/Data_Science_Notebooks/blob/main/Pandas%3A%20conociendo%20la%20biblioteca.ipynb\" target=\"_parent\"><img src=\"https://colab.research.google.com/assets/colab-badge.svg\" alt=\"Open In Colab\"/></a>"
      ]
    },
    {
      "cell_type": "markdown",
      "metadata": {
        "id": "5UAchAejiLg5"
      },
      "source": [
        "# **Pandas**"
      ]
    },
    {
      "cell_type": "markdown",
      "metadata": {
        "id": "Q32UCzhviWUY"
      },
      "source": [
        "### Importando la base de datos"
      ]
    },
    {
      "cell_type": "code",
      "execution_count": 350,
      "metadata": {
        "id": "OEHRMc8kMFFI"
      },
      "outputs": [],
      "source": [
        "import pandas as pd\n",
        "\n",
        "url='https://gist.githubusercontent.com/ahcamachod/a572cfcc2527046db93101f88011b26e/raw/ffb13f45a79d31223e645611a119397dd127ee3c/alquiler.csv'\n",
        "\n",
        "datos = pd.read_csv(url, sep=';') # uso sep porque el archivo viene separado por ;"
      ]
    },
    {
      "cell_type": "code",
      "execution_count": 351,
      "metadata": {
        "colab": {
          "base_uri": "https://localhost:8080/",
          "height": 206
        },
        "id": "kGc0vKpFjZIL",
        "outputId": "d1825a3f-b00d-49e4-94fd-64ce7f6a3a46"
      },
      "outputs": [
        {
          "data": {
            "text/html": [
              "<div>\n",
              "<style scoped>\n",
              "    .dataframe tbody tr th:only-of-type {\n",
              "        vertical-align: middle;\n",
              "    }\n",
              "\n",
              "    .dataframe tbody tr th {\n",
              "        vertical-align: top;\n",
              "    }\n",
              "\n",
              "    .dataframe thead th {\n",
              "        text-align: right;\n",
              "    }\n",
              "</style>\n",
              "<table border=\"1\" class=\"dataframe\">\n",
              "  <thead>\n",
              "    <tr style=\"text-align: right;\">\n",
              "      <th></th>\n",
              "      <th>Tipo</th>\n",
              "      <th>Colonia</th>\n",
              "      <th>Habitaciones</th>\n",
              "      <th>Garages</th>\n",
              "      <th>Suites</th>\n",
              "      <th>Area</th>\n",
              "      <th>Valor</th>\n",
              "      <th>Condominio</th>\n",
              "      <th>Impuesto</th>\n",
              "    </tr>\n",
              "  </thead>\n",
              "  <tbody>\n",
              "    <tr>\n",
              "      <th>0</th>\n",
              "      <td>Cocineta</td>\n",
              "      <td>Condesa</td>\n",
              "      <td>1</td>\n",
              "      <td>0</td>\n",
              "      <td>0</td>\n",
              "      <td>40</td>\n",
              "      <td>5950.0</td>\n",
              "      <td>1750.0</td>\n",
              "      <td>210.0</td>\n",
              "    </tr>\n",
              "    <tr>\n",
              "      <th>1</th>\n",
              "      <td>Casa</td>\n",
              "      <td>Polanco</td>\n",
              "      <td>2</td>\n",
              "      <td>0</td>\n",
              "      <td>1</td>\n",
              "      <td>100</td>\n",
              "      <td>24500.0</td>\n",
              "      <td>NaN</td>\n",
              "      <td>NaN</td>\n",
              "    </tr>\n",
              "    <tr>\n",
              "      <th>2</th>\n",
              "      <td>Conjunto Comercial/Sala</td>\n",
              "      <td>Santa Fe</td>\n",
              "      <td>0</td>\n",
              "      <td>4</td>\n",
              "      <td>0</td>\n",
              "      <td>150</td>\n",
              "      <td>18200.0</td>\n",
              "      <td>14070.0</td>\n",
              "      <td>3888.5</td>\n",
              "    </tr>\n",
              "    <tr>\n",
              "      <th>3</th>\n",
              "      <td>Departamento</td>\n",
              "      <td>Centro Histórico</td>\n",
              "      <td>1</td>\n",
              "      <td>0</td>\n",
              "      <td>0</td>\n",
              "      <td>15</td>\n",
              "      <td>2800.0</td>\n",
              "      <td>1365.0</td>\n",
              "      <td>70.0</td>\n",
              "    </tr>\n",
              "    <tr>\n",
              "      <th>4</th>\n",
              "      <td>Departamento</td>\n",
              "      <td>Del Valle</td>\n",
              "      <td>1</td>\n",
              "      <td>0</td>\n",
              "      <td>0</td>\n",
              "      <td>48</td>\n",
              "      <td>2800.0</td>\n",
              "      <td>805.0</td>\n",
              "      <td>NaN</td>\n",
              "    </tr>\n",
              "  </tbody>\n",
              "</table>\n",
              "</div>"
            ],
            "text/plain": [
              "                      Tipo           Colonia  Habitaciones  Garages  Suites  \\\n",
              "0                 Cocineta           Condesa             1        0       0   \n",
              "1                     Casa           Polanco             2        0       1   \n",
              "2  Conjunto Comercial/Sala          Santa Fe             0        4       0   \n",
              "3             Departamento  Centro Histórico             1        0       0   \n",
              "4             Departamento         Del Valle             1        0       0   \n",
              "\n",
              "   Area    Valor  Condominio  Impuesto  \n",
              "0    40   5950.0      1750.0     210.0  \n",
              "1   100  24500.0         NaN       NaN  \n",
              "2   150  18200.0     14070.0    3888.5  \n",
              "3    15   2800.0      1365.0      70.0  \n",
              "4    48   2800.0       805.0       NaN  "
            ]
          },
          "execution_count": 351,
          "metadata": {},
          "output_type": "execute_result"
        }
      ],
      "source": [
        "datos.head() # toma las primeros 5 filas"
      ]
    },
    {
      "cell_type": "code",
      "execution_count": 352,
      "metadata": {
        "colab": {
          "base_uri": "https://localhost:8080/",
          "height": 206
        },
        "id": "oVeRyR-KjjE7",
        "outputId": "7d5d12da-db5f-4485-c802-5ce933dfbaf0"
      },
      "outputs": [
        {
          "data": {
            "text/html": [
              "<div>\n",
              "<style scoped>\n",
              "    .dataframe tbody tr th:only-of-type {\n",
              "        vertical-align: middle;\n",
              "    }\n",
              "\n",
              "    .dataframe tbody tr th {\n",
              "        vertical-align: top;\n",
              "    }\n",
              "\n",
              "    .dataframe thead th {\n",
              "        text-align: right;\n",
              "    }\n",
              "</style>\n",
              "<table border=\"1\" class=\"dataframe\">\n",
              "  <thead>\n",
              "    <tr style=\"text-align: right;\">\n",
              "      <th></th>\n",
              "      <th>Tipo</th>\n",
              "      <th>Colonia</th>\n",
              "      <th>Habitaciones</th>\n",
              "      <th>Garages</th>\n",
              "      <th>Suites</th>\n",
              "      <th>Area</th>\n",
              "      <th>Valor</th>\n",
              "      <th>Condominio</th>\n",
              "      <th>Impuesto</th>\n",
              "    </tr>\n",
              "  </thead>\n",
              "  <tbody>\n",
              "    <tr>\n",
              "      <th>25116</th>\n",
              "      <td>Cochera/Estacionamiento</td>\n",
              "      <td>Centro Histórico</td>\n",
              "      <td>0</td>\n",
              "      <td>0</td>\n",
              "      <td>0</td>\n",
              "      <td>755</td>\n",
              "      <td>49000.0</td>\n",
              "      <td>NaN</td>\n",
              "      <td>NaN</td>\n",
              "    </tr>\n",
              "    <tr>\n",
              "      <th>25117</th>\n",
              "      <td>Cocineta</td>\n",
              "      <td>Centro Histórico</td>\n",
              "      <td>0</td>\n",
              "      <td>0</td>\n",
              "      <td>0</td>\n",
              "      <td>27</td>\n",
              "      <td>2800.0</td>\n",
              "      <td>1225.0</td>\n",
              "      <td>87.5</td>\n",
              "    </tr>\n",
              "    <tr>\n",
              "      <th>25118</th>\n",
              "      <td>Departamento</td>\n",
              "      <td>Mixcoac</td>\n",
              "      <td>2</td>\n",
              "      <td>1</td>\n",
              "      <td>0</td>\n",
              "      <td>48</td>\n",
              "      <td>4900.0</td>\n",
              "      <td>1781.5</td>\n",
              "      <td>129.5</td>\n",
              "    </tr>\n",
              "    <tr>\n",
              "      <th>25119</th>\n",
              "      <td>Departamento</td>\n",
              "      <td>Lomas de Chapultepec</td>\n",
              "      <td>2</td>\n",
              "      <td>0</td>\n",
              "      <td>0</td>\n",
              "      <td>70</td>\n",
              "      <td>10500.0</td>\n",
              "      <td>2660.0</td>\n",
              "      <td>NaN</td>\n",
              "    </tr>\n",
              "    <tr>\n",
              "      <th>25120</th>\n",
              "      <td>Conjunto Comercial/Sala</td>\n",
              "      <td>Centro Histórico</td>\n",
              "      <td>0</td>\n",
              "      <td>0</td>\n",
              "      <td>0</td>\n",
              "      <td>250</td>\n",
              "      <td>22750.0</td>\n",
              "      <td>14721.0</td>\n",
              "      <td>3881.5</td>\n",
              "    </tr>\n",
              "  </tbody>\n",
              "</table>\n",
              "</div>"
            ],
            "text/plain": [
              "                          Tipo               Colonia  Habitaciones  Garages  \\\n",
              "25116  Cochera/Estacionamiento      Centro Histórico             0        0   \n",
              "25117                 Cocineta      Centro Histórico             0        0   \n",
              "25118             Departamento               Mixcoac             2        1   \n",
              "25119             Departamento  Lomas de Chapultepec             2        0   \n",
              "25120  Conjunto Comercial/Sala      Centro Histórico             0        0   \n",
              "\n",
              "       Suites  Area    Valor  Condominio  Impuesto  \n",
              "25116       0   755  49000.0         NaN       NaN  \n",
              "25117       0    27   2800.0      1225.0      87.5  \n",
              "25118       0    48   4900.0      1781.5     129.5  \n",
              "25119       0    70  10500.0      2660.0       NaN  \n",
              "25120       0   250  22750.0     14721.0    3881.5  "
            ]
          },
          "execution_count": 352,
          "metadata": {},
          "output_type": "execute_result"
        }
      ],
      "source": [
        "datos.tail() # Toma las últimas 5 filas"
      ]
    },
    {
      "cell_type": "code",
      "execution_count": 353,
      "metadata": {
        "colab": {
          "base_uri": "https://localhost:8080/",
          "height": 363
        },
        "id": "9Gxh08FJjr46",
        "outputId": "f668bb46-f55a-4ca6-d5ac-7e331252e9d0"
      },
      "outputs": [
        {
          "data": {
            "text/html": [
              "<div>\n",
              "<style scoped>\n",
              "    .dataframe tbody tr th:only-of-type {\n",
              "        vertical-align: middle;\n",
              "    }\n",
              "\n",
              "    .dataframe tbody tr th {\n",
              "        vertical-align: top;\n",
              "    }\n",
              "\n",
              "    .dataframe thead th {\n",
              "        text-align: right;\n",
              "    }\n",
              "</style>\n",
              "<table border=\"1\" class=\"dataframe\">\n",
              "  <thead>\n",
              "    <tr style=\"text-align: right;\">\n",
              "      <th></th>\n",
              "      <th>Tipo</th>\n",
              "      <th>Colonia</th>\n",
              "      <th>Habitaciones</th>\n",
              "      <th>Garages</th>\n",
              "      <th>Suites</th>\n",
              "      <th>Area</th>\n",
              "      <th>Valor</th>\n",
              "      <th>Condominio</th>\n",
              "      <th>Impuesto</th>\n",
              "    </tr>\n",
              "  </thead>\n",
              "  <tbody>\n",
              "    <tr>\n",
              "      <th>22697</th>\n",
              "      <td>Departamento</td>\n",
              "      <td>San Pedro de los Pinos</td>\n",
              "      <td>2</td>\n",
              "      <td>2</td>\n",
              "      <td>0</td>\n",
              "      <td>143</td>\n",
              "      <td>24500.0</td>\n",
              "      <td>6209.0</td>\n",
              "      <td>1456.0</td>\n",
              "    </tr>\n",
              "    <tr>\n",
              "      <th>13897</th>\n",
              "      <td>Conjunto Comercial/Sala</td>\n",
              "      <td>Centro Histórico</td>\n",
              "      <td>0</td>\n",
              "      <td>0</td>\n",
              "      <td>0</td>\n",
              "      <td>375</td>\n",
              "      <td>65625.0</td>\n",
              "      <td>22190.0</td>\n",
              "      <td>8221.5</td>\n",
              "    </tr>\n",
              "    <tr>\n",
              "      <th>5386</th>\n",
              "      <td>Departamento</td>\n",
              "      <td>Condesa</td>\n",
              "      <td>1</td>\n",
              "      <td>0</td>\n",
              "      <td>1</td>\n",
              "      <td>32</td>\n",
              "      <td>4200.0</td>\n",
              "      <td>1974.0</td>\n",
              "      <td>84.0</td>\n",
              "    </tr>\n",
              "    <tr>\n",
              "      <th>15468</th>\n",
              "      <td>Departamento</td>\n",
              "      <td>Condesa</td>\n",
              "      <td>1</td>\n",
              "      <td>0</td>\n",
              "      <td>0</td>\n",
              "      <td>50</td>\n",
              "      <td>6300.0</td>\n",
              "      <td>2170.0</td>\n",
              "      <td>255.5</td>\n",
              "    </tr>\n",
              "    <tr>\n",
              "      <th>6910</th>\n",
              "      <td>Departamento</td>\n",
              "      <td>Tepalcatlalpan</td>\n",
              "      <td>1</td>\n",
              "      <td>0</td>\n",
              "      <td>0</td>\n",
              "      <td>60</td>\n",
              "      <td>2450.0</td>\n",
              "      <td>NaN</td>\n",
              "      <td>NaN</td>\n",
              "    </tr>\n",
              "    <tr>\n",
              "      <th>4576</th>\n",
              "      <td>Departamento</td>\n",
              "      <td>Polanco</td>\n",
              "      <td>2</td>\n",
              "      <td>2</td>\n",
              "      <td>1</td>\n",
              "      <td>74</td>\n",
              "      <td>10325.0</td>\n",
              "      <td>4980.5</td>\n",
              "      <td>679.0</td>\n",
              "    </tr>\n",
              "    <tr>\n",
              "      <th>8450</th>\n",
              "      <td>Departamento</td>\n",
              "      <td>Loma Bonita</td>\n",
              "      <td>2</td>\n",
              "      <td>0</td>\n",
              "      <td>0</td>\n",
              "      <td>49</td>\n",
              "      <td>1925.0</td>\n",
              "      <td>NaN</td>\n",
              "      <td>NaN</td>\n",
              "    </tr>\n",
              "    <tr>\n",
              "      <th>14272</th>\n",
              "      <td>Departamento</td>\n",
              "      <td>Santa Fe</td>\n",
              "      <td>4</td>\n",
              "      <td>4</td>\n",
              "      <td>1</td>\n",
              "      <td>348</td>\n",
              "      <td>87500.0</td>\n",
              "      <td>12950.0</td>\n",
              "      <td>6825.0</td>\n",
              "    </tr>\n",
              "    <tr>\n",
              "      <th>15242</th>\n",
              "      <td>Departamento</td>\n",
              "      <td>Santa Fe</td>\n",
              "      <td>3</td>\n",
              "      <td>2</td>\n",
              "      <td>3</td>\n",
              "      <td>125</td>\n",
              "      <td>27650.0</td>\n",
              "      <td>8400.0</td>\n",
              "      <td>2355.5</td>\n",
              "    </tr>\n",
              "    <tr>\n",
              "      <th>1353</th>\n",
              "      <td>Conjunto Comercial/Sala</td>\n",
              "      <td>Centro Histórico</td>\n",
              "      <td>0</td>\n",
              "      <td>0</td>\n",
              "      <td>0</td>\n",
              "      <td>35</td>\n",
              "      <td>5250.0</td>\n",
              "      <td>1890.0</td>\n",
              "      <td>77.0</td>\n",
              "    </tr>\n",
              "  </tbody>\n",
              "</table>\n",
              "</div>"
            ],
            "text/plain": [
              "                          Tipo                 Colonia  Habitaciones  Garages  \\\n",
              "22697             Departamento  San Pedro de los Pinos             2        2   \n",
              "13897  Conjunto Comercial/Sala        Centro Histórico             0        0   \n",
              "5386              Departamento                 Condesa             1        0   \n",
              "15468             Departamento                 Condesa             1        0   \n",
              "6910              Departamento          Tepalcatlalpan             1        0   \n",
              "4576              Departamento                 Polanco             2        2   \n",
              "8450              Departamento             Loma Bonita             2        0   \n",
              "14272             Departamento                Santa Fe             4        4   \n",
              "15242             Departamento                Santa Fe             3        2   \n",
              "1353   Conjunto Comercial/Sala        Centro Histórico             0        0   \n",
              "\n",
              "       Suites  Area    Valor  Condominio  Impuesto  \n",
              "22697       0   143  24500.0      6209.0    1456.0  \n",
              "13897       0   375  65625.0     22190.0    8221.5  \n",
              "5386        1    32   4200.0      1974.0      84.0  \n",
              "15468       0    50   6300.0      2170.0     255.5  \n",
              "6910        0    60   2450.0         NaN       NaN  \n",
              "4576        1    74  10325.0      4980.5     679.0  \n",
              "8450        0    49   1925.0         NaN       NaN  \n",
              "14272       1   348  87500.0     12950.0    6825.0  \n",
              "15242       3   125  27650.0      8400.0    2355.5  \n",
              "1353        0    35   5250.0      1890.0      77.0  "
            ]
          },
          "execution_count": 353,
          "metadata": {},
          "output_type": "execute_result"
        }
      ],
      "source": [
        "datos.sample(10) # Toma la cantidad indicada de filas aleatorias. Por defecto toma solo una"
      ]
    },
    {
      "cell_type": "code",
      "execution_count": 354,
      "metadata": {
        "colab": {
          "base_uri": "https://localhost:8080/",
          "height": 204
        },
        "id": "XgO2Mc90kEsd",
        "outputId": "8895ef7e-0a79-48c6-82cd-78e0831c95a4"
      },
      "outputs": [
        {
          "data": {
            "text/plain": [
              "pandas.core.frame.DataFrame"
            ]
          },
          "execution_count": 354,
          "metadata": {},
          "output_type": "execute_result"
        }
      ],
      "source": [
        "type(datos)"
      ]
    },
    {
      "cell_type": "markdown",
      "metadata": {
        "id": "WnzVg_i7klfp"
      },
      "source": [
        "## **Exploración inicial de los datos**"
      ]
    },
    {
      "cell_type": "code",
      "execution_count": 355,
      "metadata": {
        "colab": {
          "base_uri": "https://localhost:8080/"
        },
        "id": "hGKK2TNrkraS",
        "outputId": "a0e22251-2c9d-47ff-bc2d-a8032b5fcac5"
      },
      "outputs": [
        {
          "data": {
            "text/plain": [
              "(25121, 9)"
            ]
          },
          "execution_count": 355,
          "metadata": {},
          "output_type": "execute_result"
        }
      ],
      "source": [
        "datos.shape # nos indica la cantidad de filas y de columnas del data set"
      ]
    },
    {
      "cell_type": "code",
      "execution_count": 356,
      "metadata": {
        "colab": {
          "base_uri": "https://localhost:8080/"
        },
        "id": "Zr96WvZBlA7F",
        "outputId": "9b6acb1b-1a01-4e9a-d96d-036bf15c6b86"
      },
      "outputs": [
        {
          "data": {
            "text/plain": [
              "Index(['Tipo', 'Colonia', 'Habitaciones', 'Garages', 'Suites', 'Area', 'Valor',\n",
              "       'Condominio', 'Impuesto'],\n",
              "      dtype='object')"
            ]
          },
          "execution_count": 356,
          "metadata": {},
          "output_type": "execute_result"
        }
      ],
      "source": [
        "datos.columns"
      ]
    },
    {
      "cell_type": "code",
      "execution_count": 357,
      "metadata": {
        "colab": {
          "base_uri": "https://localhost:8080/"
        },
        "id": "DcDTIcHplEiz",
        "outputId": "161b1ad1-5d9b-46e5-d4c8-a4d32380bdd7"
      },
      "outputs": [
        {
          "name": "stdout",
          "output_type": "stream",
          "text": [
            "<class 'pandas.core.frame.DataFrame'>\n",
            "RangeIndex: 25121 entries, 0 to 25120\n",
            "Data columns (total 9 columns):\n",
            " #   Column        Non-Null Count  Dtype  \n",
            "---  ------        --------------  -----  \n",
            " 0   Tipo          25121 non-null  object \n",
            " 1   Colonia       25121 non-null  object \n",
            " 2   Habitaciones  25121 non-null  int64  \n",
            " 3   Garages       25121 non-null  int64  \n",
            " 4   Suites        25121 non-null  int64  \n",
            " 5   Area          25121 non-null  int64  \n",
            " 6   Valor         25107 non-null  float64\n",
            " 7   Condominio    22495 non-null  float64\n",
            " 8   Impuesto      18037 non-null  float64\n",
            "dtypes: float64(3), int64(4), object(2)\n",
            "memory usage: 1.7+ MB\n"
          ]
        }
      ],
      "source": [
        "datos.info()"
      ]
    },
    {
      "cell_type": "code",
      "execution_count": 358,
      "metadata": {
        "colab": {
          "base_uri": "https://localhost:8080/",
          "height": 458
        },
        "id": "DI3dhOpwlUNa",
        "outputId": "27938d98-a945-44a3-d76d-a4e078b98a14"
      },
      "outputs": [
        {
          "data": {
            "text/plain": [
              "0                       Cocineta\n",
              "1                           Casa\n",
              "2        Conjunto Comercial/Sala\n",
              "3                   Departamento\n",
              "4                   Departamento\n",
              "                  ...           \n",
              "25116    Cochera/Estacionamiento\n",
              "25117                   Cocineta\n",
              "25118               Departamento\n",
              "25119               Departamento\n",
              "25120    Conjunto Comercial/Sala\n",
              "Name: Tipo, Length: 25121, dtype: object"
            ]
          },
          "execution_count": 358,
          "metadata": {},
          "output_type": "execute_result"
        }
      ],
      "source": [
        "datos['Tipo']"
      ]
    },
    {
      "cell_type": "code",
      "execution_count": 359,
      "metadata": {
        "colab": {
          "base_uri": "https://localhost:8080/",
          "height": 424
        },
        "id": "9gaHCmzUlvoO",
        "outputId": "0d911ca4-d447-4920-d446-589bdd2c34e7"
      },
      "outputs": [
        {
          "data": {
            "text/html": [
              "<div>\n",
              "<style scoped>\n",
              "    .dataframe tbody tr th:only-of-type {\n",
              "        vertical-align: middle;\n",
              "    }\n",
              "\n",
              "    .dataframe tbody tr th {\n",
              "        vertical-align: top;\n",
              "    }\n",
              "\n",
              "    .dataframe thead th {\n",
              "        text-align: right;\n",
              "    }\n",
              "</style>\n",
              "<table border=\"1\" class=\"dataframe\">\n",
              "  <thead>\n",
              "    <tr style=\"text-align: right;\">\n",
              "      <th></th>\n",
              "      <th>Habitaciones</th>\n",
              "      <th>Valor</th>\n",
              "    </tr>\n",
              "  </thead>\n",
              "  <tbody>\n",
              "    <tr>\n",
              "      <th>0</th>\n",
              "      <td>1</td>\n",
              "      <td>5950.0</td>\n",
              "    </tr>\n",
              "    <tr>\n",
              "      <th>1</th>\n",
              "      <td>2</td>\n",
              "      <td>24500.0</td>\n",
              "    </tr>\n",
              "    <tr>\n",
              "      <th>2</th>\n",
              "      <td>0</td>\n",
              "      <td>18200.0</td>\n",
              "    </tr>\n",
              "    <tr>\n",
              "      <th>3</th>\n",
              "      <td>1</td>\n",
              "      <td>2800.0</td>\n",
              "    </tr>\n",
              "    <tr>\n",
              "      <th>4</th>\n",
              "      <td>1</td>\n",
              "      <td>2800.0</td>\n",
              "    </tr>\n",
              "    <tr>\n",
              "      <th>...</th>\n",
              "      <td>...</td>\n",
              "      <td>...</td>\n",
              "    </tr>\n",
              "    <tr>\n",
              "      <th>25116</th>\n",
              "      <td>0</td>\n",
              "      <td>49000.0</td>\n",
              "    </tr>\n",
              "    <tr>\n",
              "      <th>25117</th>\n",
              "      <td>0</td>\n",
              "      <td>2800.0</td>\n",
              "    </tr>\n",
              "    <tr>\n",
              "      <th>25118</th>\n",
              "      <td>2</td>\n",
              "      <td>4900.0</td>\n",
              "    </tr>\n",
              "    <tr>\n",
              "      <th>25119</th>\n",
              "      <td>2</td>\n",
              "      <td>10500.0</td>\n",
              "    </tr>\n",
              "    <tr>\n",
              "      <th>25120</th>\n",
              "      <td>0</td>\n",
              "      <td>22750.0</td>\n",
              "    </tr>\n",
              "  </tbody>\n",
              "</table>\n",
              "<p>25121 rows × 2 columns</p>\n",
              "</div>"
            ],
            "text/plain": [
              "       Habitaciones    Valor\n",
              "0                 1   5950.0\n",
              "1                 2  24500.0\n",
              "2                 0  18200.0\n",
              "3                 1   2800.0\n",
              "4                 1   2800.0\n",
              "...             ...      ...\n",
              "25116             0  49000.0\n",
              "25117             0   2800.0\n",
              "25118             2   4900.0\n",
              "25119             2  10500.0\n",
              "25120             0  22750.0\n",
              "\n",
              "[25121 rows x 2 columns]"
            ]
          },
          "execution_count": 359,
          "metadata": {},
          "output_type": "execute_result"
        }
      ],
      "source": [
        "datos[['Habitaciones', 'Valor']]"
      ]
    },
    {
      "cell_type": "markdown",
      "metadata": {
        "id": "UjkRy60qXc9O"
      },
      "source": [
        "## **Demandas de ML**"
      ]
    },
    {
      "cell_type": "markdown",
      "metadata": {
        "id": "oGQvQrppXNdi"
      },
      "source": [
        "### ¿Cuáles son los valores promedio de alquiler por tipo de propiedad?"
      ]
    },
    {
      "cell_type": "code",
      "execution_count": 360,
      "metadata": {
        "colab": {
          "base_uri": "https://localhost:8080/",
          "height": 206
        },
        "id": "_4_2kRvnXjEE",
        "outputId": "d5e5540c-4286-4335-97d4-0832b9258f91"
      },
      "outputs": [
        {
          "data": {
            "text/html": [
              "<div>\n",
              "<style scoped>\n",
              "    .dataframe tbody tr th:only-of-type {\n",
              "        vertical-align: middle;\n",
              "    }\n",
              "\n",
              "    .dataframe tbody tr th {\n",
              "        vertical-align: top;\n",
              "    }\n",
              "\n",
              "    .dataframe thead th {\n",
              "        text-align: right;\n",
              "    }\n",
              "</style>\n",
              "<table border=\"1\" class=\"dataframe\">\n",
              "  <thead>\n",
              "    <tr style=\"text-align: right;\">\n",
              "      <th></th>\n",
              "      <th>Tipo</th>\n",
              "      <th>Colonia</th>\n",
              "      <th>Habitaciones</th>\n",
              "      <th>Garages</th>\n",
              "      <th>Suites</th>\n",
              "      <th>Area</th>\n",
              "      <th>Valor</th>\n",
              "      <th>Condominio</th>\n",
              "      <th>Impuesto</th>\n",
              "    </tr>\n",
              "  </thead>\n",
              "  <tbody>\n",
              "    <tr>\n",
              "      <th>0</th>\n",
              "      <td>Cocineta</td>\n",
              "      <td>Condesa</td>\n",
              "      <td>1</td>\n",
              "      <td>0</td>\n",
              "      <td>0</td>\n",
              "      <td>40</td>\n",
              "      <td>5950.0</td>\n",
              "      <td>1750.0</td>\n",
              "      <td>210.0</td>\n",
              "    </tr>\n",
              "    <tr>\n",
              "      <th>1</th>\n",
              "      <td>Casa</td>\n",
              "      <td>Polanco</td>\n",
              "      <td>2</td>\n",
              "      <td>0</td>\n",
              "      <td>1</td>\n",
              "      <td>100</td>\n",
              "      <td>24500.0</td>\n",
              "      <td>NaN</td>\n",
              "      <td>NaN</td>\n",
              "    </tr>\n",
              "    <tr>\n",
              "      <th>2</th>\n",
              "      <td>Conjunto Comercial/Sala</td>\n",
              "      <td>Santa Fe</td>\n",
              "      <td>0</td>\n",
              "      <td>4</td>\n",
              "      <td>0</td>\n",
              "      <td>150</td>\n",
              "      <td>18200.0</td>\n",
              "      <td>14070.0</td>\n",
              "      <td>3888.5</td>\n",
              "    </tr>\n",
              "    <tr>\n",
              "      <th>3</th>\n",
              "      <td>Departamento</td>\n",
              "      <td>Centro Histórico</td>\n",
              "      <td>1</td>\n",
              "      <td>0</td>\n",
              "      <td>0</td>\n",
              "      <td>15</td>\n",
              "      <td>2800.0</td>\n",
              "      <td>1365.0</td>\n",
              "      <td>70.0</td>\n",
              "    </tr>\n",
              "    <tr>\n",
              "      <th>4</th>\n",
              "      <td>Departamento</td>\n",
              "      <td>Del Valle</td>\n",
              "      <td>1</td>\n",
              "      <td>0</td>\n",
              "      <td>0</td>\n",
              "      <td>48</td>\n",
              "      <td>2800.0</td>\n",
              "      <td>805.0</td>\n",
              "      <td>NaN</td>\n",
              "    </tr>\n",
              "  </tbody>\n",
              "</table>\n",
              "</div>"
            ],
            "text/plain": [
              "                      Tipo           Colonia  Habitaciones  Garages  Suites  \\\n",
              "0                 Cocineta           Condesa             1        0       0   \n",
              "1                     Casa           Polanco             2        0       1   \n",
              "2  Conjunto Comercial/Sala          Santa Fe             0        4       0   \n",
              "3             Departamento  Centro Histórico             1        0       0   \n",
              "4             Departamento         Del Valle             1        0       0   \n",
              "\n",
              "   Area    Valor  Condominio  Impuesto  \n",
              "0    40   5950.0      1750.0     210.0  \n",
              "1   100  24500.0         NaN       NaN  \n",
              "2   150  18200.0     14070.0    3888.5  \n",
              "3    15   2800.0      1365.0      70.0  \n",
              "4    48   2800.0       805.0       NaN  "
            ]
          },
          "execution_count": 360,
          "metadata": {},
          "output_type": "execute_result"
        }
      ],
      "source": [
        "datos.head()\n"
      ]
    },
    {
      "cell_type": "code",
      "execution_count": 361,
      "metadata": {
        "colab": {
          "base_uri": "https://localhost:8080/"
        },
        "id": "QHWl1aKMXNLc",
        "outputId": "0e81cc54-992d-4ca3-a7e3-c1c1ee1e1daf"
      },
      "outputs": [
        {
          "data": {
            "text/plain": [
              "np.float64(36885.05048392878)"
            ]
          },
          "execution_count": 361,
          "metadata": {},
          "output_type": "execute_result"
        }
      ],
      "source": [
        "datos['Valor'].mean()"
      ]
    },
    {
      "cell_type": "markdown",
      "metadata": {
        "id": "ttya17-bZFBY"
      },
      "source": [
        "Con este códoigo obtenemos el valor promedio de todos los tipos de propiedades, pero lo que queremos el pomedio de valor discriminado por tipo"
      ]
    },
    {
      "cell_type": "code",
      "execution_count": 362,
      "metadata": {
        "colab": {
          "base_uri": "https://localhost:8080/",
          "height": 739
        },
        "id": "GebJbdSXZj9F",
        "outputId": "60ca6fff-032b-4fbf-af45-874d68c1f412"
      },
      "outputs": [
        {
          "data": {
            "text/html": [
              "<div>\n",
              "<style scoped>\n",
              "    .dataframe tbody tr th:only-of-type {\n",
              "        vertical-align: middle;\n",
              "    }\n",
              "\n",
              "    .dataframe tbody tr th {\n",
              "        vertical-align: top;\n",
              "    }\n",
              "\n",
              "    .dataframe thead th {\n",
              "        text-align: right;\n",
              "    }\n",
              "</style>\n",
              "<table border=\"1\" class=\"dataframe\">\n",
              "  <thead>\n",
              "    <tr style=\"text-align: right;\">\n",
              "      <th></th>\n",
              "      <th>Habitaciones</th>\n",
              "      <th>Garages</th>\n",
              "      <th>Suites</th>\n",
              "      <th>Area</th>\n",
              "      <th>Valor</th>\n",
              "      <th>Condominio</th>\n",
              "      <th>Impuesto</th>\n",
              "    </tr>\n",
              "    <tr>\n",
              "      <th>Tipo</th>\n",
              "      <th></th>\n",
              "      <th></th>\n",
              "      <th></th>\n",
              "      <th></th>\n",
              "      <th></th>\n",
              "      <th></th>\n",
              "      <th></th>\n",
              "    </tr>\n",
              "  </thead>\n",
              "  <tbody>\n",
              "    <tr>\n",
              "      <th>Casa</th>\n",
              "      <td>3.359633</td>\n",
              "      <td>1.897248</td>\n",
              "      <td>1.438532</td>\n",
              "      <td>289.943119</td>\n",
              "      <td>31453.177064</td>\n",
              "      <td>3699.421642</td>\n",
              "      <td>6629.404851</td>\n",
              "    </tr>\n",
              "    <tr>\n",
              "      <th>Casa Comercial</th>\n",
              "      <td>1.801980</td>\n",
              "      <td>2.118812</td>\n",
              "      <td>0.257426</td>\n",
              "      <td>370.277228</td>\n",
              "      <td>54735.841584</td>\n",
              "      <td>7622.192308</td>\n",
              "      <td>6166.063380</td>\n",
              "    </tr>\n",
              "    <tr>\n",
              "      <th>Casa de Condominio</th>\n",
              "      <td>4.319672</td>\n",
              "      <td>3.555738</td>\n",
              "      <td>3.247541</td>\n",
              "      <td>566.303279</td>\n",
              "      <td>51428.609836</td>\n",
              "      <td>5286.578804</td>\n",
              "      <td>15046.939394</td>\n",
              "    </tr>\n",
              "    <tr>\n",
              "      <th>Casa de Vecindad</th>\n",
              "      <td>1.974684</td>\n",
              "      <td>0.379747</td>\n",
              "      <td>0.215190</td>\n",
              "      <td>79.981013</td>\n",
              "      <td>5961.740506</td>\n",
              "      <td>413.444444</td>\n",
              "      <td>706.850000</td>\n",
              "    </tr>\n",
              "    <tr>\n",
              "      <th>Cochera/Estacionamiento</th>\n",
              "      <td>0.064935</td>\n",
              "      <td>1.376623</td>\n",
              "      <td>0.000000</td>\n",
              "      <td>18.662338</td>\n",
              "      <td>6995.454545</td>\n",
              "      <td>1069.075000</td>\n",
              "      <td>449.458333</td>\n",
              "    </tr>\n",
              "    <tr>\n",
              "      <th>Cocineta</th>\n",
              "      <td>0.836088</td>\n",
              "      <td>0.020661</td>\n",
              "      <td>0.041322</td>\n",
              "      <td>29.090909</td>\n",
              "      <td>4425.856061</td>\n",
              "      <td>1521.734214</td>\n",
              "      <td>280.701461</td>\n",
              "    </tr>\n",
              "    <tr>\n",
              "      <th>Conjunto Comercial/Sala</th>\n",
              "      <td>0.047175</td>\n",
              "      <td>2.686323</td>\n",
              "      <td>0.000352</td>\n",
              "      <td>236.323711</td>\n",
              "      <td>57675.214550</td>\n",
              "      <td>17489.361142</td>\n",
              "      <td>5425.980245</td>\n",
              "    </tr>\n",
              "    <tr>\n",
              "      <th>Departamento</th>\n",
              "      <td>2.504199</td>\n",
              "      <td>1.256367</td>\n",
              "      <td>0.891899</td>\n",
              "      <td>124.014292</td>\n",
              "      <td>18683.269431</td>\n",
              "      <td>6797.092951</td>\n",
              "      <td>2634.921081</td>\n",
              "    </tr>\n",
              "    <tr>\n",
              "      <th>Departamento en Hotel</th>\n",
              "      <td>1.419780</td>\n",
              "      <td>0.969231</td>\n",
              "      <td>0.758242</td>\n",
              "      <td>65.848352</td>\n",
              "      <td>16285.430769</td>\n",
              "      <td>7250.650602</td>\n",
              "      <td>1768.923885</td>\n",
              "    </tr>\n",
              "    <tr>\n",
              "      <th>Edificio Completo</th>\n",
              "      <td>0.405530</td>\n",
              "      <td>11.175115</td>\n",
              "      <td>0.027650</td>\n",
              "      <td>1717.271889</td>\n",
              "      <td>409418.080645</td>\n",
              "      <td>234304.608696</td>\n",
              "      <td>50413.735294</td>\n",
              "    </tr>\n",
              "    <tr>\n",
              "      <th>Estudio</th>\n",
              "      <td>0.500000</td>\n",
              "      <td>0.250000</td>\n",
              "      <td>0.000000</td>\n",
              "      <td>103.250000</td>\n",
              "      <td>8400.000000</td>\n",
              "      <td>1921.500000</td>\n",
              "      <td>529.375000</td>\n",
              "    </tr>\n",
              "    <tr>\n",
              "      <th>Galpón/Depósito/Almacén</th>\n",
              "      <td>0.069204</td>\n",
              "      <td>5.311419</td>\n",
              "      <td>0.000000</td>\n",
              "      <td>2660.487889</td>\n",
              "      <td>299984.140138</td>\n",
              "      <td>48581.166667</td>\n",
              "      <td>22260.530899</td>\n",
              "    </tr>\n",
              "    <tr>\n",
              "      <th>Hotel</th>\n",
              "      <td>25.500000</td>\n",
              "      <td>2.500000</td>\n",
              "      <td>12.000000</td>\n",
              "      <td>885.500000</td>\n",
              "      <td>87500.000000</td>\n",
              "      <td>NaN</td>\n",
              "      <td>21707.000000</td>\n",
              "    </tr>\n",
              "    <tr>\n",
              "      <th>Industria</th>\n",
              "      <td>0.000000</td>\n",
              "      <td>0.000000</td>\n",
              "      <td>0.000000</td>\n",
              "      <td>22.000000</td>\n",
              "      <td>420000.000000</td>\n",
              "      <td>NaN</td>\n",
              "      <td>NaN</td>\n",
              "    </tr>\n",
              "    <tr>\n",
              "      <th>Loft</th>\n",
              "      <td>1.078947</td>\n",
              "      <td>0.552632</td>\n",
              "      <td>0.421053</td>\n",
              "      <td>56.263158</td>\n",
              "      <td>9924.526316</td>\n",
              "      <td>3501.200000</td>\n",
              "      <td>887.080645</td>\n",
              "    </tr>\n",
              "    <tr>\n",
              "      <th>Loteo/Condominio</th>\n",
              "      <td>0.000000</td>\n",
              "      <td>0.000000</td>\n",
              "      <td>0.000000</td>\n",
              "      <td>215.000000</td>\n",
              "      <td>92166.666667</td>\n",
              "      <td>NaN</td>\n",
              "      <td>17097.500000</td>\n",
              "    </tr>\n",
              "    <tr>\n",
              "      <th>Posada/Chalé</th>\n",
              "      <td>23.000000</td>\n",
              "      <td>0.000000</td>\n",
              "      <td>23.000000</td>\n",
              "      <td>862.000000</td>\n",
              "      <td>5180.000000</td>\n",
              "      <td>1032.500000</td>\n",
              "      <td>NaN</td>\n",
              "    </tr>\n",
              "    <tr>\n",
              "      <th>Rancho</th>\n",
              "      <td>5.125000</td>\n",
              "      <td>0.000000</td>\n",
              "      <td>3.750000</td>\n",
              "      <td>14993.750000</td>\n",
              "      <td>38014.375000</td>\n",
              "      <td>NaN</td>\n",
              "      <td>4375.000000</td>\n",
              "    </tr>\n",
              "    <tr>\n",
              "      <th>Terreno Estándar</th>\n",
              "      <td>0.066667</td>\n",
              "      <td>0.000000</td>\n",
              "      <td>0.000000</td>\n",
              "      <td>4012.044444</td>\n",
              "      <td>135364.444444</td>\n",
              "      <td>NaN</td>\n",
              "      <td>24988.750000</td>\n",
              "    </tr>\n",
              "    <tr>\n",
              "      <th>Tienda en Centro Comercial</th>\n",
              "      <td>0.055838</td>\n",
              "      <td>8.385787</td>\n",
              "      <td>0.010152</td>\n",
              "      <td>92.197970</td>\n",
              "      <td>32556.785714</td>\n",
              "      <td>6824.166667</td>\n",
              "      <td>4127.755882</td>\n",
              "    </tr>\n",
              "    <tr>\n",
              "      <th>Tienda/Salón</th>\n",
              "      <td>0.011840</td>\n",
              "      <td>1.349727</td>\n",
              "      <td>0.001821</td>\n",
              "      <td>242.169399</td>\n",
              "      <td>56263.544252</td>\n",
              "      <td>10395.491137</td>\n",
              "      <td>10532.468927</td>\n",
              "    </tr>\n",
              "  </tbody>\n",
              "</table>\n",
              "</div>"
            ],
            "text/plain": [
              "                            Habitaciones    Garages     Suites          Area  \\\n",
              "Tipo                                                                           \n",
              "Casa                            3.359633   1.897248   1.438532    289.943119   \n",
              "Casa Comercial                  1.801980   2.118812   0.257426    370.277228   \n",
              "Casa de Condominio              4.319672   3.555738   3.247541    566.303279   \n",
              "Casa de Vecindad                1.974684   0.379747   0.215190     79.981013   \n",
              "Cochera/Estacionamiento         0.064935   1.376623   0.000000     18.662338   \n",
              "Cocineta                        0.836088   0.020661   0.041322     29.090909   \n",
              "Conjunto Comercial/Sala         0.047175   2.686323   0.000352    236.323711   \n",
              "Departamento                    2.504199   1.256367   0.891899    124.014292   \n",
              "Departamento en Hotel           1.419780   0.969231   0.758242     65.848352   \n",
              "Edificio Completo               0.405530  11.175115   0.027650   1717.271889   \n",
              "Estudio                         0.500000   0.250000   0.000000    103.250000   \n",
              "Galpón/Depósito/Almacén         0.069204   5.311419   0.000000   2660.487889   \n",
              "Hotel                          25.500000   2.500000  12.000000    885.500000   \n",
              "Industria                       0.000000   0.000000   0.000000     22.000000   \n",
              "Loft                            1.078947   0.552632   0.421053     56.263158   \n",
              "Loteo/Condominio                0.000000   0.000000   0.000000    215.000000   \n",
              "Posada/Chalé                   23.000000   0.000000  23.000000    862.000000   \n",
              "Rancho                          5.125000   0.000000   3.750000  14993.750000   \n",
              "Terreno Estándar                0.066667   0.000000   0.000000   4012.044444   \n",
              "Tienda en Centro Comercial      0.055838   8.385787   0.010152     92.197970   \n",
              "Tienda/Salón                    0.011840   1.349727   0.001821    242.169399   \n",
              "\n",
              "                                    Valor     Condominio      Impuesto  \n",
              "Tipo                                                                    \n",
              "Casa                         31453.177064    3699.421642   6629.404851  \n",
              "Casa Comercial               54735.841584    7622.192308   6166.063380  \n",
              "Casa de Condominio           51428.609836    5286.578804  15046.939394  \n",
              "Casa de Vecindad              5961.740506     413.444444    706.850000  \n",
              "Cochera/Estacionamiento       6995.454545    1069.075000    449.458333  \n",
              "Cocineta                      4425.856061    1521.734214    280.701461  \n",
              "Conjunto Comercial/Sala      57675.214550   17489.361142   5425.980245  \n",
              "Departamento                 18683.269431    6797.092951   2634.921081  \n",
              "Departamento en Hotel        16285.430769    7250.650602   1768.923885  \n",
              "Edificio Completo           409418.080645  234304.608696  50413.735294  \n",
              "Estudio                       8400.000000    1921.500000    529.375000  \n",
              "Galpón/Depósito/Almacén     299984.140138   48581.166667  22260.530899  \n",
              "Hotel                        87500.000000            NaN  21707.000000  \n",
              "Industria                   420000.000000            NaN           NaN  \n",
              "Loft                          9924.526316    3501.200000    887.080645  \n",
              "Loteo/Condominio             92166.666667            NaN  17097.500000  \n",
              "Posada/Chalé                  5180.000000    1032.500000           NaN  \n",
              "Rancho                       38014.375000            NaN   4375.000000  \n",
              "Terreno Estándar            135364.444444            NaN  24988.750000  \n",
              "Tienda en Centro Comercial   32556.785714    6824.166667   4127.755882  \n",
              "Tienda/Salón                 56263.544252   10395.491137  10532.468927  "
            ]
          },
          "execution_count": 362,
          "metadata": {},
          "output_type": "execute_result"
        }
      ],
      "source": [
        "datos.groupby('Tipo').mean(numeric_only=True)"
      ]
    },
    {
      "cell_type": "markdown",
      "metadata": {
        "id": "4Po5urvia_xm"
      },
      "source": [
        "Con este código nos da el promedio de todas las columna lo cual no es lo que queremos."
      ]
    },
    {
      "cell_type": "code",
      "execution_count": 363,
      "metadata": {
        "colab": {
          "base_uri": "https://localhost:8080/",
          "height": 774
        },
        "id": "YQ3_0F25bJQG",
        "outputId": "6c449023-f84d-474e-9fed-69b4f2ade222"
      },
      "outputs": [
        {
          "data": {
            "text/plain": [
              "Tipo\n",
              "Casa                           31453.177064\n",
              "Casa Comercial                 54735.841584\n",
              "Casa de Condominio             51428.609836\n",
              "Casa de Vecindad                5961.740506\n",
              "Cochera/Estacionamiento         6995.454545\n",
              "Cocineta                        4425.856061\n",
              "Conjunto Comercial/Sala        57675.214550\n",
              "Departamento                   18683.269431\n",
              "Departamento en Hotel          16285.430769\n",
              "Edificio Completo             409418.080645\n",
              "Estudio                         8400.000000\n",
              "Galpón/Depósito/Almacén       299984.140138\n",
              "Hotel                          87500.000000\n",
              "Industria                     420000.000000\n",
              "Loft                            9924.526316\n",
              "Loteo/Condominio               92166.666667\n",
              "Posada/Chalé                    5180.000000\n",
              "Rancho                         38014.375000\n",
              "Terreno Estándar              135364.444444\n",
              "Tienda en Centro Comercial     32556.785714\n",
              "Tienda/Salón                   56263.544252\n",
              "Name: Valor, dtype: float64"
            ]
          },
          "execution_count": 363,
          "metadata": {},
          "output_type": "execute_result"
        }
      ],
      "source": [
        "datos.groupby('Tipo')['Valor'].mean()"
      ]
    },
    {
      "cell_type": "markdown",
      "metadata": {
        "id": "qU2epX8QbSbq"
      },
      "source": [
        "con  este código indicamos la columna sobre la cual queremos calcular el promedio."
      ]
    },
    {
      "cell_type": "code",
      "execution_count": 364,
      "metadata": {
        "colab": {
          "base_uri": "https://localhost:8080/",
          "height": 739
        },
        "id": "Ns3HGjYqbc-L",
        "outputId": "999244c4-4bcf-41a2-f50c-cfc99486b8ec"
      },
      "outputs": [
        {
          "data": {
            "text/html": [
              "<div>\n",
              "<style scoped>\n",
              "    .dataframe tbody tr th:only-of-type {\n",
              "        vertical-align: middle;\n",
              "    }\n",
              "\n",
              "    .dataframe tbody tr th {\n",
              "        vertical-align: top;\n",
              "    }\n",
              "\n",
              "    .dataframe thead th {\n",
              "        text-align: right;\n",
              "    }\n",
              "</style>\n",
              "<table border=\"1\" class=\"dataframe\">\n",
              "  <thead>\n",
              "    <tr style=\"text-align: right;\">\n",
              "      <th></th>\n",
              "      <th>Valor</th>\n",
              "    </tr>\n",
              "    <tr>\n",
              "      <th>Tipo</th>\n",
              "      <th></th>\n",
              "    </tr>\n",
              "  </thead>\n",
              "  <tbody>\n",
              "    <tr>\n",
              "      <th>Cocineta</th>\n",
              "      <td>4425.856061</td>\n",
              "    </tr>\n",
              "    <tr>\n",
              "      <th>Posada/Chalé</th>\n",
              "      <td>5180.000000</td>\n",
              "    </tr>\n",
              "    <tr>\n",
              "      <th>Casa de Vecindad</th>\n",
              "      <td>5961.740506</td>\n",
              "    </tr>\n",
              "    <tr>\n",
              "      <th>Cochera/Estacionamiento</th>\n",
              "      <td>6995.454545</td>\n",
              "    </tr>\n",
              "    <tr>\n",
              "      <th>Estudio</th>\n",
              "      <td>8400.000000</td>\n",
              "    </tr>\n",
              "    <tr>\n",
              "      <th>Loft</th>\n",
              "      <td>9924.526316</td>\n",
              "    </tr>\n",
              "    <tr>\n",
              "      <th>Departamento en Hotel</th>\n",
              "      <td>16285.430769</td>\n",
              "    </tr>\n",
              "    <tr>\n",
              "      <th>Departamento</th>\n",
              "      <td>18683.269431</td>\n",
              "    </tr>\n",
              "    <tr>\n",
              "      <th>Casa</th>\n",
              "      <td>31453.177064</td>\n",
              "    </tr>\n",
              "    <tr>\n",
              "      <th>Tienda en Centro Comercial</th>\n",
              "      <td>32556.785714</td>\n",
              "    </tr>\n",
              "    <tr>\n",
              "      <th>Rancho</th>\n",
              "      <td>38014.375000</td>\n",
              "    </tr>\n",
              "    <tr>\n",
              "      <th>Casa de Condominio</th>\n",
              "      <td>51428.609836</td>\n",
              "    </tr>\n",
              "    <tr>\n",
              "      <th>Casa Comercial</th>\n",
              "      <td>54735.841584</td>\n",
              "    </tr>\n",
              "    <tr>\n",
              "      <th>Tienda/Salón</th>\n",
              "      <td>56263.544252</td>\n",
              "    </tr>\n",
              "    <tr>\n",
              "      <th>Conjunto Comercial/Sala</th>\n",
              "      <td>57675.214550</td>\n",
              "    </tr>\n",
              "    <tr>\n",
              "      <th>Hotel</th>\n",
              "      <td>87500.000000</td>\n",
              "    </tr>\n",
              "    <tr>\n",
              "      <th>Loteo/Condominio</th>\n",
              "      <td>92166.666667</td>\n",
              "    </tr>\n",
              "    <tr>\n",
              "      <th>Terreno Estándar</th>\n",
              "      <td>135364.444444</td>\n",
              "    </tr>\n",
              "    <tr>\n",
              "      <th>Galpón/Depósito/Almacén</th>\n",
              "      <td>299984.140138</td>\n",
              "    </tr>\n",
              "    <tr>\n",
              "      <th>Edificio Completo</th>\n",
              "      <td>409418.080645</td>\n",
              "    </tr>\n",
              "    <tr>\n",
              "      <th>Industria</th>\n",
              "      <td>420000.000000</td>\n",
              "    </tr>\n",
              "  </tbody>\n",
              "</table>\n",
              "</div>"
            ],
            "text/plain": [
              "                                    Valor\n",
              "Tipo                                     \n",
              "Cocineta                      4425.856061\n",
              "Posada/Chalé                  5180.000000\n",
              "Casa de Vecindad              5961.740506\n",
              "Cochera/Estacionamiento       6995.454545\n",
              "Estudio                       8400.000000\n",
              "Loft                          9924.526316\n",
              "Departamento en Hotel        16285.430769\n",
              "Departamento                 18683.269431\n",
              "Casa                         31453.177064\n",
              "Tienda en Centro Comercial   32556.785714\n",
              "Rancho                       38014.375000\n",
              "Casa de Condominio           51428.609836\n",
              "Casa Comercial               54735.841584\n",
              "Tienda/Salón                 56263.544252\n",
              "Conjunto Comercial/Sala      57675.214550\n",
              "Hotel                        87500.000000\n",
              "Loteo/Condominio             92166.666667\n",
              "Terreno Estándar            135364.444444\n",
              "Galpón/Depósito/Almacén     299984.140138\n",
              "Edificio Completo           409418.080645\n",
              "Industria                   420000.000000"
            ]
          },
          "execution_count": 364,
          "metadata": {},
          "output_type": "execute_result"
        }
      ],
      "source": [
        "datos.groupby('Tipo')[['Valor']].mean().sort_values('Valor')"
      ]
    },
    {
      "cell_type": "markdown",
      "metadata": {
        "id": "RD4IdhI1cV-x"
      },
      "source": [
        "Con este código obtenemos la información como data frame en lugar de Series y además lo ordenamos de menor a mayor"
      ]
    },
    {
      "cell_type": "code",
      "execution_count": 365,
      "metadata": {
        "id": "W9C7-i1hcpRL"
      },
      "outputs": [],
      "source": [
        "df_promedios_tipo = datos.groupby('Tipo')[['Valor']].mean().sort_values('Valor')"
      ]
    },
    {
      "cell_type": "markdown",
      "metadata": {
        "id": "iEraxhemc50q"
      },
      "source": [
        "creamos la variable para poder graficar"
      ]
    },
    {
      "cell_type": "code",
      "execution_count": 366,
      "metadata": {
        "colab": {
          "base_uri": "https://localhost:8080/",
          "height": 693
        },
        "id": "eTdh773Rc2Y1",
        "outputId": "06df16c3-cd38-4b93-bec3-ab218a954420"
      },
      "outputs": [
        {
          "data": {
            "text/plain": [
              "<Axes: ylabel='Tipo'>"
            ]
          },
          "execution_count": 366,
          "metadata": {},
          "output_type": "execute_result"
        },
        {
          "data": {
            "image/png": "[encoded data removed]",
            "text/plain": [
              "<Figure size 1200x800 with 1 Axes>"
            ]
          },
          "metadata": {},
          "output_type": "display_data"
        }
      ],
      "source": [
        "df_promedios_tipo.plot.barh(figsize=(12,8), color='red')"
      ]
    },
    {
      "cell_type": "code",
      "execution_count": 367,
      "metadata": {
        "colab": {
          "base_uri": "https://localhost:8080/"
        },
        "id": "xQUyMFLbeP3z",
        "outputId": "891980ef-5b54-4d22-ace7-3d9bdf6a8b6d"
      },
      "outputs": [
        {
          "data": {
            "text/plain": [
              "array(['Cocineta', 'Casa', 'Conjunto Comercial/Sala', 'Departamento',\n",
              "       'Casa de Condominio', 'Edificio Completo', 'Departamento en Hotel',\n",
              "       'Tienda/Salón', 'Casa Comercial', 'Casa de Vecindad',\n",
              "       'Terreno Estándar', 'Cochera/Estacionamiento', 'Loft',\n",
              "       'Galpón/Depósito/Almacén', 'Tienda en Centro Comercial', 'Rancho',\n",
              "       'Posada/Chalé', 'Estudio', 'Hotel', 'Loteo/Condominio',\n",
              "       'Industria'], dtype=object)"
            ]
          },
          "execution_count": 367,
          "metadata": {},
          "output_type": "execute_result"
        }
      ],
      "source": [
        "datos.Tipo.unique()"
      ]
    },
    {
      "cell_type": "code",
      "execution_count": 368,
      "metadata": {
        "id": "rtufNzg5gbdc"
      },
      "outputs": [],
      "source": [
        "inmuebles_comerciales = ['Conjunto Comercial/Sala', 'Edificio Completo', 'Tienda/Salón',\n",
        "                          'Casa Comercial', 'Cochera/Estacionamiento',\n",
        "                          'Galpón/Depósito/Almacén', 'Tienda en Centro Comercial',\n",
        "                          'Industria', 'Terreno Estándar', 'Loteo/Condominio', 'Hotel']\n"
      ]
    },
    {
      "cell_type": "code",
      "execution_count": 369,
      "metadata": {
        "colab": {
          "base_uri": "https://localhost:8080/",
          "height": 424
        },
        "id": "ET8TXC21hWc6",
        "outputId": "842f65fc-fd51-43d6-fce5-a5a905e59fd1"
      },
      "outputs": [
        {
          "data": {
            "text/html": [
              "<div>\n",
              "<style scoped>\n",
              "    .dataframe tbody tr th:only-of-type {\n",
              "        vertical-align: middle;\n",
              "    }\n",
              "\n",
              "    .dataframe tbody tr th {\n",
              "        vertical-align: top;\n",
              "    }\n",
              "\n",
              "    .dataframe thead th {\n",
              "        text-align: right;\n",
              "    }\n",
              "</style>\n",
              "<table border=\"1\" class=\"dataframe\">\n",
              "  <thead>\n",
              "    <tr style=\"text-align: right;\">\n",
              "      <th></th>\n",
              "      <th>Tipo</th>\n",
              "      <th>Colonia</th>\n",
              "      <th>Habitaciones</th>\n",
              "      <th>Garages</th>\n",
              "      <th>Suites</th>\n",
              "      <th>Area</th>\n",
              "      <th>Valor</th>\n",
              "      <th>Condominio</th>\n",
              "      <th>Impuesto</th>\n",
              "    </tr>\n",
              "  </thead>\n",
              "  <tbody>\n",
              "    <tr>\n",
              "      <th>0</th>\n",
              "      <td>Cocineta</td>\n",
              "      <td>Condesa</td>\n",
              "      <td>1</td>\n",
              "      <td>0</td>\n",
              "      <td>0</td>\n",
              "      <td>40</td>\n",
              "      <td>5950.0</td>\n",
              "      <td>1750.0</td>\n",
              "      <td>210.0</td>\n",
              "    </tr>\n",
              "    <tr>\n",
              "      <th>1</th>\n",
              "      <td>Casa</td>\n",
              "      <td>Polanco</td>\n",
              "      <td>2</td>\n",
              "      <td>0</td>\n",
              "      <td>1</td>\n",
              "      <td>100</td>\n",
              "      <td>24500.0</td>\n",
              "      <td>NaN</td>\n",
              "      <td>NaN</td>\n",
              "    </tr>\n",
              "    <tr>\n",
              "      <th>3</th>\n",
              "      <td>Departamento</td>\n",
              "      <td>Centro Histórico</td>\n",
              "      <td>1</td>\n",
              "      <td>0</td>\n",
              "      <td>0</td>\n",
              "      <td>15</td>\n",
              "      <td>2800.0</td>\n",
              "      <td>1365.0</td>\n",
              "      <td>70.0</td>\n",
              "    </tr>\n",
              "    <tr>\n",
              "      <th>4</th>\n",
              "      <td>Departamento</td>\n",
              "      <td>Del Valle</td>\n",
              "      <td>1</td>\n",
              "      <td>0</td>\n",
              "      <td>0</td>\n",
              "      <td>48</td>\n",
              "      <td>2800.0</td>\n",
              "      <td>805.0</td>\n",
              "      <td>NaN</td>\n",
              "    </tr>\n",
              "    <tr>\n",
              "      <th>5</th>\n",
              "      <td>Casa de Condominio</td>\n",
              "      <td>Santa Fe</td>\n",
              "      <td>5</td>\n",
              "      <td>4</td>\n",
              "      <td>5</td>\n",
              "      <td>750</td>\n",
              "      <td>77000.0</td>\n",
              "      <td>NaN</td>\n",
              "      <td>NaN</td>\n",
              "    </tr>\n",
              "    <tr>\n",
              "      <th>...</th>\n",
              "      <td>...</td>\n",
              "      <td>...</td>\n",
              "      <td>...</td>\n",
              "      <td>...</td>\n",
              "      <td>...</td>\n",
              "      <td>...</td>\n",
              "      <td>...</td>\n",
              "      <td>...</td>\n",
              "      <td>...</td>\n",
              "    </tr>\n",
              "    <tr>\n",
              "      <th>25114</th>\n",
              "      <td>Departamento</td>\n",
              "      <td>Narvarte</td>\n",
              "      <td>1</td>\n",
              "      <td>0</td>\n",
              "      <td>0</td>\n",
              "      <td>28</td>\n",
              "      <td>3500.0</td>\n",
              "      <td>1260.0</td>\n",
              "      <td>87.5</td>\n",
              "    </tr>\n",
              "    <tr>\n",
              "      <th>25115</th>\n",
              "      <td>Casa de Condominio</td>\n",
              "      <td>Santa Fe</td>\n",
              "      <td>5</td>\n",
              "      <td>3</td>\n",
              "      <td>4</td>\n",
              "      <td>450</td>\n",
              "      <td>52500.0</td>\n",
              "      <td>5988.5</td>\n",
              "      <td>8162.0</td>\n",
              "    </tr>\n",
              "    <tr>\n",
              "      <th>25117</th>\n",
              "      <td>Cocineta</td>\n",
              "      <td>Centro Histórico</td>\n",
              "      <td>0</td>\n",
              "      <td>0</td>\n",
              "      <td>0</td>\n",
              "      <td>27</td>\n",
              "      <td>2800.0</td>\n",
              "      <td>1225.0</td>\n",
              "      <td>87.5</td>\n",
              "    </tr>\n",
              "    <tr>\n",
              "      <th>25118</th>\n",
              "      <td>Departamento</td>\n",
              "      <td>Mixcoac</td>\n",
              "      <td>2</td>\n",
              "      <td>1</td>\n",
              "      <td>0</td>\n",
              "      <td>48</td>\n",
              "      <td>4900.0</td>\n",
              "      <td>1781.5</td>\n",
              "      <td>129.5</td>\n",
              "    </tr>\n",
              "    <tr>\n",
              "      <th>25119</th>\n",
              "      <td>Departamento</td>\n",
              "      <td>Lomas de Chapultepec</td>\n",
              "      <td>2</td>\n",
              "      <td>0</td>\n",
              "      <td>0</td>\n",
              "      <td>70</td>\n",
              "      <td>10500.0</td>\n",
              "      <td>2660.0</td>\n",
              "      <td>NaN</td>\n",
              "    </tr>\n",
              "  </tbody>\n",
              "</table>\n",
              "<p>17309 rows × 9 columns</p>\n",
              "</div>"
            ],
            "text/plain": [
              "                     Tipo               Colonia  Habitaciones  Garages  \\\n",
              "0                Cocineta               Condesa             1        0   \n",
              "1                    Casa               Polanco             2        0   \n",
              "3            Departamento      Centro Histórico             1        0   \n",
              "4            Departamento             Del Valle             1        0   \n",
              "5      Casa de Condominio              Santa Fe             5        4   \n",
              "...                   ...                   ...           ...      ...   \n",
              "25114        Departamento              Narvarte             1        0   \n",
              "25115  Casa de Condominio              Santa Fe             5        3   \n",
              "25117            Cocineta      Centro Histórico             0        0   \n",
              "25118        Departamento               Mixcoac             2        1   \n",
              "25119        Departamento  Lomas de Chapultepec             2        0   \n",
              "\n",
              "       Suites  Area    Valor  Condominio  Impuesto  \n",
              "0           0    40   5950.0      1750.0     210.0  \n",
              "1           1   100  24500.0         NaN       NaN  \n",
              "3           0    15   2800.0      1365.0      70.0  \n",
              "4           0    48   2800.0       805.0       NaN  \n",
              "5           5   750  77000.0         NaN       NaN  \n",
              "...       ...   ...      ...         ...       ...  \n",
              "25114       0    28   3500.0      1260.0      87.5  \n",
              "25115       4   450  52500.0      5988.5    8162.0  \n",
              "25117       0    27   2800.0      1225.0      87.5  \n",
              "25118       0    48   4900.0      1781.5     129.5  \n",
              "25119       0    70  10500.0      2660.0       NaN  \n",
              "\n",
              "[17309 rows x 9 columns]"
            ]
          },
          "execution_count": 369,
          "metadata": {},
          "output_type": "execute_result"
        }
      ],
      "source": [
        "datos.query('@inmuebles_comerciales not in Tipo')"
      ]
    },
    {
      "cell_type": "markdown",
      "metadata": {
        "id": "coS1BPZNhpM9"
      },
      "source": [
        "Con este código se filtran todos los inmuebles que no son comerciales"
      ]
    },
    {
      "cell_type": "code",
      "execution_count": 370,
      "metadata": {
        "id": "MllsSbi8iM9s"
      },
      "outputs": [],
      "source": [
        "df_inmuebles_resideciales = datos.query('@inmuebles_comerciales not in Tipo')"
      ]
    },
    {
      "cell_type": "code",
      "execution_count": 371,
      "metadata": {
        "colab": {
          "base_uri": "https://localhost:8080/",
          "height": 693
        },
        "id": "CO5SzoLJifJI",
        "outputId": "85321f15-9662-486a-f406-52cbcb53f4d0"
      },
      "outputs": [
        {
          "data": {
            "text/plain": [
              "<Axes: ylabel='Tipo'>"
            ]
          },
          "execution_count": 371,
          "metadata": {},
          "output_type": "execute_result"
        },
        {
          "data": {
            "image/png": "[encoded data removed]",
            "text/plain": [
              "<Figure size 1200x800 with 1 Axes>"
            ]
          },
          "metadata": {},
          "output_type": "display_data"
        }
      ],
      "source": [
        "df_promedios_tipo = df_inmuebles_resideciales.groupby('Tipo')[['Valor']].mean().sort_values('Valor')\n",
        "df_promedios_tipo.plot.barh(figsize=(12,8), color='purple')"
      ]
    },
    {
      "cell_type": "markdown",
      "metadata": {
        "id": "BGupLC3Qi-TE"
      },
      "source": [
        "Finalmente graficamos el valor promedio de los inmuebles residenciales"
      ]
    },
    {
      "cell_type": "markdown",
      "metadata": {
        "id": "NnavT0ZreLa-"
      },
      "source": [
        "### ¿Cuál es el porcentaje de cada tipo de propiedad en nuestra base de datos?"
      ]
    },
    {
      "cell_type": "code",
      "execution_count": 372,
      "metadata": {
        "colab": {
          "base_uri": "https://localhost:8080/",
          "height": 774
        },
        "id": "LkBeEqc6k86S",
        "outputId": "4e3cfaa4-2d1c-4bff-a68c-2e748ce2636f"
      },
      "outputs": [
        {
          "data": {
            "text/plain": [
              "Tipo\n",
              "Departamento                  0.587715\n",
              "Conjunto Comercial/Sala       0.226145\n",
              "Tienda/Salón                  0.043708\n",
              "Cocineta                      0.028900\n",
              "Casa de Condominio            0.024282\n",
              "Casa                          0.021695\n",
              "Departamento en Hotel         0.018112\n",
              "Galpón/Depósito/Almacén       0.011504\n",
              "Edificio Completo             0.008638\n",
              "Casa Comercial                0.008041\n",
              "Tienda en Centro Comercial    0.007842\n",
              "Casa de Vecindad              0.006290\n",
              "Cochera/Estacionamiento       0.003065\n",
              "Terreno Estándar              0.001791\n",
              "Loft                          0.001513\n",
              "Rancho                        0.000318\n",
              "Estudio                       0.000159\n",
              "Loteo/Condominio              0.000119\n",
              "Hotel                         0.000080\n",
              "Posada/Chalé                  0.000040\n",
              "Industria                     0.000040\n",
              "Name: proportion, dtype: float64"
            ]
          },
          "execution_count": 372,
          "metadata": {},
          "output_type": "execute_result"
        }
      ],
      "source": [
        "datos.Tipo.value_counts(normalize=True)"
      ]
    },
    {
      "cell_type": "markdown",
      "metadata": {
        "id": "bNF4ZS2dljJB"
      },
      "source": [
        "Este código nos entrega el procentaje de todos los inmuebles"
      ]
    },
    {
      "cell_type": "code",
      "execution_count": 373,
      "metadata": {
        "colab": {
          "base_uri": "https://localhost:8080/",
          "height": 429
        },
        "id": "lcdUhixOlppN",
        "outputId": "2c873484-6fc3-4319-b1ef-0eeb3dc050af"
      },
      "outputs": [
        {
          "data": {
            "text/plain": [
              "Tipo\n",
              "Departamento             0.852967\n",
              "Cocineta                 0.041943\n",
              "Casa de Condominio       0.035242\n",
              "Casa                     0.031487\n",
              "Departamento en Hotel    0.026287\n",
              "Casa de Vecindad         0.009128\n",
              "Loft                     0.002195\n",
              "Rancho                   0.000462\n",
              "Estudio                  0.000231\n",
              "Posada/Chalé             0.000058\n",
              "Name: proportion, dtype: float64"
            ]
          },
          "execution_count": 373,
          "metadata": {},
          "output_type": "execute_result"
        }
      ],
      "source": [
        "df_inmuebles_resideciales.Tipo.value_counts(normalize=True)"
      ]
    },
    {
      "cell_type": "markdown",
      "metadata": {
        "id": "jAUp4bDvltwl"
      },
      "source": [
        "Este nos entrega el porcentaje de inmuebles residenciales"
      ]
    },
    {
      "cell_type": "code",
      "execution_count": 374,
      "metadata": {
        "colab": {
          "base_uri": "https://localhost:8080/",
          "height": 863
        },
        "id": "fPjR644Xm3Uh",
        "outputId": "7deb50e9-6ab2-4f41-824e-0b6fadb67d90"
      },
      "outputs": [
        {
          "data": {
            "text/plain": [
              "<Axes: xlabel='Tipos', ylabel='Porcentajes'>"
            ]
          },
          "execution_count": 374,
          "metadata": {},
          "output_type": "execute_result"
        },
        {
          "data": {
            "image/png": "[encoded data removed]",
            "text/plain": [
              "<Figure size 1200x800 with 1 Axes>"
            ]
          },
          "metadata": {},
          "output_type": "display_data"
        }
      ],
      "source": [
        "porcentaje_tipo_residenciales = df_inmuebles_resideciales.Tipo.value_counts(normalize=True).to_frame()\n",
        "porcentaje_tipo_residenciales.plot.bar(figsize=(12,8), color='green', xlabel='Tipos', ylabel='Porcentajes')"
      ]
    },
    {
      "cell_type": "markdown",
      "metadata": {
        "id": "QNKvXIwRl7X6"
      },
      "source": [
        "Como el mayor porcentaje se da en departamentos, vamos a trabajar sobre esos inmuebles"
      ]
    },
    {
      "cell_type": "code",
      "execution_count": 375,
      "metadata": {
        "id": "thwKWsbMmIaN"
      },
      "outputs": [],
      "source": [
        "df_Departamentos = df_inmuebles_resideciales.query('Tipo == \"Departamento\"')"
      ]
    },
    {
      "cell_type": "code",
      "execution_count": 376,
      "metadata": {
        "colab": {
          "base_uri": "https://localhost:8080/"
        },
        "id": "ZjoS0LrtnnXz",
        "outputId": "1ed10ce5-2f62-4bd7-8aee-e92f05cb68a3"
      },
      "outputs": [
        {
          "data": {
            "text/plain": [
              "(14764, 9)"
            ]
          },
          "execution_count": 376,
          "metadata": {},
          "output_type": "execute_result"
        }
      ],
      "source": [
        "df_Departamentos.shape"
      ]
    },
    {
      "cell_type": "markdown",
      "metadata": {
        "id": "LqzGluz0pXla"
      },
      "source": [
        "### Ejercicios"
      ]
    },
    {
      "cell_type": "markdown",
      "metadata": {
        "id": "VFzeY42SpeXG"
      },
      "source": [
        "Calcular el promedio de habitaciones por departamento."
      ]
    },
    {
      "cell_type": "code",
      "execution_count": 377,
      "metadata": {
        "colab": {
          "base_uri": "https://localhost:8080/"
        },
        "id": "VB2lE6ZGpinp",
        "outputId": "b2092326-67ce-4f60-c6db-8fa2e7091803"
      },
      "outputs": [
        {
          "data": {
            "text/plain": [
              "np.float64(2.5041994039555675)"
            ]
          },
          "execution_count": 377,
          "metadata": {},
          "output_type": "execute_result"
        }
      ],
      "source": [
        "df_Departamentos['Habitaciones'].mean()"
      ]
    },
    {
      "cell_type": "markdown",
      "metadata": {
        "id": "fOpRVwYNqBYZ"
      },
      "source": [
        "Verificar cuántas colonias únicas existen en nuestra base de datos."
      ]
    },
    {
      "cell_type": "code",
      "execution_count": 378,
      "metadata": {
        "colab": {
          "base_uri": "https://localhost:8080/"
        },
        "id": "UtyThZ-xqAnR",
        "outputId": "57685bd1-794b-4e89-e228-913748069063"
      },
      "outputs": [
        {
          "data": {
            "text/plain": [
              "88"
            ]
          },
          "execution_count": 378,
          "metadata": {},
          "output_type": "execute_result"
        }
      ],
      "source": [
        "len(datos.Colonia.unique())"
      ]
    },
    {
      "cell_type": "markdown",
      "metadata": {
        "id": "DNqOGFD5qcZ1"
      },
      "source": [
        "Analizar qué colonias tienen el promedio de alquiler más alto"
      ]
    },
    {
      "cell_type": "code",
      "execution_count": 379,
      "metadata": {
        "colab": {
          "base_uri": "https://localhost:8080/",
          "height": 455
        },
        "id": "xknHWS-YqiOZ",
        "outputId": "fb21e59a-fb77-4a96-e3be-99ea7d47cf9a"
      },
      "outputs": [
        {
          "data": {
            "text/html": [
              "<div>\n",
              "<style scoped>\n",
              "    .dataframe tbody tr th:only-of-type {\n",
              "        vertical-align: middle;\n",
              "    }\n",
              "\n",
              "    .dataframe tbody tr th {\n",
              "        vertical-align: top;\n",
              "    }\n",
              "\n",
              "    .dataframe thead th {\n",
              "        text-align: right;\n",
              "    }\n",
              "</style>\n",
              "<table border=\"1\" class=\"dataframe\">\n",
              "  <thead>\n",
              "    <tr style=\"text-align: right;\">\n",
              "      <th></th>\n",
              "      <th>proportion</th>\n",
              "    </tr>\n",
              "    <tr>\n",
              "      <th>Colonia</th>\n",
              "      <th></th>\n",
              "    </tr>\n",
              "  </thead>\n",
              "  <tbody>\n",
              "    <tr>\n",
              "      <th>Santa Fe</th>\n",
              "      <td>0.249313</td>\n",
              "    </tr>\n",
              "    <tr>\n",
              "      <th>Condesa</th>\n",
              "      <td>0.131722</td>\n",
              "    </tr>\n",
              "    <tr>\n",
              "      <th>Centro Histórico</th>\n",
              "      <td>0.129891</td>\n",
              "    </tr>\n",
              "    <tr>\n",
              "      <th>Coyoacán</th>\n",
              "      <td>0.088890</td>\n",
              "    </tr>\n",
              "    <tr>\n",
              "      <th>Lomas de Chapultepec</th>\n",
              "      <td>0.058835</td>\n",
              "    </tr>\n",
              "    <tr>\n",
              "      <th>...</th>\n",
              "      <td>...</td>\n",
              "    </tr>\n",
              "    <tr>\n",
              "      <th>San Mateo</th>\n",
              "      <td>0.000159</td>\n",
              "    </tr>\n",
              "    <tr>\n",
              "      <th>Xochimilco</th>\n",
              "      <td>0.000159</td>\n",
              "    </tr>\n",
              "    <tr>\n",
              "      <th>El Arenal</th>\n",
              "      <td>0.000080</td>\n",
              "    </tr>\n",
              "    <tr>\n",
              "      <th>Las Aguilas</th>\n",
              "      <td>0.000080</td>\n",
              "    </tr>\n",
              "    <tr>\n",
              "      <th>Pedregal</th>\n",
              "      <td>0.000040</td>\n",
              "    </tr>\n",
              "  </tbody>\n",
              "</table>\n",
              "<p>88 rows × 1 columns</p>\n",
              "</div>"
            ],
            "text/plain": [
              "                      proportion\n",
              "Colonia                         \n",
              "Santa Fe                0.249313\n",
              "Condesa                 0.131722\n",
              "Centro Histórico        0.129891\n",
              "Coyoacán                0.088890\n",
              "Lomas de Chapultepec    0.058835\n",
              "...                          ...\n",
              "San Mateo               0.000159\n",
              "Xochimilco              0.000159\n",
              "El Arenal               0.000080\n",
              "Las Aguilas             0.000080\n",
              "Pedregal                0.000040\n",
              "\n",
              "[88 rows x 1 columns]"
            ]
          },
          "execution_count": 379,
          "metadata": {},
          "output_type": "execute_result"
        }
      ],
      "source": [
        "datos.Colonia.value_counts(normalize=True).to_frame()"
      ]
    },
    {
      "cell_type": "code",
      "execution_count": 380,
      "metadata": {
        "colab": {
          "base_uri": "https://localhost:8080/",
          "height": 858
        },
        "id": "U1VH5HDprxC2",
        "outputId": "1ceea8c0-20f6-46c0-90ba-32baa9ba5d1d"
      },
      "outputs": [
        {
          "data": {
            "text/plain": [
              "<Axes: xlabel='Colonia', ylabel='Porcentajes'>"
            ]
          },
          "execution_count": 380,
          "metadata": {},
          "output_type": "execute_result"
        },
        {
          "data": {
            "image/png": "[encoded data removed]",
            "text/plain": [
              "<Figure size 1200x800 with 1 Axes>"
            ]
          },
          "metadata": {},
          "output_type": "display_data"
        }
      ],
      "source": [
        "top_colonias = datos.Colonia.value_counts(normalize=True).to_frame().head(5)\n",
        "top_colonias.plot.bar(figsize=(12,8), color='orange', xlabel='Colonia', ylabel='Porcentajes')"
      ]
    },
    {
      "cell_type": "markdown",
      "metadata": {
        "id": "F0zpvdRhPEJC"
      },
      "source": [
        "### **Tratar los datos nulos**"
      ]
    },
    {
      "cell_type": "markdown",
      "metadata": {
        "id": "SeDJqq-rPrN1"
      },
      "source": [
        "#### Verificación de datos nulos"
      ]
    },
    {
      "cell_type": "code",
      "execution_count": 381,
      "metadata": {
        "colab": {
          "base_uri": "https://localhost:8080/",
          "height": 424
        },
        "id": "eWTawgz6PI2_",
        "outputId": "b9afe67f-ffb3-4172-8c6f-d75aab13693f"
      },
      "outputs": [
        {
          "data": {
            "text/html": [
              "<div>\n",
              "<style scoped>\n",
              "    .dataframe tbody tr th:only-of-type {\n",
              "        vertical-align: middle;\n",
              "    }\n",
              "\n",
              "    .dataframe tbody tr th {\n",
              "        vertical-align: top;\n",
              "    }\n",
              "\n",
              "    .dataframe thead th {\n",
              "        text-align: right;\n",
              "    }\n",
              "</style>\n",
              "<table border=\"1\" class=\"dataframe\">\n",
              "  <thead>\n",
              "    <tr style=\"text-align: right;\">\n",
              "      <th></th>\n",
              "      <th>Tipo</th>\n",
              "      <th>Colonia</th>\n",
              "      <th>Habitaciones</th>\n",
              "      <th>Garages</th>\n",
              "      <th>Suites</th>\n",
              "      <th>Area</th>\n",
              "      <th>Valor</th>\n",
              "      <th>Condominio</th>\n",
              "      <th>Impuesto</th>\n",
              "    </tr>\n",
              "  </thead>\n",
              "  <tbody>\n",
              "    <tr>\n",
              "      <th>3</th>\n",
              "      <td>False</td>\n",
              "      <td>False</td>\n",
              "      <td>False</td>\n",
              "      <td>False</td>\n",
              "      <td>False</td>\n",
              "      <td>False</td>\n",
              "      <td>False</td>\n",
              "      <td>False</td>\n",
              "      <td>False</td>\n",
              "    </tr>\n",
              "    <tr>\n",
              "      <th>4</th>\n",
              "      <td>False</td>\n",
              "      <td>False</td>\n",
              "      <td>False</td>\n",
              "      <td>False</td>\n",
              "      <td>False</td>\n",
              "      <td>False</td>\n",
              "      <td>False</td>\n",
              "      <td>False</td>\n",
              "      <td>True</td>\n",
              "    </tr>\n",
              "    <tr>\n",
              "      <th>7</th>\n",
              "      <td>False</td>\n",
              "      <td>False</td>\n",
              "      <td>False</td>\n",
              "      <td>False</td>\n",
              "      <td>False</td>\n",
              "      <td>False</td>\n",
              "      <td>False</td>\n",
              "      <td>True</td>\n",
              "      <td>True</td>\n",
              "    </tr>\n",
              "    <tr>\n",
              "      <th>8</th>\n",
              "      <td>False</td>\n",
              "      <td>False</td>\n",
              "      <td>False</td>\n",
              "      <td>False</td>\n",
              "      <td>False</td>\n",
              "      <td>False</td>\n",
              "      <td>False</td>\n",
              "      <td>False</td>\n",
              "      <td>False</td>\n",
              "    </tr>\n",
              "    <tr>\n",
              "      <th>10</th>\n",
              "      <td>False</td>\n",
              "      <td>False</td>\n",
              "      <td>False</td>\n",
              "      <td>False</td>\n",
              "      <td>False</td>\n",
              "      <td>False</td>\n",
              "      <td>False</td>\n",
              "      <td>False</td>\n",
              "      <td>False</td>\n",
              "    </tr>\n",
              "    <tr>\n",
              "      <th>...</th>\n",
              "      <td>...</td>\n",
              "      <td>...</td>\n",
              "      <td>...</td>\n",
              "      <td>...</td>\n",
              "      <td>...</td>\n",
              "      <td>...</td>\n",
              "      <td>...</td>\n",
              "      <td>...</td>\n",
              "      <td>...</td>\n",
              "    </tr>\n",
              "    <tr>\n",
              "      <th>25111</th>\n",
              "      <td>False</td>\n",
              "      <td>False</td>\n",
              "      <td>False</td>\n",
              "      <td>False</td>\n",
              "      <td>False</td>\n",
              "      <td>False</td>\n",
              "      <td>False</td>\n",
              "      <td>False</td>\n",
              "      <td>False</td>\n",
              "    </tr>\n",
              "    <tr>\n",
              "      <th>25113</th>\n",
              "      <td>False</td>\n",
              "      <td>False</td>\n",
              "      <td>False</td>\n",
              "      <td>False</td>\n",
              "      <td>False</td>\n",
              "      <td>False</td>\n",
              "      <td>False</td>\n",
              "      <td>False</td>\n",
              "      <td>False</td>\n",
              "    </tr>\n",
              "    <tr>\n",
              "      <th>25114</th>\n",
              "      <td>False</td>\n",
              "      <td>False</td>\n",
              "      <td>False</td>\n",
              "      <td>False</td>\n",
              "      <td>False</td>\n",
              "      <td>False</td>\n",
              "      <td>False</td>\n",
              "      <td>False</td>\n",
              "      <td>False</td>\n",
              "    </tr>\n",
              "    <tr>\n",
              "      <th>25118</th>\n",
              "      <td>False</td>\n",
              "      <td>False</td>\n",
              "      <td>False</td>\n",
              "      <td>False</td>\n",
              "      <td>False</td>\n",
              "      <td>False</td>\n",
              "      <td>False</td>\n",
              "      <td>False</td>\n",
              "      <td>False</td>\n",
              "    </tr>\n",
              "    <tr>\n",
              "      <th>25119</th>\n",
              "      <td>False</td>\n",
              "      <td>False</td>\n",
              "      <td>False</td>\n",
              "      <td>False</td>\n",
              "      <td>False</td>\n",
              "      <td>False</td>\n",
              "      <td>False</td>\n",
              "      <td>False</td>\n",
              "      <td>True</td>\n",
              "    </tr>\n",
              "  </tbody>\n",
              "</table>\n",
              "<p>14764 rows × 9 columns</p>\n",
              "</div>"
            ],
            "text/plain": [
              "        Tipo  Colonia  Habitaciones  Garages  Suites   Area  Valor  \\\n",
              "3      False    False         False    False   False  False  False   \n",
              "4      False    False         False    False   False  False  False   \n",
              "7      False    False         False    False   False  False  False   \n",
              "8      False    False         False    False   False  False  False   \n",
              "10     False    False         False    False   False  False  False   \n",
              "...      ...      ...           ...      ...     ...    ...    ...   \n",
              "25111  False    False         False    False   False  False  False   \n",
              "25113  False    False         False    False   False  False  False   \n",
              "25114  False    False         False    False   False  False  False   \n",
              "25118  False    False         False    False   False  False  False   \n",
              "25119  False    False         False    False   False  False  False   \n",
              "\n",
              "       Condominio  Impuesto  \n",
              "3           False     False  \n",
              "4           False      True  \n",
              "7            True      True  \n",
              "8           False     False  \n",
              "10          False     False  \n",
              "...           ...       ...  \n",
              "25111       False     False  \n",
              "25113       False     False  \n",
              "25114       False     False  \n",
              "25118       False     False  \n",
              "25119       False      True  \n",
              "\n",
              "[14764 rows x 9 columns]"
            ]
          },
          "execution_count": 381,
          "metadata": {},
          "output_type": "execute_result"
        }
      ],
      "source": [
        "df_Departamentos.isnull()"
      ]
    },
    {
      "cell_type": "code",
      "execution_count": 382,
      "metadata": {
        "colab": {
          "base_uri": "https://localhost:8080/",
          "height": 366
        },
        "id": "eT_PQ_66Pa7_",
        "outputId": "d7f8c337-9724-48ea-e266-f504476c6f50"
      },
      "outputs": [
        {
          "data": {
            "text/plain": [
              "Tipo               0\n",
              "Colonia            0\n",
              "Habitaciones       0\n",
              "Garages            0\n",
              "Suites             0\n",
              "Area               0\n",
              "Valor              7\n",
              "Condominio       493\n",
              "Impuesto        3797\n",
              "dtype: int64"
            ]
          },
          "execution_count": 382,
          "metadata": {},
          "output_type": "execute_result"
        }
      ],
      "source": [
        "df_Departamentos.isnull().sum()"
      ]
    },
    {
      "cell_type": "markdown",
      "metadata": {
        "id": "gcz_pnCNP3cP"
      },
      "source": [
        "#### Tratamiento de datos nulos"
      ]
    },
    {
      "cell_type": "code",
      "execution_count": 383,
      "metadata": {
        "colab": {
          "base_uri": "https://localhost:8080/",
          "height": 424
        },
        "id": "KIs85YQbP_to",
        "outputId": "111930ff-35d2-4a3a-f5e3-445067b927e9"
      },
      "outputs": [
        {
          "data": {
            "text/html": [
              "<div>\n",
              "<style scoped>\n",
              "    .dataframe tbody tr th:only-of-type {\n",
              "        vertical-align: middle;\n",
              "    }\n",
              "\n",
              "    .dataframe tbody tr th {\n",
              "        vertical-align: top;\n",
              "    }\n",
              "\n",
              "    .dataframe thead th {\n",
              "        text-align: right;\n",
              "    }\n",
              "</style>\n",
              "<table border=\"1\" class=\"dataframe\">\n",
              "  <thead>\n",
              "    <tr style=\"text-align: right;\">\n",
              "      <th></th>\n",
              "      <th>Tipo</th>\n",
              "      <th>Colonia</th>\n",
              "      <th>Habitaciones</th>\n",
              "      <th>Garages</th>\n",
              "      <th>Suites</th>\n",
              "      <th>Area</th>\n",
              "      <th>Valor</th>\n",
              "      <th>Condominio</th>\n",
              "      <th>Impuesto</th>\n",
              "    </tr>\n",
              "  </thead>\n",
              "  <tbody>\n",
              "    <tr>\n",
              "      <th>3</th>\n",
              "      <td>Departamento</td>\n",
              "      <td>Centro Histórico</td>\n",
              "      <td>1</td>\n",
              "      <td>0</td>\n",
              "      <td>0</td>\n",
              "      <td>15</td>\n",
              "      <td>2800.0</td>\n",
              "      <td>1365.0</td>\n",
              "      <td>70.0</td>\n",
              "    </tr>\n",
              "    <tr>\n",
              "      <th>4</th>\n",
              "      <td>Departamento</td>\n",
              "      <td>Del Valle</td>\n",
              "      <td>1</td>\n",
              "      <td>0</td>\n",
              "      <td>0</td>\n",
              "      <td>48</td>\n",
              "      <td>2800.0</td>\n",
              "      <td>805.0</td>\n",
              "      <td>0.0</td>\n",
              "    </tr>\n",
              "    <tr>\n",
              "      <th>7</th>\n",
              "      <td>Departamento</td>\n",
              "      <td>Centro Histórico</td>\n",
              "      <td>1</td>\n",
              "      <td>0</td>\n",
              "      <td>0</td>\n",
              "      <td>36</td>\n",
              "      <td>4200.0</td>\n",
              "      <td>0.0</td>\n",
              "      <td>0.0</td>\n",
              "    </tr>\n",
              "    <tr>\n",
              "      <th>8</th>\n",
              "      <td>Departamento</td>\n",
              "      <td>Condesa</td>\n",
              "      <td>1</td>\n",
              "      <td>0</td>\n",
              "      <td>1</td>\n",
              "      <td>40</td>\n",
              "      <td>7000.0</td>\n",
              "      <td>1963.5</td>\n",
              "      <td>175.0</td>\n",
              "    </tr>\n",
              "    <tr>\n",
              "      <th>10</th>\n",
              "      <td>Departamento</td>\n",
              "      <td>Condesa</td>\n",
              "      <td>4</td>\n",
              "      <td>3</td>\n",
              "      <td>1</td>\n",
              "      <td>243</td>\n",
              "      <td>45500.0</td>\n",
              "      <td>7000.0</td>\n",
              "      <td>2810.5</td>\n",
              "    </tr>\n",
              "    <tr>\n",
              "      <th>...</th>\n",
              "      <td>...</td>\n",
              "      <td>...</td>\n",
              "      <td>...</td>\n",
              "      <td>...</td>\n",
              "      <td>...</td>\n",
              "      <td>...</td>\n",
              "      <td>...</td>\n",
              "      <td>...</td>\n",
              "      <td>...</td>\n",
              "    </tr>\n",
              "    <tr>\n",
              "      <th>25111</th>\n",
              "      <td>Departamento</td>\n",
              "      <td>Lomas de Chapultepec</td>\n",
              "      <td>3</td>\n",
              "      <td>0</td>\n",
              "      <td>1</td>\n",
              "      <td>80</td>\n",
              "      <td>10500.0</td>\n",
              "      <td>3535.0</td>\n",
              "      <td>871.5</td>\n",
              "    </tr>\n",
              "    <tr>\n",
              "      <th>25113</th>\n",
              "      <td>Departamento</td>\n",
              "      <td>Coyoacán</td>\n",
              "      <td>3</td>\n",
              "      <td>1</td>\n",
              "      <td>2</td>\n",
              "      <td>150</td>\n",
              "      <td>52500.0</td>\n",
              "      <td>4900.0</td>\n",
              "      <td>2100.0</td>\n",
              "    </tr>\n",
              "    <tr>\n",
              "      <th>25114</th>\n",
              "      <td>Departamento</td>\n",
              "      <td>Narvarte</td>\n",
              "      <td>1</td>\n",
              "      <td>0</td>\n",
              "      <td>0</td>\n",
              "      <td>28</td>\n",
              "      <td>3500.0</td>\n",
              "      <td>1260.0</td>\n",
              "      <td>87.5</td>\n",
              "    </tr>\n",
              "    <tr>\n",
              "      <th>25118</th>\n",
              "      <td>Departamento</td>\n",
              "      <td>Mixcoac</td>\n",
              "      <td>2</td>\n",
              "      <td>1</td>\n",
              "      <td>0</td>\n",
              "      <td>48</td>\n",
              "      <td>4900.0</td>\n",
              "      <td>1781.5</td>\n",
              "      <td>129.5</td>\n",
              "    </tr>\n",
              "    <tr>\n",
              "      <th>25119</th>\n",
              "      <td>Departamento</td>\n",
              "      <td>Lomas de Chapultepec</td>\n",
              "      <td>2</td>\n",
              "      <td>0</td>\n",
              "      <td>0</td>\n",
              "      <td>70</td>\n",
              "      <td>10500.0</td>\n",
              "      <td>2660.0</td>\n",
              "      <td>0.0</td>\n",
              "    </tr>\n",
              "  </tbody>\n",
              "</table>\n",
              "<p>14764 rows × 9 columns</p>\n",
              "</div>"
            ],
            "text/plain": [
              "               Tipo               Colonia  Habitaciones  Garages  Suites  \\\n",
              "3      Departamento      Centro Histórico             1        0       0   \n",
              "4      Departamento             Del Valle             1        0       0   \n",
              "7      Departamento      Centro Histórico             1        0       0   \n",
              "8      Departamento               Condesa             1        0       1   \n",
              "10     Departamento               Condesa             4        3       1   \n",
              "...             ...                   ...           ...      ...     ...   \n",
              "25111  Departamento  Lomas de Chapultepec             3        0       1   \n",
              "25113  Departamento              Coyoacán             3        1       2   \n",
              "25114  Departamento              Narvarte             1        0       0   \n",
              "25118  Departamento               Mixcoac             2        1       0   \n",
              "25119  Departamento  Lomas de Chapultepec             2        0       0   \n",
              "\n",
              "       Area    Valor  Condominio  Impuesto  \n",
              "3        15   2800.0      1365.0      70.0  \n",
              "4        48   2800.0       805.0       0.0  \n",
              "7        36   4200.0         0.0       0.0  \n",
              "8        40   7000.0      1963.5     175.0  \n",
              "10      243  45500.0      7000.0    2810.5  \n",
              "...     ...      ...         ...       ...  \n",
              "25111    80  10500.0      3535.0     871.5  \n",
              "25113   150  52500.0      4900.0    2100.0  \n",
              "25114    28   3500.0      1260.0      87.5  \n",
              "25118    48   4900.0      1781.5     129.5  \n",
              "25119    70  10500.0      2660.0       0.0  \n",
              "\n",
              "[14764 rows x 9 columns]"
            ]
          },
          "execution_count": 383,
          "metadata": {},
          "output_type": "execute_result"
        }
      ],
      "source": [
        "df_Departamentos.fillna(0)"
      ]
    },
    {
      "cell_type": "markdown",
      "metadata": {
        "id": "wT2cBZVSQPFH"
      },
      "source": [
        "Con este comando se rellenan los datos nulo con ceros, pero aún no se modifica el data frame."
      ]
    },
    {
      "cell_type": "code",
      "execution_count": 384,
      "metadata": {
        "colab": {
          "base_uri": "https://localhost:8080/",
          "height": 366
        },
        "id": "5p1hXoLLQkK8",
        "outputId": "7b4564f8-0427-49a1-a02e-5dace9465961"
      },
      "outputs": [
        {
          "data": {
            "text/plain": [
              "Tipo               0\n",
              "Colonia            0\n",
              "Habitaciones       0\n",
              "Garages            0\n",
              "Suites             0\n",
              "Area               0\n",
              "Valor              7\n",
              "Condominio       493\n",
              "Impuesto        3797\n",
              "dtype: int64"
            ]
          },
          "execution_count": 384,
          "metadata": {},
          "output_type": "execute_result"
        }
      ],
      "source": [
        "df_Departamentos.isnull().sum()"
      ]
    },
    {
      "cell_type": "markdown",
      "metadata": {
        "id": "vyu3UXxWQmNc"
      },
      "source": [
        "Para ello hay que actualizar la variable"
      ]
    },
    {
      "cell_type": "code",
      "execution_count": 385,
      "metadata": {
        "colab": {
          "base_uri": "https://localhost:8080/",
          "height": 366
        },
        "id": "NHdLqnjSQqil",
        "outputId": "5eb9e5e8-6704-4f04-99bd-762c267d282e"
      },
      "outputs": [
        {
          "data": {
            "text/plain": [
              "Tipo            0\n",
              "Colonia         0\n",
              "Habitaciones    0\n",
              "Garages         0\n",
              "Suites          0\n",
              "Area            0\n",
              "Valor           0\n",
              "Condominio      0\n",
              "Impuesto        0\n",
              "dtype: int64"
            ]
          },
          "execution_count": 385,
          "metadata": {},
          "output_type": "execute_result"
        }
      ],
      "source": [
        "df_Departamentos = df_Departamentos.fillna(0)\n",
        "df_Departamentos.isnull().sum()"
      ]
    },
    {
      "cell_type": "markdown",
      "metadata": {
        "id": "lE7UronfRPIj"
      },
      "source": [
        "#### **Remover registros inconsistentes**"
      ]
    },
    {
      "cell_type": "code",
      "execution_count": 386,
      "metadata": {
        "colab": {
          "base_uri": "https://localhost:8080/",
          "height": 424
        },
        "id": "kGNSfvoTSCcg",
        "outputId": "e88c0d64-6551-4665-d249-b881fdd7468d"
      },
      "outputs": [
        {
          "data": {
            "text/html": [
              "<div>\n",
              "<style scoped>\n",
              "    .dataframe tbody tr th:only-of-type {\n",
              "        vertical-align: middle;\n",
              "    }\n",
              "\n",
              "    .dataframe tbody tr th {\n",
              "        vertical-align: top;\n",
              "    }\n",
              "\n",
              "    .dataframe thead th {\n",
              "        text-align: right;\n",
              "    }\n",
              "</style>\n",
              "<table border=\"1\" class=\"dataframe\">\n",
              "  <thead>\n",
              "    <tr style=\"text-align: right;\">\n",
              "      <th></th>\n",
              "      <th>Tipo</th>\n",
              "      <th>Colonia</th>\n",
              "      <th>Habitaciones</th>\n",
              "      <th>Garages</th>\n",
              "      <th>Suites</th>\n",
              "      <th>Area</th>\n",
              "      <th>Valor</th>\n",
              "      <th>Condominio</th>\n",
              "      <th>Impuesto</th>\n",
              "    </tr>\n",
              "  </thead>\n",
              "  <tbody>\n",
              "    <tr>\n",
              "      <th>7</th>\n",
              "      <td>Departamento</td>\n",
              "      <td>Centro Histórico</td>\n",
              "      <td>1</td>\n",
              "      <td>0</td>\n",
              "      <td>0</td>\n",
              "      <td>36</td>\n",
              "      <td>4200.0</td>\n",
              "      <td>0.0</td>\n",
              "      <td>0.0</td>\n",
              "    </tr>\n",
              "    <tr>\n",
              "      <th>49</th>\n",
              "      <td>Departamento</td>\n",
              "      <td>Santa Fe</td>\n",
              "      <td>2</td>\n",
              "      <td>1</td>\n",
              "      <td>1</td>\n",
              "      <td>70</td>\n",
              "      <td>0.0</td>\n",
              "      <td>3395.0</td>\n",
              "      <td>238.0</td>\n",
              "    </tr>\n",
              "    <tr>\n",
              "      <th>74</th>\n",
              "      <td>Departamento</td>\n",
              "      <td>Ciudad de los Deportes</td>\n",
              "      <td>2</td>\n",
              "      <td>0</td>\n",
              "      <td>0</td>\n",
              "      <td>80</td>\n",
              "      <td>3500.0</td>\n",
              "      <td>0.0</td>\n",
              "      <td>0.0</td>\n",
              "    </tr>\n",
              "    <tr>\n",
              "      <th>116</th>\n",
              "      <td>Departamento</td>\n",
              "      <td>El Rosedal</td>\n",
              "      <td>2</td>\n",
              "      <td>1</td>\n",
              "      <td>0</td>\n",
              "      <td>50</td>\n",
              "      <td>3850.0</td>\n",
              "      <td>0.0</td>\n",
              "      <td>0.0</td>\n",
              "    </tr>\n",
              "    <tr>\n",
              "      <th>136</th>\n",
              "      <td>Departamento</td>\n",
              "      <td>Santa Fe</td>\n",
              "      <td>1</td>\n",
              "      <td>1</td>\n",
              "      <td>1</td>\n",
              "      <td>65</td>\n",
              "      <td>8225.0</td>\n",
              "      <td>0.0</td>\n",
              "      <td>0.0</td>\n",
              "    </tr>\n",
              "    <tr>\n",
              "      <th>...</th>\n",
              "      <td>...</td>\n",
              "      <td>...</td>\n",
              "      <td>...</td>\n",
              "      <td>...</td>\n",
              "      <td>...</td>\n",
              "      <td>...</td>\n",
              "      <td>...</td>\n",
              "      <td>...</td>\n",
              "      <td>...</td>\n",
              "    </tr>\n",
              "    <tr>\n",
              "      <th>24721</th>\n",
              "      <td>Departamento</td>\n",
              "      <td>Doctores</td>\n",
              "      <td>2</td>\n",
              "      <td>0</td>\n",
              "      <td>0</td>\n",
              "      <td>43</td>\n",
              "      <td>3150.0</td>\n",
              "      <td>0.0</td>\n",
              "      <td>56.0</td>\n",
              "    </tr>\n",
              "    <tr>\n",
              "      <th>24736</th>\n",
              "      <td>Departamento</td>\n",
              "      <td>Condesa</td>\n",
              "      <td>1</td>\n",
              "      <td>0</td>\n",
              "      <td>0</td>\n",
              "      <td>30</td>\n",
              "      <td>9100.0</td>\n",
              "      <td>0.0</td>\n",
              "      <td>0.0</td>\n",
              "    </tr>\n",
              "    <tr>\n",
              "      <th>24866</th>\n",
              "      <td>Departamento</td>\n",
              "      <td>Condesa</td>\n",
              "      <td>3</td>\n",
              "      <td>0</td>\n",
              "      <td>0</td>\n",
              "      <td>130</td>\n",
              "      <td>16100.0</td>\n",
              "      <td>0.0</td>\n",
              "      <td>0.0</td>\n",
              "    </tr>\n",
              "    <tr>\n",
              "      <th>24892</th>\n",
              "      <td>Departamento</td>\n",
              "      <td>Loma Bonita</td>\n",
              "      <td>1</td>\n",
              "      <td>0</td>\n",
              "      <td>0</td>\n",
              "      <td>40</td>\n",
              "      <td>1925.0</td>\n",
              "      <td>0.0</td>\n",
              "      <td>0.0</td>\n",
              "    </tr>\n",
              "    <tr>\n",
              "      <th>25014</th>\n",
              "      <td>Departamento</td>\n",
              "      <td>Culhuacán CTM</td>\n",
              "      <td>3</td>\n",
              "      <td>0</td>\n",
              "      <td>1</td>\n",
              "      <td>70</td>\n",
              "      <td>4200.0</td>\n",
              "      <td>0.0</td>\n",
              "      <td>0.0</td>\n",
              "    </tr>\n",
              "  </tbody>\n",
              "</table>\n",
              "<p>500 rows × 9 columns</p>\n",
              "</div>"
            ],
            "text/plain": [
              "               Tipo                 Colonia  Habitaciones  Garages  Suites  \\\n",
              "7      Departamento        Centro Histórico             1        0       0   \n",
              "49     Departamento                Santa Fe             2        1       1   \n",
              "74     Departamento  Ciudad de los Deportes             2        0       0   \n",
              "116    Departamento              El Rosedal             2        1       0   \n",
              "136    Departamento                Santa Fe             1        1       1   \n",
              "...             ...                     ...           ...      ...     ...   \n",
              "24721  Departamento                Doctores             2        0       0   \n",
              "24736  Departamento                 Condesa             1        0       0   \n",
              "24866  Departamento                 Condesa             3        0       0   \n",
              "24892  Departamento             Loma Bonita             1        0       0   \n",
              "25014  Departamento           Culhuacán CTM             3        0       1   \n",
              "\n",
              "       Area    Valor  Condominio  Impuesto  \n",
              "7        36   4200.0         0.0       0.0  \n",
              "49       70      0.0      3395.0     238.0  \n",
              "74       80   3500.0         0.0       0.0  \n",
              "116      50   3850.0         0.0       0.0  \n",
              "136      65   8225.0         0.0       0.0  \n",
              "...     ...      ...         ...       ...  \n",
              "24721    43   3150.0         0.0      56.0  \n",
              "24736    30   9100.0         0.0       0.0  \n",
              "24866   130  16100.0         0.0       0.0  \n",
              "24892    40   1925.0         0.0       0.0  \n",
              "25014    70   4200.0         0.0       0.0  \n",
              "\n",
              "[500 rows x 9 columns]"
            ]
          },
          "execution_count": 386,
          "metadata": {},
          "output_type": "execute_result"
        }
      ],
      "source": [
        "df_Departamentos.query('Valor == 0 | Condominio == 0')"
      ]
    },
    {
      "cell_type": "code",
      "execution_count": 387,
      "metadata": {
        "colab": {
          "base_uri": "https://localhost:8080/"
        },
        "id": "KrMOL-SVScrK",
        "outputId": "8f839aef-2734-4e1d-ffe5-50fbc037e55b"
      },
      "outputs": [
        {
          "data": {
            "text/plain": [
              "Index([    7,    49,    74,   116,   136,   185,   199,   432,   504,   527,\n",
              "       ...\n",
              "       24426, 24555, 24563, 24597, 24671, 24721, 24736, 24866, 24892, 25014],\n",
              "      dtype='int64', length=500)"
            ]
          },
          "execution_count": 387,
          "metadata": {},
          "output_type": "execute_result"
        }
      ],
      "source": [
        "df_Departamentos.query('Valor == 0 | Condominio == 0').index"
      ]
    },
    {
      "cell_type": "markdown",
      "metadata": {
        "id": "-kZJXAAuSxAn"
      },
      "source": [
        "Identificamos las filas que contienen inconsistencias"
      ]
    },
    {
      "cell_type": "code",
      "execution_count": 388,
      "metadata": {
        "id": "aQAEBf4bS4eD"
      },
      "outputs": [],
      "source": [
        "filtro_inconsistencias = df_Departamentos.query('Valor == 0 | Condominio == 0').index"
      ]
    },
    {
      "cell_type": "markdown",
      "metadata": {
        "id": "w9D-b07VTEN3"
      },
      "source": [
        "Se crea un filtro"
      ]
    },
    {
      "cell_type": "code",
      "execution_count": 389,
      "metadata": {
        "id": "e9ZOGe9jTGvG"
      },
      "outputs": [],
      "source": [
        "df_Departamentos.drop(filtro_inconsistencias, inplace=True)"
      ]
    },
    {
      "cell_type": "markdown",
      "metadata": {
        "id": "EiTn7g9rTPox"
      },
      "source": [
        "Se filtran los registros inconsistentes y con el argumento inplace se modifica la variable de origen sin necesidad de volver a crear una nueva"
      ]
    },
    {
      "cell_type": "code",
      "execution_count": 390,
      "metadata": {
        "colab": {
          "base_uri": "https://localhost:8080/"
        },
        "id": "osqscgfUTngw",
        "outputId": "6ef259f2-2ad8-4981-fbda-f54c6b205115"
      },
      "outputs": [
        {
          "data": {
            "text/plain": [
              "Index([], dtype='int64')"
            ]
          },
          "execution_count": 390,
          "metadata": {},
          "output_type": "execute_result"
        }
      ],
      "source": [
        "df_Departamentos.query('Valor == 0 | Condominio == 0').index"
      ]
    },
    {
      "cell_type": "code",
      "execution_count": 391,
      "metadata": {
        "colab": {
          "base_uri": "https://localhost:8080/",
          "height": 206
        },
        "id": "0rhNp2jfUx2C",
        "outputId": "c6873b02-03b6-4a9d-afb8-a674090c052e"
      },
      "outputs": [
        {
          "data": {
            "text/html": [
              "<div>\n",
              "<style scoped>\n",
              "    .dataframe tbody tr th:only-of-type {\n",
              "        vertical-align: middle;\n",
              "    }\n",
              "\n",
              "    .dataframe tbody tr th {\n",
              "        vertical-align: top;\n",
              "    }\n",
              "\n",
              "    .dataframe thead th {\n",
              "        text-align: right;\n",
              "    }\n",
              "</style>\n",
              "<table border=\"1\" class=\"dataframe\">\n",
              "  <thead>\n",
              "    <tr style=\"text-align: right;\">\n",
              "      <th></th>\n",
              "      <th>Tipo</th>\n",
              "      <th>Colonia</th>\n",
              "      <th>Habitaciones</th>\n",
              "      <th>Garages</th>\n",
              "      <th>Suites</th>\n",
              "      <th>Area</th>\n",
              "      <th>Valor</th>\n",
              "      <th>Condominio</th>\n",
              "      <th>Impuesto</th>\n",
              "    </tr>\n",
              "  </thead>\n",
              "  <tbody>\n",
              "    <tr>\n",
              "      <th>3</th>\n",
              "      <td>Departamento</td>\n",
              "      <td>Centro Histórico</td>\n",
              "      <td>1</td>\n",
              "      <td>0</td>\n",
              "      <td>0</td>\n",
              "      <td>15</td>\n",
              "      <td>2800.0</td>\n",
              "      <td>1365.0</td>\n",
              "      <td>70.0</td>\n",
              "    </tr>\n",
              "    <tr>\n",
              "      <th>4</th>\n",
              "      <td>Departamento</td>\n",
              "      <td>Del Valle</td>\n",
              "      <td>1</td>\n",
              "      <td>0</td>\n",
              "      <td>0</td>\n",
              "      <td>48</td>\n",
              "      <td>2800.0</td>\n",
              "      <td>805.0</td>\n",
              "      <td>0.0</td>\n",
              "    </tr>\n",
              "    <tr>\n",
              "      <th>8</th>\n",
              "      <td>Departamento</td>\n",
              "      <td>Condesa</td>\n",
              "      <td>1</td>\n",
              "      <td>0</td>\n",
              "      <td>1</td>\n",
              "      <td>40</td>\n",
              "      <td>7000.0</td>\n",
              "      <td>1963.5</td>\n",
              "      <td>175.0</td>\n",
              "    </tr>\n",
              "    <tr>\n",
              "      <th>10</th>\n",
              "      <td>Departamento</td>\n",
              "      <td>Condesa</td>\n",
              "      <td>4</td>\n",
              "      <td>3</td>\n",
              "      <td>1</td>\n",
              "      <td>243</td>\n",
              "      <td>45500.0</td>\n",
              "      <td>7000.0</td>\n",
              "      <td>2810.5</td>\n",
              "    </tr>\n",
              "    <tr>\n",
              "      <th>13</th>\n",
              "      <td>Departamento</td>\n",
              "      <td>Santa Fe</td>\n",
              "      <td>2</td>\n",
              "      <td>1</td>\n",
              "      <td>1</td>\n",
              "      <td>67</td>\n",
              "      <td>5950.0</td>\n",
              "      <td>2061.5</td>\n",
              "      <td>514.5</td>\n",
              "    </tr>\n",
              "  </tbody>\n",
              "</table>\n",
              "</div>"
            ],
            "text/plain": [
              "            Tipo           Colonia  Habitaciones  Garages  Suites  Area  \\\n",
              "3   Departamento  Centro Histórico             1        0       0    15   \n",
              "4   Departamento         Del Valle             1        0       0    48   \n",
              "8   Departamento           Condesa             1        0       1    40   \n",
              "10  Departamento           Condesa             4        3       1   243   \n",
              "13  Departamento          Santa Fe             2        1       1    67   \n",
              "\n",
              "      Valor  Condominio  Impuesto  \n",
              "3    2800.0      1365.0      70.0  \n",
              "4    2800.0       805.0       0.0  \n",
              "8    7000.0      1963.5     175.0  \n",
              "10  45500.0      7000.0    2810.5  \n",
              "13   5950.0      2061.5     514.5  "
            ]
          },
          "execution_count": 391,
          "metadata": {},
          "output_type": "execute_result"
        }
      ],
      "source": [
        "df_Departamentos.head()"
      ]
    },
    {
      "cell_type": "markdown",
      "metadata": {
        "id": "lmMEBimaU4wT"
      },
      "source": [
        "Como este data frame solo posee registros de departamentos, no tiene sentido la columna 'Tipo'. Por ello podemos eliminarla también"
      ]
    },
    {
      "cell_type": "code",
      "execution_count": 392,
      "metadata": {
        "colab": {
          "base_uri": "https://localhost:8080/",
          "height": 363
        },
        "id": "cEAZ18bjVKYG",
        "outputId": "e6b3928b-2ab6-44de-88f2-b9731685fd63"
      },
      "outputs": [
        {
          "data": {
            "text/html": [
              "<div>\n",
              "<style scoped>\n",
              "    .dataframe tbody tr th:only-of-type {\n",
              "        vertical-align: middle;\n",
              "    }\n",
              "\n",
              "    .dataframe tbody tr th {\n",
              "        vertical-align: top;\n",
              "    }\n",
              "\n",
              "    .dataframe thead th {\n",
              "        text-align: right;\n",
              "    }\n",
              "</style>\n",
              "<table border=\"1\" class=\"dataframe\">\n",
              "  <thead>\n",
              "    <tr style=\"text-align: right;\">\n",
              "      <th></th>\n",
              "      <th>Colonia</th>\n",
              "      <th>Habitaciones</th>\n",
              "      <th>Garages</th>\n",
              "      <th>Suites</th>\n",
              "      <th>Area</th>\n",
              "      <th>Valor</th>\n",
              "      <th>Condominio</th>\n",
              "      <th>Impuesto</th>\n",
              "    </tr>\n",
              "  </thead>\n",
              "  <tbody>\n",
              "    <tr>\n",
              "      <th>3921</th>\n",
              "      <td>Roma</td>\n",
              "      <td>3</td>\n",
              "      <td>2</td>\n",
              "      <td>1</td>\n",
              "      <td>120</td>\n",
              "      <td>10150.0</td>\n",
              "      <td>6436.5</td>\n",
              "      <td>1242.5</td>\n",
              "    </tr>\n",
              "    <tr>\n",
              "      <th>1278</th>\n",
              "      <td>Napoles</td>\n",
              "      <td>2</td>\n",
              "      <td>0</td>\n",
              "      <td>0</td>\n",
              "      <td>75</td>\n",
              "      <td>8750.0</td>\n",
              "      <td>2660.0</td>\n",
              "      <td>619.5</td>\n",
              "    </tr>\n",
              "    <tr>\n",
              "      <th>2451</th>\n",
              "      <td>La Condesa</td>\n",
              "      <td>1</td>\n",
              "      <td>0</td>\n",
              "      <td>0</td>\n",
              "      <td>50</td>\n",
              "      <td>3325.0</td>\n",
              "      <td>1995.0</td>\n",
              "      <td>234.5</td>\n",
              "    </tr>\n",
              "    <tr>\n",
              "      <th>9990</th>\n",
              "      <td>Coyoacán</td>\n",
              "      <td>1</td>\n",
              "      <td>0</td>\n",
              "      <td>0</td>\n",
              "      <td>37</td>\n",
              "      <td>8750.0</td>\n",
              "      <td>1925.0</td>\n",
              "      <td>469.0</td>\n",
              "    </tr>\n",
              "    <tr>\n",
              "      <th>16735</th>\n",
              "      <td>Condesa</td>\n",
              "      <td>4</td>\n",
              "      <td>1</td>\n",
              "      <td>0</td>\n",
              "      <td>120</td>\n",
              "      <td>12250.0</td>\n",
              "      <td>4025.0</td>\n",
              "      <td>1050.0</td>\n",
              "    </tr>\n",
              "    <tr>\n",
              "      <th>11705</th>\n",
              "      <td>Santa Fe</td>\n",
              "      <td>4</td>\n",
              "      <td>3</td>\n",
              "      <td>4</td>\n",
              "      <td>287</td>\n",
              "      <td>70000.0</td>\n",
              "      <td>10500.0</td>\n",
              "      <td>0.0</td>\n",
              "    </tr>\n",
              "    <tr>\n",
              "      <th>9945</th>\n",
              "      <td>Santa Fe</td>\n",
              "      <td>2</td>\n",
              "      <td>2</td>\n",
              "      <td>2</td>\n",
              "      <td>120</td>\n",
              "      <td>13300.0</td>\n",
              "      <td>9800.0</td>\n",
              "      <td>0.0</td>\n",
              "    </tr>\n",
              "    <tr>\n",
              "      <th>4147</th>\n",
              "      <td>Villa de Guadalupe</td>\n",
              "      <td>2</td>\n",
              "      <td>1</td>\n",
              "      <td>0</td>\n",
              "      <td>49</td>\n",
              "      <td>3500.0</td>\n",
              "      <td>1400.0</td>\n",
              "      <td>0.0</td>\n",
              "    </tr>\n",
              "    <tr>\n",
              "      <th>19645</th>\n",
              "      <td>Narvarte</td>\n",
              "      <td>2</td>\n",
              "      <td>1</td>\n",
              "      <td>1</td>\n",
              "      <td>75</td>\n",
              "      <td>6300.0</td>\n",
              "      <td>2450.0</td>\n",
              "      <td>0.0</td>\n",
              "    </tr>\n",
              "    <tr>\n",
              "      <th>10815</th>\n",
              "      <td>Santa Fe</td>\n",
              "      <td>2</td>\n",
              "      <td>1</td>\n",
              "      <td>1</td>\n",
              "      <td>66</td>\n",
              "      <td>7000.0</td>\n",
              "      <td>3850.0</td>\n",
              "      <td>588.0</td>\n",
              "    </tr>\n",
              "  </tbody>\n",
              "</table>\n",
              "</div>"
            ],
            "text/plain": [
              "                  Colonia  Habitaciones  Garages  Suites  Area    Valor  \\\n",
              "3921                 Roma             3        2       1   120  10150.0   \n",
              "1278              Napoles             2        0       0    75   8750.0   \n",
              "2451           La Condesa             1        0       0    50   3325.0   \n",
              "9990             Coyoacán             1        0       0    37   8750.0   \n",
              "16735             Condesa             4        1       0   120  12250.0   \n",
              "11705            Santa Fe             4        3       4   287  70000.0   \n",
              "9945             Santa Fe             2        2       2   120  13300.0   \n",
              "4147   Villa de Guadalupe             2        1       0    49   3500.0   \n",
              "19645            Narvarte             2        1       1    75   6300.0   \n",
              "10815            Santa Fe             2        1       1    66   7000.0   \n",
              "\n",
              "       Condominio  Impuesto  \n",
              "3921       6436.5    1242.5  \n",
              "1278       2660.0     619.5  \n",
              "2451       1995.0     234.5  \n",
              "9990       1925.0     469.0  \n",
              "16735      4025.0    1050.0  \n",
              "11705     10500.0       0.0  \n",
              "9945       9800.0       0.0  \n",
              "4147       1400.0       0.0  \n",
              "19645      2450.0       0.0  \n",
              "10815      3850.0     588.0  "
            ]
          },
          "execution_count": 392,
          "metadata": {},
          "output_type": "execute_result"
        }
      ],
      "source": [
        "df_Departamentos.drop('Tipo', axis=1, inplace=True)\n",
        "df_Departamentos.sample(10)"
      ]
    },
    {
      "cell_type": "markdown",
      "metadata": {
        "id": "TRsGk2iFWsuN"
      },
      "source": [
        "Ejercicio DROP"
      ]
    },
    {
      "cell_type": "code",
      "execution_count": 393,
      "metadata": {
        "colab": {
          "base_uri": "https://localhost:8080/",
          "height": 332
        },
        "id": "11D6x5x0WrYE",
        "outputId": "7362b229-2c34-4d63-9c71-38d7ae25e83c"
      },
      "outputs": [
        {
          "data": {
            "text/html": [
              "<div>\n",
              "<style scoped>\n",
              "    .dataframe tbody tr th:only-of-type {\n",
              "        vertical-align: middle;\n",
              "    }\n",
              "\n",
              "    .dataframe tbody tr th {\n",
              "        vertical-align: top;\n",
              "    }\n",
              "\n",
              "    .dataframe thead th {\n",
              "        text-align: right;\n",
              "    }\n",
              "</style>\n",
              "<table border=\"1\" class=\"dataframe\">\n",
              "  <thead>\n",
              "    <tr style=\"text-align: right;\">\n",
              "      <th></th>\n",
              "      <th>Comercio</th>\n",
              "      <th>Producto</th>\n",
              "      <th>Precio</th>\n",
              "    </tr>\n",
              "  </thead>\n",
              "  <tbody>\n",
              "    <tr>\n",
              "      <th>0</th>\n",
              "      <td>Plaza</td>\n",
              "      <td>Cebolla</td>\n",
              "      <td>2.50</td>\n",
              "    </tr>\n",
              "    <tr>\n",
              "      <th>1</th>\n",
              "      <td>Mercado</td>\n",
              "      <td>Cebolla</td>\n",
              "      <td>1.99</td>\n",
              "    </tr>\n",
              "    <tr>\n",
              "      <th>2</th>\n",
              "      <td>Supermercado</td>\n",
              "      <td>Cebolla</td>\n",
              "      <td>1.69</td>\n",
              "    </tr>\n",
              "    <tr>\n",
              "      <th>3</th>\n",
              "      <td>Plaza</td>\n",
              "      <td>Tomate</td>\n",
              "      <td>4.00</td>\n",
              "    </tr>\n",
              "    <tr>\n",
              "      <th>4</th>\n",
              "      <td>Mercado</td>\n",
              "      <td>Tomate</td>\n",
              "      <td>3.29</td>\n",
              "    </tr>\n",
              "    <tr>\n",
              "      <th>5</th>\n",
              "      <td>Supermercado</td>\n",
              "      <td>Tomate</td>\n",
              "      <td>2.99</td>\n",
              "    </tr>\n",
              "    <tr>\n",
              "      <th>6</th>\n",
              "      <td>Plaza</td>\n",
              "      <td>Papa</td>\n",
              "      <td>4.20</td>\n",
              "    </tr>\n",
              "    <tr>\n",
              "      <th>7</th>\n",
              "      <td>Mercado</td>\n",
              "      <td>Papa</td>\n",
              "      <td>3.99</td>\n",
              "    </tr>\n",
              "    <tr>\n",
              "      <th>8</th>\n",
              "      <td>Supermercado</td>\n",
              "      <td>Papa</td>\n",
              "      <td>3.69</td>\n",
              "    </tr>\n",
              "  </tbody>\n",
              "</table>\n",
              "</div>"
            ],
            "text/plain": [
              "       Comercio Producto  Precio\n",
              "0         Plaza  Cebolla    2.50\n",
              "1       Mercado  Cebolla    1.99\n",
              "2  Supermercado  Cebolla    1.69\n",
              "3         Plaza   Tomate    4.00\n",
              "4       Mercado   Tomate    3.29\n",
              "5  Supermercado   Tomate    2.99\n",
              "6         Plaza     Papa    4.20\n",
              "7       Mercado     Papa    3.99\n",
              "8  Supermercado     Papa    3.69"
            ]
          },
          "execution_count": 393,
          "metadata": {},
          "output_type": "execute_result"
        }
      ],
      "source": [
        "datos_comercios = pd.DataFrame([['Plaza', 'Cebolla', 2.5],\n",
        "                      ['Mercado', 'Cebolla', 1.99],\n",
        "                      ['Supermercado', 'Cebolla', 1.69],\n",
        "                      ['Plaza', 'Tomate', 4],\n",
        "                      ['Mercado', 'Tomate', 3.29],\n",
        "                      ['Supermercado', 'Tomate', 2.99],\n",
        "                      ['Plaza', 'Papa', 4.2],\n",
        "                      ['Mercado', 'Papa', 3.99],\n",
        "                      ['Supermercado', 'Papa', 3.69]],\n",
        "                      columns = ['Comercio', 'Producto', 'Precio'])\n",
        "\n",
        "datos_comercios\n"
      ]
    },
    {
      "cell_type": "markdown",
      "metadata": {
        "id": "IEIU_BIyW-y6"
      },
      "source": [
        "¿Cuál de los siguientes códigos se podría utilizar para eliminar de forma permanente las filas en las que, en la columna \"Comercio\", tenemos \"Supermercado\"?"
      ]
    },
    {
      "cell_type": "code",
      "execution_count": 394,
      "metadata": {
        "colab": {
          "base_uri": "https://localhost:8080/",
          "height": 238
        },
        "id": "eVZgQWKlW7GY",
        "outputId": "3a84103b-e730-483b-baab-66e7b841a705"
      },
      "outputs": [
        {
          "data": {
            "text/html": [
              "<div>\n",
              "<style scoped>\n",
              "    .dataframe tbody tr th:only-of-type {\n",
              "        vertical-align: middle;\n",
              "    }\n",
              "\n",
              "    .dataframe tbody tr th {\n",
              "        vertical-align: top;\n",
              "    }\n",
              "\n",
              "    .dataframe thead th {\n",
              "        text-align: right;\n",
              "    }\n",
              "</style>\n",
              "<table border=\"1\" class=\"dataframe\">\n",
              "  <thead>\n",
              "    <tr style=\"text-align: right;\">\n",
              "      <th></th>\n",
              "      <th>Comercio</th>\n",
              "      <th>Producto</th>\n",
              "      <th>Precio</th>\n",
              "    </tr>\n",
              "  </thead>\n",
              "  <tbody>\n",
              "    <tr>\n",
              "      <th>0</th>\n",
              "      <td>Plaza</td>\n",
              "      <td>Cebolla</td>\n",
              "      <td>2.50</td>\n",
              "    </tr>\n",
              "    <tr>\n",
              "      <th>1</th>\n",
              "      <td>Mercado</td>\n",
              "      <td>Cebolla</td>\n",
              "      <td>1.99</td>\n",
              "    </tr>\n",
              "    <tr>\n",
              "      <th>3</th>\n",
              "      <td>Plaza</td>\n",
              "      <td>Tomate</td>\n",
              "      <td>4.00</td>\n",
              "    </tr>\n",
              "    <tr>\n",
              "      <th>4</th>\n",
              "      <td>Mercado</td>\n",
              "      <td>Tomate</td>\n",
              "      <td>3.29</td>\n",
              "    </tr>\n",
              "    <tr>\n",
              "      <th>6</th>\n",
              "      <td>Plaza</td>\n",
              "      <td>Papa</td>\n",
              "      <td>4.20</td>\n",
              "    </tr>\n",
              "    <tr>\n",
              "      <th>7</th>\n",
              "      <td>Mercado</td>\n",
              "      <td>Papa</td>\n",
              "      <td>3.99</td>\n",
              "    </tr>\n",
              "  </tbody>\n",
              "</table>\n",
              "</div>"
            ],
            "text/plain": [
              "  Comercio Producto  Precio\n",
              "0    Plaza  Cebolla    2.50\n",
              "1  Mercado  Cebolla    1.99\n",
              "3    Plaza   Tomate    4.00\n",
              "4  Mercado   Tomate    3.29\n",
              "6    Plaza     Papa    4.20\n",
              "7  Mercado     Papa    3.99"
            ]
          },
          "execution_count": 394,
          "metadata": {},
          "output_type": "execute_result"
        }
      ],
      "source": [
        "datos_comercios.drop([2, 5, 8], axis=0, inplace=True)\n",
        "datos_comercios"
      ]
    },
    {
      "cell_type": "code",
      "execution_count": 395,
      "metadata": {
        "colab": {
          "base_uri": "https://localhost:8080/",
          "height": 332
        },
        "id": "SvVig9rZcHm5",
        "outputId": "f9ecd341-7a3d-4465-a994-afc678d77139"
      },
      "outputs": [
        {
          "data": {
            "text/html": [
              "<div>\n",
              "<style scoped>\n",
              "    .dataframe tbody tr th:only-of-type {\n",
              "        vertical-align: middle;\n",
              "    }\n",
              "\n",
              "    .dataframe tbody tr th {\n",
              "        vertical-align: top;\n",
              "    }\n",
              "\n",
              "    .dataframe thead th {\n",
              "        text-align: right;\n",
              "    }\n",
              "</style>\n",
              "<table border=\"1\" class=\"dataframe\">\n",
              "  <thead>\n",
              "    <tr style=\"text-align: right;\">\n",
              "      <th></th>\n",
              "      <th>Comercio</th>\n",
              "      <th>Producto</th>\n",
              "      <th>Precio</th>\n",
              "    </tr>\n",
              "  </thead>\n",
              "  <tbody>\n",
              "    <tr>\n",
              "      <th>0</th>\n",
              "      <td>Plaza</td>\n",
              "      <td>Cebolla</td>\n",
              "      <td>2.50</td>\n",
              "    </tr>\n",
              "    <tr>\n",
              "      <th>1</th>\n",
              "      <td>Mercado</td>\n",
              "      <td>Cebolla</td>\n",
              "      <td>1.99</td>\n",
              "    </tr>\n",
              "    <tr>\n",
              "      <th>2</th>\n",
              "      <td>Supermercado</td>\n",
              "      <td>Cebolla</td>\n",
              "      <td>1.69</td>\n",
              "    </tr>\n",
              "    <tr>\n",
              "      <th>3</th>\n",
              "      <td>Plaza</td>\n",
              "      <td>Tomate</td>\n",
              "      <td>4.00</td>\n",
              "    </tr>\n",
              "    <tr>\n",
              "      <th>4</th>\n",
              "      <td>Mercado</td>\n",
              "      <td>Tomate</td>\n",
              "      <td>3.29</td>\n",
              "    </tr>\n",
              "    <tr>\n",
              "      <th>5</th>\n",
              "      <td>Supermercado</td>\n",
              "      <td>Tomate</td>\n",
              "      <td>2.99</td>\n",
              "    </tr>\n",
              "    <tr>\n",
              "      <th>6</th>\n",
              "      <td>Plaza</td>\n",
              "      <td>Papa</td>\n",
              "      <td>4.20</td>\n",
              "    </tr>\n",
              "    <tr>\n",
              "      <th>7</th>\n",
              "      <td>Mercado</td>\n",
              "      <td>Papa</td>\n",
              "      <td>3.99</td>\n",
              "    </tr>\n",
              "    <tr>\n",
              "      <th>8</th>\n",
              "      <td>Supermercado</td>\n",
              "      <td>Papa</td>\n",
              "      <td>3.69</td>\n",
              "    </tr>\n",
              "  </tbody>\n",
              "</table>\n",
              "</div>"
            ],
            "text/plain": [
              "       Comercio Producto  Precio\n",
              "0         Plaza  Cebolla    2.50\n",
              "1       Mercado  Cebolla    1.99\n",
              "2  Supermercado  Cebolla    1.69\n",
              "3         Plaza   Tomate    4.00\n",
              "4       Mercado   Tomate    3.29\n",
              "5  Supermercado   Tomate    2.99\n",
              "6         Plaza     Papa    4.20\n",
              "7       Mercado     Papa    3.99\n",
              "8  Supermercado     Papa    3.69"
            ]
          },
          "execution_count": 395,
          "metadata": {},
          "output_type": "execute_result"
        }
      ],
      "source": [
        "datos_comercios = pd.DataFrame([['Plaza', 'Cebolla', 2.5],\n",
        "                      ['Mercado', 'Cebolla', 1.99],\n",
        "                      ['Supermercado', 'Cebolla', 1.69],\n",
        "                      ['Plaza', 'Tomate', 4],\n",
        "                      ['Mercado', 'Tomate', 3.29],\n",
        "                      ['Supermercado', 'Tomate', 2.99],\n",
        "                      ['Plaza', 'Papa', 4.2],\n",
        "                      ['Mercado', 'Papa', 3.99],\n",
        "                      ['Supermercado', 'Papa', 3.69]],\n",
        "                      columns = ['Comercio', 'Producto', 'Precio'])\n",
        "\n",
        "datos_comercios"
      ]
    },
    {
      "cell_type": "code",
      "execution_count": 396,
      "metadata": {
        "colab": {
          "base_uri": "https://localhost:8080/",
          "height": 238
        },
        "id": "TKkERL43XQYN",
        "outputId": "2ca9b33a-a745-42df-dc9d-66839e2aa08a"
      },
      "outputs": [
        {
          "data": {
            "text/html": [
              "<div>\n",
              "<style scoped>\n",
              "    .dataframe tbody tr th:only-of-type {\n",
              "        vertical-align: middle;\n",
              "    }\n",
              "\n",
              "    .dataframe tbody tr th {\n",
              "        vertical-align: top;\n",
              "    }\n",
              "\n",
              "    .dataframe thead th {\n",
              "        text-align: right;\n",
              "    }\n",
              "</style>\n",
              "<table border=\"1\" class=\"dataframe\">\n",
              "  <thead>\n",
              "    <tr style=\"text-align: right;\">\n",
              "      <th></th>\n",
              "      <th>Comercio</th>\n",
              "      <th>Producto</th>\n",
              "      <th>Precio</th>\n",
              "    </tr>\n",
              "  </thead>\n",
              "  <tbody>\n",
              "    <tr>\n",
              "      <th>0</th>\n",
              "      <td>Plaza</td>\n",
              "      <td>Cebolla</td>\n",
              "      <td>2.50</td>\n",
              "    </tr>\n",
              "    <tr>\n",
              "      <th>1</th>\n",
              "      <td>Mercado</td>\n",
              "      <td>Cebolla</td>\n",
              "      <td>1.99</td>\n",
              "    </tr>\n",
              "    <tr>\n",
              "      <th>3</th>\n",
              "      <td>Plaza</td>\n",
              "      <td>Tomate</td>\n",
              "      <td>4.00</td>\n",
              "    </tr>\n",
              "    <tr>\n",
              "      <th>4</th>\n",
              "      <td>Mercado</td>\n",
              "      <td>Tomate</td>\n",
              "      <td>3.29</td>\n",
              "    </tr>\n",
              "    <tr>\n",
              "      <th>6</th>\n",
              "      <td>Plaza</td>\n",
              "      <td>Papa</td>\n",
              "      <td>4.20</td>\n",
              "    </tr>\n",
              "    <tr>\n",
              "      <th>7</th>\n",
              "      <td>Mercado</td>\n",
              "      <td>Papa</td>\n",
              "      <td>3.99</td>\n",
              "    </tr>\n",
              "  </tbody>\n",
              "</table>\n",
              "</div>"
            ],
            "text/plain": [
              "  Comercio Producto  Precio\n",
              "0    Plaza  Cebolla    2.50\n",
              "1  Mercado  Cebolla    1.99\n",
              "3    Plaza   Tomate    4.00\n",
              "4  Mercado   Tomate    3.29\n",
              "6    Plaza     Papa    4.20\n",
              "7  Mercado     Papa    3.99"
            ]
          },
          "execution_count": 396,
          "metadata": {},
          "output_type": "execute_result"
        }
      ],
      "source": [
        "filtro_comercios = datos_comercios.query('Comercio == \"Supermercado\"').index\n",
        "datos_comercios.drop(filtro_comercios, axis=0, inplace=True)\n",
        "datos_comercios\n"
      ]
    },
    {
      "cell_type": "markdown",
      "metadata": {
        "id": "z2nERxIlcgpy"
      },
      "source": [
        "### **Aplicar filtros**"
      ]
    },
    {
      "cell_type": "markdown",
      "metadata": {
        "id": "zz5XfS0ocpbP"
      },
      "source": [
        "Evaluar solo propiedades en escenarios específicos, como:\n",
        "\n",
        "* Apartamentos que tienen 1 dormitorio y un alquiler menor a MXN 4200.\n",
        "\n"
      ]
    },
    {
      "cell_type": "code",
      "execution_count": 397,
      "metadata": {
        "colab": {
          "base_uri": "https://localhost:8080/",
          "height": 363
        },
        "id": "LZfasHrGcs8i",
        "outputId": "a8e0ac70-1a3e-4f2c-f88f-3a6cb0bc5d29"
      },
      "outputs": [
        {
          "data": {
            "text/html": [
              "<div>\n",
              "<style scoped>\n",
              "    .dataframe tbody tr th:only-of-type {\n",
              "        vertical-align: middle;\n",
              "    }\n",
              "\n",
              "    .dataframe tbody tr th {\n",
              "        vertical-align: top;\n",
              "    }\n",
              "\n",
              "    .dataframe thead th {\n",
              "        text-align: right;\n",
              "    }\n",
              "</style>\n",
              "<table border=\"1\" class=\"dataframe\">\n",
              "  <thead>\n",
              "    <tr style=\"text-align: right;\">\n",
              "      <th></th>\n",
              "      <th>Colonia</th>\n",
              "      <th>Habitaciones</th>\n",
              "      <th>Garages</th>\n",
              "      <th>Suites</th>\n",
              "      <th>Area</th>\n",
              "      <th>Valor</th>\n",
              "      <th>Condominio</th>\n",
              "      <th>Impuesto</th>\n",
              "    </tr>\n",
              "  </thead>\n",
              "  <tbody>\n",
              "    <tr>\n",
              "      <th>9195</th>\n",
              "      <td>Santa Fe</td>\n",
              "      <td>1</td>\n",
              "      <td>1</td>\n",
              "      <td>0</td>\n",
              "      <td>42</td>\n",
              "      <td>2975.0</td>\n",
              "      <td>2667.0</td>\n",
              "      <td>140.0</td>\n",
              "    </tr>\n",
              "    <tr>\n",
              "      <th>429</th>\n",
              "      <td>Roma</td>\n",
              "      <td>1</td>\n",
              "      <td>0</td>\n",
              "      <td>0</td>\n",
              "      <td>17</td>\n",
              "      <td>3850.0</td>\n",
              "      <td>1155.0</td>\n",
              "      <td>52.5</td>\n",
              "    </tr>\n",
              "    <tr>\n",
              "      <th>15120</th>\n",
              "      <td>Roma</td>\n",
              "      <td>1</td>\n",
              "      <td>0</td>\n",
              "      <td>0</td>\n",
              "      <td>22</td>\n",
              "      <td>2905.0</td>\n",
              "      <td>2096.5</td>\n",
              "      <td>101.5</td>\n",
              "    </tr>\n",
              "    <tr>\n",
              "      <th>12506</th>\n",
              "      <td>Juárez</td>\n",
              "      <td>1</td>\n",
              "      <td>0</td>\n",
              "      <td>0</td>\n",
              "      <td>44</td>\n",
              "      <td>3325.0</td>\n",
              "      <td>1050.0</td>\n",
              "      <td>101.5</td>\n",
              "    </tr>\n",
              "    <tr>\n",
              "      <th>10863</th>\n",
              "      <td>Lindavista Sur</td>\n",
              "      <td>1</td>\n",
              "      <td>0</td>\n",
              "      <td>0</td>\n",
              "      <td>35</td>\n",
              "      <td>2450.0</td>\n",
              "      <td>231.0</td>\n",
              "      <td>0.0</td>\n",
              "    </tr>\n",
              "    <tr>\n",
              "      <th>18892</th>\n",
              "      <td>Iztacalco</td>\n",
              "      <td>1</td>\n",
              "      <td>1</td>\n",
              "      <td>0</td>\n",
              "      <td>50</td>\n",
              "      <td>2275.0</td>\n",
              "      <td>1575.0</td>\n",
              "      <td>0.0</td>\n",
              "    </tr>\n",
              "    <tr>\n",
              "      <th>5341</th>\n",
              "      <td>Lomas de Padierna</td>\n",
              "      <td>1</td>\n",
              "      <td>0</td>\n",
              "      <td>0</td>\n",
              "      <td>50</td>\n",
              "      <td>3850.0</td>\n",
              "      <td>1260.0</td>\n",
              "      <td>171.5</td>\n",
              "    </tr>\n",
              "    <tr>\n",
              "      <th>20464</th>\n",
              "      <td>Condesa</td>\n",
              "      <td>1</td>\n",
              "      <td>0</td>\n",
              "      <td>0</td>\n",
              "      <td>19</td>\n",
              "      <td>3850.0</td>\n",
              "      <td>1708.0</td>\n",
              "      <td>105.0</td>\n",
              "    </tr>\n",
              "    <tr>\n",
              "      <th>21465</th>\n",
              "      <td>Bosques de las Lomas</td>\n",
              "      <td>1</td>\n",
              "      <td>0</td>\n",
              "      <td>0</td>\n",
              "      <td>37</td>\n",
              "      <td>2450.0</td>\n",
              "      <td>700.0</td>\n",
              "      <td>70.0</td>\n",
              "    </tr>\n",
              "    <tr>\n",
              "      <th>7268</th>\n",
              "      <td>Juárez</td>\n",
              "      <td>1</td>\n",
              "      <td>0</td>\n",
              "      <td>1</td>\n",
              "      <td>34</td>\n",
              "      <td>3500.0</td>\n",
              "      <td>1400.0</td>\n",
              "      <td>185.5</td>\n",
              "    </tr>\n",
              "  </tbody>\n",
              "</table>\n",
              "</div>"
            ],
            "text/plain": [
              "                    Colonia  Habitaciones  Garages  Suites  Area   Valor  \\\n",
              "9195               Santa Fe             1        1       0    42  2975.0   \n",
              "429                    Roma             1        0       0    17  3850.0   \n",
              "15120                  Roma             1        0       0    22  2905.0   \n",
              "12506                Juárez             1        0       0    44  3325.0   \n",
              "10863        Lindavista Sur             1        0       0    35  2450.0   \n",
              "18892             Iztacalco             1        1       0    50  2275.0   \n",
              "5341      Lomas de Padierna             1        0       0    50  3850.0   \n",
              "20464               Condesa             1        0       0    19  3850.0   \n",
              "21465  Bosques de las Lomas             1        0       0    37  2450.0   \n",
              "7268                 Juárez             1        0       1    34  3500.0   \n",
              "\n",
              "       Condominio  Impuesto  \n",
              "9195       2667.0     140.0  \n",
              "429        1155.0      52.5  \n",
              "15120      2096.5     101.5  \n",
              "12506      1050.0     101.5  \n",
              "10863       231.0       0.0  \n",
              "18892      1575.0       0.0  \n",
              "5341       1260.0     171.5  \n",
              "20464      1708.0     105.0  \n",
              "21465       700.0      70.0  \n",
              "7268       1400.0     185.5  "
            ]
          },
          "execution_count": 397,
          "metadata": {},
          "output_type": "execute_result"
        }
      ],
      "source": [
        "seleccion1= df_Departamentos['Habitaciones'] == 1\n",
        "seleccion2= df_Departamentos['Valor'] < 4200\n",
        "filtro_1= seleccion1 & seleccion2\n",
        "df_Departamentos_1 = df_Departamentos[filtro_1]\n",
        "filtro_1\n",
        "df_Departamentos_1.sample(10)"
      ]
    },
    {
      "cell_type": "markdown",
      "metadata": {
        "id": "S_Btgcztc96p"
      },
      "source": [
        "* Apartamentos que tienen al menos 2 dormitorios, un alquiler menor a MXN 10500 y una superficie mayor a 70 m²."
      ]
    },
    {
      "cell_type": "code",
      "execution_count": 398,
      "metadata": {
        "colab": {
          "base_uri": "https://localhost:8080/",
          "height": 363
        },
        "id": "P6qvPtTweUi-",
        "outputId": "107ffef4-f984-419d-8028-918dc57b4551"
      },
      "outputs": [
        {
          "data": {
            "text/html": [
              "<div>\n",
              "<style scoped>\n",
              "    .dataframe tbody tr th:only-of-type {\n",
              "        vertical-align: middle;\n",
              "    }\n",
              "\n",
              "    .dataframe tbody tr th {\n",
              "        vertical-align: top;\n",
              "    }\n",
              "\n",
              "    .dataframe thead th {\n",
              "        text-align: right;\n",
              "    }\n",
              "</style>\n",
              "<table border=\"1\" class=\"dataframe\">\n",
              "  <thead>\n",
              "    <tr style=\"text-align: right;\">\n",
              "      <th></th>\n",
              "      <th>Colonia</th>\n",
              "      <th>Habitaciones</th>\n",
              "      <th>Garages</th>\n",
              "      <th>Suites</th>\n",
              "      <th>Area</th>\n",
              "      <th>Valor</th>\n",
              "      <th>Condominio</th>\n",
              "      <th>Impuesto</th>\n",
              "    </tr>\n",
              "  </thead>\n",
              "  <tbody>\n",
              "    <tr>\n",
              "      <th>10073</th>\n",
              "      <td>Narvarte</td>\n",
              "      <td>2</td>\n",
              "      <td>1</td>\n",
              "      <td>1</td>\n",
              "      <td>78</td>\n",
              "      <td>8050.0</td>\n",
              "      <td>1960.0</td>\n",
              "      <td>287.0</td>\n",
              "    </tr>\n",
              "    <tr>\n",
              "      <th>8362</th>\n",
              "      <td>Santa Fe</td>\n",
              "      <td>3</td>\n",
              "      <td>2</td>\n",
              "      <td>1</td>\n",
              "      <td>80</td>\n",
              "      <td>8225.0</td>\n",
              "      <td>4154.5</td>\n",
              "      <td>612.5</td>\n",
              "    </tr>\n",
              "    <tr>\n",
              "      <th>1659</th>\n",
              "      <td>Santa Fe</td>\n",
              "      <td>2</td>\n",
              "      <td>1</td>\n",
              "      <td>1</td>\n",
              "      <td>73</td>\n",
              "      <td>9450.0</td>\n",
              "      <td>4147.5</td>\n",
              "      <td>724.5</td>\n",
              "    </tr>\n",
              "    <tr>\n",
              "      <th>15053</th>\n",
              "      <td>Villa de Cortés</td>\n",
              "      <td>3</td>\n",
              "      <td>2</td>\n",
              "      <td>0</td>\n",
              "      <td>75</td>\n",
              "      <td>6650.0</td>\n",
              "      <td>2100.0</td>\n",
              "      <td>56.0</td>\n",
              "    </tr>\n",
              "    <tr>\n",
              "      <th>18986</th>\n",
              "      <td>San Rafael</td>\n",
              "      <td>2</td>\n",
              "      <td>1</td>\n",
              "      <td>0</td>\n",
              "      <td>82</td>\n",
              "      <td>6650.0</td>\n",
              "      <td>2523.5</td>\n",
              "      <td>360.5</td>\n",
              "    </tr>\n",
              "    <tr>\n",
              "      <th>18811</th>\n",
              "      <td>Condesa</td>\n",
              "      <td>2</td>\n",
              "      <td>0</td>\n",
              "      <td>0</td>\n",
              "      <td>75</td>\n",
              "      <td>9800.0</td>\n",
              "      <td>3500.0</td>\n",
              "      <td>525.0</td>\n",
              "    </tr>\n",
              "    <tr>\n",
              "      <th>19621</th>\n",
              "      <td>Santa Fe</td>\n",
              "      <td>2</td>\n",
              "      <td>1</td>\n",
              "      <td>1</td>\n",
              "      <td>76</td>\n",
              "      <td>7350.0</td>\n",
              "      <td>4900.0</td>\n",
              "      <td>315.0</td>\n",
              "    </tr>\n",
              "    <tr>\n",
              "      <th>21065</th>\n",
              "      <td>Del Valle</td>\n",
              "      <td>3</td>\n",
              "      <td>0</td>\n",
              "      <td>0</td>\n",
              "      <td>110</td>\n",
              "      <td>9100.0</td>\n",
              "      <td>2849.0</td>\n",
              "      <td>385.0</td>\n",
              "    </tr>\n",
              "    <tr>\n",
              "      <th>23471</th>\n",
              "      <td>Narvarte</td>\n",
              "      <td>3</td>\n",
              "      <td>1</td>\n",
              "      <td>1</td>\n",
              "      <td>106</td>\n",
              "      <td>7000.0</td>\n",
              "      <td>3150.0</td>\n",
              "      <td>0.0</td>\n",
              "    </tr>\n",
              "    <tr>\n",
              "      <th>20442</th>\n",
              "      <td>Santa Fe</td>\n",
              "      <td>3</td>\n",
              "      <td>2</td>\n",
              "      <td>1</td>\n",
              "      <td>122</td>\n",
              "      <td>9100.0</td>\n",
              "      <td>5950.0</td>\n",
              "      <td>1029.0</td>\n",
              "    </tr>\n",
              "  </tbody>\n",
              "</table>\n",
              "</div>"
            ],
            "text/plain": [
              "               Colonia  Habitaciones  Garages  Suites  Area   Valor  \\\n",
              "10073         Narvarte             2        1       1    78  8050.0   \n",
              "8362          Santa Fe             3        2       1    80  8225.0   \n",
              "1659          Santa Fe             2        1       1    73  9450.0   \n",
              "15053  Villa de Cortés             3        2       0    75  6650.0   \n",
              "18986       San Rafael             2        1       0    82  6650.0   \n",
              "18811          Condesa             2        0       0    75  9800.0   \n",
              "19621         Santa Fe             2        1       1    76  7350.0   \n",
              "21065        Del Valle             3        0       0   110  9100.0   \n",
              "23471         Narvarte             3        1       1   106  7000.0   \n",
              "20442         Santa Fe             3        2       1   122  9100.0   \n",
              "\n",
              "       Condominio  Impuesto  \n",
              "10073      1960.0     287.0  \n",
              "8362       4154.5     612.5  \n",
              "1659       4147.5     724.5  \n",
              "15053      2100.0      56.0  \n",
              "18986      2523.5     360.5  \n",
              "18811      3500.0     525.0  \n",
              "19621      4900.0     315.0  \n",
              "21065      2849.0     385.0  \n",
              "23471      3150.0       0.0  \n",
              "20442      5950.0    1029.0  "
            ]
          },
          "execution_count": 398,
          "metadata": {},
          "output_type": "execute_result"
        }
      ],
      "source": [
        "seleccion3 = df_Departamentos['Habitaciones'] >= 2\n",
        "seleccion4 = df_Departamentos['Valor'] < 10500\n",
        "seleccion5 = df_Departamentos['Area'] > 70\n",
        "filtro_2 = seleccion3 & seleccion4 & seleccion5\n",
        "\n",
        "df_Departamentos_2 = df_Departamentos[filtro_2]\n",
        "df_Departamentos_2.sample(10)\n"
      ]
    },
    {
      "cell_type": "markdown",
      "metadata": {
        "id": "P0rswqDwgIbv"
      },
      "source": [
        "### **Guardando los Archivos**"
      ]
    },
    {
      "cell_type": "code",
      "execution_count": 399,
      "metadata": {
        "id": "wSfbEVHzgRmW"
      },
      "outputs": [],
      "source": [
        "# df_Departamentos.to_csv('/content/drive/MyDrive/Pandas/df_Departamentos.csv', index=False, sep=';')\n",
        "# df_Departamentos_1.to_csv('/content/drive/MyDrive/Pandas/df_Departamentos_1.csv', index=False, sep=';')\n",
        "# df_Departamentos_2.to_csv('/content/drive/MyDrive/Pandas/df_Departamentos_2.csv', index=False, sep=';')"
      ]
    },
    {
      "cell_type": "code",
      "execution_count": 400,
      "metadata": {
        "colab": {
          "base_uri": "https://localhost:8080/"
        },
        "id": "wCsGr0qDjcJ-",
        "outputId": "1c3641c8-0c5d-4196-b2bc-ef7634be744d"
      },
      "outputs": [],
      "source": [
        "# from google.colab import drive\n",
        "# drive.mount('/content/drive')"
      ]
    },
    {
      "cell_type": "markdown",
      "metadata": {
        "id": "DrF-vh5JkwhE"
      },
      "source": [
        "### **Ejercicios**\n"
      ]
    },
    {
      "cell_type": "markdown",
      "metadata": {
        "id": "9HaoDgKTk2Aq"
      },
      "source": [
        "Para practicar los métodos aprendidos a lo largo de esta lección y aprender nuevos, realizaremos algunos tratamientos y selecciones utilizando un archivo CSV diferente: alumnos.csv.\n",
        "\n",
        "Este archivo es el mismo que se utilizó para resolver los desafíos de la lección 1 y contiene datos de estudiantes de un curso superior.\n",
        "\n",
        "Basándonos en esto, resolvamos los problemas propuestos a continuación utilizando los conocimientos adquiridos hasta ahora."
      ]
    },
    {
      "cell_type": "markdown",
      "metadata": {
        "id": "6g0XfIYBk9bi"
      },
      "source": [
        "#### 1. Verifica si la base de datos contiene datos nulos y, en caso de tenerlos, realiza el tratamiento de estos datos nulos de la manera que consideres más coherente con la situación.\n"
      ]
    },
    {
      "cell_type": "code",
      "execution_count": 401,
      "metadata": {
        "colab": {
          "base_uri": "https://localhost:8080/",
          "height": 206
        },
        "id": "5Xootdo2lNB0",
        "outputId": "2cc3f59d-e3b4-4e40-b35a-45e721a447e4"
      },
      "outputs": [
        {
          "data": {
            "text/html": [
              "<div>\n",
              "<style scoped>\n",
              "    .dataframe tbody tr th:only-of-type {\n",
              "        vertical-align: middle;\n",
              "    }\n",
              "\n",
              "    .dataframe tbody tr th {\n",
              "        vertical-align: top;\n",
              "    }\n",
              "\n",
              "    .dataframe thead th {\n",
              "        text-align: right;\n",
              "    }\n",
              "</style>\n",
              "<table border=\"1\" class=\"dataframe\">\n",
              "  <thead>\n",
              "    <tr style=\"text-align: right;\">\n",
              "      <th></th>\n",
              "      <th>Nombre</th>\n",
              "      <th>Edad</th>\n",
              "      <th>Nota</th>\n",
              "      <th>Aprobado</th>\n",
              "    </tr>\n",
              "  </thead>\n",
              "  <tbody>\n",
              "    <tr>\n",
              "      <th>0</th>\n",
              "      <td>Alberto</td>\n",
              "      <td>20</td>\n",
              "      <td>7.5</td>\n",
              "      <td>True</td>\n",
              "    </tr>\n",
              "    <tr>\n",
              "      <th>1</th>\n",
              "      <td>Ana</td>\n",
              "      <td>18</td>\n",
              "      <td>NaN</td>\n",
              "      <td>False</td>\n",
              "    </tr>\n",
              "    <tr>\n",
              "      <th>2</th>\n",
              "      <td>Camila</td>\n",
              "      <td>27</td>\n",
              "      <td>2.5</td>\n",
              "      <td>False</td>\n",
              "    </tr>\n",
              "    <tr>\n",
              "      <th>3</th>\n",
              "      <td>David</td>\n",
              "      <td>18</td>\n",
              "      <td>5.0</td>\n",
              "      <td>False</td>\n",
              "    </tr>\n",
              "    <tr>\n",
              "      <th>4</th>\n",
              "      <td>Brian</td>\n",
              "      <td>21</td>\n",
              "      <td>10.0</td>\n",
              "      <td>True</td>\n",
              "    </tr>\n",
              "  </tbody>\n",
              "</table>\n",
              "</div>"
            ],
            "text/plain": [
              "    Nombre  Edad  Nota Aprobado\n",
              "0  Alberto    20   7.5     True\n",
              "1      Ana    18   NaN    False\n",
              "2   Camila    27   2.5    False\n",
              "3    David    18   5.0    False\n",
              "4    Brian    21  10.0     True"
            ]
          },
          "execution_count": 401,
          "metadata": {},
          "output_type": "execute_result"
        }
      ],
      "source": [
        "url_alumnos ='https://gist.githubusercontent.com/ahcamachod/807a2c1cf6c19108b2b701ea1791ab45/raw/fb84f8b2d8917a89de26679eccdbc8f9c1d2e933/alumnos.csv'\n",
        "\n",
        "datos_alumnos = pd.read_csv(url_alumnos)\n",
        "datos_alumnos.head()\n"
      ]
    },
    {
      "cell_type": "code",
      "execution_count": 402,
      "metadata": {
        "colab": {
          "base_uri": "https://localhost:8080/",
          "height": 210
        },
        "id": "RDGyiQuTlpcd",
        "outputId": "c0b017b8-ac18-4d1a-99ac-a28b236ef90d"
      },
      "outputs": [
        {
          "data": {
            "text/plain": [
              "Nombre      0\n",
              "Edad        0\n",
              "Nota        6\n",
              "Aprobado    0\n",
              "dtype: int64"
            ]
          },
          "execution_count": 402,
          "metadata": {},
          "output_type": "execute_result"
        }
      ],
      "source": [
        "datos_alumnos.isnull().sum()\n"
      ]
    },
    {
      "cell_type": "code",
      "execution_count": 403,
      "metadata": {
        "colab": {
          "base_uri": "https://localhost:8080/",
          "height": 210
        },
        "id": "J_1WF_hRl3RN",
        "outputId": "4350fea1-736b-4b59-ad02-92d524a3fdb6"
      },
      "outputs": [
        {
          "data": {
            "text/plain": [
              "Nombre      0\n",
              "Edad        0\n",
              "Nota        0\n",
              "Aprobado    0\n",
              "dtype: int64"
            ]
          },
          "execution_count": 403,
          "metadata": {},
          "output_type": "execute_result"
        }
      ],
      "source": [
        "datos_alumnos = datos_alumnos.fillna(0)\n",
        "datos_alumnos.isnull().sum()"
      ]
    },
    {
      "cell_type": "markdown",
      "metadata": {
        "id": "lKpf119Hl_3D"
      },
      "source": [
        "#### 2. Los estudiantes \"Alicia\" y \"Carlos\" ya no forman parte del grupo. Por lo tanto, elimínalos de la base de datos."
      ]
    },
    {
      "cell_type": "code",
      "execution_count": 404,
      "metadata": {
        "colab": {
          "base_uri": "https://localhost:8080/"
        },
        "id": "lIs0IxYtmFfU",
        "outputId": "514f83a9-3579-4006-98ce-496eb6658e21"
      },
      "outputs": [
        {
          "data": {
            "text/plain": [
              "Index([7, 8], dtype='int64')"
            ]
          },
          "execution_count": 404,
          "metadata": {},
          "output_type": "execute_result"
        }
      ],
      "source": [
        "baja_alumnos = datos_alumnos.query('Nombre == \"Alicia\" | Nombre == \"Carlos\"').index\n",
        "baja_alumnos"
      ]
    },
    {
      "cell_type": "code",
      "execution_count": 405,
      "metadata": {
        "colab": {
          "base_uri": "https://localhost:8080/",
          "height": 551
        },
        "id": "MVkTB-_2mmDZ",
        "outputId": "b8de71ce-a349-45e7-b891-5a28d2d01f55"
      },
      "outputs": [
        {
          "data": {
            "text/html": [
              "<div>\n",
              "<style scoped>\n",
              "    .dataframe tbody tr th:only-of-type {\n",
              "        vertical-align: middle;\n",
              "    }\n",
              "\n",
              "    .dataframe tbody tr th {\n",
              "        vertical-align: top;\n",
              "    }\n",
              "\n",
              "    .dataframe thead th {\n",
              "        text-align: right;\n",
              "    }\n",
              "</style>\n",
              "<table border=\"1\" class=\"dataframe\">\n",
              "  <thead>\n",
              "    <tr style=\"text-align: right;\">\n",
              "      <th></th>\n",
              "      <th>Nombre</th>\n",
              "      <th>Edad</th>\n",
              "      <th>Nota</th>\n",
              "      <th>Aprobado</th>\n",
              "    </tr>\n",
              "  </thead>\n",
              "  <tbody>\n",
              "    <tr>\n",
              "      <th>0</th>\n",
              "      <td>Alberto</td>\n",
              "      <td>20</td>\n",
              "      <td>7.5</td>\n",
              "      <td>True</td>\n",
              "    </tr>\n",
              "    <tr>\n",
              "      <th>1</th>\n",
              "      <td>Ana</td>\n",
              "      <td>18</td>\n",
              "      <td>0.0</td>\n",
              "      <td>False</td>\n",
              "    </tr>\n",
              "    <tr>\n",
              "      <th>2</th>\n",
              "      <td>Camila</td>\n",
              "      <td>27</td>\n",
              "      <td>2.5</td>\n",
              "      <td>False</td>\n",
              "    </tr>\n",
              "    <tr>\n",
              "      <th>3</th>\n",
              "      <td>David</td>\n",
              "      <td>18</td>\n",
              "      <td>5.0</td>\n",
              "      <td>False</td>\n",
              "    </tr>\n",
              "    <tr>\n",
              "      <th>4</th>\n",
              "      <td>Brian</td>\n",
              "      <td>21</td>\n",
              "      <td>10.0</td>\n",
              "      <td>True</td>\n",
              "    </tr>\n",
              "    <tr>\n",
              "      <th>5</th>\n",
              "      <td>Bruna</td>\n",
              "      <td>23</td>\n",
              "      <td>0.0</td>\n",
              "      <td>False</td>\n",
              "    </tr>\n",
              "    <tr>\n",
              "      <th>6</th>\n",
              "      <td>Daniela</td>\n",
              "      <td>21</td>\n",
              "      <td>7.0</td>\n",
              "      <td>True</td>\n",
              "    </tr>\n",
              "    <tr>\n",
              "      <th>9</th>\n",
              "      <td>Victor</td>\n",
              "      <td>28</td>\n",
              "      <td>0.0</td>\n",
              "      <td>False</td>\n",
              "    </tr>\n",
              "    <tr>\n",
              "      <th>10</th>\n",
              "      <td>Danilo</td>\n",
              "      <td>21</td>\n",
              "      <td>0.0</td>\n",
              "      <td>False</td>\n",
              "    </tr>\n",
              "    <tr>\n",
              "      <th>11</th>\n",
              "      <td>Ignacio</td>\n",
              "      <td>24</td>\n",
              "      <td>4.5</td>\n",
              "      <td>False</td>\n",
              "    </tr>\n",
              "    <tr>\n",
              "      <th>12</th>\n",
              "      <td>Stephany</td>\n",
              "      <td>26</td>\n",
              "      <td>10.0</td>\n",
              "      <td>True</td>\n",
              "    </tr>\n",
              "    <tr>\n",
              "      <th>13</th>\n",
              "      <td>Miriam</td>\n",
              "      <td>25</td>\n",
              "      <td>9.0</td>\n",
              "      <td>True</td>\n",
              "    </tr>\n",
              "    <tr>\n",
              "      <th>14</th>\n",
              "      <td>Pablo</td>\n",
              "      <td>37</td>\n",
              "      <td>0.0</td>\n",
              "      <td>False</td>\n",
              "    </tr>\n",
              "    <tr>\n",
              "      <th>15</th>\n",
              "      <td>Milena</td>\n",
              "      <td>29</td>\n",
              "      <td>7.0</td>\n",
              "      <td>True</td>\n",
              "    </tr>\n",
              "    <tr>\n",
              "      <th>16</th>\n",
              "      <td>Lucas</td>\n",
              "      <td>33</td>\n",
              "      <td>0.0</td>\n",
              "      <td>False</td>\n",
              "    </tr>\n",
              "    <tr>\n",
              "      <th>17</th>\n",
              "      <td>Nadia</td>\n",
              "      <td>34</td>\n",
              "      <td>8.0</td>\n",
              "      <td>Verdadero</td>\n",
              "    </tr>\n",
              "  </tbody>\n",
              "</table>\n",
              "</div>"
            ],
            "text/plain": [
              "      Nombre  Edad  Nota   Aprobado\n",
              "0    Alberto    20   7.5       True\n",
              "1        Ana    18   0.0      False\n",
              "2     Camila    27   2.5      False\n",
              "3      David    18   5.0      False\n",
              "4      Brian    21  10.0       True\n",
              "5      Bruna    23   0.0      False\n",
              "6    Daniela    21   7.0       True\n",
              "9     Victor    28   0.0      False\n",
              "10    Danilo    21   0.0      False\n",
              "11   Ignacio    24   4.5      False\n",
              "12  Stephany    26  10.0       True\n",
              "13    Miriam    25   9.0       True\n",
              "14     Pablo    37   0.0      False\n",
              "15    Milena    29   7.0       True\n",
              "16     Lucas    33   0.0      False\n",
              "17     Nadia    34   8.0  Verdadero"
            ]
          },
          "execution_count": 405,
          "metadata": {},
          "output_type": "execute_result"
        }
      ],
      "source": [
        "datos_alumnos.drop(baja_alumnos, axis=0, inplace=True)\n",
        "datos_alumnos"
      ]
    },
    {
      "cell_type": "markdown",
      "metadata": {
        "id": "pQCsx-bhpNCc"
      },
      "source": []
    },
    {
      "cell_type": "markdown",
      "metadata": {
        "id": "LBvgVyGDnDFF"
      },
      "source": [
        "#### 3. Aplica un filtro que seleccione solo a los estudiantes que fueron aprobados."
      ]
    },
    {
      "cell_type": "code",
      "execution_count": 406,
      "metadata": {
        "colab": {
          "base_uri": "https://localhost:8080/"
        },
        "id": "2DqBnQU5nG60",
        "outputId": "6b3a8cd0-8179-4aaf-91a6-629704d6dffc"
      },
      "outputs": [
        {
          "data": {
            "text/plain": [
              "Index([0, 4, 6, 12, 13, 15, 17], dtype='int64')"
            ]
          },
          "execution_count": 406,
          "metadata": {},
          "output_type": "execute_result"
        }
      ],
      "source": [
        "alumnos_aprobados = datos_alumnos.query('Aprobado == \"True\" | Aprobado == \"Verdadero\"').index\n",
        "alumnos_aprobados"
      ]
    },
    {
      "cell_type": "code",
      "execution_count": 407,
      "metadata": {
        "colab": {
          "base_uri": "https://localhost:8080/",
          "height": 269
        },
        "id": "K0Ptbom4n59s",
        "outputId": "82ebedf9-0495-4b69-a779-e58ff06df4e6"
      },
      "outputs": [
        {
          "data": {
            "text/html": [
              "<div>\n",
              "<style scoped>\n",
              "    .dataframe tbody tr th:only-of-type {\n",
              "        vertical-align: middle;\n",
              "    }\n",
              "\n",
              "    .dataframe tbody tr th {\n",
              "        vertical-align: top;\n",
              "    }\n",
              "\n",
              "    .dataframe thead th {\n",
              "        text-align: right;\n",
              "    }\n",
              "</style>\n",
              "<table border=\"1\" class=\"dataframe\">\n",
              "  <thead>\n",
              "    <tr style=\"text-align: right;\">\n",
              "      <th></th>\n",
              "      <th>Nombre</th>\n",
              "      <th>Edad</th>\n",
              "      <th>Nota</th>\n",
              "      <th>Aprobado</th>\n",
              "    </tr>\n",
              "  </thead>\n",
              "  <tbody>\n",
              "    <tr>\n",
              "      <th>0</th>\n",
              "      <td>Alberto</td>\n",
              "      <td>20</td>\n",
              "      <td>7.5</td>\n",
              "      <td>True</td>\n",
              "    </tr>\n",
              "    <tr>\n",
              "      <th>4</th>\n",
              "      <td>Brian</td>\n",
              "      <td>21</td>\n",
              "      <td>10.0</td>\n",
              "      <td>True</td>\n",
              "    </tr>\n",
              "    <tr>\n",
              "      <th>6</th>\n",
              "      <td>Daniela</td>\n",
              "      <td>21</td>\n",
              "      <td>7.0</td>\n",
              "      <td>True</td>\n",
              "    </tr>\n",
              "    <tr>\n",
              "      <th>12</th>\n",
              "      <td>Stephany</td>\n",
              "      <td>26</td>\n",
              "      <td>10.0</td>\n",
              "      <td>True</td>\n",
              "    </tr>\n",
              "    <tr>\n",
              "      <th>13</th>\n",
              "      <td>Miriam</td>\n",
              "      <td>25</td>\n",
              "      <td>9.0</td>\n",
              "      <td>True</td>\n",
              "    </tr>\n",
              "    <tr>\n",
              "      <th>15</th>\n",
              "      <td>Milena</td>\n",
              "      <td>29</td>\n",
              "      <td>7.0</td>\n",
              "      <td>True</td>\n",
              "    </tr>\n",
              "    <tr>\n",
              "      <th>17</th>\n",
              "      <td>Nadia</td>\n",
              "      <td>34</td>\n",
              "      <td>8.0</td>\n",
              "      <td>Verdadero</td>\n",
              "    </tr>\n",
              "  </tbody>\n",
              "</table>\n",
              "</div>"
            ],
            "text/plain": [
              "      Nombre  Edad  Nota   Aprobado\n",
              "0    Alberto    20   7.5       True\n",
              "4      Brian    21  10.0       True\n",
              "6    Daniela    21   7.0       True\n",
              "12  Stephany    26  10.0       True\n",
              "13    Miriam    25   9.0       True\n",
              "15    Milena    29   7.0       True\n",
              "17     Nadia    34   8.0  Verdadero"
            ]
          },
          "execution_count": 407,
          "metadata": {},
          "output_type": "execute_result"
        }
      ],
      "source": [
        "aprobados = datos_alumnos.loc[alumnos_aprobados]\n",
        "aprobados"
      ]
    },
    {
      "cell_type": "markdown",
      "metadata": {
        "id": "BbjuoIv2sEvw"
      },
      "source": [
        "#### 4. Guarda el DataFrame que contiene solo a los estudiantes aprobados en un archivo CSV llamado \"alumnos_aprobados.csv\"."
      ]
    },
    {
      "cell_type": "code",
      "execution_count": 408,
      "metadata": {
        "id": "bwnE2AUZsHpU"
      },
      "outputs": [],
      "source": [
        "#aprobados.to_csv('/content/drive/MyDrive/Pandas/alumnos_aprobados.csv', index=False)"
      ]
    },
    {
      "cell_type": "code",
      "execution_count": 409,
      "metadata": {
        "colab": {
          "base_uri": "https://localhost:8080/",
          "height": 269
        },
        "id": "9UInuaV2sb0G",
        "outputId": "b59eb1d7-8ea2-45fa-b1c9-af0b1502f054"
      },
      "outputs": [
        {
          "data": {
            "text/html": [
              "<div>\n",
              "<style scoped>\n",
              "    .dataframe tbody tr th:only-of-type {\n",
              "        vertical-align: middle;\n",
              "    }\n",
              "\n",
              "    .dataframe tbody tr th {\n",
              "        vertical-align: top;\n",
              "    }\n",
              "\n",
              "    .dataframe thead th {\n",
              "        text-align: right;\n",
              "    }\n",
              "</style>\n",
              "<table border=\"1\" class=\"dataframe\">\n",
              "  <thead>\n",
              "    <tr style=\"text-align: right;\">\n",
              "      <th></th>\n",
              "      <th>Nombre</th>\n",
              "      <th>Edad</th>\n",
              "      <th>Nota</th>\n",
              "      <th>Aprobado</th>\n",
              "    </tr>\n",
              "  </thead>\n",
              "  <tbody>\n",
              "    <tr>\n",
              "      <th>0</th>\n",
              "      <td>Alberto</td>\n",
              "      <td>20</td>\n",
              "      <td>7.5</td>\n",
              "      <td>True</td>\n",
              "    </tr>\n",
              "    <tr>\n",
              "      <th>1</th>\n",
              "      <td>Brian</td>\n",
              "      <td>21</td>\n",
              "      <td>10.0</td>\n",
              "      <td>True</td>\n",
              "    </tr>\n",
              "    <tr>\n",
              "      <th>2</th>\n",
              "      <td>Daniela</td>\n",
              "      <td>21</td>\n",
              "      <td>8.0</td>\n",
              "      <td>True</td>\n",
              "    </tr>\n",
              "    <tr>\n",
              "      <th>3</th>\n",
              "      <td>Stephany</td>\n",
              "      <td>26</td>\n",
              "      <td>10.0</td>\n",
              "      <td>True</td>\n",
              "    </tr>\n",
              "    <tr>\n",
              "      <th>4</th>\n",
              "      <td>Miriam</td>\n",
              "      <td>25</td>\n",
              "      <td>9.0</td>\n",
              "      <td>True</td>\n",
              "    </tr>\n",
              "    <tr>\n",
              "      <th>5</th>\n",
              "      <td>Milena</td>\n",
              "      <td>29</td>\n",
              "      <td>8.0</td>\n",
              "      <td>True</td>\n",
              "    </tr>\n",
              "    <tr>\n",
              "      <th>6</th>\n",
              "      <td>Nadia</td>\n",
              "      <td>34</td>\n",
              "      <td>8.0</td>\n",
              "      <td>Verdadero</td>\n",
              "    </tr>\n",
              "  </tbody>\n",
              "</table>\n",
              "</div>"
            ],
            "text/plain": [
              "     Nombre  Edad  Nota   Aprobado\n",
              "0   Alberto    20   7.5       True\n",
              "1     Brian    21  10.0       True\n",
              "2   Daniela    21   8.0       True\n",
              "3  Stephany    26  10.0       True\n",
              "4    Miriam    25   9.0       True\n",
              "5    Milena    29   8.0       True\n",
              "6     Nadia    34   8.0  Verdadero"
            ]
          },
          "execution_count": 409,
          "metadata": {},
          "output_type": "execute_result"
        }
      ],
      "source": [
        "id = '1-DD4p4o5ZnqHajK4RINIJpatETNOi_1z'\n",
        "url = f'https://drive.google.com/uc?id={id}'\n",
        "pd.read_csv(url)"
      ]
    },
    {
      "cell_type": "markdown",
      "metadata": {
        "id": "6_9TfwW0soDh"
      },
      "source": [
        "Extra: Al revisar las calificaciones de los estudiantes aprobados, notamos que algunas calificaciones eran incorrectas. Las estudiantes que obtuvieron una calificación de 7.0, en realidad tenían un punto extra que no se contabilizó. Por lo tanto, reemplaza las calificaciones de 7.0 en la base de datos por 8.0. Consejo: busca el método replace."
      ]
    },
    {
      "cell_type": "code",
      "execution_count": 410,
      "metadata": {
        "colab": {
          "base_uri": "https://localhost:8080/"
        },
        "id": "vWsLX4lmsqAv",
        "outputId": "906dd4a3-3172-4fcb-82a0-512ecddea35a"
      },
      "outputs": [
        {
          "data": {
            "text/plain": [
              "Index([6, 15], dtype='int64')"
            ]
          },
          "execution_count": 410,
          "metadata": {},
          "output_type": "execute_result"
        }
      ],
      "source": [
        "nota_7 = aprobados.query('Nota == 7.0').index\n",
        "nota_7"
      ]
    },
    {
      "cell_type": "code",
      "execution_count": 411,
      "metadata": {
        "colab": {
          "base_uri": "https://localhost:8080/",
          "height": 269
        },
        "id": "h0I-_jOItGaf",
        "outputId": "36ffa5c5-cd9e-4659-b2a9-47a1e70224ac"
      },
      "outputs": [
        {
          "data": {
            "text/html": [
              "<div>\n",
              "<style scoped>\n",
              "    .dataframe tbody tr th:only-of-type {\n",
              "        vertical-align: middle;\n",
              "    }\n",
              "\n",
              "    .dataframe tbody tr th {\n",
              "        vertical-align: top;\n",
              "    }\n",
              "\n",
              "    .dataframe thead th {\n",
              "        text-align: right;\n",
              "    }\n",
              "</style>\n",
              "<table border=\"1\" class=\"dataframe\">\n",
              "  <thead>\n",
              "    <tr style=\"text-align: right;\">\n",
              "      <th></th>\n",
              "      <th>Nombre</th>\n",
              "      <th>Edad</th>\n",
              "      <th>Nota</th>\n",
              "      <th>Aprobado</th>\n",
              "    </tr>\n",
              "  </thead>\n",
              "  <tbody>\n",
              "    <tr>\n",
              "      <th>0</th>\n",
              "      <td>Alberto</td>\n",
              "      <td>20</td>\n",
              "      <td>7.5</td>\n",
              "      <td>True</td>\n",
              "    </tr>\n",
              "    <tr>\n",
              "      <th>4</th>\n",
              "      <td>Brian</td>\n",
              "      <td>21</td>\n",
              "      <td>10.0</td>\n",
              "      <td>True</td>\n",
              "    </tr>\n",
              "    <tr>\n",
              "      <th>6</th>\n",
              "      <td>Daniela</td>\n",
              "      <td>21</td>\n",
              "      <td>8.0</td>\n",
              "      <td>True</td>\n",
              "    </tr>\n",
              "    <tr>\n",
              "      <th>12</th>\n",
              "      <td>Stephany</td>\n",
              "      <td>26</td>\n",
              "      <td>10.0</td>\n",
              "      <td>True</td>\n",
              "    </tr>\n",
              "    <tr>\n",
              "      <th>13</th>\n",
              "      <td>Miriam</td>\n",
              "      <td>25</td>\n",
              "      <td>9.0</td>\n",
              "      <td>True</td>\n",
              "    </tr>\n",
              "    <tr>\n",
              "      <th>15</th>\n",
              "      <td>Milena</td>\n",
              "      <td>29</td>\n",
              "      <td>8.0</td>\n",
              "      <td>True</td>\n",
              "    </tr>\n",
              "    <tr>\n",
              "      <th>17</th>\n",
              "      <td>Nadia</td>\n",
              "      <td>34</td>\n",
              "      <td>8.0</td>\n",
              "      <td>Verdadero</td>\n",
              "    </tr>\n",
              "  </tbody>\n",
              "</table>\n",
              "</div>"
            ],
            "text/plain": [
              "      Nombre  Edad  Nota   Aprobado\n",
              "0    Alberto    20   7.5       True\n",
              "4      Brian    21  10.0       True\n",
              "6    Daniela    21   8.0       True\n",
              "12  Stephany    26  10.0       True\n",
              "13    Miriam    25   9.0       True\n",
              "15    Milena    29   8.0       True\n",
              "17     Nadia    34   8.0  Verdadero"
            ]
          },
          "execution_count": 411,
          "metadata": {},
          "output_type": "execute_result"
        }
      ],
      "source": [
        "aprobados = aprobados.replace(7.0, 8.0)\n",
        "aprobados"
      ]
    },
    {
      "cell_type": "code",
      "execution_count": 412,
      "metadata": {
        "id": "sDjSUPDCtuRV"
      },
      "outputs": [],
      "source": [
        "#aprobados.to_csv('/content/drive/MyDrive/Pandas/alumnos_aprobados.csv', index=False)"
      ]
    },
    {
      "cell_type": "code",
      "execution_count": 413,
      "metadata": {
        "colab": {
          "base_uri": "https://localhost:8080/",
          "height": 269
        },
        "id": "4ViogSKTtw3w",
        "outputId": "4574a9b4-f7ac-4e7c-b833-07f03b0ba391"
      },
      "outputs": [
        {
          "data": {
            "text/html": [
              "<div>\n",
              "<style scoped>\n",
              "    .dataframe tbody tr th:only-of-type {\n",
              "        vertical-align: middle;\n",
              "    }\n",
              "\n",
              "    .dataframe tbody tr th {\n",
              "        vertical-align: top;\n",
              "    }\n",
              "\n",
              "    .dataframe thead th {\n",
              "        text-align: right;\n",
              "    }\n",
              "</style>\n",
              "<table border=\"1\" class=\"dataframe\">\n",
              "  <thead>\n",
              "    <tr style=\"text-align: right;\">\n",
              "      <th></th>\n",
              "      <th>Nombre</th>\n",
              "      <th>Edad</th>\n",
              "      <th>Nota</th>\n",
              "      <th>Aprobado</th>\n",
              "    </tr>\n",
              "  </thead>\n",
              "  <tbody>\n",
              "    <tr>\n",
              "      <th>0</th>\n",
              "      <td>Alberto</td>\n",
              "      <td>20</td>\n",
              "      <td>7.5</td>\n",
              "      <td>True</td>\n",
              "    </tr>\n",
              "    <tr>\n",
              "      <th>1</th>\n",
              "      <td>Brian</td>\n",
              "      <td>21</td>\n",
              "      <td>10.0</td>\n",
              "      <td>True</td>\n",
              "    </tr>\n",
              "    <tr>\n",
              "      <th>2</th>\n",
              "      <td>Daniela</td>\n",
              "      <td>21</td>\n",
              "      <td>8.0</td>\n",
              "      <td>True</td>\n",
              "    </tr>\n",
              "    <tr>\n",
              "      <th>3</th>\n",
              "      <td>Stephany</td>\n",
              "      <td>26</td>\n",
              "      <td>10.0</td>\n",
              "      <td>True</td>\n",
              "    </tr>\n",
              "    <tr>\n",
              "      <th>4</th>\n",
              "      <td>Miriam</td>\n",
              "      <td>25</td>\n",
              "      <td>9.0</td>\n",
              "      <td>True</td>\n",
              "    </tr>\n",
              "    <tr>\n",
              "      <th>5</th>\n",
              "      <td>Milena</td>\n",
              "      <td>29</td>\n",
              "      <td>8.0</td>\n",
              "      <td>True</td>\n",
              "    </tr>\n",
              "    <tr>\n",
              "      <th>6</th>\n",
              "      <td>Nadia</td>\n",
              "      <td>34</td>\n",
              "      <td>8.0</td>\n",
              "      <td>Verdadero</td>\n",
              "    </tr>\n",
              "  </tbody>\n",
              "</table>\n",
              "</div>"
            ],
            "text/plain": [
              "     Nombre  Edad  Nota   Aprobado\n",
              "0   Alberto    20   7.5       True\n",
              "1     Brian    21  10.0       True\n",
              "2   Daniela    21   8.0       True\n",
              "3  Stephany    26  10.0       True\n",
              "4    Miriam    25   9.0       True\n",
              "5    Milena    29   8.0       True\n",
              "6     Nadia    34   8.0  Verdadero"
            ]
          },
          "execution_count": 413,
          "metadata": {},
          "output_type": "execute_result"
        }
      ],
      "source": [
        "pd.read_csv(url)"
      ]
    },
    {
      "cell_type": "markdown",
      "metadata": {
        "id": "torL4KD9uRdd"
      },
      "source": [
        "## **Demandas DEV**"
      ]
    },
    {
      "cell_type": "markdown",
      "metadata": {
        "id": "tXiolZZQuYiY"
      },
      "source": [
        "### Crear columnas numéricas"
      ]
    },
    {
      "cell_type": "markdown",
      "metadata": {
        "id": "yqXWVL_DujlZ"
      },
      "source": [
        "#### Crear columna valor_mensual"
      ]
    },
    {
      "cell_type": "markdown",
      "metadata": {
        "id": "CZyj0DqFuq0s"
      },
      "source": [
        "valor_mensual: Esta columna debe contener los gastos mensuales de cada propiedad, incluyendo el alquiler y el condominio."
      ]
    },
    {
      "cell_type": "code",
      "execution_count": 414,
      "metadata": {
        "colab": {
          "base_uri": "https://localhost:8080/",
          "height": 206
        },
        "id": "OASBGFdKuXhr",
        "outputId": "c85e1abb-0b7f-4ffa-8393-0e40ccddb2a8"
      },
      "outputs": [
        {
          "data": {
            "text/html": [
              "<div>\n",
              "<style scoped>\n",
              "    .dataframe tbody tr th:only-of-type {\n",
              "        vertical-align: middle;\n",
              "    }\n",
              "\n",
              "    .dataframe tbody tr th {\n",
              "        vertical-align: top;\n",
              "    }\n",
              "\n",
              "    .dataframe thead th {\n",
              "        text-align: right;\n",
              "    }\n",
              "</style>\n",
              "<table border=\"1\" class=\"dataframe\">\n",
              "  <thead>\n",
              "    <tr style=\"text-align: right;\">\n",
              "      <th></th>\n",
              "      <th>Tipo</th>\n",
              "      <th>Colonia</th>\n",
              "      <th>Habitaciones</th>\n",
              "      <th>Garages</th>\n",
              "      <th>Suites</th>\n",
              "      <th>Area</th>\n",
              "      <th>Valor</th>\n",
              "      <th>Condominio</th>\n",
              "      <th>Impuesto</th>\n",
              "      <th>valor_mensual</th>\n",
              "    </tr>\n",
              "  </thead>\n",
              "  <tbody>\n",
              "    <tr>\n",
              "      <th>0</th>\n",
              "      <td>Cocineta</td>\n",
              "      <td>Condesa</td>\n",
              "      <td>1</td>\n",
              "      <td>0</td>\n",
              "      <td>0</td>\n",
              "      <td>40</td>\n",
              "      <td>5950.0</td>\n",
              "      <td>1750.0</td>\n",
              "      <td>210.0</td>\n",
              "      <td>7700.0</td>\n",
              "    </tr>\n",
              "    <tr>\n",
              "      <th>1</th>\n",
              "      <td>Casa</td>\n",
              "      <td>Polanco</td>\n",
              "      <td>2</td>\n",
              "      <td>0</td>\n",
              "      <td>1</td>\n",
              "      <td>100</td>\n",
              "      <td>24500.0</td>\n",
              "      <td>NaN</td>\n",
              "      <td>NaN</td>\n",
              "      <td>NaN</td>\n",
              "    </tr>\n",
              "    <tr>\n",
              "      <th>2</th>\n",
              "      <td>Conjunto Comercial/Sala</td>\n",
              "      <td>Santa Fe</td>\n",
              "      <td>0</td>\n",
              "      <td>4</td>\n",
              "      <td>0</td>\n",
              "      <td>150</td>\n",
              "      <td>18200.0</td>\n",
              "      <td>14070.0</td>\n",
              "      <td>3888.5</td>\n",
              "      <td>32270.0</td>\n",
              "    </tr>\n",
              "    <tr>\n",
              "      <th>3</th>\n",
              "      <td>Departamento</td>\n",
              "      <td>Centro Histórico</td>\n",
              "      <td>1</td>\n",
              "      <td>0</td>\n",
              "      <td>0</td>\n",
              "      <td>15</td>\n",
              "      <td>2800.0</td>\n",
              "      <td>1365.0</td>\n",
              "      <td>70.0</td>\n",
              "      <td>4165.0</td>\n",
              "    </tr>\n",
              "    <tr>\n",
              "      <th>4</th>\n",
              "      <td>Departamento</td>\n",
              "      <td>Del Valle</td>\n",
              "      <td>1</td>\n",
              "      <td>0</td>\n",
              "      <td>0</td>\n",
              "      <td>48</td>\n",
              "      <td>2800.0</td>\n",
              "      <td>805.0</td>\n",
              "      <td>NaN</td>\n",
              "      <td>3605.0</td>\n",
              "    </tr>\n",
              "  </tbody>\n",
              "</table>\n",
              "</div>"
            ],
            "text/plain": [
              "                      Tipo           Colonia  Habitaciones  Garages  Suites  \\\n",
              "0                 Cocineta           Condesa             1        0       0   \n",
              "1                     Casa           Polanco             2        0       1   \n",
              "2  Conjunto Comercial/Sala          Santa Fe             0        4       0   \n",
              "3             Departamento  Centro Histórico             1        0       0   \n",
              "4             Departamento         Del Valle             1        0       0   \n",
              "\n",
              "   Area    Valor  Condominio  Impuesto  valor_mensual  \n",
              "0    40   5950.0      1750.0     210.0         7700.0  \n",
              "1   100  24500.0         NaN       NaN            NaN  \n",
              "2   150  18200.0     14070.0    3888.5        32270.0  \n",
              "3    15   2800.0      1365.0      70.0         4165.0  \n",
              "4    48   2800.0       805.0       NaN         3605.0  "
            ]
          },
          "execution_count": 414,
          "metadata": {},
          "output_type": "execute_result"
        }
      ],
      "source": [
        "datos['valor_mensual'] = datos['Valor'] + datos['Condominio']\n",
        "datos.head()"
      ]
    },
    {
      "cell_type": "markdown",
      "metadata": {
        "id": "fyhMVAG0viJ1"
      },
      "source": []
    },
    {
      "cell_type": "markdown",
      "metadata": {
        "id": "_q1mnh8yvkmU"
      },
      "source": [
        "#### Crear columna valor_anual"
      ]
    },
    {
      "cell_type": "markdown",
      "metadata": {
        "id": "DwW4T8Sswm4c"
      },
      "source": [
        "valor_anual: Esta columna debe contener los gastos anuales por propiedad, es decir, el Impuesto más 12 meses de alquiler y condominio."
      ]
    },
    {
      "cell_type": "code",
      "execution_count": 415,
      "metadata": {
        "colab": {
          "base_uri": "https://localhost:8080/",
          "height": 206
        },
        "id": "FPOAKDm2wpEE",
        "outputId": "e278f1cd-ffeb-4ffd-a3ba-dc3b0a28e145"
      },
      "outputs": [
        {
          "data": {
            "text/html": [
              "<div>\n",
              "<style scoped>\n",
              "    .dataframe tbody tr th:only-of-type {\n",
              "        vertical-align: middle;\n",
              "    }\n",
              "\n",
              "    .dataframe tbody tr th {\n",
              "        vertical-align: top;\n",
              "    }\n",
              "\n",
              "    .dataframe thead th {\n",
              "        text-align: right;\n",
              "    }\n",
              "</style>\n",
              "<table border=\"1\" class=\"dataframe\">\n",
              "  <thead>\n",
              "    <tr style=\"text-align: right;\">\n",
              "      <th></th>\n",
              "      <th>Tipo</th>\n",
              "      <th>Colonia</th>\n",
              "      <th>Habitaciones</th>\n",
              "      <th>Garages</th>\n",
              "      <th>Suites</th>\n",
              "      <th>Area</th>\n",
              "      <th>Valor</th>\n",
              "      <th>Condominio</th>\n",
              "      <th>Impuesto</th>\n",
              "      <th>valor_mensual</th>\n",
              "      <th>valor_anual</th>\n",
              "    </tr>\n",
              "  </thead>\n",
              "  <tbody>\n",
              "    <tr>\n",
              "      <th>0</th>\n",
              "      <td>Cocineta</td>\n",
              "      <td>Condesa</td>\n",
              "      <td>1</td>\n",
              "      <td>0</td>\n",
              "      <td>0</td>\n",
              "      <td>40</td>\n",
              "      <td>5950.0</td>\n",
              "      <td>1750.0</td>\n",
              "      <td>210.0</td>\n",
              "      <td>7700.0</td>\n",
              "      <td>92610.0</td>\n",
              "    </tr>\n",
              "    <tr>\n",
              "      <th>1</th>\n",
              "      <td>Casa</td>\n",
              "      <td>Polanco</td>\n",
              "      <td>2</td>\n",
              "      <td>0</td>\n",
              "      <td>1</td>\n",
              "      <td>100</td>\n",
              "      <td>24500.0</td>\n",
              "      <td>NaN</td>\n",
              "      <td>NaN</td>\n",
              "      <td>NaN</td>\n",
              "      <td>NaN</td>\n",
              "    </tr>\n",
              "    <tr>\n",
              "      <th>2</th>\n",
              "      <td>Conjunto Comercial/Sala</td>\n",
              "      <td>Santa Fe</td>\n",
              "      <td>0</td>\n",
              "      <td>4</td>\n",
              "      <td>0</td>\n",
              "      <td>150</td>\n",
              "      <td>18200.0</td>\n",
              "      <td>14070.0</td>\n",
              "      <td>3888.5</td>\n",
              "      <td>32270.0</td>\n",
              "      <td>391128.5</td>\n",
              "    </tr>\n",
              "    <tr>\n",
              "      <th>3</th>\n",
              "      <td>Departamento</td>\n",
              "      <td>Centro Histórico</td>\n",
              "      <td>1</td>\n",
              "      <td>0</td>\n",
              "      <td>0</td>\n",
              "      <td>15</td>\n",
              "      <td>2800.0</td>\n",
              "      <td>1365.0</td>\n",
              "      <td>70.0</td>\n",
              "      <td>4165.0</td>\n",
              "      <td>50050.0</td>\n",
              "    </tr>\n",
              "    <tr>\n",
              "      <th>4</th>\n",
              "      <td>Departamento</td>\n",
              "      <td>Del Valle</td>\n",
              "      <td>1</td>\n",
              "      <td>0</td>\n",
              "      <td>0</td>\n",
              "      <td>48</td>\n",
              "      <td>2800.0</td>\n",
              "      <td>805.0</td>\n",
              "      <td>NaN</td>\n",
              "      <td>3605.0</td>\n",
              "      <td>NaN</td>\n",
              "    </tr>\n",
              "  </tbody>\n",
              "</table>\n",
              "</div>"
            ],
            "text/plain": [
              "                      Tipo           Colonia  Habitaciones  Garages  Suites  \\\n",
              "0                 Cocineta           Condesa             1        0       0   \n",
              "1                     Casa           Polanco             2        0       1   \n",
              "2  Conjunto Comercial/Sala          Santa Fe             0        4       0   \n",
              "3             Departamento  Centro Histórico             1        0       0   \n",
              "4             Departamento         Del Valle             1        0       0   \n",
              "\n",
              "   Area    Valor  Condominio  Impuesto  valor_mensual  valor_anual  \n",
              "0    40   5950.0      1750.0     210.0         7700.0      92610.0  \n",
              "1   100  24500.0         NaN       NaN            NaN          NaN  \n",
              "2   150  18200.0     14070.0    3888.5        32270.0     391128.5  \n",
              "3    15   2800.0      1365.0      70.0         4165.0      50050.0  \n",
              "4    48   2800.0       805.0       NaN         3605.0          NaN  "
            ]
          },
          "execution_count": 415,
          "metadata": {},
          "output_type": "execute_result"
        }
      ],
      "source": [
        "datos['valor_anual'] =  datos['Impuesto'] + datos['valor_mensual'] * 12\n",
        "datos.head()\n"
      ]
    },
    {
      "cell_type": "markdown",
      "metadata": {
        "id": "F_XRSxJyyVRU"
      },
      "source": [
        "### Crear columnas categóricas"
      ]
    },
    {
      "cell_type": "markdown",
      "metadata": {
        "id": "6dkBeETfyYx-"
      },
      "source": [
        "#### Crear la columna Descripcion"
      ]
    },
    {
      "cell_type": "markdown",
      "metadata": {
        "id": "ruL8PadVyenT"
      },
      "source": [
        "Descripcion: Esta columna debe contener un resumen de la información clave de las propiedades que se mostrarán en el sitio web: tipo de propiedad, barrio, cantidad de habitaciones y plazas de estacionamiento."
      ]
    },
    {
      "cell_type": "markdown",
      "metadata": {
        "id": "eGCJ0ZBp1Tyh"
      },
      "source": []
    },
    {
      "cell_type": "code",
      "execution_count": 416,
      "metadata": {
        "colab": {
          "base_uri": "https://localhost:8080/",
          "height": 408
        },
        "id": "s31HYEeLylu2",
        "outputId": "63e71e30-fa4a-4d1f-d03f-553e116db7ac"
      },
      "outputs": [
        {
          "ename": "TypeError",
          "evalue": "can only concatenate str (not \"int\") to str",
          "output_type": "error",
          "traceback": [
            "\u001b[0;31m---------------------------------------------------------------------------\u001b[0m",
            "\u001b[0;31mTypeError\u001b[0m                                 Traceback (most recent call last)",
            "File \u001b[0;32m~/Documentos/Repositorios/Data_Science_Notebooks/venv/lib/python3.10/site-packages/pandas/core/ops/array_ops.py:218\u001b[0m, in \u001b[0;36m_na_arithmetic_op\u001b[0;34m(left, right, op, is_cmp)\u001b[0m\n\u001b[1;32m    217\u001b[0m \u001b[38;5;28;01mtry\u001b[39;00m:\n\u001b[0;32m--> 218\u001b[0m     result \u001b[38;5;241m=\u001b[39m \u001b[43mfunc\u001b[49m\u001b[43m(\u001b[49m\u001b[43mleft\u001b[49m\u001b[43m,\u001b[49m\u001b[43m \u001b[49m\u001b[43mright\u001b[49m\u001b[43m)\u001b[49m\n\u001b[1;32m    219\u001b[0m \u001b[38;5;28;01mexcept\u001b[39;00m \u001b[38;5;167;01mTypeError\u001b[39;00m:\n",
            "File \u001b[0;32m~/Documentos/Repositorios/Data_Science_Notebooks/venv/lib/python3.10/site-packages/pandas/core/computation/expressions.py:242\u001b[0m, in \u001b[0;36mevaluate\u001b[0;34m(op, a, b, use_numexpr)\u001b[0m\n\u001b[1;32m    240\u001b[0m     \u001b[38;5;28;01mif\u001b[39;00m use_numexpr:\n\u001b[1;32m    241\u001b[0m         \u001b[38;5;66;03m# error: \"None\" not callable\u001b[39;00m\n\u001b[0;32m--> 242\u001b[0m         \u001b[38;5;28;01mreturn\u001b[39;00m \u001b[43m_evaluate\u001b[49m\u001b[43m(\u001b[49m\u001b[43mop\u001b[49m\u001b[43m,\u001b[49m\u001b[43m \u001b[49m\u001b[43mop_str\u001b[49m\u001b[43m,\u001b[49m\u001b[43m \u001b[49m\u001b[43ma\u001b[49m\u001b[43m,\u001b[49m\u001b[43m \u001b[49m\u001b[43mb\u001b[49m\u001b[43m)\u001b[49m  \u001b[38;5;66;03m# type: ignore[misc]\u001b[39;00m\n\u001b[1;32m    243\u001b[0m \u001b[38;5;28;01mreturn\u001b[39;00m _evaluate_standard(op, op_str, a, b)\n",
            "File \u001b[0;32m~/Documentos/Repositorios/Data_Science_Notebooks/venv/lib/python3.10/site-packages/pandas/core/computation/expressions.py:73\u001b[0m, in \u001b[0;36m_evaluate_standard\u001b[0;34m(op, op_str, a, b)\u001b[0m\n\u001b[1;32m     72\u001b[0m     _store_test_result(\u001b[38;5;28;01mFalse\u001b[39;00m)\n\u001b[0;32m---> 73\u001b[0m \u001b[38;5;28;01mreturn\u001b[39;00m \u001b[43mop\u001b[49m\u001b[43m(\u001b[49m\u001b[43ma\u001b[49m\u001b[43m,\u001b[49m\u001b[43m \u001b[49m\u001b[43mb\u001b[49m\u001b[43m)\u001b[49m\n",
            "\u001b[0;31mTypeError\u001b[0m: can only concatenate str (not \"int\") to str",
            "\nDuring handling of the above exception, another exception occurred:\n",
            "\u001b[0;31mTypeError\u001b[0m                                 Traceback (most recent call last)",
            "Cell \u001b[0;32mIn[416], line 1\u001b[0m\n\u001b[0;32m----> 1\u001b[0m datos[\u001b[38;5;124m'\u001b[39m\u001b[38;5;124mDescripcion\u001b[39m\u001b[38;5;124m'\u001b[39m] \u001b[38;5;241m=\u001b[39m \u001b[43mdatos\u001b[49m\u001b[43m[\u001b[49m\u001b[38;5;124;43m\"\u001b[39;49m\u001b[38;5;124;43mTipo\u001b[39;49m\u001b[38;5;124;43m\"\u001b[39;49m\u001b[43m]\u001b[49m\u001b[38;5;241;43m+\u001b[39;49m\u001b[38;5;124;43m'\u001b[39;49m\u001b[38;5;124;43m, situada en \u001b[39;49m\u001b[38;5;124;43m'\u001b[39;49m\u001b[38;5;241;43m+\u001b[39;49m\u001b[43mdatos\u001b[49m\u001b[43m[\u001b[49m\u001b[38;5;124;43m\"\u001b[39;49m\u001b[38;5;124;43mColonia\u001b[39;49m\u001b[38;5;124;43m\"\u001b[39;49m\u001b[43m]\u001b[49m\u001b[43m \u001b[49m\u001b[38;5;241;43m+\u001b[39;49m\u001b[38;5;124;43m'\u001b[39;49m\u001b[38;5;124;43m. Posee \u001b[39;49m\u001b[38;5;124;43m'\u001b[39;49m\u001b[38;5;241;43m+\u001b[39;49m\u001b[43m \u001b[49m\u001b[43mdatos\u001b[49m\u001b[43m[\u001b[49m\u001b[38;5;124;43m\"\u001b[39;49m\u001b[38;5;124;43mHabitaciones\u001b[39;49m\u001b[38;5;124;43m\"\u001b[39;49m\u001b[43m]\u001b[49m \u001b[38;5;241m+\u001b[39m\u001b[38;5;124m'\u001b[39m\u001b[38;5;124m habitaciones y \u001b[39m\u001b[38;5;124m'\u001b[39m\u001b[38;5;241m+\u001b[39m datos[\u001b[38;5;124m\"\u001b[39m\u001b[38;5;124mGarages\u001b[39m\u001b[38;5;124m\"\u001b[39m]\u001b[38;5;241m+\u001b[39m\u001b[38;5;124m'\u001b[39m\u001b[38;5;124m plazas de estacionamiento\u001b[39m\u001b[38;5;124m'\u001b[39m\n\u001b[1;32m      2\u001b[0m datos\n",
            "File \u001b[0;32m~/Documentos/Repositorios/Data_Science_Notebooks/venv/lib/python3.10/site-packages/pandas/core/ops/common.py:76\u001b[0m, in \u001b[0;36m_unpack_zerodim_and_defer.<locals>.new_method\u001b[0;34m(self, other)\u001b[0m\n\u001b[1;32m     72\u001b[0m             \u001b[38;5;28;01mreturn\u001b[39;00m \u001b[38;5;28mNotImplemented\u001b[39m\n\u001b[1;32m     74\u001b[0m other \u001b[38;5;241m=\u001b[39m item_from_zerodim(other)\n\u001b[0;32m---> 76\u001b[0m \u001b[38;5;28;01mreturn\u001b[39;00m \u001b[43mmethod\u001b[49m\u001b[43m(\u001b[49m\u001b[38;5;28;43mself\u001b[39;49m\u001b[43m,\u001b[49m\u001b[43m \u001b[49m\u001b[43mother\u001b[49m\u001b[43m)\u001b[49m\n",
            "File \u001b[0;32m~/Documentos/Repositorios/Data_Science_Notebooks/venv/lib/python3.10/site-packages/pandas/core/arraylike.py:186\u001b[0m, in \u001b[0;36mOpsMixin.__add__\u001b[0;34m(self, other)\u001b[0m\n\u001b[1;32m     98\u001b[0m \u001b[38;5;129m@unpack_zerodim_and_defer\u001b[39m(\u001b[38;5;124m\"\u001b[39m\u001b[38;5;124m__add__\u001b[39m\u001b[38;5;124m\"\u001b[39m)\n\u001b[1;32m     99\u001b[0m \u001b[38;5;28;01mdef\u001b[39;00m\u001b[38;5;250m \u001b[39m\u001b[38;5;21m__add__\u001b[39m(\u001b[38;5;28mself\u001b[39m, other):\n\u001b[1;32m    100\u001b[0m \u001b[38;5;250m    \u001b[39m\u001b[38;5;124;03m\"\"\"\u001b[39;00m\n\u001b[1;32m    101\u001b[0m \u001b[38;5;124;03m    Get Addition of DataFrame and other, column-wise.\u001b[39;00m\n\u001b[1;32m    102\u001b[0m \n\u001b[0;32m   (...)\u001b[0m\n\u001b[1;32m    184\u001b[0m \u001b[38;5;124;03m    moose     3.0     NaN\u001b[39;00m\n\u001b[1;32m    185\u001b[0m \u001b[38;5;124;03m    \"\"\"\u001b[39;00m\n\u001b[0;32m--> 186\u001b[0m     \u001b[38;5;28;01mreturn\u001b[39;00m \u001b[38;5;28;43mself\u001b[39;49m\u001b[38;5;241;43m.\u001b[39;49m\u001b[43m_arith_method\u001b[49m\u001b[43m(\u001b[49m\u001b[43mother\u001b[49m\u001b[43m,\u001b[49m\u001b[43m \u001b[49m\u001b[43moperator\u001b[49m\u001b[38;5;241;43m.\u001b[39;49m\u001b[43madd\u001b[49m\u001b[43m)\u001b[49m\n",
            "File \u001b[0;32m~/Documentos/Repositorios/Data_Science_Notebooks/venv/lib/python3.10/site-packages/pandas/core/series.py:6146\u001b[0m, in \u001b[0;36mSeries._arith_method\u001b[0;34m(self, other, op)\u001b[0m\n\u001b[1;32m   6144\u001b[0m \u001b[38;5;28;01mdef\u001b[39;00m\u001b[38;5;250m \u001b[39m\u001b[38;5;21m_arith_method\u001b[39m(\u001b[38;5;28mself\u001b[39m, other, op):\n\u001b[1;32m   6145\u001b[0m     \u001b[38;5;28mself\u001b[39m, other \u001b[38;5;241m=\u001b[39m \u001b[38;5;28mself\u001b[39m\u001b[38;5;241m.\u001b[39m_align_for_op(other)\n\u001b[0;32m-> 6146\u001b[0m     \u001b[38;5;28;01mreturn\u001b[39;00m \u001b[43mbase\u001b[49m\u001b[38;5;241;43m.\u001b[39;49m\u001b[43mIndexOpsMixin\u001b[49m\u001b[38;5;241;43m.\u001b[39;49m\u001b[43m_arith_method\u001b[49m\u001b[43m(\u001b[49m\u001b[38;5;28;43mself\u001b[39;49m\u001b[43m,\u001b[49m\u001b[43m \u001b[49m\u001b[43mother\u001b[49m\u001b[43m,\u001b[49m\u001b[43m \u001b[49m\u001b[43mop\u001b[49m\u001b[43m)\u001b[49m\n",
            "File \u001b[0;32m~/Documentos/Repositorios/Data_Science_Notebooks/venv/lib/python3.10/site-packages/pandas/core/base.py:1391\u001b[0m, in \u001b[0;36mIndexOpsMixin._arith_method\u001b[0;34m(self, other, op)\u001b[0m\n\u001b[1;32m   1388\u001b[0m     rvalues \u001b[38;5;241m=\u001b[39m np\u001b[38;5;241m.\u001b[39marange(rvalues\u001b[38;5;241m.\u001b[39mstart, rvalues\u001b[38;5;241m.\u001b[39mstop, rvalues\u001b[38;5;241m.\u001b[39mstep)\n\u001b[1;32m   1390\u001b[0m \u001b[38;5;28;01mwith\u001b[39;00m np\u001b[38;5;241m.\u001b[39merrstate(\u001b[38;5;28mall\u001b[39m\u001b[38;5;241m=\u001b[39m\u001b[38;5;124m\"\u001b[39m\u001b[38;5;124mignore\u001b[39m\u001b[38;5;124m\"\u001b[39m):\n\u001b[0;32m-> 1391\u001b[0m     result \u001b[38;5;241m=\u001b[39m \u001b[43mops\u001b[49m\u001b[38;5;241;43m.\u001b[39;49m\u001b[43marithmetic_op\u001b[49m\u001b[43m(\u001b[49m\u001b[43mlvalues\u001b[49m\u001b[43m,\u001b[49m\u001b[43m \u001b[49m\u001b[43mrvalues\u001b[49m\u001b[43m,\u001b[49m\u001b[43m \u001b[49m\u001b[43mop\u001b[49m\u001b[43m)\u001b[49m\n\u001b[1;32m   1393\u001b[0m \u001b[38;5;28;01mreturn\u001b[39;00m \u001b[38;5;28mself\u001b[39m\u001b[38;5;241m.\u001b[39m_construct_result(result, name\u001b[38;5;241m=\u001b[39mres_name)\n",
            "File \u001b[0;32m~/Documentos/Repositorios/Data_Science_Notebooks/venv/lib/python3.10/site-packages/pandas/core/ops/array_ops.py:283\u001b[0m, in \u001b[0;36marithmetic_op\u001b[0;34m(left, right, op)\u001b[0m\n\u001b[1;32m    279\u001b[0m     _bool_arith_check(op, left, right)  \u001b[38;5;66;03m# type: ignore[arg-type]\u001b[39;00m\n\u001b[1;32m    281\u001b[0m     \u001b[38;5;66;03m# error: Argument 1 to \"_na_arithmetic_op\" has incompatible type\u001b[39;00m\n\u001b[1;32m    282\u001b[0m     \u001b[38;5;66;03m# \"Union[ExtensionArray, ndarray[Any, Any]]\"; expected \"ndarray[Any, Any]\"\u001b[39;00m\n\u001b[0;32m--> 283\u001b[0m     res_values \u001b[38;5;241m=\u001b[39m \u001b[43m_na_arithmetic_op\u001b[49m\u001b[43m(\u001b[49m\u001b[43mleft\u001b[49m\u001b[43m,\u001b[49m\u001b[43m \u001b[49m\u001b[43mright\u001b[49m\u001b[43m,\u001b[49m\u001b[43m \u001b[49m\u001b[43mop\u001b[49m\u001b[43m)\u001b[49m  \u001b[38;5;66;03m# type: ignore[arg-type]\u001b[39;00m\n\u001b[1;32m    285\u001b[0m \u001b[38;5;28;01mreturn\u001b[39;00m res_values\n",
            "File \u001b[0;32m~/Documentos/Repositorios/Data_Science_Notebooks/venv/lib/python3.10/site-packages/pandas/core/ops/array_ops.py:227\u001b[0m, in \u001b[0;36m_na_arithmetic_op\u001b[0;34m(left, right, op, is_cmp)\u001b[0m\n\u001b[1;32m    219\u001b[0m \u001b[38;5;28;01mexcept\u001b[39;00m \u001b[38;5;167;01mTypeError\u001b[39;00m:\n\u001b[1;32m    220\u001b[0m     \u001b[38;5;28;01mif\u001b[39;00m \u001b[38;5;129;01mnot\u001b[39;00m is_cmp \u001b[38;5;129;01mand\u001b[39;00m (\n\u001b[1;32m    221\u001b[0m         left\u001b[38;5;241m.\u001b[39mdtype \u001b[38;5;241m==\u001b[39m \u001b[38;5;28mobject\u001b[39m \u001b[38;5;129;01mor\u001b[39;00m \u001b[38;5;28mgetattr\u001b[39m(right, \u001b[38;5;124m\"\u001b[39m\u001b[38;5;124mdtype\u001b[39m\u001b[38;5;124m\"\u001b[39m, \u001b[38;5;28;01mNone\u001b[39;00m) \u001b[38;5;241m==\u001b[39m \u001b[38;5;28mobject\u001b[39m\n\u001b[1;32m    222\u001b[0m     ):\n\u001b[0;32m   (...)\u001b[0m\n\u001b[1;32m    225\u001b[0m         \u001b[38;5;66;03m# Don't do this for comparisons, as that will handle complex numbers\u001b[39;00m\n\u001b[1;32m    226\u001b[0m         \u001b[38;5;66;03m#  incorrectly, see GH#32047\u001b[39;00m\n\u001b[0;32m--> 227\u001b[0m         result \u001b[38;5;241m=\u001b[39m \u001b[43m_masked_arith_op\u001b[49m\u001b[43m(\u001b[49m\u001b[43mleft\u001b[49m\u001b[43m,\u001b[49m\u001b[43m \u001b[49m\u001b[43mright\u001b[49m\u001b[43m,\u001b[49m\u001b[43m \u001b[49m\u001b[43mop\u001b[49m\u001b[43m)\u001b[49m\n\u001b[1;32m    228\u001b[0m     \u001b[38;5;28;01melse\u001b[39;00m:\n\u001b[1;32m    229\u001b[0m         \u001b[38;5;28;01mraise\u001b[39;00m\n",
            "File \u001b[0;32m~/Documentos/Repositorios/Data_Science_Notebooks/venv/lib/python3.10/site-packages/pandas/core/ops/array_ops.py:163\u001b[0m, in \u001b[0;36m_masked_arith_op\u001b[0;34m(x, y, op)\u001b[0m\n\u001b[1;32m    161\u001b[0m     \u001b[38;5;66;03m# See GH#5284, GH#5035, GH#19448 for historical reference\u001b[39;00m\n\u001b[1;32m    162\u001b[0m     \u001b[38;5;28;01mif\u001b[39;00m mask\u001b[38;5;241m.\u001b[39many():\n\u001b[0;32m--> 163\u001b[0m         result[mask] \u001b[38;5;241m=\u001b[39m \u001b[43mop\u001b[49m\u001b[43m(\u001b[49m\u001b[43mxrav\u001b[49m\u001b[43m[\u001b[49m\u001b[43mmask\u001b[49m\u001b[43m]\u001b[49m\u001b[43m,\u001b[49m\u001b[43m \u001b[49m\u001b[43myrav\u001b[49m\u001b[43m[\u001b[49m\u001b[43mmask\u001b[49m\u001b[43m]\u001b[49m\u001b[43m)\u001b[49m\n\u001b[1;32m    165\u001b[0m \u001b[38;5;28;01melse\u001b[39;00m:\n\u001b[1;32m    166\u001b[0m     \u001b[38;5;28;01mif\u001b[39;00m \u001b[38;5;129;01mnot\u001b[39;00m is_scalar(y):\n",
            "\u001b[0;31mTypeError\u001b[0m: can only concatenate str (not \"int\") to str"
          ]
        }
      ],
      "source": [
        "datos['Descripcion'] = datos[\"Tipo\"]+', situada en '+datos[\"Colonia\"] +'. Posee '+ datos[\"Habitaciones\"] +' habitaciones y '+ datos[\"Garages\"]+' plazas de estacionamiento'\n",
        "datos"
      ]
    },
    {
      "cell_type": "code",
      "execution_count": 417,
      "metadata": {
        "colab": {
          "base_uri": "https://localhost:8080/",
          "height": 424
        },
        "id": "EPg_-ly62XND",
        "outputId": "4ee74522-08bb-4fff-89da-db4165f92a22"
      },
      "outputs": [
        {
          "data": {
            "text/html": [
              "<div>\n",
              "<style scoped>\n",
              "    .dataframe tbody tr th:only-of-type {\n",
              "        vertical-align: middle;\n",
              "    }\n",
              "\n",
              "    .dataframe tbody tr th {\n",
              "        vertical-align: top;\n",
              "    }\n",
              "\n",
              "    .dataframe thead th {\n",
              "        text-align: right;\n",
              "    }\n",
              "</style>\n",
              "<table border=\"1\" class=\"dataframe\">\n",
              "  <thead>\n",
              "    <tr style=\"text-align: right;\">\n",
              "      <th></th>\n",
              "      <th>Tipo</th>\n",
              "      <th>Colonia</th>\n",
              "      <th>Habitaciones</th>\n",
              "      <th>Garages</th>\n",
              "      <th>Suites</th>\n",
              "      <th>Area</th>\n",
              "      <th>Valor</th>\n",
              "      <th>Condominio</th>\n",
              "      <th>Impuesto</th>\n",
              "      <th>valor_mensual</th>\n",
              "      <th>valor_anual</th>\n",
              "      <th>Descripcion</th>\n",
              "    </tr>\n",
              "  </thead>\n",
              "  <tbody>\n",
              "    <tr>\n",
              "      <th>0</th>\n",
              "      <td>Cocineta</td>\n",
              "      <td>Condesa</td>\n",
              "      <td>1</td>\n",
              "      <td>0</td>\n",
              "      <td>0</td>\n",
              "      <td>40</td>\n",
              "      <td>5950.0</td>\n",
              "      <td>1750.0</td>\n",
              "      <td>210.0</td>\n",
              "      <td>7700.0</td>\n",
              "      <td>92610.0</td>\n",
              "      <td>Propiedad tipo Cocineta, situada en Condesa. P...</td>\n",
              "    </tr>\n",
              "    <tr>\n",
              "      <th>1</th>\n",
              "      <td>Casa</td>\n",
              "      <td>Polanco</td>\n",
              "      <td>2</td>\n",
              "      <td>0</td>\n",
              "      <td>1</td>\n",
              "      <td>100</td>\n",
              "      <td>24500.0</td>\n",
              "      <td>NaN</td>\n",
              "      <td>NaN</td>\n",
              "      <td>NaN</td>\n",
              "      <td>NaN</td>\n",
              "      <td>Propiedad tipo Casa, situada en Polanco. Posee...</td>\n",
              "    </tr>\n",
              "    <tr>\n",
              "      <th>2</th>\n",
              "      <td>Conjunto Comercial/Sala</td>\n",
              "      <td>Santa Fe</td>\n",
              "      <td>0</td>\n",
              "      <td>4</td>\n",
              "      <td>0</td>\n",
              "      <td>150</td>\n",
              "      <td>18200.0</td>\n",
              "      <td>14070.0</td>\n",
              "      <td>3888.5</td>\n",
              "      <td>32270.0</td>\n",
              "      <td>391128.5</td>\n",
              "      <td>Propiedad tipo Conjunto Comercial/Sala, situad...</td>\n",
              "    </tr>\n",
              "    <tr>\n",
              "      <th>3</th>\n",
              "      <td>Departamento</td>\n",
              "      <td>Centro Histórico</td>\n",
              "      <td>1</td>\n",
              "      <td>0</td>\n",
              "      <td>0</td>\n",
              "      <td>15</td>\n",
              "      <td>2800.0</td>\n",
              "      <td>1365.0</td>\n",
              "      <td>70.0</td>\n",
              "      <td>4165.0</td>\n",
              "      <td>50050.0</td>\n",
              "      <td>Propiedad tipo Departamento, situada en Centro...</td>\n",
              "    </tr>\n",
              "    <tr>\n",
              "      <th>4</th>\n",
              "      <td>Departamento</td>\n",
              "      <td>Del Valle</td>\n",
              "      <td>1</td>\n",
              "      <td>0</td>\n",
              "      <td>0</td>\n",
              "      <td>48</td>\n",
              "      <td>2800.0</td>\n",
              "      <td>805.0</td>\n",
              "      <td>NaN</td>\n",
              "      <td>3605.0</td>\n",
              "      <td>NaN</td>\n",
              "      <td>Propiedad tipo Departamento, situada en Del Va...</td>\n",
              "    </tr>\n",
              "    <tr>\n",
              "      <th>...</th>\n",
              "      <td>...</td>\n",
              "      <td>...</td>\n",
              "      <td>...</td>\n",
              "      <td>...</td>\n",
              "      <td>...</td>\n",
              "      <td>...</td>\n",
              "      <td>...</td>\n",
              "      <td>...</td>\n",
              "      <td>...</td>\n",
              "      <td>...</td>\n",
              "      <td>...</td>\n",
              "      <td>...</td>\n",
              "    </tr>\n",
              "    <tr>\n",
              "      <th>25116</th>\n",
              "      <td>Cochera/Estacionamiento</td>\n",
              "      <td>Centro Histórico</td>\n",
              "      <td>0</td>\n",
              "      <td>0</td>\n",
              "      <td>0</td>\n",
              "      <td>755</td>\n",
              "      <td>49000.0</td>\n",
              "      <td>NaN</td>\n",
              "      <td>NaN</td>\n",
              "      <td>NaN</td>\n",
              "      <td>NaN</td>\n",
              "      <td>Propiedad tipo Cochera/Estacionamiento, situad...</td>\n",
              "    </tr>\n",
              "    <tr>\n",
              "      <th>25117</th>\n",
              "      <td>Cocineta</td>\n",
              "      <td>Centro Histórico</td>\n",
              "      <td>0</td>\n",
              "      <td>0</td>\n",
              "      <td>0</td>\n",
              "      <td>27</td>\n",
              "      <td>2800.0</td>\n",
              "      <td>1225.0</td>\n",
              "      <td>87.5</td>\n",
              "      <td>4025.0</td>\n",
              "      <td>48387.5</td>\n",
              "      <td>Propiedad tipo Cocineta, situada en Centro His...</td>\n",
              "    </tr>\n",
              "    <tr>\n",
              "      <th>25118</th>\n",
              "      <td>Departamento</td>\n",
              "      <td>Mixcoac</td>\n",
              "      <td>2</td>\n",
              "      <td>1</td>\n",
              "      <td>0</td>\n",
              "      <td>48</td>\n",
              "      <td>4900.0</td>\n",
              "      <td>1781.5</td>\n",
              "      <td>129.5</td>\n",
              "      <td>6681.5</td>\n",
              "      <td>80307.5</td>\n",
              "      <td>Propiedad tipo Departamento, situada en Mixcoa...</td>\n",
              "    </tr>\n",
              "    <tr>\n",
              "      <th>25119</th>\n",
              "      <td>Departamento</td>\n",
              "      <td>Lomas de Chapultepec</td>\n",
              "      <td>2</td>\n",
              "      <td>0</td>\n",
              "      <td>0</td>\n",
              "      <td>70</td>\n",
              "      <td>10500.0</td>\n",
              "      <td>2660.0</td>\n",
              "      <td>NaN</td>\n",
              "      <td>13160.0</td>\n",
              "      <td>NaN</td>\n",
              "      <td>Propiedad tipo Departamento, situada en Lomas ...</td>\n",
              "    </tr>\n",
              "    <tr>\n",
              "      <th>25120</th>\n",
              "      <td>Conjunto Comercial/Sala</td>\n",
              "      <td>Centro Histórico</td>\n",
              "      <td>0</td>\n",
              "      <td>0</td>\n",
              "      <td>0</td>\n",
              "      <td>250</td>\n",
              "      <td>22750.0</td>\n",
              "      <td>14721.0</td>\n",
              "      <td>3881.5</td>\n",
              "      <td>37471.0</td>\n",
              "      <td>453533.5</td>\n",
              "      <td>Propiedad tipo Conjunto Comercial/Sala, situad...</td>\n",
              "    </tr>\n",
              "  </tbody>\n",
              "</table>\n",
              "<p>25121 rows × 12 columns</p>\n",
              "</div>"
            ],
            "text/plain": [
              "                          Tipo               Colonia  Habitaciones  Garages  \\\n",
              "0                     Cocineta               Condesa             1        0   \n",
              "1                         Casa               Polanco             2        0   \n",
              "2      Conjunto Comercial/Sala              Santa Fe             0        4   \n",
              "3                 Departamento      Centro Histórico             1        0   \n",
              "4                 Departamento             Del Valle             1        0   \n",
              "...                        ...                   ...           ...      ...   \n",
              "25116  Cochera/Estacionamiento      Centro Histórico             0        0   \n",
              "25117                 Cocineta      Centro Histórico             0        0   \n",
              "25118             Departamento               Mixcoac             2        1   \n",
              "25119             Departamento  Lomas de Chapultepec             2        0   \n",
              "25120  Conjunto Comercial/Sala      Centro Histórico             0        0   \n",
              "\n",
              "       Suites  Area    Valor  Condominio  Impuesto  valor_mensual  \\\n",
              "0           0    40   5950.0      1750.0     210.0         7700.0   \n",
              "1           1   100  24500.0         NaN       NaN            NaN   \n",
              "2           0   150  18200.0     14070.0    3888.5        32270.0   \n",
              "3           0    15   2800.0      1365.0      70.0         4165.0   \n",
              "4           0    48   2800.0       805.0       NaN         3605.0   \n",
              "...       ...   ...      ...         ...       ...            ...   \n",
              "25116       0   755  49000.0         NaN       NaN            NaN   \n",
              "25117       0    27   2800.0      1225.0      87.5         4025.0   \n",
              "25118       0    48   4900.0      1781.5     129.5         6681.5   \n",
              "25119       0    70  10500.0      2660.0       NaN        13160.0   \n",
              "25120       0   250  22750.0     14721.0    3881.5        37471.0   \n",
              "\n",
              "       valor_anual                                        Descripcion  \n",
              "0          92610.0  Propiedad tipo Cocineta, situada en Condesa. P...  \n",
              "1              NaN  Propiedad tipo Casa, situada en Polanco. Posee...  \n",
              "2         391128.5  Propiedad tipo Conjunto Comercial/Sala, situad...  \n",
              "3          50050.0  Propiedad tipo Departamento, situada en Centro...  \n",
              "4              NaN  Propiedad tipo Departamento, situada en Del Va...  \n",
              "...            ...                                                ...  \n",
              "25116          NaN  Propiedad tipo Cochera/Estacionamiento, situad...  \n",
              "25117      48387.5  Propiedad tipo Cocineta, situada en Centro His...  \n",
              "25118      80307.5  Propiedad tipo Departamento, situada en Mixcoa...  \n",
              "25119          NaN  Propiedad tipo Departamento, situada en Lomas ...  \n",
              "25120     453533.5  Propiedad tipo Conjunto Comercial/Sala, situad...  \n",
              "\n",
              "[25121 rows x 12 columns]"
            ]
          },
          "execution_count": 417,
          "metadata": {},
          "output_type": "execute_result"
        }
      ],
      "source": [
        "datos['Descripcion'] = 'Propiedad tipo ' + datos[\"Tipo\"]+', situada en '+ datos[\"Colonia\"] +'. Posee '+ datos[\"Habitaciones\"].astype(str) +' habitacion(es) y '+ datos[\"Garages\"].astype(str) +' plaza(s) de estacionamiento'\n",
        "datos     # Manejo de error"
      ]
    },
    {
      "cell_type": "code",
      "execution_count": 419,
      "metadata": {
        "colab": {
          "base_uri": "https://localhost:8080/",
          "height": 35
        },
        "id": "xgBnu8lQ3SWm",
        "outputId": "464d7854-4532-4d2c-bea1-4df024d59719"
      },
      "outputs": [
        {
          "data": {
            "text/plain": [
              "'Propiedad tipo Departamento, situada en Condesa. Posee 4 habitacion(es) y 1 plaza(s) de estacionamiento'"
            ]
          },
          "execution_count": 419,
          "metadata": {},
          "output_type": "execute_result"
        }
      ],
      "source": [
        "datos.iloc[29].Descripcion"
      ]
    },
    {
      "cell_type": "markdown",
      "metadata": {
        "id": "aQzqc9-S0epe"
      },
      "source": [
        "#### Crear columna Tiene_suite"
      ]
    },
    {
      "cell_type": "markdown",
      "metadata": {
        "id": "PzvIVWuz0n2f"
      },
      "source": [
        "Tiene_suite: Esta debe ser una columna que indique únicamente si la propiedad tiene o no suites, sin importar la cantidad"
      ]
    },
    {
      "cell_type": "code",
      "execution_count": 420,
      "metadata": {
        "colab": {
          "base_uri": "https://localhost:8080/",
          "height": 206
        },
        "id": "3HBptyo94EQn",
        "outputId": "f854c517-c60b-47ee-f2cf-5e1235414d65"
      },
      "outputs": [
        {
          "data": {
            "text/html": [
              "<div>\n",
              "<style scoped>\n",
              "    .dataframe tbody tr th:only-of-type {\n",
              "        vertical-align: middle;\n",
              "    }\n",
              "\n",
              "    .dataframe tbody tr th {\n",
              "        vertical-align: top;\n",
              "    }\n",
              "\n",
              "    .dataframe thead th {\n",
              "        text-align: right;\n",
              "    }\n",
              "</style>\n",
              "<table border=\"1\" class=\"dataframe\">\n",
              "  <thead>\n",
              "    <tr style=\"text-align: right;\">\n",
              "      <th></th>\n",
              "      <th>Tipo</th>\n",
              "      <th>Colonia</th>\n",
              "      <th>Habitaciones</th>\n",
              "      <th>Garages</th>\n",
              "      <th>Suites</th>\n",
              "      <th>Area</th>\n",
              "      <th>Valor</th>\n",
              "      <th>Condominio</th>\n",
              "      <th>Impuesto</th>\n",
              "      <th>valor_mensual</th>\n",
              "      <th>valor_anual</th>\n",
              "      <th>Descripcion</th>\n",
              "      <th>Tine_suit</th>\n",
              "    </tr>\n",
              "  </thead>\n",
              "  <tbody>\n",
              "    <tr>\n",
              "      <th>0</th>\n",
              "      <td>Cocineta</td>\n",
              "      <td>Condesa</td>\n",
              "      <td>1</td>\n",
              "      <td>0</td>\n",
              "      <td>0</td>\n",
              "      <td>40</td>\n",
              "      <td>5950.0</td>\n",
              "      <td>1750.0</td>\n",
              "      <td>210.0</td>\n",
              "      <td>7700.0</td>\n",
              "      <td>92610.0</td>\n",
              "      <td>Propiedad tipo Cocineta, situada en Condesa. P...</td>\n",
              "      <td>No</td>\n",
              "    </tr>\n",
              "    <tr>\n",
              "      <th>1</th>\n",
              "      <td>Casa</td>\n",
              "      <td>Polanco</td>\n",
              "      <td>2</td>\n",
              "      <td>0</td>\n",
              "      <td>1</td>\n",
              "      <td>100</td>\n",
              "      <td>24500.0</td>\n",
              "      <td>NaN</td>\n",
              "      <td>NaN</td>\n",
              "      <td>NaN</td>\n",
              "      <td>NaN</td>\n",
              "      <td>Propiedad tipo Casa, situada en Polanco. Posee...</td>\n",
              "      <td>Si</td>\n",
              "    </tr>\n",
              "    <tr>\n",
              "      <th>2</th>\n",
              "      <td>Conjunto Comercial/Sala</td>\n",
              "      <td>Santa Fe</td>\n",
              "      <td>0</td>\n",
              "      <td>4</td>\n",
              "      <td>0</td>\n",
              "      <td>150</td>\n",
              "      <td>18200.0</td>\n",
              "      <td>14070.0</td>\n",
              "      <td>3888.5</td>\n",
              "      <td>32270.0</td>\n",
              "      <td>391128.5</td>\n",
              "      <td>Propiedad tipo Conjunto Comercial/Sala, situad...</td>\n",
              "      <td>No</td>\n",
              "    </tr>\n",
              "    <tr>\n",
              "      <th>3</th>\n",
              "      <td>Departamento</td>\n",
              "      <td>Centro Histórico</td>\n",
              "      <td>1</td>\n",
              "      <td>0</td>\n",
              "      <td>0</td>\n",
              "      <td>15</td>\n",
              "      <td>2800.0</td>\n",
              "      <td>1365.0</td>\n",
              "      <td>70.0</td>\n",
              "      <td>4165.0</td>\n",
              "      <td>50050.0</td>\n",
              "      <td>Propiedad tipo Departamento, situada en Centro...</td>\n",
              "      <td>No</td>\n",
              "    </tr>\n",
              "    <tr>\n",
              "      <th>4</th>\n",
              "      <td>Departamento</td>\n",
              "      <td>Del Valle</td>\n",
              "      <td>1</td>\n",
              "      <td>0</td>\n",
              "      <td>0</td>\n",
              "      <td>48</td>\n",
              "      <td>2800.0</td>\n",
              "      <td>805.0</td>\n",
              "      <td>NaN</td>\n",
              "      <td>3605.0</td>\n",
              "      <td>NaN</td>\n",
              "      <td>Propiedad tipo Departamento, situada en Del Va...</td>\n",
              "      <td>No</td>\n",
              "    </tr>\n",
              "  </tbody>\n",
              "</table>\n",
              "</div>"
            ],
            "text/plain": [
              "                      Tipo           Colonia  Habitaciones  Garages  Suites  \\\n",
              "0                 Cocineta           Condesa             1        0       0   \n",
              "1                     Casa           Polanco             2        0       1   \n",
              "2  Conjunto Comercial/Sala          Santa Fe             0        4       0   \n",
              "3             Departamento  Centro Histórico             1        0       0   \n",
              "4             Departamento         Del Valle             1        0       0   \n",
              "\n",
              "   Area    Valor  Condominio  Impuesto  valor_mensual  valor_anual  \\\n",
              "0    40   5950.0      1750.0     210.0         7700.0      92610.0   \n",
              "1   100  24500.0         NaN       NaN            NaN          NaN   \n",
              "2   150  18200.0     14070.0    3888.5        32270.0     391128.5   \n",
              "3    15   2800.0      1365.0      70.0         4165.0      50050.0   \n",
              "4    48   2800.0       805.0       NaN         3605.0          NaN   \n",
              "\n",
              "                                         Descripcion Tine_suit  \n",
              "0  Propiedad tipo Cocineta, situada en Condesa. P...        No  \n",
              "1  Propiedad tipo Casa, situada en Polanco. Posee...        Si  \n",
              "2  Propiedad tipo Conjunto Comercial/Sala, situad...        No  \n",
              "3  Propiedad tipo Departamento, situada en Centro...        No  \n",
              "4  Propiedad tipo Departamento, situada en Del Va...        No  "
            ]
          },
          "execution_count": 420,
          "metadata": {},
          "output_type": "execute_result"
        }
      ],
      "source": [
        "datos['Tine_suit'] = datos['Suites'].apply(lambda x: 'Si' if x > 0 else 'No')\n",
        "datos.head()"
      ]
    },
    {
      "cell_type": "code",
      "execution_count": 422,
      "metadata": {
        "id": "afq6ujcc5mXD"
      },
      "outputs": [],
      "source": [
        "#datos.to_csv('/content/drive/MyDrive/Pandas/alquiler_cdmx_DEV.csv', index=False, sep=';')"
      ]
    },
    {
      "cell_type": "code",
      "execution_count": null,
      "metadata": {
        "colab": {
          "base_uri": "https://localhost:8080/",
          "height": 597
        },
        "id": "2Ipk4Kzz7XLm",
        "outputId": "b95ca66b-cb10-4710-ada2-79dceae89442"
      },
      "outputs": [
        {
          "data": {
            "application/vnd.google.colaboratory.intrinsic+json": {
              "summary": "{\n  \"name\": \"pd\",\n  \"rows\": 25121,\n  \"fields\": [\n    {\n      \"column\": \"Tipo\",\n      \"properties\": {\n        \"dtype\": \"category\",\n        \"num_unique_values\": 21,\n        \"samples\": [\n          \"Cocineta\",\n          \"Estudio\",\n          \"Rancho\"\n        ],\n        \"semantic_type\": \"\",\n        \"description\": \"\"\n      }\n    },\n    {\n      \"column\": \"Colonia\",\n      \"properties\": {\n        \"dtype\": \"category\",\n        \"num_unique_values\": 88,\n        \"samples\": [\n          \"Roma Sur\",\n          \"Condesa\",\n          \"Bosques de Arag\\u00f3n\"\n        ],\n        \"semantic_type\": \"\",\n        \"description\": \"\"\n      }\n    },\n    {\n      \"column\": \"Habitaciones\",\n      \"properties\": {\n        \"dtype\": \"number\",\n        \"std\": 1,\n        \"min\": 0,\n        \"max\": 100,\n        \"num_unique_values\": 20,\n        \"samples\": [\n          1,\n          24,\n          11\n        ],\n        \"semantic_type\": \"\",\n        \"description\": \"\"\n      }\n    },\n    {\n      \"column\": \"Garages\",\n      \"properties\": {\n        \"dtype\": \"number\",\n        \"std\": 22,\n        \"min\": 0,\n        \"max\": 1966,\n        \"num_unique_values\": 69,\n        \"samples\": [\n          17,\n          0,\n          200\n        ],\n        \"semantic_type\": \"\",\n        \"description\": \"\"\n      }\n    },\n    {\n      \"column\": \"Suites\",\n      \"properties\": {\n        \"dtype\": \"number\",\n        \"std\": 1,\n        \"min\": 0,\n        \"max\": 24,\n        \"num_unique_values\": 13,\n        \"samples\": [\n          14,\n          7,\n          0\n        ],\n        \"semantic_type\": \"\",\n        \"description\": \"\"\n      }\n    },\n    {\n      \"column\": \"Area\",\n      \"properties\": {\n        \"dtype\": \"number\",\n        \"std\": 817,\n        \"min\": 0,\n        \"max\": 42000,\n        \"num_unique_values\": 1061,\n        \"samples\": [\n          38,\n          273,\n          314\n        ],\n        \"semantic_type\": \"\",\n        \"description\": \"\"\n      }\n    },\n    {\n      \"column\": \"Valor\",\n      \"properties\": {\n        \"dtype\": \"number\",\n        \"std\": 366938.10390001396,\n        \"min\": 315.0,\n        \"max\": 52500000.0,\n        \"num_unique_values\": 1288,\n        \"samples\": [\n          577500.0,\n          294000.0,\n          3535.0\n        ],\n        \"semantic_type\": \"\",\n        \"description\": \"\"\n      }\n    },\n    {\n      \"column\": \"Condominio\",\n      \"properties\": {\n        \"dtype\": \"number\",\n        \"std\": 154710.175842168,\n        \"min\": 3.5,\n        \"max\": 22933995.0,\n        \"num_unique_values\": 3639,\n        \"samples\": [\n          39291.0,\n          2317.0,\n          3958.5\n        ],\n        \"semantic_type\": \"\",\n        \"description\": \"\"\n      }\n    },\n    {\n      \"column\": \"Impuesto\",\n      \"properties\": {\n        \"dtype\": \"number\",\n        \"std\": 22833.805207120124,\n        \"min\": 3.5,\n        \"max\": 1577187.5,\n        \"num_unique_values\": 2545,\n        \"samples\": [\n          654.5,\n          4543.0,\n          6153.0\n        ],\n        \"semantic_type\": \"\",\n        \"description\": \"\"\n      }\n    },\n    {\n      \"column\": \"valor_mensual\",\n      \"properties\": {\n        \"dtype\": \"number\",\n        \"std\": 220777.82986365803,\n        \"min\": 353.5,\n        \"max\": 22947295.0,\n        \"num_unique_values\": 6960,\n        \"samples\": [\n          14759.5,\n          125580.0,\n          10209.5\n        ],\n        \"semantic_type\": \"\",\n        \"description\": \"\"\n      }\n    },\n    {\n      \"column\": \"valor_anual\",\n      \"properties\": {\n        \"dtype\": \"number\",\n        \"std\": 2503166.5252857953,\n        \"min\": 14840.0,\n        \"max\": 275369832.5,\n        \"num_unique_values\": 14048,\n        \"samples\": [\n          158025.0,\n          222484.5,\n          79051.0\n        ],\n        \"semantic_type\": \"\",\n        \"description\": \"\"\n      }\n    },\n    {\n      \"column\": \"Descripcion\",\n      \"properties\": {\n        \"dtype\": \"category\",\n        \"num_unique_values\": 2108,\n        \"samples\": [\n          \"Propiedad tipo Departamento, situada en Santa Mar\\u00eda Nativitas. Posee 1 habitacion(es) y 1 plaza(s) de estacionamiento\",\n          \"Propiedad tipo Edificio Completo, situada en Roma Norte. Posee 0 habitacion(es) y 30 plaza(s) de estacionamiento\",\n          \"Propiedad tipo Departamento, situada en \\u00c1lvaro Obreg\\u00f3n. Posee 3 habitacion(es) y 1 plaza(s) de estacionamiento\"\n        ],\n        \"semantic_type\": \"\",\n        \"description\": \"\"\n      }\n    },\n    {\n      \"column\": \"Tine_suit\",\n      \"properties\": {\n        \"dtype\": \"category\",\n        \"num_unique_values\": 2,\n        \"samples\": [\n          \"Si\",\n          \"No\"\n        ],\n        \"semantic_type\": \"\",\n        \"description\": \"\"\n      }\n    }\n  ]\n}",
              "type": "dataframe"
            },
            "text/html": [
              "\n",
              "  <div id=\"df-aff4f440-9407-4042-8827-a4c5c7551263\" class=\"colab-df-container\">\n",
              "    <div>\n",
              "<style scoped>\n",
              "    .dataframe tbody tr th:only-of-type {\n",
              "        vertical-align: middle;\n",
              "    }\n",
              "\n",
              "    .dataframe tbody tr th {\n",
              "        vertical-align: top;\n",
              "    }\n",
              "\n",
              "    .dataframe thead th {\n",
              "        text-align: right;\n",
              "    }\n",
              "</style>\n",
              "<table border=\"1\" class=\"dataframe\">\n",
              "  <thead>\n",
              "    <tr style=\"text-align: right;\">\n",
              "      <th></th>\n",
              "      <th>Tipo</th>\n",
              "      <th>Colonia</th>\n",
              "      <th>Habitaciones</th>\n",
              "      <th>Garages</th>\n",
              "      <th>Suites</th>\n",
              "      <th>Area</th>\n",
              "      <th>Valor</th>\n",
              "      <th>Condominio</th>\n",
              "      <th>Impuesto</th>\n",
              "      <th>valor_mensual</th>\n",
              "      <th>valor_anual</th>\n",
              "      <th>Descripcion</th>\n",
              "      <th>Tine_suit</th>\n",
              "    </tr>\n",
              "  </thead>\n",
              "  <tbody>\n",
              "    <tr>\n",
              "      <th>0</th>\n",
              "      <td>Cocineta</td>\n",
              "      <td>Condesa</td>\n",
              "      <td>1</td>\n",
              "      <td>0</td>\n",
              "      <td>0</td>\n",
              "      <td>40</td>\n",
              "      <td>5950.0</td>\n",
              "      <td>1750.0</td>\n",
              "      <td>210.0</td>\n",
              "      <td>7700.0</td>\n",
              "      <td>92610.0</td>\n",
              "      <td>Propiedad tipo Cocineta, situada en Condesa. P...</td>\n",
              "      <td>No</td>\n",
              "    </tr>\n",
              "    <tr>\n",
              "      <th>1</th>\n",
              "      <td>Casa</td>\n",
              "      <td>Polanco</td>\n",
              "      <td>2</td>\n",
              "      <td>0</td>\n",
              "      <td>1</td>\n",
              "      <td>100</td>\n",
              "      <td>24500.0</td>\n",
              "      <td>NaN</td>\n",
              "      <td>NaN</td>\n",
              "      <td>NaN</td>\n",
              "      <td>NaN</td>\n",
              "      <td>Propiedad tipo Casa, situada en Polanco. Posee...</td>\n",
              "      <td>Si</td>\n",
              "    </tr>\n",
              "    <tr>\n",
              "      <th>2</th>\n",
              "      <td>Conjunto Comercial/Sala</td>\n",
              "      <td>Santa Fe</td>\n",
              "      <td>0</td>\n",
              "      <td>4</td>\n",
              "      <td>0</td>\n",
              "      <td>150</td>\n",
              "      <td>18200.0</td>\n",
              "      <td>14070.0</td>\n",
              "      <td>3888.5</td>\n",
              "      <td>32270.0</td>\n",
              "      <td>391128.5</td>\n",
              "      <td>Propiedad tipo Conjunto Comercial/Sala, situad...</td>\n",
              "      <td>No</td>\n",
              "    </tr>\n",
              "    <tr>\n",
              "      <th>3</th>\n",
              "      <td>Departamento</td>\n",
              "      <td>Centro Histórico</td>\n",
              "      <td>1</td>\n",
              "      <td>0</td>\n",
              "      <td>0</td>\n",
              "      <td>15</td>\n",
              "      <td>2800.0</td>\n",
              "      <td>1365.0</td>\n",
              "      <td>70.0</td>\n",
              "      <td>4165.0</td>\n",
              "      <td>50050.0</td>\n",
              "      <td>Propiedad tipo Departamento, situada en Centro...</td>\n",
              "      <td>No</td>\n",
              "    </tr>\n",
              "    <tr>\n",
              "      <th>4</th>\n",
              "      <td>Departamento</td>\n",
              "      <td>Del Valle</td>\n",
              "      <td>1</td>\n",
              "      <td>0</td>\n",
              "      <td>0</td>\n",
              "      <td>48</td>\n",
              "      <td>2800.0</td>\n",
              "      <td>805.0</td>\n",
              "      <td>NaN</td>\n",
              "      <td>3605.0</td>\n",
              "      <td>NaN</td>\n",
              "      <td>Propiedad tipo Departamento, situada en Del Va...</td>\n",
              "      <td>No</td>\n",
              "    </tr>\n",
              "    <tr>\n",
              "      <th>...</th>\n",
              "      <td>...</td>\n",
              "      <td>...</td>\n",
              "      <td>...</td>\n",
              "      <td>...</td>\n",
              "      <td>...</td>\n",
              "      <td>...</td>\n",
              "      <td>...</td>\n",
              "      <td>...</td>\n",
              "      <td>...</td>\n",
              "      <td>...</td>\n",
              "      <td>...</td>\n",
              "      <td>...</td>\n",
              "      <td>...</td>\n",
              "    </tr>\n",
              "    <tr>\n",
              "      <th>25116</th>\n",
              "      <td>Cochera/Estacionamiento</td>\n",
              "      <td>Centro Histórico</td>\n",
              "      <td>0</td>\n",
              "      <td>0</td>\n",
              "      <td>0</td>\n",
              "      <td>755</td>\n",
              "      <td>49000.0</td>\n",
              "      <td>NaN</td>\n",
              "      <td>NaN</td>\n",
              "      <td>NaN</td>\n",
              "      <td>NaN</td>\n",
              "      <td>Propiedad tipo Cochera/Estacionamiento, situad...</td>\n",
              "      <td>No</td>\n",
              "    </tr>\n",
              "    <tr>\n",
              "      <th>25117</th>\n",
              "      <td>Cocineta</td>\n",
              "      <td>Centro Histórico</td>\n",
              "      <td>0</td>\n",
              "      <td>0</td>\n",
              "      <td>0</td>\n",
              "      <td>27</td>\n",
              "      <td>2800.0</td>\n",
              "      <td>1225.0</td>\n",
              "      <td>87.5</td>\n",
              "      <td>4025.0</td>\n",
              "      <td>48387.5</td>\n",
              "      <td>Propiedad tipo Cocineta, situada en Centro His...</td>\n",
              "      <td>No</td>\n",
              "    </tr>\n",
              "    <tr>\n",
              "      <th>25118</th>\n",
              "      <td>Departamento</td>\n",
              "      <td>Mixcoac</td>\n",
              "      <td>2</td>\n",
              "      <td>1</td>\n",
              "      <td>0</td>\n",
              "      <td>48</td>\n",
              "      <td>4900.0</td>\n",
              "      <td>1781.5</td>\n",
              "      <td>129.5</td>\n",
              "      <td>6681.5</td>\n",
              "      <td>80307.5</td>\n",
              "      <td>Propiedad tipo Departamento, situada en Mixcoa...</td>\n",
              "      <td>No</td>\n",
              "    </tr>\n",
              "    <tr>\n",
              "      <th>25119</th>\n",
              "      <td>Departamento</td>\n",
              "      <td>Lomas de Chapultepec</td>\n",
              "      <td>2</td>\n",
              "      <td>0</td>\n",
              "      <td>0</td>\n",
              "      <td>70</td>\n",
              "      <td>10500.0</td>\n",
              "      <td>2660.0</td>\n",
              "      <td>NaN</td>\n",
              "      <td>13160.0</td>\n",
              "      <td>NaN</td>\n",
              "      <td>Propiedad tipo Departamento, situada en Lomas ...</td>\n",
              "      <td>No</td>\n",
              "    </tr>\n",
              "    <tr>\n",
              "      <th>25120</th>\n",
              "      <td>Conjunto Comercial/Sala</td>\n",
              "      <td>Centro Histórico</td>\n",
              "      <td>0</td>\n",
              "      <td>0</td>\n",
              "      <td>0</td>\n",
              "      <td>250</td>\n",
              "      <td>22750.0</td>\n",
              "      <td>14721.0</td>\n",
              "      <td>3881.5</td>\n",
              "      <td>37471.0</td>\n",
              "      <td>453533.5</td>\n",
              "      <td>Propiedad tipo Conjunto Comercial/Sala, situad...</td>\n",
              "      <td>No</td>\n",
              "    </tr>\n",
              "  </tbody>\n",
              "</table>\n",
              "<p>25121 rows × 13 columns</p>\n",
              "</div>\n",
              "    <div class=\"colab-df-buttons\">\n",
              "\n",
              "  <div class=\"colab-df-container\">\n",
              "    <button class=\"colab-df-convert\" onclick=\"convertToInteractive('df-aff4f440-9407-4042-8827-a4c5c7551263')\"\n",
              "            title=\"Convert this dataframe to an interactive table.\"\n",
              "            style=\"display:none;\">\n",
              "\n",
              "  <svg xmlns=\"http://www.w3.org/2000/svg\" height=\"24px\" viewBox=\"0 -960 960 960\">\n",
              "    <path d=\"M120-120v-720h720v720H120Zm60-500h600v-160H180v160Zm220 220h160v-160H400v160Zm0 220h160v-160H400v160ZM180-400h160v-160H180v160Zm440 0h160v-160H620v160ZM180-180h160v-160H180v160Zm440 0h160v-160H620v160Z\"/>\n",
              "  </svg>\n",
              "    </button>\n",
              "\n",
              "  <style>\n",
              "    .colab-df-container {\n",
              "      display:flex;\n",
              "      gap: 12px;\n",
              "    }\n",
              "\n",
              "    .colab-df-convert {\n",
              "      background-color: #E8F0FE;\n",
              "      border: none;\n",
              "      border-radius: 50%;\n",
              "      cursor: pointer;\n",
              "      display: none;\n",
              "      fill: #1967D2;\n",
              "      height: 32px;\n",
              "      padding: 0 0 0 0;\n",
              "      width: 32px;\n",
              "    }\n",
              "\n",
              "    .colab-df-convert:hover {\n",
              "      background-color: #E2EBFA;\n",
              "      box-shadow: 0px 1px 2px rgba(60, 64, 67, 0.3), 0px 1px 3px 1px rgba(60, 64, 67, 0.15);\n",
              "      fill: #174EA6;\n",
              "    }\n",
              "\n",
              "    .colab-df-buttons div {\n",
              "      margin-bottom: 4px;\n",
              "    }\n",
              "\n",
              "    [theme=dark] .colab-df-convert {\n",
              "      background-color: #3B4455;\n",
              "      fill: #D2E3FC;\n",
              "    }\n",
              "\n",
              "    [theme=dark] .colab-df-convert:hover {\n",
              "      background-color: #434B5C;\n",
              "      box-shadow: 0px 1px 3px 1px rgba(0, 0, 0, 0.15);\n",
              "      filter: drop-shadow(0px 1px 2px rgba(0, 0, 0, 0.3));\n",
              "      fill: #FFFFFF;\n",
              "    }\n",
              "  </style>\n",
              "\n",
              "    <script>\n",
              "      const buttonEl =\n",
              "        document.querySelector('#df-aff4f440-9407-4042-8827-a4c5c7551263 button.colab-df-convert');\n",
              "      buttonEl.style.display =\n",
              "        google.colab.kernel.accessAllowed ? 'block' : 'none';\n",
              "\n",
              "      async function convertToInteractive(key) {\n",
              "        const element = document.querySelector('#df-aff4f440-9407-4042-8827-a4c5c7551263');\n",
              "        const dataTable =\n",
              "          await google.colab.kernel.invokeFunction('convertToInteractive',\n",
              "                                                    [key], {});\n",
              "        if (!dataTable) return;\n",
              "\n",
              "        const docLinkHtml = 'Like what you see? Visit the ' +\n",
              "          '<a target=\"_blank\" href=https://colab.research.google.com/notebooks/data_table.ipynb>data table notebook</a>'\n",
              "          + ' to learn more about interactive tables.';\n",
              "        element.innerHTML = '';\n",
              "        dataTable['output_type'] = 'display_data';\n",
              "        await google.colab.output.renderOutput(dataTable, element);\n",
              "        const docLink = document.createElement('div');\n",
              "        docLink.innerHTML = docLinkHtml;\n",
              "        element.appendChild(docLink);\n",
              "      }\n",
              "    </script>\n",
              "  </div>\n",
              "\n",
              "\n",
              "    <div id=\"df-0b7e8ed0-3df7-4d9a-9d72-cbbba12a99f3\">\n",
              "      <button class=\"colab-df-quickchart\" onclick=\"quickchart('df-0b7e8ed0-3df7-4d9a-9d72-cbbba12a99f3')\"\n",
              "                title=\"Suggest charts\"\n",
              "                style=\"display:none;\">\n",
              "\n",
              "<svg xmlns=\"http://www.w3.org/2000/svg\" height=\"24px\"viewBox=\"0 0 24 24\"\n",
              "     width=\"24px\">\n",
              "    <g>\n",
              "        <path d=\"M19 3H5c-1.1 0-2 .9-2 2v14c0 1.1.9 2 2 2h14c1.1 0 2-.9 2-2V5c0-1.1-.9-2-2-2zM9 17H7v-7h2v7zm4 0h-2V7h2v10zm4 0h-2v-4h2v4z\"/>\n",
              "    </g>\n",
              "</svg>\n",
              "      </button>\n",
              "\n",
              "<style>\n",
              "  .colab-df-quickchart {\n",
              "      --bg-color: #E8F0FE;\n",
              "      --fill-color: #1967D2;\n",
              "      --hover-bg-color: #E2EBFA;\n",
              "      --hover-fill-color: #174EA6;\n",
              "      --disabled-fill-color: #AAA;\n",
              "      --disabled-bg-color: #DDD;\n",
              "  }\n",
              "\n",
              "  [theme=dark] .colab-df-quickchart {\n",
              "      --bg-color: #3B4455;\n",
              "      --fill-color: #D2E3FC;\n",
              "      --hover-bg-color: #434B5C;\n",
              "      --hover-fill-color: #FFFFFF;\n",
              "      --disabled-bg-color: #3B4455;\n",
              "      --disabled-fill-color: #666;\n",
              "  }\n",
              "\n",
              "  .colab-df-quickchart {\n",
              "    background-color: var(--bg-color);\n",
              "    border: none;\n",
              "    border-radius: 50%;\n",
              "    cursor: pointer;\n",
              "    display: none;\n",
              "    fill: var(--fill-color);\n",
              "    height: 32px;\n",
              "    padding: 0;\n",
              "    width: 32px;\n",
              "  }\n",
              "\n",
              "  .colab-df-quickchart:hover {\n",
              "    background-color: var(--hover-bg-color);\n",
              "    box-shadow: 0 1px 2px rgba(60, 64, 67, 0.3), 0 1px 3px 1px rgba(60, 64, 67, 0.15);\n",
              "    fill: var(--button-hover-fill-color);\n",
              "  }\n",
              "\n",
              "  .colab-df-quickchart-complete:disabled,\n",
              "  .colab-df-quickchart-complete:disabled:hover {\n",
              "    background-color: var(--disabled-bg-color);\n",
              "    fill: var(--disabled-fill-color);\n",
              "    box-shadow: none;\n",
              "  }\n",
              "\n",
              "  .colab-df-spinner {\n",
              "    border: 2px solid var(--fill-color);\n",
              "    border-color: transparent;\n",
              "    border-bottom-color: var(--fill-color);\n",
              "    animation:\n",
              "      spin 1s steps(1) infinite;\n",
              "  }\n",
              "\n",
              "  @keyframes spin {\n",
              "    0% {\n",
              "      border-color: transparent;\n",
              "      border-bottom-color: var(--fill-color);\n",
              "      border-left-color: var(--fill-color);\n",
              "    }\n",
              "    20% {\n",
              "      border-color: transparent;\n",
              "      border-left-color: var(--fill-color);\n",
              "      border-top-color: var(--fill-color);\n",
              "    }\n",
              "    30% {\n",
              "      border-color: transparent;\n",
              "      border-left-color: var(--fill-color);\n",
              "      border-top-color: var(--fill-color);\n",
              "      border-right-color: var(--fill-color);\n",
              "    }\n",
              "    40% {\n",
              "      border-color: transparent;\n",
              "      border-right-color: var(--fill-color);\n",
              "      border-top-color: var(--fill-color);\n",
              "    }\n",
              "    60% {\n",
              "      border-color: transparent;\n",
              "      border-right-color: var(--fill-color);\n",
              "    }\n",
              "    80% {\n",
              "      border-color: transparent;\n",
              "      border-right-color: var(--fill-color);\n",
              "      border-bottom-color: var(--fill-color);\n",
              "    }\n",
              "    90% {\n",
              "      border-color: transparent;\n",
              "      border-bottom-color: var(--fill-color);\n",
              "    }\n",
              "  }\n",
              "</style>\n",
              "\n",
              "      <script>\n",
              "        async function quickchart(key) {\n",
              "          const quickchartButtonEl =\n",
              "            document.querySelector('#' + key + ' button');\n",
              "          quickchartButtonEl.disabled = true;  // To prevent multiple clicks.\n",
              "          quickchartButtonEl.classList.add('colab-df-spinner');\n",
              "          try {\n",
              "            const charts = await google.colab.kernel.invokeFunction(\n",
              "                'suggestCharts', [key], {});\n",
              "          } catch (error) {\n",
              "            console.error('Error during call to suggestCharts:', error);\n",
              "          }\n",
              "          quickchartButtonEl.classList.remove('colab-df-spinner');\n",
              "          quickchartButtonEl.classList.add('colab-df-quickchart-complete');\n",
              "        }\n",
              "        (() => {\n",
              "          let quickchartButtonEl =\n",
              "            document.querySelector('#df-0b7e8ed0-3df7-4d9a-9d72-cbbba12a99f3 button');\n",
              "          quickchartButtonEl.style.display =\n",
              "            google.colab.kernel.accessAllowed ? 'block' : 'none';\n",
              "        })();\n",
              "      </script>\n",
              "    </div>\n",
              "\n",
              "    </div>\n",
              "  </div>\n"
            ],
            "text/plain": [
              "                          Tipo               Colonia  Habitaciones  Garages  \\\n",
              "0                     Cocineta               Condesa             1        0   \n",
              "1                         Casa               Polanco             2        0   \n",
              "2      Conjunto Comercial/Sala              Santa Fe             0        4   \n",
              "3                 Departamento      Centro Histórico             1        0   \n",
              "4                 Departamento             Del Valle             1        0   \n",
              "...                        ...                   ...           ...      ...   \n",
              "25116  Cochera/Estacionamiento      Centro Histórico             0        0   \n",
              "25117                 Cocineta      Centro Histórico             0        0   \n",
              "25118             Departamento               Mixcoac             2        1   \n",
              "25119             Departamento  Lomas de Chapultepec             2        0   \n",
              "25120  Conjunto Comercial/Sala      Centro Histórico             0        0   \n",
              "\n",
              "       Suites  Area    Valor  Condominio  Impuesto  valor_mensual  \\\n",
              "0           0    40   5950.0      1750.0     210.0         7700.0   \n",
              "1           1   100  24500.0         NaN       NaN            NaN   \n",
              "2           0   150  18200.0     14070.0    3888.5        32270.0   \n",
              "3           0    15   2800.0      1365.0      70.0         4165.0   \n",
              "4           0    48   2800.0       805.0       NaN         3605.0   \n",
              "...       ...   ...      ...         ...       ...            ...   \n",
              "25116       0   755  49000.0         NaN       NaN            NaN   \n",
              "25117       0    27   2800.0      1225.0      87.5         4025.0   \n",
              "25118       0    48   4900.0      1781.5     129.5         6681.5   \n",
              "25119       0    70  10500.0      2660.0       NaN        13160.0   \n",
              "25120       0   250  22750.0     14721.0    3881.5        37471.0   \n",
              "\n",
              "       valor_anual                                        Descripcion  \\\n",
              "0          92610.0  Propiedad tipo Cocineta, situada en Condesa. P...   \n",
              "1              NaN  Propiedad tipo Casa, situada en Polanco. Posee...   \n",
              "2         391128.5  Propiedad tipo Conjunto Comercial/Sala, situad...   \n",
              "3          50050.0  Propiedad tipo Departamento, situada en Centro...   \n",
              "4              NaN  Propiedad tipo Departamento, situada en Del Va...   \n",
              "...            ...                                                ...   \n",
              "25116          NaN  Propiedad tipo Cochera/Estacionamiento, situad...   \n",
              "25117      48387.5  Propiedad tipo Cocineta, situada en Centro His...   \n",
              "25118      80307.5  Propiedad tipo Departamento, situada en Mixcoa...   \n",
              "25119          NaN  Propiedad tipo Departamento, situada en Lomas ...   \n",
              "25120     453533.5  Propiedad tipo Conjunto Comercial/Sala, situad...   \n",
              "\n",
              "      Tine_suit  \n",
              "0            No  \n",
              "1            Si  \n",
              "2            No  \n",
              "3            No  \n",
              "4            No  \n",
              "...         ...  \n",
              "25116        No  \n",
              "25117        No  \n",
              "25118        No  \n",
              "25119        No  \n",
              "25120        No  \n",
              "\n",
              "[25121 rows x 13 columns]"
            ]
          },
          "execution_count": 192,
          "metadata": {},
          "output_type": "execute_result"
        }
      ],
      "source": [
        "pd.read_csv('/content/drive/MyDrive/Pandas/alquiler_cdmx_DEV.csv', sep=';')\n"
      ]
    },
    {
      "cell_type": "markdown",
      "metadata": {
        "id": "pdv_vh7q7xpV"
      },
      "source": [
        "## **Ejercicios**"
      ]
    },
    {
      "cell_type": "code",
      "execution_count": 423,
      "metadata": {
        "colab": {
          "base_uri": "https://localhost:8080/",
          "height": 206
        },
        "id": "H_Fmx1Yy8Bns",
        "outputId": "ce82b4df-93d5-4f1c-c497-eacec400815c"
      },
      "outputs": [
        {
          "data": {
            "text/html": [
              "<div>\n",
              "<style scoped>\n",
              "    .dataframe tbody tr th:only-of-type {\n",
              "        vertical-align: middle;\n",
              "    }\n",
              "\n",
              "    .dataframe tbody tr th {\n",
              "        vertical-align: top;\n",
              "    }\n",
              "\n",
              "    .dataframe thead th {\n",
              "        text-align: right;\n",
              "    }\n",
              "</style>\n",
              "<table border=\"1\" class=\"dataframe\">\n",
              "  <thead>\n",
              "    <tr style=\"text-align: right;\">\n",
              "      <th></th>\n",
              "      <th>Nombre</th>\n",
              "      <th>Edad</th>\n",
              "      <th>Nota</th>\n",
              "      <th>Aprobado</th>\n",
              "    </tr>\n",
              "  </thead>\n",
              "  <tbody>\n",
              "    <tr>\n",
              "      <th>0</th>\n",
              "      <td>Alberto</td>\n",
              "      <td>20</td>\n",
              "      <td>7.5</td>\n",
              "      <td>True</td>\n",
              "    </tr>\n",
              "    <tr>\n",
              "      <th>1</th>\n",
              "      <td>Ana</td>\n",
              "      <td>18</td>\n",
              "      <td>NaN</td>\n",
              "      <td>False</td>\n",
              "    </tr>\n",
              "    <tr>\n",
              "      <th>2</th>\n",
              "      <td>Camila</td>\n",
              "      <td>27</td>\n",
              "      <td>2.5</td>\n",
              "      <td>False</td>\n",
              "    </tr>\n",
              "    <tr>\n",
              "      <th>3</th>\n",
              "      <td>David</td>\n",
              "      <td>18</td>\n",
              "      <td>5.0</td>\n",
              "      <td>False</td>\n",
              "    </tr>\n",
              "    <tr>\n",
              "      <th>4</th>\n",
              "      <td>Brian</td>\n",
              "      <td>21</td>\n",
              "      <td>10.0</td>\n",
              "      <td>True</td>\n",
              "    </tr>\n",
              "  </tbody>\n",
              "</table>\n",
              "</div>"
            ],
            "text/plain": [
              "    Nombre  Edad  Nota Aprobado\n",
              "0  Alberto    20   7.5     True\n",
              "1      Ana    18   NaN    False\n",
              "2   Camila    27   2.5    False\n",
              "3    David    18   5.0    False\n",
              "4    Brian    21  10.0     True"
            ]
          },
          "execution_count": 423,
          "metadata": {},
          "output_type": "execute_result"
        }
      ],
      "source": [
        "datos_alumnos2 = pd.read_csv('https://gist.githubusercontent.com/ahcamachod/807a2c1cf6c19108b2b701ea1791ab45/raw/fb84f8b2d8917a89de26679eccdbc8f9c1d2e933/alumnos.csv')\n",
        "datos_alumnos2.head()"
      ]
    },
    {
      "cell_type": "markdown",
      "metadata": {
        "id": "GXcHP56c7524"
      },
      "source": [
        "1. Los estudiantes participaron en una actividad extracurricular y ganaron puntos extras. Estos puntos extras corresponden al 40% de su nota actual. Por lo tanto, crea una columna llamada \"Puntos_extras\" que contenga los puntos extras de cada estudiante, es decir, el 40% de su nota actual."
      ]
    },
    {
      "cell_type": "code",
      "execution_count": 424,
      "metadata": {
        "colab": {
          "base_uri": "https://localhost:8080/",
          "height": 206
        },
        "id": "5JMEUoYe8kpZ",
        "outputId": "db1493a9-c13d-40b5-e05c-9f34d18bf652"
      },
      "outputs": [
        {
          "data": {
            "text/html": [
              "<div>\n",
              "<style scoped>\n",
              "    .dataframe tbody tr th:only-of-type {\n",
              "        vertical-align: middle;\n",
              "    }\n",
              "\n",
              "    .dataframe tbody tr th {\n",
              "        vertical-align: top;\n",
              "    }\n",
              "\n",
              "    .dataframe thead th {\n",
              "        text-align: right;\n",
              "    }\n",
              "</style>\n",
              "<table border=\"1\" class=\"dataframe\">\n",
              "  <thead>\n",
              "    <tr style=\"text-align: right;\">\n",
              "      <th></th>\n",
              "      <th>Nombre</th>\n",
              "      <th>Edad</th>\n",
              "      <th>Nota</th>\n",
              "      <th>Aprobado</th>\n",
              "      <th>Puntos_extra</th>\n",
              "    </tr>\n",
              "  </thead>\n",
              "  <tbody>\n",
              "    <tr>\n",
              "      <th>0</th>\n",
              "      <td>Alberto</td>\n",
              "      <td>20</td>\n",
              "      <td>7.5</td>\n",
              "      <td>True</td>\n",
              "      <td>3.0</td>\n",
              "    </tr>\n",
              "    <tr>\n",
              "      <th>1</th>\n",
              "      <td>Ana</td>\n",
              "      <td>18</td>\n",
              "      <td>NaN</td>\n",
              "      <td>False</td>\n",
              "      <td>NaN</td>\n",
              "    </tr>\n",
              "    <tr>\n",
              "      <th>2</th>\n",
              "      <td>Camila</td>\n",
              "      <td>27</td>\n",
              "      <td>2.5</td>\n",
              "      <td>False</td>\n",
              "      <td>1.0</td>\n",
              "    </tr>\n",
              "    <tr>\n",
              "      <th>3</th>\n",
              "      <td>David</td>\n",
              "      <td>18</td>\n",
              "      <td>5.0</td>\n",
              "      <td>False</td>\n",
              "      <td>2.0</td>\n",
              "    </tr>\n",
              "    <tr>\n",
              "      <th>4</th>\n",
              "      <td>Brian</td>\n",
              "      <td>21</td>\n",
              "      <td>10.0</td>\n",
              "      <td>True</td>\n",
              "      <td>4.0</td>\n",
              "    </tr>\n",
              "  </tbody>\n",
              "</table>\n",
              "</div>"
            ],
            "text/plain": [
              "    Nombre  Edad  Nota Aprobado  Puntos_extra\n",
              "0  Alberto    20   7.5     True           3.0\n",
              "1      Ana    18   NaN    False           NaN\n",
              "2   Camila    27   2.5    False           1.0\n",
              "3    David    18   5.0    False           2.0\n",
              "4    Brian    21  10.0     True           4.0"
            ]
          },
          "execution_count": 424,
          "metadata": {},
          "output_type": "execute_result"
        }
      ],
      "source": [
        "datos_alumnos2['Puntos_extra'] = datos_alumnos2['Nota']*0.4\n",
        "datos_alumnos2.head()"
      ]
    },
    {
      "cell_type": "markdown",
      "metadata": {
        "id": "b3StNP219E8x"
      },
      "source": [
        "2. Crea otra columna llamada \"Notas_finales\" que contenga las notas de cada estudiante sumadas con los puntos extras."
      ]
    },
    {
      "cell_type": "code",
      "execution_count": 425,
      "metadata": {
        "colab": {
          "base_uri": "https://localhost:8080/",
          "height": 206
        },
        "id": "sH9wc7Tp9HZD",
        "outputId": "2b245253-66da-4cd8-f711-64ce33a7ee8a"
      },
      "outputs": [
        {
          "data": {
            "text/html": [
              "<div>\n",
              "<style scoped>\n",
              "    .dataframe tbody tr th:only-of-type {\n",
              "        vertical-align: middle;\n",
              "    }\n",
              "\n",
              "    .dataframe tbody tr th {\n",
              "        vertical-align: top;\n",
              "    }\n",
              "\n",
              "    .dataframe thead th {\n",
              "        text-align: right;\n",
              "    }\n",
              "</style>\n",
              "<table border=\"1\" class=\"dataframe\">\n",
              "  <thead>\n",
              "    <tr style=\"text-align: right;\">\n",
              "      <th></th>\n",
              "      <th>Nombre</th>\n",
              "      <th>Edad</th>\n",
              "      <th>Nota</th>\n",
              "      <th>Aprobado</th>\n",
              "      <th>Puntos_extra</th>\n",
              "      <th>Notas_finales</th>\n",
              "    </tr>\n",
              "  </thead>\n",
              "  <tbody>\n",
              "    <tr>\n",
              "      <th>0</th>\n",
              "      <td>Alberto</td>\n",
              "      <td>20</td>\n",
              "      <td>7.5</td>\n",
              "      <td>True</td>\n",
              "      <td>3.0</td>\n",
              "      <td>10.5</td>\n",
              "    </tr>\n",
              "    <tr>\n",
              "      <th>1</th>\n",
              "      <td>Ana</td>\n",
              "      <td>18</td>\n",
              "      <td>NaN</td>\n",
              "      <td>False</td>\n",
              "      <td>NaN</td>\n",
              "      <td>NaN</td>\n",
              "    </tr>\n",
              "    <tr>\n",
              "      <th>2</th>\n",
              "      <td>Camila</td>\n",
              "      <td>27</td>\n",
              "      <td>2.5</td>\n",
              "      <td>False</td>\n",
              "      <td>1.0</td>\n",
              "      <td>3.5</td>\n",
              "    </tr>\n",
              "    <tr>\n",
              "      <th>3</th>\n",
              "      <td>David</td>\n",
              "      <td>18</td>\n",
              "      <td>5.0</td>\n",
              "      <td>False</td>\n",
              "      <td>2.0</td>\n",
              "      <td>7.0</td>\n",
              "    </tr>\n",
              "    <tr>\n",
              "      <th>4</th>\n",
              "      <td>Brian</td>\n",
              "      <td>21</td>\n",
              "      <td>10.0</td>\n",
              "      <td>True</td>\n",
              "      <td>4.0</td>\n",
              "      <td>14.0</td>\n",
              "    </tr>\n",
              "  </tbody>\n",
              "</table>\n",
              "</div>"
            ],
            "text/plain": [
              "    Nombre  Edad  Nota Aprobado  Puntos_extra  Notas_finales\n",
              "0  Alberto    20   7.5     True           3.0           10.5\n",
              "1      Ana    18   NaN    False           NaN            NaN\n",
              "2   Camila    27   2.5    False           1.0            3.5\n",
              "3    David    18   5.0    False           2.0            7.0\n",
              "4    Brian    21  10.0     True           4.0           14.0"
            ]
          },
          "execution_count": 425,
          "metadata": {},
          "output_type": "execute_result"
        }
      ],
      "source": [
        "datos_alumnos2['Notas_finales'] = datos_alumnos2['Nota'] + datos_alumnos2['Puntos_extra']\n",
        "datos_alumnos2.head()"
      ]
    },
    {
      "cell_type": "markdown",
      "metadata": {
        "id": "dJlUii039e9n"
      },
      "source": [
        "3. Dado que hubo una puntuación extra, algunos estudiantes que no habían sido aprobados antes pueden haber sido aprobados ahora. En función de esto, crea una columna llamada \"Aprobado_final\" con los siguientes valores:\n",
        "\n",
        "* True: si el estudiante está aprobado (la nota final debe ser mayor o igual a 7.0).\n",
        "* False: si el estudiante está reprobado (la nota final debe ser menor que 7.0)."
      ]
    },
    {
      "cell_type": "code",
      "execution_count": 426,
      "metadata": {
        "colab": {
          "base_uri": "https://localhost:8080/",
          "height": 206
        },
        "id": "5-8ezCnj9izl",
        "outputId": "672b1881-7efc-4e28-cd5a-d96f5852478b"
      },
      "outputs": [
        {
          "data": {
            "text/html": [
              "<div>\n",
              "<style scoped>\n",
              "    .dataframe tbody tr th:only-of-type {\n",
              "        vertical-align: middle;\n",
              "    }\n",
              "\n",
              "    .dataframe tbody tr th {\n",
              "        vertical-align: top;\n",
              "    }\n",
              "\n",
              "    .dataframe thead th {\n",
              "        text-align: right;\n",
              "    }\n",
              "</style>\n",
              "<table border=\"1\" class=\"dataframe\">\n",
              "  <thead>\n",
              "    <tr style=\"text-align: right;\">\n",
              "      <th></th>\n",
              "      <th>Nombre</th>\n",
              "      <th>Edad</th>\n",
              "      <th>Nota</th>\n",
              "      <th>Aprobado</th>\n",
              "      <th>Puntos_extra</th>\n",
              "      <th>Notas_finales</th>\n",
              "      <th>Aprobado_final</th>\n",
              "    </tr>\n",
              "  </thead>\n",
              "  <tbody>\n",
              "    <tr>\n",
              "      <th>0</th>\n",
              "      <td>Alberto</td>\n",
              "      <td>20</td>\n",
              "      <td>7.5</td>\n",
              "      <td>True</td>\n",
              "      <td>3.0</td>\n",
              "      <td>10.5</td>\n",
              "      <td>True</td>\n",
              "    </tr>\n",
              "    <tr>\n",
              "      <th>1</th>\n",
              "      <td>Ana</td>\n",
              "      <td>18</td>\n",
              "      <td>NaN</td>\n",
              "      <td>False</td>\n",
              "      <td>NaN</td>\n",
              "      <td>NaN</td>\n",
              "      <td>False</td>\n",
              "    </tr>\n",
              "    <tr>\n",
              "      <th>2</th>\n",
              "      <td>Camila</td>\n",
              "      <td>27</td>\n",
              "      <td>2.5</td>\n",
              "      <td>False</td>\n",
              "      <td>1.0</td>\n",
              "      <td>3.5</td>\n",
              "      <td>False</td>\n",
              "    </tr>\n",
              "    <tr>\n",
              "      <th>3</th>\n",
              "      <td>David</td>\n",
              "      <td>18</td>\n",
              "      <td>5.0</td>\n",
              "      <td>False</td>\n",
              "      <td>2.0</td>\n",
              "      <td>7.0</td>\n",
              "      <td>True</td>\n",
              "    </tr>\n",
              "    <tr>\n",
              "      <th>4</th>\n",
              "      <td>Brian</td>\n",
              "      <td>21</td>\n",
              "      <td>10.0</td>\n",
              "      <td>True</td>\n",
              "      <td>4.0</td>\n",
              "      <td>14.0</td>\n",
              "      <td>True</td>\n",
              "    </tr>\n",
              "  </tbody>\n",
              "</table>\n",
              "</div>"
            ],
            "text/plain": [
              "    Nombre  Edad  Nota Aprobado  Puntos_extra  Notas_finales  Aprobado_final\n",
              "0  Alberto    20   7.5     True           3.0           10.5            True\n",
              "1      Ana    18   NaN    False           NaN            NaN           False\n",
              "2   Camila    27   2.5    False           1.0            3.5           False\n",
              "3    David    18   5.0    False           2.0            7.0            True\n",
              "4    Brian    21  10.0     True           4.0           14.0            True"
            ]
          },
          "execution_count": 426,
          "metadata": {},
          "output_type": "execute_result"
        }
      ],
      "source": [
        "datos_alumnos2['Aprobado_final'] = datos_alumnos2['Notas_finales'].apply(lambda x: True if x >= 7.0 else False)\n",
        "datos_alumnos2.head()"
      ]
    },
    {
      "cell_type": "markdown",
      "metadata": {
        "id": "Cc1YC6gD-Z5T"
      },
      "source": [
        "4. Realiza una selección y verifica qué estudiantes no habían sido aprobados anteriormente, pero ahora fueron aprobados después de sumar los puntos extras."
      ]
    },
    {
      "cell_type": "code",
      "execution_count": 427,
      "metadata": {
        "colab": {
          "base_uri": "https://localhost:8080/",
          "height": 143
        },
        "id": "wOq-lZZ0-dOS",
        "outputId": "3a5a4b26-e904-4635-88aa-cd3eebb515b3"
      },
      "outputs": [
        {
          "data": {
            "text/html": [
              "<div>\n",
              "<style scoped>\n",
              "    .dataframe tbody tr th:only-of-type {\n",
              "        vertical-align: middle;\n",
              "    }\n",
              "\n",
              "    .dataframe tbody tr th {\n",
              "        vertical-align: top;\n",
              "    }\n",
              "\n",
              "    .dataframe thead th {\n",
              "        text-align: right;\n",
              "    }\n",
              "</style>\n",
              "<table border=\"1\" class=\"dataframe\">\n",
              "  <thead>\n",
              "    <tr style=\"text-align: right;\">\n",
              "      <th></th>\n",
              "      <th>Nombre</th>\n",
              "      <th>Edad</th>\n",
              "      <th>Nota</th>\n",
              "      <th>Aprobado</th>\n",
              "      <th>Puntos_extra</th>\n",
              "      <th>Notas_finales</th>\n",
              "      <th>Aprobado_final</th>\n",
              "    </tr>\n",
              "  </thead>\n",
              "  <tbody>\n",
              "    <tr>\n",
              "      <th>3</th>\n",
              "      <td>David</td>\n",
              "      <td>18</td>\n",
              "      <td>5.0</td>\n",
              "      <td>False</td>\n",
              "      <td>2.00</td>\n",
              "      <td>7.00</td>\n",
              "      <td>True</td>\n",
              "    </tr>\n",
              "    <tr>\n",
              "      <th>7</th>\n",
              "      <td>Carlos</td>\n",
              "      <td>19</td>\n",
              "      <td>6.0</td>\n",
              "      <td>False</td>\n",
              "      <td>2.40</td>\n",
              "      <td>8.40</td>\n",
              "      <td>True</td>\n",
              "    </tr>\n",
              "    <tr>\n",
              "      <th>8</th>\n",
              "      <td>Alicia</td>\n",
              "      <td>35</td>\n",
              "      <td>5.6</td>\n",
              "      <td>False</td>\n",
              "      <td>2.24</td>\n",
              "      <td>7.84</td>\n",
              "      <td>True</td>\n",
              "    </tr>\n",
              "  </tbody>\n",
              "</table>\n",
              "</div>"
            ],
            "text/plain": [
              "   Nombre  Edad  Nota Aprobado  Puntos_extra  Notas_finales  Aprobado_final\n",
              "3   David    18   5.0    False          2.00           7.00            True\n",
              "7  Carlos    19   6.0    False          2.40           8.40            True\n",
              "8  Alicia    35   5.6    False          2.24           7.84            True"
            ]
          },
          "execution_count": 427,
          "metadata": {},
          "output_type": "execute_result"
        }
      ],
      "source": [
        "antes_desaprobados = datos_alumnos2.query('Nota < 7.0 & Aprobado_final == True')\n",
        "antes_desaprobados.head()"
      ]
    },
    {
      "cell_type": "code",
      "execution_count": null,
      "metadata": {
        "id": "Gjp0IkOt_kFD"
      },
      "outputs": [],
      "source": [
        "datos_alumnos2.to_csv('/content/drive/MyDrive/Pandas/alumnos_finales.csv', index=False)\n",
        "antes_desaprobados.to_csv('/content/drive/MyDrive/Pandas/antes_desaprobados.csv', index=False)"
      ]
    }
  ],
  "metadata": {
    "colab": {
      "include_colab_link": true,
      "provenance": [],
      "toc_visible": true
    },
    "kernelspec": {
      "display_name": "venv",
      "language": "python",
      "name": "python3"
    },
    "language_info": {
      "codemirror_mode": {
        "name": "ipython",
        "version": 3
      },
      "file_extension": ".py",
      "mimetype": "text/x-python",
      "name": "python",
      "nbconvert_exporter": "python",
      "pygments_lexer": "ipython3",
      "version": "3.10.12"
    }
  },
  "nbformat": 4,
  "nbformat_minor": 0
}
