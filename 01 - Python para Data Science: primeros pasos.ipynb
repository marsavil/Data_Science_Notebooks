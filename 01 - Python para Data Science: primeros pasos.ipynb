{
  "nbformat": 4,
  "nbformat_minor": 0,
  "metadata": {
    "colab": {
      "provenance": [],
      "toc_visible": true,
      "include_colab_link": true
    },
    "kernelspec": {
      "name": "python3",
      "display_name": "Python 3"
    },
    "language_info": {
      "name": "python"
    }
  },
  "cells": [
    {
      "cell_type": "markdown",
      "metadata": {
        "id": "view-in-github",
        "colab_type": "text"
      },
      "source": [
        "<a href=\"https://colab.research.google.com/github/marsavil/Data_Science_Notebooks/blob/main/01%20-%20Python%20para%20Data%20Science%3A%20primeros%20pasos.ipynb\" target=\"_parent\"><img src=\"https://colab.research.google.com/assets/colab-badge.svg\" alt=\"Open In Colab\"/></a>"
      ]
    },
    {
      "cell_type": "markdown",
      "source": [
        "# Python para Data Science\n",
        "\n",
        "Notebook para el curso de Python para Data Science publicado en la plataforma de [Alura Latam](https://www.aluracursos.com/)"
      ],
      "metadata": {
        "id": "lQx6Mmv0OJyT"
      }
    },
    {
      "cell_type": "markdown",
      "source": [
        "# Introducción a Python\n",
        "¡Vamos a conocer Python, nuestro ambiente de estudio, y también generaremos nuestro primer código en este lenguaje!"
      ],
      "metadata": {
        "id": "7SiB6JIpYKmY"
      }
    },
    {
      "cell_type": "markdown",
      "source": [
        "## Google Colaboratory\n",
        "\n",
        "Ya aprendimos qué es [Python](https://www.python.org/) y ahora aprenderemos a usar nuestra herramienta de ejecución [Google Colaboratory](https://colab.research.google.com/) para programar en un notebook interactivo.\n",
        "\n",
        "Vamos a probar algunas funciones de este ambiente."
      ],
      "metadata": {
        "id": "Yugfb3fCOYY9"
      }
    },
    {
      "cell_type": "markdown",
      "source": [
        " **`>>> Usa esta celda para mover <<<`**"
      ],
      "metadata": {
        "id": "2iUHQsJasJAk"
      }
    },
    {
      "cell_type": "code",
      "source": [],
      "metadata": {
        "id": "o7jrX_iKhdkU"
      },
      "execution_count": null,
      "outputs": []
    },
    {
      "cell_type": "markdown",
      "source": [
        "## ¡Hola mundo!\n",
        "\n",
        "Vamos a conocer un poco más de cerca nuestro notebook. Para ello ejecutaremos nuestro primer comando en Python: [`print()`](https://docs.python.org/3/library/functions.html#print)"
      ],
      "metadata": {
        "id": "aLSFP2V7XTfe"
      }
    },
    {
      "cell_type": "code",
      "source": [
        "print(\"¡Hola mundirijillo!\")"
      ],
      "metadata": {
        "id": "0qZX8_ZQBYyk",
        "colab": {
          "base_uri": "https://localhost:8080/"
        },
        "outputId": "8cb5e25d-4a9b-4234-e894-992630db6411"
      },
      "execution_count": null,
      "outputs": [
        {
          "output_type": "stream",
          "name": "stdout",
          "text": [
            "¡Hola mundirijillo!\n"
          ]
        }
      ]
    },
    {
      "cell_type": "code",
      "source": [
        "print(\"Escuela de Datos de Alura\")"
      ],
      "metadata": {
        "colab": {
          "base_uri": "https://localhost:8080/"
        },
        "id": "xDGZhPP0Qgm5",
        "outputId": "39822ab0-1264-4b00-92b8-b04f372bc644"
      },
      "execution_count": null,
      "outputs": [
        {
          "output_type": "stream",
          "name": "stdout",
          "text": [
            "Escuela de Datos de Alura\n"
          ]
        }
      ]
    },
    {
      "cell_type": "code",
      "source": [
        "print(\"Nombre: Mariano\")"
      ],
      "metadata": {
        "id": "GLMzF_AKBY7a",
        "colab": {
          "base_uri": "https://localhost:8080/"
        },
        "outputId": "debfbcbe-ac2e-460a-9d77-bdfce9d6ea47"
      },
      "execution_count": null,
      "outputs": [
        {
          "output_type": "stream",
          "name": "stdout",
          "text": [
            "Nombre: Mariano\n"
          ]
        }
      ]
    },
    {
      "cell_type": "code",
      "source": [
        "print(\"Apellido: Villaescusa\")"
      ],
      "metadata": {
        "colab": {
          "base_uri": "https://localhost:8080/"
        },
        "id": "wTqcNVBnOjZ0",
        "outputId": "4600b820-81e8-4c5a-c1b7-8c35b73a466b"
      },
      "execution_count": null,
      "outputs": [
        {
          "output_type": "stream",
          "name": "stdout",
          "text": [
            "Apellido: Villaescusa\n"
          ]
        }
      ]
    },
    {
      "cell_type": "code",
      "source": [
        "print(\"M\")"
      ],
      "metadata": {
        "colab": {
          "base_uri": "https://localhost:8080/"
        },
        "id": "Snb1s2s7O3s6",
        "outputId": "19103f65-bfa0-4f7f-fb62-fd2066ba0204"
      },
      "execution_count": null,
      "outputs": [
        {
          "output_type": "stream",
          "name": "stdout",
          "text": [
            "M\n"
          ]
        }
      ]
    },
    {
      "cell_type": "code",
      "source": [
        "print(\"A\")"
      ],
      "metadata": {
        "colab": {
          "base_uri": "https://localhost:8080/"
        },
        "id": "PMJLe21DPFqp",
        "outputId": "c9874ea4-4385-4a68-e070-ad897512dc6a"
      },
      "execution_count": null,
      "outputs": [
        {
          "output_type": "stream",
          "name": "stdout",
          "text": [
            "A\n"
          ]
        }
      ]
    },
    {
      "cell_type": "code",
      "source": [
        "print(\"R\")"
      ],
      "metadata": {
        "colab": {
          "base_uri": "https://localhost:8080/"
        },
        "id": "501T7QNBPIs5",
        "outputId": "f0773eb7-dc07-4127-dc45-815e35349789"
      },
      "execution_count": null,
      "outputs": [
        {
          "output_type": "stream",
          "name": "stdout",
          "text": [
            "R\n"
          ]
        }
      ]
    },
    {
      "cell_type": "code",
      "source": [
        "print(\"I\")"
      ],
      "metadata": {
        "colab": {
          "base_uri": "https://localhost:8080/"
        },
        "id": "5e5nU_1MPMEB",
        "outputId": "a1d4ea0b-6e55-4741-f4d1-644572f67e89"
      },
      "execution_count": null,
      "outputs": [
        {
          "output_type": "stream",
          "name": "stdout",
          "text": [
            "I\n"
          ]
        }
      ]
    },
    {
      "cell_type": "code",
      "source": [
        "print(\"A\")"
      ],
      "metadata": {
        "colab": {
          "base_uri": "https://localhost:8080/"
        },
        "id": "klt0cJ29PPFB",
        "outputId": "6c7a254f-51cf-44e5-8f50-dd09ca137d84"
      },
      "execution_count": null,
      "outputs": [
        {
          "output_type": "stream",
          "name": "stdout",
          "text": [
            "A\n"
          ]
        }
      ]
    },
    {
      "cell_type": "code",
      "source": [
        "print(\"N\")"
      ],
      "metadata": {
        "colab": {
          "base_uri": "https://localhost:8080/"
        },
        "id": "YUM0AWMBPSbR",
        "outputId": "b7b73fa3-742d-45ea-ee93-83ad487b7865"
      },
      "execution_count": null,
      "outputs": [
        {
          "output_type": "stream",
          "name": "stdout",
          "text": [
            "N\n"
          ]
        }
      ]
    },
    {
      "cell_type": "code",
      "source": [
        "print(\"O\")"
      ],
      "metadata": {
        "colab": {
          "base_uri": "https://localhost:8080/"
        },
        "id": "gwfq-NR-PVxJ",
        "outputId": "250ed41f-3448-42e6-dd88-bc5bfd871c31"
      },
      "execution_count": null,
      "outputs": [
        {
          "output_type": "stream",
          "name": "stdout",
          "text": [
            "O\n"
          ]
        }
      ]
    },
    {
      "cell_type": "code",
      "source": [
        "print(29, \"Mayo\", 1976)"
      ],
      "metadata": {
        "colab": {
          "base_uri": "https://localhost:8080/"
        },
        "id": "9vCeyp9pP2Eu",
        "outputId": "ddf22a10-ba89-4326-ff19-fb38816eb7c1"
      },
      "execution_count": null,
      "outputs": [
        {
          "output_type": "stream",
          "name": "stdout",
          "text": [
            "29 Mayo 1976\n"
          ]
        }
      ]
    },
    {
      "cell_type": "code",
      "source": [
        "print(\"Año actual: \", 2025)"
      ],
      "metadata": {
        "colab": {
          "base_uri": "https://localhost:8080/"
        },
        "id": "fPQOyf8QQHgR",
        "outputId": "2e544073-25ca-46d9-e833-c5b3e67ab879"
      },
      "execution_count": null,
      "outputs": [
        {
          "output_type": "stream",
          "name": "stdout",
          "text": [
            "Año actual:  2025\n"
          ]
        }
      ]
    },
    {
      "cell_type": "markdown",
      "source": [],
      "metadata": {
        "id": "6AhAq2weO2Wk"
      }
    },
    {
      "cell_type": "markdown",
      "source": [
        "# Aquí una celda creada con Markdown\n"
      ],
      "metadata": {
        "id": "-qkXUUlwULZZ"
      }
    },
    {
      "cell_type": "markdown",
      "source": [
        "## este es un subnivel de la celda creada\n"
      ],
      "metadata": {
        "id": "7My0tqlOUv6m"
      }
    },
    {
      "cell_type": "markdown",
      "source": [
        "### y este, otro subnivel"
      ],
      "metadata": {
        "id": "GLZfakHMU5wG"
      }
    },
    {
      "cell_type": "markdown",
      "source": [
        "**El texto se puede formatear en negritas** con doble \"*\"\n",
        "*Tambien se puede formatear como cursiva* con un unico \"*\"\n",
        "***o con ambos formatos a la vez*** con triple\"*\""
      ],
      "metadata": {
        "id": "vP3GevsLV6Of"
      }
    },
    {
      "cell_type": "markdown",
      "source": [
        "#### Listas\n"
      ],
      "metadata": {
        "id": "F6wn6rUqXUQb"
      }
    },
    {
      "cell_type": "markdown",
      "source": [
        "Listas con viñetas (* + espacio)\n",
        "* Elemento 1\n",
        "* Elemento 2\n",
        "* Elemento 3\n",
        "\n",
        "Listas numeradas (número + punto + espacio)\n",
        "1. Elemento 1\n",
        "2. Elemento 2\n",
        "3. Elemento 3"
      ],
      "metadata": {
        "id": "XIh7WS-WXmM_"
      }
    },
    {
      "cell_type": "markdown",
      "source": [
        "#### Enlaces"
      ],
      "metadata": {
        "id": "FOD-j10OYTzG"
      }
    },
    {
      "cell_type": "markdown",
      "source": [
        "[Página de Alura](https://www.aluracursos.com/)"
      ],
      "metadata": {
        "id": "upUPI8R3Ya4d"
      }
    },
    {
      "cell_type": "markdown",
      "source": [
        "# Manipulando los datos\n",
        "\n",
        "Vamos a aprender sobre las variables en Python, cómo declararlas y utilizarlas además de conocer otros comandos de este lenguaje. :D"
      ],
      "metadata": {
        "id": "iP8uWQmFYFRs"
      }
    },
    {
      "cell_type": "markdown",
      "source": [
        "## Variables\n",
        "\n",
        "En Data Science trabajamos con varios tipos de datos e informaciones, entonces es esencial saber cómo trabajar con las variables."
      ],
      "metadata": {
        "id": "sLNVmnTbag1Z"
      }
    },
    {
      "cell_type": "markdown",
      "source": [
        "Las variables en Python se crean cuando atribuimos un valor a ella.\n",
        "\n",
        "Para esto, colocamos el nombre de la variable, el signo de igual (`=`) y el valor que queremos atribuirle."
      ],
      "metadata": {
        "id": "lsCY0wahAbf6"
      }
    },
    {
      "cell_type": "code",
      "source": [
        "nombre = \"Mariano\"\n"
      ],
      "metadata": {
        "id": "vsHh5buZADND"
      },
      "execution_count": null,
      "outputs": []
    },
    {
      "cell_type": "code",
      "source": [
        "edad = 48\n"
      ],
      "metadata": {
        "id": "sivPtqSjADQV"
      },
      "execution_count": null,
      "outputs": []
    },
    {
      "cell_type": "code",
      "source": [
        "hijos = True\n"
      ],
      "metadata": {
        "id": "JC8jO47wADlm"
      },
      "execution_count": null,
      "outputs": []
    },
    {
      "cell_type": "code",
      "source": [
        "otro_dato = 29.5"
      ],
      "metadata": {
        "id": "kqgcsG8ZcbXz"
      },
      "execution_count": null,
      "outputs": []
    },
    {
      "cell_type": "code",
      "source": [
        "print(nombre, edad, hijos, otro_dato)\n"
      ],
      "metadata": {
        "colab": {
          "base_uri": "https://localhost:8080/"
        },
        "id": "wZLWijb5chuy",
        "outputId": "de7a6492-9053-4f8b-926e-e36d711415cf"
      },
      "execution_count": null,
      "outputs": [
        {
          "output_type": "stream",
          "name": "stdout",
          "text": [
            "Mariano 48 True 29.5\n",
            "Estos son los 4 tipos básico en python <class 'str'> <class 'int'> <class 'bool'> <class 'float'>\n"
          ]
        }
      ]
    },
    {
      "cell_type": "markdown",
      "source": [
        "Existen algunos tipos de nomes que **no** podemos definir para las variables:\n",
        "\n",
        "- **Nombres que comiencen con números**\n",
        "  - Ejemplos: `10_notas`, `2_nombre_casa`, etc.\n",
        "- **Palabras separadas por espacio**\n",
        "  - Ejemplos: `Nombre escuela`, `notas estudiantes`, etc.\n",
        "- **Nombres de funciones de Python**\n",
        "  - Ejemplos: `print`, `type`, etc."
      ],
      "metadata": {
        "id": "om2N0jHKAzwL"
      }
    },
    {
      "cell_type": "markdown",
      "source": [
        "> Las letras mayúsculas y minúsculas generarán diferentes variables. La variable `edad` es diferente de `Edad` que a su vez es diferente de `EDAD`:\n",
        "``` Python\n",
        "edad = 1\n",
        "Edad = 2\n",
        "EDAD = 3\n",
        "_edad = 4\n",
        "_edad_ = 5\n",
        "print(edad, Edad, EDAD, _edad, _edad_)\n",
        "1 2 3 4 5\n",
        "```"
      ],
      "metadata": {
        "id": "A19vY2GVMujB"
      }
    },
    {
      "cell_type": "markdown",
      "source": [
        "## Tipos de variables\n",
        "\n",
        "Cada variable contiene una clase específica con respecto al tipo de objeto al cual esta hace referencia. Estas clases serán diferentes de acuerdo con el tipo de dato que le sea atribuido a una variable.\n",
        "\n",
        "Para conocer la clase de cada elemento usamos la función [`type()`](https://docs.python.org/3/library/functions.html#type)"
      ],
      "metadata": {
        "id": "UqhzuBhBHsps"
      }
    },
    {
      "cell_type": "code",
      "source": [
        "print(\"Est es el tipo de datos de las cadenas de texto en python\",type(nombre))"
      ],
      "metadata": {
        "id": "J5a9t73A_-PX",
        "colab": {
          "base_uri": "https://localhost:8080/"
        },
        "outputId": "1c7a066f-013b-489e-db73-b68261657bc7"
      },
      "execution_count": null,
      "outputs": [
        {
          "output_type": "stream",
          "name": "stdout",
          "text": [
            "Est es el tipo de datos de las cadenas de texto en python <class 'str'>\n"
          ]
        }
      ]
    },
    {
      "cell_type": "code",
      "source": [
        "print(\"Este es eltipo de dato de los números enteros en  Python\", type(edad))"
      ],
      "metadata": {
        "id": "rqmO1ew-_-So",
        "colab": {
          "base_uri": "https://localhost:8080/"
        },
        "outputId": "e153239b-86bf-4a59-faed-8a1d873f9040"
      },
      "execution_count": null,
      "outputs": [
        {
          "output_type": "stream",
          "name": "stdout",
          "text": [
            "Este es eltipo de dato de los números enteros en  Python <class 'int'>\n"
          ]
        }
      ]
    },
    {
      "cell_type": "code",
      "source": [
        "print(\"Este es el tipo de dato de los valores lógicos en Python\", type(hijos))"
      ],
      "metadata": {
        "id": "xkrPMkeY_-cP",
        "colab": {
          "base_uri": "https://localhost:8080/"
        },
        "outputId": "2e46a697-21bc-4c0a-c53b-cc5d937288d9"
      },
      "execution_count": null,
      "outputs": [
        {
          "output_type": "stream",
          "name": "stdout",
          "text": [
            "Este es el tipo de dato de los valores lógicos en Python <class 'bool'>\n"
          ]
        }
      ]
    },
    {
      "cell_type": "code",
      "source": [
        "print(\"Este es el tipo de dato de los números decimales\", type(otro_dato))"
      ],
      "metadata": {
        "colab": {
          "base_uri": "https://localhost:8080/"
        },
        "id": "OXLtPTXBdYif",
        "outputId": "852d6c34-cab7-4ac3-c278-b6f4877432be"
      },
      "execution_count": null,
      "outputs": [
        {
          "output_type": "stream",
          "name": "stdout",
          "text": [
            "Este es el tipo de dato de los números decimales <class 'float'>\n"
          ]
        }
      ]
    },
    {
      "cell_type": "markdown",
      "source": [
        "En un conjunto de datos escolares podemos tener varios tipos de informaciones. Supongamos que tenemos acceso a la ficha de datos del alumno *Penélope Camacho*, cómo transformamos este nombre en variables de Python?\n",
        "\n",
        "#### Ficha:\n",
        "\n",
        "- Nombre: Penélope Camacho\n",
        "- Edad: 11 años\n",
        "- Promedio del semestre: 9,75\n",
        "- Situación de aprobación: Verdadera (aprobado)"
      ],
      "metadata": {
        "id": "O-FxDumfWu0C"
      }
    },
    {
      "cell_type": "code",
      "source": [
        "nombre_estudiante = \"Penelope Camacho\"\n",
        "edad_estudiante = 11\n",
        "promedio_semestre = 9.75\n",
        "aprobado = True"
      ],
      "metadata": {
        "id": "FabQ7jQf_8Xt"
      },
      "execution_count": null,
      "outputs": []
    },
    {
      "cell_type": "code",
      "source": [
        "print(nombre_estudiante, edad_estudiante, promedio_semestre, aprobado)\n",
        "print(\"Estos son los 4 tipos básico en python\",type(nombre_estudiante), type(edad_estudiante), type(promedio_semestre), type(aprobado))"
      ],
      "metadata": {
        "id": "IZLQnZUj_8bd",
        "colab": {
          "base_uri": "https://localhost:8080/"
        },
        "outputId": "4fd88fe2-cf2b-4f83-8b3e-f15694aed519"
      },
      "execution_count": null,
      "outputs": [
        {
          "output_type": "stream",
          "name": "stdout",
          "text": [
            "Penelope Camacho 11 9.75 True\n",
            "Estos son los 4 tipos básico en python <class 'str'> <class 'int'> <class 'float'> <class 'bool'>\n"
          ]
        }
      ]
    },
    {
      "cell_type": "markdown",
      "source": [
        "## Variables numéricas\n",
        "\n",
        "Entre los tipos de datos numéricos vamos a enfocarnos en los tipos `entero` y `float`."
      ],
      "metadata": {
        "id": "KFq_8Sxf-OG0"
      }
    },
    {
      "cell_type": "markdown",
      "source": [
        "Tenemos una tabla de información sobre los diversos cargos, cantidad de personas empleadas y el salario correspondiente:\n",
        "\n",
        "|Cargo | Cantidad | Salario|\n",
        "|---|---|---|\n",
        "|Vigilante | 5 | 300 |\n",
        "|Docente | 16| 500|\n",
        "|Coordinador| 2 |600|\n",
        "\n",
        "Necesitamos trabajar con estos datos para obtener:\n",
        "\n",
        "- La cantidad total de empleados;\n",
        "- La diferencia entre el salario más bajo y más alto; y\n",
        "- El promedio ponderado de los salarios de los empleados de la escuela."
      ],
      "metadata": {
        "id": "8_HYUbkVYdQY"
      }
    },
    {
      "cell_type": "code",
      "source": [
        "c_vigilantes = 5\n",
        "s_vigilante = 300\n",
        "c_docentes = 16\n",
        "s_docente = 500\n",
        "c_coordinador = 2\n",
        "s_coordinador = 600\n",
        "\n",
        "total_empleados = sum([c_vigilantes, c_docentes, c_coordinador])\n",
        "print(\"Total de empleados:\", total_empleados)"
      ],
      "metadata": {
        "id": "F_X-wxdm_5Ys",
        "colab": {
          "base_uri": "https://localhost:8080/"
        },
        "outputId": "74d3eadb-1ec4-480e-8a7a-21bf6e41388c"
      },
      "execution_count": null,
      "outputs": [
        {
          "output_type": "stream",
          "name": "stdout",
          "text": [
            "Total de empleados: 23\n"
          ]
        }
      ]
    },
    {
      "cell_type": "code",
      "source": [
        "# Buscamos el sueldo menor y mayor\n",
        "sueldo_menor = min(s_vigilante, s_docente, s_coordinador)\n",
        "sueldo_mayor = max(s_vigilante, s_docente, s_coordinador)\n",
        "\n",
        "\"\"\"\n",
        "# Comparación para encontrar el menor sueldo\n",
        "if s_vigilante < s_docente:\n",
        "    sueldo_menor = s_vigilante\n",
        "else:\n",
        "    sueldo_menor = s_docente\n",
        "\n",
        "if sueldo_menor > s_coordinador:\n",
        "    sueldo_menor = s_coordinador\n",
        "\n",
        "# Comparación para encontrar el mayor sueldo\n",
        "if s_vigilante > s_docente:\n",
        "    sueldo_mayor = s_vigilante\n",
        "else:\n",
        "    sueldo_mayor = s_docente\n",
        "\n",
        "if sueldo_mayor < s_coordinador:\n",
        "    sueldo_mayor = s_coordinador\n",
        "\"\"\"\n",
        "\n",
        "# Calculamos la diferencia\n",
        "diferencia_sueldos = sueldo_mayor - sueldo_menor\n",
        "\n",
        "\n",
        "# Mostramos los resultados\n",
        "print(\"Sueldo mayor:\", sueldo_mayor)\n",
        "print(\"Sueldo menor:\", sueldo_menor)\n",
        "print(\"Diferencia de sueldos:\", diferencia_sueldos)"
      ],
      "metadata": {
        "id": "gKmBbhII_5b9",
        "colab": {
          "base_uri": "https://localhost:8080/"
        },
        "outputId": "f15f5645-638e-46bf-efff-79633ce9371e"
      },
      "execution_count": null,
      "outputs": [
        {
          "output_type": "stream",
          "name": "stdout",
          "text": [
            "Sueldo mayor: 600\n",
            "Sueldo menor: 300\n",
            "Diferencia de sueldos: 300\n"
          ]
        }
      ]
    },
    {
      "cell_type": "code",
      "source": [
        "promedio_sueldos = (c_vigilantes * s_vigilante + c_docentes * s_docente + c_coordinador * s_coordinador)/total_empleados\n",
        "print(\"Promedio de sueldos de toda la plantilla: \",promedio_sueldos)"
      ],
      "metadata": {
        "id": "fIugsxNy_53j",
        "colab": {
          "base_uri": "https://localhost:8080/"
        },
        "outputId": "a5fe21e9-98f8-478a-faa7-fa049da3e566"
      },
      "execution_count": null,
      "outputs": [
        {
          "output_type": "stream",
          "name": "stdout",
          "text": [
            "Promedio de sueldos de toda la plantilla:  465.2173913043478\n"
          ]
        }
      ]
    },
    {
      "cell_type": "markdown",
      "source": [
        "## Strings"
      ],
      "metadata": {
        "id": "yQy7b0ZWoD-P"
      }
    },
    {
      "cell_type": "markdown",
      "source": [
        "Strings hace referencia a un conjunto de caracteres formando un texto.\n",
        "\n",
        "Podemos crear Strings cuando atribuimos un dato a una variable entre comillas sencillas (`'`) o comillas dobles (`\"`)."
      ],
      "metadata": {
        "id": "vlo2-DXusv3s"
      }
    },
    {
      "cell_type": "code",
      "source": [
        "\"Este es un string\""
      ],
      "metadata": {
        "id": "ityEWqvh_2wK",
        "colab": {
          "base_uri": "https://localhost:8080/",
          "height": 35
        },
        "outputId": "17429e56-63f4-4b9f-ec37-45cdc12f0b61"
      },
      "execution_count": null,
      "outputs": [
        {
          "output_type": "execute_result",
          "data": {
            "text/plain": [
              "'Este es un string'"
            ],
            "application/vnd.google.colaboratory.intrinsic+json": {
              "type": "string"
            }
          },
          "metadata": {},
          "execution_count": 9
        }
      ]
    },
    {
      "cell_type": "markdown",
      "source": [
        "Las variables textuales son objetos que poseen métodos que nos ayudan a formatear strings. Los métodos los podemos ejecutar al definir un objeto de acuerdo con la siguiente estructura:\n",
        "\n",
        "```\n",
        "objeto.metodo()\n",
        "```\n",
        "\n",
        "Existen métodos que no necesitan los `()`, siempre es una buena práctica verificar la documentación para cada caso."
      ],
      "metadata": {
        "id": "2e9UD_CCxqz_"
      }
    },
    {
      "cell_type": "markdown",
      "source": [
        "---\n",
        "**Situación:**\n",
        "\n",
        "Recibimos una variable con el nombre de una profesora de la escuela para añadirla a los registros. Sin embargo, necesitamos darle un tratamiento a este texto antes de insertarlo al sistema."
      ],
      "metadata": {
        "id": "p6aPmMGP4tf9"
      }
    },
    {
      "cell_type": "code",
      "source": [
        "texto = '  Micaela de los Sanyos '"
      ],
      "metadata": {
        "id": "icDWtYTjBO0n"
      },
      "execution_count": null,
      "outputs": []
    },
    {
      "cell_type": "markdown",
      "source": [
        "El objetivo final es que el nombre aparezca de la siguiente forma:\n",
        "\n",
        "```\n",
        "'MICAELA DE LOS SANTOS'\n",
        "```"
      ],
      "metadata": {
        "id": "Dg2ZXSZOGzjC"
      }
    },
    {
      "cell_type": "markdown",
      "source": [
        "### [`str.upper()` ](https://docs.python.org/3/library/stdtypes.html#str.upper)\n",
        "Convierte una string a mayúsculas."
      ],
      "metadata": {
        "id": "iVTAD8q702eN"
      }
    },
    {
      "cell_type": "code",
      "source": [
        "texto.upper()"
      ],
      "metadata": {
        "id": "wMVshJrY_ZXh",
        "colab": {
          "base_uri": "https://localhost:8080/",
          "height": 35
        },
        "outputId": "b0d25f6e-7b9f-46cf-b8aa-20d6951f9475"
      },
      "execution_count": null,
      "outputs": [
        {
          "output_type": "execute_result",
          "data": {
            "text/plain": [
              "'  MICAELA DE LOS SANYOS '"
            ],
            "application/vnd.google.colaboratory.intrinsic+json": {
              "type": "string"
            }
          },
          "metadata": {},
          "execution_count": 12
        }
      ]
    },
    {
      "cell_type": "markdown",
      "source": [
        "### [`str.lower()`](https://docs.python.org/3/library/stdtypes.html#str.lower)\n",
        "Convierte una string a minúsculas."
      ],
      "metadata": {
        "id": "hbDSBtMV1TpG"
      }
    },
    {
      "cell_type": "code",
      "source": [
        "texto.lower()"
      ],
      "metadata": {
        "id": "px3yEeNH_YK4",
        "colab": {
          "base_uri": "https://localhost:8080/",
          "height": 35
        },
        "outputId": "acbe1470-d997-436e-afaa-4687aeaea9e6"
      },
      "execution_count": null,
      "outputs": [
        {
          "output_type": "execute_result",
          "data": {
            "text/plain": [
              "'  micaela de los sanyos '"
            ],
            "application/vnd.google.colaboratory.intrinsic+json": {
              "type": "string"
            }
          },
          "metadata": {},
          "execution_count": 13
        }
      ]
    },
    {
      "cell_type": "markdown",
      "source": [
        "### [`str.strip()`](https://docs.python.org/3/library/stdtypes.html#str.strip)\n",
        "Elimina los espacios en blanco al inicio y al final de una string."
      ],
      "metadata": {
        "id": "kz47eWM11gii"
      }
    },
    {
      "cell_type": "code",
      "source": [
        "texto.strip()"
      ],
      "metadata": {
        "id": "76dLgNa4_XAe",
        "colab": {
          "base_uri": "https://localhost:8080/",
          "height": 35
        },
        "outputId": "b857255c-2966-48c7-eeb4-46b6ea3acbca"
      },
      "execution_count": null,
      "outputs": [
        {
          "output_type": "execute_result",
          "data": {
            "text/plain": [
              "'Micaela de los Sanyos'"
            ],
            "application/vnd.google.colaboratory.intrinsic+json": {
              "type": "string"
            }
          },
          "metadata": {},
          "execution_count": 14
        }
      ]
    },
    {
      "cell_type": "markdown",
      "source": [
        "### [`str.replace(antiguo, nuevo)`](https://docs.python.org/3/library/stdtypes.html#str.replace)\n",
        "\n",
        "Sustituye todas las ocurrencias del texto \"antiguo\" en la string por el  \"nuevo\"."
      ],
      "metadata": {
        "id": "m6notiyS1SCV"
      }
    },
    {
      "cell_type": "code",
      "source": [
        "texto.replace(\"y\", \"t\")"
      ],
      "metadata": {
        "id": "PNXAixtE_V6R",
        "colab": {
          "base_uri": "https://localhost:8080/",
          "height": 35
        },
        "outputId": "48e383c9-1327-40ae-f57b-6f32b24a27ec"
      },
      "execution_count": null,
      "outputs": [
        {
          "output_type": "execute_result",
          "data": {
            "text/plain": [
              "'  Micaela de los Santos '"
            ],
            "application/vnd.google.colaboratory.intrinsic+json": {
              "type": "string"
            }
          },
          "metadata": {},
          "execution_count": 15
        }
      ]
    },
    {
      "cell_type": "markdown",
      "source": [
        "### Observaciones\n",
        "\n",
        "1. Los métodos devuelven una **tranformación**, no son ejecutados directamente sobre la variable donde está almacenado el texto.\n",
        "\n",
        "2. Adicionalmente, podemos acumular la ejecución de los métodos."
      ],
      "metadata": {
        "id": "zukvEjhG2Rcn"
      }
    },
    {
      "cell_type": "code",
      "source": [
        "texto"
      ],
      "metadata": {
        "id": "JjkBRklr_T5n",
        "colab": {
          "base_uri": "https://localhost:8080/",
          "height": 35
        },
        "outputId": "2c0988a5-88c4-4a1a-8b1b-0f1a640568bf"
      },
      "execution_count": null,
      "outputs": [
        {
          "output_type": "execute_result",
          "data": {
            "text/plain": [
              "'  Micaela de los Sanyos '"
            ],
            "application/vnd.google.colaboratory.intrinsic+json": {
              "type": "string"
            }
          },
          "metadata": {},
          "execution_count": 16
        }
      ]
    },
    {
      "cell_type": "markdown",
      "source": [
        "Para que la transformación se pueda ejecutar debemos atribuir la salida de las transformaciones a las variables"
      ],
      "metadata": {
        "id": "1KbwfVut2h6I"
      }
    },
    {
      "cell_type": "code",
      "source": [
        "nuevo_texto = texto.replace(\"y\", \"t\").upper().strip()\n",
        "print(nuevo_texto)\n",
        "print(\"ubicación texto\", id(texto))\n",
        "print(\"ubicación nuevo texto\",id(nuevo_texto))"
      ],
      "metadata": {
        "id": "ocPP-Jaj_SJI",
        "colab": {
          "base_uri": "https://localhost:8080/"
        },
        "outputId": "6f46d700-d9f8-49bb-9e2d-baa9859e843c"
      },
      "execution_count": null,
      "outputs": [
        {
          "output_type": "stream",
          "name": "stdout",
          "text": [
            "MICAELA DE LOS SANTOS\n",
            "ubicación texto 140493709453600\n",
            "ubicación nuevo texto 140493709451600\n"
          ]
        }
      ]
    },
    {
      "cell_type": "code",
      "source": [
        "texto = texto.replace(\"y\", \"t\").upper().strip()\n",
        "print(texto)\n",
        "print(\"nueva ubicación texto\", id(texto))"
      ],
      "metadata": {
        "id": "m1RvLGZZ_SP3",
        "colab": {
          "base_uri": "https://localhost:8080/"
        },
        "outputId": "fad239cc-7fe7-4e6a-e53c-4903e55d0562"
      },
      "execution_count": null,
      "outputs": [
        {
          "output_type": "stream",
          "name": "stdout",
          "text": [
            "MICAELA DE LOS SANTOS\n",
            "nueva ubicación texto 140493708500848\n"
          ]
        }
      ]
    },
    {
      "cell_type": "markdown",
      "source": [
        "## Capturando datos\n",
        "\n",
        "En algunas aplicaciones necesitamos capturar los valores del usuario de nuestro proyecto. En python, logramos capturar los datos del usuario a través del comando [`input()`](https://docs.python.org/3/library/functions.html#input).\n",
        "\n",
        "Para ejecutar la captura debemos atribuir el resultado de esta función a una variable."
      ],
      "metadata": {
        "id": "0h9Fh5G9kHCa"
      }
    },
    {
      "cell_type": "code",
      "source": [
        "nombre = input(\"Ingrese su nombre: \")\n",
        "edad = input(\"Ingrese su edad: \")"
      ],
      "metadata": {
        "id": "zbH_9i3q_PdY",
        "colab": {
          "base_uri": "https://localhost:8080/"
        },
        "outputId": "208b2234-ddba-4ff6-f8f6-0ab01e8d30e2"
      },
      "execution_count": null,
      "outputs": [
        {
          "name": "stdout",
          "output_type": "stream",
          "text": [
            "Ingrese su nombre: Mariano\n",
            "Ingrese su edad: 48\n"
          ]
        }
      ]
    },
    {
      "cell_type": "code",
      "source": [
        "type(nombre)\n",
        "type(edad)"
      ],
      "metadata": {
        "id": "JZy1Q9Tl_PgL",
        "colab": {
          "base_uri": "https://localhost:8080/"
        },
        "outputId": "b2b1b596-2ba9-48d8-8378-7a2d505bcc7f"
      },
      "execution_count": null,
      "outputs": [
        {
          "output_type": "execute_result",
          "data": {
            "text/plain": [
              "str"
            ]
          },
          "metadata": {},
          "execution_count": 37
        }
      ]
    },
    {
      "cell_type": "markdown",
      "source": [
        "La salida de este comando siempre será una *string*. Esto quiere decir que aunque capturemos un valor de variable numérica, este será de tipo string.\n",
        "\n",
        "Entonces, será necesario **convertir el resultado cuando no se desea utilizar el valor como tipo string**."
      ],
      "metadata": {
        "id": "7z7hcLCk_aCY"
      }
    },
    {
      "cell_type": "markdown",
      "source": [
        "Existen funciones para la conversión de valores:\n",
        "\n",
        "- Enteros: [`int(dato_para_conversion)`](https://docs.python.org/3/library/functions.html#int)\n",
        "- Coma flotante: [`float(dato_para_conversion)`](https://docs.python.org/3/library/functions.html#float)\n",
        "- String: [`str(dato_para_conversion)`](https://docs.python.org/3/library/functions.html#func-str)\n",
        "- Booleano: [`bool(dato_para_conversion)`](https://docs.python.org/3/library/functions.html#bool)"
      ],
      "metadata": {
        "id": "TOlegATj1Jfp"
      }
    },
    {
      "cell_type": "code",
      "source": [
        "edad = int(edad)\n",
        "type(edad)"
      ],
      "metadata": {
        "id": "M2ueeH6l_NMe",
        "colab": {
          "base_uri": "https://localhost:8080/"
        },
        "outputId": "9fc5db80-f306-49ac-ca45-a247e17900ed"
      },
      "execution_count": null,
      "outputs": [
        {
          "output_type": "execute_result",
          "data": {
            "text/plain": [
              "int"
            ]
          },
          "metadata": {},
          "execution_count": 41
        }
      ]
    },
    {
      "cell_type": "code",
      "source": [
        "nota = float(input(\"Ingrese la nota de su examen: \"))\n",
        "type(nota)"
      ],
      "metadata": {
        "id": "xfWwuViK_NUn",
        "colab": {
          "base_uri": "https://localhost:8080/"
        },
        "outputId": "2a41247f-5ed7-469b-f224-531ce31265ec"
      },
      "execution_count": null,
      "outputs": [
        {
          "name": "stdout",
          "output_type": "stream",
          "text": [
            "Ingrese la nota de su exament: 7.8\n"
          ]
        },
        {
          "output_type": "execute_result",
          "data": {
            "text/plain": [
              "float"
            ]
          },
          "metadata": {},
          "execution_count": 42
        }
      ]
    },
    {
      "cell_type": "code",
      "source": [
        "uno = 1\n",
        "cero = 0\n",
        "print(uno, type(uno))\n",
        "print(cero, type(cero))\n",
        "uno = bool(uno)\n",
        "cero =  bool(cero)\n",
        "print(uno, type(uno))\n",
        "print(cero, type(cero))\n"
      ],
      "metadata": {
        "id": "uFCHDyew_NZm",
        "colab": {
          "base_uri": "https://localhost:8080/"
        },
        "outputId": "e2294f3e-b9fe-4dd5-c654-b8a278a815df"
      },
      "execution_count": null,
      "outputs": [
        {
          "output_type": "stream",
          "name": "stdout",
          "text": [
            "1 <class 'int'>\n",
            "0 <class 'int'>\n",
            "True <class 'bool'>\n",
            "False <class 'bool'>\n"
          ]
        }
      ]
    },
    {
      "cell_type": "markdown",
      "source": [
        "Trataremos de representar mejor ahora el resultado de la transformación que obtuvimos. Nosotros podemos formatear y presentar nuestro resultado mezclando strings con valores no textuales.\n",
        "\n",
        "Para ello utilizamos la estructura de formatación `f` con strings."
      ],
      "metadata": {
        "id": "yNI2-XTbB3aS"
      }
    },
    {
      "cell_type": "code",
      "source": [
        "print(f'Su nombre es {nombre} \\n Su edad es {edad} años \\n La nota de su examen es {nota}')"
      ],
      "metadata": {
        "id": "keJjA5N9_K5i",
        "colab": {
          "base_uri": "https://localhost:8080/"
        },
        "outputId": "4e52a107-4bc2-468f-eaf1-77768b715aa2"
      },
      "execution_count": null,
      "outputs": [
        {
          "output_type": "stream",
          "name": "stdout",
          "text": [
            "Su nombre es Mariano \n",
            " Su edad es 48 años \n",
            " La nota de su examen es 7.8\n"
          ]
        }
      ]
    },
    {
      "cell_type": "markdown",
      "source": [
        "# Estructuras condicionales"
      ],
      "metadata": {
        "id": "NwRaiHHHhhyl"
      }
    },
    {
      "cell_type": "code",
      "source": [],
      "metadata": {
        "id": "pa4gLncu-mvU"
      },
      "execution_count": null,
      "outputs": []
    },
    {
      "cell_type": "code",
      "source": [],
      "metadata": {
        "id": "_cWRmDiE-m4p"
      },
      "execution_count": null,
      "outputs": []
    },
    {
      "cell_type": "markdown",
      "source": [
        "# Formatos"
      ],
      "metadata": {
        "id": "WM4_BtmGILEi"
      }
    },
    {
      "cell_type": "code",
      "source": [
        "nombre = \"Ana María\"\n",
        "edad = 17\n",
        "print(f\"El nombre de la alumna es {nombre} y su edad es {edad} años.\")"
      ],
      "metadata": {
        "colab": {
          "base_uri": "https://localhost:8080/"
        },
        "id": "oiV24YefIQv4",
        "outputId": "46e98d40-24e1-49f9-d72d-b6b18720bfe2"
      },
      "execution_count": null,
      "outputs": [
        {
          "output_type": "stream",
          "name": "stdout",
          "text": [
            "El nombre de la alumna es Ana María y su edad es 17 años.\n"
          ]
        }
      ]
    },
    {
      "cell_type": "markdown",
      "source": [
        "## Operador de Formateo"
      ],
      "metadata": {
        "id": "nMTKYLx7OxpL"
      }
    },
    {
      "cell_type": "markdown",
      "source": [
        " Tipo de Variable\t-- Palabra Clave\n",
        "\n",
        "* Cadena de texto------------%s\n",
        "* Entero---------------------%d\n",
        "* Punto flotante-------------%f\n",
        "* Caractér-------------------%c"
      ],
      "metadata": {
        "id": "aFugF_7YIdXr"
      }
    },
    {
      "cell_type": "code",
      "source": [
        "nombre_alumno = 'Penélope Camacho'\n",
        "edad_alumno = 11\n",
        "media_alumno = 9.95\n",
        "print('Nombre del alumno es %s, tiene %d años y su media es %f.' %(nombre_alumno, edad_alumno, media_alumno))"
      ],
      "metadata": {
        "colab": {
          "base_uri": "https://localhost:8080/"
        },
        "id": "x5Q5nRqoJmm4",
        "outputId": "e2f8d0c0-5790-4ebc-d0ad-64fedad7998b"
      },
      "execution_count": null,
      "outputs": [
        {
          "output_type": "stream",
          "name": "stdout",
          "text": [
            "Nombre del alumno es Penélope Camacho, tiene 11 años y su media es 9.950000.\n"
          ]
        }
      ]
    },
    {
      "cell_type": "markdown",
      "source": [
        "Cuando trabajamos con números de coma flotante (float), podemos determinar la cantidad de decimales después del punto utilizando la sintaxis %.xf, donde x es el número de decimales deseados."
      ],
      "metadata": {
        "id": "Uf7d49cjKS2Q"
      }
    },
    {
      "cell_type": "code",
      "source": [
        "pi = 3.141592653589793\n",
        "print('El valor de PI es %.2f' %(pi))"
      ],
      "metadata": {
        "colab": {
          "base_uri": "https://localhost:8080/"
        },
        "id": "BPa5D9AoKU7m",
        "outputId": "7952cfa3-9693-4ef0-ffc6-c684e6d16203"
      },
      "execution_count": null,
      "outputs": [
        {
          "output_type": "stream",
          "name": "stdout",
          "text": [
            "El valor de PI es 3.14\n"
          ]
        }
      ]
    },
    {
      "cell_type": "markdown",
      "source": [
        "Un detalle importante es que los operadores de formateo de cadena con % no funcionan directamente con valores booleanos."
      ],
      "metadata": {
        "id": "Lq0PrVkPLVtv"
      }
    },
    {
      "cell_type": "code",
      "source": [
        "x = True\n",
        "print(\"Valor de x: %s\" % str(x))"
      ],
      "metadata": {
        "colab": {
          "base_uri": "https://localhost:8080/"
        },
        "id": "i8NxpLl5LecE",
        "outputId": "3b3b8ca8-f750-4f69-8e37-d81f46f6e534"
      },
      "execution_count": null,
      "outputs": [
        {
          "output_type": "stream",
          "name": "stdout",
          "text": [
            "Valor de x: True\n"
          ]
        }
      ]
    },
    {
      "cell_type": "markdown",
      "source": [
        "##Método .format():"
      ],
      "metadata": {
        "id": "AHIn_bKPLtCY"
      }
    },
    {
      "cell_type": "markdown",
      "source": [
        "También es posible utilizar el método .format() para formatear cadenas. Es más flexible y permite pasar las variables directamente dentro de la cadena, sin necesidad de operadores %. Los marcadores son simplemente {}"
      ],
      "metadata": {
        "id": "UbOplGGdL245"
      }
    },
    {
      "cell_type": "markdown",
      "source": [],
      "metadata": {
        "id": "5VCu9bDYLwU2"
      }
    },
    {
      "cell_type": "code",
      "source": [
        "nombre_alumno = 'Penélope Camacho'\n",
        "print('Nombre del alumno: {}'.format(nombre_alumno))"
      ],
      "metadata": {
        "colab": {
          "base_uri": "https://localhost:8080/"
        },
        "id": "RhNR0s-sL-9J",
        "outputId": "29ea57ff-d03b-4a67-b91d-69973cd214c3"
      },
      "execution_count": null,
      "outputs": [
        {
          "output_type": "stream",
          "name": "stdout",
          "text": [
            "Nombre del alumno: Penélope Camacho\n"
          ]
        }
      ]
    },
    {
      "cell_type": "markdown",
      "source": [],
      "metadata": {
        "id": "ZNrhwWjjPIRU"
      }
    },
    {
      "cell_type": "markdown",
      "source": [
        "Del mismo modo que se hace con el operador, puedes usarlo con varias variables:\n"
      ],
      "metadata": {
        "id": "NffPHpkDPFjl"
      }
    },
    {
      "cell_type": "code",
      "source": [
        "nombre_alumno = 'Fabricio Daniel'\n",
        "edad_alumno = 15\n",
        "media_alumno = 9.95\n",
        "print('Nombre del alumno es {}, tiene {} años y su media es {}.' .format(nombre_alumno, edad_alumno, media_alumno))"
      ],
      "metadata": {
        "colab": {
          "base_uri": "https://localhost:8080/"
        },
        "id": "-xYfsmkjPMVe",
        "outputId": "eee8c902-1b3c-40cd-ea4b-1f99a0b129d5"
      },
      "execution_count": null,
      "outputs": [
        {
          "output_type": "stream",
          "name": "stdout",
          "text": [
            "Nombre del alumno es Fabricio Daniel, tiene 15 años y su media es 9.95.\n"
          ]
        }
      ]
    },
    {
      "cell_type": "markdown",
      "source": [
        "Nota que con .format(), no tienes el problema de los decimales de coma flotante. Tampoco tienes este problema con las f-strings.\n",
        "\n",
        "En resumen, cada uno de estos métodos tiene sus ventajas y desventajas. Se recomienda utilizar f-strings, ya que son más legibles y fáciles de usar. Sin embargo, cada desarrollador puede elegir el método que le parezca más apropiado."
      ],
      "metadata": {
        "id": "cAh5qURpPVN4"
      }
    },
    {
      "cell_type": "markdown",
      "source": [
        "##Caracteres Especiales\n",
        "\n",
        "Además de la formateo de inserción de variables en una cadena, también existen caracteres especiales. Se utilizan para representar acciones especiales o caracteres que no se pueden escribir directamente, como el “Enter” y la tabulación. A continuación, presentamos algunos de ellos. Intenta replicar todos los ejemplos y observa el resultado final.\n",
        "\n",
        "\\n es el carácter de nueva línea y se usa para saltar una línea en el texto (similar a la función \"Enter\"). Ejemplo:"
      ],
      "metadata": {
        "id": "g5qp9sZ1PhPC"
      }
    },
    {
      "cell_type": "code",
      "source": [
        "print(\"Estudiar es un esfuerzo constante,\\nEs como cultivar una planta,\\nNecesitamos dedicación y paciencia,\\nPara ver madurar el fruto.\")\n"
      ],
      "metadata": {
        "colab": {
          "base_uri": "https://localhost:8080/"
        },
        "id": "WM-P2VzIPwBF",
        "outputId": "6e020f8e-8b77-4344-d36f-d3f379ae9812"
      },
      "execution_count": null,
      "outputs": [
        {
          "output_type": "stream",
          "name": "stdout",
          "text": [
            "Estudiar es un esfuerzo constante,\n",
            "Es como cultivar una planta,\n",
            "Necesitamos dedicación y paciencia,\n",
            "Para ver madurar el fruto.\n"
          ]
        }
      ]
    },
    {
      "cell_type": "markdown",
      "source": [
        "\\t es el carácter de tabulación y se utiliza para agregar un espacio de tabulación en el texto.\n"
      ],
      "metadata": {
        "id": "tftjssUFP790"
      }
    },
    {
      "cell_type": "code",
      "source": [
        "print('Cantidad\\tCalidad\\n5 muestras\\tAlta\\n3 muestras\\tBaja')"
      ],
      "metadata": {
        "colab": {
          "base_uri": "https://localhost:8080/"
        },
        "id": "bsuM1zFNP-RA",
        "outputId": "afc65f6c-85b4-45af-daa5-743c8dead576"
      },
      "execution_count": null,
      "outputs": [
        {
          "output_type": "stream",
          "name": "stdout",
          "text": [
            "Cantidad\tCalidad\n",
            "5 muestras\tAlta\n",
            "3 muestras\tBaja\n"
          ]
        }
      ]
    },
    {
      "cell_type": "markdown",
      "source": [
        "\\\\ se usa para imprimir una sola barra invertida. Si no se utiliza una doble barra invertida, el código podría generar un error o un resultado inesperado, ya que Python considera \\ como un carácter especial. Usamos esta sintaxis para garantizar que no ocurran errores."
      ],
      "metadata": {
        "id": "me7kT0hmQQFl"
      }
    },
    {
      "cell_type": "code",
      "source": [
        "print(\"Ruta del archivo: C:\\\\archivos\\\\documento.csv\")"
      ],
      "metadata": {
        "colab": {
          "base_uri": "https://localhost:8080/"
        },
        "id": "3ZQXWjvFQTA4",
        "outputId": "742a6f3a-cbbf-4edc-88c4-8eb720e774ad"
      },
      "execution_count": null,
      "outputs": [
        {
          "output_type": "stream",
          "name": "stdout",
          "text": [
            "Ruta del archivo: C:\\archivos\\documento.csv\n"
          ]
        }
      ]
    },
    {
      "cell_type": "markdown",
      "source": [
        "\\ \" se utiliza para imprimir comillas dobles cuando estamos trabajando con una cadena creada con comillas dobles \" en el interior. Sin embargo, esto no es necesario si la cadena se crea con comillas simples '."
      ],
      "metadata": {
        "id": "9zYHi74VRK7I"
      }
    },
    {
      "cell_type": "code",
      "source": [
        "print(\"Una vez oí: \\\"Los frutos del conocimiento son los más dulces y duraderos de todos.\\\"\")"
      ],
      "metadata": {
        "colab": {
          "base_uri": "https://localhost:8080/"
        },
        "id": "-6TbhlwoRiTQ",
        "outputId": "9f5df7e0-5046-4d5d-9556-ed0d56b80bf2"
      },
      "execution_count": null,
      "outputs": [
        {
          "output_type": "stream",
          "name": "stdout",
          "text": [
            "Una vez oí: \"Los frutos del conocimiento son los más dulces y duraderos de todos.\"\n"
          ]
        }
      ]
    },
    {
      "cell_type": "markdown",
      "source": [
        "\\ ' se utiliza para imprimir comillas simples cuando estamos trabajando con una cadena creada con comillas simples '. Si la cadena se crea con comillas dobles \", esto no es necesario."
      ],
      "metadata": {
        "id": "_4jz03gMRthj"
      }
    },
    {
      "cell_type": "code",
      "source": [
        "print('Mi profesora una vez dijo: \\'Estudiar es la clave del éxito.\\'')"
      ],
      "metadata": {
        "colab": {
          "base_uri": "https://localhost:8080/"
        },
        "id": "AXidNc8pRw9Z",
        "outputId": "d8c4af42-0226-4cc2-8bf0-8908c65398cd"
      },
      "execution_count": null,
      "outputs": [
        {
          "output_type": "stream",
          "name": "stdout",
          "text": [
            "Mi profesora una vez dijo: 'Estudiar es la clave del éxito.'\n"
          ]
        }
      ]
    },
    {
      "cell_type": "markdown",
      "source": [
        "##Ejercitación"
      ],
      "metadata": {
        "id": "kyHyq-u7SWlF"
      }
    },
    {
      "cell_type": "markdown",
      "source": [
        "Recopilación y muestra de datos\n",
        "\n",
        "1 - Crea un programa que solicite al usuario que escriba su nombre y luego imprima \"Hola, [nombre].\""
      ],
      "metadata": {
        "id": "9UZ-iWG9SbVH"
      }
    },
    {
      "cell_type": "code",
      "source": [
        "nombre = input('Bienvenido! Escriba su nombre')\n",
        "print(f'Hola, {nombre}.')"
      ],
      "metadata": {
        "colab": {
          "base_uri": "https://localhost:8080/"
        },
        "id": "Hrm4TReNSh1J",
        "outputId": "5e3fe8f8-6767-4306-b7dd-54e6e9305f2a"
      },
      "execution_count": null,
      "outputs": [
        {
          "output_type": "stream",
          "name": "stdout",
          "text": [
            "Bienvenido! Escriba su nombreMariano\n",
            "Hola, Mariano.\n"
          ]
        }
      ]
    },
    {
      "cell_type": "markdown",
      "source": [
        "2 - Crea un programa que solicite al usuario que escriba su nombre y edad, y luego imprima \"Hola, [nombre], tienes [edad] años.\""
      ],
      "metadata": {
        "id": "3_snMLOmS-A3"
      }
    },
    {
      "cell_type": "code",
      "source": [
        "nombre = input('Bienvenido! Escriba su nombre: ')\n",
        "edad = input(f'Gracias {nombre}, ahora escribe tu edad: ')\n",
        "print(f'Hola, {nombre}, tienes {edad} años')"
      ],
      "metadata": {
        "colab": {
          "base_uri": "https://localhost:8080/"
        },
        "id": "79bm0r6vTC6F",
        "outputId": "e262585d-4cb3-46bb-adcb-408b17dfcb7a"
      },
      "execution_count": null,
      "outputs": [
        {
          "output_type": "stream",
          "name": "stdout",
          "text": [
            "Bienvenido! Escriba su nombre: Mariano\n",
            "Gracias Mariano, ahora escribe su edad: 48\n",
            "Hola, Mariano, tienes 48 años\n"
          ]
        }
      ]
    },
    {
      "cell_type": "markdown",
      "source": [
        "3 - Crea un programa que solicite al usuario que escriba su nombre, edad y altura en metros, y luego imprima \"Hola, [nombre], tienes [edad] años y mides [altura] metros.\""
      ],
      "metadata": {
        "id": "zOd1NasnUThA"
      }
    },
    {
      "cell_type": "code",
      "source": [
        "nombre = input('Bienvenido! Escriba su nombre: ')\n",
        "edad = input(f'Gracias {nombre}, ahora escribe tu edad: ')\n",
        "altura = input(f'Genial, {nombre}. Ahora bríndanos tu estatura: ')\n",
        "print(f'Hola, {nombre}, tienes {edad} años y mides {altura} metros')"
      ],
      "metadata": {
        "colab": {
          "base_uri": "https://localhost:8080/"
        },
        "id": "4BGlSZ7ZUdET",
        "outputId": "116784b8-bda3-4134-b283-8d3231ee651d"
      },
      "execution_count": null,
      "outputs": [
        {
          "output_type": "stream",
          "name": "stdout",
          "text": [
            "Bienvenido! Escriba su nombre: Mariano\n",
            "Gracias Mariano, ahora escribe tu edad: 48\n",
            "Genial, Mariano. Ahora bríndanos tu estatura: 1.80\n",
            "Hola, Mariano, tienes 48 años y mides 1.80 metros\n"
          ]
        }
      ]
    },
    {
      "cell_type": "markdown",
      "source": [
        "Calculadora con operadores\n",
        "\n",
        "4 - Crea un programa que solicite dos valores numéricos al usuario y luego imprima la suma de ambos valores."
      ],
      "metadata": {
        "id": "hOnzLzc3VU6T"
      }
    },
    {
      "cell_type": "code",
      "source": [
        "num1 = int(input(\"Ingrese un número: \"))\n",
        "num2 = int(input(\"ingrese un segundo número: \"))\n",
        "print(f'Has ingresado {num1} y {num2} y la suma de estos valores es {num1 + num2}')"
      ],
      "metadata": {
        "colab": {
          "base_uri": "https://localhost:8080/"
        },
        "id": "8IMLXOxBVZBY",
        "outputId": "f603bec6-a07f-4785-e77f-c4defd8d2f05"
      },
      "execution_count": null,
      "outputs": [
        {
          "output_type": "stream",
          "name": "stdout",
          "text": [
            "Ingrese un número: 46\n",
            "ingrese un segundo número: 78\n",
            "Has ingresado 46 y 78 y la suma de estos valores es 124\n"
          ]
        }
      ]
    },
    {
      "cell_type": "markdown",
      "source": [
        "5 - Crea un programa que solicite tres valores numéricos al usuario y luego imprima la suma de los tres valores."
      ],
      "metadata": {
        "id": "Tf7nHKQsYJdC"
      }
    },
    {
      "cell_type": "code",
      "source": [
        "num1 = int(input(\"Ingrese un número: \"))\n",
        "num2 = int(input(\"ingrese un segundo número: \"))\n",
        "num3 = int(input(\"ingrese ahora un tercer y último número: \"))\n",
        "print(f'Has ingresado {num1}, {num2} y {num3} y la suma de estos valores es {num1 + num2 + num3}')"
      ],
      "metadata": {
        "colab": {
          "base_uri": "https://localhost:8080/"
        },
        "id": "xcFLiDwgYN7m",
        "outputId": "3cc7ec9f-246d-41f7-ae37-4a42dfa5982c"
      },
      "execution_count": null,
      "outputs": [
        {
          "output_type": "stream",
          "name": "stdout",
          "text": [
            "Ingrese un número: 26\n",
            "ingrese un segundo número: 39\n",
            "ingrese ahora un tercer y último número: 46\n",
            "Has ingresado 26, 39 y 46 y la suma de estos valores es 111\n"
          ]
        }
      ]
    },
    {
      "cell_type": "markdown",
      "source": [
        "6 - Crea un programa que solicite dos valores numéricos al usuario y luego imprima la resta del primero menos el segundo valor."
      ],
      "metadata": {
        "id": "IBwTbX7vY2le"
      }
    },
    {
      "cell_type": "code",
      "source": [],
      "metadata": {
        "id": "vx4R4TcJY4de"
      },
      "execution_count": null,
      "outputs": []
    },
    {
      "cell_type": "code",
      "source": [
        "num1 = int(input(\"Ingrese un número: \"))\n",
        "num2 = int(input(\"ingrese un segundo número: \"))\n",
        "print(f'Has ingresado {num1}, {num2} y la resta del primero menos el segundo es {num1 - num2 }')"
      ],
      "metadata": {
        "colab": {
          "base_uri": "https://localhost:8080/"
        },
        "outputId": "6800725d-4866-4407-c8ec-14cbf6fbcee5",
        "id": "H1W1CFRXY8Wf"
      },
      "execution_count": null,
      "outputs": [
        {
          "output_type": "stream",
          "name": "stdout",
          "text": [
            "Ingrese un número: 29\n",
            "ingrese un segundo número: 49\n",
            "Has ingresado 29, 49 y la resta del primero menos el segundo es -20\n"
          ]
        }
      ]
    },
    {
      "cell_type": "markdown",
      "source": [
        "7 - Crea un programa que solicite dos valores numéricos al usuario y luego imprima la multiplicación de los dos valores."
      ],
      "metadata": {
        "id": "bu_y2G4CZZq_"
      }
    },
    {
      "cell_type": "code",
      "source": [
        "num1 = int(input(\"Ingrese un número: \"))\n",
        "num2 = int(input(\"ingrese un segundo número: \"))\n",
        "print(f'Has ingresado {num1} y {num2} y el producto de estos valores es {num1 * num2}')"
      ],
      "metadata": {
        "colab": {
          "base_uri": "https://localhost:8080/"
        },
        "id": "AD23kk_gZa_t",
        "outputId": "938facdf-b989-423c-ad1b-6d2fd3405cb9"
      },
      "execution_count": null,
      "outputs": [
        {
          "output_type": "stream",
          "name": "stdout",
          "text": [
            "Ingrese un número: 40\n",
            "ingrese un segundo número: 50\n",
            "Has ingresado 40 y 50 y el producto de estos valores es 2000\n"
          ]
        }
      ]
    },
    {
      "cell_type": "markdown",
      "source": [
        "8 - Crea un programa que solicite dos valores numéricos, un numerador y un denominador, y realice la división entre los dos valores. Asegúrate de que el valor del denominador no sea igual a 0."
      ],
      "metadata": {
        "id": "mr3iZMnkZqQB"
      }
    },
    {
      "cell_type": "code",
      "source": [
        "numerador = int(input(\"Ingrese un número: \"))\n",
        "denominador = int(input(\"Ingrese un segundo número que no sea cero: \"))\n",
        "while denominador == 0:\n",
        "  denominador = int(input(\"Ingrese un número que sea distinto de cero: \"))\n",
        "\n",
        "print(f'Has ingresado {numerador} y {denominador} y el cociente del primero por el segundo es  {numerador / denominador}')"
      ],
      "metadata": {
        "colab": {
          "base_uri": "https://localhost:8080/"
        },
        "id": "sNKoZEMzZ2W3",
        "outputId": "332fa6c0-837f-4a6e-fee1-83d63888f31d"
      },
      "execution_count": null,
      "outputs": [
        {
          "output_type": "stream",
          "name": "stdout",
          "text": [
            "Ingrese un número: 27\n",
            "Ingrese un segundo número que no sea cero: 0\n",
            "Ingrese un número que sea distinto de cero: 0\n",
            "Ingrese un número que sea distinto de cero: 3\n",
            "Has ingresado 27 y 3 y el cociente del primero por el segundo es  9.0\n"
          ]
        }
      ]
    },
    {
      "cell_type": "markdown",
      "source": [
        "9 - Crea un programa que solicite dos valores numéricos, un operador y una potencia, y realice la exponenciación entre estos dos valores."
      ],
      "metadata": {
        "id": "AYgNfFonc99y"
      }
    },
    {
      "cell_type": "code",
      "source": [
        "operador = int(input(\"Ingresa un número: \"))\n",
        "potencia = int(input(\"Ingresa un segundo número: \"))\n",
        "\n",
        "print(f'Has ingresado {operador} y {potencia} y el resultado de elevar el primero a la potencia del segundo es {operador ** potencia}')"
      ],
      "metadata": {
        "colab": {
          "base_uri": "https://localhost:8080/"
        },
        "id": "2q1p5hRNdDtk",
        "outputId": "a01f807f-a5f1-4435-b663-cb3da94a394c"
      },
      "execution_count": null,
      "outputs": [
        {
          "output_type": "stream",
          "name": "stdout",
          "text": [
            "Ingresa un número5\n",
            "Ingresa un segundo número5\n",
            "Has ingresado 5 y 5 y el resultado de elevar el primero a la potencia del segundo es 3125\n"
          ]
        }
      ]
    },
    {
      "cell_type": "markdown",
      "source": [
        "10 - Crea un programa que solicite dos valores numéricos, un numerador y un denominador, y realice la división entera entre los dos valores. Asegúrate de que el valor del denominador no sea igual a 0."
      ],
      "metadata": {
        "id": "bE2QFLCheE2K"
      }
    },
    {
      "cell_type": "code",
      "source": [
        "numerador = int(input(\"Ingrese un número: \"))\n",
        "denominador = int(input(\"Ingrese un segundo número que no sea cero: \"))\n",
        "while denominador == 0:\n",
        "  denominador = int(input(\"Ingrese un número que sea distinto de cero: \"))\n",
        "\n",
        "print(f'Has ingresado {numerador} y {denominador} y la división entera del primero por el segundo es  {numerador // denominador}')"
      ],
      "metadata": {
        "colab": {
          "base_uri": "https://localhost:8080/"
        },
        "id": "HZZdZBB2eSoG",
        "outputId": "d6eec440-91d0-48f3-844a-4bf3a4275188"
      },
      "execution_count": null,
      "outputs": [
        {
          "output_type": "stream",
          "name": "stdout",
          "text": [
            "Ingrese un número: 10\n",
            "Ingrese un segundo número que no sea cero: 0\n",
            "Ingrese un número que sea distinto de cero: 0\n",
            "Ingrese un número que sea distinto de cero: 7\n",
            "Has ingresado 10 y 7 y la división entera del primero por el segundo es  1\n"
          ]
        }
      ]
    },
    {
      "cell_type": "markdown",
      "source": [
        "11 - Crea un programa que solicite dos valores numéricos, un numerador y un denominador, y devuelva el resto de la división entre los dos valores. Asegúrate de que el valor del denominador no sea igual a 0."
      ],
      "metadata": {
        "id": "RmrtTwpJerb3"
      }
    },
    {
      "cell_type": "code",
      "source": [
        "numerador = int(input(\"Ingrese un número: \"))\n",
        "denominador = int(input(\"Ingrese un segundo número que no sea cero: \"))\n",
        "while denominador == 0:\n",
        "  denominador = int(input(\"Ingrese un número que sea distinto de cero: \"))\n",
        "\n",
        "print(f'Has ingresado {numerador} y {denominador} y el resto de la divisón del primero por el segundo es  {numerador % denominador}')"
      ],
      "metadata": {
        "colab": {
          "base_uri": "https://localhost:8080/"
        },
        "id": "DoWV9NAge1ln",
        "outputId": "7564b702-6ede-48ba-db51-a1ea4e28e3f2"
      },
      "execution_count": null,
      "outputs": [
        {
          "output_type": "stream",
          "name": "stdout",
          "text": [
            "Ingrese un número: 20\n",
            "Ingrese un segundo número que no sea cero: 0\n",
            "Ingrese un número que sea distinto de cero: 3\n",
            "Has ingresado 20 y 3 y el resto de la divisón del primero por el segundo es  2\n"
          ]
        }
      ]
    },
    {
      "cell_type": "markdown",
      "source": [
        "12 - Crea un código que solicite las 3 notas de un estudiante e imprima el promedio de las notas."
      ],
      "metadata": {
        "id": "WB5JC43YfHqB"
      }
    },
    {
      "cell_type": "code",
      "source": [
        "nota1 = float(input(\"Ingresa la nota de tu primer parcial: \"))\n",
        "nota2 = float(input(\"Ingresa la nota de tu segundo parcial: \"))\n",
        "nota3 = float(input(\"Ingresa la nota de tu tercer parcial: \"))\n",
        "promedio = (nota1 + nota2 + nota3)/3\n",
        "\n",
        "print(f'tus notas fueron {nota1}, {nota2} y {nota3}. El promedio de tus notas es %.2f' %(promedio) )"
      ],
      "metadata": {
        "colab": {
          "base_uri": "https://localhost:8080/"
        },
        "id": "4uzLzKzBfhDv",
        "outputId": "090457b6-4a97-470c-db50-6caf35ee2d09"
      },
      "execution_count": null,
      "outputs": [
        {
          "output_type": "stream",
          "name": "stdout",
          "text": [
            "Ingresa la nota de tu primer parcial: 6.8\n",
            "Ingresa la nota de tu segundo parcial: 7.5\n",
            "Ingresa la nota de tu tercer parcial: 8.3\n",
            "tus notas fueron 6.8, 7.5 y 8.3. El promedio de tus notas es 7.53\n"
          ]
        }
      ]
    },
    {
      "cell_type": "markdown",
      "source": [
        "13 - Crea un código que calcule e imprima el promedio ponderado de los números 5, 12, 20 y 15 con pesos respectivamente iguales a 1, 2, 3 y 4."
      ],
      "metadata": {
        "id": "WzJYoykLhzlL"
      }
    },
    {
      "cell_type": "code",
      "source": [
        "valores = [5, 12, 20, 15]\n",
        "pesos = [1, 2, 3, 4]\n",
        "\n",
        "suma_ponderada = sum(valor * peso for valor, peso in zip (valores, pesos))\n",
        "suma_pesos = sum(pesos)\n",
        "\n",
        "promedio_ponderado = suma_ponderada/suma_pesos\n",
        "\n",
        "print(f'El promedio ponderado es {promedio_ponderado}')"
      ],
      "metadata": {
        "colab": {
          "base_uri": "https://localhost:8080/"
        },
        "id": "inuWFTVyj6eK",
        "outputId": "47df7ab5-73eb-4d15-8215-0e87c2d43a15"
      },
      "execution_count": null,
      "outputs": [
        {
          "output_type": "stream",
          "name": "stdout",
          "text": [
            "El promedio ponderado es 14.9\n"
          ]
        }
      ]
    },
    {
      "cell_type": "markdown",
      "source": [
        "Editando textos\n",
        "\n",
        "14 - Crea una variable llamada \"frase\" y asígnale una cadena de texto de tu elección. Luego, imprime la frase en pantalla."
      ],
      "metadata": {
        "id": "aEdagomKlnud"
      }
    },
    {
      "cell_type": "code",
      "source": [
        "frase = \"As I lay here with you, the shame lies with us.\"\n",
        "print(frase)"
      ],
      "metadata": {
        "colab": {
          "base_uri": "https://localhost:8080/"
        },
        "id": "AuYpJBxKOdR0",
        "outputId": "653399f7-5857-4d3a-e98b-1b221a95e2b3"
      },
      "execution_count": null,
      "outputs": [
        {
          "output_type": "stream",
          "name": "stdout",
          "text": [
            "As I lay here with you, the shame lies with us.\n"
          ]
        }
      ]
    },
    {
      "cell_type": "markdown",
      "source": [
        "15 - Crea un código que solicite una frase y luego imprima la frase en pantalla."
      ],
      "metadata": {
        "id": "mIdQ_TQiO22k"
      }
    },
    {
      "cell_type": "code",
      "source": [
        "frase_user = input(\"Ingresa una frase, idea, pensamiento: \")\n",
        "print(frase_user)"
      ],
      "metadata": {
        "id": "aMcpCs9wO1et"
      },
      "execution_count": null,
      "outputs": []
    },
    {
      "cell_type": "markdown",
      "source": [
        "16 - Crea un código que solicite una frase al usuario y luego imprima la misma frase ingresada pero en mayúsculas."
      ],
      "metadata": {
        "id": "URw4oTlPPg7v"
      }
    },
    {
      "cell_type": "code",
      "source": [
        "frase_user = input(\"Ingresa una frase, idea, pensamiento: \")\n",
        "print(frase_user.strip().upper())"
      ],
      "metadata": {
        "colab": {
          "base_uri": "https://localhost:8080/"
        },
        "id": "Hj202OwHPl9p",
        "outputId": "7067c7c1-8a20-4742-cef8-7cf2fc3c77ce"
      },
      "execution_count": null,
      "outputs": [
        {
          "output_type": "stream",
          "name": "stdout",
          "text": [
            "Ingresa una frase, idea, pensamiento: we talk of lñove and trust, it doesn't matter\n",
            "WE TALK OF LÑOVE AND TRUST, IT DOESN'T MATTER\n"
          ]
        }
      ]
    },
    {
      "cell_type": "markdown",
      "source": [
        "17 - Crea un código que solicite una frase al usuario y luego imprima la misma frase ingresada pero en minúsculas."
      ],
      "metadata": {
        "id": "M6wqnWchQCKU"
      }
    },
    {
      "cell_type": "code",
      "source": [
        "frase_user = input(\"Ingresa una frase, idea, pensamiento: \")\n",
        "print(frase_user.strip().lower())"
      ],
      "metadata": {
        "colab": {
          "base_uri": "https://localhost:8080/"
        },
        "id": "ZdIRsd_OQBIA",
        "outputId": "326468db-e221-4983-d873-e5dd6f3bc9ae"
      },
      "execution_count": null,
      "outputs": [
        {
          "output_type": "stream",
          "name": "stdout",
          "text": [
            "Ingresa una frase, idea, pensamiento: WE TALK OF LOVE AND TRUST, IT DOESN'T MATTER\n",
            "we talk of love and trust, it doesn't matter\n"
          ]
        }
      ]
    },
    {
      "cell_type": "markdown",
      "source": [
        "18 - Crea una variable llamada \"frase\" y asígnale una cadena de texto de tu elección. Luego, imprime la frase sin espacios en blanco al principio y al final."
      ],
      "metadata": {
        "id": "X0u4pGWGQbFw"
      }
    },
    {
      "cell_type": "code",
      "source": [
        "frase = \"    As I lay here with you, the shame lies with us.   \"\n",
        "print(frase.strip())"
      ],
      "metadata": {
        "colab": {
          "base_uri": "https://localhost:8080/"
        },
        "id": "GqypgJtCQcQF",
        "outputId": "808497a2-c1f9-4f46-b39c-28c927782c37"
      },
      "execution_count": null,
      "outputs": [
        {
          "output_type": "stream",
          "name": "stdout",
          "text": [
            "As I lay here with you, the shame lies with us.\n"
          ]
        }
      ]
    },
    {
      "cell_type": "markdown",
      "source": [
        "19 - Crea un código que solicite una frase al usuario y luego imprima la misma frase sin espacios en blanco al principio y al final."
      ],
      "metadata": {
        "id": "UBbra6yoQ8IX"
      }
    },
    {
      "cell_type": "code",
      "source": [
        "frase_user = input(\"Ingresa una frase, idea, pensamiento: \")\n",
        "print(frase_user.strip())"
      ],
      "metadata": {
        "id": "grrUjg2gRH04"
      },
      "execution_count": null,
      "outputs": []
    },
    {
      "cell_type": "markdown",
      "source": [
        "20 - Crea un código que solicite una frase al usuario y luego imprima la misma frase sin espacios en blanco al principio y al final, además de convertirla a minúsculas."
      ],
      "metadata": {
        "id": "t12QvyWURQro"
      }
    },
    {
      "cell_type": "code",
      "source": [
        "frase_user = input(\"Ingresa una frase, idea, pensamiento: \")\n",
        "print(frase_user.strip().lower())"
      ],
      "metadata": {
        "id": "zSC6iFcVROrc"
      },
      "execution_count": null,
      "outputs": []
    },
    {
      "cell_type": "markdown",
      "source": [
        "21 - Crea un código que solicite una frase al usuario y luego imprima la misma frase con todas las vocales \"e\" reemplazadas por la letra \"f\"."
      ],
      "metadata": {
        "id": "msoda2R5Rbyq"
      }
    },
    {
      "cell_type": "code",
      "source": [
        "frase_user = input(\"Ingresa una frase, idea, pensamiento: \")\n",
        "print(frase_user.strip().lower().replace(\"e\", \"f\"))"
      ],
      "metadata": {
        "colab": {
          "base_uri": "https://localhost:8080/"
        },
        "id": "whbnslpQRdFu",
        "outputId": "b9afae98-1193-469d-e8c8-cbbf52bf6c4b"
      },
      "execution_count": null,
      "outputs": [
        {
          "output_type": "stream",
          "name": "stdout",
          "text": [
            "Ingresa una frase, idea, pensamiento: End of the world is here\n",
            "fnd of thf world is hfrf\n"
          ]
        }
      ]
    },
    {
      "cell_type": "markdown",
      "source": [
        "22 - Crea un código que solicite una frase al usuario y luego imprima la misma frase con todas las vocales \"a\" reemplazadas por el carácter \"@\"."
      ],
      "metadata": {
        "id": "G4jyclm8TyPO"
      }
    },
    {
      "cell_type": "code",
      "source": [
        "frase_user = input(\"Ingresa una frase, idea, pensamiento: \")\n",
        "print(frase_user.strip().lower().replace(\"a\", \"@\"))"
      ],
      "metadata": {
        "colab": {
          "base_uri": "https://localhost:8080/"
        },
        "id": "I-q1wV5eT5XG",
        "outputId": "4f1b7c2e-f9ae-4a8f-ce92-d679b941256d"
      },
      "execution_count": null,
      "outputs": [
        {
          "output_type": "stream",
          "name": "stdout",
          "text": [
            "Ingresa una frase, idea, pensamiento: The shame lies with us, we talk of love and trust, it doesn't matter\n",
            "the sh@me lies with us, we t@lk of love @nd trust, it doesn't m@tter\n"
          ]
        }
      ]
    },
    {
      "cell_type": "markdown",
      "source": [
        "23 - Crea un código que solicite una frase al usuario y luego imprima la misma frase con todas las consonantes \"s\" reemplazadas por el carácter \"$\"."
      ],
      "metadata": {
        "id": "bi_TocaFURKJ"
      }
    },
    {
      "cell_type": "code",
      "source": [
        "frase_user = input(\"Ingresa una frase, idea, pensamiento: \")\n",
        "print(frase_user.strip().lower().replace(\"s\", \"$\"))"
      ],
      "metadata": {
        "colab": {
          "base_uri": "https://localhost:8080/"
        },
        "id": "Qp_Ek-7_UU6X",
        "outputId": "046e0e00-82a9-462d-d308-244cde9073a0"
      },
      "execution_count": null,
      "outputs": [
        {
          "output_type": "stream",
          "name": "stdout",
          "text": [
            "Ingresa una frase, idea, pensamiento: we talk of love and trust, it doesn't matter\n",
            "we talk of love and tru$t, it doe$n't matter\n"
          ]
        }
      ]
    },
    {
      "cell_type": "markdown",
      "source": [
        "## `IF` y `ELSE`\n",
        "\n",
        "Los comandos `if` y `else` son dos estructuras condicionales. El comando `if` ejecutará el bloque de comandos en caso de que la condición citada sea  **verdadera**. El comando `else` ejecutará el bloque de comandos en el caso de que la condicional de `if` sea **falsa**."
      ],
      "metadata": {
        "id": "qXZqg9aYEhAh"
      }
    },
    {
      "cell_type": "markdown",
      "source": [
        "El comando `if` es una palabra clave en Python que significa \"si\". Este se emplea para conformar la estructura condicional, que te permite verificar si una determinada condición es verdadera o falsa e, inmediatamente después, ejecute un bloque de código específico dependiendo del resultado de la verificación. La sintaxis para usar el comando `if` es:\n",
        "\n",
        "\n",
        "\n",
        "```\n",
        "if condicion:\n",
        "    # Realiza algo\n",
        "```\n",
        "\n"
      ],
      "metadata": {
        "id": "EIhlqHXd2Gil"
      }
    },
    {
      "cell_type": "code",
      "source": [],
      "metadata": {
        "id": "S2S6XAFz-czM"
      },
      "execution_count": null,
      "outputs": []
    },
    {
      "cell_type": "code",
      "source": [],
      "metadata": {
        "id": "YHkwMMyY-c1r"
      },
      "execution_count": null,
      "outputs": []
    },
    {
      "cell_type": "markdown",
      "source": [
        "Ya el comando `else` en Python se usa en junción con la palabra clave `if` para formar una estructura condicional. la sintaxis para usar el `else` es:\n",
        "\n",
        "```\n",
        "if condicion:\n",
        "  # codigo en caso de que sea verdad\n",
        "else:\n",
        "  # codigo en caso de que sea falso\n",
        "```\n",
        "\n",
        "el comando `else` se ejecuta cuando la condición verificada por el `if` es evaluada como `False`."
      ],
      "metadata": {
        "id": "27RW2v_sIKct"
      }
    },
    {
      "cell_type": "code",
      "source": [],
      "metadata": {
        "id": "ZTfNJd_f-aOq"
      },
      "execution_count": null,
      "outputs": []
    },
    {
      "cell_type": "code",
      "source": [],
      "metadata": {
        "id": "LPOb5MkV-btq"
      },
      "execution_count": null,
      "outputs": []
    },
    {
      "cell_type": "markdown",
      "source": [
        "---\n",
        "**Situación:**\n",
        "\n",
        "Recibiremos el promedio de la nota de los estudiantes y necesitamos de un algoritmo que ejecute el análisis y determine si el estudiante fue **Aprobado** o **Reprobado**, mostrando un mensaje del resultado. Para ser aprobado, el promedio necesita ser igual o superior a 7.0."
      ],
      "metadata": {
        "id": "BqORg85XX-Nl"
      }
    },
    {
      "cell_type": "code",
      "source": [
        "nota = float(input(\"Ingrese  su nota: \"))"
      ],
      "metadata": {
        "id": "UukCN4AQ-YYW",
        "colab": {
          "base_uri": "https://localhost:8080/"
        },
        "outputId": "8a662a5b-f608-4584-d5fd-7ab72f3e605a"
      },
      "execution_count": null,
      "outputs": [
        {
          "name": "stdout",
          "output_type": "stream",
          "text": [
            "Ingrese  su nota: 6.9\n"
          ]
        }
      ]
    },
    {
      "cell_type": "code",
      "source": [
        "if nota >= 7:\n",
        "  print('Aprobado')\n",
        "else:\n",
        "  print('Reprobado')\n"
      ],
      "metadata": {
        "id": "X0o8FW1H-YkA",
        "colab": {
          "base_uri": "https://localhost:8080/"
        },
        "outputId": "0e7da459-0831-40e9-a2fd-ee2882bd5446"
      },
      "execution_count": null,
      "outputs": [
        {
          "output_type": "stream",
          "name": "stdout",
          "text": [
            "Reprobado\n"
          ]
        }
      ]
    },
    {
      "cell_type": "markdown",
      "source": [
        "Ahora, nuestra institución educativa estableció que las personas que tengan el promedio entre 5.0 y 7.0 pueden participar del curso de **Recuperación** durante las vacaciones para lograr aprobar.\n",
        "\n",
        "Entonces podemos apoyarnos en un conjunto de `if`s para poder estructurar esta nueva condición."
      ],
      "metadata": {
        "id": "bD9O17HB6LUo"
      }
    },
    {
      "cell_type": "code",
      "source": [
        "nota = float(input(\"Ingrese  su nota: \"))"
      ],
      "metadata": {
        "id": "G9cJ5O9--W52",
        "colab": {
          "base_uri": "https://localhost:8080/"
        },
        "outputId": "2cb475a3-1ba9-4241-f24a-1dfa3f00ee74"
      },
      "execution_count": null,
      "outputs": [
        {
          "name": "stdout",
          "output_type": "stream",
          "text": [
            "Ingrese  su nota: 8\n"
          ]
        }
      ]
    },
    {
      "cell_type": "code",
      "source": [
        "if nota >= 7:\n",
        "  print('Aprobado')\n",
        "else:\n",
        "   print('Reprobado')"
      ],
      "metadata": {
        "id": "iU-pjoJt-W89",
        "colab": {
          "base_uri": "https://localhost:8080/"
        },
        "outputId": "f07d12d8-b9ae-451b-8615-37ae9ef43c84"
      },
      "execution_count": null,
      "outputs": [
        {
          "output_type": "stream",
          "name": "stdout",
          "text": [
            "Reprobado\n"
          ]
        }
      ]
    },
    {
      "cell_type": "markdown",
      "source": [
        "Observa que en casos con 3 situaciones como este necesitamos definir bien nuestras condiciones. Pues, si realizamos una condición con `else` al final, este irá a considerar solamente la condición `if` inmediatamente anterior para generar la salida en caso de que el resultado de su operación lógica sea **falso** dando como resultado, dos o más ejecuciones.\n",
        "\n",
        "Por ejemplo:"
      ],
      "metadata": {
        "id": "D5e2mByjvycO"
      }
    },
    {
      "cell_type": "code",
      "source": [
        "if nota >= 7:\n",
        "  print('Aprobado')\n",
        "if 7 > nota >= 5:\n",
        "    print('Recuperacion')\n",
        "else:\n",
        "   print('Reprobado')"
      ],
      "metadata": {
        "id": "bHiVgnPs-Vlv",
        "colab": {
          "base_uri": "https://localhost:8080/"
        },
        "outputId": "c82e7477-b262-45f6-a48b-72128c2e1138"
      },
      "execution_count": null,
      "outputs": [
        {
          "output_type": "stream",
          "name": "stdout",
          "text": [
            "Aprobado\n",
            "Reprobado\n"
          ]
        }
      ]
    },
    {
      "cell_type": "markdown",
      "source": [
        "## `ELIF`\n",
        "\n",
        "El comando `elif` es una palabra clave en Python que significa \"si no, si\" y lo podemos considerar una *contracción* entre `else` e `if`. Se utiliza en conjunto con la palabra clave `if` para formar una estructura condicional en cadena."
      ],
      "metadata": {
        "id": "04T5g-7h4zWx"
      }
    },
    {
      "cell_type": "markdown",
      "source": [
        "la sintaxis para utilizar el comando `elif` es:\n",
        "\n",
        "```\n",
        "if condicion1:\n",
        "    # Realiza algo\n",
        "elif condicion2:\n",
        "    # Realiza otra cosa\n",
        "elif condicion3:\n",
        "    # Realiza otra cosa\n",
        "else:\n",
        "    # Realiza algo diferente\n",
        "```\n",
        "\n",
        "El comando `elif` permite que puedas verificar varias condiciones en cadena, economizando espacio en tu código. Si la primera condición se evalúa como `False`, el interpretador de Python evaluará la próxima condición con el `elif`. Ello continuará hasta que una condición sea evaluada como `True` o hasta que el `else` sea alcazado. Si ninguna de las condiciones es evaluada como `True`, la ejecución del código del comando `else` será iniciada."
      ],
      "metadata": {
        "id": "rNBHr5mm1Lm6"
      }
    },
    {
      "cell_type": "markdown",
      "source": [
        "Vamos a emplear el mismo caso anterior:"
      ],
      "metadata": {
        "id": "MVoykFbB4bd4"
      }
    },
    {
      "cell_type": "code",
      "source": [
        "nota = float(input(\"Ingrese  su nota: \"))"
      ],
      "metadata": {
        "id": "QFamB78s-TW_"
      },
      "execution_count": null,
      "outputs": []
    },
    {
      "cell_type": "code",
      "source": [
        "if nota >= 7:\n",
        "  print('Aprobado')\n",
        "\n",
        "elif nota >= 5:\n",
        "    print('Recuperacion')\n",
        "else:\n",
        "    print('Reprobado')"
      ],
      "metadata": {
        "id": "nuScbnHF-TfK",
        "colab": {
          "base_uri": "https://localhost:8080/"
        },
        "outputId": "407d04ed-501d-4f4d-cde7-de1223fe3aa9"
      },
      "execution_count": null,
      "outputs": [
        {
          "output_type": "stream",
          "name": "stdout",
          "text": [
            "Aprobado\n"
          ]
        }
      ]
    },
    {
      "cell_type": "markdown",
      "source": [
        "## Operadores\n",
        "\n",
        "Durante la construcción de comandos a veces necesitamos de una elaboración mayor de la expresión condicional, necesitando que algunos operadores lógicos se encuentren integrados."
      ],
      "metadata": {
        "id": "Tf1wSOem6iwZ"
      }
    },
    {
      "cell_type": "markdown",
      "source": [
        "### `AND`, `OR`, `NOT`\n",
        "\n",
        "Los operadores lógicos `and`, `or` y `not` son usados para combinar expresiones lógicas en Python. Ellos son usados frecuentemente en conjunto con el comando `if` para crear estructuras condicionales más complejas.\n"
      ],
      "metadata": {
        "id": "GFIZnRWXGPWO"
      }
    },
    {
      "cell_type": "markdown",
      "source": [
        "- `AND` es usado para verificar si dos condiciones son verdaderas. La expresión lógica¹ `x and y` se evalúa como `True` tan solo si **ambas condiciones `x` y `y` son verdaderas**, y como `False` en caso contrario.\n",
        "\n",
        "- `OR` es usado para verificar si al menos una de las condiciones es verdadera. La expresión lógica `x or y` se evalúa como `True` **si al menos una de las condiciones `x` o `y` es verdadera**, y como `False` si ambas condiciones son falsas.\n",
        "\n",
        "- `NOT` es usado para **negar una condición**. La expresión lógica `not x` es evaluada como `True` si la condición x es falsa, y como `False` si la condición x es verdadera.\n",
        "\n",
        "¹ Una expresión lógica es una declaración que puede ser evaluada como verdadera o falsa. Ella se compone por operandos lógicos² y por operadores lógicos³, que son usados ​​para combinar varias expresiones lógicas en una única expresión.\n",
        "\n",
        "² Los operandos lógicos son los elementos que son comparados o evaluados en una expresión lógica. Ellos son generalmente valores verdaderos o falsos, pero también pueden ser expresiones lógicas más complejas. En Python, los operandos lógicos son los valores `True` y `False`.\n",
        "\n",
        "³ Los operadores lógicos son ls símbolos o palabras clave que son usados ​​para combinar varias expresiones lógicas en una única expresión. En Python, los operadores lógicos son `and`, `or` y `not`, bien como las palabras clave `if`, `elif` e `else`."
      ],
      "metadata": {
        "id": "Z_dgAoHXJbzB"
      }
    },
    {
      "cell_type": "markdown",
      "source": [
        "> Operadores lógicos más comunes\n",
        "\n",
        "|a|b|AND|OR|NOT|\n",
        "|-|-|-|-|-|\n",
        "|0|0|0|0|1\n",
        "|0|1|0|1|-\n",
        "|1|0|0|1|-\n",
        "|1|1|1|1|0\n"
      ],
      "metadata": {
        "id": "2E5aUogf-49u"
      }
    },
    {
      "cell_type": "code",
      "source": [],
      "metadata": {
        "id": "DFKmpvmS-Pa6"
      },
      "execution_count": null,
      "outputs": []
    },
    {
      "cell_type": "code",
      "source": [],
      "metadata": {
        "id": "W5BIrpOD-PeI"
      },
      "execution_count": null,
      "outputs": []
    },
    {
      "cell_type": "code",
      "source": [],
      "metadata": {
        "id": "fpDhYxq4-PiM"
      },
      "execution_count": null,
      "outputs": []
    },
    {
      "cell_type": "markdown",
      "source": [
        "### `IN`\n",
        "\n",
        "Es usado para verificar si un elemento está presente en una lista, tupla u otra colección de conjunto. La expresión `x in y` se evalúa como `True` si el elemento `x` esta presente na variávelen la variable de conjunto `y`, y como `False` en caso contrario."
      ],
      "metadata": {
        "id": "w7EXG1dhWtja"
      }
    },
    {
      "cell_type": "markdown",
      "source": [
        "Podemos verificarlo con variables de texto.\n",
        "\n",
        "---\n",
        "\n",
        "**Situación:**\n",
        "\n",
        "En la escuela nos entregaron una lista con nombres de estudiantes que fueron aprobados según el promedio del semestre, pero es necesario verificar si algunos nombres están en esa lista para confirmar que los datos estén correctos.\n",
        "\n",
        "La lista distribuida puede ser observada a continuación:\n",
        "\n",
        "```\n",
        "lista = 'Juan Pérez, María González, Pedro Rodríguez, Ana López, Carlos Martínez,\n",
        "    Laura Sánchez, José García, Elena Fernández, Luis Morales, Carmen Torres,\n",
        "    David Ruiz, Isabel Ramírez, Javier Díaz, Sara Herrera, Miguel Castro,\n",
        "    Patricia Ortega, Francisco Vargas, Marta Jiménez, Manuel Medina, Rosa Molina,\n",
        "    Alejandro Silva, Silvia Ruiz, Andrés Torres, Natalia Soto, Diego Guerrero,\n",
        "    Paula Ríos, Ricardo Navarro, Alicia Cordero, Carlos Vidal, Lorena Gómez'\n",
        "```\n",
        "\n",
        "Los nombres que necesitas verificar son los siguientes:\n",
        "\n",
        "```\n",
        "nombre_1 = 'Miguel Castro'\n",
        "nombre_2 = 'Marcelo Noguera'\n",
        "```"
      ],
      "metadata": {
        "id": "enJNp6JenQbq"
      }
    },
    {
      "cell_type": "code",
      "source": [
        "lista = 'Juan Pérez, María González, Pedro Rodríguez, Ana López, Carlos Martínez,Laura Sánchez, José García, Elena Fernández, Luis Morales, Carmen Torres,David Ruiz, Isabel Ramírez, Javier Díaz, Sara Herrera, Miguel Castro,Patricia Ortega, Francisco Vargas, Marta Jiménez, Manuel Medina, Rosa Molina,Alejandro Silva, Silvia Ruiz, Andrés Torres, Natalia Soto, Diego Guerrero,Paula Ríos, Ricardo Navarro, Alicia Cordero, Carlos Vidal, Lorena Gómez'"
      ],
      "metadata": {
        "id": "gPPN9BCT-Mki"
      },
      "execution_count": null,
      "outputs": []
    },
    {
      "cell_type": "code",
      "source": [
        "nombre_1 = 'Miguel Castro'\n",
        "nombre_2 = 'Marcelo Noguera'"
      ],
      "metadata": {
        "id": "GINbG3Fa-Mnb"
      },
      "execution_count": null,
      "outputs": []
    },
    {
      "cell_type": "code",
      "source": [
        "if nombre_1 in lista:\n",
        "  print(\"Aprobó\")\n",
        "else:\n",
        "  print(\"Reprobó\")"
      ],
      "metadata": {
        "id": "hk-RhNRT-Mp7",
        "colab": {
          "base_uri": "https://localhost:8080/"
        },
        "outputId": "4c65b3a5-1466-4991-c586-b51616359ab4"
      },
      "execution_count": null,
      "outputs": [
        {
          "output_type": "stream",
          "name": "stdout",
          "text": [
            "Aprobó\n"
          ]
        }
      ]
    },
    {
      "cell_type": "code",
      "source": [
        "if nombre_2 in lista:\n",
        "  print(\"Aprobó\")\n",
        "else:\n",
        "  print(\"Reprobó\")"
      ],
      "metadata": {
        "colab": {
          "base_uri": "https://localhost:8080/"
        },
        "id": "ue0Q_HjTlzwV",
        "outputId": "9946a324-71a4-40bb-b6be-082c19d44c9c"
      },
      "execution_count": null,
      "outputs": [
        {
          "output_type": "stream",
          "name": "stdout",
          "text": [
            "Reprobó\n"
          ]
        }
      ]
    },
    {
      "cell_type": "markdown",
      "source": [
        "##Ejercitación\n",
        "Entrenando la programación\n",
        "\n",
        "1 - Escribe un programa que pida a la persona usuaria que proporcione dos números y muestre el número más grande."
      ],
      "metadata": {
        "id": "ZnfoNAH-mV2j"
      }
    },
    {
      "cell_type": "code",
      "source": [
        "num1 = int(input(\"Ingrese un número: \"))\n",
        "num2 = int(input(\"ingrese un segundo número: \"))\n",
        "\n",
        "if num1 > num2:\n",
        "  print(f'{num1} es mayor')\n",
        "elif num1 < num2:\n",
        "  print(f'{num2} es mayor')\n",
        "else:\n",
        "  print(f'{num1} y {num2} son iguales')"
      ],
      "metadata": {
        "colab": {
          "base_uri": "https://localhost:8080/"
        },
        "id": "kLJgYL4EmdrB",
        "outputId": "ff3bedad-7c79-4f4e-92da-8c19698c1092"
      },
      "execution_count": null,
      "outputs": [
        {
          "output_type": "stream",
          "name": "stdout",
          "text": [
            "Ingrese un número: 15\n",
            "ingrese un segundo número: 15\n",
            "15 y 15 son iguales\n"
          ]
        }
      ]
    },
    {
      "cell_type": "markdown",
      "source": [
        "2 - Escribe un programa que solicite el porcentaje de crecimiento de producción de una empresa e informe si hubo un crecimiento (porcentaje positivo) o una disminución (porcentaje negativo)."
      ],
      "metadata": {
        "id": "rAbKTXhVor7C"
      }
    },
    {
      "cell_type": "code",
      "source": [
        "porcentaje = int(input(\"Ingrese el porcentaje de variación en la producción \"))\n",
        "\n",
        "if porcentaje > 0:\n",
        "  print(f'Se registró un crecimiento del {porcentaje}% en la producción')\n",
        "elif porcentaje < 0:\n",
        "  print(f'Se registró un descenso del {abs(porcentaje)}% en la producción')\n",
        "else:\n",
        "  print(\"La producción se mantuvo estable\")"
      ],
      "metadata": {
        "colab": {
          "base_uri": "https://localhost:8080/"
        },
        "id": "wcMDSS2UotTJ",
        "outputId": "a8453090-4a8d-4c6d-e5f1-2c6645230f9e"
      },
      "execution_count": null,
      "outputs": [
        {
          "output_type": "stream",
          "name": "stdout",
          "text": [
            "Ingrese el porcentaje de variación en la producción 0\n",
            "La producción se mantuvo estable\n"
          ]
        }
      ]
    },
    {
      "cell_type": "markdown",
      "source": [
        "3 - Escribe un programa que determine si una letra proporcionada por la persona usuaria es una vocal o una consonante."
      ],
      "metadata": {
        "id": "DsLlzMZzrvp9"
      }
    },
    {
      "cell_type": "code",
      "source": [
        "'''letra = input(\"Escribe una letra: \")\n",
        "vocales =\"a, e, i, o, u\"\n",
        "\n",
        "if letra.lower() in vocales:\n",
        "  print(\"La letra elegida es una vocal\")\n",
        "else:\n",
        "  print(\"La letra elegida es una consonante\")'''\n",
        "\n",
        "vocales = \"aeiou\"\n",
        "\n",
        "letra = input(\"Escribe una letra: \").lower()\n",
        "\n",
        "# Se verifica que el usuario ingrese una única letra y que efectivamente sea una letra\n",
        "while not (letra.isalpha() and len(letra) == 1):\n",
        "    letra = input(\"Entrada no válida. Por favor, escribí una sola letra del abecedario: \").lower()\n",
        "\n",
        "# Se evalúa si el usuario ingresó una vocal o consonante\n",
        "if letra in vocales:\n",
        "    print(\"La letra elegida es una vocal.\")\n",
        "else:\n",
        "    print(\"La letra elegida es una consonante.\")"
      ],
      "metadata": {
        "colab": {
          "base_uri": "https://localhost:8080/"
        },
        "id": "NAADCASgrw0h",
        "outputId": "2f52d67f-2266-4ad4-9648-1ea5eb20fa96"
      },
      "execution_count": null,
      "outputs": [
        {
          "output_type": "stream",
          "name": "stdout",
          "text": [
            "Escribe una letra: AT\n",
            "Entrada no válida. Por favor, escribí una sola letra del abecedario: 2\n",
            "Entrada no válida. Por favor, escribí una sola letra del abecedario: !\n",
            "Entrada no válida. Por favor, escribí una sola letra del abecedario: Z\n",
            "La letra elegida es una consonante.\n"
          ]
        }
      ]
    },
    {
      "cell_type": "markdown",
      "source": [
        "4 - Escribe un programa que lea valores promedio de precios de un modelo de automóvil durante 3 años consecutivos y muestre el valor más alto y más bajo entre esos tres años."
      ],
      "metadata": {
        "id": "7yyih3M9wBkY"
      }
    },
    {
      "cell_type": "code",
      "source": [
        "years = [2023, 2024, 2025]\n",
        "values = [15000, 14500, 16000]\n",
        "\n",
        "# Buscar el valor más alto y el más bajo\n",
        "max_value = max(values)\n",
        "min_value = min(values)\n",
        "\n",
        "# Inicializar variables para guardar los años correspondientes\n",
        "year_max = 0\n",
        "year_min = 0\n",
        "\n",
        "# Recorremos ambos al mismo tiempo\n",
        "for value, year in zip(values, years):\n",
        "    if value == max_value:\n",
        "        year_max = year\n",
        "    if value == min_value:\n",
        "        year_min = year\n",
        "\n",
        "print(f\"El valor más alto fue de ${max_value} en el año {year_max}\")\n",
        "print(f\"El valor más bajo fue de ${min_value} en el año {year_min}\")\n",
        "\n"
      ],
      "metadata": {
        "colab": {
          "base_uri": "https://localhost:8080/"
        },
        "id": "tUgW6K4lwZMY",
        "outputId": "7ca751f0-5dcc-41d2-eb7e-ab9ea6d8fac2"
      },
      "execution_count": null,
      "outputs": [
        {
          "output_type": "stream",
          "name": "stdout",
          "text": [
            "El valor más alto fue de $16000 en el año 2025\n",
            "El valor más bajo fue de $14500 en el año 2024\n"
          ]
        }
      ]
    },
    {
      "cell_type": "markdown",
      "source": [
        "5 - Escribe un programa que pregunte sobre el precio de tres productos e indique cuál es el producto más barato para comprar."
      ],
      "metadata": {
        "id": "QFBNHUBh3GUm"
      }
    },
    {
      "cell_type": "code",
      "source": [
        "productos = [\"producto1\", \"producto2\", \"producto3\"]\n",
        "precios = []\n",
        "for producto in productos:\n",
        "  precio = float(input(f'ingrese el precio del {producto}: '))\n",
        "  precios.append(precio)\n",
        "\n",
        "precio_minimo = min(precios)\n",
        "index = precios.index(precio_minimo)\n",
        "producto_mas_barato = productos[index]\n",
        "\n",
        "print(f'El producto mas barato es {producto_mas_barato} y vale ${precio_minimo}')"
      ],
      "metadata": {
        "colab": {
          "base_uri": "https://localhost:8080/"
        },
        "id": "ojA_dhwd3IX9",
        "outputId": "9981829a-761a-4b21-cfce-ba308bfb0b09"
      },
      "execution_count": null,
      "outputs": [
        {
          "output_type": "stream",
          "name": "stdout",
          "text": [
            "ingrese el precio del producto14600\n",
            "ingrese el precio del producto23590\n",
            "ingrese el precio del producto34800\n",
            "El producto mas barato es producto2 y vale $3590.0\n"
          ]
        }
      ]
    },
    {
      "cell_type": "markdown",
      "source": [
        "6 - Escribe un programa que lea tres números y los muestre en orden descendente."
      ],
      "metadata": {
        "id": "lvJCxI716s_e"
      }
    },
    {
      "cell_type": "code",
      "source": [
        "numbers = [42, 3, 81]\n",
        "print(sorted(numbers, reverse=True))\n"
      ],
      "metadata": {
        "colab": {
          "base_uri": "https://localhost:8080/"
        },
        "id": "UkacIHC5AO2c",
        "outputId": "44042fdb-1ca4-4037-bbac-64f6e3571f8c"
      },
      "execution_count": null,
      "outputs": [
        {
          "output_type": "stream",
          "name": "stdout",
          "text": [
            "[81, 42, 3]\n"
          ]
        },
        {
          "output_type": "execute_result",
          "data": {
            "text/plain": [
              "[42, 3, 81]"
            ]
          },
          "metadata": {},
          "execution_count": 88
        }
      ]
    },
    {
      "cell_type": "markdown",
      "source": [
        "7 -Escribe un programa que pregunte en qué turno estudia la persona usuaria (\"mañana\", \"tarde\" o \"noche\") y muestre el mensaje \"¡Buenos Días!\", \"¡Buenas Tardes!\", \"¡Buenas Noches!\" o \"Valor Inválido!\", según el caso."
      ],
      "metadata": {
        "id": "vRIpfHBLBOx2"
      }
    },
    {
      "cell_type": "code",
      "source": [
        "turnos = [\"mañana\", \"tarde\", \"noche\"]\n",
        "saludos = [\"¡Buenos Días!\", \"¡Buenas Tardes!\", \"¡Buenas Noches!\"]\n",
        "\n",
        "while True:\n",
        "    turno = input(\"Indique su turno laboral (mañana, tarde o noche): \").lower()\n",
        "    encontrado = False\n",
        "\n",
        "    for t, saludo in zip(turnos, saludos):\n",
        "        if turno == t:\n",
        "            print(saludo)\n",
        "            encontrado = True\n",
        "            break  # sale del for\n",
        "\n",
        "    if encontrado:\n",
        "        break  # sale del while si el turno fue válido\n",
        "    else:\n",
        "        print(\"Valor inválido. Por favor, intente nuevamente.\\n\")\n",
        "\n"
      ],
      "metadata": {
        "colab": {
          "base_uri": "https://localhost:8080/"
        },
        "id": "DrmwskKcBb7A",
        "outputId": "fccaafa8-a903-448b-c9b4-cd9c11796973"
      },
      "execution_count": null,
      "outputs": [
        {
          "output_type": "stream",
          "name": "stdout",
          "text": [
            "Indique su turno laboral (mañana, tarde o noche): manaa\n",
            "Valor inválido. Por favor, intente nuevamente.\n",
            "\n",
            "Indique su turno laboral (mañana, tarde o noche): mañana\n",
            "¡Buenos Días!\n"
          ]
        }
      ]
    },
    {
      "cell_type": "markdown",
      "source": [
        "8 - Escribe un programa que solicite un número entero a la persona usuaria y determine si es par o impar. Pista: Puedes usar el operador módulo (%)."
      ],
      "metadata": {
        "id": "6jNPySCDMJO1"
      }
    },
    {
      "cell_type": "code",
      "source": [
        "while True:\n",
        "    entrada = input(\"Ingrese un número entero: \")\n",
        "    try:\n",
        "        num = int(entrada)\n",
        "        if num % 2 == 0:\n",
        "            print(\"Usted ha ingresado un número par\")\n",
        "        else:\n",
        "            print(\"Usted ha elegido un número impar\")\n",
        "        break  # Salimos del bucle si todo salió bien\n",
        "    except ValueError:\n",
        "        print(\"¡Entrada inválida! Por favor, ingrese un número entero.\\n\")\n",
        "\n",
        "\n"
      ],
      "metadata": {
        "colab": {
          "base_uri": "https://localhost:8080/"
        },
        "id": "D_fQrB_jMK-h",
        "outputId": "3b665299-745d-46c7-bb47-20f28343ac6c"
      },
      "execution_count": null,
      "outputs": [
        {
          "output_type": "stream",
          "name": "stdout",
          "text": [
            "Ingrese un número entero: 5.2\n",
            "¡Entrada inválida! Por favor, ingrese un número entero.\n",
            "\n",
            "Ingrese un número entero: nueve\n",
            "¡Entrada inválida! Por favor, ingrese un número entero.\n",
            "\n",
            "Ingrese un número entero: 4\n",
            "Usted ha ingresado un número par\n"
          ]
        }
      ]
    },
    {
      "cell_type": "markdown",
      "source": [
        "9 - Escribe un programa que pida un número a la persona usuaria y le informe si es entero o decimal."
      ],
      "metadata": {
        "id": "s79elr9jPt41"
      }
    },
    {
      "cell_type": "code",
      "source": [
        "while True:\n",
        "  entrada = input(\"Ingrese un número: \").strip()\n",
        "\n",
        "  try:\n",
        "    numero = float(entrada)\n",
        "    if numero.is_integer():\n",
        "        print(\"El número ingresado es un número entero.\")\n",
        "        break\n",
        "    else:\n",
        "        print(\"El número ingresado es un número decimal.\")\n",
        "        break\n",
        "  except ValueError:\n",
        "    print(\"¡Entrada inválida! Debe ingresar un número.\\n\")"
      ],
      "metadata": {
        "colab": {
          "base_uri": "https://localhost:8080/"
        },
        "id": "dpBJ1sMOPxFq",
        "outputId": "d0673088-9256-4109-dbd9-851278b041d9"
      },
      "execution_count": null,
      "outputs": [
        {
          "output_type": "stream",
          "name": "stdout",
          "text": [
            "Ingrese un número: 52 \n",
            "El número ingresado es un número entero.\n"
          ]
        }
      ]
    },
    {
      "cell_type": "markdown",
      "source": [
        "10 - Un programa debe ser escrito para leer dos números y luego preguntar a la persona usuaria qué operación desea realizar. El resultado de la operación debe incluir información sobre el número, si es par o impar, positivo o negativo, e entero o decimal."
      ],
      "metadata": {
        "id": "ViLNYUpsUu_r"
      }
    },
    {
      "cell_type": "code",
      "source": [
        "'''\n",
        "numero1 = 0\n",
        "numero2 = 0\n",
        "operaciones = [\"suma\", \"resta\", \"multiplicación\", \"división\"]\n",
        "simbolos = [\"+\", \"-\", \"*\", \"/\"]\n",
        "control = True\n",
        "resultado = 0\n",
        "while True:\n",
        "  num1 = input(\"Ingrese el primer número: \").strip()\n",
        "  try:\n",
        "    numero1 = float(num1)\n",
        "    break\n",
        "  except ValueError:\n",
        "    print(\"¡Entrada inválida! Debe ingresar un número.\\n\")\n",
        "\n",
        "while True:\n",
        "  num2 = input(\"Ingrese un segundo número para operar: \").strip()\n",
        "  try:\n",
        "    numero2 = float(num2)\n",
        "    break\n",
        "  except ValueError:\n",
        "    print(\"¡Entrada inválida! Debe ingresar un número.\\n\")\n",
        "\n",
        "while control:\n",
        "  operacion = input(\"Seleccione una operacion (suma, resta, multiplicación, división): \")\n",
        "  if operacion in operaciones:\n",
        "    control = not control\n",
        "  else:\n",
        "    print(\"La operación no es una operacion valida.\\n\")\n",
        "\n",
        "for op, simbolo in zip(operaciones, simbolos):\n",
        "  if operacion == op:\n",
        "    indice = operaciones.index(op)\n",
        "    resultado = eval(f'{numero1}{simbolos[indice]}{numero2}')\n",
        "    if resultado.is_integer():\n",
        "      tipo = \"entero\"\n",
        "    else:\n",
        "      tipo = \"decimal\"\n",
        "    if resultado%2 == 0:\n",
        "      par_impar = \"par\"\n",
        "    else:\n",
        "      par_impar = \"impar\"\n",
        "    if resultado > 0:\n",
        "      pos_ne = \"positivo\"\n",
        "    else:\n",
        "      pos_ne = \"negativo\"\n",
        "\n",
        "    print(f'El resultado de la operación es {resultado}, el cual es un número {tipo}, {par_impar} y {pos_ne}')\n",
        "    break\n",
        "\n",
        "'''\n",
        "operaciones = [\"suma\", \"resta\", \"multiplicación\", \"división\"]\n",
        "\n",
        "while True:\n",
        "    try:\n",
        "        numero1 = float(input(\"Ingrese el primer número: \").strip())\n",
        "        break\n",
        "    except ValueError:\n",
        "        print(\"¡Entrada inválida! Debe ingresar un número.\\n\")\n",
        "\n",
        "while True:\n",
        "    try:\n",
        "        numero2 = float(input(\"Ingrese el segundo número: \").strip())\n",
        "        break\n",
        "    except ValueError:\n",
        "        print(\"¡Entrada inválida! Debe ingresar un número.\\n\")\n",
        "\n",
        "while True:\n",
        "    operacion = input(\"Seleccione una operación (suma, resta, multiplicación, división): \").strip().lower()\n",
        "    if operacion in operaciones:\n",
        "        break\n",
        "    else:\n",
        "        print(\"La operación no es válida.\\n\")\n",
        "\n",
        "# Realiza la operación elegida\n",
        "if operacion == \"suma\":\n",
        "    resultado = numero1 + numero2\n",
        "elif operacion == \"resta\":\n",
        "    resultado = numero1 - numero2\n",
        "elif operacion == \"multiplicación\":\n",
        "    resultado = numero1 * numero2\n",
        "elif operacion == \"división\":\n",
        "    if numero2 != 0:\n",
        "        resultado = numero1 / numero2\n",
        "    else:\n",
        "        print(\"No se puede dividir por cero.\")\n",
        "        exit()\n",
        "\n",
        "# Análisis del resultado\n",
        "tipo = \"entero\" if resultado.is_integer() else \"decimal\"\n",
        "par_impar = \"par\" if resultado % 2 == 0 else \"impar\"\n",
        "pos_ne = \"positivo\" if resultado > 0 else \"negativo\"\n",
        "\n",
        "print(f\"\\nEl resultado de la operación es {resultado}, el cual es un número {tipo}, {par_impar} y {pos_ne}.\")\n"
      ],
      "metadata": {
        "colab": {
          "base_uri": "https://localhost:8080/"
        },
        "id": "k_OjWhTZUw41",
        "outputId": "30203c69-8aaa-4f5d-b771-9b872e78cdb2"
      },
      "execution_count": null,
      "outputs": [
        {
          "output_type": "stream",
          "name": "stdout",
          "text": [
            "Ingrese el primer número: 6\n",
            "Ingrese el segundo número: 4.5\n",
            "Seleccione una operación (suma, resta, multiplicación, división): multiplicación\n",
            "\n",
            "El resultado de la operación es 27.0, el cual es un número entero, impar y positivo.\n"
          ]
        }
      ]
    },
    {
      "cell_type": "markdown",
      "source": [
        "11 - Escribe un programa que pida a la persona usuaria tres números que representan los lados de un triángulo. El programa debe informar si los valores pueden utilizarse para formar un triángulo y, en caso afirmativo, si es equilátero, isósceles o escaleno. Ten en cuenta algunas sugerencias:"
      ],
      "metadata": {
        "id": "NqoU_5Z3k0DH"
      }
    },
    {
      "cell_type": "code",
      "source": [
        "es_triangulo = False\n",
        "\n",
        "while not es_triangulo:\n",
        "    try:\n",
        "        lado1 = float(input(\"Ingrese la longitud del primer lado del triángulo: \"))\n",
        "        lado2 = float(input(\"Ingrese la longitud del segundo lado: \"))\n",
        "        lado3 = float(input(\"Por último, ingrese la longitud del tercer lado: \"))\n",
        "\n",
        "        if (lado1 + lado2 > lado3) and (lado1 + lado3 > lado2) and (lado2 + lado3 > lado1):\n",
        "            es_triangulo = True\n",
        "        else:\n",
        "            print(\"❌ Las medidas no forman un triángulo válido. Intente nuevamente.\\n\")\n",
        "    except ValueError:\n",
        "        print(\"⚠️ Entrada inválida. Por favor, ingrese números válidos.\\n\")\n",
        "\n",
        "if lado1 == lado2 == lado3:\n",
        "  print(\"Las medidas brindads corresponden a un triángulo EQUILATERO\")\n",
        "elif lado1 == lado2 or lado1 == lado3 or lado2 == lado3:\n",
        "  print(\"Las medidas brindadas corresponden a un triángulo ISÓSCELES \")\n",
        "else:\n",
        "    print(\"Las medidas brindadas corresponden a un triángulo ESCALENO\")"
      ],
      "metadata": {
        "colab": {
          "base_uri": "https://localhost:8080/"
        },
        "id": "Qiru_V9gk2yH",
        "outputId": "8829d188-06eb-43cc-fe72-b1b60968e3b0"
      },
      "execution_count": null,
      "outputs": [
        {
          "output_type": "stream",
          "name": "stdout",
          "text": [
            "Ingrese la longitud del primer lado del triángulo: 6\n",
            "Ingrese la longitud del segundo lado: 6\n",
            "Por último, ingrese la longitud del tercer lado: 6\n",
            "Las medidas brindads corresponden a un triángulo EQUILATERO\n"
          ]
        }
      ]
    },
    {
      "cell_type": "markdown",
      "source": [
        "12 - Un establecimiento está vendiendo combustibles con descuentos variables. Para el etanol, si la cantidad comprada es de hasta 15 litros, el descuento será del 2% por litro. En caso contrario, será del 4% por litro. Para el diésel, si la cantidad comprada es de hasta 15 litros, el descuento será del 3% por litro. En caso contrario, será del 5% por litro. El precio por litro de diésel es de R$ 2,00 y el precio por litro de etanol es de R$ 1,70. Escribe un programa que lea la cantidad de litros vendidos y el tipo de combustible (E para etanol y D para diésel) y calcule el valor a pagar por el cliente. Ten en cuenta algunas sugerencias:\n",
        "* El valor del descuento será el producto del precio por litro, la cantidad de litros y el valor del descuento.\n",
        "* El valor a pagar por un cliente será el resultado de la multiplicación del precio por litro por la cantidad de litros menos el valor del descuento resultante del cálculo."
      ],
      "metadata": {
        "id": "D926fDDpyaqZ"
      }
    },
    {
      "cell_type": "code",
      "source": [
        "'''\n",
        "precio_e = 1.70\n",
        "precio_d = 2\n",
        "litros = float(input(\"Ingrese la cantidad de litros vendidos\"))\n",
        "venta = input(\"Ingrese tipo de combustible vendido. E para entanol o D para diesel: \")\n",
        "if litros >= 15 and venta == \"E\":\n",
        "  total = litros * precio_e * 0.96\n",
        "  print(f'Total a abonar ${total}')\n",
        "elif litros < 15 and venta == \"E\":\n",
        "  total = litros * precio_e * 0.98\n",
        "  print(f'Total a abonar ${total}')\n",
        "elif litros >= 15 and venta == \"D\":\n",
        "  total = litros * precio_d * 0.95\n",
        "  print(f'Total a abonar ${total}')\n",
        "elif litros < 15 and venta == \"D\":\n",
        "  total = litros * precio_d * 0.97\n",
        "  print(f'Total a abonar ${total}')\n",
        "'''\n",
        "\n",
        "# Precios por litro\n",
        "precio_e = 1.70\n",
        "precio_d = 2.00\n",
        "\n",
        "# Entrada de datos\n",
        "while True:\n",
        "    try:\n",
        "        litros = float(input(\"Ingrese la cantidad de litros vendidos: \"))\n",
        "        if litros <= 0:\n",
        "            print(\"⚠️ La cantidad de litros debe ser mayor a cero.\\n\")\n",
        "            continue\n",
        "        break\n",
        "    except ValueError:\n",
        "        print(\"⚠️ Entrada inválida. Debe ingresar un número válido.\\n\")\n",
        "\n",
        "while True:\n",
        "    venta = input(\"Ingrese el tipo de combustible ('E' para etanol, 'D' para diésel): \").strip().upper()\n",
        "    if venta in [\"E\", \"D\"]:\n",
        "        break\n",
        "    else:\n",
        "        print(\"⚠️ Tipo de combustible no válido. Ingrese 'E' o 'D'.\\n\")\n",
        "\n",
        "# Cálculo del precio y descuento\n",
        "if venta == \"E\":\n",
        "    precio = precio_e\n",
        "    descuento = 0.02 if litros <= 15 else 0.04\n",
        "else:  # venta == \"D\"\n",
        "    precio = precio_d\n",
        "    descuento = 0.03 if litros <= 15 else 0.05\n",
        "\n",
        "valor_bruto = litros * precio\n",
        "valor_descuento = valor_bruto * descuento\n",
        "total = valor_bruto - valor_descuento\n",
        "\n",
        "# Resultado\n",
        "print(f\"\\n🧾 Detalles de la compra:\")\n",
        "print(f\"- Combustible: {'Etanol' if venta == 'E' else 'Diésel'}\")\n",
        "print(f\"- Litros: {litros}\")\n",
        "print(f\"- Precio por litro: ${precio:.2f}\")\n",
        "print(f\"- Descuento aplicado: {descuento * 100}%\")\n",
        "print(f\"- Total a abonar: ${total:.2f}\")\n"
      ],
      "metadata": {
        "colab": {
          "base_uri": "https://localhost:8080/"
        },
        "id": "r9TrYG0MytRz",
        "outputId": "5683c9dc-511d-4f02-e621-5c3c436a18ac"
      },
      "execution_count": null,
      "outputs": [
        {
          "output_type": "stream",
          "name": "stdout",
          "text": [
            "Ingrese la cantidad de litros vendidos: 26.8\n",
            "Ingrese el tipo de combustible ('E' para etanol, 'D' para diésel): l\n",
            "⚠️ Tipo de combustible no válido. Ingrese 'E' o 'D'.\n",
            "\n",
            "Ingrese el tipo de combustible ('E' para etanol, 'D' para diésel): e\n",
            "\n",
            "🧾 Detalles de la compra:\n",
            "- Combustible: Etanol\n",
            "- Litros: 26.8\n",
            "- Precio por litro: $1.70\n",
            "- Descuento aplicado: 4.0%\n",
            "- Total a abonar: $43.74\n"
          ]
        }
      ]
    },
    {
      "cell_type": "markdown",
      "source": [
        "13 - En una empresa de venta de bienes raíces, debes crear un código que analice los datos de ventas anuales para ayudar a la dirección en la toma de decisiones. El código debe recopilar los datos de cantidad de ventas durante los años 2022 y 2023 y calcular la variación porcentual. A partir del valor de la variación, se deben proporcionar las siguientes sugerencias:\n",
        "\n",
        "* Para una variación superior al 20%: bonificación para el equipo de ventas.\n",
        "* Para una variación entre el 2% y el 20%: pequeña bonificación para el equipo de ventas.\n",
        "* Para una variación entre el 2% y el -10%: planificación de políticas de incentivo a las ventas.\n",
        "* Para bonificaciones inferiores al -10%: recorte de gastos."
      ],
      "metadata": {
        "id": "HLwALwJp317n"
      }
    },
    {
      "cell_type": "code",
      "source": [
        "'''\n",
        "while True:\n",
        "  try:\n",
        "    ventas2022 = float(input(\"Ingrese la cantidad de ventas del año 2022: \"))\n",
        "    ventas2023 = float(input(\"Ingrese la cantidad de ventas del año 2023: \"))\n",
        "    break\n",
        "  except ValueError:\n",
        "        print(\"⚠️ Entrada inválida. Debe ingresar un número válido.\\n\")\n",
        "\n",
        "variacion = ventas2023 * 100 / ventas2022 - 100\n",
        "\n",
        "if variacion >= 20:\n",
        "  print(\"Bonificación para el equipo de ventas\")\n",
        "elif variacion >= 2:\n",
        "  print(\"Pequeña bonificación para el equipo de ventas\")\n",
        "elif variacion >= -10:\n",
        "  print(\"Planificación de políticas de incentivo a las ventas\")\n",
        "else:\n",
        "  print(\"Recorte de gastos\")\n",
        "\n",
        "'''\n",
        "\n",
        "while True:\n",
        "    try:\n",
        "        ventas2022 = float(input(\"Ingrese la cantidad de ventas del año 2022: \"))\n",
        "        ventas2023 = float(input(\"Ingrese la cantidad de ventas del año 2023: \"))\n",
        "        if ventas2022 <= 0:\n",
        "            print(\"⚠️ Las ventas de 2022 deben ser mayores a cero para calcular la variación.\\n\")\n",
        "            continue\n",
        "        break\n",
        "    except ValueError:\n",
        "        print(\"⚠️ Entrada inválida. Debe ingresar un número válido.\\n\")\n",
        "\n",
        "# Cálculo de la variación porcentual\n",
        "variacion = (ventas2023 - ventas2022) / ventas2022 * 100\n",
        "\n",
        "print(f\"\\n📊 Variación porcentual de ventas: {variacion:.2f}%\")\n",
        "\n",
        "# Sugerencia según la variación\n",
        "if variacion > 20:\n",
        "    print(\"✅ Bonificación para el equipo de ventas\")\n",
        "elif 2 <= variacion <= 20:\n",
        "    print(\"👍 Pequeña bonificación para el equipo de ventas\")\n",
        "elif -10 <= variacion < 2:\n",
        "    print(\"📈 Planificación de políticas de incentivo a las ventas\")\n",
        "else:\n",
        "    print(\"⚠️ Recorte de gastos\")\n"
      ],
      "metadata": {
        "colab": {
          "base_uri": "https://localhost:8080/"
        },
        "id": "0byw5ucI4vow",
        "outputId": "812433e8-a638-420f-f8a3-c92499d3e45c"
      },
      "execution_count": null,
      "outputs": [
        {
          "output_type": "stream",
          "name": "stdout",
          "text": [
            "Ingrese la cantidad de ventas del año 2022: 1236\n",
            "Ingrese la cantidad de ventas del año 2023: 1456\n",
            "\n",
            "📊 Variación porcentual de ventas: 17.80%\n",
            "👍 Pequeña bonificación para el equipo de ventas\n"
          ]
        }
      ]
    },
    {
      "cell_type": "markdown",
      "source": [
        "# Estructuras de repetición"
      ],
      "metadata": {
        "id": "aL1vJPewvwvz"
      }
    },
    {
      "cell_type": "code",
      "source": [],
      "metadata": {
        "id": "Bb_7koQVkGlE"
      },
      "execution_count": null,
      "outputs": []
    },
    {
      "cell_type": "markdown",
      "source": [
        "Cuando tenemos que ejecutar un mismo bloque de comandos durante varias ocasiones no es nada práctico hacerlo a mano.\n",
        "\n",
        "**Situación**: Nos fue solicitado obtener e imprimir el promedio de 2 notas de **3 estudantes**:"
      ],
      "metadata": {
        "id": "VcPfCa8d-84t"
      }
    },
    {
      "cell_type": "code",
      "source": [],
      "metadata": {
        "id": "xcx21IGT9qA0"
      },
      "execution_count": null,
      "outputs": []
    },
    {
      "cell_type": "code",
      "source": [],
      "metadata": {
        "id": "Wtbiy9Ay9rGJ"
      },
      "execution_count": null,
      "outputs": []
    },
    {
      "cell_type": "code",
      "source": [],
      "metadata": {
        "id": "Yfyz4anY9rIr"
      },
      "execution_count": null,
      "outputs": []
    },
    {
      "cell_type": "markdown",
      "source": [
        "Ahora imaginemos una situación en que no son tan solo 3 estudiantes, sino 100 estudiantes. No sería nada interesante repetir el mismo código 100 veces, sino **ejecutar el mismo código 100 veces**.\n",
        "\n",
        "¡Esta estructura la logramos construir con lazos de repetición!"
      ],
      "metadata": {
        "id": "9puIuvUbFSFX"
      }
    },
    {
      "cell_type": "markdown",
      "source": [
        "## `WHILE`"
      ],
      "metadata": {
        "id": "uLO9-aE4-wx8"
      }
    },
    {
      "cell_type": "markdown",
      "source": [
        "El lazo `while` es una estructura de control de repetición en Python que permite ejecutar un bloque de código repetidamente mientras que una determinada condición sea verdadera. Su estructura es:\n",
        "\n",
        "\n",
        "\n",
        "```\n",
        "while condicion:\n",
        "    # bloque de codigo\n",
        "```\n",
        "\n",
        "Vamos a construir un ejemplo con un contador de 1 hasta 10.\n"
      ],
      "metadata": {
        "id": "rXZxDMiqHxm9"
      }
    },
    {
      "cell_type": "code",
      "source": [],
      "metadata": {
        "id": "Hd0ZSWxD9wCD"
      },
      "execution_count": null,
      "outputs": []
    },
    {
      "cell_type": "code",
      "source": [],
      "metadata": {
        "id": "miFHNqp29nOL"
      },
      "execution_count": null,
      "outputs": []
    },
    {
      "cell_type": "markdown",
      "source": [
        "Ahora vamos a colectar las notas y promedios de cada alumno dentro del lazo `while`. Haremos un ejemplo con 3 promedios."
      ],
      "metadata": {
        "id": "W4KZPBJuIrut"
      }
    },
    {
      "cell_type": "code",
      "source": [],
      "metadata": {
        "id": "9T5eCLFx9wk6"
      },
      "execution_count": null,
      "outputs": []
    },
    {
      "cell_type": "code",
      "source": [],
      "metadata": {
        "id": "P6E0_dW-9lZ9"
      },
      "execution_count": null,
      "outputs": []
    },
    {
      "cell_type": "markdown",
      "source": [
        "## `FOR`"
      ],
      "metadata": {
        "id": "WgAIaENMMfCP"
      }
    },
    {
      "cell_type": "markdown",
      "source": [
        "El lazo `for` es un tipo de estructura de control de flujo en Python que permite iterar sobre un conjunto de elementos. Su estructura es:\n",
        "\n",
        "\n",
        "\n",
        "```\n",
        "for elemento in conjunto:\n",
        "    # codigo a ser ejecutado para cada elemento\n",
        "```\n",
        "\n",
        "El lazo `for` itera sobre cada elemento del conjunto especificado y ejecuta el bloque de código dentro del lazo para cada elemento. Cuando el lazo llega al final del conjunto, este se interrumpe y el programa continúa la ejecución después del lazo.\n",
        "\n"
      ],
      "metadata": {
        "id": "HxrSZoRAMh-x"
      }
    },
    {
      "cell_type": "markdown",
      "source": [
        "El conjunto lo podemos generar con la función incorporada [`range()`](https://docs.python.org/3/library/functions.html#func-range). Se trata de una función capaz de generar una secuencia de números enteros. La estructura de esta función es:\n",
        "\n",
        "```\n",
        "range(inicio, fin, paso)\n",
        "```\n",
        "\n",
        "Según la documentación, `range()` genera una secuencia de números enteros a partir del valor del parámetro `inicio` hasta el valor del parámetro `fin`, de acuerdo con el valor del parámetro `paso`. Si `inicio` no es especificado, el valor por defecto es `0`. Si `paso` no es especificado, el valor por defecto es `1`.\n",
        "\n",
        "\n"
      ],
      "metadata": {
        "id": "6VgjyoQtPHBM"
      }
    },
    {
      "cell_type": "markdown",
      "source": [
        "Vamos a recrear el mismo contador `while` con el lazo `for`."
      ],
      "metadata": {
        "id": "ryn0hfdlUwC8"
      }
    },
    {
      "cell_type": "code",
      "source": [],
      "metadata": {
        "id": "KkL1wUIj9jL4"
      },
      "execution_count": null,
      "outputs": []
    },
    {
      "cell_type": "code",
      "source": [],
      "metadata": {
        "id": "uXIZnLSr9jOu"
      },
      "execution_count": null,
      "outputs": []
    },
    {
      "cell_type": "markdown",
      "source": [
        "Un conjunto de elementos es una colección de items, que son almacenados juntos de manera organizada. Algunos ejemplos de conjuntos de elementos en Python son las listas, los strings y los diccionarios."
      ],
      "metadata": {
        "id": "xpEUkefTu8fY"
      }
    },
    {
      "cell_type": "markdown",
      "source": [
        "## Ejercitación"
      ],
      "metadata": {
        "id": "Nx7OObsHDqqx"
      }
    },
    {
      "cell_type": "markdown",
      "source": [
        "# Estructuras de datos"
      ],
      "metadata": {
        "id": "8noP8OJ0Vhux"
      }
    },
    {
      "cell_type": "markdown",
      "source": [
        "Entrenando la programación\n",
        "\n",
        "1 - Escribe un programa que solicite dos números enteros e imprima todos los números enteros entre ellos."
      ],
      "metadata": {
        "id": "b1J6tgFUDunf"
      }
    },
    {
      "cell_type": "code",
      "source": [
        "try:\n",
        "  num1 = int(input(\"Ingrese el primer número entero: \"))\n",
        "  num2 = int(input(\"Ingrese el segundo número entero: \"))\n",
        "  if num1 > num2:\n",
        "    for i in range(num2, num1 + 1):\n",
        "      print(i)\n",
        "  elif num2 > num1:\n",
        "    for i in range(num1, num2 + 1):\n",
        "      print(i)\n",
        "except ValueError:\n",
        "  print(\"⚠️ Entrada inválida. Por favor, ingrese números válidos.\\n\")\n"
      ],
      "metadata": {
        "colab": {
          "base_uri": "https://localhost:8080/"
        },
        "id": "W7bF5yKmD_6i",
        "outputId": "dbbbd33b-14e0-4db5-ff98-13d392341683"
      },
      "execution_count": null,
      "outputs": [
        {
          "output_type": "stream",
          "name": "stdout",
          "text": [
            "Ingrese el primer número entero: dos\n",
            "⚠️ Entrada inválida. Por favor, ingrese números válidos.\n",
            "\n"
          ]
        }
      ]
    },
    {
      "cell_type": "markdown",
      "source": [
        "2 - Escribe un programa para calcular cuántos días tomará que la colonia de una bacteria A supere o iguale a la colonia de una bacteria B, basado en tasas de crecimiento del 3% y 1.5%, respectivamente. Supón que la colonia A comienza con 4 elementos y B con 10."
      ],
      "metadata": {
        "id": "D2LCqqJXE1aq"
      }
    },
    {
      "cell_type": "code",
      "source": [
        "colonia_a = 4\n",
        "colonia_b =10\n",
        "\n",
        "crecimiento_a = 3\n",
        "crecimiento_b = 1.5\n",
        "\n",
        "dias = 0\n",
        "\n",
        "while colonia_a <= colonia_b:\n",
        "  colonia_a = colonia_a * (crecimiento_a +100)/100\n",
        "  colonia_b = colonia_b * (crecimiento_b +100)/100\n",
        "  dias += 1\n",
        "\n",
        "print(f'Tomará {dias} días que la colonia A supere a la colonia B')"
      ],
      "metadata": {
        "colab": {
          "base_uri": "https://localhost:8080/"
        },
        "id": "opRNWR9jFX0A",
        "outputId": "253d854e-4536-4b9f-be77-8b363d5b7db6"
      },
      "execution_count": null,
      "outputs": [
        {
          "output_type": "stream",
          "name": "stdout",
          "text": [
            "Tomará 63 días que la colonia A supere a la colonia B\n"
          ]
        }
      ]
    },
    {
      "cell_type": "markdown",
      "source": [
        "3 - Para procesar una cantidad de 15 datos de evaluaciones de usuarios de un servicio de la empresa, necesitamos verificar si las calificaciones son válidas. Por lo tanto, escribe un programa que recibirá calificaciones del 0 al 5 y verificará si son valores válidos. Si se ingresa una calificación superior a 5 o inferior a 0, se repetirá hasta que el usuario ingrese un valor válido."
      ],
      "metadata": {
        "id": "0uZMkc9KIMvi"
      }
    },
    {
      "cell_type": "code",
      "source": [
        "evaluaciones = []\n",
        "for ev in range(1,16):\n",
        "  while True:\n",
        "    try:\n",
        "      evaluacion = float(input(\"Ingrese una evaluación de 0 a 5: \"))\n",
        "      if evaluacion >= 0 and evaluacion <= 5:\n",
        "        evaluaciones.append(evaluacion)\n",
        "        break\n",
        "      else:\n",
        "          print(\"⚠️ La evaluación debe estar entre 0 y 5\")\n",
        "    except ValueError:\n",
        "        print(\"⚠️ Entrada inválida. Por favor, ingrese un número válido.\\n\")\n",
        "\n",
        "print(evaluaciones)"
      ],
      "metadata": {
        "colab": {
          "base_uri": "https://localhost:8080/"
        },
        "id": "8CUMf5-eIOey",
        "outputId": "e54acafe-f706-40e7-c490-9853a5702b33"
      },
      "execution_count": null,
      "outputs": [
        {
          "output_type": "stream",
          "name": "stdout",
          "text": [
            "Ingrese una evaluación de 0 a 5: 2\n",
            "Ingrese una evaluación de 0 a 5: \n",
            "⚠️ Entrada inválida. Por favor, ingrese un número válido.\n",
            "\n",
            "Ingrese una evaluación de 0 a 5: 2\n",
            "Ingrese una evaluación de 0 a 5: 2\n",
            "Ingrese una evaluación de 0 a 5: \n",
            "⚠️ Entrada inválida. Por favor, ingrese un número válido.\n",
            "\n",
            "Ingrese una evaluación de 0 a 5: 5\n",
            "Ingrese una evaluación de 0 a 5: 5\n",
            "Ingrese una evaluación de 0 a 5: 5\n",
            "Ingrese una evaluación de 0 a 5: 5\n",
            "Ingrese una evaluación de 0 a 5: 5\n",
            "Ingrese una evaluación de 0 a 5: \n",
            "⚠️ Entrada inválida. Por favor, ingrese un número válido.\n",
            "\n",
            "Ingrese una evaluación de 0 a 5: 5\n",
            "Ingrese una evaluación de 0 a 5: 5\n",
            "Ingrese una evaluación de 0 a 5: 5\n",
            "Ingrese una evaluación de 0 a 5: 5\n",
            "Ingrese una evaluación de 0 a 5: 5\n",
            "Ingrese una evaluación de 0 a 5: 5\n",
            "Ingrese una evaluación de 0 a 5: 5\n",
            "[2.0, 2.0, 2.0, 5.0, 5.0, 5.0, 5.0, 5.0, 5.0, 5.0, 5.0, 5.0, 5.0, 5.0, 5.0]\n"
          ]
        }
      ]
    },
    {
      "cell_type": "markdown",
      "source": [
        "4 - Desarrolla un programa que lea un conjunto indefinido de temperaturas en grados Celsius y calcule su promedio. La lectura debe detenerse al ingresar el valor -273°C."
      ],
      "metadata": {
        "id": "YSBI9BPhLvdV"
      }
    },
    {
      "cell_type": "code",
      "source": [],
      "metadata": {
        "id": "xjP2cmDNMe6u"
      },
      "execution_count": null,
      "outputs": []
    },
    {
      "cell_type": "markdown",
      "source": [
        "5 - Escribe un programa que calcule el factorial de un número entero proporcionado por el usuario. Recuerda que el factorial de un número entero es el producto de ese número por todos sus antecesores hasta llegar al número 1. Por ejemplo, el factorial de 5 es 5 x 4 x 3 x 2 x 1 = 120."
      ],
      "metadata": {
        "id": "koGjqX2iMg_k"
      }
    },
    {
      "cell_type": "code",
      "source": [
        "factorial = 1\n",
        "try:\n",
        "  num = int(input(\"Ingrese un numero entero positivo para calcular su factoiral: \"))\n",
        "  num2 = num\n",
        "  while num > 0:\n",
        "    factorial *=num\n",
        "    num -=1\n",
        "  print(f'El factorial de {num2} es {factorial}')\n",
        "except ValueError:\n",
        "  print(\"⚠️ Entrada inválida. Por favor, ingrese un número válido.\\n\")\n"
      ],
      "metadata": {
        "colab": {
          "base_uri": "https://localhost:8080/"
        },
        "id": "1dlWRD3uMjaS",
        "outputId": "aa89d392-7b17-4957-abe0-df541b2810cd"
      },
      "execution_count": null,
      "outputs": [
        {
          "output_type": "stream",
          "name": "stdout",
          "text": [
            "Ingrese un numero entero positivo para calcular su factoiral: 0\n",
            "El factorial de 0 es 1\n"
          ]
        }
      ]
    },
    {
      "cell_type": "markdown",
      "source": [
        "6 - Escribe un programa que genere la tabla de multiplicar de un número entero del 1 al 10, según la elección del usuario. Como ejemplo, para el número 2, la tabla de multiplicar debe mostrarse en el siguiente formato:\n",
        "\n",
        "Tabla de multiplicar del 2:\n",
        "2 x 1 = 2\n",
        "2 x 2 = 4\n",
        "[...]\n",
        "2 x 10 = 20"
      ],
      "metadata": {
        "id": "q0zSiQu1Oyl6"
      }
    },
    {
      "cell_type": "code",
      "source": [
        "num = 0\n",
        "while 0 <= num <= 9:\n",
        "  try:\n",
        "    num = int(input(\"Ingrese un número entero del 1 al 9: \"))\n",
        "    if num > 9:\n",
        "      print(\"⚠️ El número debe estar entre 1 y 9\")\n",
        "      num = 0\n",
        "\n",
        "    elif 0 < num <= 9:\n",
        "      break\n",
        "  except ValueError:\n",
        "    print(\"⚠️ Entrada inválida. Por favor, ingrese un número válido.\\n\")\n",
        "\n",
        "print(f'Tabla de multiplicar del {num}: ')\n",
        "for i in range(1,11):\n",
        "   print(f'{num} x {i}\\t =\\t {num*i}')\n",
        "\n"
      ],
      "metadata": {
        "colab": {
          "base_uri": "https://localhost:8080/",
          "height": 408
        },
        "id": "NsnCAhiuPjQU",
        "outputId": "f23c9e09-561c-47bf-aa17-bfd3d86bb03f"
      },
      "execution_count": null,
      "outputs": [
        {
          "output_type": "stream",
          "name": "stdout",
          "text": [
            "Ingrese un número entero del 1 al 9: 1.9\n",
            "⚠️ Entrada inválida. Por favor, ingrese un número válido.\n",
            "\n"
          ]
        },
        {
          "output_type": "error",
          "ename": "KeyboardInterrupt",
          "evalue": "Interrupted by user",
          "traceback": [
            "\u001b[0;31m---------------------------------------------------------------------------\u001b[0m",
            "\u001b[0;31mKeyboardInterrupt\u001b[0m                         Traceback (most recent call last)",
            "\u001b[0;32m<ipython-input-97-06fc8acd5850>\u001b[0m in \u001b[0;36m<cell line: 0>\u001b[0;34m()\u001b[0m\n\u001b[1;32m      2\u001b[0m \u001b[0;32mwhile\u001b[0m \u001b[0;36m0\u001b[0m \u001b[0;34m<=\u001b[0m \u001b[0mnum\u001b[0m \u001b[0;34m<=\u001b[0m \u001b[0;36m9\u001b[0m\u001b[0;34m:\u001b[0m\u001b[0;34m\u001b[0m\u001b[0;34m\u001b[0m\u001b[0m\n\u001b[1;32m      3\u001b[0m   \u001b[0;32mtry\u001b[0m\u001b[0;34m:\u001b[0m\u001b[0;34m\u001b[0m\u001b[0;34m\u001b[0m\u001b[0m\n\u001b[0;32m----> 4\u001b[0;31m     \u001b[0mnum\u001b[0m \u001b[0;34m=\u001b[0m \u001b[0mint\u001b[0m\u001b[0;34m(\u001b[0m\u001b[0minput\u001b[0m\u001b[0;34m(\u001b[0m\u001b[0;34m\"Ingrese un número entero del 1 al 9: \"\u001b[0m\u001b[0;34m)\u001b[0m\u001b[0;34m)\u001b[0m\u001b[0;34m\u001b[0m\u001b[0;34m\u001b[0m\u001b[0m\n\u001b[0m\u001b[1;32m      5\u001b[0m     \u001b[0;32mif\u001b[0m \u001b[0mnum\u001b[0m \u001b[0;34m>\u001b[0m \u001b[0;36m9\u001b[0m\u001b[0;34m:\u001b[0m\u001b[0;34m\u001b[0m\u001b[0;34m\u001b[0m\u001b[0m\n\u001b[1;32m      6\u001b[0m       \u001b[0mprint\u001b[0m\u001b[0;34m(\u001b[0m\u001b[0;34m\"⚠️ El número debe estar entre 1 y 9\"\u001b[0m\u001b[0;34m)\u001b[0m\u001b[0;34m\u001b[0m\u001b[0;34m\u001b[0m\u001b[0m\n",
            "\u001b[0;32m/usr/local/lib/python3.11/dist-packages/ipykernel/kernelbase.py\u001b[0m in \u001b[0;36mraw_input\u001b[0;34m(self, prompt)\u001b[0m\n\u001b[1;32m   1175\u001b[0m                 \u001b[0;34m\"raw_input was called, but this frontend does not support input requests.\"\u001b[0m\u001b[0;34m\u001b[0m\u001b[0;34m\u001b[0m\u001b[0m\n\u001b[1;32m   1176\u001b[0m             )\n\u001b[0;32m-> 1177\u001b[0;31m         return self._input_request(\n\u001b[0m\u001b[1;32m   1178\u001b[0m             \u001b[0mstr\u001b[0m\u001b[0;34m(\u001b[0m\u001b[0mprompt\u001b[0m\u001b[0;34m)\u001b[0m\u001b[0;34m,\u001b[0m\u001b[0;34m\u001b[0m\u001b[0;34m\u001b[0m\u001b[0m\n\u001b[1;32m   1179\u001b[0m             \u001b[0mself\u001b[0m\u001b[0;34m.\u001b[0m\u001b[0m_parent_ident\u001b[0m\u001b[0;34m[\u001b[0m\u001b[0;34m\"shell\"\u001b[0m\u001b[0;34m]\u001b[0m\u001b[0;34m,\u001b[0m\u001b[0;34m\u001b[0m\u001b[0;34m\u001b[0m\u001b[0m\n",
            "\u001b[0;32m/usr/local/lib/python3.11/dist-packages/ipykernel/kernelbase.py\u001b[0m in \u001b[0;36m_input_request\u001b[0;34m(self, prompt, ident, parent, password)\u001b[0m\n\u001b[1;32m   1217\u001b[0m             \u001b[0;32mexcept\u001b[0m \u001b[0mKeyboardInterrupt\u001b[0m\u001b[0;34m:\u001b[0m\u001b[0;34m\u001b[0m\u001b[0;34m\u001b[0m\u001b[0m\n\u001b[1;32m   1218\u001b[0m                 \u001b[0;31m# re-raise KeyboardInterrupt, to truncate traceback\u001b[0m\u001b[0;34m\u001b[0m\u001b[0;34m\u001b[0m\u001b[0m\n\u001b[0;32m-> 1219\u001b[0;31m                 \u001b[0;32mraise\u001b[0m \u001b[0mKeyboardInterrupt\u001b[0m\u001b[0;34m(\u001b[0m\u001b[0;34m\"Interrupted by user\"\u001b[0m\u001b[0;34m)\u001b[0m \u001b[0;32mfrom\u001b[0m \u001b[0;32mNone\u001b[0m\u001b[0;34m\u001b[0m\u001b[0;34m\u001b[0m\u001b[0m\n\u001b[0m\u001b[1;32m   1220\u001b[0m             \u001b[0;32mexcept\u001b[0m \u001b[0mException\u001b[0m\u001b[0;34m:\u001b[0m\u001b[0;34m\u001b[0m\u001b[0;34m\u001b[0m\u001b[0m\n\u001b[1;32m   1221\u001b[0m                 \u001b[0mself\u001b[0m\u001b[0;34m.\u001b[0m\u001b[0mlog\u001b[0m\u001b[0;34m.\u001b[0m\u001b[0mwarning\u001b[0m\u001b[0;34m(\u001b[0m\u001b[0;34m\"Invalid Message:\"\u001b[0m\u001b[0;34m,\u001b[0m \u001b[0mexc_info\u001b[0m\u001b[0;34m=\u001b[0m\u001b[0;32mTrue\u001b[0m\u001b[0;34m)\u001b[0m\u001b[0;34m\u001b[0m\u001b[0;34m\u001b[0m\u001b[0m\n",
            "\u001b[0;31mKeyboardInterrupt\u001b[0m: Interrupted by user"
          ]
        }
      ]
    },
    {
      "cell_type": "markdown",
      "source": [
        "7 - Los números primos tienen diversas aplicaciones en Ciencia de Datos, como en criptografía y seguridad. Un número primo es aquel que es divisible solo por sí mismo y por 1. Por lo tanto, crea un programa que solicite un número entero y determine si es un número primo o no."
      ],
      "metadata": {
        "id": "pda7HD6eXrh3"
      }
    },
    {
      "cell_type": "code",
      "source": [
        "try:\n",
        "  num = int(input(\"Ingrese un número entero: \"))\n",
        "  if num < 2:\n",
        "    print(f'el número {num} no es primo')\n",
        "  else:\n",
        "    for i in range(2,num):\n",
        "      if num % i == 0:\n",
        "        print(f'el número {num} no es primo')\n",
        "        break\n",
        "\n",
        "    else:\n",
        "      print(f'el número {num} es primo')\n",
        "except ValueError:\n",
        "  print(\"⚠️ Entrada inválida. Por favor, ingrese un número válido.\\n\")"
      ],
      "metadata": {
        "colab": {
          "base_uri": "https://localhost:8080/"
        },
        "id": "hZeBtMjCXz9k",
        "outputId": "a6481af8-5c2c-42e9-8343-369741b2d605"
      },
      "execution_count": null,
      "outputs": [
        {
          "output_type": "stream",
          "name": "stdout",
          "text": [
            "Ingrese un número entero: 47\n",
            "el número 47 es primo\n"
          ]
        }
      ]
    },
    {
      "cell_type": "markdown",
      "source": [
        "En una elección para la gerencia de una empresa con 20 empleados, hay cuatro candidatos. Escribe un programa que calcule al ganador de la elección. La votación se realizó de la siguiente manera:\n",
        "\n",
        "Cada empleado votó por uno de los cuatro candidatos (representados por los números 1, 2, 3 y 4).\n",
        "\n",
        "También se contaron los votos nulos (representados por el número 5) y los votos en blanco (representados por el número 6).\n",
        "\n",
        "Al final de la votación, el programa debe mostrar el número total de votos para cada candidato, los votos nulos y los votos en blanco. Además, debe calcular y mostrar el porcentaje de votos nulos con respecto al total de votos y el porcentaje de votos en blanco con respecto al total de votos.\n"
      ],
      "metadata": {
        "id": "P2h5Xeopbh77"
      }
    },
    {
      "cell_type": "code",
      "source": [
        "candidato_1 = 0\n",
        "candidato_2 = 0\n",
        "candidato_3 = 0\n",
        "candidato_4 = 0\n",
        "voto_nulo = 0\n",
        "voto_blanco = 0\n",
        "total_votos = 0\n",
        "\n",
        "for i in range(1,21):\n",
        "  try:\n",
        "    voto = input(\"Ingresa tu voto (1, 2, 3, 4): \")\n",
        "    if voto == \"\":\n",
        "      voto_blanco += 1\n",
        "      total_votos += 1\n",
        "    else:\n",
        "      voto = int(voto)\n",
        "      if voto == 1:\n",
        "        candidato_1 += 1\n",
        "      elif voto == 2:\n",
        "        candidato_2 += 1\n",
        "      elif voto == 3:\n",
        "        candidato_3 += 1\n",
        "      elif voto == 4:\n",
        "        candidato_4 += 1\n",
        "      elif voto > 4:\n",
        "        voto_nulo += 1\n",
        "      total_votos += 1\n",
        "\n",
        "  except ValueError:\n",
        "    print(\"⚠️ Entrada inválida. Por favor, ingrese un número válido.\\n\")\n",
        "\n",
        "print(f'Candidato 1: {candidato_1}\\nCandidato 2: {candidato_2}\\nCandidato 3: {candidato_3}\\nCandidato 4: {candidato_4}\\nVotos nulos: {voto_nulo}\\nVotos en blanco: {voto_blanco}\\nTotal votos: {total_votos}')"
      ],
      "metadata": {
        "colab": {
          "base_uri": "https://localhost:8080/"
        },
        "id": "heIhaB97bkYb",
        "outputId": "3040ed98-1961-48d3-cfa9-f7247effb7f9"
      },
      "execution_count": null,
      "outputs": [
        {
          "output_type": "stream",
          "name": "stdout",
          "text": [
            "Ingresa tu voto (1, 2, 3, 4): 1\n",
            "Ingresa tu voto (1, 2, 3, 4): 4\n",
            "Ingresa tu voto (1, 2, 3, 4): \n",
            "Ingresa tu voto (1, 2, 3, 4): 8\n",
            "Ingresa tu voto (1, 2, 3, 4): 5\n",
            "Ingresa tu voto (1, 2, 3, 4): 2\n",
            "Ingresa tu voto (1, 2, 3, 4): 3\n",
            "Ingresa tu voto (1, 2, 3, 4): 6\n",
            "Ingresa tu voto (1, 2, 3, 4): 9\n",
            "Ingresa tu voto (1, 2, 3, 4): 1\n",
            "Ingresa tu voto (1, 2, 3, 4): 2\n",
            "Ingresa tu voto (1, 2, 3, 4): 3\n",
            "Ingresa tu voto (1, 2, 3, 4): 4\n",
            "Ingresa tu voto (1, 2, 3, 4): 51\n",
            "Ingresa tu voto (1, 2, 3, 4): 2\n",
            "Ingresa tu voto (1, 2, 3, 4): 3\n",
            "Ingresa tu voto (1, 2, 3, 4): 8\n",
            "Ingresa tu voto (1, 2, 3, 4): 3\n",
            "Ingresa tu voto (1, 2, 3, 4): 1\n",
            "Ingresa tu voto (1, 2, 3, 4): 4\n",
            "Candidato 1: 3\n",
            "Candidato 2: 3\n",
            "Candidato 3: 4\n",
            "Candidato 4: 3\n",
            "Votos nulos: 6\n",
            "Votos en blanco: 1\n",
            "Total votos: 20\n"
          ]
        }
      ]
    },
    {
      "cell_type": "markdown",
      "source": [
        "## Listas"
      ],
      "metadata": {
        "id": "THSg4KYLwxIb"
      }
    },
    {
      "cell_type": "markdown",
      "source": [
        "Las listas pueden almacenar una colección de items en orden. Ellas son delimitadas por corchetes `[]` y sus elementos son separados por comas.\n",
        "\n",
        "Estas pueden almacenar cualquier tipo de items, incluyendo números, strings, objetos, otras listas, entre otros. También nos permiten almacenar items de tipos de datos diferentes juntos en una única lista."
      ],
      "metadata": {
        "id": "dzpsiqrOyJcK"
      }
    },
    {
      "cell_type": "code",
      "source": [
        "lista = ['Penélope Camacho',9.5,9.0,9.7,True]\n",
        "lista"
      ],
      "metadata": {
        "id": "DO3TBj7nAYeG",
        "colab": {
          "base_uri": "https://localhost:8080/"
        },
        "outputId": "3e8af6db-5185-4b38-8c7a-d4a6288ca2ad"
      },
      "execution_count": null,
      "outputs": [
        {
          "output_type": "execute_result",
          "data": {
            "text/plain": [
              "['Penélope Camacho', 9.5, 9.0, 9.7, True]"
            ]
          },
          "metadata": {},
          "execution_count": 3
        }
      ]
    },
    {
      "cell_type": "code",
      "source": [
        "lista[0]"
      ],
      "metadata": {
        "id": "DO2ubP9N9D_2",
        "colab": {
          "base_uri": "https://localhost:8080/",
          "height": 35
        },
        "outputId": "3c8c844b-0561-415e-b296-52745f0cb8d7"
      },
      "execution_count": null,
      "outputs": [
        {
          "output_type": "execute_result",
          "data": {
            "text/plain": [
              "'Penélope Camacho'"
            ],
            "application/vnd.google.colaboratory.intrinsic+json": {
              "type": "string"
            }
          },
          "metadata": {},
          "execution_count": 4
        }
      ]
    },
    {
      "cell_type": "markdown",
      "source": [
        "Las listas son organizadas en Python porque **cada elemento de la lista tiene un índice que indica su posición al interior de la lista**. Los índices comienzan en 0 van hasta el tamaño de la lista menos 1."
      ],
      "metadata": {
        "id": "qUz3sJNl6LgK"
      }
    },
    {
      "cell_type": "markdown",
      "source": [
        "Tenemos entonces 5 elementos con índices que varían de 0 a 4, ordenadamente:\n",
        "\n",
        "```\n",
        "#             [0]           [1]   [2]   [3]    [4]\n",
        "lista = ['Penélope Camacho', 9.5 , 9.0 , 9.7 , True]\n",
        "```\n",
        "\n",
        "En Python tenemos también los índices **negativos** que se inician en el último elemento con el valor de `-1` y avanzan en el universo de los negativos hasta llegar al 1° elemento:\n",
        "\n",
        "```\n",
        "#             [-5]         [-4]  [-3]  [-2]   [-1]\n",
        "lista = ['Penélope Camacho', 9.5 , 9.0 , 9.7 , True]\n",
        "```\n",
        "\n",
        "Logramos seleccionar separadamente cada elemento a través de sus respectivos índices. Colocando el nombre de la lista y en seguida el índice que será seleccionado."
      ],
      "metadata": {
        "id": "rLf-Qg526hFD"
      }
    },
    {
      "cell_type": "code",
      "source": [
        "print(lista[1])\n",
        "print(lista[2])\n",
        "print(lista[3])"
      ],
      "metadata": {
        "id": "4hco1Zqy88Kw",
        "colab": {
          "base_uri": "https://localhost:8080/"
        },
        "outputId": "db1e55c6-d7a3-4970-dcf8-51fbb9582ae8"
      },
      "execution_count": null,
      "outputs": [
        {
          "output_type": "stream",
          "name": "stdout",
          "text": [
            "9.5\n",
            "9.0\n",
            "9.7\n"
          ]
        }
      ]
    },
    {
      "cell_type": "code",
      "source": [
        "print(lista[-1])\n",
        "print(lista[-2])\n",
        "print(lista[-3])"
      ],
      "metadata": {
        "id": "M8lH0I2288Ph",
        "colab": {
          "base_uri": "https://localhost:8080/"
        },
        "outputId": "9e059d60-f013-4580-c9c9-d426a5c79bc8"
      },
      "execution_count": null,
      "outputs": [
        {
          "output_type": "stream",
          "name": "stdout",
          "text": [
            "True\n",
            "9.7\n",
            "9.0\n"
          ]
        }
      ]
    },
    {
      "cell_type": "markdown",
      "source": [
        "Una forma más dinámica de trabajar item a item en una lista es utilizando un lazo `for` para leer un elemento a la vez."
      ],
      "metadata": {
        "id": "6TaE1ijmBTCd"
      }
    },
    {
      "cell_type": "code",
      "source": [
        "for item in lista:\n",
        "  print(item)"
      ],
      "metadata": {
        "id": "rBx4Yu1786Sy",
        "colab": {
          "base_uri": "https://localhost:8080/"
        },
        "outputId": "acd1901c-71aa-43f3-c5c2-0967dc2debb9"
      },
      "execution_count": null,
      "outputs": [
        {
          "output_type": "stream",
          "name": "stdout",
          "text": [
            "Penélope Camacho\n",
            "9.5\n",
            "9.0\n",
            "9.7\n",
            "True\n"
          ]
        }
      ]
    },
    {
      "cell_type": "markdown",
      "source": [
        "**Situación**: La nota `9.0` de Penélope necesita ser ajustada pues ganó 1 punto en su última nota por participación en clase. Entonces es necesario realizar un cambio en el índice `2` de `9.0` a `10.0`."
      ],
      "metadata": {
        "id": "Dh1_HnIVvucY"
      }
    },
    {
      "cell_type": "code",
      "source": [
        "lista[2] = 10\n"
      ],
      "metadata": {
        "id": "bVPoZg668z3T",
        "colab": {
          "base_uri": "https://localhost:8080/"
        },
        "outputId": "a47b5b99-7200-429f-f888-40a8a6a84de8"
      },
      "execution_count": null,
      "outputs": [
        {
          "output_type": "execute_result",
          "data": {
            "text/plain": [
              "10"
            ]
          },
          "metadata": {},
          "execution_count": 13
        }
      ]
    },
    {
      "cell_type": "code",
      "source": [
        "lista"
      ],
      "metadata": {
        "id": "Jo_PBQ0g8z7D",
        "colab": {
          "base_uri": "https://localhost:8080/"
        },
        "outputId": "56fd7ca0-0031-476d-be28-76992fce38d6"
      },
      "execution_count": null,
      "outputs": [
        {
          "output_type": "execute_result",
          "data": {
            "text/plain": [
              "['Penélope Camacho', 9.5, 10, 9.7, True]"
            ]
          },
          "metadata": {},
          "execution_count": 14
        }
      ]
    },
    {
      "cell_type": "markdown",
      "source": [
        "También podemos calcular el promedio del estudiante a partir de los datos que tenemos."
      ],
      "metadata": {
        "id": "53XduzXkycAf"
      }
    },
    {
      "cell_type": "code",
      "source": [
        "promedio = (lista[1]+lista[2]+lista[3])/3\n",
        "promedio"
      ],
      "metadata": {
        "id": "SIH61Rrb8yv4",
        "colab": {
          "base_uri": "https://localhost:8080/"
        },
        "outputId": "11218310-e130-47da-e9bb-b5024669c9e6"
      },
      "execution_count": null,
      "outputs": [
        {
          "output_type": "execute_result",
          "data": {
            "text/plain": [
              "9.733333333333333"
            ]
          },
          "metadata": {},
          "execution_count": 15
        }
      ]
    },
    {
      "cell_type": "markdown",
      "source": [
        "## Manipulación de listas\n",
        "\n",
        "Las listas son muy útiles en Python porque nos permiten almacenar y acceder a una colección de items de manera organizada y rápida. Estas también ofrecen muchos métodos útiles para manipular los itens almacenados, como adicionar, remover, clasificar y buscar elementos."
      ],
      "metadata": {
        "id": "d-iYr10-y4qw"
      }
    },
    {
      "cell_type": "markdown",
      "source": [
        "#### Cantidad de elementos\n",
        "\n",
        "Usamos la función [`len()`](https://docs.python.org/3/library/functions.html#len) para descubrir la cantidad de elementos de un conjunto."
      ],
      "metadata": {
        "id": "ZLqx9A97XVB_"
      }
    },
    {
      "cell_type": "code",
      "source": [
        "len(lista)"
      ],
      "metadata": {
        "id": "6q1Tmm7P8wQf",
        "colab": {
          "base_uri": "https://localhost:8080/"
        },
        "outputId": "36820224-0cc8-489c-8b1c-1c388e261903"
      },
      "execution_count": null,
      "outputs": [
        {
          "output_type": "execute_result",
          "data": {
            "text/plain": [
              "5"
            ]
          },
          "metadata": {},
          "execution_count": 16
        }
      ]
    },
    {
      "cell_type": "markdown",
      "source": [
        "#### Partición\n",
        "\n",
        "La partición de listas por indexación en Python es una técnica muy útil para seleccionar un subconjunto de elementos de una lista. Esta se realiza usando la sintaxis `lista[inicio:fin]`, donde `inicio` es el índice del primer elemento que será incluído en la partición `fin` es el índice del primer elemento que será excluído de la partición."
      ],
      "metadata": {
        "id": "Z5tpstlHJss3"
      }
    },
    {
      "cell_type": "code",
      "source": [
        "lista[:3]"
      ],
      "metadata": {
        "id": "NctvJTTU8uV9",
        "colab": {
          "base_uri": "https://localhost:8080/"
        },
        "outputId": "cd77f52e-d414-47e2-d1e7-654795c605dc"
      },
      "execution_count": null,
      "outputs": [
        {
          "output_type": "execute_result",
          "data": {
            "text/plain": [
              "['Penélope Camacho', 9.5, 10]"
            ]
          },
          "metadata": {},
          "execution_count": 17
        }
      ]
    },
    {
      "cell_type": "code",
      "source": [
        "lista[3:]"
      ],
      "metadata": {
        "id": "bQZUwldj8uY2",
        "colab": {
          "base_uri": "https://localhost:8080/"
        },
        "outputId": "0d573ea1-93bf-411a-e4ad-ada097868196"
      },
      "execution_count": null,
      "outputs": [
        {
          "output_type": "execute_result",
          "data": {
            "text/plain": [
              "[9.7, True]"
            ]
          },
          "metadata": {},
          "execution_count": 18
        }
      ]
    },
    {
      "cell_type": "markdown",
      "source": [
        "#### [`append()`](https://docs.python.org/3/tutorial/datastructures.html#:~:text=of%20list%20objects%3A-,list.append(x),-Add%20an%20item)\n",
        "\n",
        "Añade un elemento al final de la lista."
      ],
      "metadata": {
        "id": "O0RRyabkRzZC"
      }
    },
    {
      "cell_type": "code",
      "source": [
        "lista.append(promedio)"
      ],
      "metadata": {
        "id": "_Q0oODwa8spC"
      },
      "execution_count": null,
      "outputs": []
    },
    {
      "cell_type": "code",
      "source": [
        "lista"
      ],
      "metadata": {
        "id": "RM894r2M8sse",
        "colab": {
          "base_uri": "https://localhost:8080/"
        },
        "outputId": "626eabf3-fc59-44a8-a72f-1cdfb678f698"
      },
      "execution_count": null,
      "outputs": [
        {
          "output_type": "execute_result",
          "data": {
            "text/plain": [
              "['Penélope Camacho', 9.5, 10, 9.7, True, 9.733333333333333]"
            ]
          },
          "metadata": {},
          "execution_count": 23
        }
      ]
    },
    {
      "cell_type": "markdown",
      "source": [
        "#### [`extend()`](https://docs.python.org/3/tutorial/datastructures.html#:~:text=list.extend(iterable))\n",
        "\n",
        "Añade varios elementos al final de la lista.\n",
        "\n",
        "Añadiremos las notas `[10.0,8.0,9.0]` En la lista de Penélope Camacho."
      ],
      "metadata": {
        "id": "uQV91XMsUOJD"
      }
    },
    {
      "cell_type": "code",
      "source": [
        "lista.extend([10.0,8.0,9.0])"
      ],
      "metadata": {
        "id": "6Zk2MpMw8rQc"
      },
      "execution_count": null,
      "outputs": []
    },
    {
      "cell_type": "code",
      "source": [
        "lista"
      ],
      "metadata": {
        "id": "NnoKkoWb8rTQ",
        "colab": {
          "base_uri": "https://localhost:8080/"
        },
        "outputId": "6a1b190a-96af-4aeb-cf29-575456165397"
      },
      "execution_count": null,
      "outputs": [
        {
          "output_type": "execute_result",
          "data": {
            "text/plain": [
              "['Penélope Camacho', 9.5, 10, 9.7, True, 9.733333333333333, 10.0, 8.0, 9.0]"
            ]
          },
          "metadata": {},
          "execution_count": 25
        }
      ]
    },
    {
      "cell_type": "markdown",
      "source": [
        "*A continuación te mostraremos lo que no puede realizarse con* `append`."
      ],
      "metadata": {
        "id": "IVJvkTwNUk6M"
      }
    },
    {
      "cell_type": "code",
      "source": [
        "lista.append([10.0,8.0,9.0] )"
      ],
      "metadata": {
        "id": "u3Eub2ZL8pp3"
      },
      "execution_count": null,
      "outputs": []
    },
    {
      "cell_type": "code",
      "source": [
        "lista"
      ],
      "metadata": {
        "id": "tsKK5Ne58pvN",
        "colab": {
          "base_uri": "https://localhost:8080/"
        },
        "outputId": "c4073ef2-d04e-4875-fbe7-9a83d261b9d0"
      },
      "execution_count": null,
      "outputs": [
        {
          "output_type": "execute_result",
          "data": {
            "text/plain": [
              "['Penélope Camacho',\n",
              " 9.5,\n",
              " 10,\n",
              " 9.7,\n",
              " True,\n",
              " 9.733333333333333,\n",
              " 10.0,\n",
              " 8.0,\n",
              " 9.0,\n",
              " [10.0, 8.0, 9.0]]"
            ]
          },
          "metadata": {},
          "execution_count": 27
        }
      ]
    },
    {
      "cell_type": "markdown",
      "source": [
        "#### [`remove()`](https://docs.python.org/3/tutorial/datastructures.html#:~:text=append(x).-,list.remove(x),-Remove%20the%20first)\n",
        "\n",
        "Remueve un elemento específico de la lista."
      ],
      "metadata": {
        "id": "dPGM5gpyUX1z"
      }
    },
    {
      "cell_type": "code",
      "source": [
        "lista.remove([10.0,8.0,9.0] )"
      ],
      "metadata": {
        "id": "mmboODPc8nd5"
      },
      "execution_count": null,
      "outputs": []
    },
    {
      "cell_type": "code",
      "source": [
        "lista"
      ],
      "metadata": {
        "id": "T_w6vVgV8nh_",
        "colab": {
          "base_uri": "https://localhost:8080/"
        },
        "outputId": "0a83387b-8ab1-4617-9347-ff13dfa9df8a"
      },
      "execution_count": null,
      "outputs": [
        {
          "output_type": "execute_result",
          "data": {
            "text/plain": [
              "['Penélope Camacho', 9.5, 10, 9.7, True, 9.733333333333333, 10.0, 8.0, 9.0]"
            ]
          },
          "metadata": {},
          "execution_count": 29
        }
      ]
    },
    {
      "cell_type": "markdown",
      "source": [
        "Hemos estudiado algunos métodos en clase, y además de esos, podemos utilizar otros para manipular listas en Python. Vamos a conocerlos y ver ejemplos de cómo se utilizan. En todos los casos, utilizaremos la siguiente lista llamada \"razas_de_perros\":"
      ],
      "metadata": {
        "id": "79p5eOX5PAid"
      }
    },
    {
      "cell_type": "code",
      "source": [
        "razas_de_perros = ['Labrador Retriever',\n",
        "                   'Bulldog Francés',\n",
        "                   'Pastor Alemán',\n",
        "                   'Poodle']"
      ],
      "metadata": {
        "id": "63NING9UPFhj"
      },
      "execution_count": null,
      "outputs": []
    },
    {
      "cell_type": "markdown",
      "source": [
        "El primer método es **insert()**, que permite insertar un elemento en una posición específica de la lista. La sintaxis es lista.insert(indice, elemento), donde \"lista\" es la lista que recibirá el nuevo elemento, \"indice\" es la posición donde se insertará el nuevo elemento y \"elemento\" es el nuevo elemento que se insertará."
      ],
      "metadata": {
        "id": "Wc3s6XFmPMcT"
      }
    },
    {
      "cell_type": "code",
      "source": [
        "razas_de_perros.insert(1, 'Golden Retriever')\n",
        "razas_de_perros"
      ],
      "metadata": {
        "colab": {
          "base_uri": "https://localhost:8080/"
        },
        "id": "yoblTlqzPvY3",
        "outputId": "5e9fb8ee-05aa-48b2-b494-7726a2c14e53"
      },
      "execution_count": null,
      "outputs": [
        {
          "output_type": "execute_result",
          "data": {
            "text/plain": [
              "['Labrador Retriever',\n",
              " 'Golden Retriever',\n",
              " 'Bulldog Francés',\n",
              " 'Pastor Alemán',\n",
              " 'Poodle']"
            ]
          },
          "metadata": {},
          "execution_count": 31
        }
      ]
    },
    {
      "cell_type": "markdown",
      "source": [
        "Siguiendo este enfoque, la estructura lista.insert(len(lista), elemento) es equivalente al uso del método append()"
      ],
      "metadata": {
        "id": "pEcDUWTAQBwT"
      }
    },
    {
      "cell_type": "code",
      "source": [
        "razas_de_perros.insert(len(razas_de_perros), 'Husky Siberiano')\n",
        "razas_de_perros"
      ],
      "metadata": {
        "colab": {
          "base_uri": "https://localhost:8080/"
        },
        "id": "qSW9_JrFQNYU",
        "outputId": "57a84556-b768-487f-b6ae-b522ab3f39ed"
      },
      "execution_count": null,
      "outputs": [
        {
          "output_type": "execute_result",
          "data": {
            "text/plain": [
              "['Labrador Retriever',\n",
              " 'Golden Retriever',\n",
              " 'Bulldog Francés',\n",
              " 'Pastor Alemán',\n",
              " 'Poodle',\n",
              " 'Husky Siberiano']"
            ]
          },
          "metadata": {},
          "execution_count": 32
        }
      ]
    },
    {
      "cell_type": "markdown",
      "source": [
        "El método pop() elimina el elemento en una posición específica de la lista y lo devuelve como salida al ejecutar el método. Solo necesitamos especificar, entre paréntesis, el índice del elemento que deseamos eliminar, y se eliminará de la lista. Por lo tanto, eliminemos la raza \"Golden Retriever\" que agregamos en el método anterior."
      ],
      "metadata": {
        "id": "bENqjXKAQdst"
      }
    },
    {
      "cell_type": "code",
      "source": [
        "razas_de_perros.pop(1)\n",
        "razas_de_perros"
      ],
      "metadata": {
        "colab": {
          "base_uri": "https://localhost:8080/"
        },
        "id": "-j18wfA0QeyQ",
        "outputId": "afb5f4f0-dd15-4cdd-e837-a3480d52128a"
      },
      "execution_count": null,
      "outputs": [
        {
          "output_type": "execute_result",
          "data": {
            "text/plain": [
              "['Labrador Retriever',\n",
              " 'Bulldog Francés',\n",
              " 'Pastor Alemán',\n",
              " 'Poodle',\n",
              " 'Husky Siberiano']"
            ]
          },
          "metadata": {},
          "execution_count": 33
        }
      ]
    },
    {
      "cell_type": "markdown",
      "source": [
        "El método index() devuelve el índice de un elemento específico en la lista. Para hacerlo, especificamos el elemento entre paréntesis. Para encontrar el índice de la raza \"Pastor Alemán\" en la lista, hacemos lo siguiente:"
      ],
      "metadata": {
        "id": "SzpkXw3kQsTC"
      }
    },
    {
      "cell_type": "code",
      "source": [
        "razas_de_perros.index('Pastor Alemán')"
      ],
      "metadata": {
        "colab": {
          "base_uri": "https://localhost:8080/"
        },
        "id": "aRhmfVoGQtUv",
        "outputId": "6992fdcf-2a98-4c59-e606-27cc02cb1352"
      },
      "execution_count": null,
      "outputs": [
        {
          "output_type": "execute_result",
          "data": {
            "text/plain": [
              "2"
            ]
          },
          "metadata": {},
          "execution_count": 34
        }
      ]
    },
    {
      "cell_type": "markdown",
      "source": [
        "El método sort() ordena los elementos de la lista en orden ascendente o descendente. Si son palabras, el orden se basa en el orden alfabético o en el orden inverso. Para ordenar los valores, simplemente llamamos al método sort(), y la lista se organizará en orden. Para ordenar alfabéticamente la lista de razas de perros, podemos usar el siguiente código:"
      ],
      "metadata": {
        "id": "r1ZmuvHrQ9Xt"
      }
    },
    {
      "cell_type": "code",
      "source": [
        "razas_de_perros.sort()\n",
        "razas_de_perros"
      ],
      "metadata": {
        "colab": {
          "base_uri": "https://localhost:8080/"
        },
        "id": "u9VbA0AxQ-qp",
        "outputId": "fe24cbd8-3da9-4cb1-fda5-fffa725975fd"
      },
      "execution_count": null,
      "outputs": [
        {
          "output_type": "execute_result",
          "data": {
            "text/plain": [
              "['Bulldog Francés',\n",
              " 'Husky Siberiano',\n",
              " 'Labrador Retriever',\n",
              " 'Pastor Alemán',\n",
              " 'Poodle']"
            ]
          },
          "metadata": {},
          "execution_count": 35
        }
      ]
    },
    {
      "cell_type": "code",
      "source": [
        "razas_de_perros.sort(reverse=True)\n",
        "razas_de_perros"
      ],
      "metadata": {
        "colab": {
          "base_uri": "https://localhost:8080/"
        },
        "id": "Wg5_A0k2RDBD",
        "outputId": "9ced8810-271f-4e62-c899-75243226d279"
      },
      "execution_count": null,
      "outputs": [
        {
          "output_type": "execute_result",
          "data": {
            "text/plain": [
              "['Poodle',\n",
              " 'Pastor Alemán',\n",
              " 'Labrador Retriever',\n",
              " 'Husky Siberiano',\n",
              " 'Bulldog Francés']"
            ]
          },
          "metadata": {},
          "execution_count": 36
        }
      ]
    },
    {
      "cell_type": "markdown",
      "source": [
        "## Diccionario"
      ],
      "metadata": {
        "id": "Rc22Vc08YDZ2"
      }
    },
    {
      "cell_type": "markdown",
      "source": [
        "Los diccionarios son un tipo de estructura de datos que almacenan pares de *llave-valor*. Estos son delimitados por llaves `{}` y los pares *llave-valor* son separados por comas.\n",
        "\n",
        "```\n",
        "diccionario = {llave: valor}\n",
        "```\n",
        "\n",
        "La **llave** es un elemento único que identifica a un valor en el diccionario, mientras que el **valor** es el item que será almacenado para la llave. Las llaves y sus respectivos valores se pueden emplear para **cualquier tipo de dato**.\n",
        "\n",
        "Los diccionarios son útiles para almacenar y acceder a los datos de manera organizada y rápida. Se trata de un tipo de conjunto de elementos en Python, pues almacenan una colección de items."
      ],
      "metadata": {
        "id": "PJ-cCKPjeWxL"
      }
    },
    {
      "cell_type": "code",
      "source": [
        "diccionaro = {\n",
        "    \"key_1\":1,\n",
        "    \"key_2\":2,\n",
        "    \"key_3\":3\n",
        "}"
      ],
      "metadata": {
        "id": "NDHhzooE8ld5"
      },
      "execution_count": null,
      "outputs": []
    },
    {
      "cell_type": "code",
      "source": [
        "diccionaro"
      ],
      "metadata": {
        "id": "AVOzqzy-8lhh",
        "colab": {
          "base_uri": "https://localhost:8080/"
        },
        "outputId": "d591530a-3213-4b4a-e0bc-bc9c8e429448"
      },
      "execution_count": null,
      "outputs": [
        {
          "output_type": "execute_result",
          "data": {
            "text/plain": [
              "{'key_1': 1, 'key_2': 2, 'key_3': 3}"
            ]
          },
          "metadata": {},
          "execution_count": 38
        }
      ]
    },
    {
      "cell_type": "markdown",
      "source": [
        "---\n",
        "**Situación:**\n",
        "\n",
        "Vamos a crear un conjunto de datos con las informaciones de matrícula de un estudiante. Los datos son los siguientes:\n",
        "\n",
        "- matrícula: 2000168933\n",
        "- día de registro: 25\n",
        "- mes de registro: 10\n",
        "- grupo: 2E"
      ],
      "metadata": {
        "id": "_JbQ3KMKfkXU"
      }
    },
    {
      "cell_type": "code",
      "source": [
        "estudiante = {\n",
        "    \"matricula\":2000168933,\n",
        "    \"dia\":25,\n",
        "    \"mes\":10,\n",
        "    \"grupo\":\"2E\"\n",
        "}"
      ],
      "metadata": {
        "id": "0lfOu_c38jED"
      },
      "execution_count": null,
      "outputs": []
    },
    {
      "cell_type": "code",
      "source": [
        "estudiante\n"
      ],
      "metadata": {
        "id": "XIuqpTTy8jHV",
        "colab": {
          "base_uri": "https://localhost:8080/"
        },
        "outputId": "436aa650-ba72-497e-d284-8b850a6717c6"
      },
      "execution_count": null,
      "outputs": [
        {
          "output_type": "execute_result",
          "data": {
            "text/plain": [
              "{'matricula': 2000168933, 'dia': 25, 'mes': 10, 'grupo': '2E'}"
            ]
          },
          "metadata": {},
          "execution_count": 41
        }
      ]
    },
    {
      "cell_type": "markdown",
      "source": [
        "Es posible sustituir los valores dentro de una llave. Por ejemplo, recibimos la información de que el grupo del estudiante que registramos cambio a `'2G'` y ahora necesitamos cambiar el valor de la llave `'grupo'`."
      ],
      "metadata": {
        "id": "8ex5pt2ykDd2"
      }
    },
    {
      "cell_type": "code",
      "source": [
        "estudiante[\"grupo\"] = \"2G\" ## opción 1"
      ],
      "metadata": {
        "id": "kQGlp36b8fyP"
      },
      "execution_count": null,
      "outputs": []
    },
    {
      "cell_type": "code",
      "source": [
        "estudiante"
      ],
      "metadata": {
        "id": "DnfH_qHi8f17",
        "colab": {
          "base_uri": "https://localhost:8080/"
        },
        "outputId": "d2c60290-c4a2-423a-d027-b33b1ce12f06"
      },
      "execution_count": null,
      "outputs": [
        {
          "output_type": "execute_result",
          "data": {
            "text/plain": [
              "{'matricula': 2000168933, 'dia': 25, 'mes': 10, 'grupo': '2G'}"
            ]
          },
          "metadata": {},
          "execution_count": 45
        }
      ]
    },
    {
      "cell_type": "code",
      "source": [
        "estudiante[\"grupo\"] =\"2E\" ## Restauro"
      ],
      "metadata": {
        "id": "y6GyXz8iTjDT"
      },
      "execution_count": null,
      "outputs": []
    },
    {
      "cell_type": "code",
      "source": [
        "estudiante"
      ],
      "metadata": {
        "colab": {
          "base_uri": "https://localhost:8080/"
        },
        "id": "LP9UEapDT1jH",
        "outputId": "db97f33f-7671-473a-e47e-7fa1fe54dead"
      },
      "execution_count": null,
      "outputs": [
        {
          "output_type": "execute_result",
          "data": {
            "text/plain": [
              "{'matricula': 2000168933, 'dia': 25, 'mes': 10, 'grupo': '2E'}"
            ]
          },
          "metadata": {},
          "execution_count": 47
        }
      ]
    },
    {
      "cell_type": "code",
      "source": [
        "estudiante.update({\"grupo\":\"2G\"}) ## opción 2"
      ],
      "metadata": {
        "id": "CO45jtbzTtJe"
      },
      "execution_count": null,
      "outputs": []
    },
    {
      "cell_type": "code",
      "source": [
        "estudiante"
      ],
      "metadata": {
        "colab": {
          "base_uri": "https://localhost:8080/"
        },
        "id": "_9iNySWWT52L",
        "outputId": "f8188fef-1ac2-4b3a-d969-87b2fb058d45"
      },
      "execution_count": null,
      "outputs": [
        {
          "output_type": "execute_result",
          "data": {
            "text/plain": [
              "{'matricula': 2000168933, 'dia': 25, 'mes': 10, 'grupo': '2G'}"
            ]
          },
          "metadata": {},
          "execution_count": 49
        }
      ]
    },
    {
      "cell_type": "markdown",
      "source": [
        "También podemos añadir otros datos al diccionario. Vamos a añadir la información sobre la modalidad de estudio, nuestro estudiante estudiará inicialemente en la modalidad EAD.\n",
        "\n",
        "Definiremos una llave llamada `'modalidad'` con el valor `'EAD'`."
      ],
      "metadata": {
        "id": "wB0qRb56mQvv"
      }
    },
    {
      "cell_type": "code",
      "source": [
        "estudiante[\"modalidad\"] = \"EAD\" ## opción 1"
      ],
      "metadata": {
        "id": "EeLYdlIm8d8a"
      },
      "execution_count": null,
      "outputs": []
    },
    {
      "cell_type": "code",
      "source": [
        "estudiante"
      ],
      "metadata": {
        "id": "olDIavsm8d_o",
        "colab": {
          "base_uri": "https://localhost:8080/"
        },
        "outputId": "cc3fdece-fefe-4e1a-e700-443830a03ae5"
      },
      "execution_count": null,
      "outputs": [
        {
          "output_type": "execute_result",
          "data": {
            "text/plain": [
              "{'matricula': 2000168933, 'dia': 25, 'mes': 10, 'grupo': '2G'}"
            ]
          },
          "metadata": {},
          "execution_count": 57
        }
      ]
    },
    {
      "cell_type": "code",
      "source": [
        "estudiante.update({\"modalidad\":\"Presencial\"}) ## opción 2"
      ],
      "metadata": {
        "id": "wPy5gxWrUUw0"
      },
      "execution_count": null,
      "outputs": []
    },
    {
      "cell_type": "code",
      "source": [
        "estudiante"
      ],
      "metadata": {
        "colab": {
          "base_uri": "https://localhost:8080/"
        },
        "id": "dSs-GwYDUlf8",
        "outputId": "dffac3d4-5578-4fb2-ace6-9518520cc49b"
      },
      "execution_count": null,
      "outputs": [
        {
          "output_type": "execute_result",
          "data": {
            "text/plain": [
              "{'matricula': 2000168933,\n",
              " 'dia': 25,\n",
              " 'mes': 10,\n",
              " 'grupo': '2G',\n",
              " 'modalidad': 'Presencial'}"
            ]
          },
          "metadata": {},
          "execution_count": 59
        }
      ]
    },
    {
      "cell_type": "markdown",
      "source": [
        "## Profundizando en diccionarios"
      ],
      "metadata": {
        "id": "LJ3o_inroxg_"
      }
    },
    {
      "cell_type": "markdown",
      "source": [
        "#### [`pop()`](https://python-reference.readthedocs.io/en/latest/docs/dict/pop.html)\n",
        "Remueve un item de un diccionario y lo representa en la salida."
      ],
      "metadata": {
        "id": "2N3GLlkSpBiu"
      }
    },
    {
      "cell_type": "code",
      "source": [
        "estudiante.pop(\"grupo\")"
      ],
      "metadata": {
        "id": "ZsSCZx6G8b-T",
        "colab": {
          "base_uri": "https://localhost:8080/",
          "height": 35
        },
        "outputId": "82ee3d7f-4cf2-4367-c7ae-fe5bb9eace85"
      },
      "execution_count": null,
      "outputs": [
        {
          "output_type": "execute_result",
          "data": {
            "text/plain": [
              "'2G'"
            ],
            "application/vnd.google.colaboratory.intrinsic+json": {
              "type": "string"
            }
          },
          "metadata": {},
          "execution_count": 60
        }
      ]
    },
    {
      "cell_type": "code",
      "source": [
        "estudiante"
      ],
      "metadata": {
        "id": "7lQ8_jpi8cBR",
        "colab": {
          "base_uri": "https://localhost:8080/"
        },
        "outputId": "716f9772-aa5a-4b4e-b4e5-94cb6406f020"
      },
      "execution_count": null,
      "outputs": [
        {
          "output_type": "execute_result",
          "data": {
            "text/plain": [
              "{'matricula': 2000168933, 'dia': 25, 'mes': 10, 'modalidad': 'Presencial'}"
            ]
          },
          "metadata": {},
          "execution_count": 61
        }
      ]
    },
    {
      "cell_type": "markdown",
      "source": [
        "#### [`items()`](https://python-reference.readthedocs.io/en/latest/docs/dict/items.html)\n",
        "Retorna una lista de pares `llave-valor` del diccionario."
      ],
      "metadata": {
        "id": "sYZGvJJYrW_y"
      }
    },
    {
      "cell_type": "code",
      "source": [
        "estudiante.items()"
      ],
      "metadata": {
        "id": "ncdycLV08an7",
        "colab": {
          "base_uri": "https://localhost:8080/"
        },
        "outputId": "f4a7e11b-3fcc-47ec-d71e-762cfac8c958"
      },
      "execution_count": null,
      "outputs": [
        {
          "output_type": "execute_result",
          "data": {
            "text/plain": [
              "dict_items([('matricula', 2000168933), ('dia', 25), ('mes', 10), ('modalidad', 'Presencial')])"
            ]
          },
          "metadata": {},
          "execution_count": 62
        }
      ]
    },
    {
      "cell_type": "markdown",
      "source": [
        "#### [`keys()`](https://python-reference.readthedocs.io/en/latest/docs/dict/keys.html)\n",
        "Retorna una lista de las llaves del diccionario."
      ],
      "metadata": {
        "id": "Lb0utNFGrZBY"
      }
    },
    {
      "cell_type": "code",
      "source": [
        "estudiante.keys()"
      ],
      "metadata": {
        "id": "eZo0biaM8ZVs",
        "colab": {
          "base_uri": "https://localhost:8080/"
        },
        "outputId": "39c2b2a9-8d5c-45ce-b852-7e7a5d389167"
      },
      "execution_count": null,
      "outputs": [
        {
          "output_type": "execute_result",
          "data": {
            "text/plain": [
              "dict_keys(['matricula', 'dia', 'mes', 'modalidad'])"
            ]
          },
          "metadata": {},
          "execution_count": 63
        }
      ]
    },
    {
      "cell_type": "markdown",
      "source": [
        "#### [`values()`](https://python-reference.readthedocs.io/en/latest/docs/dict/values.html)\n",
        "Retorna una lista de los valores del diccionario."
      ],
      "metadata": {
        "id": "qKyu3bf9rbtX"
      }
    },
    {
      "cell_type": "code",
      "source": [
        "estudiante.values()"
      ],
      "metadata": {
        "id": "-NxRT9C18Yvo",
        "colab": {
          "base_uri": "https://localhost:8080/"
        },
        "outputId": "9b9fb192-d260-4515-ae32-c01451505629"
      },
      "execution_count": null,
      "outputs": [
        {
          "output_type": "execute_result",
          "data": {
            "text/plain": [
              "dict_values([2000168933, 25, 10, 'Presencial'])"
            ]
          },
          "metadata": {},
          "execution_count": 64
        }
      ]
    },
    {
      "cell_type": "markdown",
      "source": [
        "### Lectura de valores con el lazo `for`"
      ],
      "metadata": {
        "id": "e3XVjR8Frp75"
      }
    },
    {
      "cell_type": "code",
      "source": [
        "for key in estudiante.keys():\n",
        "  print(key)"
      ],
      "metadata": {
        "id": "NYcjU-Ip8Xan",
        "colab": {
          "base_uri": "https://localhost:8080/"
        },
        "outputId": "41cd15a5-3a3d-4967-bc5f-f70045aeaca4"
      },
      "execution_count": null,
      "outputs": [
        {
          "output_type": "stream",
          "name": "stdout",
          "text": [
            "matricula\n",
            "dia\n",
            "mes\n",
            "modalidad\n"
          ]
        }
      ]
    },
    {
      "cell_type": "code",
      "source": [
        "for key, value in estudiante.items():\n",
        "  print(key, ' ----> ', value)"
      ],
      "metadata": {
        "id": "aAnpP1Wv8XfJ",
        "colab": {
          "base_uri": "https://localhost:8080/"
        },
        "outputId": "a5aa94ec-9b2f-4d2f-bef8-aed5969adbaf"
      },
      "execution_count": null,
      "outputs": [
        {
          "output_type": "stream",
          "name": "stdout",
          "text": [
            "matricula  ---->  2000168933\n",
            "dia  ---->  25\n",
            "mes  ---->  10\n",
            "modalidad  ---->  Presencial\n"
          ]
        }
      ]
    },
    {
      "cell_type": "markdown",
      "source": [
        "Podemos asociar estructuras de datos a otras estructuras de datos, como ocurre cuando tenemos listas dentro de diccionarios. En este caso, las listas pueden ser almacenadas en los valores de un diccionario de tal manera que cada clave puede tener una lista asociada a ella. Esto es útil cuando necesitamos almacenar varios valores relacionados con una sola clave. Por ejemplo, podemos construir un conjunto de datos de una tienda que contenga una clave con los nombres de cada producto y otra clave con los precios correspondientes, como se muestra en el código a continuación:"
      ],
      "metadata": {
        "id": "Rer3jW9WXELe"
      }
    },
    {
      "cell_type": "code",
      "source": [
        "tienda = {'nombres': ['televisión', 'celular', 'notebook', 'geladeira', 'estufa'],\n",
        "          'precios': [2000, 1500, 3500, 4000, 1500]}"
      ],
      "metadata": {
        "id": "oxQIS4H5XIbL"
      },
      "execution_count": null,
      "outputs": []
    },
    {
      "cell_type": "code",
      "source": [
        "tienda"
      ],
      "metadata": {
        "colab": {
          "base_uri": "https://localhost:8080/"
        },
        "id": "kalne9ImXK5j",
        "outputId": "39c8f895-5fff-41fb-f0b0-02268bd83a5c"
      },
      "execution_count": null,
      "outputs": [
        {
          "output_type": "execute_result",
          "data": {
            "text/plain": [
              "{'nombres': ['televisión', 'celular', 'notebook', 'geladeira', 'estufa'],\n",
              " 'precios': [2000, 1500, 3500, 4000, 1500]}"
            ]
          },
          "metadata": {},
          "execution_count": 68
        }
      ]
    },
    {
      "cell_type": "code",
      "source": [
        "for clave, elementos in tienda.items():\n",
        "  print(f'Clave: {clave}\\nElementos:')\n",
        "  for dato in elementos:\n",
        "    print(dato)"
      ],
      "metadata": {
        "colab": {
          "base_uri": "https://localhost:8080/"
        },
        "id": "K9jN__GXX0bB",
        "outputId": "9c3adac2-72f8-4c90-d16b-28fb43ea8f9c"
      },
      "execution_count": null,
      "outputs": [
        {
          "output_type": "stream",
          "name": "stdout",
          "text": [
            "Clave: nombres\n",
            "Elementos:\n",
            "televisión\n",
            "celular\n",
            "notebook\n",
            "geladeira\n",
            "estufa\n",
            "Clave: precios\n",
            "Elementos:\n",
            "2000\n",
            "1500\n",
            "3500\n",
            "4000\n",
            "1500\n"
          ]
        }
      ]
    },
    {
      "cell_type": "markdown",
      "source": [
        "El primer bucle, el más externo, recorre los elementos dentro del diccionario (claves y elementos). Sabiendo que los elementos son listas, podemos acceder a los datos de las listas con otro bucle anidado que se encuentra dentro del primer bucle. El bucle más interno recorre los elementos de cada lista uno a uno e imprime los valores dentro de ellas."
      ],
      "metadata": {
        "id": "KjQ0R5yOYYTB"
      }
    },
    {
      "cell_type": "code",
      "source": [
        "for product, price in zip(tienda['nombres'], tienda['precios']):\n",
        "  print(f'El producto {product} tiene un precio de {price}')"
      ],
      "metadata": {
        "colab": {
          "base_uri": "https://localhost:8080/"
        },
        "id": "xggHTZV8XO8j",
        "outputId": "dfe879cb-9396-4e63-976c-8b57b9890a03"
      },
      "execution_count": null,
      "outputs": [
        {
          "output_type": "stream",
          "name": "stdout",
          "text": [
            "El producto televisión tiene un precio de 2000\n",
            "El producto celular tiene un precio de 1500\n",
            "El producto notebook tiene un precio de 3500\n",
            "El producto geladeira tiene un precio de 4000\n",
            "El producto estufa tiene un precio de 1500\n"
          ]
        }
      ]
    },
    {
      "cell_type": "markdown",
      "source": [
        "##Ejercitación"
      ],
      "metadata": {
        "id": "tT8XxS7XlqIK"
      }
    },
    {
      "cell_type": "markdown",
      "source": [
        "Entrenando la programación\n",
        "\n",
        "1 - Crea un programa que tenga la siguiente lista con los gastos de una empresa de papel [2172.54, 3701.35, 3518.09, 3456.61, 3249.38, 2840.82, 3891.45, 3075.26, 2317.64, 3219.08]. Con estos valores, crea un programa que calcule el promedio de gastos. Sugerencia: usa las funciones integradas sum() y len()."
      ],
      "metadata": {
        "id": "kCvYfW0HluY-"
      }
    },
    {
      "cell_type": "code",
      "source": [
        "gastos = [2172.54, 3701.35, 3518.09, 3456.61, 3249.38, 2840.82, 3891.45, 3075.26, 2317.64, 3219.08]\n",
        "promedio = sum(gastos)/len(gastos)\n",
        "print(f'El promedio de gastos es {promedio}')\n"
      ],
      "metadata": {
        "colab": {
          "base_uri": "https://localhost:8080/"
        },
        "id": "nkAGqFUKl60a",
        "outputId": "e8e6e63f-6b47-474c-e1e7-6757ea970610"
      },
      "execution_count": null,
      "outputs": [
        {
          "output_type": "stream",
          "name": "stdout",
          "text": [
            "El promedio de gastos es 3144.222\n"
          ]
        }
      ]
    },
    {
      "cell_type": "markdown",
      "source": [
        "2 - Con los mismos datos de la pregunta anterior, determina cuántas compras se realizaron por encima de 3000 reales y calcula el porcentaje con respecto al total de compras."
      ],
      "metadata": {
        "id": "H1NwcN51mJdk"
      }
    },
    {
      "cell_type": "code",
      "source": [
        "compras_mayores = []\n",
        "for gasto in gastos:\n",
        "  if gasto > 3000:\n",
        "    compras_mayores.append(gasto)\n",
        "print(f'Gastos mayores a $3000, {len(compras_mayores)} compras')\n",
        "print(f'En total representan el {(sum(compras_mayores)*100/sum(gastos)):.2f}% del total de los gastos')"
      ],
      "metadata": {
        "colab": {
          "base_uri": "https://localhost:8080/"
        },
        "id": "ppdm1vq0mU6o",
        "outputId": "aad09bd0-6e10-4961-f47a-0dcb6832247b"
      },
      "execution_count": null,
      "outputs": [
        {
          "output_type": "stream",
          "name": "stdout",
          "text": [
            "Gastos mayores a $3000, 7 compras\n",
            "En total representan el 76.68% del total de los gastos\n"
          ]
        }
      ]
    },
    {
      "cell_type": "markdown",
      "source": [
        "3 - Crea un código que recoja en una lista 5 números enteros aleatorios e imprima la lista. Ejemplo: [1, 4, 7, 2, 4]."
      ],
      "metadata": {
        "id": "w5cMkFP3qyB5"
      }
    },
    {
      "cell_type": "code",
      "source": [
        "import random\n",
        "\n",
        "lista_random = []\n",
        "\n",
        "for i in range(5):\n",
        "  lista_random.append(random.randint(0,100))\n",
        "\n",
        "lista_random"
      ],
      "metadata": {
        "colab": {
          "base_uri": "https://localhost:8080/"
        },
        "id": "KGMqNGOZrOa5",
        "outputId": "8ccf868b-dffe-4f44-cf10-9cad6786c7c9"
      },
      "execution_count": null,
      "outputs": [
        {
          "output_type": "execute_result",
          "data": {
            "text/plain": [
              "[63, 29, 62, 12, 6]"
            ]
          },
          "metadata": {},
          "execution_count": 83
        }
      ]
    },
    {
      "cell_type": "markdown",
      "source": [
        "4 - Recoge nuevamente 5 números enteros e imprime la lista en orden inverso al enviado.\n"
      ],
      "metadata": {
        "id": "K8jUQR4NsfLd"
      }
    },
    {
      "cell_type": "code",
      "source": [
        "import random\n",
        "\n",
        "lista_random2 = []\n",
        "\n",
        "for i in range(5):\n",
        "  lista_random2.append(random.randint(0,100))\n",
        "\n",
        "print(lista_random2)\n",
        "print(lista_random2[::-1])\n"
      ],
      "metadata": {
        "colab": {
          "base_uri": "https://localhost:8080/"
        },
        "id": "nE4sPBGBsqSD",
        "outputId": "a9600401-a199-4341-b44f-0b85223de679"
      },
      "execution_count": null,
      "outputs": [
        {
          "output_type": "stream",
          "name": "stdout",
          "text": [
            "[28, 14, 77, 95, 96]\n",
            "[96, 95, 77, 14, 28]\n"
          ]
        }
      ]
    },
    {
      "cell_type": "code",
      "source": [],
      "metadata": {
        "id": "YNvUkGvlyCW-"
      },
      "execution_count": null,
      "outputs": []
    },
    {
      "cell_type": "markdown",
      "source": [
        "5 - Crea un programa que, al ingresar un número cualquiera, genere una lista que contenga todos los números primos entre 1 y el número ingresado."
      ],
      "metadata": {
        "id": "Yj_jx2k6u53H"
      }
    },
    {
      "cell_type": "code",
      "source": [
        "try:\n",
        "  lista_primos = []\n",
        "  num = int(input(\"Ingrese un número entero: \"))\n",
        "  for n in range(2, num+1):\n",
        "    for i in range(2,n):\n",
        "      if n % i == 0:\n",
        "        break\n",
        "    else:\n",
        "        lista_primos.append(n)\n",
        "\n",
        "  print(f' Números primnos contenidos entre 1 y {num}: {lista_primos}')\n",
        "\n",
        "except ValueError:\n",
        "  print(\"⚠️ Entrada inválida. Por favor, ingrese un número válido.\\n\")"
      ],
      "metadata": {
        "colab": {
          "base_uri": "https://localhost:8080/"
        },
        "id": "f7vaR3K9s1n-",
        "outputId": "8bef6bf0-387b-475c-b38c-1bf0d0f5bf59"
      },
      "execution_count": null,
      "outputs": [
        {
          "output_type": "stream",
          "name": "stdout",
          "text": [
            "Ingrese un número entero: 13\n",
            " Números primnos contenidos entre 1 y 13: [2, 3, 5, 7, 11, 13]\n"
          ]
        }
      ]
    },
    {
      "cell_type": "markdown",
      "source": [
        "6 - Escribe un programa que pida una fecha, especificando el día, mes y año, y determine si es válida para su análisis."
      ],
      "metadata": {
        "id": "wDyRTP1u3Cmb"
      }
    },
    {
      "cell_type": "code",
      "source": [
        "'''\n",
        "try:\n",
        "  fecha = input(\"Ingrese una fecha en formato dd/mm/aaaa: \")\n",
        "  anio_actual = int(input(\"Ingrese el año actual: \"))\n",
        "  dia, mes, año = fecha.split('/')\n",
        "  dia = int(dia)\n",
        "  mes = int(mes)\n",
        "  año = int(año)\n",
        "\n",
        "  if 0 < dia <= 31 and (mes == 1 or mes == 3 or mes == 5 or mes == 7 or mes == 8 or mes == 10 or mes == 12):\n",
        "    print(f'La fecha {fecha} es válida')\n",
        "  elif 0 < dia <= 30 and (mes == 4 or mes == 6 or mes == 9 or mes == 11):\n",
        "    print(f'La fecha {fecha} es válida')\n",
        "  elif 0 < dia <= 28 and mes == 2:\n",
        "    print(f'La fecha {fecha} es válida')\n",
        "  elif 0 < dia <= 29:\n",
        "    if año % 4 == 0:\n",
        "      if año % 100 == 0:\n",
        "        if año % 400 == 0:\n",
        "            print(f'La fecha {fecha} es válida')\n",
        "        else:\n",
        "            print(f'La fecha {fecha} no es válida')\n",
        "      else:\n",
        "        print(f'La fecha {fecha} es válida')\n",
        "    else:\n",
        "      print(f'La fecha {fecha} no es válida')\n",
        "  else:\n",
        "    print(f'La fecha {fecha} no es válida')\n",
        "\n",
        "\n",
        "except ValueError:\n",
        "  print(\"⚠️ Entrada inválida. Por favor, ingrese una fecha válida.\\n\")\n",
        "  '''\n",
        "\n",
        "def es_bisiesto(año):\n",
        "    return año % 4 == 0 and (año % 100 != 0 or año % 400 == 0)\n",
        "\n",
        "try:\n",
        "    fecha = input(\"Ingrese una fecha en formato dd/mm/aaaa: \")\n",
        "    anio_actual = int(input(\"Ingrese el año actual: \"))\n",
        "    dia, mes, año = map(int, fecha.split('/'))\n",
        "\n",
        "    dias_por_mes = {\n",
        "        1: 31, 2: 28, 3: 31, 4: 30,\n",
        "        5: 31, 6: 30, 7: 31, 8: 31,\n",
        "        9: 30, 10: 31, 11: 30, 12: 31\n",
        "    }\n",
        "\n",
        "    # Si es bisiesto, febrero tiene 29 días\n",
        "    if es_bisiesto(año):\n",
        "        dias_por_mes[2] = 29\n",
        "\n",
        "    if 1 <= mes <= 12 and 1 <= dia <= dias_por_mes[mes]:\n",
        "        print(f'La fecha {fecha} es válida')\n",
        "    else:\n",
        "        print(f'La fecha {fecha} no es válida')\n",
        "\n",
        "except ValueError:\n",
        "    print(\"⚠️ Entrada inválida. Por favor, ingrese una fecha válida.\\n\")\n"
      ],
      "metadata": {
        "colab": {
          "base_uri": "https://localhost:8080/"
        },
        "id": "gqcPOPN1wnte",
        "outputId": "e92ec378-c6ee-4c98-b741-817025bcecff"
      },
      "execution_count": null,
      "outputs": [
        {
          "output_type": "stream",
          "name": "stdout",
          "text": [
            "Ingrese una fecha en formato dd/mm/aaaa: 29/2/2020\n",
            "Ingrese el año actual: 2025\n",
            "La fecha 29/2/2020 es válida\n"
          ]
        }
      ]
    },
    {
      "cell_type": "markdown",
      "source": [
        "Momento para los proyectos\n",
        "\n",
        "7 - Para un estudio sobre la multiplicación de bacterias en una colonia, se recopiló el número de bacterias multiplicadas por día y se puede observar a continuación: [1.2, 2.1, 3.3, 5.0, 7.8, 11.3, 16.6, 25.1, 37.8, 56.9]. Con estos valores, crea un código que genere una lista que contenga el porcentaje de crecimiento de bacterias por día, comparando el número de bacterias en cada día con el número de bacterias del día anterior. Sugerencia: para calcular el porcentaje de crecimiento, utiliza la siguiente ecuación: 100 * (muestra_actual - muestra_anterior) / muestra_anterior."
      ],
      "metadata": {
        "id": "g1cP0hsFDSGu"
      }
    },
    {
      "cell_type": "code",
      "source": [
        "colonia =  [1.2, 2.1, 3.3, 5.0, 7.8, 11.3, 16.6, 25.1, 37.8, 56.9]\n",
        "porcentaje_crecimiento = []\n",
        "\n",
        "for i in range(len(colonia)-1):\n",
        "  porcentaje_crecimiento.append(round(100 * (colonia[i+1] - colonia[i]) / colonia[i], 2))\n",
        "porcentaje_crecimiento.insert( 0, 0)\n",
        "print(porcentaje_crecimiento)\n"
      ],
      "metadata": {
        "colab": {
          "base_uri": "https://localhost:8080/"
        },
        "id": "2LmAdKZcEP5a",
        "outputId": "09cfe163-791b-4a3a-f000-f7a02f60ba3e"
      },
      "execution_count": null,
      "outputs": [
        {
          "output_type": "stream",
          "name": "stdout",
          "text": [
            "[0, 75.0, 57.14, 51.52, 56.0, 44.87, 46.9, 51.2, 50.6, 50.53]\n"
          ]
        }
      ]
    },
    {
      "cell_type": "markdown",
      "source": [
        "8 - Para una selección de productos alimenticios, debemos separar el conjunto de IDs proporcionados por números enteros, sabiendo que los productos con ID par son dulces y los que tienen ID impar son amargos. Crea un código que recoja 10 IDs. Luego, calcula y muestra la cantidad de productos dulces y amargos."
      ],
      "metadata": {
        "id": "n2YPJokUH9Bb"
      }
    },
    {
      "cell_type": "code",
      "source": [
        "'''\n",
        "dulces = []\n",
        "amargos = []\n",
        "\n",
        "\n",
        "for i in range(10):\n",
        "  if i%2 == 0:\n",
        "    dulces.append(i)\n",
        "  else:\n",
        "    amargos.append(i)\n",
        "\n",
        "print(f'Poductos dulces {len(dulces)}')\n",
        "print(f'Productos amargos {len(amargos)}')\n",
        "'''\n",
        "\n",
        "dulces = []\n",
        "amargos = []\n",
        "\n",
        "for i in range(10):\n",
        "    try:\n",
        "        id_producto = int(input(f\"Ingresá el ID del producto #{i+1}: \"))\n",
        "        if id_producto % 2 == 0:\n",
        "            dulces.append(id_producto)\n",
        "        else:\n",
        "            amargos.append(id_producto)\n",
        "    except ValueError:\n",
        "        print(\"⚠️ Ingresá un número entero válido.\")\n",
        "        continue\n",
        "\n",
        "print(f'\\nProductos dulces: {len(dulces)}')\n",
        "print(f'Productos amargos: {len(amargos)}')\n"
      ],
      "metadata": {
        "colab": {
          "base_uri": "https://localhost:8080/"
        },
        "id": "v6wI8E7TIoaL",
        "outputId": "b25192de-498a-47a6-deae-13a23abf2116"
      },
      "execution_count": null,
      "outputs": [
        {
          "output_type": "stream",
          "name": "stdout",
          "text": [
            "Ingresá el ID del producto #1: 5\n",
            "Ingresá el ID del producto #2: 74\n",
            "Ingresá el ID del producto #3: 16\n",
            "Ingresá el ID del producto #4: 5463\n",
            "Ingresá el ID del producto #5: 19\n",
            "Ingresá el ID del producto #6: 24\n",
            "Ingresá el ID del producto #7: 19\n",
            "Ingresá el ID del producto #8: 35\n",
            "Ingresá el ID del producto #9: 513\n",
            "Ingresá el ID del producto #10: 545\n",
            "\n",
            "Productos dulces: 3\n",
            "Productos amargos: 7\n"
          ]
        }
      ]
    },
    {
      "cell_type": "markdown",
      "source": [
        "9 - Desarrolla un programa que informe la puntuación de un estudiante de acuerdo con sus respuestas. Debe pedir la respuesta del estudiante para cada pregunta y verificar si la respuesta coincide con el resultado. Cada pregunta vale un punto y hay opciones A, B, C o D.\n",
        "\n",
        "Resultado del examen:\n",
        "* 01 - D\n",
        "* 02 - A\n",
        "* 03 - C\n",
        "* 04 - B\n",
        "* 05 - A\n",
        "* 06 - D\n",
        "* 07 - C\n",
        "* 08 - C\n",
        "* 09 - A\n",
        "* 10 - B\n",
        "\n",
        "\n",
        "\n",
        "\n"
      ],
      "metadata": {
        "id": "jPODhl1dLa-f"
      }
    },
    {
      "cell_type": "code",
      "source": [
        "soluciones = {\n",
        "    \"1\": \"D\", \"2\": \"A\", \"3\": \"C\", \"4\": \"B\", \"5\": \"A\",\n",
        "    \"6\": \"D\", \"7\": \"C\", \"8\": \"C\", \"9\": \"A\", \"10\": \"B\"\n",
        "}\n",
        "puntaje = 0\n",
        "respuestas_alumno = {}\n",
        "\n",
        "## Solicito respuestas al alumno\n",
        "for i in range(len(soluciones)):\n",
        "  respuesta = input(f\"Ingrese la respuesta para la pregunta {i+1}. OPCIONES A, B, C, D: \").upper()\n",
        "  respuestas_alumno[f\"{i+1}\"] = respuesta\n",
        "\n",
        "## Se verifican las respuestas dadas\n",
        "for i in range(len(respuestas_alumno)):\n",
        "  if respuestas_alumno[str(i+1)] == \"A\"or respuestas_alumno[str(i+1)] == \"B\" or respuestas_alumno[str(i+1)] == \"C\" or respuestas_alumno[str(i+1)] == \"D\":\n",
        "    continue\n",
        "  else:\n",
        "    nueva_respuesta = input(f\"Respondiste al pregunta {i+1} con {respuestas_alumno[str(i+1)]} LAS OPCIONES SON A, B, C, D. Intentalo nuevamente: \").upper()\n",
        "    respuestas_alumno[str(i)] = nueva_respuesta\n",
        "\n",
        "# Se evaluan las respuestas\n",
        "for i in range(len(respuestas_alumno)):\n",
        "  if respuestas_alumno[str(i+1)] == soluciones[str(i+1)]:\n",
        "    puntaje +=1\n",
        "\n",
        "print(f'\\n Has obtenido un puntaje de {puntaje} en tu evaluación')\n",
        "print(f'\\n Estas fueron tus resuestas{respuestas_alumno}')\n",
        "\n",
        "\n",
        "'''\n",
        "soluciones = {\n",
        "    \"1\": \"D\", \"2\": \"A\", \"3\": \"C\", \"4\": \"B\", \"5\": \"A\",\n",
        "    \"6\": \"D\", \"7\": \"C\", \"8\": \"C\", \"9\": \"A\", \"10\": \"B\"\n",
        "}\n",
        "puntaje = 0\n",
        "respuestas_alumno = {}\n",
        "\n",
        "# Solicito respuestas al alumno\n",
        "for i in range(1, 11):\n",
        "    while True:\n",
        "        respuesta = input(f\"Ingrese la respuesta para la pregunta {i}. OPCIONES A, B, C, D: \").upper()\n",
        "        if respuesta in [\"A\", \"B\", \"C\", \"D\"]:\n",
        "            respuestas_alumno[str(i)] = respuesta\n",
        "            break\n",
        "        else:\n",
        "            print(\"⚠️ Respuesta inválida. Intenta nuevamente.\")\n",
        "\n",
        "# Se evalúan las respuestas\n",
        "for i in range(1, 11):\n",
        "    if respuestas_alumno[str(i)] == soluciones[str(i)]:\n",
        "        puntaje += 1\n",
        "\n",
        "print(f'\\nHas obtenido un puntaje de {puntaje} en tu evaluación.')\n",
        "print('Tus respuestas:', respuestas_alumno)\n",
        "'''"
      ],
      "metadata": {
        "colab": {
          "base_uri": "https://localhost:8080/"
        },
        "id": "otRkUUONMMe4",
        "outputId": "846be668-cde4-4dfc-8762-7e1321a8d15e"
      },
      "execution_count": null,
      "outputs": [
        {
          "output_type": "stream",
          "name": "stdout",
          "text": [
            "Ingrese la respuesta para la pregunta 1. OPCIONES A, B, C, D: d\n",
            "Ingrese la respuesta para la pregunta 2. OPCIONES A, B, C, D: a\n",
            "Ingrese la respuesta para la pregunta 3. OPCIONES A, B, C, D: c\n",
            "Ingrese la respuesta para la pregunta 4. OPCIONES A, B, C, D: b\n",
            "Ingrese la respuesta para la pregunta 5. OPCIONES A, B, C, D: a\n",
            "Ingrese la respuesta para la pregunta 6. OPCIONES A, B, C, D: d\n",
            "Ingrese la respuesta para la pregunta 7. OPCIONES A, B, C, D: c\n",
            "Ingrese la respuesta para la pregunta 8. OPCIONES A, B, C, D: c\n",
            "Ingrese la respuesta para la pregunta 9. OPCIONES A, B, C, D: a\n",
            "Ingrese la respuesta para la pregunta 10. OPCIONES A, B, C, D: b\n",
            "\n",
            " Has obtenido un puntaje de 10 en tu evaluación\n",
            "\n",
            " Estas fueron tus resuestas{'1': 'D', '2': 'A', '3': 'C', '4': 'B', '5': 'A', '6': 'D', '7': 'C', '8': 'C', '9': 'A', '10': 'B'}\n"
          ]
        }
      ]
    },
    {
      "cell_type": "markdown",
      "source": [
        "10 - Un instituto de meteorología desea realizar un estudio de la temperatura media de cada mes del año. Para ello, debes crear un código que recoja y almacene esas temperaturas medias en una lista. Luego, calcula el promedio anual de las temperaturas y muestra todas las temperaturas por encima del promedio anual y en qué mes ocurrieron, mostrando los meses por su nombre (Enero, Febrero, etc.)."
      ],
      "metadata": {
        "id": "utSPFBRSWiST"
      }
    },
    {
      "cell_type": "code",
      "source": [
        "meses = \"Enero Febrero Marzo Abril Mayo Junio Julio Agosto Septiembre Octubre Noviembre Diciembre\"\n",
        "meses = meses.split()\n",
        "meses\n",
        "temperaturas = []\n",
        "altas = {}\n",
        "\n",
        "for i in range(len(meses)):\n",
        "  temperatura = int(input(f\"Ingrese la temperatura media del mes de {meses[i]}: \"))\n",
        "  temperaturas.append(temperatura)\n",
        "\n",
        "promedio = sum(temperaturas)/len(temperaturas)\n",
        "\n",
        "print(f'El promedio anual es {promedio:.2f}°C')\n",
        "\n",
        "for i in range(len(temperaturas)):\n",
        "  if temperaturas[i] > promedio:\n",
        "    altas[meses[i]] = temperaturas[i]\n",
        "\n",
        "print(f'Las temperaturas por encima del promedio anual son: {altas}')\n",
        "\n",
        "\n",
        "# meses = \"Enero Febrero Marzo Abril Mayo Junio Julio Agosto Septiembre Octubre Noviembre Diciembre\".split()\n",
        "# temperaturas = []\n",
        "# altas = {}\n",
        "\n",
        "# for i in range(len(meses)):\n",
        "#     temperatura = float(input(f\"Ingrese la temperatura media del mes de {meses[i]}: \"))\n",
        "#     temperaturas.append(temperatura)\n",
        "\n",
        "# promedio = sum(temperaturas) / len(temperaturas)\n",
        "# print(f'\\n🌡️ El promedio anual es de {promedio:.2f}°C\\n')\n",
        "\n",
        "# for i in range(len(temperaturas)):\n",
        "#     if temperaturas[i] > promedio:\n",
        "#         altas[meses[i]] = temperaturas[i]\n",
        "\n",
        "# print('📈 Meses con temperatura por encima del promedio:')\n",
        "# for mes, temp in altas.items():\n",
        "#     print(f'- {mes}: {temp}°C')\n"
      ],
      "metadata": {
        "colab": {
          "base_uri": "https://localhost:8080/"
        },
        "id": "GmbNEINPW3ip",
        "outputId": "e07ac82a-673d-4431-ccaf-180aa22c1bdb"
      },
      "execution_count": null,
      "outputs": [
        {
          "output_type": "stream",
          "name": "stdout",
          "text": [
            "Ingrese la temperatura media del mes de Enero: 35\n",
            "Ingrese la temperatura media del mes de Febrero: 30\n",
            "Ingrese la temperatura media del mes de Marzo: 28\n",
            "Ingrese la temperatura media del mes de Abril: 25\n",
            "Ingrese la temperatura media del mes de Mayo: 15\n",
            "Ingrese la temperatura media del mes de Junio: 11\n",
            "Ingrese la temperatura media del mes de Julio: 11\n",
            "Ingrese la temperatura media del mes de Agosto: 10\n",
            "Ingrese la temperatura media del mes de Septiembre: 20\n",
            "Ingrese la temperatura media del mes de Octubre: 25\n",
            "Ingrese la temperatura media del mes de Noviembre: 28\n",
            "Ingrese la temperatura media del mes de Diciembre: 29\n",
            "\n",
            "🌡️ El promedio anual es de 22.25°C\n",
            "\n",
            "📈 Meses con temperatura por encima del promedio:\n",
            "- Enero: 35.0°C\n",
            "- Febrero: 30.0°C\n",
            "- Marzo: 28.0°C\n",
            "- Abril: 25.0°C\n",
            "- Octubre: 25.0°C\n",
            "- Noviembre: 28.0°C\n",
            "- Diciembre: 29.0°C\n"
          ]
        }
      ]
    },
    {
      "cell_type": "code",
      "source": [],
      "metadata": {
        "id": "FrNOQuisXbjP"
      },
      "execution_count": null,
      "outputs": []
    },
    {
      "cell_type": "markdown",
      "source": [
        "11 - Una empresa de comercio electrónico está interesada en analizar las ventas de sus productos. Los datos de ventas se han almacenado en un diccionario:\n",
        "\n",
        "{'Producto A': 300, 'Producto B': 80, 'Producto C': 60, 'Producto D': 200, 'Producto E': 250, 'Producto F': 30}\n",
        "\n",
        "Escribe un código que calcule el total de ventas y el producto más vendido."
      ],
      "metadata": {
        "id": "qRD6ADuZawFU"
      }
    },
    {
      "cell_type": "code",
      "source": [
        "ventas = {'Producto A': 300, 'Producto B': 80, 'Producto C': 60, 'Producto D': 200, 'Producto E': 250, 'Producto F': 30}\n",
        "\n",
        "total_ventas = 0\n",
        "producto_mas_vendido = None\n",
        "cantidad_mas_vendida = 0\n",
        "\n",
        "for producto, cantidad in ventas.items():\n",
        "  total_ventas += cantidad\n",
        "\n",
        "  if cantidad > cantidad_mas_vendida:\n",
        "    cantidad_mas_vendida = cantidad\n",
        "    producto_mas_vendido = producto\n",
        "\n",
        "print(f'El total de ventas es de ${total_ventas}\\nEl producto mas vendido es {producto_mas_vendido}')"
      ],
      "metadata": {
        "colab": {
          "base_uri": "https://localhost:8080/"
        },
        "id": "musqlsSJa2an",
        "outputId": "ba9ebe29-916d-45d4-ce8e-6bc50485ce7c"
      },
      "execution_count": null,
      "outputs": [
        {
          "output_type": "stream",
          "name": "stdout",
          "text": [
            "El total de ventas es de $920\n",
            "El producto mas vendido es Producto A\n"
          ]
        }
      ]
    },
    {
      "cell_type": "markdown",
      "source": [
        "12 - Se realizó una encuesta de mercado para decidir cuál diseño de marca infantil es más atractivo para los niños. Los votos de la encuesta se pueden ver a continuación:\n",
        "\n",
        "Tabla de votos de la marca\n",
        "* Diseño 1 - 1334 votos\n",
        "* Diseño 2 - 982 votos\n",
        "* Diseño 3 - 1751 votos\n",
        "* Diseño 4 - 210 votos\n",
        "* Diseño 5 - 1811 votos\n",
        "\n",
        "Adapta los datos proporcionados a una estructura de diccionario. A partir de ello, informa el diseño ganador y el porcentaje de votos recibidos.\n"
      ],
      "metadata": {
        "id": "DwdnpHuAcHm2"
      }
    },
    {
      "cell_type": "code",
      "source": [
        "votos = {\n",
        "    \"Diseño 1\": 1334,\n",
        "    \"Diseño 2\": 982,\n",
        "    \"Diseño 3\": 1751,\n",
        "    \"Diseño 4\": 210,\n",
        "    \"Diseño 5\": 1811\n",
        "}\n",
        "##total_votos = sum(votos.values())\n",
        "total_votos = 0\n",
        "ganador = None\n",
        "mayor = 0\n",
        "porcentaje_votos = {}\n",
        "\n",
        "for diseño, voto in votos.items():\n",
        "  porcentaje_votos[diseño] = round((voto/sum(votos.values()))*100, 2)\n",
        "  total_votos += voto\n",
        "  if voto > mayor:\n",
        "    mayor = voto\n",
        "    ganador = diseño\n",
        "\n",
        "print(f'El diseño ganador es {ganador} habiendo obtenido el {porcentaje_votos[ganador]}% de los votos')\n",
        "\n",
        "\n",
        "# votos = {\n",
        "#     \"Diseño 1\": 1334,\n",
        "#     \"Diseño 2\": 982,\n",
        "#     \"Diseño 3\": 1751,\n",
        "#     \"Diseño 4\": 210,\n",
        "#     \"Diseño 5\": 1811\n",
        "# }\n",
        "\n",
        "# total_votos = sum(votos.values())\n",
        "# ganador = max(votos, key=votos.get)\n",
        "# porcentaje_votos = {\n",
        "#     diseño: round((voto / total_votos) * 100, 2)\n",
        "#     for diseño, voto in votos.items()\n",
        "# }\n",
        "\n",
        "# print(f'El diseño ganador es {ganador} con el {porcentaje_votos[ganador]}% de los votos.')\n"
      ],
      "metadata": {
        "colab": {
          "base_uri": "https://localhost:8080/"
        },
        "id": "_5mvEeuhcxoH",
        "outputId": "a8b03a99-3fe7-4270-ff1d-6a8b429a1e0d"
      },
      "execution_count": null,
      "outputs": [
        {
          "output_type": "stream",
          "name": "stdout",
          "text": [
            "El diseño ganador es Diseño 5 con el 29.75% de los votos.\n"
          ]
        }
      ]
    },
    {
      "cell_type": "markdown",
      "source": [
        "13 - Los empleados de un departamento de tu empresa recibirán una bonificación del 10% de su salario debido a un excelente rendimiento del equipo. El departamento de finanzas ha solicitado tu ayuda para verificar las consecuencias financieras de esta bonificación en los recursos. Se te ha enviado una lista con los salarios que recibirán la bonificación: [1172, 1644, 2617, 5130, 5532, 6341, 6650, 7238, 7685, 7782, 7903]. La bonificación de cada empleado no puede ser inferior a 200. En el código, convierte cada uno de los salarios en claves de un diccionario y la bonificación de cada salario en el valor correspondiente. Luego, informa el gasto total en bonificaciones, cuántos empleados recibieron la bonificación mínima y cuál fue el valor más alto de la bonificación proporcionada."
      ],
      "metadata": {
        "id": "9ldhO8dTis2P"
      }
    },
    {
      "cell_type": "code",
      "source": [
        "salarios = [1172, 1644, 2617, 5130, 5532, 6341, 6650, 7238, 7685, 7782, 7903]\n",
        "\n",
        "bonificaciones = {}\n",
        "minima = 0\n",
        "alta = 0\n",
        "\n",
        "for salario in salarios:\n",
        "  bonificacion = salarios[i]*0.1\n",
        "  if bonificacion < 200:\n",
        "    bonificaciones[salarios[i]] = 200\n",
        "    minima += 1\n",
        "  else:\n",
        "    bonificaciones[salarios[i]] = bonificacion\n",
        "    if bonificacion > alta:\n",
        "      alta = bonificacion\n",
        "\n",
        "print(f'El gasto total en bonificaciones es de ${sum(bonificaciones.values())}')\n",
        "print(f'{minima} empleados han recibido la bonificaciuón mínima')\n",
        "print(f'La bonificacion percibida más alta fue de ${alta:.2f}')"
      ],
      "metadata": {
        "colab": {
          "base_uri": "https://localhost:8080/"
        },
        "id": "5ThUWtxqjDJv",
        "outputId": "c062387d-44c7-4e9a-ef8b-fec744a51894"
      },
      "execution_count": null,
      "outputs": [
        {
          "output_type": "stream",
          "name": "stdout",
          "text": [
            "El gasto total en bonificaciones es de $6087.8\n",
            "2 empleados han recibido la bonificaciuón mínima\n",
            "La bonificacion percibida más alta fue de $790.30\n"
          ]
        }
      ]
    },
    {
      "cell_type": "markdown",
      "source": [
        "14 - Un equipo de científicos de datos está estudiando la diversidad biológica en un bosque. El equipo recopiló información sobre el número de especies de plantas y animales en cada área del bosque y almacenó estos datos en un diccionario. En él, la clave describe el área de los datos y los valores en las listas corresponden a las especies de plantas y animales en esas áreas, respectivamente.\n",
        "\n",
        "{'Área Norte': [2819, 7236], 'Área Este': [1440, 9492], 'Área Sul': [5969, 7496], 'Área Oeste': [14446, 49688], 'Área Centro': [22558, 45148]}\n",
        "\n",
        "Escribe un código para calcular el promedio de especies por área e identificar el área con la mayor diversidad biológica. Sugerencia: utiliza las funciones incorporadas sum() y len()."
      ],
      "metadata": {
        "id": "DGD6cimNmLji"
      }
    },
    {
      "cell_type": "code",
      "source": [
        "datos = {\n",
        "    'Área Norte': [2819, 7236],\n",
        "    'Área Este': [1440, 9492],\n",
        "    'Área Sul': [5969, 7496],\n",
        "    'Área Oeste': [14446, 49688],\n",
        "    'Área Centro': [22558, 45148]\n",
        "}\n",
        "\n",
        "total_especies_por_area = {}\n",
        "total_general = 0\n",
        "\n",
        "# Sumar las especies de cada área\n",
        "for area, especies in datos.items():\n",
        "    total_area = sum(especies)  # plantas + animales\n",
        "    total_especies_por_area[area] = total_area\n",
        "    total_general += total_area\n",
        "\n",
        "promedio = total_general / len(datos)\n",
        "\n",
        "# Encontrar el área con más especies\n",
        "area_mayor_diversidad = max(total_especies_por_area, key=total_especies_por_area.get)\n",
        "\n",
        "print(f'El promedio de especies por área es: {promedio:.2f}')\n",
        "print(f'El área con mayor diversidad biológica es: {area_mayor_diversidad} con {total_especies_por_area[area_mayor_diversidad]} especies')"
      ],
      "metadata": {
        "colab": {
          "base_uri": "https://localhost:8080/"
        },
        "id": "CHIP2w6MmYuE",
        "outputId": "96f98029-ca17-47e4-dbf1-66fb3f06a8b3"
      },
      "execution_count": null,
      "outputs": [
        {
          "output_type": "stream",
          "name": "stdout",
          "text": [
            "El promedio de especies por área es: 33258.40\n",
            "El área con mayor diversidad biológica es: Área Centro con 67706 especies\n"
          ]
        }
      ]
    },
    {
      "cell_type": "markdown",
      "source": [
        "15 - El departamento de Recursos Humanos de tu empresa te pidió ayuda para analizar las edades de los colaboradores de 4 sectores de la empresa. Para ello, te proporcionaron los siguientes datos:\n",
        "\n",
        "{'Setor A': [22, 26, 30, 30, 35, 38, 40, 56, 57, 65],\n",
        " 'Setor B': [22, 24, 26, 33, 41, 49, 50, 54, 60, 64],\n",
        " 'Setor C': [23, 26, 26, 29, 34, 35, 36, 41, 52, 56],\n",
        " 'Setor D': [19, 20, 25, 27, 34, 39, 42, 44, 50, 65]}\n",
        "\n",
        " Dado que cada sector tiene 10 colaboradores, construye un código que calcule la media de edad de cada sector, la edad media general entre todos los sectores y cuántas personas están por encima de la edad media general."
      ],
      "metadata": {
        "id": "LZMfXwIuqKQh"
      }
    },
    {
      "cell_type": "code",
      "source": [
        "datos = {\n",
        "          'Sector A': [22, 26, 30, 30, 35, 38, 40, 56, 57, 65],\n",
        "          'Sector B': [22, 24, 26, 33, 41, 49, 50, 54, 60, 64],\n",
        "          'Sector C': [23, 26, 26, 29, 34, 35, 36, 41, 52, 56],\n",
        "          'Sector D': [19, 20, 25, 27, 34, 39, 42, 44, 50, 65]\n",
        "        }\n",
        "\n",
        "edad_media_general = 0\n",
        "plantilla = 0\n",
        "edad_media_por_sector = {}\n",
        "empleadodos_sobre_la_media = 0\n",
        "\n",
        "for sectores, edades in datos.items():\n",
        "  edad_media_por_sector[sectores] = sum(edades)/len(edades)\n",
        "  plantilla += len(edades)\n",
        "  edad_media_general += sum(edades)\n",
        "\n",
        "edad_media_general = edad_media_general/plantilla\n",
        "\n",
        "for sectores, edades in datos.items():\n",
        "  for i in range(len(edades)):\n",
        "    if edades[i] > edad_media_general:\n",
        "      empleadodos_sobre_la_media += 1\n",
        "\n",
        "print(f'Edad media por sectores: {edad_media_por_sector}')\n",
        "print(f'La edad media general en la empresa es de {round(edad_media_general)} años')\n",
        "print(f'En la empresa hay {empleadodos_sobre_la_media} empleados con una edad sobre la media')\n",
        "\n",
        "\n",
        "# datos = {\n",
        "#     'Sector A': [22, 26, 30, 30, 35, 38, 40, 56, 57, 65],\n",
        "#     'Sector B': [22, 24, 26, 33, 41, 49, 50, 54, 60, 64],\n",
        "#     'Sector C': [23, 26, 26, 29, 34, 35, 36, 41, 52, 56],\n",
        "#     'Sector D': [19, 20, 25, 27, 34, 39, 42, 44, 50, 65]\n",
        "# }\n",
        "\n",
        "# edad_media_por_sector = {}\n",
        "# total_edades = 0\n",
        "# total_personas = 0\n",
        "# empleados_sobre_media = 0\n",
        "\n",
        "# # Calcular media por sector y preparar para media general\n",
        "# for sector, edades in datos.items():\n",
        "#     media_sector = sum(edades) / len(edades)\n",
        "#     edad_media_por_sector[sector] = media_sector\n",
        "#     total_edades += sum(edades)\n",
        "#     total_personas += len(edades)\n",
        "\n",
        "# edad_media_general = total_edades / total_personas\n",
        "\n",
        "# # Contar empleados con edad sobre la media\n",
        "# for edades in datos.values():\n",
        "#     for edad in edades:\n",
        "#         if edad > edad_media_general:\n",
        "#             empleados_sobre_media += 1\n",
        "\n",
        "# # Resultados\n",
        "# print(\"Edad media por sector:\")\n",
        "# for sector, media in edad_media_por_sector.items():\n",
        "#     print(f\"  {sector}: {media:.2f} años\")\n",
        "\n",
        "# print(f\"\\nEdad media general en la empresa: {edad_media_general:.2f} años\")\n",
        "# print(f\"Cantidad de empleados sobre la media: {empleados_sobre_media}\")\n"
      ],
      "metadata": {
        "colab": {
          "base_uri": "https://localhost:8080/"
        },
        "id": "COvgtXgOqOxl",
        "outputId": "6de16192-747d-4405-d8d0-e58e08f670ed"
      },
      "execution_count": null,
      "outputs": [
        {
          "output_type": "stream",
          "name": "stdout",
          "text": [
            "Edad media por sector:\n",
            "  Sector A: 39.90 años\n",
            "  Sector B: 42.30 años\n",
            "  Sector C: 35.80 años\n",
            "  Sector D: 36.50 años\n",
            "\n",
            "Edad media general en la empresa: 38.62 años\n",
            "Cantidad de empleados sobre la media: 18\n"
          ]
        }
      ]
    }
  ]
}