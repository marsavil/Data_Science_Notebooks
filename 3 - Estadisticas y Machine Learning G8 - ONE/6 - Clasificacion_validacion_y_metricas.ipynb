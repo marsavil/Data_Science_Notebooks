{
  "cells": [
    {
      "cell_type": "markdown",
      "metadata": {
        "colab_type": "text",
        "id": "view-in-github"
      },
      "source": [
        "<a href=\"https://colab.research.google.com/github/marsavil/Data_Science_Notebooks/blob/main/Clasificacion_validacion_y_metricas.ipynb\" target=\"_parent\"><img src=\"https://colab.research.google.com/assets/colab-badge.svg\" alt=\"Open In Colab\"/></a>"
      ]
    },
    {
      "cell_type": "markdown",
      "metadata": {
        "id": "MCqTDybk4ShK"
      },
      "source": [
        "# <font color='dark'>**Clasificación: Validación de modelos y métricas de evaluación**</h1>"
      ]
    },
    {
      "cell_type": "markdown",
      "metadata": {
        "id": "WscU3KG7a9No"
      },
      "source": [
        "### Proyecto\n",
        "\n",
        "Una empresa de financiamiento de automóviles está atravesando una situación complicada, con una alta demanda para una flota reducida de vehículos y un alto número de morosos, lo que está generando grandes pérdidas para la empresa.\n",
        "\n",
        "Nosotros fuimos contratados para buscar mejoras en la identificación de morosos. El análisis de los clientes actualmente se realiza de forma manual, cliente por cliente, lo que consume mucho tiempo y, aun así, la detección de morosos es muy imprecisa.\n",
        "\n",
        "Nuestra tarea es utilizar los datos proporcionados por la empresa para **clasificar** a los clientes en cumplidores y morosos."
      ]
    },
    {
      "cell_type": "markdown",
      "metadata": {
        "id": "WgS8iF51Csrn"
      },
      "source": [
        "## <font color='dark'>Clasificando los datos</h1>"
      ]
    },
    {
      "cell_type": "markdown",
      "metadata": {
        "id": "6lExmBuKn-xe"
      },
      "source": [
        "### Creando un modelo inicial"
      ]
    },
    {
      "cell_type": "code",
      "execution_count": 1,
      "metadata": {
        "colab": {
          "base_uri": "https://localhost:8080/",
          "height": 0
        },
        "id": "ANJDC3LqP43q",
        "outputId": "1cbb4fba-483d-45d6-d647-2b442ff0d3fa"
      },
      "outputs": [
        {
          "data": {
            "text/html": [
              "<div>\n",
              "<style scoped>\n",
              "    .dataframe tbody tr th:only-of-type {\n",
              "        vertical-align: middle;\n",
              "    }\n",
              "\n",
              "    .dataframe tbody tr th {\n",
              "        vertical-align: top;\n",
              "    }\n",
              "\n",
              "    .dataframe thead th {\n",
              "        text-align: right;\n",
              "    }\n",
              "</style>\n",
              "<table border=\"1\" class=\"dataframe\">\n",
              "  <thead>\n",
              "    <tr style=\"text-align: right;\">\n",
              "      <th></th>\n",
              "      <th>ingresos_cliente</th>\n",
              "      <th>anualidad_prestamo</th>\n",
              "      <th>años_casa_propia</th>\n",
              "      <th>telefono_trab</th>\n",
              "      <th>evaluacion_ciudad</th>\n",
              "      <th>score_1</th>\n",
              "      <th>score_2</th>\n",
              "      <th>score_3</th>\n",
              "      <th>score_social</th>\n",
              "      <th>cambio_telefono</th>\n",
              "      <th>moroso</th>\n",
              "    </tr>\n",
              "  </thead>\n",
              "  <tbody>\n",
              "    <tr>\n",
              "      <th>0</th>\n",
              "      <td>12600.0</td>\n",
              "      <td>3569.400000</td>\n",
              "      <td>12.157324</td>\n",
              "      <td>1</td>\n",
              "      <td>2.0</td>\n",
              "      <td>0.057153</td>\n",
              "      <td>0.527227</td>\n",
              "      <td>0.513171</td>\n",
              "      <td>0.117428</td>\n",
              "      <td>2545.0</td>\n",
              "      <td>0</td>\n",
              "    </tr>\n",
              "    <tr>\n",
              "      <th>1</th>\n",
              "      <td>9000.0</td>\n",
              "      <td>2722.188351</td>\n",
              "      <td>7.000000</td>\n",
              "      <td>0</td>\n",
              "      <td>2.0</td>\n",
              "      <td>0.657661</td>\n",
              "      <td>0.285898</td>\n",
              "      <td>0.614414</td>\n",
              "      <td>0.222700</td>\n",
              "      <td>495.0</td>\n",
              "      <td>0</td>\n",
              "    </tr>\n",
              "    <tr>\n",
              "      <th>2</th>\n",
              "      <td>15750.0</td>\n",
              "      <td>4477.500000</td>\n",
              "      <td>12.000000</td>\n",
              "      <td>0</td>\n",
              "      <td>2.0</td>\n",
              "      <td>0.501213</td>\n",
              "      <td>0.695423</td>\n",
              "      <td>0.513171</td>\n",
              "      <td>0.117428</td>\n",
              "      <td>1212.0</td>\n",
              "      <td>0</td>\n",
              "    </tr>\n",
              "    <tr>\n",
              "      <th>3</th>\n",
              "      <td>9000.0</td>\n",
              "      <td>1309.050000</td>\n",
              "      <td>12.157324</td>\n",
              "      <td>0</td>\n",
              "      <td>3.0</td>\n",
              "      <td>0.501213</td>\n",
              "      <td>0.155973</td>\n",
              "      <td>0.513171</td>\n",
              "      <td>0.117428</td>\n",
              "      <td>515.0</td>\n",
              "      <td>0</td>\n",
              "    </tr>\n",
              "    <tr>\n",
              "      <th>4</th>\n",
              "      <td>7650.0</td>\n",
              "      <td>1125.000000</td>\n",
              "      <td>12.157324</td>\n",
              "      <td>0</td>\n",
              "      <td>2.0</td>\n",
              "      <td>0.294328</td>\n",
              "      <td>0.152076</td>\n",
              "      <td>0.513171</td>\n",
              "      <td>0.117428</td>\n",
              "      <td>162.0</td>\n",
              "      <td>0</td>\n",
              "    </tr>\n",
              "  </tbody>\n",
              "</table>\n",
              "</div>"
            ],
            "text/plain": [
              "   ingresos_cliente  anualidad_prestamo  años_casa_propia  telefono_trab  \\\n",
              "0           12600.0         3569.400000         12.157324              1   \n",
              "1            9000.0         2722.188351          7.000000              0   \n",
              "2           15750.0         4477.500000         12.000000              0   \n",
              "3            9000.0         1309.050000         12.157324              0   \n",
              "4            7650.0         1125.000000         12.157324              0   \n",
              "\n",
              "   evaluacion_ciudad   score_1   score_2   score_3  score_social  \\\n",
              "0                2.0  0.057153  0.527227  0.513171      0.117428   \n",
              "1                2.0  0.657661  0.285898  0.614414      0.222700   \n",
              "2                2.0  0.501213  0.695423  0.513171      0.117428   \n",
              "3                3.0  0.501213  0.155973  0.513171      0.117428   \n",
              "4                2.0  0.294328  0.152076  0.513171      0.117428   \n",
              "\n",
              "   cambio_telefono  moroso  \n",
              "0           2545.0       0  \n",
              "1            495.0       0  \n",
              "2           1212.0       0  \n",
              "3            515.0       0  \n",
              "4            162.0       0  "
            ]
          },
          "execution_count": 1,
          "metadata": {},
          "output_type": "execute_result"
        }
      ],
      "source": [
        "url = 'https://raw.githubusercontent.com/alura-es-cursos/2162-clasificacion-validacion-de-modelos-y-metricas/refs/heads/main/prestacar.csv'\n",
        "import pandas as pd\n",
        "df = pd.read_csv(url)\n",
        "df.head()"
      ]
    },
    {
      "cell_type": "code",
      "execution_count": 2,
      "metadata": {
        "id": "UPddns6dP4kt"
      },
      "outputs": [],
      "source": [
        "X = df.drop('moroso', axis=1)\n",
        "y = df['moroso']"
      ]
    },
    {
      "cell_type": "code",
      "execution_count": 3,
      "metadata": {
        "colab": {
          "base_uri": "https://localhost:8080/"
        },
        "id": "UVIX6QLpP4iC",
        "outputId": "76b754fa-ab7e-4d7b-8deb-3a0d04d355bf"
      },
      "outputs": [
        {
          "data": {
            "text/plain": [
              "1.0"
            ]
          },
          "execution_count": 3,
          "metadata": {},
          "output_type": "execute_result"
        }
      ],
      "source": [
        "from sklearn.tree import DecisionTreeClassifier\n",
        "\n",
        "modelo = DecisionTreeClassifier()\n",
        "modelo.fit(X, y)\n",
        "modelo.score(X, y)"
      ]
    },
    {
      "cell_type": "code",
      "execution_count": 4,
      "metadata": {
        "colab": {
          "base_uri": "https://localhost:8080/"
        },
        "id": "MikoMXI7P4dG",
        "outputId": "496d1938-79a5-48dc-9605-a4e2858be8a3"
      },
      "outputs": [
        {
          "name": "stdout",
          "output_type": "stream",
          "text": [
            "La exactitud del modelo es 1.0\n"
          ]
        }
      ],
      "source": [
        "print(f'La exactitud del modelo es {modelo.score(X, y)}')"
      ]
    },
    {
      "cell_type": "markdown",
      "metadata": {
        "id": "EPrFcm39oAof"
      },
      "source": [
        "### Validando el modelo"
      ]
    },
    {
      "cell_type": "markdown",
      "metadata": {
        "id": "v0u-uij9eNcD"
      },
      "source": [
        "Evaluar el modelo con los mismos datos utilizados en el entrenamiento no es recomendable. Es necesario que la evaluación se realice con datos independientes.  \n",
        "\n",
        "Evaluar el modelo con los propios datos de entrenamiento sería equivalente a entregar un examen con las preguntas y las respuestas a una persona y, al momento de evaluarla nuevamente, entregarle un examen con las mismas preguntas y opciones. Se espera que esa persona obtenga un buen resultado, ya que ya ha visto las respuestas y ha memorizado el resultado. Esto es diferente de haber aprendido la materia a partir de ese examen y luego presentar una prueba con contenido similar y obtener un resultado positivo.  \n",
        "\n",
        "Con el objetivo de verificar la capacidad de generalización de un modelo, debemos dividir el conjunto de datos en tres partes: datos de entrenamiento, validación y prueba.  \n",
        "\n",
        "- El **conjunto de entrenamiento** se utiliza para entrenar los modelos. A partir de este conjunto, los modelos identifican patrones en los datos.  \n",
        "\n",
        "- El **conjunto de validación** se emplea para evaluar el desempeño de diferentes modelos con datos nuevos que no fueron utilizados en el entrenamiento.  \n",
        "\n",
        "- El **conjunto de prueba** se mantiene separado desde el inicio para simular datos del mundo real. No se utiliza en ninguna etapa del entrenamiento ni de la validación, sirviendo como una estimación de la capacidad del modelo elegido para generalizar y predecir nuevos datos."
      ]
    },
    {
      "cell_type": "markdown",
      "metadata": {
        "id": "TCIN5oOJFk_W"
      },
      "source": [
        "<a href=\"https://ibb.co/9H2Z1HZ5\"><img src=\"https://i.ibb.co/0yZs6ysb/datos-train-test.png\" alt=\"datos-train-test\" border=\"0\"></a>"
      ]
    },
    {
      "cell_type": "code",
      "execution_count": 5,
      "metadata": {
        "id": "OICJjv9HP1QZ"
      },
      "outputs": [],
      "source": [
        "from sklearn.model_selection import train_test_split\n",
        "\n",
        "X, X_test, y, y_test = train_test_split(X, y, test_size=0.15, stratify=y, random_state=5)\n",
        "X_train, X_val, y_train, y_val = train_test_split(X, y, stratify=y, random_state=5)"
      ]
    },
    {
      "cell_type": "code",
      "execution_count": 6,
      "metadata": {
        "colab": {
          "base_uri": "https://localhost:8080/",
          "height": 0
        },
        "id": "NIeGQZGcP1J1",
        "outputId": "50cf762b-422a-40dd-84ba-7c426efe6fe8"
      },
      "outputs": [
        {
          "data": {
            "text/html": [
              "<style>#sk-container-id-1 {\n",
              "  /* Definition of color scheme common for light and dark mode */\n",
              "  --sklearn-color-text: #000;\n",
              "  --sklearn-color-text-muted: #666;\n",
              "  --sklearn-color-line: gray;\n",
              "  /* Definition of color scheme for unfitted estimators */\n",
              "  --sklearn-color-unfitted-level-0: #fff5e6;\n",
              "  --sklearn-color-unfitted-level-1: #f6e4d2;\n",
              "  --sklearn-color-unfitted-level-2: #ffe0b3;\n",
              "  --sklearn-color-unfitted-level-3: chocolate;\n",
              "  /* Definition of color scheme for fitted estimators */\n",
              "  --sklearn-color-fitted-level-0: #f0f8ff;\n",
              "  --sklearn-color-fitted-level-1: #d4ebff;\n",
              "  --sklearn-color-fitted-level-2: #b3dbfd;\n",
              "  --sklearn-color-fitted-level-3: cornflowerblue;\n",
              "\n",
              "  /* Specific color for light theme */\n",
              "  --sklearn-color-text-on-default-background: var(--sg-text-color, var(--theme-code-foreground, var(--jp-content-font-color1, black)));\n",
              "  --sklearn-color-background: var(--sg-background-color, var(--theme-background, var(--jp-layout-color0, white)));\n",
              "  --sklearn-color-border-box: var(--sg-text-color, var(--theme-code-foreground, var(--jp-content-font-color1, black)));\n",
              "  --sklearn-color-icon: #696969;\n",
              "\n",
              "  @media (prefers-color-scheme: dark) {\n",
              "    /* Redefinition of color scheme for dark theme */\n",
              "    --sklearn-color-text-on-default-background: var(--sg-text-color, var(--theme-code-foreground, var(--jp-content-font-color1, white)));\n",
              "    --sklearn-color-background: var(--sg-background-color, var(--theme-background, var(--jp-layout-color0, #111)));\n",
              "    --sklearn-color-border-box: var(--sg-text-color, var(--theme-code-foreground, var(--jp-content-font-color1, white)));\n",
              "    --sklearn-color-icon: #878787;\n",
              "  }\n",
              "}\n",
              "\n",
              "#sk-container-id-1 {\n",
              "  color: var(--sklearn-color-text);\n",
              "}\n",
              "\n",
              "#sk-container-id-1 pre {\n",
              "  padding: 0;\n",
              "}\n",
              "\n",
              "#sk-container-id-1 input.sk-hidden--visually {\n",
              "  border: 0;\n",
              "  clip: rect(1px 1px 1px 1px);\n",
              "  clip: rect(1px, 1px, 1px, 1px);\n",
              "  height: 1px;\n",
              "  margin: -1px;\n",
              "  overflow: hidden;\n",
              "  padding: 0;\n",
              "  position: absolute;\n",
              "  width: 1px;\n",
              "}\n",
              "\n",
              "#sk-container-id-1 div.sk-dashed-wrapped {\n",
              "  border: 1px dashed var(--sklearn-color-line);\n",
              "  margin: 0 0.4em 0.5em 0.4em;\n",
              "  box-sizing: border-box;\n",
              "  padding-bottom: 0.4em;\n",
              "  background-color: var(--sklearn-color-background);\n",
              "}\n",
              "\n",
              "#sk-container-id-1 div.sk-container {\n",
              "  /* jupyter's `normalize.less` sets `[hidden] { display: none; }`\n",
              "     but bootstrap.min.css set `[hidden] { display: none !important; }`\n",
              "     so we also need the `!important` here to be able to override the\n",
              "     default hidden behavior on the sphinx rendered scikit-learn.org.\n",
              "     See: https://github.com/scikit-learn/scikit-learn/issues/21755 */\n",
              "  display: inline-block !important;\n",
              "  position: relative;\n",
              "}\n",
              "\n",
              "#sk-container-id-1 div.sk-text-repr-fallback {\n",
              "  display: none;\n",
              "}\n",
              "\n",
              "div.sk-parallel-item,\n",
              "div.sk-serial,\n",
              "div.sk-item {\n",
              "  /* draw centered vertical line to link estimators */\n",
              "  background-image: linear-gradient(var(--sklearn-color-text-on-default-background), var(--sklearn-color-text-on-default-background));\n",
              "  background-size: 2px 100%;\n",
              "  background-repeat: no-repeat;\n",
              "  background-position: center center;\n",
              "}\n",
              "\n",
              "/* Parallel-specific style estimator block */\n",
              "\n",
              "#sk-container-id-1 div.sk-parallel-item::after {\n",
              "  content: \"\";\n",
              "  width: 100%;\n",
              "  border-bottom: 2px solid var(--sklearn-color-text-on-default-background);\n",
              "  flex-grow: 1;\n",
              "}\n",
              "\n",
              "#sk-container-id-1 div.sk-parallel {\n",
              "  display: flex;\n",
              "  align-items: stretch;\n",
              "  justify-content: center;\n",
              "  background-color: var(--sklearn-color-background);\n",
              "  position: relative;\n",
              "}\n",
              "\n",
              "#sk-container-id-1 div.sk-parallel-item {\n",
              "  display: flex;\n",
              "  flex-direction: column;\n",
              "}\n",
              "\n",
              "#sk-container-id-1 div.sk-parallel-item:first-child::after {\n",
              "  align-self: flex-end;\n",
              "  width: 50%;\n",
              "}\n",
              "\n",
              "#sk-container-id-1 div.sk-parallel-item:last-child::after {\n",
              "  align-self: flex-start;\n",
              "  width: 50%;\n",
              "}\n",
              "\n",
              "#sk-container-id-1 div.sk-parallel-item:only-child::after {\n",
              "  width: 0;\n",
              "}\n",
              "\n",
              "/* Serial-specific style estimator block */\n",
              "\n",
              "#sk-container-id-1 div.sk-serial {\n",
              "  display: flex;\n",
              "  flex-direction: column;\n",
              "  align-items: center;\n",
              "  background-color: var(--sklearn-color-background);\n",
              "  padding-right: 1em;\n",
              "  padding-left: 1em;\n",
              "}\n",
              "\n",
              "\n",
              "/* Toggleable style: style used for estimator/Pipeline/ColumnTransformer box that is\n",
              "clickable and can be expanded/collapsed.\n",
              "- Pipeline and ColumnTransformer use this feature and define the default style\n",
              "- Estimators will overwrite some part of the style using the `sk-estimator` class\n",
              "*/\n",
              "\n",
              "/* Pipeline and ColumnTransformer style (default) */\n",
              "\n",
              "#sk-container-id-1 div.sk-toggleable {\n",
              "  /* Default theme specific background. It is overwritten whether we have a\n",
              "  specific estimator or a Pipeline/ColumnTransformer */\n",
              "  background-color: var(--sklearn-color-background);\n",
              "}\n",
              "\n",
              "/* Toggleable label */\n",
              "#sk-container-id-1 label.sk-toggleable__label {\n",
              "  cursor: pointer;\n",
              "  display: flex;\n",
              "  width: 100%;\n",
              "  margin-bottom: 0;\n",
              "  padding: 0.5em;\n",
              "  box-sizing: border-box;\n",
              "  text-align: center;\n",
              "  align-items: start;\n",
              "  justify-content: space-between;\n",
              "  gap: 0.5em;\n",
              "}\n",
              "\n",
              "#sk-container-id-1 label.sk-toggleable__label .caption {\n",
              "  font-size: 0.6rem;\n",
              "  font-weight: lighter;\n",
              "  color: var(--sklearn-color-text-muted);\n",
              "}\n",
              "\n",
              "#sk-container-id-1 label.sk-toggleable__label-arrow:before {\n",
              "  /* Arrow on the left of the label */\n",
              "  content: \"▸\";\n",
              "  float: left;\n",
              "  margin-right: 0.25em;\n",
              "  color: var(--sklearn-color-icon);\n",
              "}\n",
              "\n",
              "#sk-container-id-1 label.sk-toggleable__label-arrow:hover:before {\n",
              "  color: var(--sklearn-color-text);\n",
              "}\n",
              "\n",
              "/* Toggleable content - dropdown */\n",
              "\n",
              "#sk-container-id-1 div.sk-toggleable__content {\n",
              "  max-height: 0;\n",
              "  max-width: 0;\n",
              "  overflow: hidden;\n",
              "  text-align: left;\n",
              "  /* unfitted */\n",
              "  background-color: var(--sklearn-color-unfitted-level-0);\n",
              "}\n",
              "\n",
              "#sk-container-id-1 div.sk-toggleable__content.fitted {\n",
              "  /* fitted */\n",
              "  background-color: var(--sklearn-color-fitted-level-0);\n",
              "}\n",
              "\n",
              "#sk-container-id-1 div.sk-toggleable__content pre {\n",
              "  margin: 0.2em;\n",
              "  border-radius: 0.25em;\n",
              "  color: var(--sklearn-color-text);\n",
              "  /* unfitted */\n",
              "  background-color: var(--sklearn-color-unfitted-level-0);\n",
              "}\n",
              "\n",
              "#sk-container-id-1 div.sk-toggleable__content.fitted pre {\n",
              "  /* unfitted */\n",
              "  background-color: var(--sklearn-color-fitted-level-0);\n",
              "}\n",
              "\n",
              "#sk-container-id-1 input.sk-toggleable__control:checked~div.sk-toggleable__content {\n",
              "  /* Expand drop-down */\n",
              "  max-height: 200px;\n",
              "  max-width: 100%;\n",
              "  overflow: auto;\n",
              "}\n",
              "\n",
              "#sk-container-id-1 input.sk-toggleable__control:checked~label.sk-toggleable__label-arrow:before {\n",
              "  content: \"▾\";\n",
              "}\n",
              "\n",
              "/* Pipeline/ColumnTransformer-specific style */\n",
              "\n",
              "#sk-container-id-1 div.sk-label input.sk-toggleable__control:checked~label.sk-toggleable__label {\n",
              "  color: var(--sklearn-color-text);\n",
              "  background-color: var(--sklearn-color-unfitted-level-2);\n",
              "}\n",
              "\n",
              "#sk-container-id-1 div.sk-label.fitted input.sk-toggleable__control:checked~label.sk-toggleable__label {\n",
              "  background-color: var(--sklearn-color-fitted-level-2);\n",
              "}\n",
              "\n",
              "/* Estimator-specific style */\n",
              "\n",
              "/* Colorize estimator box */\n",
              "#sk-container-id-1 div.sk-estimator input.sk-toggleable__control:checked~label.sk-toggleable__label {\n",
              "  /* unfitted */\n",
              "  background-color: var(--sklearn-color-unfitted-level-2);\n",
              "}\n",
              "\n",
              "#sk-container-id-1 div.sk-estimator.fitted input.sk-toggleable__control:checked~label.sk-toggleable__label {\n",
              "  /* fitted */\n",
              "  background-color: var(--sklearn-color-fitted-level-2);\n",
              "}\n",
              "\n",
              "#sk-container-id-1 div.sk-label label.sk-toggleable__label,\n",
              "#sk-container-id-1 div.sk-label label {\n",
              "  /* The background is the default theme color */\n",
              "  color: var(--sklearn-color-text-on-default-background);\n",
              "}\n",
              "\n",
              "/* On hover, darken the color of the background */\n",
              "#sk-container-id-1 div.sk-label:hover label.sk-toggleable__label {\n",
              "  color: var(--sklearn-color-text);\n",
              "  background-color: var(--sklearn-color-unfitted-level-2);\n",
              "}\n",
              "\n",
              "/* Label box, darken color on hover, fitted */\n",
              "#sk-container-id-1 div.sk-label.fitted:hover label.sk-toggleable__label.fitted {\n",
              "  color: var(--sklearn-color-text);\n",
              "  background-color: var(--sklearn-color-fitted-level-2);\n",
              "}\n",
              "\n",
              "/* Estimator label */\n",
              "\n",
              "#sk-container-id-1 div.sk-label label {\n",
              "  font-family: monospace;\n",
              "  font-weight: bold;\n",
              "  display: inline-block;\n",
              "  line-height: 1.2em;\n",
              "}\n",
              "\n",
              "#sk-container-id-1 div.sk-label-container {\n",
              "  text-align: center;\n",
              "}\n",
              "\n",
              "/* Estimator-specific */\n",
              "#sk-container-id-1 div.sk-estimator {\n",
              "  font-family: monospace;\n",
              "  border: 1px dotted var(--sklearn-color-border-box);\n",
              "  border-radius: 0.25em;\n",
              "  box-sizing: border-box;\n",
              "  margin-bottom: 0.5em;\n",
              "  /* unfitted */\n",
              "  background-color: var(--sklearn-color-unfitted-level-0);\n",
              "}\n",
              "\n",
              "#sk-container-id-1 div.sk-estimator.fitted {\n",
              "  /* fitted */\n",
              "  background-color: var(--sklearn-color-fitted-level-0);\n",
              "}\n",
              "\n",
              "/* on hover */\n",
              "#sk-container-id-1 div.sk-estimator:hover {\n",
              "  /* unfitted */\n",
              "  background-color: var(--sklearn-color-unfitted-level-2);\n",
              "}\n",
              "\n",
              "#sk-container-id-1 div.sk-estimator.fitted:hover {\n",
              "  /* fitted */\n",
              "  background-color: var(--sklearn-color-fitted-level-2);\n",
              "}\n",
              "\n",
              "/* Specification for estimator info (e.g. \"i\" and \"?\") */\n",
              "\n",
              "/* Common style for \"i\" and \"?\" */\n",
              "\n",
              ".sk-estimator-doc-link,\n",
              "a:link.sk-estimator-doc-link,\n",
              "a:visited.sk-estimator-doc-link {\n",
              "  float: right;\n",
              "  font-size: smaller;\n",
              "  line-height: 1em;\n",
              "  font-family: monospace;\n",
              "  background-color: var(--sklearn-color-background);\n",
              "  border-radius: 1em;\n",
              "  height: 1em;\n",
              "  width: 1em;\n",
              "  text-decoration: none !important;\n",
              "  margin-left: 0.5em;\n",
              "  text-align: center;\n",
              "  /* unfitted */\n",
              "  border: var(--sklearn-color-unfitted-level-1) 1pt solid;\n",
              "  color: var(--sklearn-color-unfitted-level-1);\n",
              "}\n",
              "\n",
              ".sk-estimator-doc-link.fitted,\n",
              "a:link.sk-estimator-doc-link.fitted,\n",
              "a:visited.sk-estimator-doc-link.fitted {\n",
              "  /* fitted */\n",
              "  border: var(--sklearn-color-fitted-level-1) 1pt solid;\n",
              "  color: var(--sklearn-color-fitted-level-1);\n",
              "}\n",
              "\n",
              "/* On hover */\n",
              "div.sk-estimator:hover .sk-estimator-doc-link:hover,\n",
              ".sk-estimator-doc-link:hover,\n",
              "div.sk-label-container:hover .sk-estimator-doc-link:hover,\n",
              ".sk-estimator-doc-link:hover {\n",
              "  /* unfitted */\n",
              "  background-color: var(--sklearn-color-unfitted-level-3);\n",
              "  color: var(--sklearn-color-background);\n",
              "  text-decoration: none;\n",
              "}\n",
              "\n",
              "div.sk-estimator.fitted:hover .sk-estimator-doc-link.fitted:hover,\n",
              ".sk-estimator-doc-link.fitted:hover,\n",
              "div.sk-label-container:hover .sk-estimator-doc-link.fitted:hover,\n",
              ".sk-estimator-doc-link.fitted:hover {\n",
              "  /* fitted */\n",
              "  background-color: var(--sklearn-color-fitted-level-3);\n",
              "  color: var(--sklearn-color-background);\n",
              "  text-decoration: none;\n",
              "}\n",
              "\n",
              "/* Span, style for the box shown on hovering the info icon */\n",
              ".sk-estimator-doc-link span {\n",
              "  display: none;\n",
              "  z-index: 9999;\n",
              "  position: relative;\n",
              "  font-weight: normal;\n",
              "  right: .2ex;\n",
              "  padding: .5ex;\n",
              "  margin: .5ex;\n",
              "  width: min-content;\n",
              "  min-width: 20ex;\n",
              "  max-width: 50ex;\n",
              "  color: var(--sklearn-color-text);\n",
              "  box-shadow: 2pt 2pt 4pt #999;\n",
              "  /* unfitted */\n",
              "  background: var(--sklearn-color-unfitted-level-0);\n",
              "  border: .5pt solid var(--sklearn-color-unfitted-level-3);\n",
              "}\n",
              "\n",
              ".sk-estimator-doc-link.fitted span {\n",
              "  /* fitted */\n",
              "  background: var(--sklearn-color-fitted-level-0);\n",
              "  border: var(--sklearn-color-fitted-level-3);\n",
              "}\n",
              "\n",
              ".sk-estimator-doc-link:hover span {\n",
              "  display: block;\n",
              "}\n",
              "\n",
              "/* \"?\"-specific style due to the `<a>` HTML tag */\n",
              "\n",
              "#sk-container-id-1 a.estimator_doc_link {\n",
              "  float: right;\n",
              "  font-size: 1rem;\n",
              "  line-height: 1em;\n",
              "  font-family: monospace;\n",
              "  background-color: var(--sklearn-color-background);\n",
              "  border-radius: 1rem;\n",
              "  height: 1rem;\n",
              "  width: 1rem;\n",
              "  text-decoration: none;\n",
              "  /* unfitted */\n",
              "  color: var(--sklearn-color-unfitted-level-1);\n",
              "  border: var(--sklearn-color-unfitted-level-1) 1pt solid;\n",
              "}\n",
              "\n",
              "#sk-container-id-1 a.estimator_doc_link.fitted {\n",
              "  /* fitted */\n",
              "  border: var(--sklearn-color-fitted-level-1) 1pt solid;\n",
              "  color: var(--sklearn-color-fitted-level-1);\n",
              "}\n",
              "\n",
              "/* On hover */\n",
              "#sk-container-id-1 a.estimator_doc_link:hover {\n",
              "  /* unfitted */\n",
              "  background-color: var(--sklearn-color-unfitted-level-3);\n",
              "  color: var(--sklearn-color-background);\n",
              "  text-decoration: none;\n",
              "}\n",
              "\n",
              "#sk-container-id-1 a.estimator_doc_link.fitted:hover {\n",
              "  /* fitted */\n",
              "  background-color: var(--sklearn-color-fitted-level-3);\n",
              "}\n",
              "</style><div id=\"sk-container-id-1\" class=\"sk-top-container\"><div class=\"sk-text-repr-fallback\"><pre>DecisionTreeClassifier()</pre><b>In a Jupyter environment, please rerun this cell to show the HTML representation or trust the notebook. <br />On GitHub, the HTML representation is unable to render, please try loading this page with nbviewer.org.</b></div><div class=\"sk-container\" hidden><div class=\"sk-item\"><div class=\"sk-estimator fitted sk-toggleable\"><input class=\"sk-toggleable__control sk-hidden--visually\" id=\"sk-estimator-id-1\" type=\"checkbox\" checked><label for=\"sk-estimator-id-1\" class=\"sk-toggleable__label fitted sk-toggleable__label-arrow\"><div><div>DecisionTreeClassifier</div></div><div><a class=\"sk-estimator-doc-link fitted\" rel=\"noreferrer\" target=\"_blank\" href=\"https://scikit-learn.org/1.6/modules/generated/sklearn.tree.DecisionTreeClassifier.html\">?<span>Documentation for DecisionTreeClassifier</span></a><span class=\"sk-estimator-doc-link fitted\">i<span>Fitted</span></span></div></label><div class=\"sk-toggleable__content fitted\"><pre>DecisionTreeClassifier()</pre></div> </div></div></div></div>"
            ],
            "text/plain": [
              "DecisionTreeClassifier()"
            ]
          },
          "execution_count": 6,
          "metadata": {},
          "output_type": "execute_result"
        }
      ],
      "source": [
        "modelo = DecisionTreeClassifier()\n",
        "modelo.fit(X_train, y_train)"
      ]
    },
    {
      "cell_type": "code",
      "execution_count": 7,
      "metadata": {
        "colab": {
          "base_uri": "https://localhost:8080/"
        },
        "id": "mvDcVFFDP1sB",
        "outputId": "2a95b7dd-d19f-4ee9-f10d-91692301d21c"
      },
      "outputs": [
        {
          "name": "stdout",
          "output_type": "stream",
          "text": [
            "La exactitud del modelo con el conjunto de entrenamiento es 1.0\n"
          ]
        }
      ],
      "source": [
        "print(f'La exactitud del modelo con el conjunto de entrenamiento es {modelo.score(X_train, y_train)}')"
      ]
    },
    {
      "cell_type": "code",
      "execution_count": 8,
      "metadata": {
        "colab": {
          "base_uri": "https://localhost:8080/"
        },
        "id": "sEJPwwG_P1Md",
        "outputId": "54193eaf-dfd8-4803-99b1-866852ff291e"
      },
      "outputs": [
        {
          "name": "stdout",
          "output_type": "stream",
          "text": [
            "La exactitud del modelo con el conjunto de validación es 0.8490549603693058\n"
          ]
        }
      ],
      "source": [
        "print(f'La exactitud del modelo con el conjunto de validación es {modelo.score(X_val, y_val)}')"
      ]
    },
    {
      "cell_type": "code",
      "execution_count": 9,
      "metadata": {
        "colab": {
          "base_uri": "https://localhost:8080/"
        },
        "id": "TkqSX3xHtHve",
        "outputId": "ebe8c263-1eef-4487-a878-baf7c2696b67"
      },
      "outputs": [
        {
          "name": "stdout",
          "output_type": "stream",
          "text": [
            "La exactitud del modelo con el conjunto de entrenamiento es 0.9206445993031359\n",
            "La exactitud del modelo con el conjunto de validación es 0.9057573382109573\n"
          ]
        }
      ],
      "source": [
        "modelo = DecisionTreeClassifier(max_depth = 10)\n",
        "modelo.fit(X_train, y_train)\n",
        "\n",
        "print(f'La exactitud del modelo con el conjunto de entrenamiento es {modelo.score(X_train, y_train)}')\n",
        "print(f'La exactitud del modelo con el conjunto de validación es {modelo.score(X_val, y_val)}')"
      ]
    },
    {
      "cell_type": "markdown",
      "metadata": {
        "id": "WtlRAZt96VLG"
      },
      "source": [
        "### Evaluando el modelo"
      ]
    },
    {
      "cell_type": "code",
      "execution_count": 10,
      "metadata": {
        "id": "IlUZBhPrPyYh"
      },
      "outputs": [],
      "source": [
        "from sklearn.metrics import confusion_matrix, ConfusionMatrixDisplay"
      ]
    },
    {
      "cell_type": "code",
      "execution_count": 11,
      "metadata": {
        "colab": {
          "base_uri": "https://localhost:8080/"
        },
        "id": "iill3u5HPyOA",
        "outputId": "32235b84-8c14-452b-b9b3-db740e6d8f4a"
      },
      "outputs": [
        {
          "data": {
            "text/plain": [
              "array([[10357,   122],\n",
              "       [  960,    42]])"
            ]
          },
          "execution_count": 11,
          "metadata": {},
          "output_type": "execute_result"
        }
      ],
      "source": [
        "y_predict = modelo.predict(X_val)\n",
        "matriz_confusion = confusion_matrix(y_val, y_predict)\n",
        "matriz_confusion"
      ]
    },
    {
      "cell_type": "code",
      "execution_count": 12,
      "metadata": {
        "colab": {
          "base_uri": "https://localhost:8080/",
          "height": 449
        },
        "id": "gtFWt6emPyJt",
        "outputId": "89550cff-c091-4545-e184-7603d10c141a"
      },
      "outputs": [
        {
          "data": {
            "image/png": "[encoded data removed]",
            "text/plain": [
              "<Figure size 640x480 with 2 Axes>"
            ]
          },
          "metadata": {},
          "output_type": "display_data"
        }
      ],
      "source": [
        "visualizacion = ConfusionMatrixDisplay(matriz_confusion, display_labels=['No moroso', 'Moroso'])\n",
        "visualizacion.plot();"
      ]
    },
    {
      "cell_type": "markdown",
      "metadata": {
        "id": "REtYZ4buzul1"
      },
      "source": [
        "### Ejercicio\n"
      ]
    },
    {
      "cell_type": "markdown",
      "metadata": {
        "id": "mOqUE--Kz87J"
      },
      "source": [
        "1 - Para la construcción de un modelo de machine learning se necesitan datos. Como tarea inicial, realiza la lectura de la base de datos de diabetes y divide los datos en variables explicativas y variable objetivo (x e y). La variable objetivo es la columna que quieres clasificar, que contiene la información de si el paciente tiene o no diabetes. Las variables explicativas son todas las columnas excepto la de diabetes. La separación de los datos se puede hacer con la selección de columnas con pandas.\n",
        "\n"
      ]
    },
    {
      "cell_type": "code",
      "execution_count": 13,
      "metadata": {
        "colab": {
          "base_uri": "https://localhost:8080/",
          "height": 206
        },
        "id": "-LazukOi0ATP",
        "outputId": "721aea50-0386-4133-94e2-c8e659d44be0"
      },
      "outputs": [
        {
          "data": {
            "text/html": [
              "<div>\n",
              "<style scoped>\n",
              "    .dataframe tbody tr th:only-of-type {\n",
              "        vertical-align: middle;\n",
              "    }\n",
              "\n",
              "    .dataframe tbody tr th {\n",
              "        vertical-align: top;\n",
              "    }\n",
              "\n",
              "    .dataframe thead th {\n",
              "        text-align: right;\n",
              "    }\n",
              "</style>\n",
              "<table border=\"1\" class=\"dataframe\">\n",
              "  <thead>\n",
              "    <tr style=\"text-align: right;\">\n",
              "      <th></th>\n",
              "      <th>glicemia</th>\n",
              "      <th>presion_sanguinea</th>\n",
              "      <th>grasa_subcutanea_triceps</th>\n",
              "      <th>insulina</th>\n",
              "      <th>imc</th>\n",
              "      <th>diabetes</th>\n",
              "    </tr>\n",
              "  </thead>\n",
              "  <tbody>\n",
              "    <tr>\n",
              "      <th>0</th>\n",
              "      <td>66</td>\n",
              "      <td>23</td>\n",
              "      <td>94</td>\n",
              "      <td>28.1</td>\n",
              "      <td>0.167</td>\n",
              "      <td>0</td>\n",
              "    </tr>\n",
              "    <tr>\n",
              "      <th>1</th>\n",
              "      <td>40</td>\n",
              "      <td>35</td>\n",
              "      <td>168</td>\n",
              "      <td>43.1</td>\n",
              "      <td>2.288</td>\n",
              "      <td>1</td>\n",
              "    </tr>\n",
              "    <tr>\n",
              "      <th>2</th>\n",
              "      <td>50</td>\n",
              "      <td>32</td>\n",
              "      <td>88</td>\n",
              "      <td>31.0</td>\n",
              "      <td>0.248</td>\n",
              "      <td>1</td>\n",
              "    </tr>\n",
              "    <tr>\n",
              "      <th>3</th>\n",
              "      <td>70</td>\n",
              "      <td>45</td>\n",
              "      <td>543</td>\n",
              "      <td>30.5</td>\n",
              "      <td>0.158</td>\n",
              "      <td>1</td>\n",
              "    </tr>\n",
              "    <tr>\n",
              "      <th>4</th>\n",
              "      <td>60</td>\n",
              "      <td>23</td>\n",
              "      <td>846</td>\n",
              "      <td>30.1</td>\n",
              "      <td>0.398</td>\n",
              "      <td>1</td>\n",
              "    </tr>\n",
              "  </tbody>\n",
              "</table>\n",
              "</div>"
            ],
            "text/plain": [
              "   glicemia  presion_sanguinea  grasa_subcutanea_triceps  insulina    imc  \\\n",
              "0        66                 23                        94      28.1  0.167   \n",
              "1        40                 35                       168      43.1  2.288   \n",
              "2        50                 32                        88      31.0  0.248   \n",
              "3        70                 45                       543      30.5  0.158   \n",
              "4        60                 23                       846      30.1  0.398   \n",
              "\n",
              "   diabetes  \n",
              "0         0  \n",
              "1         1  \n",
              "2         1  \n",
              "3         1  \n",
              "4         1  "
            ]
          },
          "execution_count": 13,
          "metadata": {},
          "output_type": "execute_result"
        }
      ],
      "source": [
        "dataset = pd.read_csv('https://raw.githubusercontent.com/alura-es-cursos/2162-clasificacion-validacion-de-modelos-y-metricas/refs/heads/desafios/diabetes.csv')\n",
        "dataset.head()"
      ]
    },
    {
      "cell_type": "code",
      "execution_count": 14,
      "metadata": {
        "id": "bjW5kA4i0Pgi"
      },
      "outputs": [],
      "source": [
        "X2 = dataset.drop('diabetes', axis=1)\n",
        "y2 = dataset['diabetes']"
      ]
    },
    {
      "cell_type": "markdown",
      "metadata": {
        "id": "i2DzTbz80Xq6"
      },
      "source": [
        "2 - Una etapa muy importante en proyectos de clasificación es la validación de los modelos, para identificar si hay una generalización del modelo para datos nuevos. Realiza la división de los datos entre entrenamiento, validación y prueba. Utiliza el 5% de los datos para prueba y con el resto, deja el 25% para validación. En el momento de la separación, usa el parámetro stratify a partir de la variable objetivo para mantener la proporción de los datos."
      ]
    },
    {
      "cell_type": "code",
      "execution_count": 15,
      "metadata": {
        "id": "flc2QEL00ZDe"
      },
      "outputs": [],
      "source": [
        "X2, X2_test, y2, y2_test = train_test_split(X2, y2, test_size=0.05, stratify=y2, random_state=5)\n",
        "X2_train, X2_val, y2_train, y2_val = train_test_split(X2, y2, stratify=y2, random_state=5)"
      ]
    },
    {
      "cell_type": "markdown",
      "metadata": {
        "id": "jxEee3QW0765"
      },
      "source": [
        "3 - La etapa de modelado de datos consiste en utilizar un algoritmo capaz de identificar patrones en los datos y clasificar los valores. A partir del modelo es posible extraer una tasa de acierto para entender su desempeño. Crea 2 modelos utilizando los algoritmos DecisionTreeClassifier y RandomForestClassifier y evalúa la precisión de entrenamiento y prueba, eligiendo el valor 3 para el parámetro max_depth del algoritmo DecisionTreeClassifier y el valor 2 para el max_depth del algoritmo RandomForestClassifier, para que los modelos no se especialicen demasiado en el patrón de los datos de entrenamiento."
      ]
    },
    {
      "cell_type": "code",
      "execution_count": 16,
      "metadata": {
        "colab": {
          "base_uri": "https://localhost:8080/",
          "height": 80
        },
        "id": "h4JRvqPo1WCt",
        "outputId": "a668dd86-1791-40d2-e3ab-d4221f4a1f61"
      },
      "outputs": [
        {
          "data": {
            "text/html": [
              "<style>#sk-container-id-2 {\n",
              "  /* Definition of color scheme common for light and dark mode */\n",
              "  --sklearn-color-text: #000;\n",
              "  --sklearn-color-text-muted: #666;\n",
              "  --sklearn-color-line: gray;\n",
              "  /* Definition of color scheme for unfitted estimators */\n",
              "  --sklearn-color-unfitted-level-0: #fff5e6;\n",
              "  --sklearn-color-unfitted-level-1: #f6e4d2;\n",
              "  --sklearn-color-unfitted-level-2: #ffe0b3;\n",
              "  --sklearn-color-unfitted-level-3: chocolate;\n",
              "  /* Definition of color scheme for fitted estimators */\n",
              "  --sklearn-color-fitted-level-0: #f0f8ff;\n",
              "  --sklearn-color-fitted-level-1: #d4ebff;\n",
              "  --sklearn-color-fitted-level-2: #b3dbfd;\n",
              "  --sklearn-color-fitted-level-3: cornflowerblue;\n",
              "\n",
              "  /* Specific color for light theme */\n",
              "  --sklearn-color-text-on-default-background: var(--sg-text-color, var(--theme-code-foreground, var(--jp-content-font-color1, black)));\n",
              "  --sklearn-color-background: var(--sg-background-color, var(--theme-background, var(--jp-layout-color0, white)));\n",
              "  --sklearn-color-border-box: var(--sg-text-color, var(--theme-code-foreground, var(--jp-content-font-color1, black)));\n",
              "  --sklearn-color-icon: #696969;\n",
              "\n",
              "  @media (prefers-color-scheme: dark) {\n",
              "    /* Redefinition of color scheme for dark theme */\n",
              "    --sklearn-color-text-on-default-background: var(--sg-text-color, var(--theme-code-foreground, var(--jp-content-font-color1, white)));\n",
              "    --sklearn-color-background: var(--sg-background-color, var(--theme-background, var(--jp-layout-color0, #111)));\n",
              "    --sklearn-color-border-box: var(--sg-text-color, var(--theme-code-foreground, var(--jp-content-font-color1, white)));\n",
              "    --sklearn-color-icon: #878787;\n",
              "  }\n",
              "}\n",
              "\n",
              "#sk-container-id-2 {\n",
              "  color: var(--sklearn-color-text);\n",
              "}\n",
              "\n",
              "#sk-container-id-2 pre {\n",
              "  padding: 0;\n",
              "}\n",
              "\n",
              "#sk-container-id-2 input.sk-hidden--visually {\n",
              "  border: 0;\n",
              "  clip: rect(1px 1px 1px 1px);\n",
              "  clip: rect(1px, 1px, 1px, 1px);\n",
              "  height: 1px;\n",
              "  margin: -1px;\n",
              "  overflow: hidden;\n",
              "  padding: 0;\n",
              "  position: absolute;\n",
              "  width: 1px;\n",
              "}\n",
              "\n",
              "#sk-container-id-2 div.sk-dashed-wrapped {\n",
              "  border: 1px dashed var(--sklearn-color-line);\n",
              "  margin: 0 0.4em 0.5em 0.4em;\n",
              "  box-sizing: border-box;\n",
              "  padding-bottom: 0.4em;\n",
              "  background-color: var(--sklearn-color-background);\n",
              "}\n",
              "\n",
              "#sk-container-id-2 div.sk-container {\n",
              "  /* jupyter's `normalize.less` sets `[hidden] { display: none; }`\n",
              "     but bootstrap.min.css set `[hidden] { display: none !important; }`\n",
              "     so we also need the `!important` here to be able to override the\n",
              "     default hidden behavior on the sphinx rendered scikit-learn.org.\n",
              "     See: https://github.com/scikit-learn/scikit-learn/issues/21755 */\n",
              "  display: inline-block !important;\n",
              "  position: relative;\n",
              "}\n",
              "\n",
              "#sk-container-id-2 div.sk-text-repr-fallback {\n",
              "  display: none;\n",
              "}\n",
              "\n",
              "div.sk-parallel-item,\n",
              "div.sk-serial,\n",
              "div.sk-item {\n",
              "  /* draw centered vertical line to link estimators */\n",
              "  background-image: linear-gradient(var(--sklearn-color-text-on-default-background), var(--sklearn-color-text-on-default-background));\n",
              "  background-size: 2px 100%;\n",
              "  background-repeat: no-repeat;\n",
              "  background-position: center center;\n",
              "}\n",
              "\n",
              "/* Parallel-specific style estimator block */\n",
              "\n",
              "#sk-container-id-2 div.sk-parallel-item::after {\n",
              "  content: \"\";\n",
              "  width: 100%;\n",
              "  border-bottom: 2px solid var(--sklearn-color-text-on-default-background);\n",
              "  flex-grow: 1;\n",
              "}\n",
              "\n",
              "#sk-container-id-2 div.sk-parallel {\n",
              "  display: flex;\n",
              "  align-items: stretch;\n",
              "  justify-content: center;\n",
              "  background-color: var(--sklearn-color-background);\n",
              "  position: relative;\n",
              "}\n",
              "\n",
              "#sk-container-id-2 div.sk-parallel-item {\n",
              "  display: flex;\n",
              "  flex-direction: column;\n",
              "}\n",
              "\n",
              "#sk-container-id-2 div.sk-parallel-item:first-child::after {\n",
              "  align-self: flex-end;\n",
              "  width: 50%;\n",
              "}\n",
              "\n",
              "#sk-container-id-2 div.sk-parallel-item:last-child::after {\n",
              "  align-self: flex-start;\n",
              "  width: 50%;\n",
              "}\n",
              "\n",
              "#sk-container-id-2 div.sk-parallel-item:only-child::after {\n",
              "  width: 0;\n",
              "}\n",
              "\n",
              "/* Serial-specific style estimator block */\n",
              "\n",
              "#sk-container-id-2 div.sk-serial {\n",
              "  display: flex;\n",
              "  flex-direction: column;\n",
              "  align-items: center;\n",
              "  background-color: var(--sklearn-color-background);\n",
              "  padding-right: 1em;\n",
              "  padding-left: 1em;\n",
              "}\n",
              "\n",
              "\n",
              "/* Toggleable style: style used for estimator/Pipeline/ColumnTransformer box that is\n",
              "clickable and can be expanded/collapsed.\n",
              "- Pipeline and ColumnTransformer use this feature and define the default style\n",
              "- Estimators will overwrite some part of the style using the `sk-estimator` class\n",
              "*/\n",
              "\n",
              "/* Pipeline and ColumnTransformer style (default) */\n",
              "\n",
              "#sk-container-id-2 div.sk-toggleable {\n",
              "  /* Default theme specific background. It is overwritten whether we have a\n",
              "  specific estimator or a Pipeline/ColumnTransformer */\n",
              "  background-color: var(--sklearn-color-background);\n",
              "}\n",
              "\n",
              "/* Toggleable label */\n",
              "#sk-container-id-2 label.sk-toggleable__label {\n",
              "  cursor: pointer;\n",
              "  display: flex;\n",
              "  width: 100%;\n",
              "  margin-bottom: 0;\n",
              "  padding: 0.5em;\n",
              "  box-sizing: border-box;\n",
              "  text-align: center;\n",
              "  align-items: start;\n",
              "  justify-content: space-between;\n",
              "  gap: 0.5em;\n",
              "}\n",
              "\n",
              "#sk-container-id-2 label.sk-toggleable__label .caption {\n",
              "  font-size: 0.6rem;\n",
              "  font-weight: lighter;\n",
              "  color: var(--sklearn-color-text-muted);\n",
              "}\n",
              "\n",
              "#sk-container-id-2 label.sk-toggleable__label-arrow:before {\n",
              "  /* Arrow on the left of the label */\n",
              "  content: \"▸\";\n",
              "  float: left;\n",
              "  margin-right: 0.25em;\n",
              "  color: var(--sklearn-color-icon);\n",
              "}\n",
              "\n",
              "#sk-container-id-2 label.sk-toggleable__label-arrow:hover:before {\n",
              "  color: var(--sklearn-color-text);\n",
              "}\n",
              "\n",
              "/* Toggleable content - dropdown */\n",
              "\n",
              "#sk-container-id-2 div.sk-toggleable__content {\n",
              "  max-height: 0;\n",
              "  max-width: 0;\n",
              "  overflow: hidden;\n",
              "  text-align: left;\n",
              "  /* unfitted */\n",
              "  background-color: var(--sklearn-color-unfitted-level-0);\n",
              "}\n",
              "\n",
              "#sk-container-id-2 div.sk-toggleable__content.fitted {\n",
              "  /* fitted */\n",
              "  background-color: var(--sklearn-color-fitted-level-0);\n",
              "}\n",
              "\n",
              "#sk-container-id-2 div.sk-toggleable__content pre {\n",
              "  margin: 0.2em;\n",
              "  border-radius: 0.25em;\n",
              "  color: var(--sklearn-color-text);\n",
              "  /* unfitted */\n",
              "  background-color: var(--sklearn-color-unfitted-level-0);\n",
              "}\n",
              "\n",
              "#sk-container-id-2 div.sk-toggleable__content.fitted pre {\n",
              "  /* unfitted */\n",
              "  background-color: var(--sklearn-color-fitted-level-0);\n",
              "}\n",
              "\n",
              "#sk-container-id-2 input.sk-toggleable__control:checked~div.sk-toggleable__content {\n",
              "  /* Expand drop-down */\n",
              "  max-height: 200px;\n",
              "  max-width: 100%;\n",
              "  overflow: auto;\n",
              "}\n",
              "\n",
              "#sk-container-id-2 input.sk-toggleable__control:checked~label.sk-toggleable__label-arrow:before {\n",
              "  content: \"▾\";\n",
              "}\n",
              "\n",
              "/* Pipeline/ColumnTransformer-specific style */\n",
              "\n",
              "#sk-container-id-2 div.sk-label input.sk-toggleable__control:checked~label.sk-toggleable__label {\n",
              "  color: var(--sklearn-color-text);\n",
              "  background-color: var(--sklearn-color-unfitted-level-2);\n",
              "}\n",
              "\n",
              "#sk-container-id-2 div.sk-label.fitted input.sk-toggleable__control:checked~label.sk-toggleable__label {\n",
              "  background-color: var(--sklearn-color-fitted-level-2);\n",
              "}\n",
              "\n",
              "/* Estimator-specific style */\n",
              "\n",
              "/* Colorize estimator box */\n",
              "#sk-container-id-2 div.sk-estimator input.sk-toggleable__control:checked~label.sk-toggleable__label {\n",
              "  /* unfitted */\n",
              "  background-color: var(--sklearn-color-unfitted-level-2);\n",
              "}\n",
              "\n",
              "#sk-container-id-2 div.sk-estimator.fitted input.sk-toggleable__control:checked~label.sk-toggleable__label {\n",
              "  /* fitted */\n",
              "  background-color: var(--sklearn-color-fitted-level-2);\n",
              "}\n",
              "\n",
              "#sk-container-id-2 div.sk-label label.sk-toggleable__label,\n",
              "#sk-container-id-2 div.sk-label label {\n",
              "  /* The background is the default theme color */\n",
              "  color: var(--sklearn-color-text-on-default-background);\n",
              "}\n",
              "\n",
              "/* On hover, darken the color of the background */\n",
              "#sk-container-id-2 div.sk-label:hover label.sk-toggleable__label {\n",
              "  color: var(--sklearn-color-text);\n",
              "  background-color: var(--sklearn-color-unfitted-level-2);\n",
              "}\n",
              "\n",
              "/* Label box, darken color on hover, fitted */\n",
              "#sk-container-id-2 div.sk-label.fitted:hover label.sk-toggleable__label.fitted {\n",
              "  color: var(--sklearn-color-text);\n",
              "  background-color: var(--sklearn-color-fitted-level-2);\n",
              "}\n",
              "\n",
              "/* Estimator label */\n",
              "\n",
              "#sk-container-id-2 div.sk-label label {\n",
              "  font-family: monospace;\n",
              "  font-weight: bold;\n",
              "  display: inline-block;\n",
              "  line-height: 1.2em;\n",
              "}\n",
              "\n",
              "#sk-container-id-2 div.sk-label-container {\n",
              "  text-align: center;\n",
              "}\n",
              "\n",
              "/* Estimator-specific */\n",
              "#sk-container-id-2 div.sk-estimator {\n",
              "  font-family: monospace;\n",
              "  border: 1px dotted var(--sklearn-color-border-box);\n",
              "  border-radius: 0.25em;\n",
              "  box-sizing: border-box;\n",
              "  margin-bottom: 0.5em;\n",
              "  /* unfitted */\n",
              "  background-color: var(--sklearn-color-unfitted-level-0);\n",
              "}\n",
              "\n",
              "#sk-container-id-2 div.sk-estimator.fitted {\n",
              "  /* fitted */\n",
              "  background-color: var(--sklearn-color-fitted-level-0);\n",
              "}\n",
              "\n",
              "/* on hover */\n",
              "#sk-container-id-2 div.sk-estimator:hover {\n",
              "  /* unfitted */\n",
              "  background-color: var(--sklearn-color-unfitted-level-2);\n",
              "}\n",
              "\n",
              "#sk-container-id-2 div.sk-estimator.fitted:hover {\n",
              "  /* fitted */\n",
              "  background-color: var(--sklearn-color-fitted-level-2);\n",
              "}\n",
              "\n",
              "/* Specification for estimator info (e.g. \"i\" and \"?\") */\n",
              "\n",
              "/* Common style for \"i\" and \"?\" */\n",
              "\n",
              ".sk-estimator-doc-link,\n",
              "a:link.sk-estimator-doc-link,\n",
              "a:visited.sk-estimator-doc-link {\n",
              "  float: right;\n",
              "  font-size: smaller;\n",
              "  line-height: 1em;\n",
              "  font-family: monospace;\n",
              "  background-color: var(--sklearn-color-background);\n",
              "  border-radius: 1em;\n",
              "  height: 1em;\n",
              "  width: 1em;\n",
              "  text-decoration: none !important;\n",
              "  margin-left: 0.5em;\n",
              "  text-align: center;\n",
              "  /* unfitted */\n",
              "  border: var(--sklearn-color-unfitted-level-1) 1pt solid;\n",
              "  color: var(--sklearn-color-unfitted-level-1);\n",
              "}\n",
              "\n",
              ".sk-estimator-doc-link.fitted,\n",
              "a:link.sk-estimator-doc-link.fitted,\n",
              "a:visited.sk-estimator-doc-link.fitted {\n",
              "  /* fitted */\n",
              "  border: var(--sklearn-color-fitted-level-1) 1pt solid;\n",
              "  color: var(--sklearn-color-fitted-level-1);\n",
              "}\n",
              "\n",
              "/* On hover */\n",
              "div.sk-estimator:hover .sk-estimator-doc-link:hover,\n",
              ".sk-estimator-doc-link:hover,\n",
              "div.sk-label-container:hover .sk-estimator-doc-link:hover,\n",
              ".sk-estimator-doc-link:hover {\n",
              "  /* unfitted */\n",
              "  background-color: var(--sklearn-color-unfitted-level-3);\n",
              "  color: var(--sklearn-color-background);\n",
              "  text-decoration: none;\n",
              "}\n",
              "\n",
              "div.sk-estimator.fitted:hover .sk-estimator-doc-link.fitted:hover,\n",
              ".sk-estimator-doc-link.fitted:hover,\n",
              "div.sk-label-container:hover .sk-estimator-doc-link.fitted:hover,\n",
              ".sk-estimator-doc-link.fitted:hover {\n",
              "  /* fitted */\n",
              "  background-color: var(--sklearn-color-fitted-level-3);\n",
              "  color: var(--sklearn-color-background);\n",
              "  text-decoration: none;\n",
              "}\n",
              "\n",
              "/* Span, style for the box shown on hovering the info icon */\n",
              ".sk-estimator-doc-link span {\n",
              "  display: none;\n",
              "  z-index: 9999;\n",
              "  position: relative;\n",
              "  font-weight: normal;\n",
              "  right: .2ex;\n",
              "  padding: .5ex;\n",
              "  margin: .5ex;\n",
              "  width: min-content;\n",
              "  min-width: 20ex;\n",
              "  max-width: 50ex;\n",
              "  color: var(--sklearn-color-text);\n",
              "  box-shadow: 2pt 2pt 4pt #999;\n",
              "  /* unfitted */\n",
              "  background: var(--sklearn-color-unfitted-level-0);\n",
              "  border: .5pt solid var(--sklearn-color-unfitted-level-3);\n",
              "}\n",
              "\n",
              ".sk-estimator-doc-link.fitted span {\n",
              "  /* fitted */\n",
              "  background: var(--sklearn-color-fitted-level-0);\n",
              "  border: var(--sklearn-color-fitted-level-3);\n",
              "}\n",
              "\n",
              ".sk-estimator-doc-link:hover span {\n",
              "  display: block;\n",
              "}\n",
              "\n",
              "/* \"?\"-specific style due to the `<a>` HTML tag */\n",
              "\n",
              "#sk-container-id-2 a.estimator_doc_link {\n",
              "  float: right;\n",
              "  font-size: 1rem;\n",
              "  line-height: 1em;\n",
              "  font-family: monospace;\n",
              "  background-color: var(--sklearn-color-background);\n",
              "  border-radius: 1rem;\n",
              "  height: 1rem;\n",
              "  width: 1rem;\n",
              "  text-decoration: none;\n",
              "  /* unfitted */\n",
              "  color: var(--sklearn-color-unfitted-level-1);\n",
              "  border: var(--sklearn-color-unfitted-level-1) 1pt solid;\n",
              "}\n",
              "\n",
              "#sk-container-id-2 a.estimator_doc_link.fitted {\n",
              "  /* fitted */\n",
              "  border: var(--sklearn-color-fitted-level-1) 1pt solid;\n",
              "  color: var(--sklearn-color-fitted-level-1);\n",
              "}\n",
              "\n",
              "/* On hover */\n",
              "#sk-container-id-2 a.estimator_doc_link:hover {\n",
              "  /* unfitted */\n",
              "  background-color: var(--sklearn-color-unfitted-level-3);\n",
              "  color: var(--sklearn-color-background);\n",
              "  text-decoration: none;\n",
              "}\n",
              "\n",
              "#sk-container-id-2 a.estimator_doc_link.fitted:hover {\n",
              "  /* fitted */\n",
              "  background-color: var(--sklearn-color-fitted-level-3);\n",
              "}\n",
              "</style><div id=\"sk-container-id-2\" class=\"sk-top-container\"><div class=\"sk-text-repr-fallback\"><pre>DecisionTreeClassifier(max_depth=3)</pre><b>In a Jupyter environment, please rerun this cell to show the HTML representation or trust the notebook. <br />On GitHub, the HTML representation is unable to render, please try loading this page with nbviewer.org.</b></div><div class=\"sk-container\" hidden><div class=\"sk-item\"><div class=\"sk-estimator fitted sk-toggleable\"><input class=\"sk-toggleable__control sk-hidden--visually\" id=\"sk-estimator-id-2\" type=\"checkbox\" checked><label for=\"sk-estimator-id-2\" class=\"sk-toggleable__label fitted sk-toggleable__label-arrow\"><div><div>DecisionTreeClassifier</div></div><div><a class=\"sk-estimator-doc-link fitted\" rel=\"noreferrer\" target=\"_blank\" href=\"https://scikit-learn.org/1.6/modules/generated/sklearn.tree.DecisionTreeClassifier.html\">?<span>Documentation for DecisionTreeClassifier</span></a><span class=\"sk-estimator-doc-link fitted\">i<span>Fitted</span></span></div></label><div class=\"sk-toggleable__content fitted\"><pre>DecisionTreeClassifier(max_depth=3)</pre></div> </div></div></div></div>"
            ],
            "text/plain": [
              "DecisionTreeClassifier(max_depth=3)"
            ]
          },
          "execution_count": 16,
          "metadata": {},
          "output_type": "execute_result"
        }
      ],
      "source": [
        "modelo_dt = DecisionTreeClassifier(max_depth = 3)\n",
        "modelo_dt.fit(X2_train, y2_train)"
      ]
    },
    {
      "cell_type": "code",
      "execution_count": 17,
      "metadata": {
        "colab": {
          "base_uri": "https://localhost:8080/",
          "height": 80
        },
        "id": "6y7sUUgK1gm2",
        "outputId": "ecc9f1fb-d8ec-4649-c80a-aa97329772c7"
      },
      "outputs": [
        {
          "data": {
            "text/html": [
              "<style>#sk-container-id-3 {\n",
              "  /* Definition of color scheme common for light and dark mode */\n",
              "  --sklearn-color-text: #000;\n",
              "  --sklearn-color-text-muted: #666;\n",
              "  --sklearn-color-line: gray;\n",
              "  /* Definition of color scheme for unfitted estimators */\n",
              "  --sklearn-color-unfitted-level-0: #fff5e6;\n",
              "  --sklearn-color-unfitted-level-1: #f6e4d2;\n",
              "  --sklearn-color-unfitted-level-2: #ffe0b3;\n",
              "  --sklearn-color-unfitted-level-3: chocolate;\n",
              "  /* Definition of color scheme for fitted estimators */\n",
              "  --sklearn-color-fitted-level-0: #f0f8ff;\n",
              "  --sklearn-color-fitted-level-1: #d4ebff;\n",
              "  --sklearn-color-fitted-level-2: #b3dbfd;\n",
              "  --sklearn-color-fitted-level-3: cornflowerblue;\n",
              "\n",
              "  /* Specific color for light theme */\n",
              "  --sklearn-color-text-on-default-background: var(--sg-text-color, var(--theme-code-foreground, var(--jp-content-font-color1, black)));\n",
              "  --sklearn-color-background: var(--sg-background-color, var(--theme-background, var(--jp-layout-color0, white)));\n",
              "  --sklearn-color-border-box: var(--sg-text-color, var(--theme-code-foreground, var(--jp-content-font-color1, black)));\n",
              "  --sklearn-color-icon: #696969;\n",
              "\n",
              "  @media (prefers-color-scheme: dark) {\n",
              "    /* Redefinition of color scheme for dark theme */\n",
              "    --sklearn-color-text-on-default-background: var(--sg-text-color, var(--theme-code-foreground, var(--jp-content-font-color1, white)));\n",
              "    --sklearn-color-background: var(--sg-background-color, var(--theme-background, var(--jp-layout-color0, #111)));\n",
              "    --sklearn-color-border-box: var(--sg-text-color, var(--theme-code-foreground, var(--jp-content-font-color1, white)));\n",
              "    --sklearn-color-icon: #878787;\n",
              "  }\n",
              "}\n",
              "\n",
              "#sk-container-id-3 {\n",
              "  color: var(--sklearn-color-text);\n",
              "}\n",
              "\n",
              "#sk-container-id-3 pre {\n",
              "  padding: 0;\n",
              "}\n",
              "\n",
              "#sk-container-id-3 input.sk-hidden--visually {\n",
              "  border: 0;\n",
              "  clip: rect(1px 1px 1px 1px);\n",
              "  clip: rect(1px, 1px, 1px, 1px);\n",
              "  height: 1px;\n",
              "  margin: -1px;\n",
              "  overflow: hidden;\n",
              "  padding: 0;\n",
              "  position: absolute;\n",
              "  width: 1px;\n",
              "}\n",
              "\n",
              "#sk-container-id-3 div.sk-dashed-wrapped {\n",
              "  border: 1px dashed var(--sklearn-color-line);\n",
              "  margin: 0 0.4em 0.5em 0.4em;\n",
              "  box-sizing: border-box;\n",
              "  padding-bottom: 0.4em;\n",
              "  background-color: var(--sklearn-color-background);\n",
              "}\n",
              "\n",
              "#sk-container-id-3 div.sk-container {\n",
              "  /* jupyter's `normalize.less` sets `[hidden] { display: none; }`\n",
              "     but bootstrap.min.css set `[hidden] { display: none !important; }`\n",
              "     so we also need the `!important` here to be able to override the\n",
              "     default hidden behavior on the sphinx rendered scikit-learn.org.\n",
              "     See: https://github.com/scikit-learn/scikit-learn/issues/21755 */\n",
              "  display: inline-block !important;\n",
              "  position: relative;\n",
              "}\n",
              "\n",
              "#sk-container-id-3 div.sk-text-repr-fallback {\n",
              "  display: none;\n",
              "}\n",
              "\n",
              "div.sk-parallel-item,\n",
              "div.sk-serial,\n",
              "div.sk-item {\n",
              "  /* draw centered vertical line to link estimators */\n",
              "  background-image: linear-gradient(var(--sklearn-color-text-on-default-background), var(--sklearn-color-text-on-default-background));\n",
              "  background-size: 2px 100%;\n",
              "  background-repeat: no-repeat;\n",
              "  background-position: center center;\n",
              "}\n",
              "\n",
              "/* Parallel-specific style estimator block */\n",
              "\n",
              "#sk-container-id-3 div.sk-parallel-item::after {\n",
              "  content: \"\";\n",
              "  width: 100%;\n",
              "  border-bottom: 2px solid var(--sklearn-color-text-on-default-background);\n",
              "  flex-grow: 1;\n",
              "}\n",
              "\n",
              "#sk-container-id-3 div.sk-parallel {\n",
              "  display: flex;\n",
              "  align-items: stretch;\n",
              "  justify-content: center;\n",
              "  background-color: var(--sklearn-color-background);\n",
              "  position: relative;\n",
              "}\n",
              "\n",
              "#sk-container-id-3 div.sk-parallel-item {\n",
              "  display: flex;\n",
              "  flex-direction: column;\n",
              "}\n",
              "\n",
              "#sk-container-id-3 div.sk-parallel-item:first-child::after {\n",
              "  align-self: flex-end;\n",
              "  width: 50%;\n",
              "}\n",
              "\n",
              "#sk-container-id-3 div.sk-parallel-item:last-child::after {\n",
              "  align-self: flex-start;\n",
              "  width: 50%;\n",
              "}\n",
              "\n",
              "#sk-container-id-3 div.sk-parallel-item:only-child::after {\n",
              "  width: 0;\n",
              "}\n",
              "\n",
              "/* Serial-specific style estimator block */\n",
              "\n",
              "#sk-container-id-3 div.sk-serial {\n",
              "  display: flex;\n",
              "  flex-direction: column;\n",
              "  align-items: center;\n",
              "  background-color: var(--sklearn-color-background);\n",
              "  padding-right: 1em;\n",
              "  padding-left: 1em;\n",
              "}\n",
              "\n",
              "\n",
              "/* Toggleable style: style used for estimator/Pipeline/ColumnTransformer box that is\n",
              "clickable and can be expanded/collapsed.\n",
              "- Pipeline and ColumnTransformer use this feature and define the default style\n",
              "- Estimators will overwrite some part of the style using the `sk-estimator` class\n",
              "*/\n",
              "\n",
              "/* Pipeline and ColumnTransformer style (default) */\n",
              "\n",
              "#sk-container-id-3 div.sk-toggleable {\n",
              "  /* Default theme specific background. It is overwritten whether we have a\n",
              "  specific estimator or a Pipeline/ColumnTransformer */\n",
              "  background-color: var(--sklearn-color-background);\n",
              "}\n",
              "\n",
              "/* Toggleable label */\n",
              "#sk-container-id-3 label.sk-toggleable__label {\n",
              "  cursor: pointer;\n",
              "  display: flex;\n",
              "  width: 100%;\n",
              "  margin-bottom: 0;\n",
              "  padding: 0.5em;\n",
              "  box-sizing: border-box;\n",
              "  text-align: center;\n",
              "  align-items: start;\n",
              "  justify-content: space-between;\n",
              "  gap: 0.5em;\n",
              "}\n",
              "\n",
              "#sk-container-id-3 label.sk-toggleable__label .caption {\n",
              "  font-size: 0.6rem;\n",
              "  font-weight: lighter;\n",
              "  color: var(--sklearn-color-text-muted);\n",
              "}\n",
              "\n",
              "#sk-container-id-3 label.sk-toggleable__label-arrow:before {\n",
              "  /* Arrow on the left of the label */\n",
              "  content: \"▸\";\n",
              "  float: left;\n",
              "  margin-right: 0.25em;\n",
              "  color: var(--sklearn-color-icon);\n",
              "}\n",
              "\n",
              "#sk-container-id-3 label.sk-toggleable__label-arrow:hover:before {\n",
              "  color: var(--sklearn-color-text);\n",
              "}\n",
              "\n",
              "/* Toggleable content - dropdown */\n",
              "\n",
              "#sk-container-id-3 div.sk-toggleable__content {\n",
              "  max-height: 0;\n",
              "  max-width: 0;\n",
              "  overflow: hidden;\n",
              "  text-align: left;\n",
              "  /* unfitted */\n",
              "  background-color: var(--sklearn-color-unfitted-level-0);\n",
              "}\n",
              "\n",
              "#sk-container-id-3 div.sk-toggleable__content.fitted {\n",
              "  /* fitted */\n",
              "  background-color: var(--sklearn-color-fitted-level-0);\n",
              "}\n",
              "\n",
              "#sk-container-id-3 div.sk-toggleable__content pre {\n",
              "  margin: 0.2em;\n",
              "  border-radius: 0.25em;\n",
              "  color: var(--sklearn-color-text);\n",
              "  /* unfitted */\n",
              "  background-color: var(--sklearn-color-unfitted-level-0);\n",
              "}\n",
              "\n",
              "#sk-container-id-3 div.sk-toggleable__content.fitted pre {\n",
              "  /* unfitted */\n",
              "  background-color: var(--sklearn-color-fitted-level-0);\n",
              "}\n",
              "\n",
              "#sk-container-id-3 input.sk-toggleable__control:checked~div.sk-toggleable__content {\n",
              "  /* Expand drop-down */\n",
              "  max-height: 200px;\n",
              "  max-width: 100%;\n",
              "  overflow: auto;\n",
              "}\n",
              "\n",
              "#sk-container-id-3 input.sk-toggleable__control:checked~label.sk-toggleable__label-arrow:before {\n",
              "  content: \"▾\";\n",
              "}\n",
              "\n",
              "/* Pipeline/ColumnTransformer-specific style */\n",
              "\n",
              "#sk-container-id-3 div.sk-label input.sk-toggleable__control:checked~label.sk-toggleable__label {\n",
              "  color: var(--sklearn-color-text);\n",
              "  background-color: var(--sklearn-color-unfitted-level-2);\n",
              "}\n",
              "\n",
              "#sk-container-id-3 div.sk-label.fitted input.sk-toggleable__control:checked~label.sk-toggleable__label {\n",
              "  background-color: var(--sklearn-color-fitted-level-2);\n",
              "}\n",
              "\n",
              "/* Estimator-specific style */\n",
              "\n",
              "/* Colorize estimator box */\n",
              "#sk-container-id-3 div.sk-estimator input.sk-toggleable__control:checked~label.sk-toggleable__label {\n",
              "  /* unfitted */\n",
              "  background-color: var(--sklearn-color-unfitted-level-2);\n",
              "}\n",
              "\n",
              "#sk-container-id-3 div.sk-estimator.fitted input.sk-toggleable__control:checked~label.sk-toggleable__label {\n",
              "  /* fitted */\n",
              "  background-color: var(--sklearn-color-fitted-level-2);\n",
              "}\n",
              "\n",
              "#sk-container-id-3 div.sk-label label.sk-toggleable__label,\n",
              "#sk-container-id-3 div.sk-label label {\n",
              "  /* The background is the default theme color */\n",
              "  color: var(--sklearn-color-text-on-default-background);\n",
              "}\n",
              "\n",
              "/* On hover, darken the color of the background */\n",
              "#sk-container-id-3 div.sk-label:hover label.sk-toggleable__label {\n",
              "  color: var(--sklearn-color-text);\n",
              "  background-color: var(--sklearn-color-unfitted-level-2);\n",
              "}\n",
              "\n",
              "/* Label box, darken color on hover, fitted */\n",
              "#sk-container-id-3 div.sk-label.fitted:hover label.sk-toggleable__label.fitted {\n",
              "  color: var(--sklearn-color-text);\n",
              "  background-color: var(--sklearn-color-fitted-level-2);\n",
              "}\n",
              "\n",
              "/* Estimator label */\n",
              "\n",
              "#sk-container-id-3 div.sk-label label {\n",
              "  font-family: monospace;\n",
              "  font-weight: bold;\n",
              "  display: inline-block;\n",
              "  line-height: 1.2em;\n",
              "}\n",
              "\n",
              "#sk-container-id-3 div.sk-label-container {\n",
              "  text-align: center;\n",
              "}\n",
              "\n",
              "/* Estimator-specific */\n",
              "#sk-container-id-3 div.sk-estimator {\n",
              "  font-family: monospace;\n",
              "  border: 1px dotted var(--sklearn-color-border-box);\n",
              "  border-radius: 0.25em;\n",
              "  box-sizing: border-box;\n",
              "  margin-bottom: 0.5em;\n",
              "  /* unfitted */\n",
              "  background-color: var(--sklearn-color-unfitted-level-0);\n",
              "}\n",
              "\n",
              "#sk-container-id-3 div.sk-estimator.fitted {\n",
              "  /* fitted */\n",
              "  background-color: var(--sklearn-color-fitted-level-0);\n",
              "}\n",
              "\n",
              "/* on hover */\n",
              "#sk-container-id-3 div.sk-estimator:hover {\n",
              "  /* unfitted */\n",
              "  background-color: var(--sklearn-color-unfitted-level-2);\n",
              "}\n",
              "\n",
              "#sk-container-id-3 div.sk-estimator.fitted:hover {\n",
              "  /* fitted */\n",
              "  background-color: var(--sklearn-color-fitted-level-2);\n",
              "}\n",
              "\n",
              "/* Specification for estimator info (e.g. \"i\" and \"?\") */\n",
              "\n",
              "/* Common style for \"i\" and \"?\" */\n",
              "\n",
              ".sk-estimator-doc-link,\n",
              "a:link.sk-estimator-doc-link,\n",
              "a:visited.sk-estimator-doc-link {\n",
              "  float: right;\n",
              "  font-size: smaller;\n",
              "  line-height: 1em;\n",
              "  font-family: monospace;\n",
              "  background-color: var(--sklearn-color-background);\n",
              "  border-radius: 1em;\n",
              "  height: 1em;\n",
              "  width: 1em;\n",
              "  text-decoration: none !important;\n",
              "  margin-left: 0.5em;\n",
              "  text-align: center;\n",
              "  /* unfitted */\n",
              "  border: var(--sklearn-color-unfitted-level-1) 1pt solid;\n",
              "  color: var(--sklearn-color-unfitted-level-1);\n",
              "}\n",
              "\n",
              ".sk-estimator-doc-link.fitted,\n",
              "a:link.sk-estimator-doc-link.fitted,\n",
              "a:visited.sk-estimator-doc-link.fitted {\n",
              "  /* fitted */\n",
              "  border: var(--sklearn-color-fitted-level-1) 1pt solid;\n",
              "  color: var(--sklearn-color-fitted-level-1);\n",
              "}\n",
              "\n",
              "/* On hover */\n",
              "div.sk-estimator:hover .sk-estimator-doc-link:hover,\n",
              ".sk-estimator-doc-link:hover,\n",
              "div.sk-label-container:hover .sk-estimator-doc-link:hover,\n",
              ".sk-estimator-doc-link:hover {\n",
              "  /* unfitted */\n",
              "  background-color: var(--sklearn-color-unfitted-level-3);\n",
              "  color: var(--sklearn-color-background);\n",
              "  text-decoration: none;\n",
              "}\n",
              "\n",
              "div.sk-estimator.fitted:hover .sk-estimator-doc-link.fitted:hover,\n",
              ".sk-estimator-doc-link.fitted:hover,\n",
              "div.sk-label-container:hover .sk-estimator-doc-link.fitted:hover,\n",
              ".sk-estimator-doc-link.fitted:hover {\n",
              "  /* fitted */\n",
              "  background-color: var(--sklearn-color-fitted-level-3);\n",
              "  color: var(--sklearn-color-background);\n",
              "  text-decoration: none;\n",
              "}\n",
              "\n",
              "/* Span, style for the box shown on hovering the info icon */\n",
              ".sk-estimator-doc-link span {\n",
              "  display: none;\n",
              "  z-index: 9999;\n",
              "  position: relative;\n",
              "  font-weight: normal;\n",
              "  right: .2ex;\n",
              "  padding: .5ex;\n",
              "  margin: .5ex;\n",
              "  width: min-content;\n",
              "  min-width: 20ex;\n",
              "  max-width: 50ex;\n",
              "  color: var(--sklearn-color-text);\n",
              "  box-shadow: 2pt 2pt 4pt #999;\n",
              "  /* unfitted */\n",
              "  background: var(--sklearn-color-unfitted-level-0);\n",
              "  border: .5pt solid var(--sklearn-color-unfitted-level-3);\n",
              "}\n",
              "\n",
              ".sk-estimator-doc-link.fitted span {\n",
              "  /* fitted */\n",
              "  background: var(--sklearn-color-fitted-level-0);\n",
              "  border: var(--sklearn-color-fitted-level-3);\n",
              "}\n",
              "\n",
              ".sk-estimator-doc-link:hover span {\n",
              "  display: block;\n",
              "}\n",
              "\n",
              "/* \"?\"-specific style due to the `<a>` HTML tag */\n",
              "\n",
              "#sk-container-id-3 a.estimator_doc_link {\n",
              "  float: right;\n",
              "  font-size: 1rem;\n",
              "  line-height: 1em;\n",
              "  font-family: monospace;\n",
              "  background-color: var(--sklearn-color-background);\n",
              "  border-radius: 1rem;\n",
              "  height: 1rem;\n",
              "  width: 1rem;\n",
              "  text-decoration: none;\n",
              "  /* unfitted */\n",
              "  color: var(--sklearn-color-unfitted-level-1);\n",
              "  border: var(--sklearn-color-unfitted-level-1) 1pt solid;\n",
              "}\n",
              "\n",
              "#sk-container-id-3 a.estimator_doc_link.fitted {\n",
              "  /* fitted */\n",
              "  border: var(--sklearn-color-fitted-level-1) 1pt solid;\n",
              "  color: var(--sklearn-color-fitted-level-1);\n",
              "}\n",
              "\n",
              "/* On hover */\n",
              "#sk-container-id-3 a.estimator_doc_link:hover {\n",
              "  /* unfitted */\n",
              "  background-color: var(--sklearn-color-unfitted-level-3);\n",
              "  color: var(--sklearn-color-background);\n",
              "  text-decoration: none;\n",
              "}\n",
              "\n",
              "#sk-container-id-3 a.estimator_doc_link.fitted:hover {\n",
              "  /* fitted */\n",
              "  background-color: var(--sklearn-color-fitted-level-3);\n",
              "}\n",
              "</style><div id=\"sk-container-id-3\" class=\"sk-top-container\"><div class=\"sk-text-repr-fallback\"><pre>RandomForestClassifier(max_depth=2)</pre><b>In a Jupyter environment, please rerun this cell to show the HTML representation or trust the notebook. <br />On GitHub, the HTML representation is unable to render, please try loading this page with nbviewer.org.</b></div><div class=\"sk-container\" hidden><div class=\"sk-item\"><div class=\"sk-estimator fitted sk-toggleable\"><input class=\"sk-toggleable__control sk-hidden--visually\" id=\"sk-estimator-id-3\" type=\"checkbox\" checked><label for=\"sk-estimator-id-3\" class=\"sk-toggleable__label fitted sk-toggleable__label-arrow\"><div><div>RandomForestClassifier</div></div><div><a class=\"sk-estimator-doc-link fitted\" rel=\"noreferrer\" target=\"_blank\" href=\"https://scikit-learn.org/1.6/modules/generated/sklearn.ensemble.RandomForestClassifier.html\">?<span>Documentation for RandomForestClassifier</span></a><span class=\"sk-estimator-doc-link fitted\">i<span>Fitted</span></span></div></label><div class=\"sk-toggleable__content fitted\"><pre>RandomForestClassifier(max_depth=2)</pre></div> </div></div></div></div>"
            ],
            "text/plain": [
              "RandomForestClassifier(max_depth=2)"
            ]
          },
          "execution_count": 17,
          "metadata": {},
          "output_type": "execute_result"
        }
      ],
      "source": [
        "from sklearn.ensemble import RandomForestClassifier\n",
        "\n",
        "\n",
        "modelo_rf = RandomForestClassifier(max_depth = 2)\n",
        "modelo_rf.fit(X2_train, y2_train)"
      ]
    },
    {
      "cell_type": "markdown",
      "metadata": {
        "id": "Gbi9oaWv2Kh_"
      },
      "source": [
        "4 - La tasa de acierto generalmente no proporciona información suficiente para entender el comportamiento del modelo. La matriz de confusión es una herramienta más completa, capaz de proporcionar los aciertos y errores del modelo para cada clase. Construye una matriz de confusión para cada uno de los modelos para evaluar el desempeño de la predicción. Para construir la matriz, usa el método predict para generar las predicciones de los valores y comparar con los valores reales de la base de datos."
      ]
    },
    {
      "cell_type": "code",
      "execution_count": 18,
      "metadata": {
        "colab": {
          "base_uri": "https://localhost:8080/",
          "height": 484
        },
        "id": "hg3JOgqR2fOx",
        "outputId": "64173a17-ebe4-4d28-a9bd-bdb366adddb0"
      },
      "outputs": [
        {
          "name": "stdout",
          "output_type": "stream",
          "text": [
            "[[52 11]\n",
            " [10 21]]\n"
          ]
        },
        {
          "data": {
            "image/png": "[encoded data removed]",
            "text/plain": [
              "<Figure size 640x480 with 2 Axes>"
            ]
          },
          "metadata": {},
          "output_type": "display_data"
        }
      ],
      "source": [
        "y2_predict = modelo_dt.predict(X2_val)\n",
        "matriz_confusion_2 = confusion_matrix(y2_val, y2_predict)\n",
        "print(matriz_confusion_2)\n",
        "visualizacion_2 = ConfusionMatrixDisplay(matriz_confusion_2, display_labels=['Diabetes NO', 'Diabetes SI'])\n",
        "visualizacion_2.plot();"
      ]
    },
    {
      "cell_type": "code",
      "execution_count": 19,
      "metadata": {
        "colab": {
          "base_uri": "https://localhost:8080/",
          "height": 484
        },
        "id": "VIbw1nfA4Has",
        "outputId": "b1264032-5e5a-436d-e518-79095d99ceac"
      },
      "outputs": [
        {
          "name": "stdout",
          "output_type": "stream",
          "text": [
            "[[56  7]\n",
            " [22  9]]\n"
          ]
        },
        {
          "data": {
            "image/png": "[encoded data removed]",
            "text/plain": [
              "<Figure size 640x480 with 2 Axes>"
            ]
          },
          "metadata": {},
          "output_type": "display_data"
        }
      ],
      "source": [
        "y3_predict = modelo_rf.predict(X2_val)\n",
        "matriz_confusion_3 = confusion_matrix(y2_val, y3_predict)\n",
        "print(matriz_confusion_3)\n",
        "visualizacion_3 = ConfusionMatrixDisplay(matriz_confusion_3, display_labels=['Diabetes NO', 'Diabetes SI'])\n",
        "visualizacion_3.plot();"
      ]
    },
    {
      "cell_type": "markdown",
      "metadata": {
        "id": "E5eeMHtf5TwQ"
      },
      "source": [
        "## <font color='dark'>Métricas de evaluación</h1>"
      ]
    },
    {
      "cell_type": "markdown",
      "metadata": {
        "id": "nP1WfyyR6XMl"
      },
      "source": [
        "### Exactitud, precisión y recall (sensibilidad)."
      ]
    },
    {
      "cell_type": "markdown",
      "metadata": {
        "id": "oE8N0NqoH6hy"
      },
      "source": [
        "<a href=\"https://ibb.co/351SbY7t\"><img src=\"https://i.ibb.co/wZypqrRD/matriz-confusion.png\" alt=\"matriz-confusion\" border=\"0\"></a>"
      ]
    },
    {
      "cell_type": "markdown",
      "metadata": {
        "id": "k0ldCSgoZiPX"
      },
      "source": [
        "<a href=\"https://imgbb.com/\"><img src=\"https://i.ibb.co/6Jp6rKyC/Captura-de-tela-2025-03-22-120744.png\" alt=\"Captura-de-tela-2025-03-22-120744\" border=\"0\"></a>"
      ]
    },
    {
      "cell_type": "code",
      "execution_count": 20,
      "metadata": {
        "id": "IIEaf2fmPmq1"
      },
      "outputs": [],
      "source": [
        "from sklearn.metrics import accuracy_score, precision_score, recall_score, f1_score"
      ]
    },
    {
      "cell_type": "code",
      "execution_count": 21,
      "metadata": {
        "colab": {
          "base_uri": "https://localhost:8080/"
        },
        "id": "QnGxEIrWPmbx",
        "outputId": "0c3b8447-138d-4eb1-d06c-5e03a6a68853"
      },
      "outputs": [
        {
          "name": "stdout",
          "output_type": "stream",
          "text": [
            "La exactitud del modelo es 0.9057573382109573\n",
            "La precisión del modelo es 0.25609756097560976\n",
            "La sensibilidad del modelo es 0.041916167664670656\n",
            "El f1 del modelo es 0.07204116638078903\n"
          ]
        }
      ],
      "source": [
        "print(f'La exactitud del modelo es {accuracy_score(y_val, y_predict)}')\n",
        "print(f'La precisión del modelo es {precision_score(y_val, y_predict)}')\n",
        "print(f'La sensibilidad del modelo es {recall_score(y_val, y_predict)}')\n",
        "print(f'El f1 del modelo es {f1_score(y_val, y_predict)}')"
      ]
    },
    {
      "cell_type": "markdown",
      "metadata": {
        "id": "I8ELhexg2jNx"
      },
      "source": [
        "### Curva ROC"
      ]
    },
    {
      "cell_type": "code",
      "execution_count": 22,
      "metadata": {
        "colab": {
          "base_uri": "https://localhost:8080/",
          "height": 421
        },
        "id": "PhUNE4Xm4MII",
        "outputId": "1a59bdd1-9912-4463-e1e6-d364007a94be"
      },
      "outputs": [
        {
          "data": {
            "text/html": [
              "<img src=\"https://raw.githubusercontent.com/dariyasydykova/open_projects/master/ROC_animation/animations/cutoff.gif\"/>"
            ],
            "text/plain": [
              "<IPython.core.display.Image object>"
            ]
          },
          "execution_count": 22,
          "metadata": {},
          "output_type": "execute_result"
        }
      ],
      "source": [
        "from IPython.display import Image\n",
        "Image(url='https://raw.githubusercontent.com/dariyasydykova/open_projects/master/ROC_animation/animations/cutoff.gif')"
      ]
    },
    {
      "cell_type": "markdown",
      "metadata": {
        "id": "XK8_7Ruy32BT"
      },
      "source": [
        "Fuente: [paulvanderlaken.com](https://paulvanderlaken.com/2019/08/16/roc-auc-precision-and-recall-visually-explained/)\n",
        "\n",
        "\n"
      ]
    },
    {
      "cell_type": "code",
      "execution_count": 23,
      "metadata": {
        "id": "FHc-8FjePhM6"
      },
      "outputs": [],
      "source": [
        "from sklearn.metrics import RocCurveDisplay, roc_auc_score"
      ]
    },
    {
      "cell_type": "code",
      "execution_count": 24,
      "metadata": {
        "colab": {
          "base_uri": "https://localhost:8080/",
          "height": 451
        },
        "id": "V6Ua2rY3PhFt",
        "outputId": "0152cffb-7023-417b-c014-6c7b13ffaa96"
      },
      "outputs": [
        {
          "data": {
            "image/png": "[encoded data removed]",
            "text/plain": [
              "<Figure size 640x480 with 1 Axes>"
            ]
          },
          "metadata": {},
          "output_type": "display_data"
        }
      ],
      "source": [
        "RocCurveDisplay.from_predictions(y_val, y_predict, name ='Árbol de decisión');"
      ]
    },
    {
      "cell_type": "code",
      "execution_count": 25,
      "metadata": {
        "colab": {
          "base_uri": "https://localhost:8080/"
        },
        "id": "LJE-yyWMPg8R",
        "outputId": "acc5651b-995d-4ab4-aec2-e68263acee0c"
      },
      "outputs": [
        {
          "name": "stdout",
          "output_type": "stream",
          "text": [
            "El área bajo la curva ROC del modelo es 0.5151369176905278\n"
          ]
        }
      ],
      "source": [
        "print(f'El área bajo la curva ROC del modelo es {roc_auc_score(y_val, y_predict)}')"
      ]
    },
    {
      "cell_type": "markdown",
      "metadata": {
        "id": "IztSEZfh7QFe"
      },
      "source": [
        "### Curva de  precisión x sensibilidad"
      ]
    },
    {
      "cell_type": "code",
      "execution_count": 26,
      "metadata": {
        "colab": {
          "base_uri": "https://localhost:8080/",
          "height": 421
        },
        "id": "EJzfjuxa3fxD",
        "outputId": "26868aa7-ebc7-4738-998f-872b6a7eeab0"
      },
      "outputs": [
        {
          "data": {
            "text/html": [
              "<img src=\"https://paulvanderlaken.com/wp-content/uploads/2019/08/roc.gif\"/>"
            ],
            "text/plain": [
              "<IPython.core.display.Image object>"
            ]
          },
          "execution_count": 26,
          "metadata": {},
          "output_type": "execute_result"
        }
      ],
      "source": [
        "Image(url='https://paulvanderlaken.com/wp-content/uploads/2019/08/roc.gif')"
      ]
    },
    {
      "cell_type": "markdown",
      "metadata": {
        "id": "bUoGCSUB4msC"
      },
      "source": [
        "Fuente: [paulvanderlaken.com](https://paulvanderlaken.com/2019/08/16/roc-auc-precision-and-recall-visually-explained/)\n"
      ]
    },
    {
      "cell_type": "code",
      "execution_count": 27,
      "metadata": {
        "id": "7t20ira6Pcds"
      },
      "outputs": [],
      "source": [
        "from sklearn.metrics import PrecisionRecallDisplay"
      ]
    },
    {
      "cell_type": "code",
      "execution_count": 28,
      "metadata": {
        "colab": {
          "base_uri": "https://localhost:8080/",
          "height": 451
        },
        "id": "Drs3Z6RTPcTc",
        "outputId": "997b1cdb-cf43-485c-d36b-29e78476ac01"
      },
      "outputs": [
        {
          "data": {
            "image/png": "[encoded data removed]",
            "text/plain": [
              "<Figure size 640x480 with 1 Axes>"
            ]
          },
          "metadata": {},
          "output_type": "display_data"
        }
      ],
      "source": [
        "PrecisionRecallDisplay.from_predictions(y_val, y_predict, name ='Árbol de decisión');"
      ]
    },
    {
      "cell_type": "code",
      "execution_count": 29,
      "metadata": {
        "id": "DmhO5H5cPcOp"
      },
      "outputs": [],
      "source": [
        "from sklearn.metrics import average_precision_score"
      ]
    },
    {
      "cell_type": "code",
      "execution_count": 30,
      "metadata": {
        "colab": {
          "base_uri": "https://localhost:8080/"
        },
        "id": "SS08sHDkPeaG",
        "outputId": "b4a83e31-d65a-4303-8744-ca54dd020b3a"
      },
      "outputs": [
        {
          "name": "stdout",
          "output_type": "stream",
          "text": [
            " El score promedio de precision vs recall es 0.0943510380247745 \n"
          ]
        }
      ],
      "source": [
        "print(f' El score promedio de precision vs recall es {average_precision_score(y_val,y_predict)} ')"
      ]
    },
    {
      "cell_type": "markdown",
      "metadata": {
        "id": "Bm2E6GEJDJLH"
      },
      "source": [
        "### Informe de métricas"
      ]
    },
    {
      "cell_type": "code",
      "execution_count": 31,
      "metadata": {
        "id": "C85qunYhPZTJ"
      },
      "outputs": [],
      "source": [
        "from sklearn.metrics import classification_report"
      ]
    },
    {
      "cell_type": "code",
      "execution_count": 32,
      "metadata": {
        "colab": {
          "base_uri": "https://localhost:8080/"
        },
        "id": "pnN6QRlYPZQR",
        "outputId": "819393b4-fc92-41e6-b942-c686f9fb075b"
      },
      "outputs": [
        {
          "name": "stdout",
          "output_type": "stream",
          "text": [
            "              precision    recall  f1-score   support\n",
            "\n",
            "           0       0.92      0.99      0.95     10479\n",
            "           1       0.26      0.04      0.07      1002\n",
            "\n",
            "    accuracy                           0.91     11481\n",
            "   macro avg       0.59      0.52      0.51     11481\n",
            "weighted avg       0.86      0.91      0.87     11481\n",
            "\n"
          ]
        }
      ],
      "source": [
        "print(classification_report(y_val, y_predict))"
      ]
    },
    {
      "cell_type": "markdown",
      "metadata": {
        "id": "4SEg9BZC5l7s"
      },
      "source": [
        "### Ejercicio"
      ]
    },
    {
      "cell_type": "markdown",
      "metadata": {
        "id": "M7GHmadd5tLI"
      },
      "source": [
        "1 - Para una evaluación completa de un modelo de clasificación, podemos explorar métricas que evalúan la tasa de acierto general y también para cada clase de la variable objetivo de forma individual. Extrae las métricas de precisión, recall, precisión y F1-Score de los modelos de clasificación generados en el desafío de la clase 1. La biblioteca Scikit-Learn tiene funciones para calcular cada una de las métricas, solo necesitas importar y utilizar como parámetros los valores reales y previstos por el modelo."
      ]
    },
    {
      "cell_type": "code",
      "execution_count": 33,
      "metadata": {
        "colab": {
          "base_uri": "https://localhost:8080/"
        },
        "id": "fCwYC6Os58j4",
        "outputId": "13659808-c45e-48be-fc00-ca1c4cf02e49"
      },
      "outputs": [
        {
          "name": "stdout",
          "output_type": "stream",
          "text": [
            "La exactitud del modelo \"Decission Tree\" es 0.776595744680851\n",
            "La precisión del modelo \"Decission Tree\" es 0.65625\n",
            "La sensibilidad del modelo \"Decission Tree\" es 0.6774193548387096\n",
            "El f1 del modelo \"Decission Tree\" es 0.6666666666666666\n"
          ]
        }
      ],
      "source": [
        "print(f'La exactitud del modelo \"Decission Tree\" es {accuracy_score(y2_val, y2_predict)}')\n",
        "print(f'La precisión del modelo \"Decission Tree\" es {precision_score(y2_val, y2_predict)}')\n",
        "print(f'La sensibilidad del modelo \"Decission Tree\" es {recall_score(y2_val, y2_predict)}')\n",
        "print(f'El f1 del modelo \"Decission Tree\" es {f1_score(y2_val, y2_predict)}')"
      ]
    },
    {
      "cell_type": "code",
      "execution_count": 34,
      "metadata": {
        "colab": {
          "base_uri": "https://localhost:8080/"
        },
        "id": "X5W4qgs16ORr",
        "outputId": "76317af1-9b0a-412c-faff-3d0a32991f66"
      },
      "outputs": [
        {
          "name": "stdout",
          "output_type": "stream",
          "text": [
            "La exactitud del modelo \"Random Forest\" es 0.6914893617021277\n",
            "La precisión del modelo \"Random Forest\" es 0.5625\n",
            "La sensibilidad del modelo \"Random Forest\" es 0.2903225806451613\n",
            "El f1 del modelo \"Random Forest\" es 0.3829787234042553\n"
          ]
        }
      ],
      "source": [
        "print(f'La exactitud del modelo \"Random Forest\" es {accuracy_score(y2_val, y3_predict)}')\n",
        "print(f'La precisión del modelo \"Random Forest\" es {precision_score(y2_val, y3_predict)}')\n",
        "print(f'La sensibilidad del modelo \"Random Forest\" es {recall_score(y2_val, y3_predict)}')\n",
        "print(f'El f1 del modelo \"Random Forest\" es {f1_score(y2_val, y3_predict)}')"
      ]
    },
    {
      "cell_type": "markdown",
      "metadata": {
        "id": "Qz8yJGFG6hf1"
      },
      "source": [
        "2 - Además de métricas numéricas, se pueden explorar gráficos para evaluar el rendimiento de un modelo y comprender si puede diferenciar bien una clase de otra. Obtén la curva ROC y la métrica AUC de los modelos de clasificación generados en el desafío de la clase 1, comparando las curvas en el mismo gráfico. La curva ROC se puede generar usando el método RocCurveDisplay.from_predictions."
      ]
    },
    {
      "cell_type": "code",
      "execution_count": 35,
      "metadata": {
        "colab": {
          "base_uri": "https://localhost:8080/",
          "height": 451
        },
        "id": "Bb_UNVCM6u3h",
        "outputId": "3face121-bfa1-4dd8-9d15-80140f0cf406"
      },
      "outputs": [
        {
          "data": {
            "image/png": "[encoded data removed]",
            "text/plain": [
              "<Figure size 640x480 with 1 Axes>"
            ]
          },
          "metadata": {},
          "output_type": "display_data"
        }
      ],
      "source": [
        "RocCurveDisplay.from_predictions(y2_val, y2_predict, name ='Decission Tree');"
      ]
    },
    {
      "cell_type": "code",
      "execution_count": 36,
      "metadata": {
        "colab": {
          "base_uri": "https://localhost:8080/",
          "height": 451
        },
        "id": "1uak6Bxz7EEL",
        "outputId": "fd740144-f513-4909-9c44-c66cee533891"
      },
      "outputs": [
        {
          "data": {
            "image/png": "[encoded data removed]",
            "text/plain": [
              "<Figure size 640x480 with 1 Axes>"
            ]
          },
          "metadata": {},
          "output_type": "display_data"
        }
      ],
      "source": [
        "RocCurveDisplay.from_predictions(y2_val, y3_predict, name ='Random Forest');"
      ]
    },
    {
      "cell_type": "markdown",
      "metadata": {
        "id": "5-rI1AJ88KnT"
      },
      "source": [
        "3 - Además de la curva ROC, la curva de precisión x recall se puede usar para evaluar el rendimiento de modelos, siendo más interesante para datos desbalanceados. Obtén la curva de precisión x recall y la métrica AP de los modelos de clasificación generados en el desafío de la clase 1, comparando las curvas en el mismo gráfico. La curva de precisión x recall se puede generar usando el método PrecisionRecallDisplay.from_predictions."
      ]
    },
    {
      "cell_type": "code",
      "execution_count": 37,
      "metadata": {
        "colab": {
          "base_uri": "https://localhost:8080/",
          "height": 451
        },
        "id": "X3D8ld5n66ib",
        "outputId": "9facf515-780d-4d9b-d680-ec31c2b559b9"
      },
      "outputs": [
        {
          "data": {
            "image/png": "[encoded data removed]",
            "text/plain": [
              "<Figure size 640x480 with 1 Axes>"
            ]
          },
          "metadata": {},
          "output_type": "display_data"
        }
      ],
      "source": [
        "PrecisionRecallDisplay.from_predictions(y2_val, y2_predict, name ='Decission Tree');"
      ]
    },
    {
      "cell_type": "code",
      "execution_count": 38,
      "metadata": {
        "colab": {
          "base_uri": "https://localhost:8080/"
        },
        "id": "p8k9DPfG7c7n",
        "outputId": "a5ab4494-452f-4e86-fb1e-5a9e3f31e285"
      },
      "outputs": [
        {
          "name": "stdout",
          "output_type": "stream",
          "text": [
            " El score promedio de precision vs recall es 0.5509394303363074 \n"
          ]
        }
      ],
      "source": [
        "print(f' El score promedio de precision vs recall es {average_precision_score(y2_val,y2_predict)} ')"
      ]
    },
    {
      "cell_type": "code",
      "execution_count": 39,
      "metadata": {
        "colab": {
          "base_uri": "https://localhost:8080/",
          "height": 451
        },
        "id": "lJMUvvIu7NGe",
        "outputId": "a51e64ea-dc79-45a1-eb92-f75141cd63e6"
      },
      "outputs": [
        {
          "data": {
            "image/png": "[encoded data removed]",
            "text/plain": [
              "<Figure size 640x480 with 1 Axes>"
            ]
          },
          "metadata": {},
          "output_type": "display_data"
        }
      ],
      "source": [
        "PrecisionRecallDisplay.from_predictions(y2_val, y3_predict, name ='Random Forest');"
      ]
    },
    {
      "cell_type": "code",
      "execution_count": 40,
      "metadata": {
        "colab": {
          "base_uri": "https://localhost:8080/"
        },
        "id": "ILeNwBvR7szr",
        "outputId": "6ed0ae20-a16e-46f8-a4b7-5870f81c36cc"
      },
      "outputs": [
        {
          "name": "stdout",
          "output_type": "stream",
          "text": [
            " El score promedio de precision vs recall es 0.3973490048043926 \n"
          ]
        }
      ],
      "source": [
        "print(f' El score promedio de precision vs recall es {average_precision_score(y2_val,y3_predict)} ')"
      ]
    },
    {
      "cell_type": "markdown",
      "metadata": {
        "id": "X18Ay2f_9R8f"
      },
      "source": [
        "4 - Un resumen de las principales métricas de clasificación puede ser muy útil para resumir la información y generar insights de forma rápida. Genera los informes de métricas de los modelos de clasificación construidos en el desafío de la clase 1. El informe de métricas se puede generar a partir de la función classification_report de la biblioteca Scikit-Learn."
      ]
    },
    {
      "cell_type": "code",
      "execution_count": 41,
      "metadata": {
        "colab": {
          "base_uri": "https://localhost:8080/"
        },
        "id": "SYnQoajb9arC",
        "outputId": "b4f4e7d4-8bfd-46a1-a8fd-1c456c0c9a47"
      },
      "outputs": [
        {
          "name": "stdout",
          "output_type": "stream",
          "text": [
            "========= Metricas del TREE DECISSION MODEL =========\n",
            "              precision    recall  f1-score   support\n",
            "\n",
            "           0       0.84      0.83      0.83        63\n",
            "           1       0.66      0.68      0.67        31\n",
            "\n",
            "    accuracy                           0.78        94\n",
            "   macro avg       0.75      0.75      0.75        94\n",
            "weighted avg       0.78      0.78      0.78        94\n",
            "=====================================================\n",
            "\n",
            "========= Metricas del RANDOM FOREST MODEL =========\n",
            "              precision    recall  f1-score   support\n",
            "\n",
            "           0       0.72      0.89      0.79        63\n",
            "           1       0.56      0.29      0.38        31\n",
            "\n",
            "    accuracy                           0.69        94\n",
            "   macro avg       0.64      0.59      0.59        94\n",
            "weighted avg       0.67      0.69      0.66        94\n",
            "=====================================================\n"
          ]
        }
      ],
      "source": [
        "print(f'========= Metricas del TREE DECISSION MODEL =========\\n{classification_report(y2_val, y2_predict)}=====================================================\\n\\n========= Metricas del RANDOM FOREST MODEL =========\\n{classification_report(y2_val, y3_predict)}=====================================================')"
      ]
    },
    {
      "cell_type": "markdown",
      "metadata": {
        "id": "GI6qC0yp-rnO"
      },
      "source": [
        "#### Analisis chat GPT"
      ]
    },
    {
      "cell_type": "markdown",
      "metadata": {
        "id": "14ZjZ0K9-0LF"
      },
      "source": [
        "##### 📊 Comparación de modelos: Árbol de Decisión vs. Bosque Aleatorio (Random Forest)\n"
      ]
    },
    {
      "cell_type": "markdown",
      "metadata": {
        "id": "H73N98AhBJUs"
      },
      "source": [
        "🔍 Métricas analizadas:\n",
        "\n",
        "| Métrica     | Descripción                                                                 |\n",
        "|-------------|------------------------------------------------------------------------------|\n",
        "| **Precision** | De las predicciones positivas, ¿cuántas eran realmente positivas?           |\n",
        "| **Recall**    | De todos los casos positivos reales, ¿cuántos fueron detectados por el modelo? |\n",
        "| **F1-score**  | Promedio armónico entre precisión y recall. Equilibra ambos.                |\n",
        "| **Support**   | Cantidad de ejemplos reales en cada clase del conjunto de prueba.           |\n",
        "\n",
        "---\n",
        "\n",
        "🌲 Modelo: Árbol de Decisión\n",
        "\n",
        "| Clase | Precision | Recall | F1-Score | Support |\n",
        "|-------|-----------|--------|----------|---------|\n",
        "| 0     | 0.84      | 0.83   | 0.83     | 63      |\n",
        "| 1     | 0.66      | 0.68   | 0.67     | 31      |\n",
        "| **Accuracy** |        |        | **0.78** | 94      |\n",
        "\n",
        "- Buen equilibrio entre **precisión** y **recall** en ambas clases.\n",
        "- Alto rendimiento en la clase positiva (1), lo cual es crítico en muchos escenarios.\n",
        "- **Macro avg = 0.75** → promedio simple entre clases.\n",
        "- **Weighted avg = 0.78** → promedio ponderado por cantidad de casos.\n",
        "\n",
        "---\n",
        "\n",
        "🌳 Modelo: Random Forest\n",
        "\n",
        "| Clase | Precision | Recall | F1-Score | Support |\n",
        "|-------|-----------|--------|----------|---------|\n",
        "| 0     | 0.71      | 0.92   | 0.80     | 63      |\n",
        "| 1     | 0.58      | 0.23   | 0.33     | 31      |\n",
        "| **Accuracy** |        |        | **0.69** | 94      |\n",
        "\n",
        "- Excelente recall en clase 0, pero **muy bajo recall en clase 1** (solo 23%).\n",
        "- F1-score bajo para la clase 1 (0.33), indicando mal balance.\n",
        "- **Macro avg = 0.60**, significativamente más bajo que el árbol de decisión.\n",
        "\n",
        "---\n",
        "\n",
        "✅ Conclusión\n",
        "\n",
        "El modelo **Árbol de Decisión** presenta un rendimiento superior:\n",
        "\n",
        "- Mejor **balance entre clases**.\n",
        "- Mayor **precisión, recall y F1-score** en la clase positiva (1).\n",
        "- Mejor **accuracy global (0.78 vs 0.70)**.\n",
        "- Mejores promedios generales (**macro y weighted avg**).\n",
        "\n",
        "🔎 Si la clase 1 representa un caso importante (como detectar churn, fraudes, etc.), el **Árbol de Decisión es claramente preferible en este escenario.**"
      ]
    },
    {
      "cell_type": "markdown",
      "metadata": {
        "id": "SuxCy_oZZQxE"
      },
      "source": [
        "## <font color='dark'> Validación cruzada</h1>"
      ]
    },
    {
      "cell_type": "markdown",
      "metadata": {
        "id": "17q2T0iRnzSg"
      },
      "source": [
        "### Usando KFold"
      ]
    },
    {
      "cell_type": "markdown",
      "metadata": {
        "id": "zjfYnDWJ6C2A"
      },
      "source": [
        "La validación del modelo de clasificación a partir de la separación de los datos en conjuntos de entrenamiento y validación hace que el resultado dependa en gran medida de esta división. Puede suceder que, de forma aleatoria, el patrón de los datos de validación sea diferente al de los datos de entrenamiento, lo que podría llevar a obtener un resultado mucho mejor o mucho peor que la realidad simplemente por suerte o mala suerte.  \n",
        "\n",
        "Teniendo esto en cuenta, es posible utilizar la **validación cruzada**, una estrategia más consistente y ampliamente utilizada en proyectos de *machine learning*.  \n",
        "\n",
        "En la validación cruzada, en lugar de separar los datos en entrenamiento y validación una sola vez, se dividen en varias partes de igual tamaño. En cada una de estas divisiones, se usa una parte para validación y todas las demás para entrenamiento. Este proceso se repite hasta que todas las partes hayan sido utilizadas tanto para validación como para entrenamiento.  \n",
        "\n",
        "Se generará un modelo para cada una de estas divisiones y la evaluación del desempeño se realizará promediando la métrica de cada modelo. Esto elimina la dependencia de la separación de los datos, ya que hay una mayor variación en la selección de los mismos y se obtiene un valor medio.  \n",
        "\n",
        "Generalmente, se utilizan 5 o 10 partes. Un número mayor no suele ser necesario, ya que implica un procesamiento más costoso, y valores menores ya ayudan a mitigar el problema de la selección de los datos."
      ]
    },
    {
      "cell_type": "markdown",
      "metadata": {
        "id": "oSboV-QNMG__"
      },
      "source": [
        "<a href=\"https://ibb.co/KcBtshJR\"><img src=\"https://i.ibb.co/nq4X1mFZ/train-y-validacion.png\" alt=\"train-y-validacion\" border=\"0\"></a>"
      ]
    },
    {
      "cell_type": "code",
      "execution_count": 42,
      "metadata": {
        "id": "TU8HYdzmPI7P"
      },
      "outputs": [],
      "source": [
        "from sklearn.model_selection import KFold, cross_val_score, StratifiedKFold, cross_validate"
      ]
    },
    {
      "cell_type": "code",
      "execution_count": 43,
      "metadata": {
        "colab": {
          "base_uri": "https://localhost:8080/"
        },
        "id": "McSadnzDPI4G",
        "outputId": "c28f7713-fd77-4640-fdae-addcc9071a71"
      },
      "outputs": [
        {
          "data": {
            "text/plain": [
              "{'fit_time': array([0.33656263, 0.30524755, 0.30738664, 0.33710504, 0.31858063]),\n",
              " 'score_time': array([0.00474501, 0.00671864, 0.0068655 , 0.00370407, 0.00730228]),\n",
              " 'test_score': array([0.91311922, 0.90777439, 0.90722997, 0.91332753, 0.89917247])}"
            ]
          },
          "execution_count": 43,
          "metadata": {},
          "output_type": "execute_result"
        }
      ],
      "source": [
        "modelo = DecisionTreeClassifier(max_depth = 10)\n",
        "kf = KFold(n_splits=5, shuffle=True, random_state=5)\n",
        "cv = cross_validate(modelo, X, y, cv=kf)\n",
        "cv"
      ]
    },
    {
      "cell_type": "code",
      "execution_count": 44,
      "metadata": {
        "colab": {
          "base_uri": "https://localhost:8080/"
        },
        "id": "o5oZ8-lhPIy_",
        "outputId": "4876f3ff-9ed2-4a21-85c6-1f8f48605ae1"
      },
      "outputs": [
        {
          "data": {
            "text/plain": [
              "array([0.91311922, 0.90777439, 0.90722997, 0.91332753, 0.89917247])"
            ]
          },
          "execution_count": 44,
          "metadata": {},
          "output_type": "execute_result"
        }
      ],
      "source": [
        "cv['test_score']"
      ]
    },
    {
      "cell_type": "code",
      "execution_count": 45,
      "metadata": {
        "colab": {
          "base_uri": "https://localhost:8080/"
        },
        "id": "Ii8wJO4EI8ww",
        "outputId": "36067005-21ee-4169-fa30-1a4491675b9e"
      },
      "outputs": [
        {
          "name": "stdout",
          "output_type": "stream",
          "text": [
            "El promedio de la exactitud es de: 0.9081247143027851\n",
            "El desvío típico es de: 0.0051590737746007136\n",
            "El intervalo de confianza es: [0.8978065667535836, 0.9184428618519865]\n"
          ]
        }
      ],
      "source": [
        "promedio = cv['test_score'].mean()\n",
        "desvio_std = cv['test_score'].std()\n",
        "print(f'El promedio de la exactitud es de: {promedio}')\n",
        "print(f'El desvío típico es de: {desvio_std}')\n",
        "print(f'El intervalo de confianza es: [{promedio-2*desvio_std}, {min (promedio+2*desvio_std,1)}]')"
      ]
    },
    {
      "cell_type": "markdown",
      "metadata": {
        "id": "GAHrtLM2OCjO"
      },
      "source": [
        "### Validación cruzada con sensibilidad"
      ]
    },
    {
      "cell_type": "code",
      "execution_count": 46,
      "metadata": {
        "id": "Ywfsoe3_PLYZ"
      },
      "outputs": [],
      "source": [
        "def intervalo_de_confianza(resultados):\n",
        "    promedio = resultados.mean()\n",
        "    desvio_std = resultados.std()\n",
        "    return f'El intervalo de confianza es: [{promedio-2*desvio_std}, {min (promedio+2*desvio_std,1)}]'"
      ]
    },
    {
      "cell_type": "code",
      "execution_count": 47,
      "metadata": {
        "colab": {
          "base_uri": "https://localhost:8080/"
        },
        "id": "PV3m-6IxPLMf",
        "outputId": "e873f633-83d9-4826-954c-063398719dfd"
      },
      "outputs": [
        {
          "data": {
            "text/plain": [
              "{'fit_time': array([0.39779878, 0.31429315, 0.32324982, 0.30786633, 0.31378675]),\n",
              " 'score_time': array([0.01445889, 0.00863671, 0.00683188, 0.00704336, 0.01072645]),\n",
              " 'test_score': array([0.02774108, 0.01980198, 0.01845018, 0.01305483, 0.02427746])}"
            ]
          },
          "execution_count": 47,
          "metadata": {},
          "output_type": "execute_result"
        }
      ],
      "source": [
        "modelo = DecisionTreeClassifier(max_depth = 10)\n",
        "kf = KFold(n_splits=5, shuffle=True, random_state=5)\n",
        "cv = cross_validate(modelo, X, y, cv=kf, scoring='recall')\n",
        "cv"
      ]
    },
    {
      "cell_type": "code",
      "execution_count": 48,
      "metadata": {
        "colab": {
          "base_uri": "https://localhost:8080/",
          "height": 35
        },
        "id": "Y-gpgU7pPLJv",
        "outputId": "cd2dea5e-8585-464a-cb4b-f02140f4458c"
      },
      "outputs": [
        {
          "data": {
            "text/plain": [
              "'El intervalo de confianza es: [0.010597905148535605, 0.030732308794552236]'"
            ]
          },
          "execution_count": 48,
          "metadata": {},
          "output_type": "execute_result"
        }
      ],
      "source": [
        "intervalo_de_confianza(cv['test_score'])"
      ]
    },
    {
      "cell_type": "markdown",
      "metadata": {
        "id": "-FAOYtNen4qJ"
      },
      "source": [
        "### Estratificando los datos"
      ]
    },
    {
      "cell_type": "code",
      "execution_count": 49,
      "metadata": {
        "id": "G6bPA6vaPN1A"
      },
      "outputs": [],
      "source": [
        "modelo = DecisionTreeClassifier(max_depth = 10)\n",
        "skf = StratifiedKFold(n_splits=5, shuffle=True, random_state=5)\n",
        "cv = cross_validate(modelo, X, y, cv=skf, scoring='recall')"
      ]
    },
    {
      "cell_type": "code",
      "execution_count": 50,
      "metadata": {
        "colab": {
          "base_uri": "https://localhost:8080/",
          "height": 35
        },
        "id": "HONIpY1BPNzd",
        "outputId": "c8faab3c-b9de-4b6c-fd14-c8c0ba9889d4"
      },
      "outputs": [
        {
          "data": {
            "text/plain": [
              "'El intervalo de confianza es: [0.021134082679553183, 0.035738716595667006]'"
            ]
          },
          "execution_count": 50,
          "metadata": {},
          "output_type": "execute_result"
        }
      ],
      "source": [
        "intervalo_de_confianza(cv['test_score'])"
      ]
    },
    {
      "cell_type": "markdown",
      "metadata": {
        "id": "MJwhLB7LMB3f"
      },
      "source": [
        "### Ejercicio"
      ]
    },
    {
      "cell_type": "markdown",
      "metadata": {
        "id": "XaJO57JYMEgS"
      },
      "source": [
        "1 - En el proceso de validación cruzada, se generan diferentes modelos para cada división realizada en los datos y, en consecuencia, diferentes valores de métricas de evaluación. Para encontrar un resultado promedio de las métricas, se puede construir un intervalo de confianza a partir de la media y la desviación estándar de las métricas. Crea una función para calcular el intervalo de confianza de los resultados de una validación cruzada con 2 desviaciones estándar. La función necesita 2 parámetros: uno para recibir una lista con los resultados de las métricas de la validación cruzada y otro para recibir el nombre del algoritmo. Para generar el intervalo de confianza, extrae la media de los resultados de la lista y la desviación estándar. El intervalo de confianza debe ser presentado en un print con el valor mínimo siendo la media restada de 2 desviaciones estándar y el valor máximo siendo la media sumada de 2 desviaciones estándar. Ejemplo de retorno de la función:\n",
        "\n",
        "Intervalo de confianza (\"nombre del modelo\"): [\"valor mínimo del intervalo\", \"valor máximo del intervalo\"]"
      ]
    },
    {
      "cell_type": "code",
      "execution_count": 51,
      "metadata": {
        "id": "QaYwymTmM0vn"
      },
      "outputs": [],
      "source": [
        "def intervalo_de_confianza(resultados, nombre_modelo):\n",
        "    promedio = resultados.mean()\n",
        "    desvio_std = resultados.std()\n",
        "    return f'El intervalo de confianza del modelo \"{nombre_modelo}\" es: [{promedio-2*desvio_std}, {min (promedio+2*desvio_std,1)}]'"
      ]
    },
    {
      "cell_type": "markdown",
      "metadata": {
        "id": "FitBHTTXNRGQ"
      },
      "source": [
        "2 - KFold es la estrategia más simple de validación cruzada, que permite la división aleatoria de los datos en k partes, siendo utilizada una parte para validación y el resto para entrenamiento del modelo. El proceso de creación de modelos se repite hasta que todas las partes son utilizadas como validación. Sabiendo esto, evalúa el desempeño de los modelos con un intervalo de confianza utilizando la validación cruzada con el método KFold, usando 10 partes, con el uso del parámetro n_splits y mezclando los datos antes de la separación con el parámetro shuffle. Usa el método cross_val_score que no retorna el tiempo de ejecución, solo las métricas."
      ]
    },
    {
      "cell_type": "code",
      "execution_count": 52,
      "metadata": {
        "colab": {
          "base_uri": "https://localhost:8080/"
        },
        "id": "LCQ-WLssOhLu",
        "outputId": "fec463cb-38ea-4a96-bcd9-356985ce5c63"
      },
      "outputs": [
        {
          "name": "stdout",
          "output_type": "stream",
          "text": [
            "El intervalo de confianza del modelo \"Decision Tree\" es: [0.24650294120233524, 0.76371073401134]\n",
            "El intervalo de confianza del modelo \"Random Forest\" es: [-0.013683019346721559, 0.5389150095787117]\n"
          ]
        }
      ],
      "source": [
        "modelo_dt = DecisionTreeClassifier(max_depth = 3)\n",
        "kf2 = KFold(n_splits=10, shuffle=True, random_state=5)\n",
        "cv2 = cross_val_score(modelo_dt, X2, y2, cv=kf2, scoring='recall')\n",
        "print (intervalo_de_confianza(cv2, 'Decision Tree'))\n",
        "\n",
        "modelo_rf = RandomForestClassifier(max_depth = 2)\n",
        "kf3 = KFold(n_splits=10, shuffle=True, random_state=5)\n",
        "cv3 = cross_val_score(modelo_rf, X2, y2, cv=kf3, scoring='recall')\n",
        "print (intervalo_de_confianza(cv3, 'Random Forest'))"
      ]
    },
    {
      "cell_type": "markdown",
      "metadata": {
        "id": "LVzI2FrgPq3s"
      },
      "source": [
        "3 - En el proceso de división de datos con el KFold aleatorio, puede ser que la proporción de cada categoría de la variable objetivo no se mantenga en cada una de las partes de los datos. Para mantener esa proporción en cada una de las partes, podemos utilizar el KFold estratificado, haciendo que el proceso de validación de datos sea mucho más consistente. Evalúa el desempeño de los modelos con un intervalo de confianza utilizando la validación cruzada (cross_val_score) con el método StratifiedKFold, usando el parámetro n_splits y mezclando los datos antes de la separación con el parámetro shuffle y evaluando la métrica F1-Score usando el parámetro scoring."
      ]
    },
    {
      "cell_type": "code",
      "execution_count": 53,
      "metadata": {
        "colab": {
          "base_uri": "https://localhost:8080/"
        },
        "id": "6a0NBgA6QB5E",
        "outputId": "a423c453-593d-4bb0-e92e-c89742ee5029"
      },
      "outputs": [
        {
          "name": "stdout",
          "output_type": "stream",
          "text": [
            "El intervalo de confianza del modelo \"Decision Tree\" es: [0.271659875902482, 0.7462406274736961]\n",
            "El intervalo de confianza del modelo \"Random Forest\" es: [-0.00399057098979777, 0.6470314211971577]\n"
          ]
        }
      ],
      "source": [
        "modelo_dt = DecisionTreeClassifier(max_depth = 3)\n",
        "skf2 = StratifiedKFold(n_splits=10, shuffle=True, random_state=5)\n",
        "cv2 = cross_val_score(modelo_dt, X2, y2, cv=skf2, scoring='f1')\n",
        "print (intervalo_de_confianza(cv2, 'Decision Tree'))\n",
        "\n",
        "modelo_rf = RandomForestClassifier(max_depth = 2)\n",
        "skf3 = StratifiedKFold(n_splits=10, shuffle=True, random_state=5)\n",
        "cv3 = cross_val_score(modelo_rf, X2, y2, cv=skf3, scoring='f1')\n",
        "print (intervalo_de_confianza(cv3, 'Random Forest'))"
      ]
    },
    {
      "cell_type": "markdown",
      "metadata": {
        "id": "enM01wcKQ9wC"
      },
      "source": [
        "4 - En conjuntos de datos con pocos registros (pocas filas), las estrategias de separación de los datos para validación pueden hacer que quede poca información en los datos de entrenamiento, haciendo que el modelo no comprenda bien el patrón de los datos. El LeaveOneOut es una estrategia para sortear este problema, utilizando solo un registro como dato de validación. Evalúa el desempeño de los modelos utilizando la validación cruzada (cross_val_score) con el método LeaveOneOut."
      ]
    },
    {
      "cell_type": "code",
      "execution_count": 54,
      "metadata": {
        "id": "IDXm5wKpRlJy"
      },
      "outputs": [],
      "source": [
        "# Redefiniendo las variables para poder ejecutar LeavOneOut\n",
        "\n",
        "X_pequeño = X.sample(n=100, random_state=42)\n",
        "y_pequeño = y.loc[X_pequeño.index]\n"
      ]
    },
    {
      "cell_type": "code",
      "execution_count": 55,
      "metadata": {
        "colab": {
          "base_uri": "https://localhost:8080/"
        },
        "id": "P7uHkgYkSmE3",
        "outputId": "d64f6af3-a1e1-4473-967f-844c5db031cd"
      },
      "outputs": [
        {
          "name": "stdout",
          "output_type": "stream",
          "text": [
            "Tasa de acierto con Leave-One-Out (100 muestras): 0.8800\n"
          ]
        }
      ],
      "source": [
        "from sklearn.model_selection import LeaveOneOut, cross_val_score\n",
        "\n",
        "modelo2 = DecisionTreeClassifier(max_depth=3)\n",
        "loo = LeaveOneOut()\n",
        "\n",
        "resultados = cross_val_score(modelo_dt, X_pequeño, y_pequeño, cv=loo, scoring='accuracy')\n",
        "print(f\"Tasa de acierto con Leave-One-Out (100 muestras): {resultados.mean():.4f}\")"
      ]
    },
    {
      "cell_type": "markdown",
      "metadata": {
        "id": "yaVwNb1kn8sX"
      },
      "source": [
        "## <font color='dark'>Balanceo de los datos</h1>"
      ]
    },
    {
      "cell_type": "markdown",
      "metadata": {
        "id": "4eYKxWJd6g6w"
      },
      "source": [
        "### Oversampling"
      ]
    },
    {
      "cell_type": "markdown",
      "metadata": {
        "id": "N0MJ7hGUmL4l"
      },
      "source": [
        "https://imbalanced-learn.org/stable/references/generated/imblearn.over_sampling.SMOTE.html#id1"
      ]
    },
    {
      "cell_type": "code",
      "execution_count": 56,
      "metadata": {
        "id": "cO0Dx5xAO4B5"
      },
      "outputs": [],
      "source": [
        "from imblearn.over_sampling import SMOTE"
      ]
    },
    {
      "cell_type": "code",
      "execution_count": 57,
      "metadata": {
        "id": "h6DQqcttO3_c"
      },
      "outputs": [],
      "source": [
        "oversampling = SMOTE()"
      ]
    },
    {
      "cell_type": "code",
      "execution_count": 58,
      "metadata": {
        "id": "7Lp4GoMRO355"
      },
      "outputs": [],
      "source": [
        "x_balanceada, y_balnanceada = oversampling.fit_resample(X, y)"
      ]
    },
    {
      "cell_type": "code",
      "execution_count": 59,
      "metadata": {
        "id": "Tu53GkxVYssw"
      },
      "outputs": [],
      "source": [
        "modelo = DecisionTreeClassifier(max_depth = 10)\n",
        "skf = StratifiedKFold(n_splits=5, shuffle=True, random_state=5)\n",
        "cv = cross_validate(modelo, x_balanceada, y_balnanceada, cv=skf, scoring='recall')"
      ]
    },
    {
      "cell_type": "code",
      "execution_count": 60,
      "metadata": {
        "colab": {
          "base_uri": "https://localhost:8080/",
          "height": 35
        },
        "id": "_7o9l2ibY5JG",
        "outputId": "c05dcb3a-cb8d-46cc-df67-1291e3398545"
      },
      "outputs": [
        {
          "data": {
            "text/plain": [
              "'El intervalo de confianza del modelo \"Modelo Balanceado\" es: [0.7256562144728895, 0.7718619957486639]'"
            ]
          },
          "execution_count": 60,
          "metadata": {},
          "output_type": "execute_result"
        }
      ],
      "source": [
        "intervalo_de_confianza(cv['test_score'], \"Modelo Balanceado\")"
      ]
    },
    {
      "cell_type": "markdown",
      "metadata": {
        "id": "fHSNXznm6ia-"
      },
      "source": [
        "### Pipeline para validación"
      ]
    },
    {
      "cell_type": "code",
      "execution_count": 61,
      "metadata": {
        "id": "DaoAbR84O44S"
      },
      "outputs": [],
      "source": [
        "from imblearn.pipeline import Pipeline as imbPipeline"
      ]
    },
    {
      "cell_type": "code",
      "execution_count": 62,
      "metadata": {
        "id": "7UezUduWO41c"
      },
      "outputs": [],
      "source": [
        "modelo = DecisionTreeClassifier(max_depth = 10)\n",
        "pipeline = imbPipeline([('oversampling', SMOTE()), ('arbol', modelo)])\n",
        "skf = StratifiedKFold(n_splits=5, shuffle=True, random_state=5)\n",
        "cv = cross_validate(pipeline, X, y, cv=skf, scoring='recall')"
      ]
    },
    {
      "cell_type": "code",
      "execution_count": 63,
      "metadata": {
        "colab": {
          "base_uri": "https://localhost:8080/",
          "height": 35
        },
        "id": "b7Z-pe6wO4yN",
        "outputId": "f42d50a0-5e4c-4288-eabb-1ea69d944c1b"
      },
      "outputs": [
        {
          "data": {
            "text/plain": [
              "'El intervalo de confianza del modelo \"Modelo oversampled con Pipeline\" es: [0.20304920258629422, 0.316803475331894]'"
            ]
          },
          "execution_count": 63,
          "metadata": {},
          "output_type": "execute_result"
        }
      ],
      "source": [
        "intervalo_de_confianza(cv['test_score'], \"Modelo oversampled con Pipeline\")"
      ]
    },
    {
      "cell_type": "markdown",
      "metadata": {
        "id": "66PlvwjX6kFv"
      },
      "source": [
        "### Undersampling"
      ]
    },
    {
      "cell_type": "markdown",
      "metadata": {
        "id": "Fh6VZN5Fx7wl"
      },
      "source": [
        "https://imbalanced-learn.org/stable/references/generated/imblearn.under_sampling.NearMiss.html"
      ]
    },
    {
      "cell_type": "code",
      "execution_count": 64,
      "metadata": {
        "id": "lUn59uqAO63N"
      },
      "outputs": [],
      "source": [
        "from imblearn.under_sampling import NearMiss"
      ]
    },
    {
      "cell_type": "code",
      "execution_count": 65,
      "metadata": {
        "id": "pOUKHwqRO6zb"
      },
      "outputs": [],
      "source": [
        "modelo = DecisionTreeClassifier(max_depth = 10)\n",
        "pipeline = imbPipeline([('undersample', NearMiss(version = 3)), ('arbol', modelo)])\n",
        "skf = StratifiedKFold(n_splits=5, shuffle=True, random_state=5)\n",
        "cv = cross_validate(pipeline, X, y, cv=skf, scoring='recall')"
      ]
    },
    {
      "cell_type": "code",
      "execution_count": 66,
      "metadata": {
        "colab": {
          "base_uri": "https://localhost:8080/",
          "height": 53
        },
        "id": "ykn9H4kFO6so",
        "outputId": "1ed60de7-3a12-4e92-e02d-375ae4acd38d"
      },
      "outputs": [
        {
          "data": {
            "text/plain": [
              "'El intervalo de confianza del modelo \"Modelo undersampled con Pipeline\" es: [0.6223296718620448, 0.6991792898161566]'"
            ]
          },
          "execution_count": 66,
          "metadata": {},
          "output_type": "execute_result"
        }
      ],
      "source": [
        "intervalo_de_confianza(cv['test_score'], \"Modelo undersampled con Pipeline\")"
      ]
    },
    {
      "cell_type": "markdown",
      "metadata": {
        "id": "EP-44U0eHt-a"
      },
      "source": [
        "### Probando el modelo"
      ]
    },
    {
      "cell_type": "code",
      "execution_count": 67,
      "metadata": {
        "colab": {
          "base_uri": "https://localhost:8080/",
          "height": 605
        },
        "id": "XWhZlwOTO8eN",
        "outputId": "7e029819-f636-4a08-a75a-dd9e4753ae8f"
      },
      "outputs": [
        {
          "name": "stdout",
          "output_type": "stream",
          "text": [
            "              precision    recall  f1-score   support\n",
            "\n",
            "           0       0.94      0.48      0.64      7397\n",
            "           1       0.11      0.70      0.20       707\n",
            "\n",
            "    accuracy                           0.50      8104\n",
            "   macro avg       0.53      0.59      0.42      8104\n",
            "weighted avg       0.87      0.50      0.60      8104\n",
            "\n"
          ]
        },
        {
          "data": {
            "image/png": "[encoded data removed]",
            "text/plain": [
              "<Figure size 640x480 with 2 Axes>"
            ]
          },
          "metadata": {},
          "output_type": "display_data"
        }
      ],
      "source": [
        "undersample = NearMiss (version = 3)\n",
        "x_balanceada, y_balanceada = undersample.fit_resample(X,y)\n",
        "\n",
        "modelo = DecisionTreeClassifier(max_depth=10)\n",
        "modelo.fit(x_balanceada, y_balanceada)\n",
        "\n",
        "y_previsto = modelo.predict(X_test)\n",
        "\n",
        "print(classification_report(y_test,y_previsto))\n",
        "ConfusionMatrixDisplay.from_predictions (y_test,y_previsto, display_labels=['No moroso', 'Moroso']);"
      ]
    },
    {
      "cell_type": "markdown",
      "metadata": {
        "id": "Y1M3e6AmifZj"
      },
      "source": [
        "![confusion.png](data:image/png;base64,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)"
      ]
    },
    {
      "cell_type": "code",
      "execution_count": 68,
      "metadata": {
        "id": "nBLQAcXckuL0"
      },
      "outputs": [],
      "source": [
        "from imblearn.combine import SMOTEENN\n",
        "\n"
      ]
    },
    {
      "cell_type": "code",
      "execution_count": 69,
      "metadata": {
        "colab": {
          "base_uri": "https://localhost:8080/",
          "height": 605
        },
        "id": "SAdQZ06ok_9D",
        "outputId": "7526937b-90fd-4762-a6c6-ea4f6a286360"
      },
      "outputs": [
        {
          "name": "stdout",
          "output_type": "stream",
          "text": [
            "              precision    recall  f1-score   support\n",
            "\n",
            "           0       0.93      0.76      0.83      7397\n",
            "           1       0.13      0.36      0.19       707\n",
            "\n",
            "    accuracy                           0.72      8104\n",
            "   macro avg       0.53      0.56      0.51      8104\n",
            "weighted avg       0.86      0.72      0.78      8104\n",
            "\n"
          ]
        },
        {
          "data": {
            "image/png": "[encoded data removed]",
            "text/plain": [
              "<Figure size 640x480 with 2 Axes>"
            ]
          },
          "metadata": {},
          "output_type": "display_data"
        }
      ],
      "source": [
        "combination = SMOTEENN(sampling_strategy='minority')\n",
        "X_resampled, y_resampled = combination.fit_resample(X, y)\n",
        "\n",
        "modelo = DecisionTreeClassifier(max_depth=10)\n",
        "modelo.fit(X_resampled, y_resampled)\n",
        "\n",
        "y_previsto = modelo.predict(X_test)\n",
        "\n",
        "print(classification_report(y_test,y_previsto))\n",
        "ConfusionMatrixDisplay.from_predictions (y_test,y_previsto, display_labels=['No moroso', 'Moroso']);"
      ]
    },
    {
      "cell_type": "markdown",
      "metadata": {
        "id": "NtNQXCtzmZxM"
      },
      "source": [
        "### Ejercicio"
      ]
    },
    {
      "cell_type": "markdown",
      "metadata": {
        "id": "FqKJi0ItmexC"
      },
      "source": [
        "1 - El desbalanceo de los datos de la variable objetivo puede hacer que el modelo se incline a acertar los patrones de solo la categoría que tiene mayor cantidad, haciendo necesario en algunos casos un tratamiento específico de balanceo de datos. La etapa inicial es identificar si existe o no el desbalanceo de datos en la variable objetivo. Por eso, verifica la proporción de datos de la variable objetivo del conjunto de datos de diabetes. Este análisis puede hacerse a partir del porcentaje de datos, utilizando el método value_counts(normalize=True) o con la utilización de un gráfico de conteo, usando el gráfico countplot de la biblioteca seaborn para entender si hay un desbalanceo de datos."
      ]
    },
    {
      "cell_type": "code",
      "execution_count": 70,
      "metadata": {
        "colab": {
          "base_uri": "https://localhost:8080/",
          "height": 178
        },
        "id": "BAd39PzOmb5S",
        "outputId": "d5c9b074-7c23-4dea-f0cf-ffe0f6935079"
      },
      "outputs": [
        {
          "data": {
            "text/plain": [
              "diabetes\n",
              "0    0.670051\n",
              "1    0.329949\n",
              "Name: proportion, dtype: float64"
            ]
          },
          "execution_count": 70,
          "metadata": {},
          "output_type": "execute_result"
        }
      ],
      "source": [
        "dataset.diabetes.value_counts(normalize=True)"
      ]
    },
    {
      "cell_type": "markdown",
      "metadata": {
        "id": "hHjzMCTtm6mH"
      },
      "source": [
        "2 - Al realizar el balanceo de datos en una validación cruzada, es necesario utilizar un pipeline, para que los datos de validación no sean balanceados, manteniéndose en el estándar de los datos del mundo real. Utiliza un pipeline que contenga el ajuste del modelo y el balanceo de los datos usando el oversampling con SMOTE, obteniendo la media del F1-Score de una validación cruzada con StratifiedKFold."
      ]
    },
    {
      "cell_type": "code",
      "execution_count": 71,
      "metadata": {
        "id": "7tMg05qBm7mA"
      },
      "outputs": [],
      "source": [
        "modelo_dt = DecisionTreeClassifier(max_depth = 10)\n",
        "pipeline2 = imbPipeline([('oversampling', SMOTE()), ('arbol', modelo_dt)])\n",
        "skf2 = StratifiedKFold(n_splits=5, shuffle=True, random_state=5)\n",
        "cv = cross_validate(pipeline2, X2, y2, cv=skf2, scoring='f1')"
      ]
    },
    {
      "cell_type": "code",
      "execution_count": 72,
      "metadata": {
        "colab": {
          "base_uri": "https://localhost:8080/",
          "height": 53
        },
        "id": "0BAfgj9YqN_w",
        "outputId": "c23d5aef-3efa-4429-a7dc-e06586e63711"
      },
      "outputs": [
        {
          "data": {
            "text/plain": [
              "'El intervalo de confianza del modelo \"Modelo_dt oversampled con Pipeline\" es: [0.3494299003779813, 0.6353659055727803]'"
            ]
          },
          "execution_count": 72,
          "metadata": {},
          "output_type": "execute_result"
        }
      ],
      "source": [
        "intervalo_de_confianza(cv['test_score'], \"Modelo_dt oversampled con Pipeline\")"
      ]
    },
    {
      "cell_type": "markdown",
      "metadata": {
        "id": "b3P9TbHwqhq7"
      },
      "source": [
        "3 - Además del oversampling, es posible utilizar la estrategia de undersampling para hacer el balanceo de los datos. A pesar de ser estrategias distintas, ambas requieren de un pipeline por tratarse de balanceo de datos en una validación cruzada. Utiliza un pipeline que contenga el ajuste del modelo y el balanceo de los datos usando el undersampling con NearMiss en su versión 3, obteniendo la media del F1-Score de una validación cruzada con StratifiedKFold."
      ]
    },
    {
      "cell_type": "code",
      "execution_count": 73,
      "metadata": {
        "id": "Ll9LEZAFqigw"
      },
      "outputs": [],
      "source": [
        "modelo_dt = DecisionTreeClassifier(max_depth = 10)\n",
        "pipeline2 = imbPipeline([('undersample', NearMiss(version = 3)), ('arbol', modelo_dt)])\n",
        "skf2 = StratifiedKFold(n_splits=5, shuffle=True, random_state=5)\n",
        "cv = cross_validate(pipeline2, X2, y2, cv=skf2, scoring='recall')"
      ]
    },
    {
      "cell_type": "code",
      "execution_count": 74,
      "metadata": {
        "colab": {
          "base_uri": "https://localhost:8080/",
          "height": 53
        },
        "id": "hFCaj54FrG2X",
        "outputId": "619fce85-32fc-421c-87b0-8ccb233f2b89"
      },
      "outputs": [
        {
          "data": {
            "text/plain": [
              "'El intervalo de confianza del modelo \"Modelo undersampled con Pipeline\" es: [0.38056349231658565, 0.6294365076834144]'"
            ]
          },
          "execution_count": 74,
          "metadata": {},
          "output_type": "execute_result"
        }
      ],
      "source": [
        "intervalo_de_confianza(cv['test_score'], \"Modelo undersampled con Pipeline\")"
      ]
    },
    {
      "cell_type": "markdown",
      "metadata": {
        "id": "-uv30OeArWFy"
      },
      "source": [
        "4 - Después de realizar diversas análisis y mejorar el rendimiento de los modelos, llega la etapa final, que consiste en seleccionar el modelo con mejor rendimiento y hacer la evaluación final en un conjunto de datos de prueba, que no ha sido visto durante el proceso de entrenamiento y validación. Elige el modelo que obtuvo el mejor rendimiento al comparar las estrategias de oversampling y undersampling y entrena un modelo usando todos los datos con la mejor estrategia. Realiza la evaluación del modelo usando los datos de prueba que fueron separados al inicio de los desafíos, obteniendo el informe de métricas y matriz de confusión."
      ]
    },
    {
      "cell_type": "code",
      "execution_count": 75,
      "metadata": {
        "colab": {
          "base_uri": "https://localhost:8080/",
          "height": 611
        },
        "id": "ijOMEkqVrXCM",
        "outputId": "d88eccf3-4c9f-4810-c094-93a875a0ba71"
      },
      "outputs": [
        {
          "name": "stdout",
          "output_type": "stream",
          "text": [
            "              precision    recall  f1-score   support\n",
            "\n",
            "           0       0.60      0.46      0.52        13\n",
            "           1       0.30      0.43      0.35         7\n",
            "\n",
            "    accuracy                           0.45        20\n",
            "   macro avg       0.45      0.45      0.44        20\n",
            "weighted avg       0.49      0.45      0.46        20\n",
            "\n"
          ]
        },
        {
          "data": {
            "image/png": "[encoded data removed]",
            "text/plain": [
              "<Figure size 640x480 with 2 Axes>"
            ]
          },
          "metadata": {},
          "output_type": "display_data"
        }
      ],
      "source": [
        "undersample = NearMiss (version = 3)\n",
        "x_balanced, y_balanced = undersample.fit_resample(X2,y2)\n",
        "\n",
        "modelo_dt = DecisionTreeClassifier(max_depth=10)\n",
        "modelo_dt.fit(x_balanced, y_balanced)\n",
        "\n",
        "y2_previsto = modelo_dt.predict(X2_test)\n",
        "\n",
        "print(classification_report(y2_test,y2_previsto))\n",
        "ConfusionMatrixDisplay.from_predictions (y2_test,y2_previsto, display_labels=['Diabetes NO', 'Diabetes SI']);"
      ]
    }
  ],
  "metadata": {
    "colab": {
      "collapsed_sections": [
        "6lExmBuKn-xe",
        "EPrFcm39oAof",
        "WtlRAZt96VLG",
        "14ZjZ0K9-0LF"
      ],
      "include_colab_link": true,
      "provenance": [],
      "toc_visible": true
    },
    "kernelspec": {
      "display_name": "venv",
      "language": "python",
      "name": "python3"
    },
    "language_info": {
      "codemirror_mode": {
        "name": "ipython",
        "version": 3
      },
      "file_extension": ".py",
      "mimetype": "text/x-python",
      "name": "python",
      "nbconvert_exporter": "python",
      "pygments_lexer": "ipython3",
      "version": "3.10.12"
    }
  },
  "nbformat": 4,
  "nbformat_minor": 0
}
